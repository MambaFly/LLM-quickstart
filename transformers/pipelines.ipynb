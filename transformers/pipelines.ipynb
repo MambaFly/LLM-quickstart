{
 "cells": [
  {
   "cell_type": "markdown",
   "id": "417a9e80-e1be-4db4-bfa5-831570a39fe3",
   "metadata": {},
   "source": [
    "# HF Transformers 核心模块学习：Pipelines\n",
    "\n",
    "**Pipelines**（管道）是使用模型进行推理的一种简单易上手的方式。\n",
    "\n",
    "这些管道是抽象了 Transformers 库中大部分复杂代码的对象，提供了一个专门用于多种任务的简单API，包括**命名实体识别、掩码语言建模、情感分析、特征提取和问答**等。\n",
    "\n",
    "\n",
    "| Modality                    | Task                         | Description                                                | Pipeline API                                  |\n",
    "| --------------------------- | ---------------------------- | ---------------------------------------------------------- | --------------------------------------------- |\n",
    "| Audio                       | Audio classification         | 为音频文件分配一个标签                                     | pipeline(task=“audio-classification”)         |\n",
    "|                             | Automatic speech recognition | 将音频文件中的语音提取为文本                               | pipeline(task=“automatic-speech-recognition”) |\n",
    "| Computer vision             | Image classification         | 为图像分配一个标签                                         | pipeline(task=“image-classification”)         |\n",
    "|                             | Object detection             | 预测图像中目标对象的边界框和类别                           | pipeline(task=“object-detection”)             |\n",
    "|                             | Image segmentation           | 为图像中每个独立的像素分配标签（支持语义、全景和实例分割） | pipeline(task=“image-segmentation”)           |\n",
    "| Natural language processing | Text classification          | 为给定的文本序列分配一个标签                               | pipeline(task=“sentiment-analysis”)           |\n",
    "|                             | Token classification         | 为序列里的每个 token 分配一个标签（人, 组织, 地址等等）    | pipeline(task=“ner”)                          |\n",
    "|                             | Question answering           | 通过给定的上下文和问题, 在文本中提取答案                   | pipeline(task=“question-answering”)           |\n",
    "|                             | Summarization                | 为文本序列或文档生成总结                                   | pipeline(task=“summarization”)                |\n",
    "|                             | Translation                  | 将文本从一种语言翻译为另一种语言                           | pipeline(task=“translation”)                  |\n",
    "| Multimodal                  | Document question answering  | 根据给定的文档和问题回答一个关于该文档的问题。             | pipeline(task=“document-question-answering”)  |\n",
    "|                             | Visual Question Answering    | 给定一个图像和一个问题，正确地回答有关图像的问题           | pipeline(task=“vqa”)                          |\n",
    "\n",
    "\n",
    "\n",
    "Pipelines 已支持的完整任务列表：https://huggingface.co/docs/transformers/task_summary\n"
   ]
  },
  {
   "cell_type": "markdown",
   "id": "b9c38e82-e8f6-4af0-b257-b46f446aa249",
   "metadata": {
    "tags": []
   },
   "source": [
    "## transformers 自定义模型下载的路径\n",
    "\n",
    "在transformers自定义模型下载的路径方法\n",
    "\n",
    "```python\n",
    "import os\n",
    "\n",
    "os.environ['HF_HOME'] = '/mnt/new_volume/hf'\n",
    "os.environ['HF_HUB_CACHE'] = '/mnt/new_volume/hf/hub'\n",
    "```"
   ]
  },
  {
   "cell_type": "code",
   "execution_count": 1,
   "id": "410cdb1d-7bf5-4896-af2f-d3335722d6ae",
   "metadata": {
    "execution": {
     "iopub.execute_input": "2024-06-07T02:21:01.781091Z",
     "iopub.status.busy": "2024-06-07T02:21:01.780527Z",
     "iopub.status.idle": "2024-06-07T02:21:01.796207Z",
     "shell.execute_reply": "2024-06-07T02:21:01.794579Z",
     "shell.execute_reply.started": "2024-06-07T02:21:01.781036Z"
    }
   },
   "outputs": [],
   "source": [
    "import os\n",
    "# 设置镜像源地址\n",
    "os.environ[\"HF_ENDPOINT\"] = \"https://hf-mirror.com\"\n",
    "os.environ['HF_HOME'] = '/data/zlhu/LLM-quickstart/models/hf'\n",
    "os.environ['HF_HUB_CACHE'] = '/data/zlhu/LLM-quickstart/models/hf/hub'"
   ]
  },
  {
   "cell_type": "code",
   "execution_count": 11,
   "id": "27f1fbcd-20b5-487e-86ca-0dcaabeb3b2e",
   "metadata": {
    "execution": {
     "iopub.execute_input": "2024-06-06T08:29:19.318339Z",
     "iopub.status.busy": "2024-06-06T08:29:19.317766Z",
     "iopub.status.idle": "2024-06-06T08:32:00.239899Z",
     "shell.execute_reply": "2024-06-06T08:32:00.238026Z",
     "shell.execute_reply.started": "2024-06-06T08:29:19.318286Z"
    },
    "scrolled": true
   },
   "outputs": [
    {
     "name": "stderr",
     "output_type": "stream",
     "text": [
      "huggingface/tokenizers: The current process just got forked, after parallelism has already been used. Disabling parallelism to avoid deadlocks...\n",
      "To disable this warning, you can either:\n",
      "\t- Avoid using `tokenizers` before the fork if possible\n",
      "\t- Explicitly set the environment variable TOKENIZERS_PARALLELISM=(true | false)\n"
     ]
    },
    {
     "name": "stdout",
     "output_type": "stream",
     "text": [
      "Fetching 17 files:   0%|                                 | 0/17 [00:00<?, ?it/s]Downloading 'onnx/model.onnx' to '/data/zlhu/LLM-quickstart/models/hf/hub/models--distilbert-base-uncased-finetuned-sst-2-english/blobs/252cf7048af94a1599019fef35961b2bd3d6db13df0b0a4b032b92baeae31939.incomplete'\n",
      "Downloading 'onnx/added_tokens.json' to '/data/zlhu/LLM-quickstart/models/hf/hub/models--distilbert-base-uncased-finetuned-sst-2-english/blobs/f84095a3e2962f44bdd2f865e4333c35ae95d73f.incomplete'\n",
      "Downloading '.gitattributes' to '/data/zlhu/LLM-quickstart/models/hf/hub/models--distilbert-base-uncased-finetuned-sst-2-english/blobs/9a0990c5c0e00e26cc5ca4ba5c1c3ad533de7018.incomplete'\n",
      "Downloading 'map.jpeg' to '/data/zlhu/LLM-quickstart/models/hf/hub/models--distilbert-base-uncased-finetuned-sst-2-english/blobs/248fa5ab9d582a1e8255e3a562503e7ada42379e.incomplete'\n",
      "Downloading 'config.json' to '/data/zlhu/LLM-quickstart/models/hf/hub/models--distilbert-base-uncased-finetuned-sst-2-english/blobs/b57fe5dfcb8ec3f9bab35ed427c3434e3c7dd1ba.incomplete'\n",
      "Downloading 'onnx/config.json' to '/data/zlhu/LLM-quickstart/models/hf/hub/models--distilbert-base-uncased-finetuned-sst-2-english/blobs/7efee27005a6b1a2403dec53ea42846c70a14605.incomplete'\n",
      "\n",
      "model.onnx:   0%|                                    | 0.00/268M [00:00<?, ?B/s]\u001b[ADownloading 'README.md' to '/data/zlhu/LLM-quickstart/models/hf/hub/models--distilbert-base-uncased-finetuned-sst-2-english/blobs/ebf6c698d8ea8e13695550773d47438c4124ffee.incomplete'\n",
      "\n",
      "\n",
      "onnx/added_tokens.json: 100%|█████████████████| 82.0/82.0 [00:00<00:00, 365kB/s]\u001b[A\u001b[A\n",
      "Download complete. Moving file to /data/zlhu/LLM-quickstart/models/hf/hub/models--distilbert-base-uncased-finetuned-sst-2-english/blobs/f84095a3e2962f44bdd2f865e4333c35ae95d73f\n",
      "\n",
      "\n",
      "map.jpeg:   0%|                                     | 0.00/81.6k [00:00<?, ?B/s]\u001b[A\u001b[A\n",
      "\n",
      "\n",
      ".gitattributes: 100%|██████████████████████████| 399/399 [00:00<00:00, 1.80MB/s]\u001b[A\u001b[A\u001b[A\n",
      "Download complete. Moving file to /data/zlhu/LLM-quickstart/models/hf/hub/models--distilbert-base-uncased-finetuned-sst-2-english/blobs/9a0990c5c0e00e26cc5ca4ba5c1c3ad533de7018\n",
      "Fetching 17 files:   6%|█▍                       | 1/17 [00:00<00:13,  1.17it/s]Downloading 'model.safetensors' to '/data/zlhu/LLM-quickstart/models/hf/hub/models--distilbert-base-uncased-finetuned-sst-2-english/blobs/7c3919835e442510166d267fe7cbe847e0c51cd26d9ba07b89a57b952b49b8aa.incomplete'\n",
      "\n",
      "\n",
      "\n",
      "config.json: 629B [00:00, 1.72MB/s]                                             \u001b[A\u001b[A\u001b[A\n",
      "Download complete. Moving file to /data/zlhu/LLM-quickstart/models/hf/hub/models--distilbert-base-uncased-finetuned-sst-2-english/blobs/b57fe5dfcb8ec3f9bab35ed427c3434e3c7dd1ba\n",
      "\n",
      "\n",
      "\n",
      "onnx/config.json: 735B [00:00, 2.08MB/s]                                        \u001b[A\u001b[A\u001b[A\n",
      "Download complete. Moving file to /data/zlhu/LLM-quickstart/models/hf/hub/models--distilbert-base-uncased-finetuned-sst-2-english/blobs/7efee27005a6b1a2403dec53ea42846c70a14605\n",
      "\n",
      "\n",
      "map.jpeg: 100%|█████████████████████████████| 81.6k/81.6k [00:00<00:00, 381kB/s]\u001b[A\u001b[A\n",
      "Download complete. Moving file to /data/zlhu/LLM-quickstart/models/hf/hub/models--distilbert-base-uncased-finetuned-sst-2-english/blobs/248fa5ab9d582a1e8255e3a562503e7ada42379e\n",
      "\n",
      "\n",
      "README.md: 10.5kB [00:00, 19.1MB/s]A\n",
      "Download complete. Moving file to /data/zlhu/LLM-quickstart/models/hf/hub/models--distilbert-base-uncased-finetuned-sst-2-english/blobs/ebf6c698d8ea8e13695550773d47438c4124ffee\n",
      "Fetching 17 files:  12%|██▉                      | 2/17 [00:01<00:07,  2.06it/s]\n",
      "\n",
      "model.safetensors:   0%|                             | 0.00/268M [00:00<?, ?B/s]\u001b[A\u001b[ADownloading 'onnx/special_tokens_map.json' to '/data/zlhu/LLM-quickstart/models/hf/hub/models--distilbert-base-uncased-finetuned-sst-2-english/blobs/a8b3208c2884c4efb86e49300fdd3dc877220cdf.incomplete'\n",
      "Downloading 'onnx/tokenizer.json' to '/data/zlhu/LLM-quickstart/models/hf/hub/models--distilbert-base-uncased-finetuned-sst-2-english/blobs/688882a79f44442ddc1f60d70334a7ff5df0fb47.incomplete'\n",
      "\n",
      "model.onnx:   4%|█                          | 10.5M/268M [00:00<00:11, 22.1MB/s]\u001b[ADownloading 'onnx/tokenizer_config.json' to '/data/zlhu/LLM-quickstart/models/hf/hub/models--distilbert-base-uncased-finetuned-sst-2-english/blobs/1e8d194203eaef261e7091a792f87162b443ba94.incomplete'\n",
      "Downloading 'onnx/vocab.txt' to '/data/zlhu/LLM-quickstart/models/hf/hub/models--distilbert-base-uncased-finetuned-sst-2-english/blobs/fb140275c155a9c7c5a3b3e0e77a9e839594a938.incomplete'\n",
      "\n",
      "\n",
      "\n",
      "onnx/special_tokens_map.json: 100%|█████████████| 125/125 [00:00<00:00, 420kB/s]\u001b[A\u001b[A\u001b[A\n",
      "\n",
      "\n",
      "\n",
      "onnx/tokenizer.json: 0.00B [00:00, ?B/s]\u001b[A\u001b[A\u001b[ADownload complete. Moving file to /data/zlhu/LLM-quickstart/models/hf/hub/models--distilbert-base-uncased-finetuned-sst-2-english/blobs/a8b3208c2884c4efb86e49300fdd3dc877220cdf\n",
      "Downloading 'rust_model.ot' to '/data/zlhu/LLM-quickstart/models/hf/hub/models--distilbert-base-uncased-finetuned-sst-2-english/blobs/9db97da21b97a5e6db1212ce6a810a0c5e22c99daefe3355bae2117f78a0abb9.incomplete'\n",
      "Downloading 'pytorch_model.bin' to '/data/zlhu/LLM-quickstart/models/hf/hub/models--distilbert-base-uncased-finetuned-sst-2-english/blobs/60554cbd7781b09d87f1ececbea8c064b94e49a7f03fd88e8775bfe6cc3d9f88.incomplete'\n",
      "\n",
      "\n",
      "\n",
      "onnx/tokenizer.json: 131kB [00:00, 1.23MB/s]\u001b[A\u001b[A\u001b[A\n",
      "model.onnx:   8%|██                         | 21.0M/268M [00:00<00:09, 25.1MB/s]\u001b[A\n",
      "\n",
      "\n",
      "\n",
      "onnx/tokenizer_config.json: 1.28kB [00:00, 3.66MB/s]                            \u001b[A\u001b[A\u001b[A\u001b[A\n",
      "Download complete. Moving file to /data/zlhu/LLM-quickstart/models/hf/hub/models--distilbert-base-uncased-finetuned-sst-2-english/blobs/1e8d194203eaef261e7091a792f87162b443ba94\n",
      "\n",
      "\n",
      "\n",
      "onnx/tokenizer.json: 262kB [00:00, 1.21MB/s]\u001b[A\u001b[A\u001b[A\n",
      "\n",
      "\n",
      "\n",
      "onnx/vocab.txt: 0.00B [00:00, ?B/s]\u001b[A\u001b[A\u001b[A\u001b[A\n",
      "\n",
      "model.safetensors:   4%|▊                   | 10.5M/268M [00:00<00:15, 16.1MB/s]\u001b[A\u001b[ADownloading 'tf_model.h5' to '/data/zlhu/LLM-quickstart/models/hf/hub/models--distilbert-base-uncased-finetuned-sst-2-english/blobs/b44df675bb34ccd8e57c14292c811ac7358b7c8e37c7f212745f640cd6019ac8.incomplete'\n",
      "\n",
      "\n",
      "\n",
      "onnx/tokenizer.json: 711kB [00:00, 1.76MB/s]\u001b[A\u001b[A\u001b[A\n",
      "Download complete. Moving file to /data/zlhu/LLM-quickstart/models/hf/hub/models--distilbert-base-uncased-finetuned-sst-2-english/blobs/688882a79f44442ddc1f60d70334a7ff5df0fb47\n",
      "Downloading 'tokenizer_config.json' to '/data/zlhu/LLM-quickstart/models/hf/hub/models--distilbert-base-uncased-finetuned-sst-2-english/blobs/3ed34255a7cb8e6706a8bb21993836e99e7b959f.incomplete'\n",
      "\n",
      "\n",
      "\n",
      "\n",
      "onnx/vocab.txt: 131kB [00:00, 513kB/s]\u001b[A\u001b[A\u001b[A\u001b[A\n",
      "model.onnx:  12%|███▏                       | 31.5M/268M [00:01<00:09, 24.3MB/s]\u001b[A\n",
      "\n",
      "\n",
      "\n",
      "onnx/vocab.txt: 232kB [00:00, 609kB/s]\u001b[A\u001b[A\u001b[A\u001b[A\n",
      "Download complete. Moving file to /data/zlhu/LLM-quickstart/models/hf/hub/models--distilbert-base-uncased-finetuned-sst-2-english/blobs/fb140275c155a9c7c5a3b3e0e77a9e839594a938\n",
      "\n",
      "\n",
      "model.safetensors:   8%|█▌                  | 21.0M/268M [00:01<00:11, 21.5MB/s]\u001b[A\u001b[A\n",
      "\n",
      "\n",
      "tokenizer_config.json: 100%|██████████████████| 48.0/48.0 [00:00<00:00, 204kB/s]\u001b[A\u001b[A\u001b[A\n",
      "Download complete. Moving file to /data/zlhu/LLM-quickstart/models/hf/hub/models--distilbert-base-uncased-finetuned-sst-2-english/blobs/3ed34255a7cb8e6706a8bb21993836e99e7b959f\n",
      "\n",
      "model.onnx:  16%|████▏                      | 41.9M/268M [00:01<00:07, 28.9MB/s]\u001b[A\n",
      "\n",
      "model.safetensors:  12%|██▎                 | 31.5M/268M [00:01<00:07, 29.6MB/s]\u001b[A\u001b[A\n",
      "model.onnx:  20%|█████▎                     | 52.4M/268M [00:01<00:06, 32.1MB/s]\u001b[A\n",
      "\n",
      "model.safetensors:  16%|███▏                | 41.9M/268M [00:01<00:07, 28.7MB/s]\u001b[A\u001b[A\n",
      "\n",
      "\n",
      "pytorch_model.bin:   0%|                             | 0.00/268M [00:00<?, ?B/s]\u001b[A\u001b[A\u001b[A\n",
      "model.onnx:  23%|██████▎                    | 62.9M/268M [00:02<00:06, 30.0MB/s]\u001b[A\n",
      "\n",
      "\n",
      "\n",
      "rust_model.ot:   0%|                                 | 0.00/268M [00:00<?, ?B/s]\u001b[A\u001b[A\u001b[A\u001b[A\n",
      "\n",
      "model.safetensors:  20%|███▉                | 52.4M/268M [00:02<00:08, 24.8MB/s]\u001b[A\u001b[A\n",
      "model.onnx:  27%|███████▍                   | 73.4M/268M [00:02<00:07, 27.3MB/s]\u001b[A\n",
      "\n",
      "\n",
      "pytorch_model.bin:   4%|▊                   | 10.5M/268M [00:00<00:17, 15.0MB/s]\u001b[A\u001b[A\u001b[A\n",
      "model.onnx:  31%|████████▍                  | 83.9M/268M [00:03<00:06, 27.0MB/s]\u001b[A\n",
      "\n",
      "\n",
      "pytorch_model.bin:   8%|█▌                  | 21.0M/268M [00:01<00:13, 18.3MB/s]\u001b[A\u001b[A\u001b[A\n",
      "\n",
      "model.safetensors:  23%|████▋               | 62.9M/268M [00:02<00:11, 18.5MB/s]\u001b[A\u001b[A\n",
      "model.onnx:  35%|█████████▌                 | 94.4M/268M [00:03<00:06, 25.3MB/s]\u001b[A\n",
      "\n",
      "\n",
      "pytorch_model.bin:  12%|██▎                 | 31.5M/268M [00:01<00:10, 21.6MB/s]\u001b[A\u001b[A\u001b[A\n",
      "\n",
      "model.safetensors:  27%|█████▍              | 73.4M/268M [00:03<00:10, 19.3MB/s]\u001b[A\u001b[A\n",
      "\n",
      "\n",
      "pytorch_model.bin:  16%|███▏                | 41.9M/268M [00:02<00:10, 22.2MB/s]\u001b[A\u001b[A\u001b[A\n",
      "model.onnx:  39%|██████████▉                 | 105M/268M [00:04<00:06, 23.9MB/s]\u001b[A\n",
      "\n",
      "\n",
      "\n",
      "\n",
      "tf_model.h5:   0%|                                   | 0.00/268M [00:00<?, ?B/s]\u001b[A\u001b[A\u001b[A\u001b[A\u001b[A\n",
      "\n",
      "model.safetensors:  31%|██████▎             | 83.9M/268M [00:04<00:09, 18.9MB/s]\u001b[A\u001b[A\n",
      "model.onnx:  43%|████████████                | 115M/268M [00:04<00:06, 24.7MB/s]\u001b[A\n",
      "\n",
      "\n",
      "pytorch_model.bin:  20%|███▉                | 52.4M/268M [00:02<00:09, 22.9MB/s]\u001b[A\u001b[A\u001b[A\n",
      "model.onnx:  47%|█████████████▏              | 126M/268M [00:04<00:05, 25.3MB/s]\u001b[A\n",
      "\n",
      "\n",
      "pytorch_model.bin:  23%|████▋               | 62.9M/268M [00:02<00:08, 24.1MB/s]\u001b[A\u001b[A\u001b[A\n",
      "\n",
      "model.safetensors:  35%|███████             | 94.4M/268M [00:04<00:09, 18.5MB/s]\u001b[A\u001b[A\n",
      "\n",
      "\n",
      "pytorch_model.bin:  27%|█████▍              | 73.4M/268M [00:03<00:07, 24.5MB/s]\u001b[A\u001b[A\u001b[A\n",
      "model.onnx:  51%|██████████████▏             | 136M/268M [00:05<00:05, 24.8MB/s]\u001b[A\n",
      "\n",
      "model.safetensors:  39%|████████▏            | 105M/268M [00:05<00:08, 20.0MB/s]\u001b[A\u001b[A\n",
      "model.onnx:  55%|███████████████▎            | 147M/268M [00:05<00:04, 25.3MB/s]\u001b[A\n",
      "\n",
      "\n",
      "pytorch_model.bin:  31%|██████▎             | 83.9M/268M [00:03<00:07, 23.4MB/s]\u001b[A\u001b[A\u001b[A\n",
      "\n",
      "model.safetensors:  43%|█████████            | 115M/268M [00:05<00:07, 19.6MB/s]\u001b[A\u001b[A\n",
      "\n",
      "\n",
      "\n",
      "rust_model.ot:   4%|▉                       | 10.5M/268M [00:03<01:27, 2.93MB/s]\u001b[A\u001b[A\u001b[A\u001b[A\n",
      "model.onnx:  59%|████████████████▍           | 157M/268M [00:06<00:04, 25.6MB/s]\u001b[A\n",
      "\n",
      "\n",
      "pytorch_model.bin:  35%|███████             | 94.4M/268M [00:04<00:07, 23.4MB/s]\u001b[A\u001b[A\u001b[A\n",
      "model.onnx:  63%|█████████████████▌          | 168M/268M [00:06<00:03, 25.7MB/s]\u001b[A\n",
      "\n",
      "model.safetensors:  47%|█████████▊           | 126M/268M [00:06<00:07, 20.1MB/s]\u001b[A\u001b[A\n",
      "\n",
      "\n",
      "pytorch_model.bin:  39%|████████▏            | 105M/268M [00:04<00:06, 23.3MB/s]\u001b[A\u001b[A\u001b[A\n",
      "model.onnx:  67%|██████████████████▋         | 178M/268M [00:06<00:03, 26.3MB/s]\u001b[A\n",
      "\n",
      "model.safetensors:  51%|██████████▋          | 136M/268M [00:06<00:06, 19.7MB/s]\u001b[A\u001b[A\n",
      "\n",
      "\n",
      "pytorch_model.bin:  43%|█████████            | 115M/268M [00:05<00:06, 23.1MB/s]\u001b[A\u001b[A\u001b[A\n",
      "model.onnx:  70%|███████████████████▋        | 189M/268M [00:07<00:02, 26.4MB/s]\u001b[A\n",
      "\n",
      "\n",
      "\n",
      "rust_model.ot:   8%|█▉                      | 21.0M/268M [00:04<00:52, 4.74MB/s]\u001b[A\u001b[A\u001b[A\u001b[A\n",
      "model.onnx:  74%|████████████████████▊       | 199M/268M [00:07<00:02, 26.9MB/s]\u001b[A\n",
      "\n",
      "\n",
      "pytorch_model.bin:  47%|█████████▊           | 126M/268M [00:05<00:06, 22.4MB/s]\u001b[A\u001b[A\u001b[A\n",
      "\n",
      "model.safetensors:  55%|███████████▌         | 147M/268M [00:07<00:06, 18.5MB/s]\u001b[A\u001b[A\n",
      "model.onnx:  78%|█████████████████████▉      | 210M/268M [00:08<00:02, 26.6MB/s]\u001b[A\n",
      "\n",
      "\n",
      "pytorch_model.bin:  51%|██████████▋          | 136M/268M [00:06<00:05, 23.1MB/s]\u001b[A\u001b[A\u001b[A\n",
      "\n",
      "\n",
      "\n",
      "rust_model.ot:  12%|██▊                     | 31.5M/268M [00:05<00:36, 6.56MB/s]\u001b[A\u001b[A\u001b[A\u001b[A\n",
      "\n",
      "model.safetensors:  59%|████████████▎        | 157M/268M [00:07<00:05, 19.1MB/s]\u001b[A\u001b[A\n",
      "model.onnx:  82%|███████████████████████     | 220M/268M [00:08<00:01, 26.3MB/s]\u001b[A\n",
      "\n",
      "\n",
      "pytorch_model.bin:  55%|███████████▌         | 147M/268M [00:06<00:05, 22.2MB/s]\u001b[A\u001b[A\u001b[A\n",
      "\n",
      "model.safetensors:  63%|█████████████▏       | 168M/268M [00:08<00:05, 18.8MB/s]\u001b[A\u001b[A\n",
      "\n",
      "\n",
      "\n",
      "rust_model.ot:  16%|███▊                    | 41.9M/268M [00:06<00:26, 8.59MB/s]\u001b[A\u001b[A\u001b[A\u001b[A\n",
      "model.onnx:  86%|████████████████████████    | 231M/268M [00:08<00:01, 26.2MB/s]\u001b[A\n",
      "\n",
      "\n",
      "pytorch_model.bin:  59%|████████████▎        | 157M/268M [00:07<00:05, 21.0MB/s]\u001b[A\u001b[A\u001b[A\n",
      "model.onnx:  90%|█████████████████████████▏  | 241M/268M [00:09<00:01, 26.4MB/s]\u001b[A\n",
      "\n",
      "model.safetensors:  67%|█████████████▉       | 178M/268M [00:08<00:04, 18.9MB/s]\u001b[A\u001b[A\n",
      "\n",
      "\n",
      "\n",
      "rust_model.ot:  20%|████▋                   | 52.4M/268M [00:07<00:21, 10.2MB/s]\u001b[A\u001b[A\u001b[A\u001b[A\n",
      "\n",
      "\n",
      "pytorch_model.bin:  63%|█████████████▏       | 168M/268M [00:07<00:04, 21.4MB/s]\u001b[A\u001b[A\u001b[A\n",
      "model.onnx:  94%|██████████████████████████▎ | 252M/268M [00:09<00:00, 26.5MB/s]\u001b[A\n",
      "\n",
      "model.safetensors:  70%|██████████████▊      | 189M/268M [00:09<00:04, 18.8MB/s]\u001b[A\u001b[A\n",
      "\n",
      "\n",
      "\n",
      "rust_model.ot:  23%|█████▋                  | 62.9M/268M [00:07<00:16, 12.6MB/s]\u001b[A\u001b[A\u001b[A\u001b[A\n",
      "model.onnx:  98%|███████████████████████████▍| 262M/268M [00:09<00:00, 26.6MB/s]\u001b[A\n",
      "\n",
      "\n",
      "pytorch_model.bin:  67%|█████████████▉       | 178M/268M [00:08<00:04, 20.3MB/s]\u001b[A\u001b[A\u001b[A\n",
      "model.onnx: 100%|████████████████████████████| 268M/268M [00:10<00:00, 26.0MB/s]\u001b[A\n",
      "\n",
      "\n",
      "model.safetensors:  74%|███████████████▌     | 199M/268M [00:09<00:03, 19.9MB/s]\u001b[A\u001b[A\n",
      "\n",
      "\n",
      "\n",
      "rust_model.ot:  27%|██████▌                 | 73.4M/268M [00:07<00:13, 14.6MB/s]\u001b[A\u001b[A\u001b[A\u001b[A\n",
      "\n",
      "\n",
      "pytorch_model.bin:  70%|██████████████▊      | 189M/268M [00:08<00:03, 22.5MB/s]\u001b[A\u001b[A\u001b[A\n",
      "\n",
      "\n",
      "\n",
      "rust_model.ot:  31%|███████▌                | 83.9M/268M [00:08<00:10, 17.2MB/s]\u001b[A\u001b[A\u001b[A\u001b[A\n",
      "\n",
      "\n",
      "pytorch_model.bin:  74%|███████████████▌     | 199M/268M [00:08<00:02, 24.4MB/s]\u001b[A\u001b[A\u001b[A\n",
      "\n",
      "model.safetensors:  78%|████████████████▍    | 210M/268M [00:10<00:03, 18.0MB/s]\u001b[A\u001b[A\n",
      "\n",
      "\n",
      "\n",
      "rust_model.ot:  35%|████████▍               | 94.4M/268M [00:08<00:08, 20.2MB/s]\u001b[A\u001b[A\u001b[A\u001b[A\n",
      "\n",
      "\n",
      "pytorch_model.bin:  78%|████████████████▍    | 210M/268M [00:09<00:02, 24.8MB/s]\u001b[A\u001b[A\u001b[A\n",
      "\n",
      "\n",
      "pytorch_model.bin:  82%|█████████████████▎   | 220M/268M [00:09<00:01, 25.1MB/s]\u001b[A\u001b[A\u001b[A\n",
      "\n",
      "\n",
      "\n",
      "rust_model.ot:  39%|█████████▊               | 105M/268M [00:09<00:08, 19.9MB/s]\u001b[A\u001b[A\u001b[A\u001b[A\n",
      "\n",
      "model.safetensors:  82%|█████████████████▎   | 220M/268M [00:11<00:02, 17.7MB/s]\u001b[A\u001b[A\n",
      "\n",
      "model.safetensors:  86%|██████████████████   | 231M/268M [00:11<00:01, 19.5MB/s]\u001b[A\u001b[A\n",
      "\n",
      "\n",
      "\n",
      "rust_model.ot:  43%|██████████▊              | 115M/268M [00:09<00:07, 21.0MB/s]\u001b[A\u001b[A\u001b[A\u001b[A\n",
      "\n",
      "\n",
      "pytorch_model.bin:  86%|██████████████████   | 231M/268M [00:10<00:01, 24.1MB/s]\u001b[A\u001b[A\u001b[A\n",
      "\n",
      "\n",
      "pytorch_model.bin:  90%|██████████████████▉  | 241M/268M [00:10<00:01, 26.0MB/s]\u001b[A\u001b[A\u001b[A\n",
      "\n",
      "model.safetensors:  90%|██████████████████▉  | 241M/268M [00:12<00:01, 20.8MB/s]\u001b[A\u001b[A\n",
      "\n",
      "\n",
      "pytorch_model.bin:  94%|███████████████████▋ | 252M/268M [00:10<00:00, 30.1MB/s]\u001b[A\u001b[A\u001b[A\n",
      "\n",
      "model.safetensors:  94%|███████████████████▋ | 252M/268M [00:12<00:00, 24.2MB/s]\u001b[A\u001b[A\n",
      "\n",
      "\n",
      "pytorch_model.bin:  98%|████████████████████▌| 262M/268M [00:10<00:00, 34.3MB/s]\u001b[A\u001b[A\u001b[A\n",
      "\n",
      "\n",
      "pytorch_model.bin: 100%|█████████████████████| 268M/268M [00:11<00:00, 24.3MB/s]\u001b[A\u001b[A\u001b[A\n",
      "\n",
      "\n",
      "model.safetensors:  98%|████████████████████▌| 262M/268M [00:12<00:00, 25.2MB/s]\u001b[A\u001b[A\n",
      "\n",
      "model.safetensors: 100%|█████████████████████| 268M/268M [00:13<00:00, 20.6MB/s]\u001b[A\u001b[A\n",
      "\n",
      "\n",
      "\n",
      "\n",
      "rust_model.ot:  47%|███████████▋             | 126M/268M [00:11<00:10, 13.0MB/s]\u001b[A\u001b[A\u001b[A\u001b[A\n",
      "\n",
      "\n",
      "\n",
      "\n",
      "tf_model.h5:   4%|█                         | 10.5M/268M [00:09<03:55, 1.09MB/s]\u001b[A\u001b[A\u001b[A\u001b[A\u001b[A\n",
      "\n",
      "\n",
      "\n",
      "rust_model.ot:  51%|████████████▋            | 136M/268M [00:11<00:07, 16.6MB/s]\u001b[A\u001b[A\u001b[A\u001b[A\n",
      "\n",
      "\n",
      "\n",
      "rust_model.ot:  55%|█████████████▋           | 147M/268M [00:11<00:05, 20.7MB/s]\u001b[A\u001b[A\u001b[A\u001b[A\n",
      "\n",
      "\n",
      "\n",
      "rust_model.ot:  59%|██████████████▋          | 157M/268M [00:12<00:05, 20.2MB/s]\u001b[A\u001b[A\u001b[A\u001b[A\n",
      "\n",
      "\n",
      "\n",
      "rust_model.ot:  63%|███████████████▋         | 168M/268M [00:12<00:05, 19.7MB/s]\u001b[A\u001b[A\u001b[A\u001b[A\n",
      "\n",
      "\n",
      "\n",
      "rust_model.ot:  67%|████████████████▋        | 178M/268M [00:13<00:04, 20.7MB/s]\u001b[A\u001b[A\u001b[A\u001b[A\n",
      "\n",
      "\n",
      "\n",
      "rust_model.ot:  70%|█████████████████▌       | 189M/268M [00:13<00:03, 20.1MB/s]\u001b[A\u001b[A\u001b[A\u001b[A\n",
      "\n",
      "\n",
      "\n",
      "rust_model.ot:  74%|██████████████████▌      | 199M/268M [00:14<00:03, 20.8MB/s]\u001b[A\u001b[A\u001b[A\u001b[A\n",
      "\n",
      "\n",
      "\n",
      "rust_model.ot:  78%|███████████████████▌     | 210M/268M [00:14<00:02, 20.4MB/s]\u001b[A\u001b[A\u001b[A\u001b[A\n",
      "\n",
      "\n",
      "\n",
      "rust_model.ot:  82%|████████████████████▌    | 220M/268M [00:15<00:02, 21.3MB/s]\u001b[A\u001b[A\u001b[A\u001b[A\n",
      "\n",
      "\n",
      "\n",
      "rust_model.ot:  86%|█████████████████████▌   | 231M/268M [00:15<00:01, 20.3MB/s]\u001b[A\u001b[A\u001b[A\u001b[A\n",
      "\n",
      "\n",
      "\n",
      "rust_model.ot:  90%|██████████████████████▌  | 241M/268M [00:16<00:01, 19.9MB/s]\u001b[A\u001b[A\u001b[A\u001b[A\n",
      "\n",
      "\n",
      "\n",
      "rust_model.ot:  94%|███████████████████████▍ | 252M/268M [00:16<00:00, 20.9MB/s]\u001b[A\u001b[A\u001b[A\u001b[A\n",
      "\n",
      "\n",
      "\n",
      "rust_model.ot:  98%|████████████████████████▍| 262M/268M [00:17<00:00, 20.1MB/s]\u001b[A\u001b[A\u001b[A\u001b[A\n",
      "\n",
      "\n",
      "\n",
      "rust_model.ot: 100%|█████████████████████████| 268M/268M [00:17<00:00, 15.3MB/s]\u001b[A\u001b[A\u001b[A\u001b[A\n",
      "\n",
      "\n",
      "\n",
      "\n",
      "\n",
      "tf_model.h5:   8%|██                        | 21.0M/268M [00:16<03:05, 1.33MB/s]\u001b[A\u001b[A\u001b[A\u001b[A\u001b[A\n",
      "\n",
      "\n",
      "\n",
      "\n",
      "tf_model.h5:  12%|███                       | 31.5M/268M [00:19<02:13, 1.77MB/s]\u001b[A\u001b[A\u001b[A\u001b[A\u001b[A\n",
      "\n",
      "\n",
      "\n",
      "\n",
      "tf_model.h5:  16%|████                      | 41.9M/268M [00:24<01:57, 1.93MB/s]\u001b[A\u001b[A\u001b[A\u001b[A\u001b[ADownload complete. Moving file to /data/zlhu/LLM-quickstart/models/hf/hub/models--distilbert-base-uncased-finetuned-sst-2-english/blobs/252cf7048af94a1599019fef35961b2bd3d6db13df0b0a4b032b92baeae31939\n",
      "Download complete. Moving file to /data/zlhu/LLM-quickstart/models/hf/hub/models--distilbert-base-uncased-finetuned-sst-2-english/blobs/60554cbd7781b09d87f1ececbea8c064b94e49a7f03fd88e8775bfe6cc3d9f88\n",
      "Download complete. Moving file to /data/zlhu/LLM-quickstart/models/hf/hub/models--distilbert-base-uncased-finetuned-sst-2-english/blobs/7c3919835e442510166d267fe7cbe847e0c51cd26d9ba07b89a57b952b49b8aa\n",
      "Fetching 17 files:  29%|███████▎                 | 5/17 [00:31<01:28,  7.42s/it]Download complete. Moving file to /data/zlhu/LLM-quickstart/models/hf/hub/models--distilbert-base-uncased-finetuned-sst-2-english/blobs/9db97da21b97a5e6db1212ce6a810a0c5e22c99daefe3355bae2117f78a0abb9\n",
      "\n",
      "\n",
      "\n",
      "\n",
      "\n",
      "tf_model.h5:  20%|█████                     | 52.4M/268M [00:28<01:40, 2.15MB/s]\u001b[A\u001b[A\u001b[A\u001b[A\u001b[A\n",
      "\n",
      "\n",
      "\n",
      "\n",
      "tf_model.h5:  23%|██████                    | 62.9M/268M [00:32<01:28, 2.31MB/s]\u001b[A\u001b[A\u001b[A\u001b[A\u001b[A\n",
      "\n",
      "\n",
      "\n",
      "\n",
      "tf_model.h5:  27%|███████                   | 73.4M/268M [00:36<01:20, 2.43MB/s]\u001b[A\u001b[A\u001b[A\u001b[A\u001b[A\n",
      "\n",
      "\n",
      "\n",
      "\n",
      "tf_model.h5:  31%|████████▏                 | 83.9M/268M [00:42<01:27, 2.11MB/s]\u001b[A\u001b[A\u001b[A\u001b[A\u001b[A\n",
      "\n",
      "\n",
      "\n",
      "\n",
      "tf_model.h5:  35%|█████████▏                | 94.4M/268M [00:47<01:23, 2.07MB/s]\u001b[A\u001b[A\u001b[A\u001b[A\u001b[A\n",
      "\n",
      "\n",
      "\n",
      "\n",
      "tf_model.h5:  39%|██████████▌                | 105M/268M [00:53<01:19, 2.05MB/s]\u001b[A\u001b[A\u001b[A\u001b[A\u001b[A\n",
      "\n",
      "\n",
      "\n",
      "\n",
      "tf_model.h5:  43%|███████████▌               | 115M/268M [00:58<01:14, 2.04MB/s]\u001b[A\u001b[A\u001b[A\u001b[A\u001b[A\n",
      "\n",
      "\n",
      "\n",
      "\n",
      "tf_model.h5:  47%|████████████▋              | 126M/268M [01:04<01:13, 1.94MB/s]\u001b[A\u001b[A\u001b[A\u001b[A\u001b[A\n",
      "\n",
      "\n",
      "\n",
      "\n",
      "tf_model.h5:  51%|█████████████▋             | 136M/268M [01:11<01:14, 1.77MB/s]\u001b[A\u001b[A\u001b[A\u001b[A\u001b[A\n",
      "\n",
      "\n",
      "\n",
      "\n",
      "tf_model.h5:  55%|██████████████▊            | 147M/268M [01:15<01:03, 1.90MB/s]\u001b[A\u001b[A\u001b[A\u001b[A\u001b[A\n",
      "\n",
      "\n",
      "\n",
      "\n",
      "tf_model.h5:  59%|███████████████▊           | 157M/268M [01:21<00:56, 1.95MB/s]\u001b[A\u001b[A\u001b[A\u001b[A\u001b[A\n",
      "\n",
      "\n",
      "\n",
      "\n",
      "tf_model.h5:  63%|████████████████▉          | 168M/268M [01:26<00:50, 1.99MB/s]\u001b[A\u001b[A\u001b[A\u001b[A\u001b[A\n",
      "\n",
      "\n",
      "\n",
      "\n",
      "tf_model.h5:  67%|█████████████████▉         | 178M/268M [01:32<00:48, 1.84MB/s]\u001b[A\u001b[A\u001b[A\u001b[A\u001b[A\n",
      "\n",
      "\n",
      "\n",
      "\n",
      "tf_model.h5:  70%|███████████████████        | 189M/268M [01:39<00:45, 1.74MB/s]\u001b[A\u001b[A\u001b[A\u001b[A\u001b[A\n",
      "\n",
      "\n",
      "\n",
      "\n",
      "tf_model.h5:  74%|████████████████████       | 199M/268M [01:44<00:38, 1.80MB/s]\u001b[A\u001b[A\u001b[A\u001b[A\u001b[A\n",
      "\n",
      "\n",
      "\n",
      "\n",
      "tf_model.h5:  78%|█████████████████████▏     | 210M/268M [01:50<00:31, 1.85MB/s]\u001b[A\u001b[A\u001b[A\u001b[A\u001b[A\n",
      "\n",
      "\n",
      "\n",
      "\n",
      "tf_model.h5:  82%|██████████████████████▏    | 220M/268M [01:58<00:29, 1.59MB/s]\u001b[A\u001b[A\u001b[A\u001b[A\u001b[A\n",
      "\n",
      "\n",
      "\n",
      "\n",
      "tf_model.h5:  86%|███████████████████████▏   | 231M/268M [02:06<00:23, 1.55MB/s]\u001b[A\u001b[A\u001b[A\u001b[A\u001b[A\n",
      "\n",
      "\n",
      "\n",
      "\n",
      "tf_model.h5:  90%|████████████████████████▎  | 241M/268M [02:12<00:17, 1.57MB/s]\u001b[A\u001b[A\u001b[A\u001b[A\u001b[A\n",
      "\n",
      "\n",
      "\n",
      "\n",
      "tf_model.h5:  94%|█████████████████████████▎ | 252M/268M [02:21<00:11, 1.42MB/s]\u001b[A\u001b[A\u001b[A\u001b[A\u001b[A\n",
      "\n",
      "\n",
      "\n",
      "\n",
      "tf_model.h5:  98%|██████████████████████████▍| 262M/268M [02:29<00:04, 1.38MB/s]\u001b[A\u001b[A\u001b[A\u001b[A\u001b[A\n",
      "\n",
      "\n",
      "\n",
      "\n",
      "tf_model.h5: 100%|███████████████████████████| 268M/268M [02:33<00:00, 1.74MB/s]\u001b[A\u001b[A\u001b[A\u001b[A\u001b[A\n",
      "Download complete. Moving file to /data/zlhu/LLM-quickstart/models/hf/hub/models--distilbert-base-uncased-finetuned-sst-2-english/blobs/b44df675bb34ccd8e57c14292c811ac7358b7c8e37c7f212745f640cd6019ac8\n",
      "Fetching 17 files: 100%|████████████████████████| 17/17 [02:38<00:00,  9.35s/it]\n",
      "/data/zlhu/LLM-quickstart/models/hf/hub/models--distilbert-base-uncased-finetuned-sst-2-english/snapshots/714eb0fa89d2f80546fda750413ed43d93601a13\n"
     ]
    }
   ],
   "source": [
    "!huggingface-cli download distilbert-base-uncased-finetuned-sst-2-english"
   ]
  },
  {
   "cell_type": "markdown",
   "id": "418f2e3c-a185-4164-ab8b-3b8c98c3b4a5",
   "metadata": {},
   "source": [
    "## Pipeline API\n",
    "\n",
    "**Pipeline API** 是对所有其他可用管道的包装。它可以像任何其他管道一样实例化，并且降低AI推理的学习和使用成本。\n",
    "\n",
    "![](docs/images/pipeline_func.png)\n",
    "\n",
    "### 使用 Pipeline API 实现 Text Classification 任务\n",
    "\n",
    "\n",
    "**Text classification**(文本分类)与任何模态中的分类任务一样，文本分类将一个文本序列（可以是句子级别、段落或者整篇文章）标记为预定义的类别集合之一。文本分类有许多实际应用，其中包括：\n",
    "\n",
    "- 情感分析：根据某种极性（如积极或消极）对文本进行标记，以在政治、金融和市场等领域支持决策制定。\n",
    "- 内容分类：根据某个主题对文本进行标记，以帮助组织和过滤新闻和社交媒体信息流中的信息（天气、体育、金融等）。\n",
    "\n",
    "\n",
    "下面以 `Text classification` 中的情感分析任务为例，展示如何使用 Pipeline API。\n",
    "\n",
    "模型主页：https://huggingface.co/distilbert-base-uncased-finetuned-sst-2-english"
   ]
  },
  {
   "cell_type": "code",
   "execution_count": 3,
   "id": "9684ec5f-9460-4876-9883-69380eacb0e7",
   "metadata": {
    "execution": {
     "iopub.execute_input": "2024-06-07T02:24:51.905610Z",
     "iopub.status.busy": "2024-06-07T02:24:51.904556Z",
     "iopub.status.idle": "2024-06-07T02:24:52.523444Z",
     "shell.execute_reply": "2024-06-07T02:24:52.522632Z",
     "shell.execute_reply.started": "2024-06-07T02:24:51.905548Z"
    }
   },
   "outputs": [
    {
     "name": "stderr",
     "output_type": "stream",
     "text": [
      "No model was supplied, defaulted to distilbert-base-uncased-finetuned-sst-2-english and revision af0f99b (https://hf-mirror.com/distilbert-base-uncased-finetuned-sst-2-english).\n",
      "Using a pipeline without specifying a model name and revision in production is not recommended.\n"
     ]
    },
    {
     "data": {
      "text/plain": [
       "[{'label': 'NEGATIVE', 'score': 0.8957212567329407}]"
      ]
     },
     "execution_count": 3,
     "metadata": {},
     "output_type": "execute_result"
    }
   ],
   "source": [
    "from transformers import pipeline\n",
    "\n",
    "# 仅指定任务时，使用默认模型（不推荐）\n",
    "pipe = pipeline(\"sentiment-analysis\")\n",
    "pipe(\"今儿上海可真冷啊\")"
   ]
  },
  {
   "cell_type": "markdown",
   "id": "f68b50d2-4de9-4b3a-867c-33956b301153",
   "metadata": {},
   "source": [
    "### 中文模型测试"
   ]
  },
  {
   "cell_type": "code",
   "execution_count": 96,
   "id": "e80dd129-6341-4545-896c-8be690b2c229",
   "metadata": {
    "execution": {
     "iopub.execute_input": "2024-06-07T04:33:37.463756Z",
     "iopub.status.busy": "2024-06-07T04:33:37.463110Z",
     "iopub.status.idle": "2024-06-07T04:33:37.947092Z",
     "shell.execute_reply": "2024-06-07T04:33:37.946373Z",
     "shell.execute_reply.started": "2024-06-07T04:33:37.463703Z"
    }
   },
   "outputs": [],
   "source": [
    "sentiment_cn = pipeline(\"sentiment-analysis\",model='techthiyanes/chinese_sentiment')"
   ]
  },
  {
   "cell_type": "code",
   "execution_count": 100,
   "id": "adc61705-2ff1-49c6-a9b9-a10a132f0a79",
   "metadata": {
    "execution": {
     "iopub.execute_input": "2024-06-07T04:37:18.311821Z",
     "iopub.status.busy": "2024-06-07T04:37:18.311150Z",
     "iopub.status.idle": "2024-06-07T04:37:18.401539Z",
     "shell.execute_reply": "2024-06-07T04:37:18.400880Z",
     "shell.execute_reply.started": "2024-06-07T04:37:18.311766Z"
    }
   },
   "outputs": [
    {
     "data": {
      "text/plain": [
       "[{'label': 'star 1', 'score': 0.7263781428337097}]"
      ]
     },
     "execution_count": 100,
     "metadata": {},
     "output_type": "execute_result"
    }
   ],
   "source": [
    "sentiment_cn(\"太糟糕了，烦死啦\")"
   ]
  },
  {
   "cell_type": "markdown",
   "id": "22153cca-1dac-47ac-a865-c1cc78d7fbb9",
   "metadata": {},
   "source": [
    "### 比较内容分类和情感分析"
   ]
  },
  {
   "cell_type": "code",
   "execution_count": 178,
   "id": "e122c96c-1852-438a-9559-a0d68835d337",
   "metadata": {
    "execution": {
     "iopub.execute_input": "2024-06-07T12:31:10.958824Z",
     "iopub.status.busy": "2024-06-07T12:31:10.958078Z",
     "iopub.status.idle": "2024-06-07T12:31:11.651334Z",
     "shell.execute_reply": "2024-06-07T12:31:11.650650Z",
     "shell.execute_reply.started": "2024-06-07T12:31:10.958768Z"
    }
   },
   "outputs": [
    {
     "name": "stderr",
     "output_type": "stream",
     "text": [
      "Some weights of BertForSequenceClassification were not initialized from the model checkpoint at bert-base-uncased and are newly initialized: ['classifier.bias', 'classifier.weight']\n",
      "You should probably TRAIN this model on a down-stream task to be able to use it for predictions and inference.\n"
     ]
    },
    {
     "name": "stdout",
     "output_type": "stream",
     "text": [
      "[{'score': 0.5165, 'label': 'LABEL_1'}, {'score': 0.5452, 'label': 'LABEL_1'}, {'score': 0.5705, 'label': 'LABEL_0'}]\n"
     ]
    }
   ],
   "source": [
    "from transformers import pipeline\n",
    "\n",
    "# 使用预训练的BERT模型进行文本分类\n",
    "classifier = pipeline(task=\"text-classification\", model=\"bert-base-uncased\")\n",
    "\n",
    "# 测试文本\n",
    "texts = [\n",
    "    \"The stock market crashed today.\",\n",
    "    \"The weather is sunny with a chance of rain.\",\n",
    "    \"The local team won the championship!\"\n",
    "]\n",
    "\n",
    "# 获取分类结果\n",
    "preds = classifier(texts)\n",
    "preds = [{\"score\": round(pred[\"score\"], 4), \"label\": pred[\"label\"]} for pred in preds]\n",
    "print(preds)\n"
   ]
  },
  {
   "cell_type": "code",
   "execution_count": 173,
   "id": "373467e4-13ad-4120-9b01-15a4cbdec950",
   "metadata": {
    "execution": {
     "iopub.execute_input": "2024-06-07T12:30:49.423658Z",
     "iopub.status.busy": "2024-06-07T12:30:49.423058Z",
     "iopub.status.idle": "2024-06-07T12:30:50.119189Z",
     "shell.execute_reply": "2024-06-07T12:30:50.118510Z",
     "shell.execute_reply.started": "2024-06-07T12:30:49.423606Z"
    }
   },
   "outputs": [
    {
     "name": "stderr",
     "output_type": "stream",
     "text": [
      "Some weights of BertForSequenceClassification were not initialized from the model checkpoint at bert-base-uncased and are newly initialized: ['classifier.bias', 'classifier.weight']\n",
      "You should probably TRAIN this model on a down-stream task to be able to use it for predictions and inference.\n"
     ]
    },
    {
     "name": "stdout",
     "output_type": "stream",
     "text": [
      "[{'score': 0.5762, 'label': 'Finance'}, {'score': 0.5517, 'label': 'Finance'}, {'score': 0.5299, 'label': 'Weather'}]\n"
     ]
    }
   ],
   "source": [
    "from transformers import pipeline\n",
    "\n",
    "# 使用一个预训练模型进行文本分类\n",
    "classifier = pipeline(task=\"text-classification\", model=\"bert-base-uncased\")\n",
    "\n",
    "# 测试文本\n",
    "texts = [\n",
    "    \"The stock market crashed today.\",\n",
    "    \"The weather is sunny with a chance of rain.\",\n",
    "    \"The local team won the championship!\"\n",
    "]\n",
    "\n",
    "# 获取分类结果\n",
    "preds = classifier(texts)\n",
    "\n",
    "# 手动定义标签映射\n",
    "label_mapping = {0: 'Finance', 1: 'Weather'}\n",
    "\n",
    "# 映射结果标签\n",
    "mapped_preds = [{\"score\": round(pred[\"score\"], 4), \"label\": label_mapping[int(pred[\"label\"].split('_')[1])]} for pred in preds]\n",
    "print(mapped_preds)\n"
   ]
  },
  {
   "cell_type": "code",
   "execution_count": 161,
   "id": "382d96db-f4dc-486a-82ee-28f20b5b3543",
   "metadata": {
    "execution": {
     "iopub.execute_input": "2024-06-07T12:26:13.232695Z",
     "iopub.status.busy": "2024-06-07T12:26:13.232043Z",
     "iopub.status.idle": "2024-06-07T12:26:13.812932Z",
     "shell.execute_reply": "2024-06-07T12:26:13.812366Z",
     "shell.execute_reply.started": "2024-06-07T12:26:13.232623Z"
    }
   },
   "outputs": [
    {
     "name": "stdout",
     "output_type": "stream",
     "text": [
      "[{'score': 0.9997, 'label': 'NEGATIVE'}, {'score': 0.9993, 'label': 'POSITIVE'}, {'score': 0.9998, 'label': 'POSITIVE'}]\n"
     ]
    }
   ],
   "source": [
    "from transformers import pipeline\n",
    "\n",
    "# 使用一个已经微调过的模型进行文本分类\n",
    "classifier = pipeline(task=\"text-classification\", model=\"distilbert-base-uncased-finetuned-sst-2-english\")\n",
    "\n",
    "# 测试文本\n",
    "texts = [\n",
    "    \"The stock market crashed today.\",\n",
    "    \"The weather is sunny with a chance of rain.\",\n",
    "    \"The local team won the championship!\"\n",
    "]\n",
    "\n",
    "# 获取分类结果\n",
    "preds = classifier(texts)\n",
    "preds = [{\"score\": round(pred[\"score\"], 4), \"label\": pred[\"label\"]} for pred in preds]\n",
    "print(preds)\n"
   ]
  },
  {
   "cell_type": "markdown",
   "id": "63a12486-952a-447d-9e90-6b041349a26e",
   "metadata": {},
   "source": [
    "### 测试更多示例"
   ]
  },
  {
   "cell_type": "code",
   "execution_count": 4,
   "id": "ee67f529-3d32-4834-b29a-e51a65cf4d49",
   "metadata": {
    "execution": {
     "iopub.execute_input": "2024-06-07T02:26:30.573992Z",
     "iopub.status.busy": "2024-06-07T02:26:30.573345Z",
     "iopub.status.idle": "2024-06-07T02:26:30.637629Z",
     "shell.execute_reply": "2024-06-07T02:26:30.636739Z",
     "shell.execute_reply.started": "2024-06-07T02:26:30.573937Z"
    }
   },
   "outputs": [
    {
     "data": {
      "text/plain": [
       "[{'label': 'NEGATIVE', 'score': 0.9238728880882263}]"
      ]
     },
     "execution_count": 4,
     "metadata": {},
     "output_type": "execute_result"
    }
   ],
   "source": [
    "pipe(\"我觉得这家店蒜泥白肉的味道一般\")"
   ]
  },
  {
   "cell_type": "code",
   "execution_count": 239,
   "id": "4e104034-94ca-4370-8d35-438501c29ead",
   "metadata": {
    "execution": {
     "iopub.execute_input": "2024-06-08T02:39:31.504177Z",
     "iopub.status.busy": "2024-06-08T02:39:31.503399Z",
     "iopub.status.idle": "2024-06-08T02:39:31.566320Z",
     "shell.execute_reply": "2024-06-08T02:39:31.565718Z",
     "shell.execute_reply.started": "2024-06-08T02:39:31.504121Z"
    }
   },
   "outputs": [
    {
     "data": {
      "text/plain": [
       "[{'label': 'NEGATIVE', 'score': 0.8578686118125916}]"
      ]
     },
     "execution_count": 239,
     "metadata": {},
     "output_type": "execute_result"
    }
   ],
   "source": [
    "# 默认使用的模型 distilbert-base-uncased-finetuned-sst-2-english \n",
    "# 并未针对中文做太多训练，中文的文本分类任务表现未必满意\n",
    "pipe(\"你学东西真的好快，理论课一讲就明白了\")"
   ]
  },
  {
   "cell_type": "code",
   "execution_count": 25,
   "id": "69830ca3-2051-4784-9c9c-fbdc87ceec59",
   "metadata": {
    "execution": {
     "iopub.execute_input": "2024-06-07T02:31:16.795022Z",
     "iopub.status.busy": "2024-06-07T02:31:16.794361Z",
     "iopub.status.idle": "2024-06-07T02:31:16.846281Z",
     "shell.execute_reply": "2024-06-07T02:31:16.845514Z",
     "shell.execute_reply.started": "2024-06-07T02:31:16.794965Z"
    }
   },
   "outputs": [
    {
     "data": {
      "text/plain": [
       "[{'label': 'NEGATIVE', 'score': 0.5804216861724854}]"
      ]
     },
     "execution_count": 25,
     "metadata": {},
     "output_type": "execute_result"
    }
   ],
   "source": [
    "# 做更多示例测试,发现模型会偏向预测为negative\n",
    "pipe(\"今天天气好晴朗，开心呀\")"
   ]
  },
  {
   "cell_type": "code",
   "execution_count": 24,
   "id": "9c3d11aa-d523-491c-8910-bdc8aba49487",
   "metadata": {
    "execution": {
     "iopub.execute_input": "2024-06-07T02:30:16.395821Z",
     "iopub.status.busy": "2024-06-07T02:30:16.395149Z",
     "iopub.status.idle": "2024-06-07T02:30:16.459554Z",
     "shell.execute_reply": "2024-06-07T02:30:16.458825Z",
     "shell.execute_reply.started": "2024-06-07T02:30:16.395766Z"
    }
   },
   "outputs": [
    {
     "data": {
      "text/plain": [
       "[{'label': 'POSITIVE', 'score': 0.9961802959442139}]"
      ]
     },
     "execution_count": 24,
     "metadata": {},
     "output_type": "execute_result"
    }
   ],
   "source": [
    "# 替换为英文后，文本分类任务的表现立刻改善\n",
    "pipe(\"You learn things really quickly. You understand the theory class as soon as it is taught.\")"
   ]
  },
  {
   "cell_type": "code",
   "execution_count": 28,
   "id": "09df7300-2f0d-4bc4-9572-0631658e8253",
   "metadata": {
    "execution": {
     "iopub.execute_input": "2024-06-07T02:33:16.438396Z",
     "iopub.status.busy": "2024-06-07T02:33:16.437763Z",
     "iopub.status.idle": "2024-06-07T02:33:16.483087Z",
     "shell.execute_reply": "2024-06-07T02:33:16.482332Z",
     "shell.execute_reply.started": "2024-06-07T02:33:16.438344Z"
    }
   },
   "outputs": [
    {
     "data": {
      "text/plain": [
       "[{'label': 'NEGATIVE', 'score': 0.9995032548904419}]"
      ]
     },
     "execution_count": 28,
     "metadata": {},
     "output_type": "execute_result"
    }
   ],
   "source": [
    "# 除了分类正确,还得置信度,二分类任务应该达到98 99\n",
    "pipe(\"Today Shanghai is really cold.\")"
   ]
  },
  {
   "cell_type": "code",
   "execution_count": 29,
   "id": "bef705fa-9c1b-4a60-b1e1-f637b781cff4",
   "metadata": {
    "execution": {
     "iopub.execute_input": "2024-06-07T02:33:17.041784Z",
     "iopub.status.busy": "2024-06-07T02:33:17.041187Z",
     "iopub.status.idle": "2024-06-07T02:33:17.089086Z",
     "shell.execute_reply": "2024-06-07T02:33:17.088317Z",
     "shell.execute_reply.started": "2024-06-07T02:33:17.041730Z"
    }
   },
   "outputs": [
    {
     "data": {
      "text/plain": [
       "[{'label': 'POSITIVE', 'score': 0.999880313873291}]"
      ]
     },
     "execution_count": 29,
     "metadata": {},
     "output_type": "execute_result"
    }
   ],
   "source": [
    "pipe(\"It's sunny today. I'm happy\")"
   ]
  },
  {
   "cell_type": "markdown",
   "id": "507dbfc3-5347-4b82-8ea1-4e6c3d81c07f",
   "metadata": {},
   "source": [
    "### 批处理调用模型推理"
   ]
  },
  {
   "cell_type": "code",
   "execution_count": 244,
   "id": "1390396e-1af8-497f-85d9-6c9e984b4609",
   "metadata": {
    "execution": {
     "iopub.execute_input": "2024-06-08T03:05:02.040490Z",
     "iopub.status.busy": "2024-06-08T03:05:02.039884Z",
     "iopub.status.idle": "2024-06-08T03:05:02.134351Z",
     "shell.execute_reply": "2024-06-08T03:05:02.133776Z",
     "shell.execute_reply.started": "2024-06-08T03:05:02.040438Z"
    }
   },
   "outputs": [
    {
     "data": {
      "text/plain": [
       "[{'label': 'NEGATIVE', 'score': 0.9995032548904419},\n",
       " {'label': 'NEGATIVE', 'score': 0.9982030391693115},\n",
       " {'label': 'POSITIVE', 'score': 0.9961802959442139}]"
      ]
     },
     "execution_count": 244,
     "metadata": {},
     "output_type": "execute_result"
    }
   ],
   "source": [
    "text_list_1 = [\n",
    "    \"Today Shanghai is really cold.\",\n",
    "    \"I think the taste of the pork with mashed garlic in this restaurant is average.\",\n",
    "    \"You learn things really quickly. You understand the theory class as soon as it is taught.\",\n",
    "]\n",
    "\n",
    "pipe(text_list_1)"
   ]
  },
  {
   "cell_type": "code",
   "execution_count": 245,
   "id": "3686758b-d7f7-4df9-889d-e63af47a138a",
   "metadata": {
    "execution": {
     "iopub.execute_input": "2024-06-08T03:05:08.337258Z",
     "iopub.status.busy": "2024-06-08T03:05:08.336633Z",
     "iopub.status.idle": "2024-06-08T03:05:08.512521Z",
     "shell.execute_reply": "2024-06-08T03:05:08.512031Z",
     "shell.execute_reply.started": "2024-06-08T03:05:08.337204Z"
    }
   },
   "outputs": [
    {
     "data": {
      "text/plain": [
       "[{'label': 'POSITIVE', 'score': 0.9821100831031799},\n",
       " {'label': 'NEGATIVE', 'score': 0.9870202541351318},\n",
       " {'label': 'NEGATIVE', 'score': 0.9438008666038513},\n",
       " {'label': 'POSITIVE', 'score': 0.9917562007904053},\n",
       " {'label': 'POSITIVE', 'score': 0.9872766137123108},\n",
       " {'label': 'NEGATIVE', 'score': 0.9956063628196716},\n",
       " {'label': 'POSITIVE', 'score': 0.9994807839393616}]"
      ]
     },
     "execution_count": 245,
     "metadata": {},
     "output_type": "execute_result"
    }
   ],
   "source": [
    "text_list_2 = [\n",
    "\"The meeting is scheduled for 3 PM tomorrow.\",\n",
    "\"The laptop weighs about 2 kilograms.\",\n",
    "\"It will be partly cloudy tomorrow with a slight chance of rain.\",\n",
    "\"The book contains three hundred pages.\",\n",
    "\"The store is open from 9 AM to 9 PM.\",\n",
    "\"what time is it now?\",\n",
    "\"you are so good, and I am not happy\"\n",
    "]\n",
    " \n",
    "pipe(text_list_2)"
   ]
  },
  {
   "cell_type": "markdown",
   "id": "a9059025-9e7b-409b-b98a-266155df6e3d",
   "metadata": {},
   "source": [
    "### 多种模型比较"
   ]
  },
  {
   "cell_type": "code",
   "execution_count": 249,
   "id": "730c3f7a-3f71-497b-9287-8786bc16f8ad",
   "metadata": {
    "execution": {
     "iopub.execute_input": "2024-06-08T03:06:52.879029Z",
     "iopub.status.busy": "2024-06-08T03:06:52.878396Z",
     "iopub.status.idle": "2024-06-08T03:06:54.082395Z",
     "shell.execute_reply": "2024-06-08T03:06:54.081887Z",
     "shell.execute_reply.started": "2024-06-08T03:06:52.878976Z"
    }
   },
   "outputs": [
    {
     "data": {
      "text/plain": [
       "[{'label': 'POSITIVE', 'score': 0.989532470703125},\n",
       " {'label': 'NEGATIVE', 'score': 0.999497652053833},\n",
       " {'label': 'POSITIVE', 'score': 0.9986624717712402}]"
      ]
     },
     "execution_count": 249,
     "metadata": {},
     "output_type": "execute_result"
    }
   ],
   "source": [
    "# 与siebert/sentiment-roberta-large-english比较(只有正负面情感的模型)\n",
    "sentiment_pipe = pipeline(task = 'sentiment-analysis', model = 'siebert/sentiment-roberta-large-english')\n",
    "sentiment_pipe(text_list_1)"
   ]
  },
  {
   "cell_type": "code",
   "execution_count": 263,
   "id": "c1b62847-6272-41ef-bed9-3451c283ea73",
   "metadata": {
    "execution": {
     "iopub.execute_input": "2024-06-08T03:21:12.365415Z",
     "iopub.status.busy": "2024-06-08T03:21:12.364657Z",
     "iopub.status.idle": "2024-06-08T03:21:13.572509Z",
     "shell.execute_reply": "2024-06-08T03:21:13.571977Z",
     "shell.execute_reply.started": "2024-06-08T03:21:12.365360Z"
    }
   },
   "outputs": [
    {
     "name": "stderr",
     "output_type": "stream",
     "text": [
      "Some weights of the model checkpoint at cardiffnlp/twitter-roberta-base-sentiment-latest were not used when initializing RobertaForSequenceClassification: ['roberta.pooler.dense.bias', 'roberta.pooler.dense.weight']\n",
      "- This IS expected if you are initializing RobertaForSequenceClassification from the checkpoint of a model trained on another task or with another architecture (e.g. initializing a BertForSequenceClassification model from a BertForPreTraining model).\n",
      "- This IS NOT expected if you are initializing RobertaForSequenceClassification from the checkpoint of a model that you expect to be exactly identical (initializing a BertForSequenceClassification model from a BertForSequenceClassification model).\n"
     ]
    },
    {
     "data": {
      "text/plain": [
       "[{'label': 'neutral', 'score': 0.9531188607215881},\n",
       " {'label': 'neutral', 'score': 0.8628705143928528},\n",
       " {'label': 'neutral', 'score': 0.8822050094604492},\n",
       " {'label': 'neutral', 'score': 0.9261929988861084},\n",
       " {'label': 'neutral', 'score': 0.8637180924415588},\n",
       " {'label': 'neutral', 'score': 0.9401641488075256},\n",
       " {'label': 'positive', 'score': 0.5424416661262512}]"
      ]
     },
     "execution_count": 263,
     "metadata": {},
     "output_type": "execute_result"
    }
   ],
   "source": [
    "# 带中性情感的情感分析\n",
    "sentiment_pipe = pipeline(task = 'sentiment-analysis', model = 'cardiffnlp/twitter-roberta-base-sentiment-latest')\n",
    "sentiment_pipe(text_list_1)\n",
    "sentiment_pipe(text_list_2)"
   ]
  },
  {
   "cell_type": "code",
   "execution_count": 262,
   "id": "b4c633f7-c024-462b-9ea2-0b16d72613a6",
   "metadata": {
    "execution": {
     "iopub.execute_input": "2024-06-08T03:21:08.652751Z",
     "iopub.status.busy": "2024-06-08T03:21:08.652099Z",
     "iopub.status.idle": "2024-06-08T03:21:09.486829Z",
     "shell.execute_reply": "2024-06-08T03:21:09.486327Z",
     "shell.execute_reply.started": "2024-06-08T03:21:08.652658Z"
    }
   },
   "outputs": [
    {
     "name": "stderr",
     "output_type": "stream",
     "text": [
      "emoji is not installed, thus not converting emoticons or emojis into text. Install emoji: pip3 install emoji==0.6.0\n"
     ]
    },
    {
     "data": {
      "text/plain": [
       "[{'label': 'NEU', 'score': 0.9763945937156677},\n",
       " {'label': 'NEU', 'score': 0.9559036493301392},\n",
       " {'label': 'NEU', 'score': 0.955289363861084},\n",
       " {'label': 'NEU', 'score': 0.9564352035522461},\n",
       " {'label': 'NEU', 'score': 0.9413847327232361},\n",
       " {'label': 'NEU', 'score': 0.9649732708930969},\n",
       " {'label': 'NEG', 'score': 0.5112496018409729}]"
      ]
     },
     "execution_count": 262,
     "metadata": {},
     "output_type": "execute_result"
    }
   ],
   "source": [
    "# 带中性情感的情感分析\n",
    "sentiment_pipe = pipeline(task = 'sentiment-analysis', model = 'finiteautomata/bertweet-base-sentiment-analysis')\n",
    "sentiment_pipe(text_list_2)"
   ]
  },
  {
   "cell_type": "code",
   "execution_count": 257,
   "id": "cb9404ce-dabc-4be0-810e-54e3d1ee7992",
   "metadata": {
    "execution": {
     "iopub.execute_input": "2024-06-08T03:17:49.487280Z",
     "iopub.status.busy": "2024-06-08T03:17:49.486465Z",
     "iopub.status.idle": "2024-06-08T03:17:50.318435Z",
     "shell.execute_reply": "2024-06-08T03:17:50.317943Z",
     "shell.execute_reply.started": "2024-06-08T03:17:49.487222Z"
    }
   },
   "outputs": [
    {
     "name": "stderr",
     "output_type": "stream",
     "text": [
      "Some weights of the model checkpoint at cardiffnlp/twitter-roberta-base-sentiment-latest were not used when initializing RobertaForSequenceClassification: ['roberta.pooler.dense.bias', 'roberta.pooler.dense.weight']\n",
      "- This IS expected if you are initializing RobertaForSequenceClassification from the checkpoint of a model trained on another task or with another architecture (e.g. initializing a BertForSequenceClassification model from a BertForPreTraining model).\n",
      "- This IS NOT expected if you are initializing RobertaForSequenceClassification from the checkpoint of a model that you expect to be exactly identical (initializing a BertForSequenceClassification model from a BertForSequenceClassification model).\n"
     ]
    },
    {
     "data": {
      "text/plain": [
       "[{'label': 'neutral', 'score': 0.9531188607215881},\n",
       " {'label': 'neutral', 'score': 0.8628705143928528},\n",
       " {'label': 'neutral', 'score': 0.8822050094604492},\n",
       " {'label': 'neutral', 'score': 0.9261929988861084},\n",
       " {'label': 'neutral', 'score': 0.8637180924415588},\n",
       " {'label': 'neutral', 'score': 0.9401641488075256},\n",
       " {'label': 'positive', 'score': 0.5424416661262512}]"
      ]
     },
     "execution_count": 257,
     "metadata": {},
     "output_type": "execute_result"
    }
   ],
   "source": [
    "sentiment_pipe = pipeline(task = 'sentiment-analysis', model = 'cardiffnlp/twitter-roberta-base-sentiment-latest')\n",
    "sentiment_pipe(text_list_2)"
   ]
  },
  {
   "cell_type": "code",
   "execution_count": 253,
   "id": "b1575379-82b1-4315-812b-92f4c220657d",
   "metadata": {
    "execution": {
     "iopub.execute_input": "2024-06-08T03:10:19.780487Z",
     "iopub.status.busy": "2024-06-08T03:10:19.779668Z",
     "iopub.status.idle": "2024-06-08T03:10:20.760723Z",
     "shell.execute_reply": "2024-06-08T03:10:20.760092Z",
     "shell.execute_reply.started": "2024-06-08T03:10:19.780429Z"
    }
   },
   "outputs": [
    {
     "data": {
      "text/plain": [
       "[{'label': '2 stars', 'score': 0.35993844270706177},\n",
       " {'label': '3 stars', 'score': 0.5946798920631409},\n",
       " {'label': '5 stars', 'score': 0.4633648991584778}]"
      ]
     },
     "execution_count": 253,
     "metadata": {},
     "output_type": "execute_result"
    }
   ],
   "source": [
    "# 带分数(1~5)的情感分析\n",
    "from transformers import pipeline\n",
    "\n",
    "classifier = pipeline(task=\"sentiment-analysis\", model=\"nlptown/bert-base-multilingual-uncased-sentiment\")\n",
    "classifier(text_list_1)\n",
    "\n"
   ]
  },
  {
   "cell_type": "code",
   "execution_count": null,
   "id": "a4e3e6aa-eb27-4ca8-bb13-a5eb892473e1",
   "metadata": {},
   "outputs": [],
   "source": []
  },
  {
   "cell_type": "code",
   "execution_count": 156,
   "id": "126ba547-b9d0-47a5-ad95-8a8247e9d90f",
   "metadata": {
    "execution": {
     "iopub.execute_input": "2024-06-07T12:19:06.707291Z",
     "iopub.status.busy": "2024-06-07T12:19:06.706663Z",
     "iopub.status.idle": "2024-06-07T12:19:07.213020Z",
     "shell.execute_reply": "2024-06-07T12:19:07.212448Z",
     "shell.execute_reply.started": "2024-06-07T12:19:06.707239Z"
    }
   },
   "outputs": [
    {
     "name": "stderr",
     "output_type": "stream",
     "text": [
      "No model was supplied, defaulted to distilbert-base-uncased-finetuned-sst-2-english and revision af0f99b (https://hf-mirror.com/distilbert-base-uncased-finetuned-sst-2-english).\n",
      "Using a pipeline without specifying a model name and revision in production is not recommended.\n"
     ]
    },
    {
     "name": "stdout",
     "output_type": "stream",
     "text": [
      "[{'score': 0.9991, 'label': 'POSITIVE'}]\n"
     ]
    }
   ],
   "source": [
    "from transformers import pipeline\n",
    "\n",
    "classifier = pipeline(task=\"sentiment-analysis\")\n",
    "preds = classifier(\"Hugging Face is the best thing since sliced bread!\")\n",
    "preds = [{\"score\": round(pred[\"score\"], 4), \"label\": pred[\"label\"]} for pred in preds]\n",
    "print(preds)\n",
    "# Example Output: [{'label': 'POSITIVE', 'score': 0.9991}]\n"
   ]
  },
  {
   "cell_type": "markdown",
   "id": "6d5a27fe-87d0-45fc-a31a-9a8db23e290a",
   "metadata": {},
   "source": [
    "## 使用 Pipeline API 调用更多预定义任务\n",
    "\n",
    "## Natural Language Processing(NLP)\n",
    "\n",
    "**NLP**(自然语言处理)任务是最常见的任务类型之一，因为文本是我们进行交流的一种自然方式。要将文本转换为模型可识别的格式，需要对其进行分词。这意味着将一系列文本划分为单独的单词或子词（标记），然后将这些标记转换为数字。结果就是，您可以将一系列文本表示为一系列数字，并且一旦您拥有了一系列数字，它就可以输入到模型中来解决各种NLP任务！\n",
    "\n",
    "上面演示的 文本分类任务，以及接下来的标记、问答等任务都属于 NLP 范畴。\n",
    "\n",
    "### Token Classification\n",
    "\n",
    "在任何NLP任务中，文本都经过预处理，将文本序列分成单个单词或子词。这些被称为tokens。\n",
    "\n",
    "**Token Classification**（Token分类）将每个token分配一个来自预定义类别集的标签。\n",
    "\n",
    "两种常见的 Token 分类是：\n",
    "\n",
    "- 命名实体识别（NER）：根据实体类别（如组织、人员、位置或日期）对token进行标记。NER在生物医学设置中特别受欢迎，可以标记基因、蛋白质和药物名称。\n",
    "- 词性标注（POS）：根据其词性（如名词、动词或形容词）对标记进行标记。POS对于帮助翻译系统了解两个相同的单词如何在语法上不同很有用（作为名词的银行与作为动词的银行）。\n",
    "\n",
    "模型主页：https://huggingface.co/dbmdz/bert-large-cased-finetuned-conll03-english"
   ]
  },
  {
   "cell_type": "code",
   "execution_count": 153,
   "id": "4f1ed125-f9ed-42d9-b102-dbc3172baefd",
   "metadata": {
    "execution": {
     "iopub.execute_input": "2024-06-07T12:13:44.486882Z",
     "iopub.status.busy": "2024-06-07T12:13:44.486236Z",
     "iopub.status.idle": "2024-06-07T12:13:45.247812Z",
     "shell.execute_reply": "2024-06-07T12:13:45.246709Z",
     "shell.execute_reply.started": "2024-06-07T12:13:44.486828Z"
    }
   },
   "outputs": [
    {
     "name": "stderr",
     "output_type": "stream",
     "text": [
      "No model was supplied, defaulted to dbmdz/bert-large-cased-finetuned-conll03-english and revision f2482bf (https://hf-mirror.com/dbmdz/bert-large-cased-finetuned-conll03-english).\n",
      "Using a pipeline without specifying a model name and revision in production is not recommended.\n",
      "Some weights of the model checkpoint at dbmdz/bert-large-cased-finetuned-conll03-english were not used when initializing BertForTokenClassification: ['bert.pooler.dense.bias', 'bert.pooler.dense.weight']\n",
      "- This IS expected if you are initializing BertForTokenClassification from the checkpoint of a model trained on another task or with another architecture (e.g. initializing a BertForSequenceClassification model from a BertForPreTraining model).\n",
      "- This IS NOT expected if you are initializing BertForTokenClassification from the checkpoint of a model that you expect to be exactly identical (initializing a BertForSequenceClassification model from a BertForSequenceClassification model).\n"
     ]
    }
   ],
   "source": [
    "from transformers import pipeline\n",
    "\n",
    "classifier = pipeline(task=\"token-classification\")"
   ]
  },
  {
   "cell_type": "code",
   "execution_count": 154,
   "id": "68bab77c-0fe6-4781-b978-02d56829db33",
   "metadata": {
    "execution": {
     "iopub.execute_input": "2024-06-07T12:13:56.397788Z",
     "iopub.status.busy": "2024-06-07T12:13:56.396973Z",
     "iopub.status.idle": "2024-06-07T12:13:56.582433Z",
     "shell.execute_reply": "2024-06-07T12:13:56.581914Z",
     "shell.execute_reply.started": "2024-06-07T12:13:56.397732Z"
    }
   },
   "outputs": [
    {
     "name": "stdout",
     "output_type": "stream",
     "text": [
      "{'entity': 'I-ORG', 'score': 0.9967675, 'index': 1, 'word': 'Hu', 'start': 0, 'end': 2}\n",
      "{'entity': 'I-ORG', 'score': 0.9293031, 'index': 2, 'word': '##gging', 'start': 2, 'end': 7}\n",
      "{'entity': 'I-ORG', 'score': 0.97632104, 'index': 3, 'word': 'Face', 'start': 8, 'end': 12}\n",
      "{'entity': 'I-MISC', 'score': 0.99828726, 'index': 6, 'word': 'French', 'start': 18, 'end': 24}\n",
      "{'entity': 'I-LOC', 'score': 0.99896204, 'index': 10, 'word': 'New', 'start': 42, 'end': 45}\n",
      "{'entity': 'I-LOC', 'score': 0.9986792, 'index': 11, 'word': 'York', 'start': 46, 'end': 50}\n",
      "{'entity': 'I-LOC', 'score': 0.9992418, 'index': 12, 'word': 'City', 'start': 51, 'end': 55}\n"
     ]
    }
   ],
   "source": [
    "preds = classifier(\"Hugging Face is a French company based in New York City.\")\n",
    "preds = [\n",
    "    {\n",
    "        \"entity\": pred[\"entity\"],\n",
    "        \"score\": round(pred[\"score\"], 4),\n",
    "        \"index\": pred[\"index\"],\n",
    "        \"word\": pred[\"word\"],\n",
    "        \"start\": pred[\"start\"],\n",
    "        \"end\": pred[\"end\"],\n",
    "    }\n",
    "    for pred in preds\n",
    "]\n",
    "print(*preds, sep=\"\\n\")"
   ]
  },
  {
   "cell_type": "markdown",
   "id": "21c72d55-e574-444f-96bc-62704022a148",
   "metadata": {},
   "source": [
    "#### 合并实体"
   ]
  },
  {
   "cell_type": "code",
   "execution_count": 152,
   "id": "9b441191-6156-44b8-a323-db461ad06efb",
   "metadata": {
    "execution": {
     "iopub.execute_input": "2024-06-07T12:13:02.615792Z",
     "iopub.status.busy": "2024-06-07T12:13:02.615156Z",
     "iopub.status.idle": "2024-06-07T12:13:03.774976Z",
     "shell.execute_reply": "2024-06-07T12:13:03.774456Z",
     "shell.execute_reply.started": "2024-06-07T12:13:02.615740Z"
    }
   },
   "outputs": [
    {
     "name": "stderr",
     "output_type": "stream",
     "text": [
      "No model was supplied, defaulted to dbmdz/bert-large-cased-finetuned-conll03-english and revision f2482bf (https://hf-mirror.com/dbmdz/bert-large-cased-finetuned-conll03-english).\n",
      "Using a pipeline without specifying a model name and revision in production is not recommended.\n",
      "Some weights of the model checkpoint at dbmdz/bert-large-cased-finetuned-conll03-english were not used when initializing BertForTokenClassification: ['bert.pooler.dense.bias', 'bert.pooler.dense.weight']\n",
      "- This IS expected if you are initializing BertForTokenClassification from the checkpoint of a model trained on another task or with another architecture (e.g. initializing a BertForSequenceClassification model from a BertForPreTraining model).\n",
      "- This IS NOT expected if you are initializing BertForTokenClassification from the checkpoint of a model that you expect to be exactly identical (initializing a BertForSequenceClassification model from a BertForSequenceClassification model).\n",
      "/data/zlhu/miniconda3/envs/peft/lib/python3.10/site-packages/transformers/pipelines/token_classification.py:169: UserWarning: `grouped_entities` is deprecated and will be removed in version v5.0.0, defaulted to `aggregation_strategy=\"simple\"` instead.\n",
      "  warnings.warn(\n"
     ]
    },
    {
     "data": {
      "text/plain": [
       "[{'entity_group': 'ORG',\n",
       "  'score': 0.9674639,\n",
       "  'word': 'Hugging Face',\n",
       "  'start': 0,\n",
       "  'end': 12},\n",
       " {'entity_group': 'MISC',\n",
       "  'score': 0.99828726,\n",
       "  'word': 'French',\n",
       "  'start': 18,\n",
       "  'end': 24},\n",
       " {'entity_group': 'LOC',\n",
       "  'score': 0.99896103,\n",
       "  'word': 'New York City',\n",
       "  'start': 42,\n",
       "  'end': 55}]"
      ]
     },
     "execution_count": 152,
     "metadata": {},
     "output_type": "execute_result"
    }
   ],
   "source": [
    "classifier = pipeline(task=\"ner\", grouped_entities=True)\n",
    "classifier(\"Hugging Face is a French company based in New York City.\")"
   ]
  },
  {
   "cell_type": "code",
   "execution_count": null,
   "id": "7736791b-9585-4534-9efe-3fae3b7b6ca8",
   "metadata": {},
   "outputs": [],
   "source": []
  },
  {
   "cell_type": "markdown",
   "id": "369dda97-bd1a-4cb0-9636-47c2308c6289",
   "metadata": {},
   "source": [
    "### Question Answering\n",
    "\n",
    "**Question Answering**(问答)是另一个token-level的任务，返回一个问题的答案，有时带有上下文（开放领域），有时不带上下文（封闭领域）。每当我们向虚拟助手提出问题时，例如询问一家餐厅是否营业，就会发生这种情况。它还可以提供客户或技术支持，并帮助搜索引擎检索您要求的相关信息。\n",
    "\n",
    "有两种常见的问答类型：\n",
    "\n",
    "- 提取式：给定一个问题和一些上下文，模型必须从上下文中提取出一段文字作为答案\n",
    "- 生成式：给定一个问题和一些上下文，答案是根据上下文生成的；这种方法由`Text2TextGenerationPipeline`处理，而不是下面展示的`QuestionAnsweringPipeline`\n",
    "\n",
    "模型主页：https://huggingface.co/distilbert-base-cased-distilled-squad"
   ]
  },
  {
   "cell_type": "code",
   "execution_count": 67,
   "id": "a5281b0b-6b57-4884-92e1-cc2677987360",
   "metadata": {
    "execution": {
     "iopub.execute_input": "2024-06-07T03:56:41.974602Z",
     "iopub.status.busy": "2024-06-07T03:56:41.973989Z",
     "iopub.status.idle": "2024-06-07T03:56:42.965508Z",
     "shell.execute_reply": "2024-06-07T03:56:42.964546Z",
     "shell.execute_reply.started": "2024-06-07T03:56:41.974550Z"
    },
    "scrolled": true
   },
   "outputs": [
    {
     "name": "stderr",
     "output_type": "stream",
     "text": [
      "No model was supplied, defaulted to distilbert-base-cased-distilled-squad and revision 626af31 (https://hf-mirror.com/distilbert-base-cased-distilled-squad).\n",
      "Using a pipeline without specifying a model name and revision in production is not recommended.\n"
     ]
    }
   ],
   "source": [
    "from transformers import pipeline\n",
    "\n",
    "question_answerer = pipeline(task=\"question-answering\")"
   ]
  },
  {
   "cell_type": "code",
   "execution_count": 69,
   "id": "ca674a51-30a4-4dea-a443-e428925e990f",
   "metadata": {
    "execution": {
     "iopub.execute_input": "2024-06-07T03:57:07.214034Z",
     "iopub.status.busy": "2024-06-07T03:57:07.213253Z",
     "iopub.status.idle": "2024-06-07T03:57:07.263427Z",
     "shell.execute_reply": "2024-06-07T03:57:07.262627Z",
     "shell.execute_reply.started": "2024-06-07T03:57:07.213979Z"
    }
   },
   "outputs": [
    {
     "name": "stdout",
     "output_type": "stream",
     "text": [
      "score: 0.9327, start: 30, end: 54, answer: huggingface/transformers\n"
     ]
    }
   ],
   "source": [
    "preds = question_answerer(\n",
    "    question=\"What is the name of the repository?\",\n",
    "    context=\"The name of the repository is huggingface/transformers\",\n",
    ")\n",
    "print(\n",
    "    f\"score: {round(preds['score'], 4)}, start: {preds['start']}, end: {preds['end']}, answer: {preds['answer']}\"\n",
    ")"
   ]
  },
  {
   "cell_type": "code",
   "execution_count": 70,
   "id": "f2158feb-a528-410a-aabf-f3bd7f2726c4",
   "metadata": {
    "execution": {
     "iopub.execute_input": "2024-06-07T03:57:19.757837Z",
     "iopub.status.busy": "2024-06-07T03:57:19.757214Z",
     "iopub.status.idle": "2024-06-07T03:57:19.810661Z",
     "shell.execute_reply": "2024-06-07T03:57:19.809968Z",
     "shell.execute_reply.started": "2024-06-07T03:57:19.757783Z"
    }
   },
   "outputs": [
    {
     "name": "stdout",
     "output_type": "stream",
     "text": [
      "score: 0.9458, start: 115, end: 122, answer: Beijing\n"
     ]
    }
   ],
   "source": [
    "preds = question_answerer(\n",
    "    question=\"What is the capital of China?\",\n",
    "    context=\"On 1 October 1949, CCP Chairman Mao Zedong formally proclaimed the People's Republic of China in Tiananmen Square, Beijing.\",\n",
    ")\n",
    "print(\n",
    "    f\"score: {round(preds['score'], 4)}, start: {preds['start']}, end: {preds['end']}, answer: {preds['answer']}\"\n",
    ")"
   ]
  },
  {
   "cell_type": "markdown",
   "id": "5ef41bd3-4012-4334-aefa-a16c5971c2d0",
   "metadata": {},
   "source": [
    "### text2text 文本到文本(机器翻译、摘要、问答)"
   ]
  },
  {
   "cell_type": "code",
   "execution_count": 124,
   "id": "f22a3480-c7e7-4cf0-aab1-074fc17d4423",
   "metadata": {
    "execution": {
     "iopub.execute_input": "2024-06-07T05:05:31.005544Z",
     "iopub.status.busy": "2024-06-07T05:05:31.004736Z",
     "iopub.status.idle": "2024-06-07T05:05:32.115743Z",
     "shell.execute_reply": "2024-06-07T05:05:32.115033Z",
     "shell.execute_reply.started": "2024-06-07T05:05:31.005488Z"
    },
    "scrolled": true
   },
   "outputs": [
    {
     "name": "stderr",
     "output_type": "stream",
     "text": [
      "No model was supplied, defaulted to t5-base and revision 686f1db (https://hf-mirror.com/t5-base).\n",
      "Using a pipeline without specifying a model name and revision in production is not recommended.\n"
     ]
    }
   ],
   "source": [
    "t2t_gen = pipeline(task=\"text2text-generation\")"
   ]
  },
  {
   "cell_type": "code",
   "execution_count": 229,
   "id": "db1e44a6-b9de-4130-9169-9f8e4c86b4c3",
   "metadata": {
    "execution": {
     "iopub.execute_input": "2024-06-07T13:18:32.641200Z",
     "iopub.status.busy": "2024-06-07T13:18:32.640413Z",
     "iopub.status.idle": "2024-06-07T13:18:33.130659Z",
     "shell.execute_reply": "2024-06-07T13:18:33.130138Z",
     "shell.execute_reply.started": "2024-06-07T13:18:32.641141Z"
    }
   },
   "outputs": [
    {
     "name": "stdout",
     "output_type": "stream",
     "text": [
      "owning a dog can increase physical exercise, decrease depression, and increase happiness .\n"
     ]
    }
   ],
   "source": [
    "# 使用 T5 生成文本摘要\n",
    "input_text = \"summarize: Studies have shown that owning a dog can increase physical exercise, decrease depression, and will likely increase the owner's overall happiness.\"\n",
    "summary = t2t_gen(input_text)\n",
    "\n",
    "print(summary[0]['generated_text'])\n"
   ]
  },
  {
   "cell_type": "code",
   "execution_count": 194,
   "id": "a5847439-90c2-4e01-a148-0487484ade78",
   "metadata": {
    "execution": {
     "iopub.execute_input": "2024-06-07T13:03:26.966151Z",
     "iopub.status.busy": "2024-06-07T13:03:26.965529Z",
     "iopub.status.idle": "2024-06-07T13:04:57.552626Z",
     "shell.execute_reply": "2024-06-07T13:04:57.551290Z",
     "shell.execute_reply.started": "2024-06-07T13:03:26.966099Z"
    }
   },
   "outputs": [],
   "source": [
    "from transformers import pipeline\n",
    "\n",
    "# 加载 T5 模型\n",
    "qa_pipeline = pipeline(task=\"text2text-generation\", model=\"t5-3b\")"
   ]
  },
  {
   "cell_type": "code",
   "execution_count": 234,
   "id": "6170afc2-d5a0-4a77-8702-ef8c49cea5c8",
   "metadata": {
    "execution": {
     "iopub.execute_input": "2024-06-07T13:22:00.323154Z",
     "iopub.status.busy": "2024-06-07T13:22:00.322519Z",
     "iopub.status.idle": "2024-06-07T13:22:16.343747Z",
     "shell.execute_reply": "2024-06-07T13:22:16.343212Z",
     "shell.execute_reply.started": "2024-06-07T13:22:00.323101Z"
    }
   },
   "outputs": [
    {
     "name": "stdout",
     "output_type": "stream",
     "text": [
      "Question: How does Hugging Face plan to transform the healthcare sector in the next decade?\n",
      "Answer: improve patient outcomes through advanced machine learning techniques.\n",
      "\n",
      "Question: What innovative approaches is Hugging Face taking to enhance AI education?\n",
      "Answer: collaborations with universities to develop new AI courses and have been working on a project to create AI tools for environmental sustainability.\n",
      "\n",
      "Question: Can you elaborate on the recent initiatives and future goals of Hugging Face?\n",
      "Answer: Hugging Face aims to democratize artificial intelligence through open source and open science.\n",
      "\n",
      "Question: what time is it now? \n",
      "Answer: 00:00\n",
      "\n"
     ]
    }
   ],
   "source": [
    "# 上下文\n",
    "context = (\"Hugging Face is a technology company based in New York and Paris. They are known for their transformers library, \"\n",
    "           \"which has revolutionized natural language processing. The company was founded in 2016 by Clement Delangue and Julien Chaumond. \"\n",
    "           \"Hugging Face aims to democratize artificial intelligence through open source and open science. Over the years, they have introduced numerous \"\n",
    "           \"innovations and expanded their influence in the AI community. Recently, they announced a new initiative to integrate AI models with healthcare applications, \"\n",
    "           \"aiming to improve patient outcomes through advanced machine learning techniques. Additionally, Hugging Face plans to launch an educational platform to teach AI concepts to a broader audience. \"\n",
    "           \"They have also started collaborations with universities to develop new AI courses and have been working on a project to create AI tools for environmental sustainability.\")\n",
    "\n",
    "# 问题列表\n",
    "questions = [\n",
    "    \"How does Hugging Face plan to transform the healthcare sector in the next decade?\",\n",
    "    \"What innovative approaches is Hugging Face taking to enhance AI education?\",\n",
    "    \"Can you elaborate on the recent initiatives and future goals of Hugging Face?\",\n",
    "    \"what time is it now? \"\n",
    "]\n",
    "\n",
    "# 获取并打印答案\n",
    "for question in questions:\n",
    "    input_text = f\"question: {question} context: {context}\"\n",
    "    answers = qa_pipeline(input_text, max_length=150, num_return_sequences=1, temperature=0.9, top_k=50, top_p=0.95)\n",
    "    print(f\"Question: {question}\")\n",
    "    print(f\"Answer: {answers[0]['generated_text']}\\n\")"
   ]
  },
  {
   "cell_type": "code",
   "execution_count": 237,
   "id": "f040d405-4158-4960-8fd0-ce42ddc56d2d",
   "metadata": {
    "execution": {
     "iopub.execute_input": "2024-06-07T13:29:58.930000Z",
     "iopub.status.busy": "2024-06-07T13:29:58.929339Z",
     "iopub.status.idle": "2024-06-07T13:30:05.442743Z",
     "shell.execute_reply": "2024-06-07T13:30:05.442204Z",
     "shell.execute_reply.started": "2024-06-07T13:29:58.929943Z"
    }
   },
   "outputs": [
    {
     "name": "stdout",
     "output_type": "stream",
     "text": [
      "Question: What is the average human life span?\n",
      "Answer: ?? What is the average human life span? What is the average human life span? What is the average human life span? What is the average human life span? What is the average human life span? What is the average human life span? What is the average human life span?\n",
      "\n",
      "Question: What's the opposite of Black\n",
      "Answer: ? What's White?\n",
      "\n",
      "Question: At what temperature will the water freeze\n",
      "Answer: ?? How will the water freeze?\n",
      "\n"
     ]
    }
   ],
   "source": [
    "from transformers import pipeline\n",
    "\n",
    "# 加载 T5 模型\n",
    "generator = pipeline(task=\"text2text-generation\", model=\"t5-large\")\n",
    "\n",
    "# 提出的问题\n",
    "questions = [\n",
    "    \"What is the average human life span?\",\n",
    "    \"What's the opposite of Black\",\n",
    "    \"At what temperature will the water freeze\",\n",
    "]\n",
    "\n",
    "# 获取并打印答案\n",
    "for question in questions:\n",
    "    input_text = question  # 不使用上下文，只输入问题\n",
    "    answers = generator(input_text, max_length=100, num_return_sequences=1, temperature=0.7, top_k=50, top_p=0.9)\n",
    "    print(f\"Question: {question}\")\n",
    "    print(f\"Answer: {answers[0]['generated_text']}\\n\")\n"
   ]
  },
  {
   "cell_type": "markdown",
   "id": "4cbbd961-ea81-4e43-ad9f-cb1800c97310",
   "metadata": {
    "execution": {
     "iopub.execute_input": "2024-06-07T13:00:45.028606Z",
     "iopub.status.busy": "2024-06-07T13:00:45.028434Z",
     "iopub.status.idle": "2024-06-07T13:00:45.037701Z",
     "shell.execute_reply": "2024-06-07T13:00:45.037134Z",
     "shell.execute_reply.started": "2024-06-07T13:00:45.028590Z"
    }
   },
   "source": [
    "### text-generation 文本生成"
   ]
  },
  {
   "cell_type": "code",
   "execution_count": 233,
   "id": "c1262982-6de5-4088-b67f-ffbc6a524acf",
   "metadata": {
    "execution": {
     "iopub.execute_input": "2024-06-07T13:21:29.354711Z",
     "iopub.status.busy": "2024-06-07T13:21:29.354090Z",
     "iopub.status.idle": "2024-06-07T13:21:35.770280Z",
     "shell.execute_reply": "2024-06-07T13:21:35.769794Z",
     "shell.execute_reply.started": "2024-06-07T13:21:29.354645Z"
    }
   },
   "outputs": [
    {
     "name": "stderr",
     "output_type": "stream",
     "text": [
      "No model was supplied, defaulted to gpt2 and revision 6c0e608 (https://hf-mirror.com/gpt2).\n",
      "Using a pipeline without specifying a model name and revision in production is not recommended.\n",
      "Truncation was not explicitly activated but `max_length` is provided a specific value, please use `truncation=True` to explicitly truncate examples to max length. Defaulting to 'longest_first' truncation strategy. If you encode pairs of sequences (GLUE-style) with the tokenizer you can select this strategy more precisely by providing a specific strategy to `truncation`.\n",
      "Setting `pad_token_id` to `eos_token_id`:50256 for open-end generation.\n"
     ]
    },
    {
     "data": {
      "text/plain": [
       "[{'generated_text': \"What can be done to improve air quality in urban areas? Well there is no evidence yet, but there is a growing body of evidence that pollution is associated with improved air quality. We suggest a study of urban air quality that can be replicated through more than one person, using a combination of urban-level pollution measurements of different sources of pollution. This may be one of the most important approaches to achieve health outcomes. The work of this team was funded by the EPA's National Environmental Policy Act research funding. The goal of the study was to investigate the impact of air pollution on air quality in the United States. We are also interested in working with communities to address air pollution and understand the effects on health of a wider geographic area through more focused approaches. The study is supported by the American Lung Association, the Community Health Project, the Urban Heart Foundation, the Heartland Coalition, American Council on Science and Health, the American Petroleum Institute, and the American Center for Science Education & Research, and the University\"}]"
      ]
     },
     "execution_count": 233,
     "metadata": {},
     "output_type": "execute_result"
    }
   ],
   "source": [
    "from transformers import pipeline\n",
    "\n",
    "# 加载预训练的 gpt2 模型\n",
    "text_gen = pipeline(\"text-generation\")\n",
    "\n",
    "# 定义问题和上下文\n",
    "question = \"What can be done to improve air quality in urban areas?\"\n",
    "input_text = f\"{question}\"\n",
    "# 生成答案\n",
    "answer = text_gen(input_text, max_length=200)\n",
    "\n",
    "# # 打印生成的答案\n",
    "# print(answer[0]['generated_text'])\n",
    "answer"
   ]
  },
  {
   "cell_type": "code",
   "execution_count": null,
   "id": "eebd7483-99a5-4f2a-894c-13cf5a3b71b2",
   "metadata": {},
   "outputs": [],
   "source": []
  },
  {
   "cell_type": "markdown",
   "id": "d995cb85-ab8f-4b28-9413-1a83fa3e4c4d",
   "metadata": {},
   "source": [
    "### Summarization\n",
    "\n",
    "**Summarization**(文本摘要）从较长的文本中创建一个较短的版本，同时尽可能保留原始文档的大部分含义。摘要是一个序列到序列的任务；它输出比输入更短的文本序列。有许多长篇文档可以进行摘要，以帮助读者快速了解主要要点。法案、法律和财务文件、专利和科学论文等文档可以摘要，以节省读者的时间并作为阅读辅助工具。\n",
    "\n",
    "与问答类似，摘要有两种类型：\n",
    "\n",
    "- 提取式：从原始文本中识别和提取最重要的句子\n",
    "- 生成式：从原始文本中生成目标摘要（可能包括输入文件中没有的新单词）；`SummarizationPipeline`使用生成式方法\n",
    "\n",
    "模型主页：https://huggingface.co/t5-base"
   ]
  },
  {
   "cell_type": "code",
   "execution_count": 72,
   "id": "8e028f36-2b50-4ae3-8dce-2f0ac685e8fb",
   "metadata": {
    "execution": {
     "iopub.execute_input": "2024-06-07T04:00:01.275956Z",
     "iopub.status.busy": "2024-06-07T04:00:01.275317Z",
     "iopub.status.idle": "2024-06-07T04:00:02.596244Z",
     "shell.execute_reply": "2024-06-07T04:00:02.595056Z",
     "shell.execute_reply.started": "2024-06-07T04:00:01.275902Z"
    }
   },
   "outputs": [],
   "source": [
    "from transformers import pipeline\n",
    "\n",
    "summarizer = pipeline(task=\"summarization\",\n",
    "                      model=\"t5-base\",\n",
    "                      min_length=8,\n",
    "                      max_length=32,\n",
    ")"
   ]
  },
  {
   "cell_type": "code",
   "execution_count": 73,
   "id": "8c760bbf-2ae4-4f84-bd5e-32c30ee6bd78",
   "metadata": {
    "execution": {
     "iopub.execute_input": "2024-06-07T04:00:31.384808Z",
     "iopub.status.busy": "2024-06-07T04:00:31.383969Z",
     "iopub.status.idle": "2024-06-07T04:00:33.146978Z",
     "shell.execute_reply": "2024-06-07T04:00:33.146469Z",
     "shell.execute_reply.started": "2024-06-07T04:00:31.384752Z"
    }
   },
   "outputs": [
    {
     "data": {
      "text/plain": [
       "[{'summary_text': 'the Transformer is the first sequence transduction model based entirely on attention . it replaces recurrent layers commonly used in encoder-decode'}]"
      ]
     },
     "execution_count": 73,
     "metadata": {},
     "output_type": "execute_result"
    }
   ],
   "source": [
    "summarizer(\n",
    "    \"\"\"\n",
    "    In this work, we presented the Transformer, the first sequence transduction model based entirely on attention, \n",
    "    replacing the recurrent layers most commonly used in encoder-decoder architectures with multi-headed self-attention. \n",
    "    For translation tasks, the Transformer can be trained significantly faster than architectures based on recurrent or convolutional layers. \n",
    "    On both WMT 2014 English-to-German and WMT 2014 English-to-French translation tasks, we achieve a new state of the art. \n",
    "    In the former task our best model outperforms even all previously reported ensembles.\n",
    "    \"\"\"\n",
    ")\n"
   ]
  },
  {
   "cell_type": "code",
   "execution_count": 74,
   "id": "b50ff52b-e61e-40cd-ab66-a591dc0c3b0d",
   "metadata": {
    "execution": {
     "iopub.execute_input": "2024-06-07T04:01:07.798736Z",
     "iopub.status.busy": "2024-06-07T04:01:07.798095Z",
     "iopub.status.idle": "2024-06-07T04:01:09.274896Z",
     "shell.execute_reply": "2024-06-07T04:01:09.274407Z",
     "shell.execute_reply.started": "2024-06-07T04:01:07.798670Z"
    }
   },
   "outputs": [
    {
     "data": {
      "text/plain": [
       "[{'summary_text': 'large language models (LLMs) are very large deep learning models pre-trained on vast amounts of data . transformers are capable of un'}]"
      ]
     },
     "execution_count": 74,
     "metadata": {},
     "output_type": "execute_result"
    }
   ],
   "source": [
    "summarizer(\n",
    "    '''\n",
    "    Large language models (LLM) are very large deep learning models that are pre-trained on vast amounts of data. \n",
    "    The underlying transformer is a set of neural networks that consist of an encoder and a decoder with self-attention capabilities. \n",
    "    The encoder and decoder extract meanings from a sequence of text and understand the relationships between words and phrases in it.\n",
    "    Transformer LLMs are capable of unsupervised training, although a more precise explanation is that transformers perform self-learning. \n",
    "    It is through this process that transformers learn to understand basic grammar, languages, and knowledge.\n",
    "    Unlike earlier recurrent neural networks (RNN) that sequentially process inputs, transformers process entire sequences in parallel. \n",
    "    This allows the data scientists to use GPUs for training transformer-based LLMs, significantly reducing the training time.\n",
    "    '''\n",
    ")\n"
   ]
  },
  {
   "cell_type": "markdown",
   "id": "72315144-7fae-4848-af79-a70e428b2416",
   "metadata": {},
   "source": [
    "\n",
    "## Audio 音频处理任务\n",
    "\n",
    "音频和语音处理任务与其他模态略有不同，主要是因为音频作为输入是一个连续的信号。与文本不同，原始音频波形不能像句子可以被划分为单词那样被整齐地分割成离散的块。为了解决这个问题，通常在固定的时间间隔内对原始音频信号进行采样。如果在每个时间间隔内采样更多样本，采样率就会更高，音频更接近原始音频源。\n",
    "\n",
    "以前的方法是预处理音频以从中提取有用的特征。现在更常见的做法是直接将原始音频波形输入到特征编码器中，以提取音频表示。这样可以简化预处理步骤，并允许模型学习最重要的特征。\n",
    "\n",
    "### Audio classification\n",
    "\n",
    "**Audio classification**(音频分类)是一项将音频数据从预定义的类别集合中进行标记的任务。这是一个广泛的类别，具有许多具体的应用，其中一些包括：\n",
    "\n",
    "- 声学场景分类：使用场景标签（“办公室”、“海滩”、“体育场”）对音频进行标记。\n",
    "- 声学事件检测：使用声音事件标签（“汽车喇叭声”、“鲸鱼叫声”、“玻璃破碎声”）对音频进行标记。\n",
    "- 标记：对包含多种声音的音频进行标记（鸟鸣、会议中的说话人识别）。\n",
    "- 音乐分类：使用流派标签（“金属”、“嘻哈”、“乡村”）对音乐进行标记。\n",
    "\n",
    "模型主页：https://huggingface.co/superb/hubert-base-superb-er\n",
    "\n",
    "数据集主页：https://huggingface.co/datasets/superb#er\n",
    "\n",
    "```\n",
    "情感识别（ER）为每个话语预测一个情感类别。我们采用了最广泛使用的ER数据集IEMOCAP，并遵循传统的评估协议：我们删除不平衡的情感类别，只保留最后四个具有相似数量数据点的类别，并在标准分割的五折交叉验证上进行评估。评估指标是准确率（ACC）。\n",
    "```"
   ]
  },
  {
   "cell_type": "markdown",
   "id": "e4d4c1e9-8a67-4c72-8dce-ab326e0bc3b6",
   "metadata": {},
   "source": [
    "#### 前置依赖包安装\n",
    "\n",
    "建议在命令行安装必要的音频数据处理包: ffmpeg\n",
    "\n",
    "```shell\n",
    "$apt update & apt upgrade\n",
    "$apt install -y ffmpeg\n",
    "$pip install ffmpeg ffmpeg-python\n",
    "```"
   ]
  },
  {
   "cell_type": "code",
   "execution_count": 76,
   "id": "2e1f8a8d-75eb-49ab-9353-6c9d1f384cac",
   "metadata": {
    "execution": {
     "iopub.execute_input": "2024-06-07T04:06:42.207232Z",
     "iopub.status.busy": "2024-06-07T04:06:42.206460Z",
     "iopub.status.idle": "2024-06-07T04:06:43.019560Z",
     "shell.execute_reply": "2024-06-07T04:06:43.018250Z",
     "shell.execute_reply.started": "2024-06-07T04:06:42.207176Z"
    }
   },
   "outputs": [
    {
     "name": "stderr",
     "output_type": "stream",
     "text": [
      "Some weights of the model checkpoint at superb/hubert-base-superb-er were not used when initializing HubertForSequenceClassification: ['hubert.encoder.pos_conv_embed.conv.weight_g', 'hubert.encoder.pos_conv_embed.conv.weight_v']\n",
      "- This IS expected if you are initializing HubertForSequenceClassification from the checkpoint of a model trained on another task or with another architecture (e.g. initializing a BertForSequenceClassification model from a BertForPreTraining model).\n",
      "- This IS NOT expected if you are initializing HubertForSequenceClassification from the checkpoint of a model that you expect to be exactly identical (initializing a BertForSequenceClassification model from a BertForSequenceClassification model).\n",
      "Some weights of HubertForSequenceClassification were not initialized from the model checkpoint at superb/hubert-base-superb-er and are newly initialized: ['hubert.encoder.pos_conv_embed.conv.parametrizations.weight.original0', 'hubert.encoder.pos_conv_embed.conv.parametrizations.weight.original1']\n",
      "You should probably TRAIN this model on a down-stream task to be able to use it for predictions and inference.\n"
     ]
    }
   ],
   "source": [
    "from transformers import pipeline\n",
    "\n",
    "classifier = pipeline(task=\"audio-classification\", model=\"superb/hubert-base-superb-er\")"
   ]
  },
  {
   "cell_type": "code",
   "execution_count": null,
   "id": "204a4159-d14d-4623-8340-93d15abcc549",
   "metadata": {},
   "outputs": [],
   "source": [
    "# 使用 Hugging Face Datasets 上的测试文件\n",
    "preds = classifier(\"https://huggingface.co/datasets/Narsil/asr_dummy/resolve/main/mlk.flac\")\n",
    "preds = [{\"score\": round(pred[\"score\"], 4), \"label\": pred[\"label\"]} for pred in preds]\n",
    "preds"
   ]
  },
  {
   "cell_type": "code",
   "execution_count": null,
   "id": "2528bf81-8289-4bb9-bf2d-c0ce9f7e8b36",
   "metadata": {},
   "outputs": [],
   "source": [
    "# 使用本地的音频文件做测试\n",
    "preds = classifier(\"data/audio/mlk.flac\")\n",
    "preds = [{\"score\": round(pred[\"score\"], 4), \"label\": pred[\"label\"]} for pred in preds]\n",
    "preds"
   ]
  },
  {
   "cell_type": "code",
   "execution_count": null,
   "id": "d6826a83-f5a5-454e-ac16-1f215abef861",
   "metadata": {},
   "outputs": [],
   "source": []
  },
  {
   "cell_type": "markdown",
   "id": "e073cd1f-ba16-40a7-a029-bbd5e2a53dee",
   "metadata": {},
   "source": [
    "### Automatic speech recognition（ASR）\n",
    "\n",
    "**Automatic speech recognition**（自动语音识别）将语音转录为文本。这是最常见的音频任务之一，部分原因是因为语音是人类交流的自然形式。如今，ASR系统嵌入在智能技术产品中，如扬声器、电话和汽车。我们可以要求虚拟助手播放音乐、设置提醒和告诉我们天气。\n",
    "\n",
    "但是，Transformer架构帮助解决的一个关键挑战是低资源语言。通过在大量语音数据上进行预训练，仅在一个低资源语言的一小时标记语音数据上进行微调，仍然可以产生与以前在100倍更多标记数据上训练的ASR系统相比高质量的结果。\n",
    "\n",
    "模型主页：https://huggingface.co/openai/whisper-small\n",
    "\n",
    "下面展示使用 `OpenAI Whisper Small` 模型实现 ASR 的 Pipeline API 示例："
   ]
  },
  {
   "cell_type": "code",
   "execution_count": 80,
   "id": "68d14f8c-1571-4889-abd4-8fde09dc610a",
   "metadata": {
    "execution": {
     "iopub.execute_input": "2024-06-07T04:14:04.686252Z",
     "iopub.status.busy": "2024-06-07T04:14:04.685614Z",
     "iopub.status.idle": "2024-06-07T04:14:06.913322Z",
     "shell.execute_reply": "2024-06-07T04:14:06.912338Z",
     "shell.execute_reply.started": "2024-06-07T04:14:04.686200Z"
    }
   },
   "outputs": [
    {
     "name": "stderr",
     "output_type": "stream",
     "text": [
      "Special tokens have been added in the vocabulary, make sure the associated word embeddings are fine-tuned or trained.\n"
     ]
    }
   ],
   "source": [
    "from transformers import pipeline\n",
    "\n",
    "# 使用 `model` 参数指定模型\n",
    "transcriber = pipeline(task=\"automatic-speech-recognition\", model=\"openai/whisper-small\")"
   ]
  },
  {
   "cell_type": "code",
   "execution_count": null,
   "id": "316ebe18-9c8e-4ded-96b7-751304aa9122",
   "metadata": {},
   "outputs": [],
   "source": [
    "text = transcriber(\"data/audio/mlk.flac\")\n",
    "text"
   ]
  },
  {
   "cell_type": "code",
   "execution_count": null,
   "id": "192d5e06-ac4a-4a56-be36-9e445751bda6",
   "metadata": {},
   "outputs": [],
   "source": []
  },
  {
   "cell_type": "markdown",
   "id": "228b1482-1e13-4557-8d37-5d56e961b5c5",
   "metadata": {},
   "source": [
    "## Computer Vision 计算机视觉\n",
    "\n",
    "**Computer Vision**（计算机视觉）任务中最早成功之一是使用卷积神经网络（CNN）识别邮政编码数字图像。图像由像素组成，每个像素都有一个数值。这使得将图像表示为像素值矩阵变得容易。每个像素值组合描述了图像的颜色。\n",
    "\n",
    "计算机视觉任务可以通过以下两种通用方式解决：\n",
    "\n",
    "- 使用卷积来学习图像的层次特征，从低级特征到高级抽象特征。\n",
    "- 将图像分成块，并使用Transformer逐步学习每个图像块如何相互关联以形成图像。与CNN偏好的自底向上方法不同，这种方法有点像从一个模糊的图像开始，然后逐渐将其聚焦清晰。"
   ]
  },
  {
   "cell_type": "markdown",
   "id": "cf0bf9f4-6413-409b-968e-f03ca0c88367",
   "metadata": {},
   "source": [
    "### Image Classificaiton\n",
    "\n",
    "**Image Classificaiton**(图像分类)将整个图像从预定义的类别集合中进行标记。像大多数分类任务一样，图像分类有许多实际用例，其中一些包括：\n",
    "\n",
    "- 医疗保健：标记医学图像以检测疾病或监测患者健康状况\n",
    "- 环境：标记卫星图像以监测森林砍伐、提供野外管理信息或检测野火\n",
    "- 农业：标记农作物图像以监测植物健康或用于土地使用监测的卫星图像\n",
    "- 生态学：标记动物或植物物种的图像以监测野生动物种群或跟踪濒危物种\n",
    "\n",
    "模型主页：https://huggingface.co/google/vit-base-patch16-224"
   ]
  },
  {
   "cell_type": "code",
   "execution_count": 83,
   "id": "98ca9736-10b9-45b0-a3e3-925f153bab57",
   "metadata": {
    "execution": {
     "iopub.execute_input": "2024-06-07T04:18:26.589336Z",
     "iopub.status.busy": "2024-06-07T04:18:26.588704Z",
     "iopub.status.idle": "2024-06-07T04:18:27.394469Z",
     "shell.execute_reply": "2024-06-07T04:18:27.393520Z",
     "shell.execute_reply.started": "2024-06-07T04:18:26.589285Z"
    }
   },
   "outputs": [
    {
     "name": "stderr",
     "output_type": "stream",
     "text": [
      "No model was supplied, defaulted to google/vit-base-patch16-224 and revision 5dca96d (https://hf-mirror.com/google/vit-base-patch16-224).\n",
      "Using a pipeline without specifying a model name and revision in production is not recommended.\n"
     ]
    }
   ],
   "source": [
    "from transformers import pipeline\n",
    "\n",
    "classifier = pipeline(task=\"image-classification\")"
   ]
  },
  {
   "cell_type": "code",
   "execution_count": null,
   "id": "d8a41647-e8db-4d29-9dac-06c3c145acaa",
   "metadata": {},
   "outputs": [],
   "source": [
    "preds = classifier(\n",
    "    \"https://huggingface.co/datasets/huggingface/documentation-images/resolve/main/pipeline-cat-chonk.jpeg\"\n",
    ")\n",
    "preds = [{\"score\": round(pred[\"score\"], 4), \"label\": pred[\"label\"]} for pred in preds]\n",
    "print(*preds, sep=\"\\n\")"
   ]
  },
  {
   "cell_type": "markdown",
   "id": "662ecb60-ebb9-4f4e-82bc-21e79bb22d90",
   "metadata": {},
   "source": [
    "![](data/image/cat-chonk.jpeg)"
   ]
  },
  {
   "cell_type": "code",
   "execution_count": 85,
   "id": "67592129-6430-4349-8016-7dde511ff69b",
   "metadata": {
    "execution": {
     "iopub.execute_input": "2024-06-07T04:19:21.685235Z",
     "iopub.status.busy": "2024-06-07T04:19:21.684402Z",
     "iopub.status.idle": "2024-06-07T04:19:22.398482Z",
     "shell.execute_reply": "2024-06-07T04:19:22.397930Z",
     "shell.execute_reply.started": "2024-06-07T04:19:21.685179Z"
    }
   },
   "outputs": [
    {
     "name": "stdout",
     "output_type": "stream",
     "text": [
      "{'score': 0.4335, 'label': 'lynx, catamount'}\n",
      "{'score': 0.0348, 'label': 'cougar, puma, catamount, mountain lion, painter, panther, Felis concolor'}\n",
      "{'score': 0.0324, 'label': 'snow leopard, ounce, Panthera uncia'}\n",
      "{'score': 0.0239, 'label': 'Egyptian cat'}\n",
      "{'score': 0.0229, 'label': 'tiger cat'}\n"
     ]
    }
   ],
   "source": [
    "# 使用本地图片（狼猫）\n",
    "preds = classifier(\n",
    "    \"data/image/cat-chonk.jpeg\"\n",
    ")\n",
    "preds = [{\"score\": round(pred[\"score\"], 4), \"label\": pred[\"label\"]} for pred in preds]\n",
    "print(*preds, sep=\"\\n\")"
   ]
  },
  {
   "cell_type": "markdown",
   "id": "8113c251-a648-4ea2-baa4-3081bb490c70",
   "metadata": {},
   "source": [
    "![](data/image/panda.jpg)"
   ]
  },
  {
   "cell_type": "code",
   "execution_count": 86,
   "id": "a7e9b51a-d759-4398-9894-f10933dbed47",
   "metadata": {
    "execution": {
     "iopub.execute_input": "2024-06-07T04:19:48.796353Z",
     "iopub.status.busy": "2024-06-07T04:19:48.795690Z",
     "iopub.status.idle": "2024-06-07T04:19:48.954124Z",
     "shell.execute_reply": "2024-06-07T04:19:48.953577Z",
     "shell.execute_reply.started": "2024-06-07T04:19:48.796297Z"
    }
   },
   "outputs": [
    {
     "name": "stdout",
     "output_type": "stream",
     "text": [
      "{'score': 0.9962, 'label': 'giant panda, panda, panda bear, coon bear, Ailuropoda melanoleuca'}\n",
      "{'score': 0.0018, 'label': 'lesser panda, red panda, panda, bear cat, cat bear, Ailurus fulgens'}\n",
      "{'score': 0.0002, 'label': 'ice bear, polar bear, Ursus Maritimus, Thalarctos maritimus'}\n",
      "{'score': 0.0001, 'label': 'sloth bear, Melursus ursinus, Ursus ursinus'}\n",
      "{'score': 0.0001, 'label': 'brown bear, bruin, Ursus arctos'}\n"
     ]
    }
   ],
   "source": [
    "# 使用本地图片（熊猫）\n",
    "preds = classifier(\n",
    "    \"data/image/panda.jpg\"\n",
    ")\n",
    "preds = [{\"score\": round(pred[\"score\"], 4), \"label\": pred[\"label\"]} for pred in preds]\n",
    "print(*preds, sep=\"\\n\")"
   ]
  },
  {
   "cell_type": "code",
   "execution_count": null,
   "id": "120f5fdb-2803-4f4f-9008-00dee9a6a557",
   "metadata": {},
   "outputs": [],
   "source": []
  },
  {
   "cell_type": "markdown",
   "id": "8118a561-3dc9-4693-8c3b-3e29c37b4d71",
   "metadata": {},
   "source": [
    "### Object Detection\n",
    "\n",
    "与图像分类不同，目标检测在图像中识别多个对象以及这些对象在图像中的位置（由边界框定义）。目标检测的一些示例应用包括：\n",
    "\n",
    "- 自动驾驶车辆：检测日常交通对象，如其他车辆、行人和红绿灯\n",
    "- 遥感：灾害监测、城市规划和天气预报\n",
    "- 缺陷检测：检测建筑物中的裂缝或结构损坏，以及制造业产品缺陷\n",
    "\n",
    "模型主页：https://huggingface.co/facebook/detr-resnet-50"
   ]
  },
  {
   "cell_type": "markdown",
   "id": "e7122f04-7add-4623-8f3f-ccc00247524b",
   "metadata": {},
   "source": [
    "#### 前置依赖包安装"
   ]
  },
  {
   "cell_type": "code",
   "execution_count": 87,
   "id": "8cbc4227-cbcc-4f18-bf26-66535e66afb6",
   "metadata": {
    "collapsed": true,
    "execution": {
     "iopub.execute_input": "2024-06-07T04:21:05.501601Z",
     "iopub.status.busy": "2024-06-07T04:21:05.500810Z",
     "iopub.status.idle": "2024-06-07T04:21:09.575815Z",
     "shell.execute_reply": "2024-06-07T04:21:09.574141Z",
     "shell.execute_reply.started": "2024-06-07T04:21:05.501545Z"
    },
    "jupyter": {
     "outputs_hidden": true
    }
   },
   "outputs": [
    {
     "name": "stdout",
     "output_type": "stream",
     "text": [
      "Looking in indexes: https://pypi.tuna.tsinghua.edu.cn/simple\n",
      "Requirement already satisfied: timm in /data/zlhu/miniconda3/envs/peft/lib/python3.10/site-packages (0.9.12)\n",
      "Requirement already satisfied: torch>=1.7 in /data/zlhu/miniconda3/envs/peft/lib/python3.10/site-packages (from timm) (2.3.0)\n",
      "Requirement already satisfied: torchvision in /data/zlhu/miniconda3/envs/peft/lib/python3.10/site-packages (from timm) (0.18.0)\n",
      "Requirement already satisfied: pyyaml in /data/zlhu/miniconda3/envs/peft/lib/python3.10/site-packages (from timm) (6.0.1)\n",
      "Requirement already satisfied: huggingface-hub in /data/zlhu/miniconda3/envs/peft/lib/python3.10/site-packages (from timm) (0.23.3)\n",
      "Requirement already satisfied: safetensors in /data/zlhu/miniconda3/envs/peft/lib/python3.10/site-packages (from timm) (0.4.3)\n",
      "Requirement already satisfied: filelock in /data/zlhu/miniconda3/envs/peft/lib/python3.10/site-packages (from torch>=1.7->timm) (3.14.0)\n",
      "Requirement already satisfied: typing-extensions>=4.8.0 in /data/zlhu/miniconda3/envs/peft/lib/python3.10/site-packages (from torch>=1.7->timm) (4.12.0)\n",
      "Requirement already satisfied: sympy in /data/zlhu/miniconda3/envs/peft/lib/python3.10/site-packages (from torch>=1.7->timm) (1.12)\n",
      "Requirement already satisfied: networkx in /data/zlhu/miniconda3/envs/peft/lib/python3.10/site-packages (from torch>=1.7->timm) (3.3)\n",
      "Requirement already satisfied: jinja2 in /data/zlhu/miniconda3/envs/peft/lib/python3.10/site-packages (from torch>=1.7->timm) (3.1.4)\n",
      "Requirement already satisfied: fsspec in /data/zlhu/miniconda3/envs/peft/lib/python3.10/site-packages (from torch>=1.7->timm) (2023.10.0)\n",
      "Requirement already satisfied: nvidia-cuda-nvrtc-cu12==12.1.105 in /data/zlhu/miniconda3/envs/peft/lib/python3.10/site-packages (from torch>=1.7->timm) (12.1.105)\n",
      "Requirement already satisfied: nvidia-cuda-runtime-cu12==12.1.105 in /data/zlhu/miniconda3/envs/peft/lib/python3.10/site-packages (from torch>=1.7->timm) (12.1.105)\n",
      "Requirement already satisfied: nvidia-cuda-cupti-cu12==12.1.105 in /data/zlhu/miniconda3/envs/peft/lib/python3.10/site-packages (from torch>=1.7->timm) (12.1.105)\n",
      "Requirement already satisfied: nvidia-cudnn-cu12==8.9.2.26 in /data/zlhu/miniconda3/envs/peft/lib/python3.10/site-packages (from torch>=1.7->timm) (8.9.2.26)\n",
      "Requirement already satisfied: nvidia-cublas-cu12==12.1.3.1 in /data/zlhu/miniconda3/envs/peft/lib/python3.10/site-packages (from torch>=1.7->timm) (12.1.3.1)\n",
      "Requirement already satisfied: nvidia-cufft-cu12==11.0.2.54 in /data/zlhu/miniconda3/envs/peft/lib/python3.10/site-packages (from torch>=1.7->timm) (11.0.2.54)\n",
      "Requirement already satisfied: nvidia-curand-cu12==10.3.2.106 in /data/zlhu/miniconda3/envs/peft/lib/python3.10/site-packages (from torch>=1.7->timm) (10.3.2.106)\n",
      "Requirement already satisfied: nvidia-cusolver-cu12==11.4.5.107 in /data/zlhu/miniconda3/envs/peft/lib/python3.10/site-packages (from torch>=1.7->timm) (11.4.5.107)\n",
      "Requirement already satisfied: nvidia-cusparse-cu12==12.1.0.106 in /data/zlhu/miniconda3/envs/peft/lib/python3.10/site-packages (from torch>=1.7->timm) (12.1.0.106)\n",
      "Requirement already satisfied: nvidia-nccl-cu12==2.20.5 in /data/zlhu/miniconda3/envs/peft/lib/python3.10/site-packages (from torch>=1.7->timm) (2.20.5)\n",
      "Requirement already satisfied: nvidia-nvtx-cu12==12.1.105 in /data/zlhu/miniconda3/envs/peft/lib/python3.10/site-packages (from torch>=1.7->timm) (12.1.105)\n",
      "Requirement already satisfied: triton==2.3.0 in /data/zlhu/miniconda3/envs/peft/lib/python3.10/site-packages (from torch>=1.7->timm) (2.3.0)\n",
      "Requirement already satisfied: nvidia-nvjitlink-cu12 in /data/zlhu/miniconda3/envs/peft/lib/python3.10/site-packages (from nvidia-cusolver-cu12==11.4.5.107->torch>=1.7->timm) (12.5.40)\n",
      "Requirement already satisfied: packaging>=20.9 in /data/zlhu/miniconda3/envs/peft/lib/python3.10/site-packages (from huggingface-hub->timm) (24.0)\n",
      "Requirement already satisfied: requests in /data/zlhu/miniconda3/envs/peft/lib/python3.10/site-packages (from huggingface-hub->timm) (2.32.2)\n",
      "Requirement already satisfied: tqdm>=4.42.1 in /data/zlhu/miniconda3/envs/peft/lib/python3.10/site-packages (from huggingface-hub->timm) (4.66.4)\n",
      "Requirement already satisfied: numpy in /data/zlhu/miniconda3/envs/peft/lib/python3.10/site-packages (from torchvision->timm) (1.26.4)\n",
      "Requirement already satisfied: pillow!=8.3.*,>=5.3.0 in /data/zlhu/miniconda3/envs/peft/lib/python3.10/site-packages (from torchvision->timm) (10.3.0)\n",
      "Requirement already satisfied: MarkupSafe>=2.0 in /data/zlhu/miniconda3/envs/peft/lib/python3.10/site-packages (from jinja2->torch>=1.7->timm) (2.1.5)\n",
      "Requirement already satisfied: charset-normalizer<4,>=2 in /data/zlhu/miniconda3/envs/peft/lib/python3.10/site-packages (from requests->huggingface-hub->timm) (3.3.2)\n",
      "Requirement already satisfied: idna<4,>=2.5 in /data/zlhu/miniconda3/envs/peft/lib/python3.10/site-packages (from requests->huggingface-hub->timm) (3.7)\n",
      "Requirement already satisfied: urllib3<3,>=1.21.1 in /data/zlhu/miniconda3/envs/peft/lib/python3.10/site-packages (from requests->huggingface-hub->timm) (2.2.1)\n",
      "Requirement already satisfied: certifi>=2017.4.17 in /data/zlhu/miniconda3/envs/peft/lib/python3.10/site-packages (from requests->huggingface-hub->timm) (2024.2.2)\n",
      "Requirement already satisfied: mpmath>=0.19 in /data/zlhu/miniconda3/envs/peft/lib/python3.10/site-packages (from sympy->torch>=1.7->timm) (1.3.0)\n"
     ]
    }
   ],
   "source": [
    "!pip install timm"
   ]
  },
  {
   "cell_type": "code",
   "execution_count": 89,
   "id": "c3401126-756b-4394-930c-c833c1f574b0",
   "metadata": {
    "execution": {
     "iopub.execute_input": "2024-06-07T04:22:07.393668Z",
     "iopub.status.busy": "2024-06-07T04:22:07.392834Z",
     "iopub.status.idle": "2024-06-07T04:22:08.603021Z",
     "shell.execute_reply": "2024-06-07T04:22:08.601968Z",
     "shell.execute_reply.started": "2024-06-07T04:22:07.393609Z"
    }
   },
   "outputs": [
    {
     "name": "stderr",
     "output_type": "stream",
     "text": [
      "No model was supplied, defaulted to facebook/detr-resnet-50 and revision 2729413 (https://hf-mirror.com/facebook/detr-resnet-50).\n",
      "Using a pipeline without specifying a model name and revision in production is not recommended.\n",
      "Some weights of the model checkpoint at facebook/detr-resnet-50 were not used when initializing DetrForObjectDetection: ['model.backbone.conv_encoder.model.layer1.0.downsample.1.num_batches_tracked', 'model.backbone.conv_encoder.model.layer2.0.downsample.1.num_batches_tracked', 'model.backbone.conv_encoder.model.layer3.0.downsample.1.num_batches_tracked', 'model.backbone.conv_encoder.model.layer4.0.downsample.1.num_batches_tracked']\n",
      "- This IS expected if you are initializing DetrForObjectDetection from the checkpoint of a model trained on another task or with another architecture (e.g. initializing a BertForSequenceClassification model from a BertForPreTraining model).\n",
      "- This IS NOT expected if you are initializing DetrForObjectDetection from the checkpoint of a model that you expect to be exactly identical (initializing a BertForSequenceClassification model from a BertForSequenceClassification model).\n"
     ]
    }
   ],
   "source": [
    "from transformers import pipeline\n",
    "\n",
    "detector = pipeline(task=\"object-detection\")"
   ]
  },
  {
   "cell_type": "code",
   "execution_count": 91,
   "id": "32dc65d4-3868-4d10-a433-9f50832e8e68",
   "metadata": {
    "execution": {
     "iopub.execute_input": "2024-06-07T04:22:46.403408Z",
     "iopub.status.busy": "2024-06-07T04:22:46.402542Z",
     "iopub.status.idle": "2024-06-07T04:22:47.496716Z",
     "shell.execute_reply": "2024-06-07T04:22:47.496084Z",
     "shell.execute_reply.started": "2024-06-07T04:22:46.403349Z"
    }
   },
   "outputs": [
    {
     "data": {
      "text/plain": [
       "[{'score': 0.9864,\n",
       "  'label': 'cat',\n",
       "  'box': {'xmin': 178, 'ymin': 154, 'xmax': 882, 'ymax': 598}}]"
      ]
     },
     "execution_count": 91,
     "metadata": {},
     "output_type": "execute_result"
    }
   ],
   "source": [
    "preds = detector(\n",
    "    \"data/image/cat-chonk.jpeg\"\n",
    ")\n",
    "preds = [{\"score\": round(pred[\"score\"], 4), \"label\": pred[\"label\"], \"box\": pred[\"box\"]} for pred in preds]\n",
    "preds"
   ]
  },
  {
   "cell_type": "code",
   "execution_count": 92,
   "id": "5e18e4e0-5fe3-4e7b-8993-fd10c41c58bf",
   "metadata": {
    "execution": {
     "iopub.execute_input": "2024-06-07T04:23:12.945755Z",
     "iopub.status.busy": "2024-06-07T04:23:12.944920Z",
     "iopub.status.idle": "2024-06-07T04:23:13.934040Z",
     "shell.execute_reply": "2024-06-07T04:23:13.933526Z",
     "shell.execute_reply.started": "2024-06-07T04:23:12.945697Z"
    }
   },
   "outputs": [
    {
     "data": {
      "text/plain": [
       "[{'score': 0.9168,\n",
       "  'label': 'bear',\n",
       "  'box': {'xmin': 89, 'ymin': 142, 'xmax': 667, 'ymax': 597}}]"
      ]
     },
     "execution_count": 92,
     "metadata": {},
     "output_type": "execute_result"
    }
   ],
   "source": [
    "preds = detector(\n",
    "    \"data/image/panda.jpg\"\n",
    ")\n",
    "preds = [{\"score\": round(pred[\"score\"], 4), \"label\": pred[\"label\"], \"box\": pred[\"box\"]} for pred in preds]\n",
    "preds"
   ]
  },
  {
   "cell_type": "markdown",
   "id": "550759be-93ab-4988-81f0-c0cb8eccfda8",
   "metadata": {},
   "source": [
    "![](data/image/cat_dog.jpg)"
   ]
  },
  {
   "cell_type": "code",
   "execution_count": 93,
   "id": "40f66cd7-f2c8-4af3-b9ab-60012792ec1b",
   "metadata": {
    "execution": {
     "iopub.execute_input": "2024-06-07T04:24:15.287476Z",
     "iopub.status.busy": "2024-06-07T04:24:15.286642Z",
     "iopub.status.idle": "2024-06-07T04:24:16.274911Z",
     "shell.execute_reply": "2024-06-07T04:24:16.274418Z",
     "shell.execute_reply.started": "2024-06-07T04:24:15.287418Z"
    }
   },
   "outputs": [
    {
     "data": {
      "text/plain": [
       "[{'score': 0.9985,\n",
       "  'label': 'cat',\n",
       "  'box': {'xmin': 78, 'ymin': 57, 'xmax': 309, 'ymax': 371}},\n",
       " {'score': 0.989,\n",
       "  'label': 'dog',\n",
       "  'box': {'xmin': 279, 'ymin': 20, 'xmax': 482, 'ymax': 416}}]"
      ]
     },
     "execution_count": 93,
     "metadata": {},
     "output_type": "execute_result"
    }
   ],
   "source": [
    "preds = detector(\n",
    "    \"data/image/cat_dog.jpg\"\n",
    ")\n",
    "preds = [{\"score\": round(pred[\"score\"], 4), \"label\": pred[\"label\"], \"box\": pred[\"box\"]} for pred in preds]\n",
    "preds"
   ]
  },
  {
   "cell_type": "code",
   "execution_count": null,
   "id": "1d591246-662b-47e0-8531-f862b05ba1ad",
   "metadata": {},
   "outputs": [],
   "source": []
  },
  {
   "cell_type": "code",
   "execution_count": null,
   "id": "d1565e1d-20bf-4b19-86c1-dd3a8983a999",
   "metadata": {},
   "outputs": [],
   "source": []
  },
  {
   "cell_type": "markdown",
   "id": "e4993a9f-1032-46ab-97b1-a028d4bd5ebc",
   "metadata": {},
   "source": [
    "### Homework：替换以上示例中的模型，对比不同模型在相同任务上的性能表现\n",
    "\n",
    "在 Hugging Face Models 中找到适合你的模型：https://huggingface.co/models"
   ]
  },
  {
   "cell_type": "code",
   "execution_count": null,
   "id": "be3f51d2-863d-44f6-836f-9051351985ae",
   "metadata": {},
   "outputs": [],
   "source": []
  }
 ],
 "metadata": {
  "kernelspec": {
   "display_name": "peft",
   "language": "python",
   "name": "peft"
  },
  "language_info": {
   "codemirror_mode": {
    "name": "ipython",
    "version": 3
   },
   "file_extension": ".py",
   "mimetype": "text/x-python",
   "name": "python",
   "nbconvert_exporter": "python",
   "pygments_lexer": "ipython3",
   "version": "3.10.14"
  },
  "widgets": {
   "application/vnd.jupyter.widget-state+json": {
    "state": {
     "007da15294ae41838314c4b5887a3f3d": {
      "model_module": "@jupyter-widgets/controls",
      "model_module_version": "2.0.0",
      "model_name": "HTMLModel",
      "state": {
       "_model_module": "@jupyter-widgets/controls",
       "_model_name": "HTMLModel",
       "_view_name": "ErrorWidgetView",
       "description": "",
       "description_allow_html": false,
       "error": {
        "message": "Loading chunk 495 failed.\n(error: http://192.168.3.2:9900/lab/extensions/@jupyter-widgets/jupyterlab-manager/static/495.3e275af54861cdeb3e75.js?v=3e275af54861cdeb3e75)",
        "name": "ChunkLoadError",
        "request": "http://192.168.3.2:9900/lab/extensions/@jupyter-widgets/jupyterlab-manager/static/495.3e275af54861cdeb3e75.js?v=3e275af54861cdeb3e75",
        "type": "error"
       },
       "layout": "IPY_MODEL_0516c64998474fa586f1d4b8df1a4eae",
       "msg": "Failed to load model class 'HTMLModel' from module '@jupyter-widgets/controls'",
       "placeholder": "​",
       "style": "IPY_MODEL_3d34b51e129242b592e9780c30436d97",
       "value": "config.json: "
      }
     },
     "009f9080410345dd8259799136f1f4de": {
      "model_module": "@jupyter-widgets/controls",
      "model_module_version": "2.0.0",
      "model_name": "HBoxModel",
      "state": {
       "_model_module": "@jupyter-widgets/controls",
       "_model_name": "HBoxModel",
       "_view_name": "ErrorWidgetView",
       "box_style": "",
       "children": [
        "IPY_MODEL_d5b7614389374963a2eec461fbb6e5bd",
        "IPY_MODEL_91c020519ae14506982119b807dbbe82",
        "IPY_MODEL_e0e635ff333b4679ae57f0815075acb4"
       ],
       "error": {
        "message": "Loading chunk 202 failed.\n(error: http://192.168.3.2:9900/lab/extensions/@jupyter-widgets/jupyterlab-manager/static/202.0336063976910618ce3f.js?v=0336063976910618ce3f)",
        "name": "ChunkLoadError",
        "request": "http://192.168.3.2:9900/lab/extensions/@jupyter-widgets/jupyterlab-manager/static/202.0336063976910618ce3f.js?v=0336063976910618ce3f",
        "type": "error"
       },
       "layout": "IPY_MODEL_90118d8f68d747998a92c7effa755149",
       "msg": "Failed to load model class 'HBoxModel' from module '@jupyter-widgets/controls'"
      }
     },
     "00b2c966eabd4525b0a2d8918d103af0": {
      "model_module": "@jupyter-widgets/controls",
      "model_module_version": "2.0.0",
      "model_name": "HBoxModel",
      "state": {
       "_model_module": "@jupyter-widgets/controls",
       "_model_name": "HBoxModel",
       "_view_name": "ErrorWidgetView",
       "box_style": "",
       "children": [
        "IPY_MODEL_c5f8b28013d24cca8cb304030464b73d",
        "IPY_MODEL_40cd85b86bf44226a58cc8fe9d9dce68",
        "IPY_MODEL_faa6f84a3c84440c86b2ee8d67a992a3"
       ],
       "error": {
        "message": "Loading chunk 202 failed.\n(error: http://192.168.3.2:9900/lab/extensions/@jupyter-widgets/jupyterlab-manager/static/202.0336063976910618ce3f.js?v=0336063976910618ce3f)",
        "name": "ChunkLoadError",
        "request": "http://192.168.3.2:9900/lab/extensions/@jupyter-widgets/jupyterlab-manager/static/202.0336063976910618ce3f.js?v=0336063976910618ce3f",
        "type": "error"
       },
       "layout": "IPY_MODEL_1295b3b601984eafbbfc10199c09b2e8",
       "msg": "Failed to load model class 'HBoxModel' from module '@jupyter-widgets/controls'"
      }
     },
     "00ed9223b178428a99ee0c6d5825a94e": {
      "model_module": "@jupyter-widgets/controls",
      "model_module_version": "2.0.0",
      "model_name": "HTMLStyleModel",
      "state": {
       "_model_module": "@jupyter-widgets/controls",
       "_model_name": "HTMLStyleModel",
       "_view_name": "ErrorWidgetView",
       "background": null,
       "description_width": "",
       "error": {
        "message": "Loading chunk 202 failed.\n(error: http://192.168.3.2:9900/lab/extensions/@jupyter-widgets/jupyterlab-manager/static/202.0336063976910618ce3f.js?v=0336063976910618ce3f)",
        "name": "ChunkLoadError",
        "request": "http://192.168.3.2:9900/lab/extensions/@jupyter-widgets/jupyterlab-manager/static/202.0336063976910618ce3f.js?v=0336063976910618ce3f",
        "type": "error"
       },
       "font_size": null,
       "msg": "Failed to load model class 'HTMLStyleModel' from module '@jupyter-widgets/controls'",
       "text_color": null
      }
     },
     "00ef3f8ad8344c32b0dfef4a915b4d93": {
      "model_module": "@jupyter-widgets/base",
      "model_module_version": "2.0.0",
      "model_name": "LayoutModel",
      "state": {}
     },
     "00efc1eb292c435ab57bc114dc9e3b55": {
      "model_module": "@jupyter-widgets/controls",
      "model_module_version": "2.0.0",
      "model_name": "HTMLModel",
      "state": {
       "_model_module": "@jupyter-widgets/controls",
       "_model_name": "HTMLModel",
       "_view_name": "ErrorWidgetView",
       "description": "",
       "description_allow_html": false,
       "error": {
        "message": "Loading chunk 202 failed.\n(error: http://192.168.3.2:9900/lab/extensions/@jupyter-widgets/jupyterlab-manager/static/202.0336063976910618ce3f.js?v=0336063976910618ce3f)",
        "name": "ChunkLoadError",
        "request": "http://192.168.3.2:9900/lab/extensions/@jupyter-widgets/jupyterlab-manager/static/202.0336063976910618ce3f.js?v=0336063976910618ce3f",
        "type": "error"
       },
       "layout": "IPY_MODEL_85d68afae16c468d8e4ae1e4c628433e",
       "msg": "Failed to load model class 'HTMLModel' from module '@jupyter-widgets/controls'",
       "placeholder": "​",
       "style": "IPY_MODEL_bb1eae8aa7b14eb289d209f7ae69b2bf",
       "value": " 967M/967M [00:20&lt;00:00, 43.6MB/s]"
      }
     },
     "016cb28472444f6183e26946f8436ab9": {
      "model_module": "@jupyter-widgets/controls",
      "model_module_version": "2.0.0",
      "model_name": "ProgressStyleModel",
      "state": {
       "_model_module": "@jupyter-widgets/controls",
       "_model_name": "ProgressStyleModel",
       "_view_name": "ErrorWidgetView",
       "bar_color": null,
       "description_width": "",
       "error": {
        "message": "Loading chunk 202 failed.\n(error: http://192.168.3.2:9900/lab/extensions/@jupyter-widgets/jupyterlab-manager/static/202.0336063976910618ce3f.js?v=0336063976910618ce3f)",
        "name": "ChunkLoadError",
        "request": "http://192.168.3.2:9900/lab/extensions/@jupyter-widgets/jupyterlab-manager/static/202.0336063976910618ce3f.js?v=0336063976910618ce3f",
        "type": "error"
       },
       "msg": "Failed to load model class 'ProgressStyleModel' from module '@jupyter-widgets/controls'"
      }
     },
     "01770f3a94824e77af3787d0371bea47": {
      "model_module": "@jupyter-widgets/controls",
      "model_module_version": "2.0.0",
      "model_name": "HTMLStyleModel",
      "state": {
       "_model_module": "@jupyter-widgets/controls",
       "_model_name": "HTMLStyleModel",
       "_view_name": "ErrorWidgetView",
       "background": null,
       "description_width": "",
       "error": {
        "message": "Loading chunk 495 failed.\n(error: http://192.168.3.2:9900/lab/extensions/@jupyter-widgets/jupyterlab-manager/static/495.3e275af54861cdeb3e75.js?v=3e275af54861cdeb3e75)",
        "name": "ChunkLoadError",
        "request": "http://192.168.3.2:9900/lab/extensions/@jupyter-widgets/jupyterlab-manager/static/495.3e275af54861cdeb3e75.js?v=3e275af54861cdeb3e75",
        "type": "error"
       },
       "font_size": null,
       "msg": "Failed to load model class 'HTMLStyleModel' from module '@jupyter-widgets/controls'",
       "text_color": null
      }
     },
     "01aceb6cfe3b4918a47ff0055f29d13e": {
      "model_module": "@jupyter-widgets/controls",
      "model_module_version": "2.0.0",
      "model_name": "HBoxModel",
      "state": {
       "_model_module": "@jupyter-widgets/controls",
       "_model_name": "HBoxModel",
       "_view_name": "ErrorWidgetView",
       "box_style": "",
       "children": [
        "IPY_MODEL_3da7ba9b1f294dab87df4450f499ac9b",
        "IPY_MODEL_f8e813e38e0a40caa002ef28b0218f38",
        "IPY_MODEL_6280409e109b491abfe42d72f128fddc"
       ],
       "error": {
        "message": "Loading chunk 202 failed.\n(error: http://192.168.3.2:9900/lab/extensions/@jupyter-widgets/jupyterlab-manager/static/202.0336063976910618ce3f.js?v=0336063976910618ce3f)",
        "name": "ChunkLoadError",
        "request": "http://192.168.3.2:9900/lab/extensions/@jupyter-widgets/jupyterlab-manager/static/202.0336063976910618ce3f.js?v=0336063976910618ce3f",
        "type": "error"
       },
       "layout": "IPY_MODEL_a2e7aadc25dd46d5ae49da81cc5f876e",
       "msg": "Failed to load model class 'HBoxModel' from module '@jupyter-widgets/controls'"
      }
     },
     "01be8dd60081472bbb85603657206ec4": {
      "model_module": "@jupyter-widgets/base",
      "model_module_version": "2.0.0",
      "model_name": "LayoutModel",
      "state": {}
     },
     "01c148d39bef4bb5bd275c217bfc4e02": {
      "model_module": "@jupyter-widgets/controls",
      "model_module_version": "2.0.0",
      "model_name": "FloatProgressModel",
      "state": {
       "_model_module": "@jupyter-widgets/controls",
       "_model_name": "FloatProgressModel",
       "_view_name": "ErrorWidgetView",
       "bar_style": "success",
       "description": "",
       "description_allow_html": false,
       "error": {
        "message": "Loading chunk 495 failed.\n(error: http://192.168.3.2:9900/lab/extensions/@jupyter-widgets/jupyterlab-manager/static/495.3e275af54861cdeb3e75.js?v=3e275af54861cdeb3e75)",
        "name": "ChunkLoadError",
        "request": "http://192.168.3.2:9900/lab/extensions/@jupyter-widgets/jupyterlab-manager/static/495.3e275af54861cdeb3e75.js?v=3e275af54861cdeb3e75",
        "type": "error"
       },
       "layout": "IPY_MODEL_c588e1c4178f41719f96e8fc5473b2e7",
       "max": 384,
       "min": 0,
       "msg": "Failed to load model class 'FloatProgressModel' from module '@jupyter-widgets/controls'",
       "orientation": "horizontal",
       "style": "IPY_MODEL_e1354d7a14e248cc9ebc2502d2621d4d",
       "value": 384
      }
     },
     "01eb1074fcf74fd788cad61f1eba2974": {
      "model_module": "@jupyter-widgets/controls",
      "model_module_version": "2.0.0",
      "model_name": "ProgressStyleModel",
      "state": {
       "_model_module": "@jupyter-widgets/controls",
       "_model_name": "ProgressStyleModel",
       "_view_name": "ErrorWidgetView",
       "bar_color": null,
       "description_width": "",
       "error": {
        "message": "Loading chunk 202 failed.\n(error: http://192.168.3.2:9900/lab/extensions/@jupyter-widgets/jupyterlab-manager/static/202.0336063976910618ce3f.js?v=0336063976910618ce3f)",
        "name": "ChunkLoadError",
        "request": "http://192.168.3.2:9900/lab/extensions/@jupyter-widgets/jupyterlab-manager/static/202.0336063976910618ce3f.js?v=0336063976910618ce3f",
        "type": "error"
       },
       "msg": "Failed to load model class 'ProgressStyleModel' from module '@jupyter-widgets/controls'"
      }
     },
     "022c83b1fb864f20b6011e37609ad751": {
      "model_module": "@jupyter-widgets/controls",
      "model_module_version": "2.0.0",
      "model_name": "HTMLStyleModel",
      "state": {
       "_model_module": "@jupyter-widgets/controls",
       "_model_name": "HTMLStyleModel",
       "_view_name": "ErrorWidgetView",
       "background": null,
       "description_width": "",
       "error": {
        "message": "Loading chunk 202 failed.\n(error: http://192.168.3.2:9900/lab/extensions/@jupyter-widgets/jupyterlab-manager/static/202.0336063976910618ce3f.js?v=0336063976910618ce3f)",
        "name": "ChunkLoadError",
        "request": "http://192.168.3.2:9900/lab/extensions/@jupyter-widgets/jupyterlab-manager/static/202.0336063976910618ce3f.js?v=0336063976910618ce3f",
        "type": "error"
       },
       "font_size": null,
       "msg": "Failed to load model class 'HTMLStyleModel' from module '@jupyter-widgets/controls'",
       "text_color": null
      }
     },
     "02566c75ce4843acb36efb495d73e068": {
      "model_module": "@jupyter-widgets/controls",
      "model_module_version": "2.0.0",
      "model_name": "HTMLStyleModel",
      "state": {
       "_model_module": "@jupyter-widgets/controls",
       "_model_name": "HTMLStyleModel",
       "_view_name": "ErrorWidgetView",
       "background": null,
       "description_width": "",
       "error": {
        "message": "Loading chunk 495 failed.\n(error: http://192.168.3.2:9900/lab/extensions/@jupyter-widgets/jupyterlab-manager/static/495.3e275af54861cdeb3e75.js?v=3e275af54861cdeb3e75)",
        "name": "ChunkLoadError",
        "request": "http://192.168.3.2:9900/lab/extensions/@jupyter-widgets/jupyterlab-manager/static/495.3e275af54861cdeb3e75.js?v=3e275af54861cdeb3e75",
        "type": "error"
       },
       "font_size": null,
       "msg": "Failed to load model class 'HTMLStyleModel' from module '@jupyter-widgets/controls'",
       "text_color": null
      }
     },
     "02827f3608504a88a5974d4dfb1b2fd7": {
      "model_module": "@jupyter-widgets/controls",
      "model_module_version": "2.0.0",
      "model_name": "HTMLStyleModel",
      "state": {
       "_model_module": "@jupyter-widgets/controls",
       "_model_name": "HTMLStyleModel",
       "_view_name": "ErrorWidgetView",
       "background": null,
       "description_width": "",
       "error": {
        "message": "Loading chunk 495 failed.\n(error: http://192.168.3.2:9900/lab/extensions/@jupyter-widgets/jupyterlab-manager/static/495.3e275af54861cdeb3e75.js?v=3e275af54861cdeb3e75)",
        "name": "ChunkLoadError",
        "request": "http://192.168.3.2:9900/lab/extensions/@jupyter-widgets/jupyterlab-manager/static/495.3e275af54861cdeb3e75.js?v=3e275af54861cdeb3e75",
        "type": "error"
       },
       "font_size": null,
       "msg": "Failed to load model class 'HTMLStyleModel' from module '@jupyter-widgets/controls'",
       "text_color": null
      }
     },
     "02c17fcad18f4810a01369d7c13d11cf": {
      "model_module": "@jupyter-widgets/base",
      "model_module_version": "2.0.0",
      "model_name": "LayoutModel",
      "state": {}
     },
     "0313b21932db4ec8b0174a321420cee7": {
      "model_module": "@jupyter-widgets/controls",
      "model_module_version": "2.0.0",
      "model_name": "FloatProgressModel",
      "state": {
       "_model_module": "@jupyter-widgets/controls",
       "_model_name": "FloatProgressModel",
       "_view_name": "ErrorWidgetView",
       "bar_style": "success",
       "description": "",
       "description_allow_html": false,
       "error": {
        "message": "Loading chunk 495 failed.\n(error: http://192.168.3.2:9900/lab/extensions/@jupyter-widgets/jupyterlab-manager/static/495.3e275af54861cdeb3e75.js?v=3e275af54861cdeb3e75)",
        "name": "ChunkLoadError",
        "request": "http://192.168.3.2:9900/lab/extensions/@jupyter-widgets/jupyterlab-manager/static/495.3e275af54861cdeb3e75.js?v=3e275af54861cdeb3e75",
        "type": "error"
       },
       "layout": "IPY_MODEL_65a12d04b8f746feb434dba6e71f898c",
       "max": 1726,
       "min": 0,
       "msg": "Failed to load model class 'FloatProgressModel' from module '@jupyter-widgets/controls'",
       "orientation": "horizontal",
       "style": "IPY_MODEL_a9bf920fa84b40efa5cba2b43b8ef56d",
       "value": 1726
      }
     },
     "033f556e10cf45abab31c88691ad3c7a": {
      "model_module": "@jupyter-widgets/base",
      "model_module_version": "2.0.0",
      "model_name": "LayoutModel",
      "state": {}
     },
     "03409ade2f2741a28d4d2f3f195c4aa4": {
      "model_module": "@jupyter-widgets/controls",
      "model_module_version": "2.0.0",
      "model_name": "HTMLModel",
      "state": {
       "_model_module": "@jupyter-widgets/controls",
       "_model_name": "HTMLModel",
       "_view_name": "ErrorWidgetView",
       "description": "",
       "description_allow_html": false,
       "error": {
        "message": "Loading chunk 202 failed.\n(error: http://192.168.3.2:9900/lab/extensions/@jupyter-widgets/jupyterlab-manager/static/202.0336063976910618ce3f.js?v=0336063976910618ce3f)",
        "name": "ChunkLoadError",
        "request": "http://192.168.3.2:9900/lab/extensions/@jupyter-widgets/jupyterlab-manager/static/202.0336063976910618ce3f.js?v=0336063976910618ce3f",
        "type": "error"
       },
       "layout": "IPY_MODEL_2afea25fdb08479e855dfa5e685ff65d",
       "msg": "Failed to load model class 'HTMLModel' from module '@jupyter-widgets/controls'",
       "placeholder": "​",
       "style": "IPY_MODEL_b5a5f2cef0024803b25a536103eeb4d9",
       "value": " 213k/? [00:00&lt;00:00, 690kB/s]"
      }
     },
     "0376764516ff4c488fb8bd2bdb30342e": {
      "model_module": "@jupyter-widgets/controls",
      "model_module_version": "2.0.0",
      "model_name": "ProgressStyleModel",
      "state": {
       "_model_module": "@jupyter-widgets/controls",
       "_model_name": "ProgressStyleModel",
       "_view_name": "ErrorWidgetView",
       "bar_color": null,
       "description_width": "",
       "error": {
        "message": "Loading chunk 495 failed.\n(error: http://192.168.3.2:9900/lab/extensions/@jupyter-widgets/jupyterlab-manager/static/495.3e275af54861cdeb3e75.js?v=3e275af54861cdeb3e75)",
        "name": "ChunkLoadError",
        "request": "http://192.168.3.2:9900/lab/extensions/@jupyter-widgets/jupyterlab-manager/static/495.3e275af54861cdeb3e75.js?v=3e275af54861cdeb3e75",
        "type": "error"
       },
       "msg": "Failed to load model class 'ProgressStyleModel' from module '@jupyter-widgets/controls'"
      }
     },
     "0386c801c7b44922b50581aaf1fc6d29": {
      "model_module": "@jupyter-widgets/controls",
      "model_module_version": "2.0.0",
      "model_name": "HTMLModel",
      "state": {
       "_model_module": "@jupyter-widgets/controls",
       "_model_name": "HTMLModel",
       "_view_name": "ErrorWidgetView",
       "description": "",
       "description_allow_html": false,
       "error": {
        "message": "Loading chunk 495 failed.\n(error: http://192.168.3.2:9900/lab/extensions/@jupyter-widgets/jupyterlab-manager/static/495.3e275af54861cdeb3e75.js?v=3e275af54861cdeb3e75)",
        "name": "ChunkLoadError",
        "request": "http://192.168.3.2:9900/lab/extensions/@jupyter-widgets/jupyterlab-manager/static/495.3e275af54861cdeb3e75.js?v=3e275af54861cdeb3e75",
        "type": "error"
       },
       "layout": "IPY_MODEL_d39c228da71f45a99d246faad3f5597c",
       "msg": "Failed to load model class 'HTMLModel' from module '@jupyter-widgets/controls'",
       "placeholder": "​",
       "style": "IPY_MODEL_a73883fc53d8455185ca445ac4717240",
       "value": " 456k/? [00:00&lt;00:00, 995kB/s]"
      }
     },
     "04107641a1e14fab875ae79ce552f0ec": {
      "model_module": "@jupyter-widgets/controls",
      "model_module_version": "2.0.0",
      "model_name": "FloatProgressModel",
      "state": {
       "_model_module": "@jupyter-widgets/controls",
       "_model_name": "FloatProgressModel",
       "_view_name": "ErrorWidgetView",
       "bar_style": "success",
       "description": "",
       "description_allow_html": false,
       "error": {
        "message": "Loading chunk 202 failed.\n(error: http://192.168.3.2:9900/lab/extensions/@jupyter-widgets/jupyterlab-manager/static/202.0336063976910618ce3f.js?v=0336063976910618ce3f)",
        "name": "ChunkLoadError",
        "request": "http://192.168.3.2:9900/lab/extensions/@jupyter-widgets/jupyterlab-manager/static/202.0336063976910618ce3f.js?v=0336063976910618ce3f",
        "type": "error"
       },
       "layout": "IPY_MODEL_e92304d406b146a88cb66eddf3e4e8f2",
       "max": 1,
       "min": 0,
       "msg": "Failed to load model class 'FloatProgressModel' from module '@jupyter-widgets/controls'",
       "orientation": "horizontal",
       "style": "IPY_MODEL_a345e36fa814497680be74ad605ea4d4",
       "value": 1
      }
     },
     "04aa4f94118c4dfaa9fcfd9276f94bf4": {
      "model_module": "@jupyter-widgets/controls",
      "model_module_version": "2.0.0",
      "model_name": "FloatProgressModel",
      "state": {
       "_model_module": "@jupyter-widgets/controls",
       "_model_name": "FloatProgressModel",
       "_view_name": "ErrorWidgetView",
       "bar_style": "success",
       "description": "",
       "description_allow_html": false,
       "error": {
        "message": "Loading chunk 495 failed.\n(error: http://192.168.3.2:9900/lab/extensions/@jupyter-widgets/jupyterlab-manager/static/495.3e275af54861cdeb3e75.js?v=3e275af54861cdeb3e75)",
        "name": "ChunkLoadError",
        "request": "http://192.168.3.2:9900/lab/extensions/@jupyter-widgets/jupyterlab-manager/static/495.3e275af54861cdeb3e75.js?v=3e275af54861cdeb3e75",
        "type": "error"
       },
       "layout": "IPY_MODEL_9a896a69776149c8b51af70dda01ac2d",
       "max": 470,
       "min": 0,
       "msg": "Failed to load model class 'FloatProgressModel' from module '@jupyter-widgets/controls'",
       "orientation": "horizontal",
       "style": "IPY_MODEL_4744620ab193407b945e387afe9a6cc4",
       "value": 470
      }
     },
     "04dfd62dcfb040ffb645653d13d35565": {
      "model_module": "@jupyter-widgets/controls",
      "model_module_version": "2.0.0",
      "model_name": "HTMLStyleModel",
      "state": {
       "_model_module": "@jupyter-widgets/controls",
       "_model_name": "HTMLStyleModel",
       "_view_name": "ErrorWidgetView",
       "background": null,
       "description_width": "",
       "error": {
        "message": "Loading chunk 495 failed.\n(error: http://192.168.3.2:9900/lab/extensions/@jupyter-widgets/jupyterlab-manager/static/495.3e275af54861cdeb3e75.js?v=3e275af54861cdeb3e75)",
        "name": "ChunkLoadError",
        "request": "http://192.168.3.2:9900/lab/extensions/@jupyter-widgets/jupyterlab-manager/static/495.3e275af54861cdeb3e75.js?v=3e275af54861cdeb3e75",
        "type": "error"
       },
       "font_size": null,
       "msg": "Failed to load model class 'HTMLStyleModel' from module '@jupyter-widgets/controls'",
       "text_color": null
      }
     },
     "0516c64998474fa586f1d4b8df1a4eae": {
      "model_module": "@jupyter-widgets/base",
      "model_module_version": "2.0.0",
      "model_name": "LayoutModel",
      "state": {}
     },
     "054feaf766134b80b27e6dd06ef83a6a": {
      "model_module": "@jupyter-widgets/base",
      "model_module_version": "2.0.0",
      "model_name": "LayoutModel",
      "state": {}
     },
     "05d9ac2e913f4eaabc0131f4d739a619": {
      "model_module": "@jupyter-widgets/controls",
      "model_module_version": "2.0.0",
      "model_name": "ProgressStyleModel",
      "state": {
       "_model_module": "@jupyter-widgets/controls",
       "_model_name": "ProgressStyleModel",
       "_view_name": "ErrorWidgetView",
       "bar_color": null,
       "description_width": "",
       "error": {
        "message": "Loading chunk 202 failed.\n(error: http://192.168.3.2:9900/lab/extensions/@jupyter-widgets/jupyterlab-manager/static/202.0336063976910618ce3f.js?v=0336063976910618ce3f)",
        "name": "ChunkLoadError",
        "request": "http://192.168.3.2:9900/lab/extensions/@jupyter-widgets/jupyterlab-manager/static/202.0336063976910618ce3f.js?v=0336063976910618ce3f",
        "type": "error"
       },
       "msg": "Failed to load model class 'ProgressStyleModel' from module '@jupyter-widgets/controls'"
      }
     },
     "0640f305e7d74dfb9ee7695071ba4850": {
      "model_module": "@jupyter-widgets/controls",
      "model_module_version": "2.0.0",
      "model_name": "FloatProgressModel",
      "state": {
       "_model_module": "@jupyter-widgets/controls",
       "_model_name": "FloatProgressModel",
       "_view_name": "ErrorWidgetView",
       "bar_style": "success",
       "description": "",
       "description_allow_html": false,
       "error": {
        "message": "Loading chunk 495 failed.\n(error: http://192.168.3.2:9900/lab/extensions/@jupyter-widgets/jupyterlab-manager/static/495.3e275af54861cdeb3e75.js?v=3e275af54861cdeb3e75)",
        "name": "ChunkLoadError",
        "request": "http://192.168.3.2:9900/lab/extensions/@jupyter-widgets/jupyterlab-manager/static/495.3e275af54861cdeb3e75.js?v=3e275af54861cdeb3e75",
        "type": "error"
       },
       "layout": "IPY_MODEL_69f617223abe47be8217544362db0e6a",
       "max": 517,
       "min": 0,
       "msg": "Failed to load model class 'FloatProgressModel' from module '@jupyter-widgets/controls'",
       "orientation": "horizontal",
       "style": "IPY_MODEL_2ff294d82f824950ac54b5dd296f1af7",
       "value": 517
      }
     },
     "065b033dd0a94654b567554403b330eb": {
      "model_module": "@jupyter-widgets/controls",
      "model_module_version": "2.0.0",
      "model_name": "HTMLModel",
      "state": {
       "_model_module": "@jupyter-widgets/controls",
       "_model_name": "HTMLModel",
       "_view_name": "ErrorWidgetView",
       "description": "",
       "description_allow_html": false,
       "error": {
        "message": "Loading chunk 495 failed.\n(error: http://192.168.3.2:9900/lab/extensions/@jupyter-widgets/jupyterlab-manager/static/495.3e275af54861cdeb3e75.js?v=3e275af54861cdeb3e75)",
        "name": "ChunkLoadError",
        "request": "http://192.168.3.2:9900/lab/extensions/@jupyter-widgets/jupyterlab-manager/static/495.3e275af54861cdeb3e75.js?v=3e275af54861cdeb3e75",
        "type": "error"
       },
       "layout": "IPY_MODEL_bbffeec9e9fd45c3b076fe6f6ea518d7",
       "msg": "Failed to load model class 'HTMLModel' from module '@jupyter-widgets/controls'",
       "placeholder": "​",
       "style": "IPY_MODEL_b6111c464d474a9c91be5bdd5fe7048a",
       "value": " 69.7k/? [00:00&lt;00:00, 584kB/s]"
      }
     },
     "06995b41824e46dab2e361af9b03b751": {
      "model_module": "@jupyter-widgets/controls",
      "model_module_version": "2.0.0",
      "model_name": "HTMLStyleModel",
      "state": {
       "_model_module": "@jupyter-widgets/controls",
       "_model_name": "HTMLStyleModel",
       "_view_name": "ErrorWidgetView",
       "background": null,
       "description_width": "",
       "error": {
        "message": "Loading chunk 495 failed.\n(error: http://192.168.3.2:9900/lab/extensions/@jupyter-widgets/jupyterlab-manager/static/495.3e275af54861cdeb3e75.js?v=3e275af54861cdeb3e75)",
        "name": "ChunkLoadError",
        "request": "http://192.168.3.2:9900/lab/extensions/@jupyter-widgets/jupyterlab-manager/static/495.3e275af54861cdeb3e75.js?v=3e275af54861cdeb3e75",
        "type": "error"
       },
       "font_size": null,
       "msg": "Failed to load model class 'HTMLStyleModel' from module '@jupyter-widgets/controls'",
       "text_color": null
      }
     },
     "06ab80b5a9d54bcbb394fd35bf7a8463": {
      "model_module": "@jupyter-widgets/controls",
      "model_module_version": "2.0.0",
      "model_name": "HBoxModel",
      "state": {
       "_model_module": "@jupyter-widgets/controls",
       "_model_name": "HBoxModel",
       "_view_name": "ErrorWidgetView",
       "box_style": "",
       "children": [
        "IPY_MODEL_3179990003e34017bfdadd65216e8c23",
        "IPY_MODEL_f9f059f4bdc1430492a889f63efe7a7e",
        "IPY_MODEL_95bb1d2f910841fb854867f67450db2d"
       ],
       "error": {
        "message": "Loading chunk 495 failed.\n(error: http://192.168.3.2:9900/lab/extensions/@jupyter-widgets/jupyterlab-manager/static/495.3e275af54861cdeb3e75.js?v=3e275af54861cdeb3e75)",
        "name": "ChunkLoadError",
        "request": "http://192.168.3.2:9900/lab/extensions/@jupyter-widgets/jupyterlab-manager/static/495.3e275af54861cdeb3e75.js?v=3e275af54861cdeb3e75",
        "type": "error"
       },
       "layout": "IPY_MODEL_1dfaeadeadcf4d20894790567aaf883a",
       "msg": "Failed to load model class 'HBoxModel' from module '@jupyter-widgets/controls'"
      }
     },
     "06dcaa3879c1478a8c33fd2d97c0b0e7": {
      "model_module": "@jupyter-widgets/controls",
      "model_module_version": "2.0.0",
      "model_name": "HTMLModel",
      "state": {
       "_model_module": "@jupyter-widgets/controls",
       "_model_name": "HTMLModel",
       "_view_name": "ErrorWidgetView",
       "description": "",
       "description_allow_html": false,
       "error": {
        "message": "Loading chunk 495 failed.\n(error: http://192.168.3.2:9900/lab/extensions/@jupyter-widgets/jupyterlab-manager/static/495.3e275af54861cdeb3e75.js?v=3e275af54861cdeb3e75)",
        "name": "ChunkLoadError",
        "request": "http://192.168.3.2:9900/lab/extensions/@jupyter-widgets/jupyterlab-manager/static/495.3e275af54861cdeb3e75.js?v=3e275af54861cdeb3e75",
        "type": "error"
       },
       "layout": "IPY_MODEL_af9dcc72eb084679851292793dea4406",
       "msg": "Failed to load model class 'HTMLModel' from module '@jupyter-widgets/controls'",
       "placeholder": "​",
       "style": "IPY_MODEL_00ed9223b178428a99ee0c6d5825a94e",
       "value": "model.safetensors: 100%"
      }
     },
     "06f702cd74c543cb83f6891923637b45": {
      "model_module": "@jupyter-widgets/controls",
      "model_module_version": "2.0.0",
      "model_name": "HTMLStyleModel",
      "state": {
       "_model_module": "@jupyter-widgets/controls",
       "_model_name": "HTMLStyleModel",
       "_view_name": "ErrorWidgetView",
       "background": null,
       "description_width": "",
       "error": {
        "message": "Loading chunk 202 failed.\n(error: http://192.168.3.2:9900/lab/extensions/@jupyter-widgets/jupyterlab-manager/static/202.0336063976910618ce3f.js?v=0336063976910618ce3f)",
        "name": "ChunkLoadError",
        "request": "http://192.168.3.2:9900/lab/extensions/@jupyter-widgets/jupyterlab-manager/static/202.0336063976910618ce3f.js?v=0336063976910618ce3f",
        "type": "error"
       },
       "font_size": null,
       "msg": "Failed to load model class 'HTMLStyleModel' from module '@jupyter-widgets/controls'",
       "text_color": null
      }
     },
     "076c521844f84bb3ada4125012489212": {
      "model_module": "@jupyter-widgets/base",
      "model_module_version": "2.0.0",
      "model_name": "LayoutModel",
      "state": {}
     },
     "08378da9f03248f5b7f1449f59fb090c": {
      "model_module": "@jupyter-widgets/controls",
      "model_module_version": "2.0.0",
      "model_name": "HBoxModel",
      "state": {
       "_model_module": "@jupyter-widgets/controls",
       "_model_name": "HBoxModel",
       "_view_name": "ErrorWidgetView",
       "box_style": "",
       "children": [
        "IPY_MODEL_1982c2c536a844f9acbb8082af68f11a",
        "IPY_MODEL_ca500b0b54ea423aba680ecfdd5620c8",
        "IPY_MODEL_dede6ea452984f449f276b522abaf648"
       ],
       "error": {
        "message": "Loading chunk 202 failed.\n(error: http://192.168.3.2:9900/lab/extensions/@jupyter-widgets/jupyterlab-manager/static/202.0336063976910618ce3f.js?v=0336063976910618ce3f)",
        "name": "ChunkLoadError",
        "request": "http://192.168.3.2:9900/lab/extensions/@jupyter-widgets/jupyterlab-manager/static/202.0336063976910618ce3f.js?v=0336063976910618ce3f",
        "type": "error"
       },
       "layout": "IPY_MODEL_6d3f10b0f2ae4bc8b6d89e643f6bf5f9",
       "msg": "Failed to load model class 'HBoxModel' from module '@jupyter-widgets/controls'"
      }
     },
     "087af49717e145a9a6da81a339d74019": {
      "model_module": "@jupyter-widgets/base",
      "model_module_version": "2.0.0",
      "model_name": "LayoutModel",
      "state": {}
     },
     "08b7de7d50a64d78825a6d83b42112a0": {
      "model_module": "@jupyter-widgets/base",
      "model_module_version": "2.0.0",
      "model_name": "LayoutModel",
      "state": {}
     },
     "0966fbe9d5dc4f9b89f9bbe054ea9852": {
      "model_module": "@jupyter-widgets/base",
      "model_module_version": "2.0.0",
      "model_name": "LayoutModel",
      "state": {}
     },
     "09758d477f114a4f98ecbe2bb861fb45": {
      "model_module": "@jupyter-widgets/controls",
      "model_module_version": "2.0.0",
      "model_name": "HTMLStyleModel",
      "state": {
       "_model_module": "@jupyter-widgets/controls",
       "_model_name": "HTMLStyleModel",
       "_view_name": "ErrorWidgetView",
       "background": null,
       "description_width": "",
       "error": {
        "message": "Loading chunk 202 failed.\n(error: http://192.168.3.2:9900/lab/extensions/@jupyter-widgets/jupyterlab-manager/static/202.0336063976910618ce3f.js?v=0336063976910618ce3f)",
        "name": "ChunkLoadError",
        "request": "http://192.168.3.2:9900/lab/extensions/@jupyter-widgets/jupyterlab-manager/static/202.0336063976910618ce3f.js?v=0336063976910618ce3f",
        "type": "error"
       },
       "font_size": null,
       "msg": "Failed to load model class 'HTMLStyleModel' from module '@jupyter-widgets/controls'",
       "text_color": null
      }
     },
     "09afea5286b64ab8b2394851f428b131": {
      "model_module": "@jupyter-widgets/controls",
      "model_module_version": "2.0.0",
      "model_name": "HTMLModel",
      "state": {
       "_model_module": "@jupyter-widgets/controls",
       "_model_name": "HTMLModel",
       "_view_name": "ErrorWidgetView",
       "description": "",
       "description_allow_html": false,
       "error": {
        "message": "Loading chunk 495 failed.\n(error: http://192.168.3.2:9900/lab/extensions/@jupyter-widgets/jupyterlab-manager/static/495.3e275af54861cdeb3e75.js?v=3e275af54861cdeb3e75)",
        "name": "ChunkLoadError",
        "request": "http://192.168.3.2:9900/lab/extensions/@jupyter-widgets/jupyterlab-manager/static/495.3e275af54861cdeb3e75.js?v=3e275af54861cdeb3e75",
        "type": "error"
       },
       "layout": "IPY_MODEL_2ddb0c81f1a147a2aff4a1119f46d134",
       "msg": "Failed to load model class 'HTMLModel' from module '@jupyter-widgets/controls'",
       "placeholder": "​",
       "style": "IPY_MODEL_47fe72ba5ce5453da515900b040497b3",
       "value": " 167M/167M [00:04&lt;00:00, 39.3MB/s]"
      }
     },
     "0a0a820cdfac4b21ab5cbcf0a7c8b930": {
      "model_module": "@jupyter-widgets/base",
      "model_module_version": "2.0.0",
      "model_name": "LayoutModel",
      "state": {}
     },
     "0a6c872b7a604cf49ba2fdf8df2ed4d6": {
      "model_module": "@jupyter-widgets/controls",
      "model_module_version": "2.0.0",
      "model_name": "FloatProgressModel",
      "state": {
       "_model_module": "@jupyter-widgets/controls",
       "_model_name": "FloatProgressModel",
       "_view_name": "ErrorWidgetView",
       "bar_style": "success",
       "description": "",
       "description_allow_html": false,
       "error": {
        "message": "Loading chunk 495 failed.\n(error: http://192.168.3.2:9900/lab/extensions/@jupyter-widgets/jupyterlab-manager/static/495.3e275af54861cdeb3e75.js?v=3e275af54861cdeb3e75)",
        "name": "ChunkLoadError",
        "request": "http://192.168.3.2:9900/lab/extensions/@jupyter-widgets/jupyterlab-manager/static/495.3e275af54861cdeb3e75.js?v=3e275af54861cdeb3e75",
        "type": "error"
       },
       "layout": "IPY_MODEL_53ee660b776a4788a912190ff000ec96",
       "max": 669491321,
       "min": 0,
       "msg": "Failed to load model class 'FloatProgressModel' from module '@jupyter-widgets/controls'",
       "orientation": "horizontal",
       "style": "IPY_MODEL_fceb840c57cc47248829149af75f6e94",
       "value": 669491321
      }
     },
     "0af749b384f142d38aae65a441055b54": {
      "model_module": "@jupyter-widgets/base",
      "model_module_version": "2.0.0",
      "model_name": "LayoutModel",
      "state": {}
     },
     "0b08fdaad044493ea07d78636c0dc4bd": {
      "model_module": "@jupyter-widgets/controls",
      "model_module_version": "2.0.0",
      "model_name": "HTMLStyleModel",
      "state": {
       "_model_module": "@jupyter-widgets/controls",
       "_model_name": "HTMLStyleModel",
       "_view_name": "ErrorWidgetView",
       "background": null,
       "description_width": "",
       "error": {
        "message": "Loading chunk 202 failed.\n(error: http://192.168.3.2:9900/lab/extensions/@jupyter-widgets/jupyterlab-manager/static/202.0336063976910618ce3f.js?v=0336063976910618ce3f)",
        "name": "ChunkLoadError",
        "request": "http://192.168.3.2:9900/lab/extensions/@jupyter-widgets/jupyterlab-manager/static/202.0336063976910618ce3f.js?v=0336063976910618ce3f",
        "type": "error"
       },
       "font_size": null,
       "msg": "Failed to load model class 'HTMLStyleModel' from module '@jupyter-widgets/controls'",
       "text_color": null
      }
     },
     "0b745ce59b054aebb5582508d1ea9f60": {
      "model_module": "@jupyter-widgets/controls",
      "model_module_version": "2.0.0",
      "model_name": "ProgressStyleModel",
      "state": {
       "_model_module": "@jupyter-widgets/controls",
       "_model_name": "ProgressStyleModel",
       "_view_name": "ErrorWidgetView",
       "bar_color": null,
       "description_width": "",
       "error": {
        "message": "Loading chunk 202 failed.\n(error: http://192.168.3.2:9900/lab/extensions/@jupyter-widgets/jupyterlab-manager/static/202.0336063976910618ce3f.js?v=0336063976910618ce3f)",
        "name": "ChunkLoadError",
        "request": "http://192.168.3.2:9900/lab/extensions/@jupyter-widgets/jupyterlab-manager/static/202.0336063976910618ce3f.js?v=0336063976910618ce3f",
        "type": "error"
       },
       "msg": "Failed to load model class 'ProgressStyleModel' from module '@jupyter-widgets/controls'"
      }
     },
     "0b864b426a3d4139bb141a2d8f2cdbd5": {
      "model_module": "@jupyter-widgets/controls",
      "model_module_version": "2.0.0",
      "model_name": "HTMLStyleModel",
      "state": {
       "_model_module": "@jupyter-widgets/controls",
       "_model_name": "HTMLStyleModel",
       "_view_name": "ErrorWidgetView",
       "background": null,
       "description_width": "",
       "error": {
        "message": "Loading chunk 202 failed.\n(error: http://192.168.3.2:9900/lab/extensions/@jupyter-widgets/jupyterlab-manager/static/202.0336063976910618ce3f.js?v=0336063976910618ce3f)",
        "name": "ChunkLoadError",
        "request": "http://192.168.3.2:9900/lab/extensions/@jupyter-widgets/jupyterlab-manager/static/202.0336063976910618ce3f.js?v=0336063976910618ce3f",
        "type": "error"
       },
       "font_size": null,
       "msg": "Failed to load model class 'HTMLStyleModel' from module '@jupyter-widgets/controls'",
       "text_color": null
      }
     },
     "0b9ec73a374a41f2bc39dc9f962a83ea": {
      "model_module": "@jupyter-widgets/base",
      "model_module_version": "2.0.0",
      "model_name": "LayoutModel",
      "state": {}
     },
     "0c5ea9d873674ea68e57c9fae77853fd": {
      "model_module": "@jupyter-widgets/controls",
      "model_module_version": "2.0.0",
      "model_name": "HTMLStyleModel",
      "state": {
       "_model_module": "@jupyter-widgets/controls",
       "_model_name": "HTMLStyleModel",
       "_view_name": "ErrorWidgetView",
       "background": null,
       "description_width": "",
       "error": {
        "message": "Loading chunk 495 failed.\n(error: http://192.168.3.2:9900/lab/extensions/@jupyter-widgets/jupyterlab-manager/static/495.3e275af54861cdeb3e75.js?v=3e275af54861cdeb3e75)",
        "name": "ChunkLoadError",
        "request": "http://192.168.3.2:9900/lab/extensions/@jupyter-widgets/jupyterlab-manager/static/495.3e275af54861cdeb3e75.js?v=3e275af54861cdeb3e75",
        "type": "error"
       },
       "font_size": null,
       "msg": "Failed to load model class 'HTMLStyleModel' from module '@jupyter-widgets/controls'",
       "text_color": null
      }
     },
     "0cb1bcf284ff4054853e8c81e58523bd": {
      "model_module": "@jupyter-widgets/base",
      "model_module_version": "2.0.0",
      "model_name": "LayoutModel",
      "state": {}
     },
     "0cb7f3fd5a88401ba58e5870aa73c372": {
      "model_module": "@jupyter-widgets/base",
      "model_module_version": "2.0.0",
      "model_name": "LayoutModel",
      "state": {}
     },
     "0cd1065e5f2142a2b8276cdeb37006cc": {
      "model_module": "@jupyter-widgets/controls",
      "model_module_version": "2.0.0",
      "model_name": "ProgressStyleModel",
      "state": {
       "_model_module": "@jupyter-widgets/controls",
       "_model_name": "ProgressStyleModel",
       "_view_name": "ErrorWidgetView",
       "bar_color": null,
       "description_width": "",
       "error": {
        "message": "Loading chunk 202 failed.\n(error: http://192.168.3.2:9900/lab/extensions/@jupyter-widgets/jupyterlab-manager/static/202.0336063976910618ce3f.js?v=0336063976910618ce3f)",
        "name": "ChunkLoadError",
        "request": "http://192.168.3.2:9900/lab/extensions/@jupyter-widgets/jupyterlab-manager/static/202.0336063976910618ce3f.js?v=0336063976910618ce3f",
        "type": "error"
       },
       "msg": "Failed to load model class 'ProgressStyleModel' from module '@jupyter-widgets/controls'"
      }
     },
     "0d14d3c460994357bf9be18f55fb9496": {
      "model_module": "@jupyter-widgets/base",
      "model_module_version": "2.0.0",
      "model_name": "LayoutModel",
      "state": {}
     },
     "0d287c8c73be41c79badfa134ef81cb4": {
      "model_module": "@jupyter-widgets/base",
      "model_module_version": "2.0.0",
      "model_name": "LayoutModel",
      "state": {}
     },
     "0db63b8fdab74b128b06378c9d3ef55e": {
      "model_module": "@jupyter-widgets/base",
      "model_module_version": "2.0.0",
      "model_name": "LayoutModel",
      "state": {}
     },
     "0e1c471438684bd2b36258795b5b2cbd": {
      "model_module": "@jupyter-widgets/controls",
      "model_module_version": "2.0.0",
      "model_name": "HBoxModel",
      "state": {
       "_model_module": "@jupyter-widgets/controls",
       "_model_name": "HBoxModel",
       "_view_name": "ErrorWidgetView",
       "box_style": "",
       "children": [
        "IPY_MODEL_c3867e7f55834f54862d813b0d3e389e",
        "IPY_MODEL_dc6afd7da1da4b9893a8bba3fc733c57",
        "IPY_MODEL_62c3999e471f43a18600693d72190d7e"
       ],
       "error": {
        "message": "Loading chunk 202 failed.\n(error: http://192.168.3.2:9900/lab/extensions/@jupyter-widgets/jupyterlab-manager/static/202.0336063976910618ce3f.js?v=0336063976910618ce3f)",
        "name": "ChunkLoadError",
        "request": "http://192.168.3.2:9900/lab/extensions/@jupyter-widgets/jupyterlab-manager/static/202.0336063976910618ce3f.js?v=0336063976910618ce3f",
        "type": "error"
       },
       "layout": "IPY_MODEL_755505561f994a5bb557a68f3c14393a",
       "msg": "Failed to load model class 'HBoxModel' from module '@jupyter-widgets/controls'"
      }
     },
     "0e603c9dc7e64af5b4e6158bf7d147e5": {
      "model_module": "@jupyter-widgets/controls",
      "model_module_version": "2.0.0",
      "model_name": "ProgressStyleModel",
      "state": {
       "_model_module": "@jupyter-widgets/controls",
       "_model_name": "ProgressStyleModel",
       "_view_name": "ErrorWidgetView",
       "bar_color": null,
       "description_width": "",
       "error": {
        "message": "Loading chunk 202 failed.\n(error: http://192.168.3.2:9900/lab/extensions/@jupyter-widgets/jupyterlab-manager/static/202.0336063976910618ce3f.js?v=0336063976910618ce3f)",
        "name": "ChunkLoadError",
        "request": "http://192.168.3.2:9900/lab/extensions/@jupyter-widgets/jupyterlab-manager/static/202.0336063976910618ce3f.js?v=0336063976910618ce3f",
        "type": "error"
       },
       "msg": "Failed to load model class 'ProgressStyleModel' from module '@jupyter-widgets/controls'"
      }
     },
     "0ec2005443394ceb89785fb9ad3d2be5": {
      "model_module": "@jupyter-widgets/controls",
      "model_module_version": "2.0.0",
      "model_name": "HTMLStyleModel",
      "state": {
       "_model_module": "@jupyter-widgets/controls",
       "_model_name": "HTMLStyleModel",
       "_view_name": "ErrorWidgetView",
       "background": null,
       "description_width": "",
       "error": {
        "message": "Loading chunk 202 failed.\n(error: http://192.168.3.2:9900/lab/extensions/@jupyter-widgets/jupyterlab-manager/static/202.0336063976910618ce3f.js?v=0336063976910618ce3f)",
        "name": "ChunkLoadError",
        "request": "http://192.168.3.2:9900/lab/extensions/@jupyter-widgets/jupyterlab-manager/static/202.0336063976910618ce3f.js?v=0336063976910618ce3f",
        "type": "error"
       },
       "font_size": null,
       "msg": "Failed to load model class 'HTMLStyleModel' from module '@jupyter-widgets/controls'",
       "text_color": null
      }
     },
     "0f059139e7054f518d0a8ef7de797c2b": {
      "model_module": "@jupyter-widgets/controls",
      "model_module_version": "2.0.0",
      "model_name": "HTMLStyleModel",
      "state": {
       "_model_module": "@jupyter-widgets/controls",
       "_model_name": "HTMLStyleModel",
       "_view_name": "ErrorWidgetView",
       "background": null,
       "description_width": "",
       "error": {
        "message": "Loading chunk 202 failed.\n(error: http://192.168.3.2:9900/lab/extensions/@jupyter-widgets/jupyterlab-manager/static/202.0336063976910618ce3f.js?v=0336063976910618ce3f)",
        "name": "ChunkLoadError",
        "request": "http://192.168.3.2:9900/lab/extensions/@jupyter-widgets/jupyterlab-manager/static/202.0336063976910618ce3f.js?v=0336063976910618ce3f",
        "type": "error"
       },
       "font_size": null,
       "msg": "Failed to load model class 'HTMLStyleModel' from module '@jupyter-widgets/controls'",
       "text_color": null
      }
     },
     "0f2a2fe0a1ee41459d4f67a01e709572": {
      "model_module": "@jupyter-widgets/controls",
      "model_module_version": "2.0.0",
      "model_name": "HTMLModel",
      "state": {
       "_model_module": "@jupyter-widgets/controls",
       "_model_name": "HTMLModel",
       "_view_name": "ErrorWidgetView",
       "description": "",
       "description_allow_html": false,
       "error": {
        "message": "Loading chunk 202 failed.\n(error: http://192.168.3.2:9900/lab/extensions/@jupyter-widgets/jupyterlab-manager/static/202.0336063976910618ce3f.js?v=0336063976910618ce3f)",
        "name": "ChunkLoadError",
        "request": "http://192.168.3.2:9900/lab/extensions/@jupyter-widgets/jupyterlab-manager/static/202.0336063976910618ce3f.js?v=0336063976910618ce3f",
        "type": "error"
       },
       "layout": "IPY_MODEL_82b14deb5f894bdeb16196073a4628cd",
       "msg": "Failed to load model class 'HTMLModel' from module '@jupyter-widgets/controls'",
       "placeholder": "​",
       "style": "IPY_MODEL_3edb8e01e87c44869cbffa254830c1a3",
       "value": " 1.97k/? [00:00&lt;00:00, 113kB/s]"
      }
     },
     "0fbc3ef28ed24bb9a1e90f465915ab41": {
      "model_module": "@jupyter-widgets/controls",
      "model_module_version": "2.0.0",
      "model_name": "HBoxModel",
      "state": {
       "_model_module": "@jupyter-widgets/controls",
       "_model_name": "HBoxModel",
       "_view_name": "ErrorWidgetView",
       "box_style": "",
       "children": [
        "IPY_MODEL_2a587d89929b4172b383dbd39957dc2f",
        "IPY_MODEL_ee78f389155348fdb1f8f130b9002bac",
        "IPY_MODEL_065b033dd0a94654b567554403b330eb"
       ],
       "error": {
        "message": "Loading chunk 202 failed.\n(error: http://192.168.3.2:9900/lab/extensions/@jupyter-widgets/jupyterlab-manager/static/202.0336063976910618ce3f.js?v=0336063976910618ce3f)",
        "name": "ChunkLoadError",
        "request": "http://192.168.3.2:9900/lab/extensions/@jupyter-widgets/jupyterlab-manager/static/202.0336063976910618ce3f.js?v=0336063976910618ce3f",
        "type": "error"
       },
       "layout": "IPY_MODEL_ea09db436ffa4f19b91955b46043e18e",
       "msg": "Failed to load model class 'HBoxModel' from module '@jupyter-widgets/controls'"
      }
     },
     "10434f4695c24a6eb364ed21f21d9dfb": {
      "model_module": "@jupyter-widgets/controls",
      "model_module_version": "2.0.0",
      "model_name": "HTMLModel",
      "state": {
       "_model_module": "@jupyter-widgets/controls",
       "_model_name": "HTMLModel",
       "_view_name": "ErrorWidgetView",
       "description": "",
       "description_allow_html": false,
       "error": {
        "message": "Loading chunk 202 failed.\n(error: http://192.168.3.2:9900/lab/extensions/@jupyter-widgets/jupyterlab-manager/static/202.0336063976910618ce3f.js?v=0336063976910618ce3f)",
        "name": "ChunkLoadError",
        "request": "http://192.168.3.2:9900/lab/extensions/@jupyter-widgets/jupyterlab-manager/static/202.0336063976910618ce3f.js?v=0336063976910618ce3f",
        "type": "error"
       },
       "layout": "IPY_MODEL_3b003e79bfec462fb483a6ca4b159f8d",
       "msg": "Failed to load model class 'HTMLModel' from module '@jupyter-widgets/controls'",
       "placeholder": "​",
       "style": "IPY_MODEL_02566c75ce4843acb36efb495d73e068",
       "value": "model.safetensors: 100%"
      }
     },
     "105e6df94c7244378a68dc0afc069fa3": {
      "model_module": "@jupyter-widgets/controls",
      "model_module_version": "2.0.0",
      "model_name": "ProgressStyleModel",
      "state": {
       "_model_module": "@jupyter-widgets/controls",
       "_model_name": "ProgressStyleModel",
       "_view_name": "ErrorWidgetView",
       "bar_color": null,
       "description_width": "",
       "error": {
        "message": "Loading chunk 202 failed.\n(error: http://192.168.3.2:9900/lab/extensions/@jupyter-widgets/jupyterlab-manager/static/202.0336063976910618ce3f.js?v=0336063976910618ce3f)",
        "name": "ChunkLoadError",
        "request": "http://192.168.3.2:9900/lab/extensions/@jupyter-widgets/jupyterlab-manager/static/202.0336063976910618ce3f.js?v=0336063976910618ce3f",
        "type": "error"
       },
       "msg": "Failed to load model class 'ProgressStyleModel' from module '@jupyter-widgets/controls'"
      }
     },
     "1089f3c312a8495ebfe16c581615de83": {
      "model_module": "@jupyter-widgets/controls",
      "model_module_version": "2.0.0",
      "model_name": "HTMLModel",
      "state": {
       "_model_module": "@jupyter-widgets/controls",
       "_model_name": "HTMLModel",
       "_view_name": "ErrorWidgetView",
       "description": "",
       "description_allow_html": false,
       "error": {
        "message": "Loading chunk 495 failed.\n(error: http://192.168.3.2:9900/lab/extensions/@jupyter-widgets/jupyterlab-manager/static/495.3e275af54861cdeb3e75.js?v=3e275af54861cdeb3e75)",
        "name": "ChunkLoadError",
        "request": "http://192.168.3.2:9900/lab/extensions/@jupyter-widgets/jupyterlab-manager/static/495.3e275af54861cdeb3e75.js?v=3e275af54861cdeb3e75",
        "type": "error"
       },
       "layout": "IPY_MODEL_fc36521ad62e4feb8d154b0915357ee3",
       "msg": "Failed to load model class 'HTMLModel' from module '@jupyter-widgets/controls'",
       "placeholder": "​",
       "style": "IPY_MODEL_4190b1e35c3a489cbe44e19fa7ca46eb",
       "value": "vocab.json: "
      }
     },
     "10c4c6b13c784c89b9bea9dd3f97bd09": {
      "model_module": "@jupyter-widgets/controls",
      "model_module_version": "2.0.0",
      "model_name": "ProgressStyleModel",
      "state": {
       "_model_module": "@jupyter-widgets/controls",
       "_model_name": "ProgressStyleModel",
       "_view_name": "ErrorWidgetView",
       "bar_color": null,
       "description_width": "",
       "error": {
        "message": "Loading chunk 495 failed.\n(error: http://192.168.3.2:9900/lab/extensions/@jupyter-widgets/jupyterlab-manager/static/495.3e275af54861cdeb3e75.js?v=3e275af54861cdeb3e75)",
        "name": "ChunkLoadError",
        "request": "http://192.168.3.2:9900/lab/extensions/@jupyter-widgets/jupyterlab-manager/static/495.3e275af54861cdeb3e75.js?v=3e275af54861cdeb3e75",
        "type": "error"
       },
       "msg": "Failed to load model class 'ProgressStyleModel' from module '@jupyter-widgets/controls'"
      }
     },
     "10ced2959e924b36814acdd19fdab2cb": {
      "model_module": "@jupyter-widgets/controls",
      "model_module_version": "2.0.0",
      "model_name": "HTMLModel",
      "state": {
       "_model_module": "@jupyter-widgets/controls",
       "_model_name": "HTMLModel",
       "_view_name": "ErrorWidgetView",
       "description": "",
       "description_allow_html": false,
       "error": {
        "message": "Loading chunk 495 failed.\n(error: http://192.168.3.2:9900/lab/extensions/@jupyter-widgets/jupyterlab-manager/static/495.3e275af54861cdeb3e75.js?v=3e275af54861cdeb3e75)",
        "name": "ChunkLoadError",
        "request": "http://192.168.3.2:9900/lab/extensions/@jupyter-widgets/jupyterlab-manager/static/495.3e275af54861cdeb3e75.js?v=3e275af54861cdeb3e75",
        "type": "error"
       },
       "layout": "IPY_MODEL_bf22c9a879664a9e9bbe6e609bb26adb",
       "msg": "Failed to load model class 'HTMLModel' from module '@jupyter-widgets/controls'",
       "placeholder": "​",
       "style": "IPY_MODEL_2d884af52afa45a2bf4f7fd3842da6ce",
       "value": "spiece.model: 100%"
      }
     },
     "10ee7a5161374b068e0ca52e2d5584fd": {
      "model_module": "@jupyter-widgets/controls",
      "model_module_version": "2.0.0",
      "model_name": "HTMLModel",
      "state": {
       "_model_module": "@jupyter-widgets/controls",
       "_model_name": "HTMLModel",
       "_view_name": "ErrorWidgetView",
       "description": "",
       "description_allow_html": false,
       "error": {
        "message": "Loading chunk 495 failed.\n(error: http://192.168.3.2:9900/lab/extensions/@jupyter-widgets/jupyterlab-manager/static/495.3e275af54861cdeb3e75.js?v=3e275af54861cdeb3e75)",
        "name": "ChunkLoadError",
        "request": "http://192.168.3.2:9900/lab/extensions/@jupyter-widgets/jupyterlab-manager/static/495.3e275af54861cdeb3e75.js?v=3e275af54861cdeb3e75",
        "type": "error"
       },
       "layout": "IPY_MODEL_9e3cddfc43f042d4952970576ed4c75d",
       "msg": "Failed to load model class 'HTMLModel' from module '@jupyter-widgets/controls'",
       "placeholder": "​",
       "style": "IPY_MODEL_d4bffa9ba0664fc99bc66bc6e7b11809",
       "value": " 570/? [00:00&lt;00:00, 34.9kB/s]"
      }
     },
     "110276a903b84e5fb126c43341b57e8c": {
      "model_module": "@jupyter-widgets/controls",
      "model_module_version": "2.0.0",
      "model_name": "FloatProgressModel",
      "state": {
       "_model_module": "@jupyter-widgets/controls",
       "_model_name": "FloatProgressModel",
       "_view_name": "ErrorWidgetView",
       "bar_style": "success",
       "description": "",
       "description_allow_html": false,
       "error": {
        "message": "Loading chunk 495 failed.\n(error: http://192.168.3.2:9900/lab/extensions/@jupyter-widgets/jupyterlab-manager/static/495.3e275af54861cdeb3e75.js?v=3e275af54861cdeb3e75)",
        "name": "ChunkLoadError",
        "request": "http://192.168.3.2:9900/lab/extensions/@jupyter-widgets/jupyterlab-manager/static/495.3e275af54861cdeb3e75.js?v=3e275af54861cdeb3e75",
        "type": "error"
       },
       "layout": "IPY_MODEL_80127d9cffda473f909d7298ca6007a1",
       "max": 26,
       "min": 0,
       "msg": "Failed to load model class 'FloatProgressModel' from module '@jupyter-widgets/controls'",
       "orientation": "horizontal",
       "style": "IPY_MODEL_3b14d5ec8fb5414c958451eab4a11761",
       "value": 26
      }
     },
     "1126a51b16a842b8ac661ad1b0229063": {
      "model_module": "@jupyter-widgets/controls",
      "model_module_version": "2.0.0",
      "model_name": "ProgressStyleModel",
      "state": {
       "_model_module": "@jupyter-widgets/controls",
       "_model_name": "ProgressStyleModel",
       "_view_name": "ErrorWidgetView",
       "bar_color": null,
       "description_width": "",
       "error": {
        "message": "Loading chunk 495 failed.\n(error: http://192.168.3.2:9900/lab/extensions/@jupyter-widgets/jupyterlab-manager/static/495.3e275af54861cdeb3e75.js?v=3e275af54861cdeb3e75)",
        "name": "ChunkLoadError",
        "request": "http://192.168.3.2:9900/lab/extensions/@jupyter-widgets/jupyterlab-manager/static/495.3e275af54861cdeb3e75.js?v=3e275af54861cdeb3e75",
        "type": "error"
       },
       "msg": "Failed to load model class 'ProgressStyleModel' from module '@jupyter-widgets/controls'"
      }
     },
     "1137437f0e4d4da1a355a97b3fbea206": {
      "model_module": "@jupyter-widgets/base",
      "model_module_version": "2.0.0",
      "model_name": "LayoutModel",
      "state": {}
     },
     "11d114850e634d9b9437e4e44f8e01e0": {
      "model_module": "@jupyter-widgets/base",
      "model_module_version": "2.0.0",
      "model_name": "LayoutModel",
      "state": {}
     },
     "11d57a5f2c7b4ab9b330910bd26c3592": {
      "model_module": "@jupyter-widgets/controls",
      "model_module_version": "2.0.0",
      "model_name": "HTMLModel",
      "state": {
       "_model_module": "@jupyter-widgets/controls",
       "_model_name": "HTMLModel",
       "_view_name": "ErrorWidgetView",
       "description": "",
       "description_allow_html": false,
       "error": {
        "message": "Loading chunk 495 failed.\n(error: http://192.168.3.2:9900/lab/extensions/@jupyter-widgets/jupyterlab-manager/static/495.3e275af54861cdeb3e75.js?v=3e275af54861cdeb3e75)",
        "name": "ChunkLoadError",
        "request": "http://192.168.3.2:9900/lab/extensions/@jupyter-widgets/jupyterlab-manager/static/495.3e275af54861cdeb3e75.js?v=3e275af54861cdeb3e75",
        "type": "error"
       },
       "layout": "IPY_MODEL_c7ba6fa2921e48dd87304bfcba5c8f14",
       "msg": "Failed to load model class 'HTMLModel' from module '@jupyter-widgets/controls'",
       "placeholder": "​",
       "style": "IPY_MODEL_96a4f014e3f7421f8a3e9e24b411166d",
       "value": "added_tokens.json: 100%"
      }
     },
     "1295b3b601984eafbbfc10199c09b2e8": {
      "model_module": "@jupyter-widgets/base",
      "model_module_version": "2.0.0",
      "model_name": "LayoutModel",
      "state": {}
     },
     "129bc2ab8418431cb4c1d9b822366e7f": {
      "model_module": "@jupyter-widgets/controls",
      "model_module_version": "2.0.0",
      "model_name": "HTMLStyleModel",
      "state": {
       "_model_module": "@jupyter-widgets/controls",
       "_model_name": "HTMLStyleModel",
       "_view_name": "ErrorWidgetView",
       "background": null,
       "description_width": "",
       "error": {
        "message": "Loading chunk 495 failed.\n(error: http://192.168.3.2:9900/lab/extensions/@jupyter-widgets/jupyterlab-manager/static/495.3e275af54861cdeb3e75.js?v=3e275af54861cdeb3e75)",
        "name": "ChunkLoadError",
        "request": "http://192.168.3.2:9900/lab/extensions/@jupyter-widgets/jupyterlab-manager/static/495.3e275af54861cdeb3e75.js?v=3e275af54861cdeb3e75",
        "type": "error"
       },
       "font_size": null,
       "msg": "Failed to load model class 'HTMLStyleModel' from module '@jupyter-widgets/controls'",
       "text_color": null
      }
     },
     "12a4d01d474e42f1ac4a0636a74ef0f7": {
      "model_module": "@jupyter-widgets/controls",
      "model_module_version": "2.0.0",
      "model_name": "HTMLModel",
      "state": {
       "_model_module": "@jupyter-widgets/controls",
       "_model_name": "HTMLModel",
       "_view_name": "ErrorWidgetView",
       "description": "",
       "description_allow_html": false,
       "error": {
        "message": "Loading chunk 202 failed.\n(error: http://192.168.3.2:9900/lab/extensions/@jupyter-widgets/jupyterlab-manager/static/202.0336063976910618ce3f.js?v=0336063976910618ce3f)",
        "name": "ChunkLoadError",
        "request": "http://192.168.3.2:9900/lab/extensions/@jupyter-widgets/jupyterlab-manager/static/202.0336063976910618ce3f.js?v=0336063976910618ce3f",
        "type": "error"
       },
       "layout": "IPY_MODEL_f6f5f2c19f674602bb812996cb431a64",
       "msg": "Failed to load model class 'HTMLModel' from module '@jupyter-widgets/controls'",
       "placeholder": "​",
       "style": "IPY_MODEL_7b4e5112e6484f23b0fa826d6343b249",
       "value": "vocab.txt: "
      }
     },
     "12a7924faedd41f08c8c00a6e0bf6124": {
      "model_module": "@jupyter-widgets/controls",
      "model_module_version": "2.0.0",
      "model_name": "FloatProgressModel",
      "state": {
       "_model_module": "@jupyter-widgets/controls",
       "_model_name": "FloatProgressModel",
       "_view_name": "ErrorWidgetView",
       "bar_style": "success",
       "description": "",
       "description_allow_html": false,
       "error": {
        "message": "Loading chunk 202 failed.\n(error: http://192.168.3.2:9900/lab/extensions/@jupyter-widgets/jupyterlab-manager/static/202.0336063976910618ce3f.js?v=0336063976910618ce3f)",
        "name": "ChunkLoadError",
        "request": "http://192.168.3.2:9900/lab/extensions/@jupyter-widgets/jupyterlab-manager/static/202.0336063976910618ce3f.js?v=0336063976910618ce3f",
        "type": "error"
       },
       "layout": "IPY_MODEL_cb7334408fa048cba0cdeca69cf4012f",
       "max": 112,
       "min": 0,
       "msg": "Failed to load model class 'FloatProgressModel' from module '@jupyter-widgets/controls'",
       "orientation": "horizontal",
       "style": "IPY_MODEL_60b9dbdc4f6742ee8875037932b12f56",
       "value": 112
      }
     },
     "12e738b5c54b404a9efe28f7f7b85fab": {
      "model_module": "@jupyter-widgets/base",
      "model_module_version": "2.0.0",
      "model_name": "LayoutModel",
      "state": {}
     },
     "130d9684b3634f93b80d54edc7d186c2": {
      "model_module": "@jupyter-widgets/controls",
      "model_module_version": "2.0.0",
      "model_name": "HTMLStyleModel",
      "state": {
       "_model_module": "@jupyter-widgets/controls",
       "_model_name": "HTMLStyleModel",
       "_view_name": "ErrorWidgetView",
       "background": null,
       "description_width": "",
       "error": {
        "message": "Loading chunk 495 failed.\n(error: http://192.168.3.2:9900/lab/extensions/@jupyter-widgets/jupyterlab-manager/static/495.3e275af54861cdeb3e75.js?v=3e275af54861cdeb3e75)",
        "name": "ChunkLoadError",
        "request": "http://192.168.3.2:9900/lab/extensions/@jupyter-widgets/jupyterlab-manager/static/495.3e275af54861cdeb3e75.js?v=3e275af54861cdeb3e75",
        "type": "error"
       },
       "font_size": null,
       "msg": "Failed to load model class 'HTMLStyleModel' from module '@jupyter-widgets/controls'",
       "text_color": null
      }
     },
     "134746c256ce4ce8856d8f224adf5c0b": {
      "model_module": "@jupyter-widgets/controls",
      "model_module_version": "2.0.0",
      "model_name": "FloatProgressModel",
      "state": {
       "_model_module": "@jupyter-widgets/controls",
       "_model_name": "FloatProgressModel",
       "_view_name": "ErrorWidgetView",
       "bar_style": "success",
       "description": "",
       "description_allow_html": false,
       "error": {
        "message": "Loading chunk 202 failed.\n(error: http://192.168.3.2:9900/lab/extensions/@jupyter-widgets/jupyterlab-manager/static/202.0336063976910618ce3f.js?v=0336063976910618ce3f)",
        "name": "ChunkLoadError",
        "request": "http://192.168.3.2:9900/lab/extensions/@jupyter-widgets/jupyterlab-manager/static/202.0336063976910618ce3f.js?v=0336063976910618ce3f",
        "type": "error"
       },
       "layout": "IPY_MODEL_303d5e2e69724cb48f0a36f0d3ee2d68",
       "max": 1,
       "min": 0,
       "msg": "Failed to load model class 'FloatProgressModel' from module '@jupyter-widgets/controls'",
       "orientation": "horizontal",
       "style": "IPY_MODEL_e9e37d39b4c9475b9a3afb208939df27",
       "value": 1
      }
     },
     "1364e43b3e5c4c5b9111de875fbdb709": {
      "model_module": "@jupyter-widgets/controls",
      "model_module_version": "2.0.0",
      "model_name": "ProgressStyleModel",
      "state": {
       "_model_module": "@jupyter-widgets/controls",
       "_model_name": "ProgressStyleModel",
       "_view_name": "ErrorWidgetView",
       "bar_color": null,
       "description_width": "",
       "error": {
        "message": "Loading chunk 495 failed.\n(error: http://192.168.3.2:9900/lab/extensions/@jupyter-widgets/jupyterlab-manager/static/495.3e275af54861cdeb3e75.js?v=3e275af54861cdeb3e75)",
        "name": "ChunkLoadError",
        "request": "http://192.168.3.2:9900/lab/extensions/@jupyter-widgets/jupyterlab-manager/static/495.3e275af54861cdeb3e75.js?v=3e275af54861cdeb3e75",
        "type": "error"
       },
       "msg": "Failed to load model class 'ProgressStyleModel' from module '@jupyter-widgets/controls'"
      }
     },
     "14860533c23c414d94b00db981294e3d": {
      "model_module": "@jupyter-widgets/controls",
      "model_module_version": "2.0.0",
      "model_name": "ProgressStyleModel",
      "state": {
       "_model_module": "@jupyter-widgets/controls",
       "_model_name": "ProgressStyleModel",
       "_view_name": "ErrorWidgetView",
       "bar_color": null,
       "description_width": "",
       "error": {
        "message": "Loading chunk 202 failed.\n(error: http://192.168.3.2:9900/lab/extensions/@jupyter-widgets/jupyterlab-manager/static/202.0336063976910618ce3f.js?v=0336063976910618ce3f)",
        "name": "ChunkLoadError",
        "request": "http://192.168.3.2:9900/lab/extensions/@jupyter-widgets/jupyterlab-manager/static/202.0336063976910618ce3f.js?v=0336063976910618ce3f",
        "type": "error"
       },
       "msg": "Failed to load model class 'ProgressStyleModel' from module '@jupyter-widgets/controls'"
      }
     },
     "14a5dfc48938492da228d954f20f4498": {
      "model_module": "@jupyter-widgets/controls",
      "model_module_version": "2.0.0",
      "model_name": "HTMLModel",
      "state": {
       "_model_module": "@jupyter-widgets/controls",
       "_model_name": "HTMLModel",
       "_view_name": "ErrorWidgetView",
       "description": "",
       "description_allow_html": false,
       "error": {
        "message": "Loading chunk 495 failed.\n(error: http://192.168.3.2:9900/lab/extensions/@jupyter-widgets/jupyterlab-manager/static/495.3e275af54861cdeb3e75.js?v=3e275af54861cdeb3e75)",
        "name": "ChunkLoadError",
        "request": "http://192.168.3.2:9900/lab/extensions/@jupyter-widgets/jupyterlab-manager/static/495.3e275af54861cdeb3e75.js?v=3e275af54861cdeb3e75",
        "type": "error"
       },
       "layout": "IPY_MODEL_d32a74130f544ede95bf1dc32592da15",
       "msg": "Failed to load model class 'HTMLModel' from module '@jupyter-widgets/controls'",
       "placeholder": "​",
       "style": "IPY_MODEL_cd937c4357b143c48fcd679c786a091b",
       "value": " 473/473 [00:00&lt;00:00, 30.9kB/s]"
      }
     },
     "1549157c7c904260bcecc9817edcc3c3": {
      "model_module": "@jupyter-widgets/controls",
      "model_module_version": "2.0.0",
      "model_name": "FloatProgressModel",
      "state": {
       "_model_module": "@jupyter-widgets/controls",
       "_model_name": "FloatProgressModel",
       "_view_name": "ErrorWidgetView",
       "bar_style": "success",
       "description": "",
       "description_allow_html": false,
       "error": {
        "message": "Loading chunk 495 failed.\n(error: http://192.168.3.2:9900/lab/extensions/@jupyter-widgets/jupyterlab-manager/static/495.3e275af54861cdeb3e75.js?v=3e275af54861cdeb3e75)",
        "name": "ChunkLoadError",
        "request": "http://192.168.3.2:9900/lab/extensions/@jupyter-widgets/jupyterlab-manager/static/495.3e275af54861cdeb3e75.js?v=3e275af54861cdeb3e75",
        "type": "error"
       },
       "layout": "IPY_MODEL_2d911f4f9ab7482ab9615e944c3c9212",
       "max": 966995080,
       "min": 0,
       "msg": "Failed to load model class 'FloatProgressModel' from module '@jupyter-widgets/controls'",
       "orientation": "horizontal",
       "style": "IPY_MODEL_ef6efa4b24de446baecc5bfaddffee9a",
       "value": 966995080
      }
     },
     "157627455f86461ca165c1e5427e2762": {
      "model_module": "@jupyter-widgets/controls",
      "model_module_version": "2.0.0",
      "model_name": "HTMLModel",
      "state": {
       "_model_module": "@jupyter-widgets/controls",
       "_model_name": "HTMLModel",
       "_view_name": "ErrorWidgetView",
       "description": "",
       "description_allow_html": false,
       "error": {
        "message": "Loading chunk 202 failed.\n(error: http://192.168.3.2:9900/lab/extensions/@jupyter-widgets/jupyterlab-manager/static/202.0336063976910618ce3f.js?v=0336063976910618ce3f)",
        "name": "ChunkLoadError",
        "request": "http://192.168.3.2:9900/lab/extensions/@jupyter-widgets/jupyterlab-manager/static/202.0336063976910618ce3f.js?v=0336063976910618ce3f",
        "type": "error"
       },
       "layout": "IPY_MODEL_9045d100a87147f2b142af4506fa5f3f",
       "msg": "Failed to load model class 'HTMLModel' from module '@jupyter-widgets/controls'",
       "placeholder": "​",
       "style": "IPY_MODEL_d9cd27c40d044779ae902db4fa4d0370",
       "value": " 112/112 [00:00&lt;00:00, 6.96kB/s]"
      }
     },
     "15cc3bf6935c4db0886fcb308045a947": {
      "model_module": "@jupyter-widgets/controls",
      "model_module_version": "2.0.0",
      "model_name": "HTMLStyleModel",
      "state": {
       "_model_module": "@jupyter-widgets/controls",
       "_model_name": "HTMLStyleModel",
       "_view_name": "ErrorWidgetView",
       "background": null,
       "description_width": "",
       "error": {
        "message": "Loading chunk 202 failed.\n(error: http://192.168.3.2:9900/lab/extensions/@jupyter-widgets/jupyterlab-manager/static/202.0336063976910618ce3f.js?v=0336063976910618ce3f)",
        "name": "ChunkLoadError",
        "request": "http://192.168.3.2:9900/lab/extensions/@jupyter-widgets/jupyterlab-manager/static/202.0336063976910618ce3f.js?v=0336063976910618ce3f",
        "type": "error"
       },
       "font_size": null,
       "msg": "Failed to load model class 'HTMLStyleModel' from module '@jupyter-widgets/controls'",
       "text_color": null
      }
     },
     "15f094ea44bd46708b54607b87e42569": {
      "model_module": "@jupyter-widgets/base",
      "model_module_version": "2.0.0",
      "model_name": "LayoutModel",
      "state": {}
     },
     "16f85927fe03441894f1e97ce2b7c3e3": {
      "model_module": "@jupyter-widgets/controls",
      "model_module_version": "2.0.0",
      "model_name": "HTMLStyleModel",
      "state": {
       "_model_module": "@jupyter-widgets/controls",
       "_model_name": "HTMLStyleModel",
       "_view_name": "ErrorWidgetView",
       "background": null,
       "description_width": "",
       "error": {
        "message": "Loading chunk 495 failed.\n(error: http://192.168.3.2:9900/lab/extensions/@jupyter-widgets/jupyterlab-manager/static/495.3e275af54861cdeb3e75.js?v=3e275af54861cdeb3e75)",
        "name": "ChunkLoadError",
        "request": "http://192.168.3.2:9900/lab/extensions/@jupyter-widgets/jupyterlab-manager/static/495.3e275af54861cdeb3e75.js?v=3e275af54861cdeb3e75",
        "type": "error"
       },
       "font_size": null,
       "msg": "Failed to load model class 'HTMLStyleModel' from module '@jupyter-widgets/controls'",
       "text_color": null
      }
     },
     "175d16a5c81f4067a87756c644e2f057": {
      "model_module": "@jupyter-widgets/controls",
      "model_module_version": "2.0.0",
      "model_name": "HTMLModel",
      "state": {
       "_model_module": "@jupyter-widgets/controls",
       "_model_name": "HTMLModel",
       "_view_name": "ErrorWidgetView",
       "description": "",
       "description_allow_html": false,
       "error": {
        "message": "Loading chunk 495 failed.\n(error: http://192.168.3.2:9900/lab/extensions/@jupyter-widgets/jupyterlab-manager/static/495.3e275af54861cdeb3e75.js?v=3e275af54861cdeb3e75)",
        "name": "ChunkLoadError",
        "request": "http://192.168.3.2:9900/lab/extensions/@jupyter-widgets/jupyterlab-manager/static/495.3e275af54861cdeb3e75.js?v=3e275af54861cdeb3e75",
        "type": "error"
       },
       "layout": "IPY_MODEL_cdab21d672974a8c85155317cea2dca2",
       "msg": "Failed to load model class 'HTMLModel' from module '@jupyter-widgets/controls'",
       "placeholder": "​",
       "style": "IPY_MODEL_cbbe17dd0ef04e938e427824cb3398c8",
       "value": "vocab.txt: "
      }
     },
     "177e0ddb1f584f98a6a9ec6e7ad97fe5": {
      "model_module": "@jupyter-widgets/base",
      "model_module_version": "2.0.0",
      "model_name": "LayoutModel",
      "state": {}
     },
     "17d64bd97bbd49fb8877de231432e336": {
      "model_module": "@jupyter-widgets/base",
      "model_module_version": "2.0.0",
      "model_name": "LayoutModel",
      "state": {}
     },
     "187ab86e80a9472fa79bacc7e0853806": {
      "model_module": "@jupyter-widgets/controls",
      "model_module_version": "2.0.0",
      "model_name": "HBoxModel",
      "state": {
       "_model_module": "@jupyter-widgets/controls",
       "_model_name": "HBoxModel",
       "_view_name": "ErrorWidgetView",
       "box_style": "",
       "children": [
        "IPY_MODEL_b983c21ae1444a3f806980858509dc67",
        "IPY_MODEL_01c148d39bef4bb5bd275c217bfc4e02",
        "IPY_MODEL_7788c015e23c49039674f456927cfd67"
       ],
       "error": {
        "message": "Loading chunk 495 failed.\n(error: http://192.168.3.2:9900/lab/extensions/@jupyter-widgets/jupyterlab-manager/static/495.3e275af54861cdeb3e75.js?v=3e275af54861cdeb3e75)",
        "name": "ChunkLoadError",
        "request": "http://192.168.3.2:9900/lab/extensions/@jupyter-widgets/jupyterlab-manager/static/495.3e275af54861cdeb3e75.js?v=3e275af54861cdeb3e75",
        "type": "error"
       },
       "layout": "IPY_MODEL_cc610ace66f14014934d3f2bd7a64a3c",
       "msg": "Failed to load model class 'HBoxModel' from module '@jupyter-widgets/controls'"
      }
     },
     "19812ad2e356438b91752c047a6c6261": {
      "model_module": "@jupyter-widgets/controls",
      "model_module_version": "2.0.0",
      "model_name": "HTMLStyleModel",
      "state": {
       "_model_module": "@jupyter-widgets/controls",
       "_model_name": "HTMLStyleModel",
       "_view_name": "ErrorWidgetView",
       "background": null,
       "description_width": "",
       "error": {
        "message": "Loading chunk 202 failed.\n(error: http://192.168.3.2:9900/lab/extensions/@jupyter-widgets/jupyterlab-manager/static/202.0336063976910618ce3f.js?v=0336063976910618ce3f)",
        "name": "ChunkLoadError",
        "request": "http://192.168.3.2:9900/lab/extensions/@jupyter-widgets/jupyterlab-manager/static/202.0336063976910618ce3f.js?v=0336063976910618ce3f",
        "type": "error"
       },
       "font_size": null,
       "msg": "Failed to load model class 'HTMLStyleModel' from module '@jupyter-widgets/controls'",
       "text_color": null
      }
     },
     "1982c2c536a844f9acbb8082af68f11a": {
      "model_module": "@jupyter-widgets/controls",
      "model_module_version": "2.0.0",
      "model_name": "HTMLModel",
      "state": {
       "_model_module": "@jupyter-widgets/controls",
       "_model_name": "HTMLModel",
       "_view_name": "ErrorWidgetView",
       "description": "",
       "description_allow_html": false,
       "error": {
        "message": "Loading chunk 495 failed.\n(error: http://192.168.3.2:9900/lab/extensions/@jupyter-widgets/jupyterlab-manager/static/495.3e275af54861cdeb3e75.js?v=3e275af54861cdeb3e75)",
        "name": "ChunkLoadError",
        "request": "http://192.168.3.2:9900/lab/extensions/@jupyter-widgets/jupyterlab-manager/static/495.3e275af54861cdeb3e75.js?v=3e275af54861cdeb3e75",
        "type": "error"
       },
       "layout": "IPY_MODEL_35d15ac18a5c467489eae40e0076bb1d",
       "msg": "Failed to load model class 'HTMLModel' from module '@jupyter-widgets/controls'",
       "placeholder": "​",
       "style": "IPY_MODEL_09758d477f114a4f98ecbe2bb861fb45",
       "value": "tokenizer_config.json: 100%"
      }
     },
     "1983c120a56a4633a9d3ed98246a883e": {
      "model_module": "@jupyter-widgets/controls",
      "model_module_version": "2.0.0",
      "model_name": "HTMLModel",
      "state": {
       "_model_module": "@jupyter-widgets/controls",
       "_model_name": "HTMLModel",
       "_view_name": "ErrorWidgetView",
       "description": "",
       "description_allow_html": false,
       "error": {
        "message": "Loading chunk 495 failed.\n(error: http://192.168.3.2:9900/lab/extensions/@jupyter-widgets/jupyterlab-manager/static/495.3e275af54861cdeb3e75.js?v=3e275af54861cdeb3e75)",
        "name": "ChunkLoadError",
        "request": "http://192.168.3.2:9900/lab/extensions/@jupyter-widgets/jupyterlab-manager/static/495.3e275af54861cdeb3e75.js?v=3e275af54861cdeb3e75",
        "type": "error"
       },
       "layout": "IPY_MODEL_ff6f1baa361b4ee08e40149ebcc15509",
       "msg": "Failed to load model class 'HTMLModel' from module '@jupyter-widgets/controls'",
       "placeholder": "​",
       "style": "IPY_MODEL_eacb395b30804b7ea4539b65b4711af3",
       "value": "merges.txt: "
      }
     },
     "1a1ba3e144df4c28b4fef7b6ef2295e2": {
      "model_module": "@jupyter-widgets/controls",
      "model_module_version": "2.0.0",
      "model_name": "ProgressStyleModel",
      "state": {
       "_model_module": "@jupyter-widgets/controls",
       "_model_name": "ProgressStyleModel",
       "_view_name": "ErrorWidgetView",
       "bar_color": null,
       "description_width": "",
       "error": {
        "message": "Loading chunk 202 failed.\n(error: http://192.168.3.2:9900/lab/extensions/@jupyter-widgets/jupyterlab-manager/static/202.0336063976910618ce3f.js?v=0336063976910618ce3f)",
        "name": "ChunkLoadError",
        "request": "http://192.168.3.2:9900/lab/extensions/@jupyter-widgets/jupyterlab-manager/static/202.0336063976910618ce3f.js?v=0336063976910618ce3f",
        "type": "error"
       },
       "msg": "Failed to load model class 'ProgressStyleModel' from module '@jupyter-widgets/controls'"
      }
     },
     "1a41a07650c649cdaaf1f43f968250ed": {
      "model_module": "@jupyter-widgets/base",
      "model_module_version": "2.0.0",
      "model_name": "LayoutModel",
      "state": {
       "width": "20px"
      }
     },
     "1a43cda9b97e40f0b1f56cf49be2d758": {
      "model_module": "@jupyter-widgets/controls",
      "model_module_version": "2.0.0",
      "model_name": "ProgressStyleModel",
      "state": {
       "_model_module": "@jupyter-widgets/controls",
       "_model_name": "ProgressStyleModel",
       "_view_name": "ErrorWidgetView",
       "bar_color": null,
       "description_width": "",
       "error": {
        "message": "Loading chunk 495 failed.\n(error: http://192.168.3.2:9900/lab/extensions/@jupyter-widgets/jupyterlab-manager/static/495.3e275af54861cdeb3e75.js?v=3e275af54861cdeb3e75)",
        "name": "ChunkLoadError",
        "request": "http://192.168.3.2:9900/lab/extensions/@jupyter-widgets/jupyterlab-manager/static/495.3e275af54861cdeb3e75.js?v=3e275af54861cdeb3e75",
        "type": "error"
       },
       "msg": "Failed to load model class 'ProgressStyleModel' from module '@jupyter-widgets/controls'"
      }
     },
     "1a4a638c4f5a4e31931d17bb463b6d70": {
      "model_module": "@jupyter-widgets/controls",
      "model_module_version": "2.0.0",
      "model_name": "HTMLModel",
      "state": {
       "_model_module": "@jupyter-widgets/controls",
       "_model_name": "HTMLModel",
       "_view_name": "ErrorWidgetView",
       "description": "",
       "description_allow_html": false,
       "error": {
        "message": "Loading chunk 202 failed.\n(error: http://192.168.3.2:9900/lab/extensions/@jupyter-widgets/jupyterlab-manager/static/202.0336063976910618ce3f.js?v=0336063976910618ce3f)",
        "name": "ChunkLoadError",
        "request": "http://192.168.3.2:9900/lab/extensions/@jupyter-widgets/jupyterlab-manager/static/202.0336063976910618ce3f.js?v=0336063976910618ce3f",
        "type": "error"
       },
       "layout": "IPY_MODEL_2b6af668bacd454d85f219b2ff61e132",
       "msg": "Failed to load model class 'HTMLModel' from module '@jupyter-widgets/controls'",
       "placeholder": "​",
       "style": "IPY_MODEL_b7e2602c66814fc49238ecf927d99d3f",
       "value": " 953/? [00:00&lt;00:00, 58.0kB/s]"
      }
     },
     "1aa108c779ab4093ba13f2e0af481be2": {
      "model_module": "@jupyter-widgets/controls",
      "model_module_version": "2.0.0",
      "model_name": "HTMLStyleModel",
      "state": {
       "_model_module": "@jupyter-widgets/controls",
       "_model_name": "HTMLStyleModel",
       "_view_name": "ErrorWidgetView",
       "background": null,
       "description_width": "",
       "error": {
        "message": "Loading chunk 495 failed.\n(error: http://192.168.3.2:9900/lab/extensions/@jupyter-widgets/jupyterlab-manager/static/495.3e275af54861cdeb3e75.js?v=3e275af54861cdeb3e75)",
        "name": "ChunkLoadError",
        "request": "http://192.168.3.2:9900/lab/extensions/@jupyter-widgets/jupyterlab-manager/static/495.3e275af54861cdeb3e75.js?v=3e275af54861cdeb3e75",
        "type": "error"
       },
       "font_size": null,
       "msg": "Failed to load model class 'HTMLStyleModel' from module '@jupyter-widgets/controls'",
       "text_color": null
      }
     },
     "1b69002ca865407c8fa195d95468fcce": {
      "model_module": "@jupyter-widgets/controls",
      "model_module_version": "2.0.0",
      "model_name": "FloatProgressModel",
      "state": {
       "_model_module": "@jupyter-widgets/controls",
       "_model_name": "FloatProgressModel",
       "_view_name": "ErrorWidgetView",
       "bar_style": "success",
       "description": "",
       "description_allow_html": false,
       "error": {
        "message": "Loading chunk 202 failed.\n(error: http://192.168.3.2:9900/lab/extensions/@jupyter-widgets/jupyterlab-manager/static/202.0336063976910618ce3f.js?v=0336063976910618ce3f)",
        "name": "ChunkLoadError",
        "request": "http://192.168.3.2:9900/lab/extensions/@jupyter-widgets/jupyterlab-manager/static/202.0336063976910618ce3f.js?v=0336063976910618ce3f",
        "type": "error"
       },
       "layout": "IPY_MODEL_52eb5c77a0b04b83a329261bd223626b",
       "max": 167,
       "min": 0,
       "msg": "Failed to load model class 'FloatProgressModel' from module '@jupyter-widgets/controls'",
       "orientation": "horizontal",
       "style": "IPY_MODEL_3a04e0310035424ea60d0533908d2495",
       "value": 167
      }
     },
     "1be540525be443ea8ee4b926b8b2f4fa": {
      "model_module": "@jupyter-widgets/base",
      "model_module_version": "2.0.0",
      "model_name": "LayoutModel",
      "state": {}
     },
     "1beb0b66bbbe43af81f81c08fc48d4d4": {
      "model_module": "@jupyter-widgets/controls",
      "model_module_version": "2.0.0",
      "model_name": "HTMLModel",
      "state": {
       "_model_module": "@jupyter-widgets/controls",
       "_model_name": "HTMLModel",
       "_view_name": "ErrorWidgetView",
       "description": "",
       "description_allow_html": false,
       "error": {
        "message": "Loading chunk 495 failed.\n(error: http://192.168.3.2:9900/lab/extensions/@jupyter-widgets/jupyterlab-manager/static/495.3e275af54861cdeb3e75.js?v=3e275af54861cdeb3e75)",
        "name": "ChunkLoadError",
        "request": "http://192.168.3.2:9900/lab/extensions/@jupyter-widgets/jupyterlab-manager/static/495.3e275af54861cdeb3e75.js?v=3e275af54861cdeb3e75",
        "type": "error"
       },
       "layout": "IPY_MODEL_86d0353f35d242a2bdb3507282627008",
       "msg": "Failed to load model class 'HTMLModel' from module '@jupyter-widgets/controls'",
       "placeholder": "​",
       "style": "IPY_MODEL_fa6c6e4613a345a9a98caab7620c3ef5",
       "value": " 669M/669M [00:14&lt;00:00, 44.8MB/s]"
      }
     },
     "1c03ef1ed8ea49d293ae6c300ac9035e": {
      "model_module": "@jupyter-widgets/base",
      "model_module_version": "2.0.0",
      "model_name": "LayoutModel",
      "state": {}
     },
     "1c05c6791b5345ca91855fc6d04c2c06": {
      "model_module": "@jupyter-widgets/controls",
      "model_module_version": "2.0.0",
      "model_name": "FloatProgressModel",
      "state": {
       "_model_module": "@jupyter-widgets/controls",
       "_model_name": "FloatProgressModel",
       "_view_name": "ErrorWidgetView",
       "bar_style": "success",
       "description": "",
       "description_allow_html": false,
       "error": {
        "message": "Loading chunk 495 failed.\n(error: http://192.168.3.2:9900/lab/extensions/@jupyter-widgets/jupyterlab-manager/static/495.3e275af54861cdeb3e75.js?v=3e275af54861cdeb3e75)",
        "name": "ChunkLoadError",
        "request": "http://192.168.3.2:9900/lab/extensions/@jupyter-widgets/jupyterlab-manager/static/495.3e275af54861cdeb3e75.js?v=3e275af54861cdeb3e75",
        "type": "error"
       },
       "layout": "IPY_MODEL_db272c722e5e4c8392fd328f18106742",
       "max": 1,
       "min": 0,
       "msg": "Failed to load model class 'FloatProgressModel' from module '@jupyter-widgets/controls'",
       "orientation": "horizontal",
       "style": "IPY_MODEL_abe0e98f894044d8a084fd888cb1c697",
       "value": 1
      }
     },
     "1c46c71531bd46bdb7dbea45372544a3": {
      "model_module": "@jupyter-widgets/controls",
      "model_module_version": "2.0.0",
      "model_name": "ProgressStyleModel",
      "state": {
       "_model_module": "@jupyter-widgets/controls",
       "_model_name": "ProgressStyleModel",
       "_view_name": "ErrorWidgetView",
       "bar_color": null,
       "description_width": "",
       "error": {
        "message": "Loading chunk 202 failed.\n(error: http://192.168.3.2:9900/lab/extensions/@jupyter-widgets/jupyterlab-manager/static/202.0336063976910618ce3f.js?v=0336063976910618ce3f)",
        "name": "ChunkLoadError",
        "request": "http://192.168.3.2:9900/lab/extensions/@jupyter-widgets/jupyterlab-manager/static/202.0336063976910618ce3f.js?v=0336063976910618ce3f",
        "type": "error"
       },
       "msg": "Failed to load model class 'ProgressStyleModel' from module '@jupyter-widgets/controls'"
      }
     },
     "1c73078557bb49a7ab518c0e344ef2cb": {
      "model_module": "@jupyter-widgets/base",
      "model_module_version": "2.0.0",
      "model_name": "LayoutModel",
      "state": {}
     },
     "1c73e167ffc2469c9f1419cbb559346e": {
      "model_module": "@jupyter-widgets/controls",
      "model_module_version": "2.0.0",
      "model_name": "HTMLStyleModel",
      "state": {
       "_model_module": "@jupyter-widgets/controls",
       "_model_name": "HTMLStyleModel",
       "_view_name": "ErrorWidgetView",
       "background": null,
       "description_width": "",
       "error": {
        "message": "Loading chunk 495 failed.\n(error: http://192.168.3.2:9900/lab/extensions/@jupyter-widgets/jupyterlab-manager/static/495.3e275af54861cdeb3e75.js?v=3e275af54861cdeb3e75)",
        "name": "ChunkLoadError",
        "request": "http://192.168.3.2:9900/lab/extensions/@jupyter-widgets/jupyterlab-manager/static/495.3e275af54861cdeb3e75.js?v=3e275af54861cdeb3e75",
        "type": "error"
       },
       "font_size": null,
       "msg": "Failed to load model class 'HTMLStyleModel' from module '@jupyter-widgets/controls'",
       "text_color": null
      }
     },
     "1c7f9d43f28b4e40a11e9181e677943f": {
      "model_module": "@jupyter-widgets/controls",
      "model_module_version": "2.0.0",
      "model_name": "HBoxModel",
      "state": {
       "_model_module": "@jupyter-widgets/controls",
       "_model_name": "HBoxModel",
       "_view_name": "ErrorWidgetView",
       "box_style": "",
       "children": [
        "IPY_MODEL_bb12302bd71541be8d44fa09c5e34965",
        "IPY_MODEL_233ebd984cb946e2955b0fcad57331d4",
        "IPY_MODEL_961fd17f56204435acdfa0b74079a8af"
       ],
       "error": {
        "message": "Loading chunk 495 failed.\n(error: http://192.168.3.2:9900/lab/extensions/@jupyter-widgets/jupyterlab-manager/static/495.3e275af54861cdeb3e75.js?v=3e275af54861cdeb3e75)",
        "name": "ChunkLoadError",
        "request": "http://192.168.3.2:9900/lab/extensions/@jupyter-widgets/jupyterlab-manager/static/495.3e275af54861cdeb3e75.js?v=3e275af54861cdeb3e75",
        "type": "error"
       },
       "layout": "IPY_MODEL_c99448ac35b84fb0b84aa2b8d3771b90",
       "msg": "Failed to load model class 'HBoxModel' from module '@jupyter-widgets/controls'"
      }
     },
     "1cd89a3909af48fe8ddb7e0454c0215d": {
      "model_module": "@jupyter-widgets/controls",
      "model_module_version": "2.0.0",
      "model_name": "HTMLModel",
      "state": {
       "_model_module": "@jupyter-widgets/controls",
       "_model_name": "HTMLModel",
       "_view_name": "ErrorWidgetView",
       "description": "",
       "description_allow_html": false,
       "error": {
        "message": "Loading chunk 495 failed.\n(error: http://192.168.3.2:9900/lab/extensions/@jupyter-widgets/jupyterlab-manager/static/495.3e275af54861cdeb3e75.js?v=3e275af54861cdeb3e75)",
        "name": "ChunkLoadError",
        "request": "http://192.168.3.2:9900/lab/extensions/@jupyter-widgets/jupyterlab-manager/static/495.3e275af54861cdeb3e75.js?v=3e275af54861cdeb3e75",
        "type": "error"
       },
       "layout": "IPY_MODEL_9d14dd01428b445aa07e366e014aa501",
       "msg": "Failed to load model class 'HTMLModel' from module '@jupyter-widgets/controls'",
       "placeholder": "​",
       "style": "IPY_MODEL_bcf08e005fa24aeb804a730fbd80a9a8",
       "value": " 185k/? [00:00&lt;00:00, 10.5MB/s]"
      }
     },
     "1cecb60946eb445aa8044e9a8b6b1e5a": {
      "model_module": "@jupyter-widgets/controls",
      "model_module_version": "2.0.0",
      "model_name": "HTMLStyleModel",
      "state": {
       "_model_module": "@jupyter-widgets/controls",
       "_model_name": "HTMLStyleModel",
       "_view_name": "ErrorWidgetView",
       "background": null,
       "description_width": "",
       "error": {
        "message": "Loading chunk 202 failed.\n(error: http://192.168.3.2:9900/lab/extensions/@jupyter-widgets/jupyterlab-manager/static/202.0336063976910618ce3f.js?v=0336063976910618ce3f)",
        "name": "ChunkLoadError",
        "request": "http://192.168.3.2:9900/lab/extensions/@jupyter-widgets/jupyterlab-manager/static/202.0336063976910618ce3f.js?v=0336063976910618ce3f",
        "type": "error"
       },
       "font_size": null,
       "msg": "Failed to load model class 'HTMLStyleModel' from module '@jupyter-widgets/controls'",
       "text_color": null
      }
     },
     "1cfb0cdd4eb442889de8d9daa280722d": {
      "model_module": "@jupyter-widgets/base",
      "model_module_version": "2.0.0",
      "model_name": "LayoutModel",
      "state": {}
     },
     "1d4379fda0b04dca84c186dd107a0e67": {
      "model_module": "@jupyter-widgets/controls",
      "model_module_version": "2.0.0",
      "model_name": "HBoxModel",
      "state": {
       "_model_module": "@jupyter-widgets/controls",
       "_model_name": "HBoxModel",
       "_view_name": "ErrorWidgetView",
       "box_style": "",
       "children": [
        "IPY_MODEL_3f06709eb6f54381808ec683c56ab93c",
        "IPY_MODEL_ec7c4399e43d45f186bf2ecb7be13c6f",
        "IPY_MODEL_f01df62cc9cb44508f24cb0a28bb77d8"
       ],
       "error": {
        "message": "Loading chunk 495 failed.\n(error: http://192.168.3.2:9900/lab/extensions/@jupyter-widgets/jupyterlab-manager/static/495.3e275af54861cdeb3e75.js?v=3e275af54861cdeb3e75)",
        "name": "ChunkLoadError",
        "request": "http://192.168.3.2:9900/lab/extensions/@jupyter-widgets/jupyterlab-manager/static/495.3e275af54861cdeb3e75.js?v=3e275af54861cdeb3e75",
        "type": "error"
       },
       "layout": "IPY_MODEL_0cb1bcf284ff4054853e8c81e58523bd",
       "msg": "Failed to load model class 'HBoxModel' from module '@jupyter-widgets/controls'"
      }
     },
     "1db50a969e3543bab3e263611a446fd7": {
      "model_module": "@jupyter-widgets/controls",
      "model_module_version": "2.0.0",
      "model_name": "HTMLStyleModel",
      "state": {
       "_model_module": "@jupyter-widgets/controls",
       "_model_name": "HTMLStyleModel",
       "_view_name": "ErrorWidgetView",
       "background": null,
       "description_width": "",
       "error": {
        "message": "Loading chunk 202 failed.\n(error: http://192.168.3.2:9900/lab/extensions/@jupyter-widgets/jupyterlab-manager/static/202.0336063976910618ce3f.js?v=0336063976910618ce3f)",
        "name": "ChunkLoadError",
        "request": "http://192.168.3.2:9900/lab/extensions/@jupyter-widgets/jupyterlab-manager/static/202.0336063976910618ce3f.js?v=0336063976910618ce3f",
        "type": "error"
       },
       "font_size": null,
       "msg": "Failed to load model class 'HTMLStyleModel' from module '@jupyter-widgets/controls'",
       "text_color": null
      }
     },
     "1dda2748a0c143bd99d8bad6982d1c0c": {
      "model_module": "@jupyter-widgets/controls",
      "model_module_version": "2.0.0",
      "model_name": "HTMLModel",
      "state": {
       "_model_module": "@jupyter-widgets/controls",
       "_model_name": "HTMLModel",
       "_view_name": "ErrorWidgetView",
       "description": "",
       "description_allow_html": false,
       "error": {
        "message": "Loading chunk 202 failed.\n(error: http://192.168.3.2:9900/lab/extensions/@jupyter-widgets/jupyterlab-manager/static/202.0336063976910618ce3f.js?v=0336063976910618ce3f)",
        "name": "ChunkLoadError",
        "request": "http://192.168.3.2:9900/lab/extensions/@jupyter-widgets/jupyterlab-manager/static/202.0336063976910618ce3f.js?v=0336063976910618ce3f",
        "type": "error"
       },
       "layout": "IPY_MODEL_ce1c9ff3059c4a539f01cbe24eaaaa8b",
       "msg": "Failed to load model class 'HTMLModel' from module '@jupyter-widgets/controls'",
       "placeholder": "​",
       "style": "IPY_MODEL_3fd84996f4744c2a97043d0b6c4240bf",
       "value": " 213/213 [00:00&lt;00:00, 13.9kB/s]"
      }
     },
     "1dfaeadeadcf4d20894790567aaf883a": {
      "model_module": "@jupyter-widgets/base",
      "model_module_version": "2.0.0",
      "model_name": "LayoutModel",
      "state": {}
     },
     "1ee4f9fcc09a4c2b8b6b4318376b26aa": {
      "model_module": "@jupyter-widgets/controls",
      "model_module_version": "2.0.0",
      "model_name": "HTMLModel",
      "state": {
       "_model_module": "@jupyter-widgets/controls",
       "_model_name": "HTMLModel",
       "_view_name": "ErrorWidgetView",
       "description": "",
       "description_allow_html": false,
       "error": {
        "message": "Loading chunk 495 failed.\n(error: http://192.168.3.2:9900/lab/extensions/@jupyter-widgets/jupyterlab-manager/static/495.3e275af54861cdeb3e75.js?v=3e275af54861cdeb3e75)",
        "name": "ChunkLoadError",
        "request": "http://192.168.3.2:9900/lab/extensions/@jupyter-widgets/jupyterlab-manager/static/495.3e275af54861cdeb3e75.js?v=3e275af54861cdeb3e75",
        "type": "error"
       },
       "layout": "IPY_MODEL_e00528faf2a64304b71a7e555d103ba3",
       "msg": "Failed to load model class 'HTMLModel' from module '@jupyter-widgets/controls'",
       "placeholder": "​",
       "style": "IPY_MODEL_27c916b426f54f6bbc864cf59887bab0",
       "value": "config.json: "
      }
     },
     "1f45b919aba3496fb882bd166e97ac68": {
      "model_module": "@jupyter-widgets/controls",
      "model_module_version": "2.0.0",
      "model_name": "HTMLModel",
      "state": {
       "_model_module": "@jupyter-widgets/controls",
       "_model_name": "HTMLModel",
       "_view_name": "ErrorWidgetView",
       "description": "",
       "description_allow_html": false,
       "error": {
        "message": "Loading chunk 202 failed.\n(error: http://192.168.3.2:9900/lab/extensions/@jupyter-widgets/jupyterlab-manager/static/202.0336063976910618ce3f.js?v=0336063976910618ce3f)",
        "name": "ChunkLoadError",
        "request": "http://192.168.3.2:9900/lab/extensions/@jupyter-widgets/jupyterlab-manager/static/202.0336063976910618ce3f.js?v=0336063976910618ce3f",
        "type": "error"
       },
       "layout": "IPY_MODEL_75fc929cdf8145008aa42a0cfe5ad1af",
       "msg": "Failed to load model class 'HTMLModel' from module '@jupyter-widgets/controls'",
       "placeholder": "​",
       "style": "IPY_MODEL_3421dfa5f59f4b428a57ce7cdde8dfa7",
       "value": " 256/256 [00:00&lt;00:00, 15.9kB/s]"
      }
     },
     "1f654e74d4da4964a0e6d4050f5d5f21": {
      "model_module": "@jupyter-widgets/controls",
      "model_module_version": "2.0.0",
      "model_name": "HTMLStyleModel",
      "state": {
       "_model_module": "@jupyter-widgets/controls",
       "_model_name": "HTMLStyleModel",
       "_view_name": "ErrorWidgetView",
       "background": null,
       "description_width": "",
       "error": {
        "message": "Loading chunk 202 failed.\n(error: http://192.168.3.2:9900/lab/extensions/@jupyter-widgets/jupyterlab-manager/static/202.0336063976910618ce3f.js?v=0336063976910618ce3f)",
        "name": "ChunkLoadError",
        "request": "http://192.168.3.2:9900/lab/extensions/@jupyter-widgets/jupyterlab-manager/static/202.0336063976910618ce3f.js?v=0336063976910618ce3f",
        "type": "error"
       },
       "font_size": null,
       "msg": "Failed to load model class 'HTMLStyleModel' from module '@jupyter-widgets/controls'",
       "text_color": null
      }
     },
     "20df66a385834244ac32300e7d8801a5": {
      "model_module": "@jupyter-widgets/base",
      "model_module_version": "2.0.0",
      "model_name": "LayoutModel",
      "state": {}
     },
     "2121102c91a34c45837c9c1b4c5ea5c3": {
      "model_module": "@jupyter-widgets/controls",
      "model_module_version": "2.0.0",
      "model_name": "HTMLModel",
      "state": {
       "_model_module": "@jupyter-widgets/controls",
       "_model_name": "HTMLModel",
       "_view_name": "ErrorWidgetView",
       "description": "",
       "description_allow_html": false,
       "error": {
        "message": "Loading chunk 495 failed.\n(error: http://192.168.3.2:9900/lab/extensions/@jupyter-widgets/jupyterlab-manager/static/495.3e275af54861cdeb3e75.js?v=3e275af54861cdeb3e75)",
        "name": "ChunkLoadError",
        "request": "http://192.168.3.2:9900/lab/extensions/@jupyter-widgets/jupyterlab-manager/static/495.3e275af54861cdeb3e75.js?v=3e275af54861cdeb3e75",
        "type": "error"
       },
       "layout": "IPY_MODEL_f05d461af11e42e58902f2fe77380753",
       "msg": "Failed to load model class 'HTMLModel' from module '@jupyter-widgets/controls'",
       "placeholder": "​",
       "style": "IPY_MODEL_a90a2bbbc4fe4028aca441eed2faed89",
       "value": "tokenizer.json: "
      }
     },
     "21df1c199ed9441b8ffe7e4a9ba9c2e5": {
      "model_module": "@jupyter-widgets/controls",
      "model_module_version": "2.0.0",
      "model_name": "HBoxModel",
      "state": {
       "_model_module": "@jupyter-widgets/controls",
       "_model_name": "HBoxModel",
       "_view_name": "ErrorWidgetView",
       "box_style": "",
       "children": [
        "IPY_MODEL_58d0d61f48c14c03ab1b7db0dbc13429",
        "IPY_MODEL_409224c0f11b424b94a3154babcfd921",
        "IPY_MODEL_7d4e6d5bff5b4664b8168b4ff24630aa"
       ],
       "error": {
        "message": "Loading chunk 202 failed.\n(error: http://192.168.3.2:9900/lab/extensions/@jupyter-widgets/jupyterlab-manager/static/202.0336063976910618ce3f.js?v=0336063976910618ce3f)",
        "name": "ChunkLoadError",
        "request": "http://192.168.3.2:9900/lab/extensions/@jupyter-widgets/jupyterlab-manager/static/202.0336063976910618ce3f.js?v=0336063976910618ce3f",
        "type": "error"
       },
       "layout": "IPY_MODEL_5f7a3466150e427ab6386250f251fd74",
       "msg": "Failed to load model class 'HBoxModel' from module '@jupyter-widgets/controls'"
      }
     },
     "222e44b6fa254fd39ad6ff4364dad81f": {
      "model_module": "@jupyter-widgets/base",
      "model_module_version": "2.0.0",
      "model_name": "LayoutModel",
      "state": {}
     },
     "22959818d04a417f87dafb874950e913": {
      "model_module": "@jupyter-widgets/controls",
      "model_module_version": "2.0.0",
      "model_name": "ProgressStyleModel",
      "state": {
       "_model_module": "@jupyter-widgets/controls",
       "_model_name": "ProgressStyleModel",
       "_view_name": "ErrorWidgetView",
       "bar_color": null,
       "description_width": "",
       "error": {
        "message": "Loading chunk 202 failed.\n(error: http://192.168.3.2:9900/lab/extensions/@jupyter-widgets/jupyterlab-manager/static/202.0336063976910618ce3f.js?v=0336063976910618ce3f)",
        "name": "ChunkLoadError",
        "request": "http://192.168.3.2:9900/lab/extensions/@jupyter-widgets/jupyterlab-manager/static/202.0336063976910618ce3f.js?v=0336063976910618ce3f",
        "type": "error"
       },
       "msg": "Failed to load model class 'ProgressStyleModel' from module '@jupyter-widgets/controls'"
      }
     },
     "22c5250c9f81483790477a8de0f08e0c": {
      "model_module": "@jupyter-widgets/controls",
      "model_module_version": "2.0.0",
      "model_name": "HTMLStyleModel",
      "state": {
       "_model_module": "@jupyter-widgets/controls",
       "_model_name": "HTMLStyleModel",
       "_view_name": "ErrorWidgetView",
       "background": null,
       "description_width": "",
       "error": {
        "message": "Loading chunk 495 failed.\n(error: http://192.168.3.2:9900/lab/extensions/@jupyter-widgets/jupyterlab-manager/static/495.3e275af54861cdeb3e75.js?v=3e275af54861cdeb3e75)",
        "name": "ChunkLoadError",
        "request": "http://192.168.3.2:9900/lab/extensions/@jupyter-widgets/jupyterlab-manager/static/495.3e275af54861cdeb3e75.js?v=3e275af54861cdeb3e75",
        "type": "error"
       },
       "font_size": null,
       "msg": "Failed to load model class 'HTMLStyleModel' from module '@jupyter-widgets/controls'",
       "text_color": null
      }
     },
     "233ebd984cb946e2955b0fcad57331d4": {
      "model_module": "@jupyter-widgets/controls",
      "model_module_version": "2.0.0",
      "model_name": "FloatProgressModel",
      "state": {
       "_model_module": "@jupyter-widgets/controls",
       "_model_name": "FloatProgressModel",
       "_view_name": "ErrorWidgetView",
       "bar_style": "success",
       "description": "",
       "description_allow_html": false,
       "error": {
        "message": "Loading chunk 202 failed.\n(error: http://192.168.3.2:9900/lab/extensions/@jupyter-widgets/jupyterlab-manager/static/202.0336063976910618ce3f.js?v=0336063976910618ce3f)",
        "name": "ChunkLoadError",
        "request": "http://192.168.3.2:9900/lab/extensions/@jupyter-widgets/jupyterlab-manager/static/202.0336063976910618ce3f.js?v=0336063976910618ce3f",
        "type": "error"
       },
       "layout": "IPY_MODEL_e3657fe4edf44bcb96576f0e854e92f2",
       "max": 333,
       "min": 0,
       "msg": "Failed to load model class 'FloatProgressModel' from module '@jupyter-widgets/controls'",
       "orientation": "horizontal",
       "style": "IPY_MODEL_3fe46306b9064bb39e9c16c54f259448",
       "value": 333
      }
     },
     "233ecdb0fcae4d83a07f329d5606750f": {
      "model_module": "@jupyter-widgets/controls",
      "model_module_version": "2.0.0",
      "model_name": "HTMLStyleModel",
      "state": {
       "_model_module": "@jupyter-widgets/controls",
       "_model_name": "HTMLStyleModel",
       "_view_name": "ErrorWidgetView",
       "background": null,
       "description_width": "",
       "error": {
        "message": "Loading chunk 495 failed.\n(error: http://192.168.3.2:9900/lab/extensions/@jupyter-widgets/jupyterlab-manager/static/495.3e275af54861cdeb3e75.js?v=3e275af54861cdeb3e75)",
        "name": "ChunkLoadError",
        "request": "http://192.168.3.2:9900/lab/extensions/@jupyter-widgets/jupyterlab-manager/static/495.3e275af54861cdeb3e75.js?v=3e275af54861cdeb3e75",
        "type": "error"
       },
       "font_size": null,
       "msg": "Failed to load model class 'HTMLStyleModel' from module '@jupyter-widgets/controls'",
       "text_color": null
      }
     },
     "236b68492d4c454e91c2c5630b3b41e5": {
      "model_module": "@jupyter-widgets/base",
      "model_module_version": "2.0.0",
      "model_name": "LayoutModel",
      "state": {}
     },
     "239940242b344f8db982923d28b87e0c": {
      "model_module": "@jupyter-widgets/controls",
      "model_module_version": "2.0.0",
      "model_name": "HBoxModel",
      "state": {
       "_model_module": "@jupyter-widgets/controls",
       "_model_name": "HBoxModel",
       "_view_name": "ErrorWidgetView",
       "box_style": "",
       "children": [
        "IPY_MODEL_4e4ef7b88ae8483983209eb25a371c9d",
        "IPY_MODEL_3c8205704fcd47d5b9f13eb370a1876f",
        "IPY_MODEL_944a545fa7804174b619e88edd5205f9"
       ],
       "error": {
        "message": "Loading chunk 495 failed.\n(error: http://192.168.3.2:9900/lab/extensions/@jupyter-widgets/jupyterlab-manager/static/495.3e275af54861cdeb3e75.js?v=3e275af54861cdeb3e75)",
        "name": "ChunkLoadError",
        "request": "http://192.168.3.2:9900/lab/extensions/@jupyter-widgets/jupyterlab-manager/static/495.3e275af54861cdeb3e75.js?v=3e275af54861cdeb3e75",
        "type": "error"
       },
       "layout": "IPY_MODEL_cb121707c967445db58c77d9eb49ded3",
       "msg": "Failed to load model class 'HBoxModel' from module '@jupyter-widgets/controls'"
      }
     },
     "2406c9686cca4f308f60b8e530fc3f55": {
      "model_module": "@jupyter-widgets/base",
      "model_module_version": "2.0.0",
      "model_name": "LayoutModel",
      "state": {}
     },
     "2420ba6feb7a43ce8747bf1696eb8c4a": {
      "model_module": "@jupyter-widgets/base",
      "model_module_version": "2.0.0",
      "model_name": "LayoutModel",
      "state": {}
     },
     "244f21e0656146ef88f5121873cd9b13": {
      "model_module": "@jupyter-widgets/controls",
      "model_module_version": "2.0.0",
      "model_name": "HTMLModel",
      "state": {
       "_model_module": "@jupyter-widgets/controls",
       "_model_name": "HTMLModel",
       "_view_name": "ErrorWidgetView",
       "description": "",
       "description_allow_html": false,
       "error": {
        "message": "Loading chunk 495 failed.\n(error: http://192.168.3.2:9900/lab/extensions/@jupyter-widgets/jupyterlab-manager/static/495.3e275af54861cdeb3e75.js?v=3e275af54861cdeb3e75)",
        "name": "ChunkLoadError",
        "request": "http://192.168.3.2:9900/lab/extensions/@jupyter-widgets/jupyterlab-manager/static/495.3e275af54861cdeb3e75.js?v=3e275af54861cdeb3e75",
        "type": "error"
       },
       "layout": "IPY_MODEL_6bd52c1a79ba49039c4fb466f564bf84",
       "msg": "Failed to load model class 'HTMLModel' from module '@jupyter-widgets/controls'",
       "placeholder": "​",
       "style": "IPY_MODEL_5f11b46fffef44b5a977cf0648be9b2d",
       "value": " 501M/501M [00:12&lt;00:00, 32.6MB/s]"
      }
     },
     "247954f70309410bb514c04d9851b667": {
      "model_module": "@jupyter-widgets/base",
      "model_module_version": "2.0.0",
      "model_name": "LayoutModel",
      "state": {}
     },
     "251d81ae57c84e0b8ccf5bbe0d6b54de": {
      "model_module": "@jupyter-widgets/base",
      "model_module_version": "2.0.0",
      "model_name": "LayoutModel",
      "state": {}
     },
     "252b26002a5d4f0ba49d35347b954bc5": {
      "model_module": "@jupyter-widgets/controls",
      "model_module_version": "2.0.0",
      "model_name": "FloatProgressModel",
      "state": {
       "_model_module": "@jupyter-widgets/controls",
       "_model_name": "FloatProgressModel",
       "_view_name": "ErrorWidgetView",
       "bar_style": "success",
       "description": "",
       "description_allow_html": false,
       "error": {
        "message": "Loading chunk 202 failed.\n(error: http://192.168.3.2:9900/lab/extensions/@jupyter-widgets/jupyterlab-manager/static/202.0336063976910618ce3f.js?v=0336063976910618ce3f)",
        "name": "ChunkLoadError",
        "request": "http://192.168.3.2:9900/lab/extensions/@jupyter-widgets/jupyterlab-manager/static/202.0336063976910618ce3f.js?v=0336063976910618ce3f",
        "type": "error"
       },
       "layout": "IPY_MODEL_bceb8ae81b2644738cb9cddffba79be7",
       "max": 409172489,
       "min": 0,
       "msg": "Failed to load model class 'FloatProgressModel' from module '@jupyter-widgets/controls'",
       "orientation": "horizontal",
       "style": "IPY_MODEL_e73f840f9ba14e418938cd4bfb0d6564",
       "value": 409172489
      }
     },
     "2551a860a07342718c6d57c7f81de36b": {
      "model_module": "@jupyter-widgets/controls",
      "model_module_version": "2.0.0",
      "model_name": "HTMLStyleModel",
      "state": {
       "_model_module": "@jupyter-widgets/controls",
       "_model_name": "HTMLStyleModel",
       "_view_name": "ErrorWidgetView",
       "background": null,
       "description_width": "",
       "error": {
        "message": "Loading chunk 202 failed.\n(error: http://192.168.3.2:9900/lab/extensions/@jupyter-widgets/jupyterlab-manager/static/202.0336063976910618ce3f.js?v=0336063976910618ce3f)",
        "name": "ChunkLoadError",
        "request": "http://192.168.3.2:9900/lab/extensions/@jupyter-widgets/jupyterlab-manager/static/202.0336063976910618ce3f.js?v=0336063976910618ce3f",
        "type": "error"
       },
       "font_size": null,
       "msg": "Failed to load model class 'HTMLStyleModel' from module '@jupyter-widgets/controls'",
       "text_color": null
      }
     },
     "2575a3f08c3c49928ca4fdffbc98004f": {
      "model_module": "@jupyter-widgets/controls",
      "model_module_version": "2.0.0",
      "model_name": "ProgressStyleModel",
      "state": {
       "_model_module": "@jupyter-widgets/controls",
       "_model_name": "ProgressStyleModel",
       "_view_name": "ErrorWidgetView",
       "bar_color": null,
       "description_width": "",
       "error": {
        "message": "Loading chunk 495 failed.\n(error: http://192.168.3.2:9900/lab/extensions/@jupyter-widgets/jupyterlab-manager/static/495.3e275af54861cdeb3e75.js?v=3e275af54861cdeb3e75)",
        "name": "ChunkLoadError",
        "request": "http://192.168.3.2:9900/lab/extensions/@jupyter-widgets/jupyterlab-manager/static/495.3e275af54861cdeb3e75.js?v=3e275af54861cdeb3e75",
        "type": "error"
       },
       "msg": "Failed to load model class 'ProgressStyleModel' from module '@jupyter-widgets/controls'"
      }
     },
     "260cb596a80a4c91a00779f94c8ba32c": {
      "model_module": "@jupyter-widgets/controls",
      "model_module_version": "2.0.0",
      "model_name": "HTMLModel",
      "state": {
       "_model_module": "@jupyter-widgets/controls",
       "_model_name": "HTMLModel",
       "_view_name": "ErrorWidgetView",
       "description": "",
       "description_allow_html": false,
       "error": {
        "message": "Loading chunk 202 failed.\n(error: http://192.168.3.2:9900/lab/extensions/@jupyter-widgets/jupyterlab-manager/static/202.0336063976910618ce3f.js?v=0336063976910618ce3f)",
        "name": "ChunkLoadError",
        "request": "http://192.168.3.2:9900/lab/extensions/@jupyter-widgets/jupyterlab-manager/static/202.0336063976910618ce3f.js?v=0336063976910618ce3f",
        "type": "error"
       },
       "layout": "IPY_MODEL_853b671048724f2fbddd98d950a06be6",
       "msg": "Failed to load model class 'HTMLModel' from module '@jupyter-widgets/controls'",
       "placeholder": "​",
       "style": "IPY_MODEL_c70cda5210e94c99b8c264f418ab2914",
       "value": "merges.txt: "
      }
     },
     "26318d36a98747f0afeea573826a1a7c": {
      "model_module": "@jupyter-widgets/base",
      "model_module_version": "2.0.0",
      "model_name": "LayoutModel",
      "state": {}
     },
     "26438b6c44244751b00866c94c474cd7": {
      "model_module": "@jupyter-widgets/controls",
      "model_module_version": "2.0.0",
      "model_name": "HBoxModel",
      "state": {
       "_model_module": "@jupyter-widgets/controls",
       "_model_name": "HBoxModel",
       "_view_name": "ErrorWidgetView",
       "box_style": "",
       "children": [
        "IPY_MODEL_175d16a5c81f4067a87756c644e2f057",
        "IPY_MODEL_529b0148ca6941e4a8375f8513e716a7",
        "IPY_MODEL_9316d9b072b84b8a8b22fc4f74394a00"
       ],
       "error": {
        "message": "Loading chunk 202 failed.\n(error: http://192.168.3.2:9900/lab/extensions/@jupyter-widgets/jupyterlab-manager/static/202.0336063976910618ce3f.js?v=0336063976910618ce3f)",
        "name": "ChunkLoadError",
        "request": "http://192.168.3.2:9900/lab/extensions/@jupyter-widgets/jupyterlab-manager/static/202.0336063976910618ce3f.js?v=0336063976910618ce3f",
        "type": "error"
       },
       "layout": "IPY_MODEL_222e44b6fa254fd39ad6ff4364dad81f",
       "msg": "Failed to load model class 'HBoxModel' from module '@jupyter-widgets/controls'"
      }
     },
     "268e2c2c4003488a972d08571997b102": {
      "model_module": "@jupyter-widgets/base",
      "model_module_version": "2.0.0",
      "model_name": "LayoutModel",
      "state": {}
     },
     "2735f8b0b9af4a3a84cc206fa9fd2b0a": {
      "model_module": "@jupyter-widgets/controls",
      "model_module_version": "2.0.0",
      "model_name": "HTMLModel",
      "state": {
       "_model_module": "@jupyter-widgets/controls",
       "_model_name": "HTMLModel",
       "_view_name": "ErrorWidgetView",
       "description": "",
       "description_allow_html": false,
       "error": {
        "message": "Loading chunk 202 failed.\n(error: http://192.168.3.2:9900/lab/extensions/@jupyter-widgets/jupyterlab-manager/static/202.0336063976910618ce3f.js?v=0336063976910618ce3f)",
        "name": "ChunkLoadError",
        "request": "http://192.168.3.2:9900/lab/extensions/@jupyter-widgets/jupyterlab-manager/static/202.0336063976910618ce3f.js?v=0336063976910618ce3f",
        "type": "error"
       },
       "layout": "IPY_MODEL_9d97b2c924804cceb26d00ea217b3c9a",
       "msg": "Failed to load model class 'HTMLModel' from module '@jupyter-widgets/controls'",
       "placeholder": "​",
       "style": "IPY_MODEL_8fc2d48ebecb43319bf154b33635127a",
       "value": "tokenizer.json: "
      }
     },
     "279304c6d14f4eddb1cccab3a8d51c39": {
      "model_module": "@jupyter-widgets/controls",
      "model_module_version": "2.0.0",
      "model_name": "ProgressStyleModel",
      "state": {
       "_model_module": "@jupyter-widgets/controls",
       "_model_name": "ProgressStyleModel",
       "_view_name": "ErrorWidgetView",
       "bar_color": null,
       "description_width": "",
       "error": {
        "message": "Loading chunk 495 failed.\n(error: http://192.168.3.2:9900/lab/extensions/@jupyter-widgets/jupyterlab-manager/static/495.3e275af54861cdeb3e75.js?v=3e275af54861cdeb3e75)",
        "name": "ChunkLoadError",
        "request": "http://192.168.3.2:9900/lab/extensions/@jupyter-widgets/jupyterlab-manager/static/495.3e275af54861cdeb3e75.js?v=3e275af54861cdeb3e75",
        "type": "error"
       },
       "msg": "Failed to load model class 'ProgressStyleModel' from module '@jupyter-widgets/controls'"
      }
     },
     "27be69885df541b7b7f456652bce9cc8": {
      "model_module": "@jupyter-widgets/controls",
      "model_module_version": "2.0.0",
      "model_name": "FloatProgressModel",
      "state": {
       "_model_module": "@jupyter-widgets/controls",
       "_model_name": "FloatProgressModel",
       "_view_name": "ErrorWidgetView",
       "bar_style": "success",
       "description": "",
       "description_allow_html": false,
       "error": {
        "message": "Loading chunk 202 failed.\n(error: http://192.168.3.2:9900/lab/extensions/@jupyter-widgets/jupyterlab-manager/static/202.0336063976910618ce3f.js?v=0336063976910618ce3f)",
        "name": "ChunkLoadError",
        "request": "http://192.168.3.2:9900/lab/extensions/@jupyter-widgets/jupyterlab-manager/static/202.0336063976910618ce3f.js?v=0336063976910618ce3f",
        "type": "error"
       },
       "layout": "IPY_MODEL_9100937d0db5407fa84b819b57d12be1",
       "max": 1,
       "min": 0,
       "msg": "Failed to load model class 'FloatProgressModel' from module '@jupyter-widgets/controls'",
       "orientation": "horizontal",
       "style": "IPY_MODEL_279304c6d14f4eddb1cccab3a8d51c39",
       "value": 1
      }
     },
     "27c916b426f54f6bbc864cf59887bab0": {
      "model_module": "@jupyter-widgets/controls",
      "model_module_version": "2.0.0",
      "model_name": "HTMLStyleModel",
      "state": {
       "_model_module": "@jupyter-widgets/controls",
       "_model_name": "HTMLStyleModel",
       "_view_name": "ErrorWidgetView",
       "background": null,
       "description_width": "",
       "error": {
        "message": "Loading chunk 202 failed.\n(error: http://192.168.3.2:9900/lab/extensions/@jupyter-widgets/jupyterlab-manager/static/202.0336063976910618ce3f.js?v=0336063976910618ce3f)",
        "name": "ChunkLoadError",
        "request": "http://192.168.3.2:9900/lab/extensions/@jupyter-widgets/jupyterlab-manager/static/202.0336063976910618ce3f.js?v=0336063976910618ce3f",
        "type": "error"
       },
       "font_size": null,
       "msg": "Failed to load model class 'HTMLStyleModel' from module '@jupyter-widgets/controls'",
       "text_color": null
      }
     },
     "27f02b4210724e2f805a5bc6b3454b4b": {
      "model_module": "@jupyter-widgets/base",
      "model_module_version": "2.0.0",
      "model_name": "LayoutModel",
      "state": {}
     },
     "27f99c2ae4c74557b11d9a5598d9607a": {
      "model_module": "@jupyter-widgets/controls",
      "model_module_version": "2.0.0",
      "model_name": "ProgressStyleModel",
      "state": {
       "_model_module": "@jupyter-widgets/controls",
       "_model_name": "ProgressStyleModel",
       "_view_name": "ErrorWidgetView",
       "bar_color": null,
       "description_width": "",
       "error": {
        "message": "Loading chunk 202 failed.\n(error: http://192.168.3.2:9900/lab/extensions/@jupyter-widgets/jupyterlab-manager/static/202.0336063976910618ce3f.js?v=0336063976910618ce3f)",
        "name": "ChunkLoadError",
        "request": "http://192.168.3.2:9900/lab/extensions/@jupyter-widgets/jupyterlab-manager/static/202.0336063976910618ce3f.js?v=0336063976910618ce3f",
        "type": "error"
       },
       "msg": "Failed to load model class 'ProgressStyleModel' from module '@jupyter-widgets/controls'"
      }
     },
     "2811671505ee4c118c48eda2bed60059": {
      "model_module": "@jupyter-widgets/controls",
      "model_module_version": "2.0.0",
      "model_name": "HTMLModel",
      "state": {
       "_model_module": "@jupyter-widgets/controls",
       "_model_name": "HTMLModel",
       "_view_name": "ErrorWidgetView",
       "description": "",
       "description_allow_html": false,
       "error": {
        "message": "Loading chunk 495 failed.\n(error: http://192.168.3.2:9900/lab/extensions/@jupyter-widgets/jupyterlab-manager/static/495.3e275af54861cdeb3e75.js?v=3e275af54861cdeb3e75)",
        "name": "ChunkLoadError",
        "request": "http://192.168.3.2:9900/lab/extensions/@jupyter-widgets/jupyterlab-manager/static/495.3e275af54861cdeb3e75.js?v=3e275af54861cdeb3e75",
        "type": "error"
       },
       "layout": "IPY_MODEL_df98c0f873bd471e964e7b8c8a67805e",
       "msg": "Failed to load model class 'HTMLModel' from module '@jupyter-widgets/controls'",
       "placeholder": "​",
       "style": "IPY_MODEL_59f7749ab5394e2592ad2d4ed5aae953",
       "value": " 466k/? [00:02&lt;00:00, 165kB/s]"
      }
     },
     "2831a9161c5c40639b06e08aee678f68": {
      "model_module": "@jupyter-widgets/controls",
      "model_module_version": "2.0.0",
      "model_name": "HTMLStyleModel",
      "state": {
       "_model_module": "@jupyter-widgets/controls",
       "_model_name": "HTMLStyleModel",
       "_view_name": "ErrorWidgetView",
       "background": null,
       "description_width": "",
       "error": {
        "message": "Loading chunk 495 failed.\n(error: http://192.168.3.2:9900/lab/extensions/@jupyter-widgets/jupyterlab-manager/static/495.3e275af54861cdeb3e75.js?v=3e275af54861cdeb3e75)",
        "name": "ChunkLoadError",
        "request": "http://192.168.3.2:9900/lab/extensions/@jupyter-widgets/jupyterlab-manager/static/495.3e275af54861cdeb3e75.js?v=3e275af54861cdeb3e75",
        "type": "error"
       },
       "font_size": null,
       "msg": "Failed to load model class 'HTMLStyleModel' from module '@jupyter-widgets/controls'",
       "text_color": null
      }
     },
     "285c9fe6d1f74f48ba7afebeba3312ad": {
      "model_module": "@jupyter-widgets/base",
      "model_module_version": "2.0.0",
      "model_name": "LayoutModel",
      "state": {}
     },
     "286e8225a24142fabbf13250bc7c798a": {
      "model_module": "@jupyter-widgets/controls",
      "model_module_version": "2.0.0",
      "model_name": "HTMLModel",
      "state": {
       "_model_module": "@jupyter-widgets/controls",
       "_model_name": "HTMLModel",
       "_view_name": "ErrorWidgetView",
       "description": "",
       "description_allow_html": false,
       "error": {
        "message": "Loading chunk 202 failed.\n(error: http://192.168.3.2:9900/lab/extensions/@jupyter-widgets/jupyterlab-manager/static/202.0336063976910618ce3f.js?v=0336063976910618ce3f)",
        "name": "ChunkLoadError",
        "request": "http://192.168.3.2:9900/lab/extensions/@jupyter-widgets/jupyterlab-manager/static/202.0336063976910618ce3f.js?v=0336063976910618ce3f",
        "type": "error"
       },
       "layout": "IPY_MODEL_ef588933ab074258ad2da218e28fa54c",
       "msg": "Failed to load model class 'HTMLModel' from module '@jupyter-widgets/controls'",
       "placeholder": "​",
       "style": "IPY_MODEL_01770f3a94824e77af3787d0371bea47",
       "value": " 436k/? [00:00&lt;00:00, 1.31MB/s]"
      }
     },
     "28e712a0b26b47edb9ea5fa7d10cef47": {
      "model_module": "@jupyter-widgets/controls",
      "model_module_version": "2.0.0",
      "model_name": "HTMLStyleModel",
      "state": {
       "_model_module": "@jupyter-widgets/controls",
       "_model_name": "HTMLStyleModel",
       "_view_name": "ErrorWidgetView",
       "background": null,
       "description_width": "",
       "error": {
        "message": "Loading chunk 202 failed.\n(error: http://192.168.3.2:9900/lab/extensions/@jupyter-widgets/jupyterlab-manager/static/202.0336063976910618ce3f.js?v=0336063976910618ce3f)",
        "name": "ChunkLoadError",
        "request": "http://192.168.3.2:9900/lab/extensions/@jupyter-widgets/jupyterlab-manager/static/202.0336063976910618ce3f.js?v=0336063976910618ce3f",
        "type": "error"
       },
       "font_size": null,
       "msg": "Failed to load model class 'HTMLStyleModel' from module '@jupyter-widgets/controls'",
       "text_color": null
      }
     },
     "290a9f2897f24455a2e52f1b2f395fe1": {
      "model_module": "@jupyter-widgets/base",
      "model_module_version": "2.0.0",
      "model_name": "LayoutModel",
      "state": {}
     },
     "298d2acf7bb940bf9443b804a85989ab": {
      "model_module": "@jupyter-widgets/controls",
      "model_module_version": "2.0.0",
      "model_name": "HTMLModel",
      "state": {
       "_model_module": "@jupyter-widgets/controls",
       "_model_name": "HTMLModel",
       "_view_name": "ErrorWidgetView",
       "description": "",
       "description_allow_html": false,
       "error": {
        "message": "Loading chunk 202 failed.\n(error: http://192.168.3.2:9900/lab/extensions/@jupyter-widgets/jupyterlab-manager/static/202.0336063976910618ce3f.js?v=0336063976910618ce3f)",
        "name": "ChunkLoadError",
        "request": "http://192.168.3.2:9900/lab/extensions/@jupyter-widgets/jupyterlab-manager/static/202.0336063976910618ce3f.js?v=0336063976910618ce3f",
        "type": "error"
       },
       "layout": "IPY_MODEL_5249ce68ef3445209c59f1052be2b437",
       "msg": "Failed to load model class 'HTMLModel' from module '@jupyter-widgets/controls'",
       "placeholder": "​",
       "style": "IPY_MODEL_8ba1a95403334a518b51c02731a157f5",
       "value": " 409M/409M [00:19&lt;00:00, 21.8MB/s]"
      }
     },
     "29a3462c46704f82a08b7c1b4aeca9d1": {
      "model_module": "@jupyter-widgets/base",
      "model_module_version": "2.0.0",
      "model_name": "LayoutModel",
      "state": {}
     },
     "29cbb0a264d547fb9bdd8ca6c61a0c99": {
      "model_module": "@jupyter-widgets/controls",
      "model_module_version": "2.0.0",
      "model_name": "HTMLStyleModel",
      "state": {
       "_model_module": "@jupyter-widgets/controls",
       "_model_name": "HTMLStyleModel",
       "_view_name": "ErrorWidgetView",
       "background": null,
       "description_width": "",
       "error": {
        "message": "Loading chunk 202 failed.\n(error: http://192.168.3.2:9900/lab/extensions/@jupyter-widgets/jupyterlab-manager/static/202.0336063976910618ce3f.js?v=0336063976910618ce3f)",
        "name": "ChunkLoadError",
        "request": "http://192.168.3.2:9900/lab/extensions/@jupyter-widgets/jupyterlab-manager/static/202.0336063976910618ce3f.js?v=0336063976910618ce3f",
        "type": "error"
       },
       "font_size": null,
       "msg": "Failed to load model class 'HTMLStyleModel' from module '@jupyter-widgets/controls'",
       "text_color": null
      }
     },
     "2a07e2d59aa344c09f23178702bb1a29": {
      "model_module": "@jupyter-widgets/controls",
      "model_module_version": "2.0.0",
      "model_name": "ProgressStyleModel",
      "state": {
       "_model_module": "@jupyter-widgets/controls",
       "_model_name": "ProgressStyleModel",
       "_view_name": "ErrorWidgetView",
       "bar_color": null,
       "description_width": "",
       "error": {
        "message": "Loading chunk 202 failed.\n(error: http://192.168.3.2:9900/lab/extensions/@jupyter-widgets/jupyterlab-manager/static/202.0336063976910618ce3f.js?v=0336063976910618ce3f)",
        "name": "ChunkLoadError",
        "request": "http://192.168.3.2:9900/lab/extensions/@jupyter-widgets/jupyterlab-manager/static/202.0336063976910618ce3f.js?v=0336063976910618ce3f",
        "type": "error"
       },
       "msg": "Failed to load model class 'ProgressStyleModel' from module '@jupyter-widgets/controls'"
      }
     },
     "2a099c1bb7ea47fc8ccf8077680dc09b": {
      "model_module": "@jupyter-widgets/controls",
      "model_module_version": "2.0.0",
      "model_name": "HTMLStyleModel",
      "state": {
       "_model_module": "@jupyter-widgets/controls",
       "_model_name": "HTMLStyleModel",
       "_view_name": "ErrorWidgetView",
       "background": null,
       "description_width": "",
       "error": {
        "message": "Loading chunk 202 failed.\n(error: http://192.168.3.2:9900/lab/extensions/@jupyter-widgets/jupyterlab-manager/static/202.0336063976910618ce3f.js?v=0336063976910618ce3f)",
        "name": "ChunkLoadError",
        "request": "http://192.168.3.2:9900/lab/extensions/@jupyter-widgets/jupyterlab-manager/static/202.0336063976910618ce3f.js?v=0336063976910618ce3f",
        "type": "error"
       },
       "font_size": null,
       "msg": "Failed to load model class 'HTMLStyleModel' from module '@jupyter-widgets/controls'",
       "text_color": null
      }
     },
     "2a3a1bf86943443094c1324e68d7acf5": {
      "model_module": "@jupyter-widgets/controls",
      "model_module_version": "2.0.0",
      "model_name": "HBoxModel",
      "state": {
       "_model_module": "@jupyter-widgets/controls",
       "_model_name": "HBoxModel",
       "_view_name": "ErrorWidgetView",
       "box_style": "",
       "children": [
        "IPY_MODEL_bb32c6bd1f34491ea2220678325a9f35",
        "IPY_MODEL_38a17b45c5a94a6e87d5862b328c1e85",
        "IPY_MODEL_fd93af3c94384a5ea1f12bd708533294"
       ],
       "error": {
        "message": "Loading chunk 202 failed.\n(error: http://192.168.3.2:9900/lab/extensions/@jupyter-widgets/jupyterlab-manager/static/202.0336063976910618ce3f.js?v=0336063976910618ce3f)",
        "name": "ChunkLoadError",
        "request": "http://192.168.3.2:9900/lab/extensions/@jupyter-widgets/jupyterlab-manager/static/202.0336063976910618ce3f.js?v=0336063976910618ce3f",
        "type": "error"
       },
       "layout": "IPY_MODEL_48798bd652e94895ab8f1bd83e3082e4",
       "msg": "Failed to load model class 'HBoxModel' from module '@jupyter-widgets/controls'"
      }
     },
     "2a587d89929b4172b383dbd39957dc2f": {
      "model_module": "@jupyter-widgets/controls",
      "model_module_version": "2.0.0",
      "model_name": "HTMLModel",
      "state": {
       "_model_module": "@jupyter-widgets/controls",
       "_model_name": "HTMLModel",
       "_view_name": "ErrorWidgetView",
       "description": "",
       "description_allow_html": false,
       "error": {
        "message": "Loading chunk 495 failed.\n(error: http://192.168.3.2:9900/lab/extensions/@jupyter-widgets/jupyterlab-manager/static/495.3e275af54861cdeb3e75.js?v=3e275af54861cdeb3e75)",
        "name": "ChunkLoadError",
        "request": "http://192.168.3.2:9900/lab/extensions/@jupyter-widgets/jupyterlab-manager/static/495.3e275af54861cdeb3e75.js?v=3e275af54861cdeb3e75",
        "type": "error"
       },
       "layout": "IPY_MODEL_9cf3569d888b46eb81d2bd0b590533b2",
       "msg": "Failed to load model class 'HTMLModel' from module '@jupyter-widgets/controls'",
       "placeholder": "​",
       "style": "IPY_MODEL_8953341d87354309b91eae6ffe4f1b65",
       "value": "config.json: "
      }
     },
     "2a8d108bc0d449ff86454c7e5c7b8c8a": {
      "model_module": "@jupyter-widgets/base",
      "model_module_version": "2.0.0",
      "model_name": "LayoutModel",
      "state": {}
     },
     "2afea25fdb08479e855dfa5e685ff65d": {
      "model_module": "@jupyter-widgets/base",
      "model_module_version": "2.0.0",
      "model_name": "LayoutModel",
      "state": {}
     },
     "2b07c4f4493842cc9133a47b1a15a7f2": {
      "model_module": "@jupyter-widgets/controls",
      "model_module_version": "2.0.0",
      "model_name": "HTMLModel",
      "state": {
       "_model_module": "@jupyter-widgets/controls",
       "_model_name": "HTMLModel",
       "_view_name": "ErrorWidgetView",
       "description": "",
       "description_allow_html": false,
       "error": {
        "message": "Loading chunk 202 failed.\n(error: http://192.168.3.2:9900/lab/extensions/@jupyter-widgets/jupyterlab-manager/static/202.0336063976910618ce3f.js?v=0336063976910618ce3f)",
        "name": "ChunkLoadError",
        "request": "http://192.168.3.2:9900/lab/extensions/@jupyter-widgets/jupyterlab-manager/static/202.0336063976910618ce3f.js?v=0336063976910618ce3f",
        "type": "error"
       },
       "layout": "IPY_MODEL_3f5075a931424c148d60551c6f8f39cf",
       "msg": "Failed to load model class 'HTMLModel' from module '@jupyter-widgets/controls'",
       "placeholder": "​",
       "style": "IPY_MODEL_fa5a693ae16043e1b6263ebef4c87b30",
       "value": " 150/150 [00:00&lt;00:00, 9.41kB/s]"
      }
     },
     "2b5f09746ccc46ff8d383900122bdd2b": {
      "model_module": "@jupyter-widgets/controls",
      "model_module_version": "2.0.0",
      "model_name": "HTMLModel",
      "state": {
       "_model_module": "@jupyter-widgets/controls",
       "_model_name": "HTMLModel",
       "_view_name": "ErrorWidgetView",
       "description": "",
       "description_allow_html": false,
       "error": {
        "message": "Loading chunk 202 failed.\n(error: http://192.168.3.2:9900/lab/extensions/@jupyter-widgets/jupyterlab-manager/static/202.0336063976910618ce3f.js?v=0336063976910618ce3f)",
        "name": "ChunkLoadError",
        "request": "http://192.168.3.2:9900/lab/extensions/@jupyter-widgets/jupyterlab-manager/static/202.0336063976910618ce3f.js?v=0336063976910618ce3f",
        "type": "error"
       },
       "layout": "IPY_MODEL_35e30b18c6a841e2986dd0d2ee5d973f",
       "msg": "Failed to load model class 'HTMLModel' from module '@jupyter-widgets/controls'",
       "placeholder": "​",
       "style": "IPY_MODEL_b490f07fac2d437bb5dbc351e3530199",
       "value": "generation_config.json: 100%"
      }
     },
     "2b6af668bacd454d85f219b2ff61e132": {
      "model_module": "@jupyter-widgets/base",
      "model_module_version": "2.0.0",
      "model_name": "LayoutModel",
      "state": {}
     },
     "2b8d9936be734ff3a826a525294743ef": {
      "model_module": "@jupyter-widgets/controls",
      "model_module_version": "2.0.0",
      "model_name": "ProgressStyleModel",
      "state": {
       "_model_module": "@jupyter-widgets/controls",
       "_model_name": "ProgressStyleModel",
       "_view_name": "ErrorWidgetView",
       "bar_color": null,
       "description_width": "",
       "error": {
        "message": "Loading chunk 202 failed.\n(error: http://192.168.3.2:9900/lab/extensions/@jupyter-widgets/jupyterlab-manager/static/202.0336063976910618ce3f.js?v=0336063976910618ce3f)",
        "name": "ChunkLoadError",
        "request": "http://192.168.3.2:9900/lab/extensions/@jupyter-widgets/jupyterlab-manager/static/202.0336063976910618ce3f.js?v=0336063976910618ce3f",
        "type": "error"
       },
       "msg": "Failed to load model class 'ProgressStyleModel' from module '@jupyter-widgets/controls'"
      }
     },
     "2c88fe4c37594dcd818c86d45ff1501a": {
      "model_module": "@jupyter-widgets/base",
      "model_module_version": "2.0.0",
      "model_name": "LayoutModel",
      "state": {}
     },
     "2caa55a539b349f0857d839ef05b0772": {
      "model_module": "@jupyter-widgets/controls",
      "model_module_version": "2.0.0",
      "model_name": "HTMLStyleModel",
      "state": {
       "_model_module": "@jupyter-widgets/controls",
       "_model_name": "HTMLStyleModel",
       "_view_name": "ErrorWidgetView",
       "background": null,
       "description_width": "",
       "error": {
        "message": "Loading chunk 202 failed.\n(error: http://192.168.3.2:9900/lab/extensions/@jupyter-widgets/jupyterlab-manager/static/202.0336063976910618ce3f.js?v=0336063976910618ce3f)",
        "name": "ChunkLoadError",
        "request": "http://192.168.3.2:9900/lab/extensions/@jupyter-widgets/jupyterlab-manager/static/202.0336063976910618ce3f.js?v=0336063976910618ce3f",
        "type": "error"
       },
       "font_size": null,
       "msg": "Failed to load model class 'HTMLStyleModel' from module '@jupyter-widgets/controls'",
       "text_color": null
      }
     },
     "2d2cb4461218468693941f762381c0e1": {
      "model_module": "@jupyter-widgets/controls",
      "model_module_version": "2.0.0",
      "model_name": "HTMLModel",
      "state": {
       "_model_module": "@jupyter-widgets/controls",
       "_model_name": "HTMLModel",
       "_view_name": "ErrorWidgetView",
       "description": "",
       "description_allow_html": false,
       "error": {
        "message": "Loading chunk 202 failed.\n(error: http://192.168.3.2:9900/lab/extensions/@jupyter-widgets/jupyterlab-manager/static/202.0336063976910618ce3f.js?v=0336063976910618ce3f)",
        "name": "ChunkLoadError",
        "request": "http://192.168.3.2:9900/lab/extensions/@jupyter-widgets/jupyterlab-manager/static/202.0336063976910618ce3f.js?v=0336063976910618ce3f",
        "type": "error"
       },
       "layout": "IPY_MODEL_8a3381c180e44bd183cc254d0569d2ad",
       "msg": "Failed to load model class 'HTMLModel' from module '@jupyter-widgets/controls'",
       "placeholder": "​",
       "style": "IPY_MODEL_7cd0e846107c4faf846ab2ef5b980a73",
       "value": " 899k/? [00:00&lt;00:00, 1.90MB/s]"
      }
     },
     "2d884af52afa45a2bf4f7fd3842da6ce": {
      "model_module": "@jupyter-widgets/controls",
      "model_module_version": "2.0.0",
      "model_name": "HTMLStyleModel",
      "state": {
       "_model_module": "@jupyter-widgets/controls",
       "_model_name": "HTMLStyleModel",
       "_view_name": "ErrorWidgetView",
       "background": null,
       "description_width": "",
       "error": {
        "message": "Loading chunk 202 failed.\n(error: http://192.168.3.2:9900/lab/extensions/@jupyter-widgets/jupyterlab-manager/static/202.0336063976910618ce3f.js?v=0336063976910618ce3f)",
        "name": "ChunkLoadError",
        "request": "http://192.168.3.2:9900/lab/extensions/@jupyter-widgets/jupyterlab-manager/static/202.0336063976910618ce3f.js?v=0336063976910618ce3f",
        "type": "error"
       },
       "font_size": null,
       "msg": "Failed to load model class 'HTMLStyleModel' from module '@jupyter-widgets/controls'",
       "text_color": null
      }
     },
     "2d911f4f9ab7482ab9615e944c3c9212": {
      "model_module": "@jupyter-widgets/base",
      "model_module_version": "2.0.0",
      "model_name": "LayoutModel",
      "state": {}
     },
     "2ddb0c81f1a147a2aff4a1119f46d134": {
      "model_module": "@jupyter-widgets/base",
      "model_module_version": "2.0.0",
      "model_name": "LayoutModel",
      "state": {}
     },
     "2e06a39a66174b009472200e21b26ad1": {
      "model_module": "@jupyter-widgets/base",
      "model_module_version": "2.0.0",
      "model_name": "LayoutModel",
      "state": {}
     },
     "2efd25859d494acf98e9a42d6fc33bf3": {
      "model_module": "@jupyter-widgets/controls",
      "model_module_version": "2.0.0",
      "model_name": "HTMLModel",
      "state": {
       "_model_module": "@jupyter-widgets/controls",
       "_model_name": "HTMLModel",
       "_view_name": "ErrorWidgetView",
       "description": "",
       "description_allow_html": false,
       "error": {
        "message": "Loading chunk 202 failed.\n(error: http://192.168.3.2:9900/lab/extensions/@jupyter-widgets/jupyterlab-manager/static/202.0336063976910618ce3f.js?v=0336063976910618ce3f)",
        "name": "ChunkLoadError",
        "request": "http://192.168.3.2:9900/lab/extensions/@jupyter-widgets/jupyterlab-manager/static/202.0336063976910618ce3f.js?v=0336063976910618ce3f",
        "type": "error"
       },
       "layout": "IPY_MODEL_0d287c8c73be41c79badfa134ef81cb4",
       "msg": "Failed to load model class 'HTMLModel' from module '@jupyter-widgets/controls'",
       "placeholder": "​",
       "style": "IPY_MODEL_4a87f2c81be14149b7b56909936454b1",
       "value": "tokenizer_config.json: 100%"
      }
     },
     "2f95cbe924554310b15d104f873989f4": {
      "model_module": "@jupyter-widgets/base",
      "model_module_version": "2.0.0",
      "model_name": "LayoutModel",
      "state": {}
     },
     "2ff0f4c36e92490cba78d54f794be048": {
      "model_module": "@jupyter-widgets/controls",
      "model_module_version": "2.0.0",
      "model_name": "ProgressStyleModel",
      "state": {
       "_model_module": "@jupyter-widgets/controls",
       "_model_name": "ProgressStyleModel",
       "_view_name": "ErrorWidgetView",
       "bar_color": null,
       "description_width": "",
       "error": {
        "message": "Loading chunk 202 failed.\n(error: http://192.168.3.2:9900/lab/extensions/@jupyter-widgets/jupyterlab-manager/static/202.0336063976910618ce3f.js?v=0336063976910618ce3f)",
        "name": "ChunkLoadError",
        "request": "http://192.168.3.2:9900/lab/extensions/@jupyter-widgets/jupyterlab-manager/static/202.0336063976910618ce3f.js?v=0336063976910618ce3f",
        "type": "error"
       },
       "msg": "Failed to load model class 'ProgressStyleModel' from module '@jupyter-widgets/controls'"
      }
     },
     "2ff294d82f824950ac54b5dd296f1af7": {
      "model_module": "@jupyter-widgets/controls",
      "model_module_version": "2.0.0",
      "model_name": "ProgressStyleModel",
      "state": {
       "_model_module": "@jupyter-widgets/controls",
       "_model_name": "ProgressStyleModel",
       "_view_name": "ErrorWidgetView",
       "bar_color": null,
       "description_width": "",
       "error": {
        "message": "Loading chunk 202 failed.\n(error: http://192.168.3.2:9900/lab/extensions/@jupyter-widgets/jupyterlab-manager/static/202.0336063976910618ce3f.js?v=0336063976910618ce3f)",
        "name": "ChunkLoadError",
        "request": "http://192.168.3.2:9900/lab/extensions/@jupyter-widgets/jupyterlab-manager/static/202.0336063976910618ce3f.js?v=0336063976910618ce3f",
        "type": "error"
       },
       "msg": "Failed to load model class 'ProgressStyleModel' from module '@jupyter-widgets/controls'"
      }
     },
     "2ff45056cfdd45ea98005223d4f2b62f": {
      "model_module": "@jupyter-widgets/controls",
      "model_module_version": "2.0.0",
      "model_name": "ProgressStyleModel",
      "state": {
       "_model_module": "@jupyter-widgets/controls",
       "_model_name": "ProgressStyleModel",
       "_view_name": "ErrorWidgetView",
       "bar_color": null,
       "description_width": "",
       "error": {
        "message": "Loading chunk 202 failed.\n(error: http://192.168.3.2:9900/lab/extensions/@jupyter-widgets/jupyterlab-manager/static/202.0336063976910618ce3f.js?v=0336063976910618ce3f)",
        "name": "ChunkLoadError",
        "request": "http://192.168.3.2:9900/lab/extensions/@jupyter-widgets/jupyterlab-manager/static/202.0336063976910618ce3f.js?v=0336063976910618ce3f",
        "type": "error"
       },
       "msg": "Failed to load model class 'ProgressStyleModel' from module '@jupyter-widgets/controls'"
      }
     },
     "301a5035225b480ca5f74a62f30bcd96": {
      "model_module": "@jupyter-widgets/controls",
      "model_module_version": "2.0.0",
      "model_name": "HTMLStyleModel",
      "state": {
       "_model_module": "@jupyter-widgets/controls",
       "_model_name": "HTMLStyleModel",
       "_view_name": "ErrorWidgetView",
       "background": null,
       "description_width": "",
       "error": {
        "message": "Loading chunk 202 failed.\n(error: http://192.168.3.2:9900/lab/extensions/@jupyter-widgets/jupyterlab-manager/static/202.0336063976910618ce3f.js?v=0336063976910618ce3f)",
        "name": "ChunkLoadError",
        "request": "http://192.168.3.2:9900/lab/extensions/@jupyter-widgets/jupyterlab-manager/static/202.0336063976910618ce3f.js?v=0336063976910618ce3f",
        "type": "error"
       },
       "font_size": null,
       "msg": "Failed to load model class 'HTMLStyleModel' from module '@jupyter-widgets/controls'",
       "text_color": null
      }
     },
     "303861bfe30a477ead68878fd4ec53ba": {
      "model_module": "@jupyter-widgets/controls",
      "model_module_version": "2.0.0",
      "model_name": "HTMLModel",
      "state": {
       "_model_module": "@jupyter-widgets/controls",
       "_model_name": "HTMLModel",
       "_view_name": "ErrorWidgetView",
       "description": "",
       "description_allow_html": false,
       "error": {
        "message": "Loading chunk 202 failed.\n(error: http://192.168.3.2:9900/lab/extensions/@jupyter-widgets/jupyterlab-manager/static/202.0336063976910618ce3f.js?v=0336063976910618ce3f)",
        "name": "ChunkLoadError",
        "request": "http://192.168.3.2:9900/lab/extensions/@jupyter-widgets/jupyterlab-manager/static/202.0336063976910618ce3f.js?v=0336063976910618ce3f",
        "type": "error"
       },
       "layout": "IPY_MODEL_a1f571f4893142bf93d1eab9f565c1d0",
       "msg": "Failed to load model class 'HTMLModel' from module '@jupyter-widgets/controls'",
       "placeholder": "​",
       "style": "IPY_MODEL_bdf3e739b587417eac0144bd53bbe2a4",
       "value": " 232k/? [00:00&lt;00:00, 266kB/s]"
      }
     },
     "303d5e2e69724cb48f0a36f0d3ee2d68": {
      "model_module": "@jupyter-widgets/base",
      "model_module_version": "2.0.0",
      "model_name": "LayoutModel",
      "state": {
       "width": "20px"
      }
     },
     "3174789dd1ca4d91a24b144c2bda9bf6": {
      "model_module": "@jupyter-widgets/controls",
      "model_module_version": "2.0.0",
      "model_name": "HTMLStyleModel",
      "state": {
       "_model_module": "@jupyter-widgets/controls",
       "_model_name": "HTMLStyleModel",
       "_view_name": "ErrorWidgetView",
       "background": null,
       "description_width": "",
       "error": {
        "message": "Loading chunk 495 failed.\n(error: http://192.168.3.2:9900/lab/extensions/@jupyter-widgets/jupyterlab-manager/static/495.3e275af54861cdeb3e75.js?v=3e275af54861cdeb3e75)",
        "name": "ChunkLoadError",
        "request": "http://192.168.3.2:9900/lab/extensions/@jupyter-widgets/jupyterlab-manager/static/495.3e275af54861cdeb3e75.js?v=3e275af54861cdeb3e75",
        "type": "error"
       },
       "font_size": null,
       "msg": "Failed to load model class 'HTMLStyleModel' from module '@jupyter-widgets/controls'",
       "text_color": null
      }
     },
     "3179990003e34017bfdadd65216e8c23": {
      "model_module": "@jupyter-widgets/controls",
      "model_module_version": "2.0.0",
      "model_name": "HTMLModel",
      "state": {
       "_model_module": "@jupyter-widgets/controls",
       "_model_name": "HTMLModel",
       "_view_name": "ErrorWidgetView",
       "description": "",
       "description_allow_html": false,
       "error": {
        "message": "Loading chunk 202 failed.\n(error: http://192.168.3.2:9900/lab/extensions/@jupyter-widgets/jupyterlab-manager/static/202.0336063976910618ce3f.js?v=0336063976910618ce3f)",
        "name": "ChunkLoadError",
        "request": "http://192.168.3.2:9900/lab/extensions/@jupyter-widgets/jupyterlab-manager/static/202.0336063976910618ce3f.js?v=0336063976910618ce3f",
        "type": "error"
       },
       "layout": "IPY_MODEL_cac6b7e9b03446a3b91c217c30c90d5f",
       "msg": "Failed to load model class 'HTMLModel' from module '@jupyter-widgets/controls'",
       "placeholder": "​",
       "style": "IPY_MODEL_5c595ee56aa44b1081e330c5f6880c6a",
       "value": "model.safetensors: 100%"
      }
     },
     "319a1bd77a0e42c6be0b291f8070cf12": {
      "model_module": "@jupyter-widgets/base",
      "model_module_version": "2.0.0",
      "model_name": "LayoutModel",
      "state": {}
     },
     "32e966e732e249738e9733cf9c856c9a": {
      "model_module": "@jupyter-widgets/controls",
      "model_module_version": "2.0.0",
      "model_name": "HTMLModel",
      "state": {
       "_model_module": "@jupyter-widgets/controls",
       "_model_name": "HTMLModel",
       "_view_name": "ErrorWidgetView",
       "description": "",
       "description_allow_html": false,
       "error": {
        "message": "Loading chunk 202 failed.\n(error: http://192.168.3.2:9900/lab/extensions/@jupyter-widgets/jupyterlab-manager/static/202.0336063976910618ce3f.js?v=0336063976910618ce3f)",
        "name": "ChunkLoadError",
        "request": "http://192.168.3.2:9900/lab/extensions/@jupyter-widgets/jupyterlab-manager/static/202.0336063976910618ce3f.js?v=0336063976910618ce3f",
        "type": "error"
       },
       "layout": "IPY_MODEL_66e266bfd9264ae3a7995e66f6ee14e0",
       "msg": "Failed to load model class 'HTMLModel' from module '@jupyter-widgets/controls'",
       "placeholder": "​",
       "style": "IPY_MODEL_f7376a6295384db88e8c01430f9748a7",
       "value": "preprocessor_config.json: 100%"
      }
     },
     "3421dfa5f59f4b428a57ce7cdde8dfa7": {
      "model_module": "@jupyter-widgets/controls",
      "model_module_version": "2.0.0",
      "model_name": "HTMLStyleModel",
      "state": {
       "_model_module": "@jupyter-widgets/controls",
       "_model_name": "HTMLStyleModel",
       "_view_name": "ErrorWidgetView",
       "background": null,
       "description_width": "",
       "error": {
        "message": "Loading chunk 495 failed.\n(error: http://192.168.3.2:9900/lab/extensions/@jupyter-widgets/jupyterlab-manager/static/495.3e275af54861cdeb3e75.js?v=3e275af54861cdeb3e75)",
        "name": "ChunkLoadError",
        "request": "http://192.168.3.2:9900/lab/extensions/@jupyter-widgets/jupyterlab-manager/static/495.3e275af54861cdeb3e75.js?v=3e275af54861cdeb3e75",
        "type": "error"
       },
       "font_size": null,
       "msg": "Failed to load model class 'HTMLStyleModel' from module '@jupyter-widgets/controls'",
       "text_color": null
      }
     },
     "344e6409618a47c1b1055a66b29e7436": {
      "model_module": "@jupyter-widgets/controls",
      "model_module_version": "2.0.0",
      "model_name": "HTMLStyleModel",
      "state": {
       "_model_module": "@jupyter-widgets/controls",
       "_model_name": "HTMLStyleModel",
       "_view_name": "ErrorWidgetView",
       "background": null,
       "description_width": "",
       "error": {
        "message": "Loading chunk 202 failed.\n(error: http://192.168.3.2:9900/lab/extensions/@jupyter-widgets/jupyterlab-manager/static/202.0336063976910618ce3f.js?v=0336063976910618ce3f)",
        "name": "ChunkLoadError",
        "request": "http://192.168.3.2:9900/lab/extensions/@jupyter-widgets/jupyterlab-manager/static/202.0336063976910618ce3f.js?v=0336063976910618ce3f",
        "type": "error"
       },
       "font_size": null,
       "msg": "Failed to load model class 'HTMLStyleModel' from module '@jupyter-widgets/controls'",
       "text_color": null
      }
     },
     "34632e7984e743baad0a9bf64c5076a0": {
      "model_module": "@jupyter-widgets/controls",
      "model_module_version": "2.0.0",
      "model_name": "HTMLModel",
      "state": {
       "_model_module": "@jupyter-widgets/controls",
       "_model_name": "HTMLModel",
       "_view_name": "ErrorWidgetView",
       "description": "",
       "description_allow_html": false,
       "error": {
        "message": "Loading chunk 495 failed.\n(error: http://192.168.3.2:9900/lab/extensions/@jupyter-widgets/jupyterlab-manager/static/495.3e275af54861cdeb3e75.js?v=3e275af54861cdeb3e75)",
        "name": "ChunkLoadError",
        "request": "http://192.168.3.2:9900/lab/extensions/@jupyter-widgets/jupyterlab-manager/static/495.3e275af54861cdeb3e75.js?v=3e275af54861cdeb3e75",
        "type": "error"
       },
       "layout": "IPY_MODEL_d21a0723406c4ee1b59c834000e3b867",
       "msg": "Failed to load model class 'HTMLModel' from module '@jupyter-widgets/controls'",
       "placeholder": "​",
       "style": "IPY_MODEL_0b08fdaad044493ea07d78636c0dc4bd",
       "value": "pytorch_model.bin: 100%"
      }
     },
     "347659e79b5f4b6fba2b2598dfdc1be5": {
      "model_module": "@jupyter-widgets/controls",
      "model_module_version": "2.0.0",
      "model_name": "ProgressStyleModel",
      "state": {
       "_model_module": "@jupyter-widgets/controls",
       "_model_name": "ProgressStyleModel",
       "_view_name": "ErrorWidgetView",
       "bar_color": null,
       "description_width": "",
       "error": {
        "message": "Loading chunk 202 failed.\n(error: http://192.168.3.2:9900/lab/extensions/@jupyter-widgets/jupyterlab-manager/static/202.0336063976910618ce3f.js?v=0336063976910618ce3f)",
        "name": "ChunkLoadError",
        "request": "http://192.168.3.2:9900/lab/extensions/@jupyter-widgets/jupyterlab-manager/static/202.0336063976910618ce3f.js?v=0336063976910618ce3f",
        "type": "error"
       },
       "msg": "Failed to load model class 'ProgressStyleModel' from module '@jupyter-widgets/controls'"
      }
     },
     "349ee62da9414034b3577cfd2ea4f9fb": {
      "model_module": "@jupyter-widgets/base",
      "model_module_version": "2.0.0",
      "model_name": "LayoutModel",
      "state": {}
     },
     "34a1ff3a60e8439e9cda3eae97dca7cc": {
      "model_module": "@jupyter-widgets/controls",
      "model_module_version": "2.0.0",
      "model_name": "HBoxModel",
      "state": {
       "_model_module": "@jupyter-widgets/controls",
       "_model_name": "HBoxModel",
       "_view_name": "ErrorWidgetView",
       "box_style": "",
       "children": [
        "IPY_MODEL_4619076158f64104babd1a613c726a63",
        "IPY_MODEL_59c0839d65b94a599a4444e65652d89e",
        "IPY_MODEL_e9b6c836fa4c40a6a133939a289f62bf"
       ],
       "error": {
        "message": "Loading chunk 495 failed.\n(error: http://192.168.3.2:9900/lab/extensions/@jupyter-widgets/jupyterlab-manager/static/495.3e275af54861cdeb3e75.js?v=3e275af54861cdeb3e75)",
        "name": "ChunkLoadError",
        "request": "http://192.168.3.2:9900/lab/extensions/@jupyter-widgets/jupyterlab-manager/static/495.3e275af54861cdeb3e75.js?v=3e275af54861cdeb3e75",
        "type": "error"
       },
       "layout": "IPY_MODEL_95b310b11bbc458fb346cc7331464fda",
       "msg": "Failed to load model class 'HBoxModel' from module '@jupyter-widgets/controls'"
      }
     },
     "34bbb7b4272b4baeb65ca3415beff82b": {
      "model_module": "@jupyter-widgets/base",
      "model_module_version": "2.0.0",
      "model_name": "LayoutModel",
      "state": {}
     },
     "35d15ac18a5c467489eae40e0076bb1d": {
      "model_module": "@jupyter-widgets/base",
      "model_module_version": "2.0.0",
      "model_name": "LayoutModel",
      "state": {}
     },
     "35e30b18c6a841e2986dd0d2ee5d973f": {
      "model_module": "@jupyter-widgets/base",
      "model_module_version": "2.0.0",
      "model_name": "LayoutModel",
      "state": {}
     },
     "35e6ded7d7fa42b4862dc33bc75c2a58": {
      "model_module": "@jupyter-widgets/controls",
      "model_module_version": "2.0.0",
      "model_name": "ProgressStyleModel",
      "state": {
       "_model_module": "@jupyter-widgets/controls",
       "_model_name": "ProgressStyleModel",
       "_view_name": "ErrorWidgetView",
       "bar_color": null,
       "description_width": "",
       "error": {
        "message": "Loading chunk 202 failed.\n(error: http://192.168.3.2:9900/lab/extensions/@jupyter-widgets/jupyterlab-manager/static/202.0336063976910618ce3f.js?v=0336063976910618ce3f)",
        "name": "ChunkLoadError",
        "request": "http://192.168.3.2:9900/lab/extensions/@jupyter-widgets/jupyterlab-manager/static/202.0336063976910618ce3f.js?v=0336063976910618ce3f",
        "type": "error"
       },
       "msg": "Failed to load model class 'ProgressStyleModel' from module '@jupyter-widgets/controls'"
      }
     },
     "3624837e472f4e2d981489d4ead21113": {
      "model_module": "@jupyter-widgets/base",
      "model_module_version": "2.0.0",
      "model_name": "LayoutModel",
      "state": {}
     },
     "363d7d59ab8d4d918ee6d345fbc70865": {
      "model_module": "@jupyter-widgets/base",
      "model_module_version": "2.0.0",
      "model_name": "LayoutModel",
      "state": {}
     },
     "367bb1ee71c04751b1c897f0a5605e9d": {
      "model_module": "@jupyter-widgets/controls",
      "model_module_version": "2.0.0",
      "model_name": "HTMLStyleModel",
      "state": {
       "_model_module": "@jupyter-widgets/controls",
       "_model_name": "HTMLStyleModel",
       "_view_name": "ErrorWidgetView",
       "background": null,
       "description_width": "",
       "error": {
        "message": "Loading chunk 495 failed.\n(error: http://192.168.3.2:9900/lab/extensions/@jupyter-widgets/jupyterlab-manager/static/495.3e275af54861cdeb3e75.js?v=3e275af54861cdeb3e75)",
        "name": "ChunkLoadError",
        "request": "http://192.168.3.2:9900/lab/extensions/@jupyter-widgets/jupyterlab-manager/static/495.3e275af54861cdeb3e75.js?v=3e275af54861cdeb3e75",
        "type": "error"
       },
       "font_size": null,
       "msg": "Failed to load model class 'HTMLStyleModel' from module '@jupyter-widgets/controls'",
       "text_color": null
      }
     },
     "3682d93efa764838919a5d3831b66fb0": {
      "model_module": "@jupyter-widgets/base",
      "model_module_version": "2.0.0",
      "model_name": "LayoutModel",
      "state": {}
     },
     "36b34d0d215d40ea9c5f4276cd98afe7": {
      "model_module": "@jupyter-widgets/controls",
      "model_module_version": "2.0.0",
      "model_name": "HTMLModel",
      "state": {
       "_model_module": "@jupyter-widgets/controls",
       "_model_name": "HTMLModel",
       "_view_name": "ErrorWidgetView",
       "description": "",
       "description_allow_html": false,
       "error": {
        "message": "Loading chunk 202 failed.\n(error: http://192.168.3.2:9900/lab/extensions/@jupyter-widgets/jupyterlab-manager/static/202.0336063976910618ce3f.js?v=0336063976910618ce3f)",
        "name": "ChunkLoadError",
        "request": "http://192.168.3.2:9900/lab/extensions/@jupyter-widgets/jupyterlab-manager/static/202.0336063976910618ce3f.js?v=0336063976910618ce3f",
        "type": "error"
       },
       "layout": "IPY_MODEL_946e5b20595445629b26f92d8a15ed17",
       "msg": "Failed to load model class 'HTMLModel' from module '@jupyter-widgets/controls'",
       "placeholder": "​",
       "style": "IPY_MODEL_6b0e98b13ef04a31bb5cbe311befed0f",
       "value": " 147/147 [00:00&lt;00:00, 9.96kB/s]"
      }
     },
     "36f7d6a613354a3d9037a7deef52a709": {
      "model_module": "@jupyter-widgets/controls",
      "model_module_version": "2.0.0",
      "model_name": "HTMLModel",
      "state": {
       "_model_module": "@jupyter-widgets/controls",
       "_model_name": "HTMLModel",
       "_view_name": "ErrorWidgetView",
       "description": "",
       "description_allow_html": false,
       "error": {
        "message": "Loading chunk 202 failed.\n(error: http://192.168.3.2:9900/lab/extensions/@jupyter-widgets/jupyterlab-manager/static/202.0336063976910618ce3f.js?v=0336063976910618ce3f)",
        "name": "ChunkLoadError",
        "request": "http://192.168.3.2:9900/lab/extensions/@jupyter-widgets/jupyterlab-manager/static/202.0336063976910618ce3f.js?v=0336063976910618ce3f",
        "type": "error"
       },
       "layout": "IPY_MODEL_1c03ef1ed8ea49d293ae6c300ac9035e",
       "msg": "Failed to load model class 'HTMLModel' from module '@jupyter-widgets/controls'",
       "placeholder": "​",
       "style": "IPY_MODEL_6dacb196c5794939b7c5e8e2b0f8fa1e",
       "value": " 1.39M/? [00:01&lt;00:00, 1.53MB/s]"
      }
     },
     "372b7719d948498ab3c13cf2f9146767": {
      "model_module": "@jupyter-widgets/controls",
      "model_module_version": "2.0.0",
      "model_name": "HTMLStyleModel",
      "state": {
       "_model_module": "@jupyter-widgets/controls",
       "_model_name": "HTMLStyleModel",
       "_view_name": "ErrorWidgetView",
       "background": null,
       "description_width": "",
       "error": {
        "message": "Loading chunk 495 failed.\n(error: http://192.168.3.2:9900/lab/extensions/@jupyter-widgets/jupyterlab-manager/static/495.3e275af54861cdeb3e75.js?v=3e275af54861cdeb3e75)",
        "name": "ChunkLoadError",
        "request": "http://192.168.3.2:9900/lab/extensions/@jupyter-widgets/jupyterlab-manager/static/495.3e275af54861cdeb3e75.js?v=3e275af54861cdeb3e75",
        "type": "error"
       },
       "font_size": null,
       "msg": "Failed to load model class 'HTMLStyleModel' from module '@jupyter-widgets/controls'",
       "text_color": null
      }
     },
     "3737a86cfceb434eb0513c3272fd3c44": {
      "model_module": "@jupyter-widgets/controls",
      "model_module_version": "2.0.0",
      "model_name": "HTMLStyleModel",
      "state": {
       "_model_module": "@jupyter-widgets/controls",
       "_model_name": "HTMLStyleModel",
       "_view_name": "ErrorWidgetView",
       "background": null,
       "description_width": "",
       "error": {
        "message": "Loading chunk 202 failed.\n(error: http://192.168.3.2:9900/lab/extensions/@jupyter-widgets/jupyterlab-manager/static/202.0336063976910618ce3f.js?v=0336063976910618ce3f)",
        "name": "ChunkLoadError",
        "request": "http://192.168.3.2:9900/lab/extensions/@jupyter-widgets/jupyterlab-manager/static/202.0336063976910618ce3f.js?v=0336063976910618ce3f",
        "type": "error"
       },
       "font_size": null,
       "msg": "Failed to load model class 'HTMLStyleModel' from module '@jupyter-widgets/controls'",
       "text_color": null
      }
     },
     "37b3772957c34128bba6636d5e910b2a": {
      "model_module": "@jupyter-widgets/base",
      "model_module_version": "2.0.0",
      "model_name": "LayoutModel",
      "state": {
       "width": "20px"
      }
     },
     "37cb048769f7447cb5b008a7442f3798": {
      "model_module": "@jupyter-widgets/controls",
      "model_module_version": "2.0.0",
      "model_name": "HTMLModel",
      "state": {
       "_model_module": "@jupyter-widgets/controls",
       "_model_name": "HTMLModel",
       "_view_name": "ErrorWidgetView",
       "description": "",
       "description_allow_html": false,
       "error": {
        "message": "Loading chunk 202 failed.\n(error: http://192.168.3.2:9900/lab/extensions/@jupyter-widgets/jupyterlab-manager/static/202.0336063976910618ce3f.js?v=0336063976910618ce3f)",
        "name": "ChunkLoadError",
        "request": "http://192.168.3.2:9900/lab/extensions/@jupyter-widgets/jupyterlab-manager/static/202.0336063976910618ce3f.js?v=0336063976910618ce3f",
        "type": "error"
       },
       "layout": "IPY_MODEL_664e4e670a414cbcaf9ec29953f6326d",
       "msg": "Failed to load model class 'HTMLModel' from module '@jupyter-widgets/controls'",
       "placeholder": "​",
       "style": "IPY_MODEL_04dfd62dcfb040ffb645653d13d35565",
       "value": " 39.0/39.0 [00:00&lt;00:00, 2.59kB/s]"
      }
     },
     "37cb3d0949ef4ce1a691b5b8848d4ae4": {
      "model_module": "@jupyter-widgets/controls",
      "model_module_version": "2.0.0",
      "model_name": "HBoxModel",
      "state": {
       "_model_module": "@jupyter-widgets/controls",
       "_model_name": "HBoxModel",
       "_view_name": "ErrorWidgetView",
       "box_style": "",
       "children": [
        "IPY_MODEL_ffc6b2af5bd747bdaff4d2dcd84b79bc",
        "IPY_MODEL_49677ce61bd840748d3431fd39abb18e",
        "IPY_MODEL_7c0340567f6a4685885d69067f958d58"
       ],
       "error": {
        "message": "Loading chunk 495 failed.\n(error: http://192.168.3.2:9900/lab/extensions/@jupyter-widgets/jupyterlab-manager/static/495.3e275af54861cdeb3e75.js?v=3e275af54861cdeb3e75)",
        "name": "ChunkLoadError",
        "request": "http://192.168.3.2:9900/lab/extensions/@jupyter-widgets/jupyterlab-manager/static/495.3e275af54861cdeb3e75.js?v=3e275af54861cdeb3e75",
        "type": "error"
       },
       "layout": "IPY_MODEL_247954f70309410bb514c04d9851b667",
       "msg": "Failed to load model class 'HBoxModel' from module '@jupyter-widgets/controls'"
      }
     },
     "37d1dd7a395c42639996fb49f2465029": {
      "model_module": "@jupyter-widgets/controls",
      "model_module_version": "2.0.0",
      "model_name": "HBoxModel",
      "state": {
       "_model_module": "@jupyter-widgets/controls",
       "_model_name": "HBoxModel",
       "_view_name": "ErrorWidgetView",
       "box_style": "",
       "children": [
        "IPY_MODEL_b096facd321a4fc4ad3b248320c49437",
        "IPY_MODEL_af65a25504b64e1a91ce7e86802e6bb8",
        "IPY_MODEL_2d2cb4461218468693941f762381c0e1"
       ],
       "error": {
        "message": "Loading chunk 495 failed.\n(error: http://192.168.3.2:9900/lab/extensions/@jupyter-widgets/jupyterlab-manager/static/495.3e275af54861cdeb3e75.js?v=3e275af54861cdeb3e75)",
        "name": "ChunkLoadError",
        "request": "http://192.168.3.2:9900/lab/extensions/@jupyter-widgets/jupyterlab-manager/static/495.3e275af54861cdeb3e75.js?v=3e275af54861cdeb3e75",
        "type": "error"
       },
       "layout": "IPY_MODEL_443d501229c9472788948c72d6a4727f",
       "msg": "Failed to load model class 'HBoxModel' from module '@jupyter-widgets/controls'"
      }
     },
     "37d488db3b574049a09d2c7e37b56550": {
      "model_module": "@jupyter-widgets/base",
      "model_module_version": "2.0.0",
      "model_name": "LayoutModel",
      "state": {}
     },
     "3819669f445f4a4a80f1c74ce0dae70e": {
      "model_module": "@jupyter-widgets/controls",
      "model_module_version": "2.0.0",
      "model_name": "HBoxModel",
      "state": {
       "_model_module": "@jupyter-widgets/controls",
       "_model_name": "HBoxModel",
       "_view_name": "ErrorWidgetView",
       "box_style": "",
       "children": [
        "IPY_MODEL_06dcaa3879c1478a8c33fd2d97c0b0e7",
        "IPY_MODEL_6e59a36c45ee4738ad8cda971bea9e3a",
        "IPY_MODEL_d0a5275b6cb840de841da9b6237e88cb"
       ],
       "error": {
        "message": "Loading chunk 202 failed.\n(error: http://192.168.3.2:9900/lab/extensions/@jupyter-widgets/jupyterlab-manager/static/202.0336063976910618ce3f.js?v=0336063976910618ce3f)",
        "name": "ChunkLoadError",
        "request": "http://192.168.3.2:9900/lab/extensions/@jupyter-widgets/jupyterlab-manager/static/202.0336063976910618ce3f.js?v=0336063976910618ce3f",
        "type": "error"
       },
       "layout": "IPY_MODEL_9b9c1cc0e0424cf5bbee2db2b9318b07",
       "msg": "Failed to load model class 'HBoxModel' from module '@jupyter-widgets/controls'"
      }
     },
     "385035a59e844419a5fdffa3c34cd51b": {
      "model_module": "@jupyter-widgets/controls",
      "model_module_version": "2.0.0",
      "model_name": "HTMLModel",
      "state": {
       "_model_module": "@jupyter-widgets/controls",
       "_model_name": "HTMLModel",
       "_view_name": "ErrorWidgetView",
       "description": "",
       "description_allow_html": false,
       "error": {
        "message": "Loading chunk 495 failed.\n(error: http://192.168.3.2:9900/lab/extensions/@jupyter-widgets/jupyterlab-manager/static/495.3e275af54861cdeb3e75.js?v=3e275af54861cdeb3e75)",
        "name": "ChunkLoadError",
        "request": "http://192.168.3.2:9900/lab/extensions/@jupyter-widgets/jupyterlab-manager/static/495.3e275af54861cdeb3e75.js?v=3e275af54861cdeb3e75",
        "type": "error"
       },
       "layout": "IPY_MODEL_1137437f0e4d4da1a355a97b3fbea206",
       "msg": "Failed to load model class 'HTMLModel' from module '@jupyter-widgets/controls'",
       "placeholder": "​",
       "style": "IPY_MODEL_c0e45a272b39491796655f30371606d9",
       "value": "config.json: "
      }
     },
     "3876273a8648422fa0ec8a8bb6b96349": {
      "model_module": "@jupyter-widgets/controls",
      "model_module_version": "2.0.0",
      "model_name": "HTMLStyleModel",
      "state": {
       "_model_module": "@jupyter-widgets/controls",
       "_model_name": "HTMLStyleModel",
       "_view_name": "ErrorWidgetView",
       "background": null,
       "description_width": "",
       "error": {
        "message": "Loading chunk 495 failed.\n(error: http://192.168.3.2:9900/lab/extensions/@jupyter-widgets/jupyterlab-manager/static/495.3e275af54861cdeb3e75.js?v=3e275af54861cdeb3e75)",
        "name": "ChunkLoadError",
        "request": "http://192.168.3.2:9900/lab/extensions/@jupyter-widgets/jupyterlab-manager/static/495.3e275af54861cdeb3e75.js?v=3e275af54861cdeb3e75",
        "type": "error"
       },
       "font_size": null,
       "msg": "Failed to load model class 'HTMLStyleModel' from module '@jupyter-widgets/controls'",
       "text_color": null
      }
     },
     "38a17b45c5a94a6e87d5862b328c1e85": {
      "model_module": "@jupyter-widgets/controls",
      "model_module_version": "2.0.0",
      "model_name": "FloatProgressModel",
      "state": {
       "_model_module": "@jupyter-widgets/controls",
       "_model_name": "FloatProgressModel",
       "_view_name": "ErrorWidgetView",
       "bar_style": "success",
       "description": "",
       "description_allow_html": false,
       "error": {
        "message": "Loading chunk 202 failed.\n(error: http://192.168.3.2:9900/lab/extensions/@jupyter-widgets/jupyterlab-manager/static/202.0336063976910618ce3f.js?v=0336063976910618ce3f)",
        "name": "ChunkLoadError",
        "request": "http://192.168.3.2:9900/lab/extensions/@jupyter-widgets/jupyterlab-manager/static/202.0336063976910618ce3f.js?v=0336063976910618ce3f",
        "type": "error"
       },
       "layout": "IPY_MODEL_6248fe21f8974795866921802bb073eb",
       "max": 48,
       "min": 0,
       "msg": "Failed to load model class 'FloatProgressModel' from module '@jupyter-widgets/controls'",
       "orientation": "horizontal",
       "style": "IPY_MODEL_50530e45677149baa0b6ae38e63637c2",
       "value": 48
      }
     },
     "38d78e7bca4449dbb3c5ca07f2fa8c75": {
      "model_module": "@jupyter-widgets/controls",
      "model_module_version": "2.0.0",
      "model_name": "HTMLStyleModel",
      "state": {
       "_model_module": "@jupyter-widgets/controls",
       "_model_name": "HTMLStyleModel",
       "_view_name": "ErrorWidgetView",
       "background": null,
       "description_width": "",
       "error": {
        "message": "Loading chunk 202 failed.\n(error: http://192.168.3.2:9900/lab/extensions/@jupyter-widgets/jupyterlab-manager/static/202.0336063976910618ce3f.js?v=0336063976910618ce3f)",
        "name": "ChunkLoadError",
        "request": "http://192.168.3.2:9900/lab/extensions/@jupyter-widgets/jupyterlab-manager/static/202.0336063976910618ce3f.js?v=0336063976910618ce3f",
        "type": "error"
       },
       "font_size": null,
       "msg": "Failed to load model class 'HTMLStyleModel' from module '@jupyter-widgets/controls'",
       "text_color": null
      }
     },
     "397619ea29f54e5d9b2a45b1711b8458": {
      "model_module": "@jupyter-widgets/controls",
      "model_module_version": "2.0.0",
      "model_name": "HBoxModel",
      "state": {
       "_model_module": "@jupyter-widgets/controls",
       "_model_name": "HBoxModel",
       "_view_name": "ErrorWidgetView",
       "box_style": "",
       "children": [
        "IPY_MODEL_7dffcfbd4dac4103a6126d525e2a4fec",
        "IPY_MODEL_1b69002ca865407c8fa195d95468fcce",
        "IPY_MODEL_6a65da1db2d24def9721aa88a3d680e5"
       ],
       "error": {
        "message": "Loading chunk 495 failed.\n(error: http://192.168.3.2:9900/lab/extensions/@jupyter-widgets/jupyterlab-manager/static/495.3e275af54861cdeb3e75.js?v=3e275af54861cdeb3e75)",
        "name": "ChunkLoadError",
        "request": "http://192.168.3.2:9900/lab/extensions/@jupyter-widgets/jupyterlab-manager/static/495.3e275af54861cdeb3e75.js?v=3e275af54861cdeb3e75",
        "type": "error"
       },
       "layout": "IPY_MODEL_37d488db3b574049a09d2c7e37b56550",
       "msg": "Failed to load model class 'HBoxModel' from module '@jupyter-widgets/controls'"
      }
     },
     "39dc06b71dd641b9be424aa5f3f1943e": {
      "model_module": "@jupyter-widgets/base",
      "model_module_version": "2.0.0",
      "model_name": "LayoutModel",
      "state": {}
     },
     "3a04e0310035424ea60d0533908d2495": {
      "model_module": "@jupyter-widgets/controls",
      "model_module_version": "2.0.0",
      "model_name": "ProgressStyleModel",
      "state": {
       "_model_module": "@jupyter-widgets/controls",
       "_model_name": "ProgressStyleModel",
       "_view_name": "ErrorWidgetView",
       "bar_color": null,
       "description_width": "",
       "error": {
        "message": "Loading chunk 495 failed.\n(error: http://192.168.3.2:9900/lab/extensions/@jupyter-widgets/jupyterlab-manager/static/495.3e275af54861cdeb3e75.js?v=3e275af54861cdeb3e75)",
        "name": "ChunkLoadError",
        "request": "http://192.168.3.2:9900/lab/extensions/@jupyter-widgets/jupyterlab-manager/static/495.3e275af54861cdeb3e75.js?v=3e275af54861cdeb3e75",
        "type": "error"
       },
       "msg": "Failed to load model class 'ProgressStyleModel' from module '@jupyter-widgets/controls'"
      }
     },
     "3a4caaa2362842b4843d07d46aeaf842": {
      "model_module": "@jupyter-widgets/base",
      "model_module_version": "2.0.0",
      "model_name": "LayoutModel",
      "state": {}
     },
     "3a8c61c2d95148d0af81d2bc10bd0e32": {
      "model_module": "@jupyter-widgets/controls",
      "model_module_version": "2.0.0",
      "model_name": "HTMLStyleModel",
      "state": {
       "_model_module": "@jupyter-widgets/controls",
       "_model_name": "HTMLStyleModel",
       "_view_name": "ErrorWidgetView",
       "background": null,
       "description_width": "",
       "error": {
        "message": "Loading chunk 202 failed.\n(error: http://192.168.3.2:9900/lab/extensions/@jupyter-widgets/jupyterlab-manager/static/202.0336063976910618ce3f.js?v=0336063976910618ce3f)",
        "name": "ChunkLoadError",
        "request": "http://192.168.3.2:9900/lab/extensions/@jupyter-widgets/jupyterlab-manager/static/202.0336063976910618ce3f.js?v=0336063976910618ce3f",
        "type": "error"
       },
       "font_size": null,
       "msg": "Failed to load model class 'HTMLStyleModel' from module '@jupyter-widgets/controls'",
       "text_color": null
      }
     },
     "3ab12eb0f7d94962bf19018b0a1094de": {
      "model_module": "@jupyter-widgets/controls",
      "model_module_version": "2.0.0",
      "model_name": "FloatProgressModel",
      "state": {
       "_model_module": "@jupyter-widgets/controls",
       "_model_name": "FloatProgressModel",
       "_view_name": "ErrorWidgetView",
       "bar_style": "success",
       "description": "",
       "description_allow_html": false,
       "error": {
        "message": "Loading chunk 495 failed.\n(error: http://192.168.3.2:9900/lab/extensions/@jupyter-widgets/jupyterlab-manager/static/495.3e275af54861cdeb3e75.js?v=3e275af54861cdeb3e75)",
        "name": "ChunkLoadError",
        "request": "http://192.168.3.2:9900/lab/extensions/@jupyter-widgets/jupyterlab-manager/static/495.3e275af54861cdeb3e75.js?v=3e275af54861cdeb3e75",
        "type": "error"
       },
       "layout": "IPY_MODEL_83ccde41e83e4173b130ac023c14b719",
       "max": 239,
       "min": 0,
       "msg": "Failed to load model class 'FloatProgressModel' from module '@jupyter-widgets/controls'",
       "orientation": "horizontal",
       "style": "IPY_MODEL_0e603c9dc7e64af5b4e6158bf7d147e5",
       "value": 239
      }
     },
     "3b003e79bfec462fb483a6ca4b159f8d": {
      "model_module": "@jupyter-widgets/base",
      "model_module_version": "2.0.0",
      "model_name": "LayoutModel",
      "state": {}
     },
     "3b14d5ec8fb5414c958451eab4a11761": {
      "model_module": "@jupyter-widgets/controls",
      "model_module_version": "2.0.0",
      "model_name": "ProgressStyleModel",
      "state": {
       "_model_module": "@jupyter-widgets/controls",
       "_model_name": "ProgressStyleModel",
       "_view_name": "ErrorWidgetView",
       "bar_color": null,
       "description_width": "",
       "error": {
        "message": "Loading chunk 202 failed.\n(error: http://192.168.3.2:9900/lab/extensions/@jupyter-widgets/jupyterlab-manager/static/202.0336063976910618ce3f.js?v=0336063976910618ce3f)",
        "name": "ChunkLoadError",
        "request": "http://192.168.3.2:9900/lab/extensions/@jupyter-widgets/jupyterlab-manager/static/202.0336063976910618ce3f.js?v=0336063976910618ce3f",
        "type": "error"
       },
       "msg": "Failed to load model class 'ProgressStyleModel' from module '@jupyter-widgets/controls'"
      }
     },
     "3b35ce88e6c34ca1ac5c44767ab1f3c8": {
      "model_module": "@jupyter-widgets/base",
      "model_module_version": "2.0.0",
      "model_name": "LayoutModel",
      "state": {}
     },
     "3b5a48c3f93d4d048d6e60e2d8496be6": {
      "model_module": "@jupyter-widgets/base",
      "model_module_version": "2.0.0",
      "model_name": "LayoutModel",
      "state": {}
     },
     "3b6edc68124f4300a792f85204308e1e": {
      "model_module": "@jupyter-widgets/base",
      "model_module_version": "2.0.0",
      "model_name": "LayoutModel",
      "state": {}
     },
     "3bc3aaaeb8834c459413fa339ba37165": {
      "model_module": "@jupyter-widgets/base",
      "model_module_version": "2.0.0",
      "model_name": "LayoutModel",
      "state": {}
     },
     "3c7798023f9a445d9d0433125aa11489": {
      "model_module": "@jupyter-widgets/base",
      "model_module_version": "2.0.0",
      "model_name": "LayoutModel",
      "state": {}
     },
     "3c8205704fcd47d5b9f13eb370a1876f": {
      "model_module": "@jupyter-widgets/controls",
      "model_module_version": "2.0.0",
      "model_name": "FloatProgressModel",
      "state": {
       "_model_module": "@jupyter-widgets/controls",
       "_model_name": "FloatProgressModel",
       "_view_name": "ErrorWidgetView",
       "bar_style": "success",
       "description": "",
       "description_allow_html": false,
       "error": {
        "message": "Loading chunk 495 failed.\n(error: http://192.168.3.2:9900/lab/extensions/@jupyter-widgets/jupyterlab-manager/static/495.3e275af54861cdeb3e75.js?v=3e275af54861cdeb3e75)",
        "name": "ChunkLoadError",
        "request": "http://192.168.3.2:9900/lab/extensions/@jupyter-widgets/jupyterlab-manager/static/495.3e275af54861cdeb3e75.js?v=3e275af54861cdeb3e75",
        "type": "error"
       },
       "layout": "IPY_MODEL_3f583428c0344d6f919967637c4c370c",
       "max": 1,
       "min": 0,
       "msg": "Failed to load model class 'FloatProgressModel' from module '@jupyter-widgets/controls'",
       "orientation": "horizontal",
       "style": "IPY_MODEL_85d75811c0ca4965ac97bb6e3c45ba6e",
       "value": 1
      }
     },
     "3d0e4ca88e124e3bac00f00fa77c5201": {
      "model_module": "@jupyter-widgets/controls",
      "model_module_version": "2.0.0",
      "model_name": "ProgressStyleModel",
      "state": {
       "_model_module": "@jupyter-widgets/controls",
       "_model_name": "ProgressStyleModel",
       "_view_name": "ErrorWidgetView",
       "bar_color": null,
       "description_width": "",
       "error": {
        "message": "Loading chunk 495 failed.\n(error: http://192.168.3.2:9900/lab/extensions/@jupyter-widgets/jupyterlab-manager/static/495.3e275af54861cdeb3e75.js?v=3e275af54861cdeb3e75)",
        "name": "ChunkLoadError",
        "request": "http://192.168.3.2:9900/lab/extensions/@jupyter-widgets/jupyterlab-manager/static/495.3e275af54861cdeb3e75.js?v=3e275af54861cdeb3e75",
        "type": "error"
       },
       "msg": "Failed to load model class 'ProgressStyleModel' from module '@jupyter-widgets/controls'"
      }
     },
     "3d22e07b03ae486ebae1f9a604e9512f": {
      "model_module": "@jupyter-widgets/controls",
      "model_module_version": "2.0.0",
      "model_name": "HBoxModel",
      "state": {
       "_model_module": "@jupyter-widgets/controls",
       "_model_name": "HBoxModel",
       "_view_name": "ErrorWidgetView",
       "box_style": "",
       "children": [
        "IPY_MODEL_848d17d69abd49eea9b6d2534fe2f52b",
        "IPY_MODEL_f274199ee4f4453785015cbd3693a34b",
        "IPY_MODEL_cdf69090aaf64a839bb810e11a2256d4"
       ],
       "error": {
        "message": "Loading chunk 495 failed.\n(error: http://192.168.3.2:9900/lab/extensions/@jupyter-widgets/jupyterlab-manager/static/495.3e275af54861cdeb3e75.js?v=3e275af54861cdeb3e75)",
        "name": "ChunkLoadError",
        "request": "http://192.168.3.2:9900/lab/extensions/@jupyter-widgets/jupyterlab-manager/static/495.3e275af54861cdeb3e75.js?v=3e275af54861cdeb3e75",
        "type": "error"
       },
       "layout": "IPY_MODEL_12e738b5c54b404a9efe28f7f7b85fab",
       "msg": "Failed to load model class 'HBoxModel' from module '@jupyter-widgets/controls'"
      }
     },
     "3d2f3d8123f048a08e55af452a920a92": {
      "model_module": "@jupyter-widgets/controls",
      "model_module_version": "2.0.0",
      "model_name": "HTMLStyleModel",
      "state": {
       "_model_module": "@jupyter-widgets/controls",
       "_model_name": "HTMLStyleModel",
       "_view_name": "ErrorWidgetView",
       "background": null,
       "description_width": "",
       "error": {
        "message": "Loading chunk 495 failed.\n(error: http://192.168.3.2:9900/lab/extensions/@jupyter-widgets/jupyterlab-manager/static/495.3e275af54861cdeb3e75.js?v=3e275af54861cdeb3e75)",
        "name": "ChunkLoadError",
        "request": "http://192.168.3.2:9900/lab/extensions/@jupyter-widgets/jupyterlab-manager/static/495.3e275af54861cdeb3e75.js?v=3e275af54861cdeb3e75",
        "type": "error"
       },
       "font_size": null,
       "msg": "Failed to load model class 'HTMLStyleModel' from module '@jupyter-widgets/controls'",
       "text_color": null
      }
     },
     "3d34b51e129242b592e9780c30436d97": {
      "model_module": "@jupyter-widgets/controls",
      "model_module_version": "2.0.0",
      "model_name": "HTMLStyleModel",
      "state": {
       "_model_module": "@jupyter-widgets/controls",
       "_model_name": "HTMLStyleModel",
       "_view_name": "ErrorWidgetView",
       "background": null,
       "description_width": "",
       "error": {
        "message": "Loading chunk 202 failed.\n(error: http://192.168.3.2:9900/lab/extensions/@jupyter-widgets/jupyterlab-manager/static/202.0336063976910618ce3f.js?v=0336063976910618ce3f)",
        "name": "ChunkLoadError",
        "request": "http://192.168.3.2:9900/lab/extensions/@jupyter-widgets/jupyterlab-manager/static/202.0336063976910618ce3f.js?v=0336063976910618ce3f",
        "type": "error"
       },
       "font_size": null,
       "msg": "Failed to load model class 'HTMLStyleModel' from module '@jupyter-widgets/controls'",
       "text_color": null
      }
     },
     "3d525c5436954fe89972d54d36cae514": {
      "model_module": "@jupyter-widgets/controls",
      "model_module_version": "2.0.0",
      "model_name": "FloatProgressModel",
      "state": {
       "_model_module": "@jupyter-widgets/controls",
       "_model_name": "FloatProgressModel",
       "_view_name": "ErrorWidgetView",
       "bar_style": "success",
       "description": "",
       "description_allow_html": false,
       "error": {
        "message": "Loading chunk 202 failed.\n(error: http://192.168.3.2:9900/lab/extensions/@jupyter-widgets/jupyterlab-manager/static/202.0336063976910618ce3f.js?v=0336063976910618ce3f)",
        "name": "ChunkLoadError",
        "request": "http://192.168.3.2:9900/lab/extensions/@jupyter-widgets/jupyterlab-manager/static/202.0336063976910618ce3f.js?v=0336063976910618ce3f",
        "type": "error"
       },
       "layout": "IPY_MODEL_673d72cefc5a4a7983d3e93e326c2b41",
       "max": 1,
       "min": 0,
       "msg": "Failed to load model class 'FloatProgressModel' from module '@jupyter-widgets/controls'",
       "orientation": "horizontal",
       "style": "IPY_MODEL_4d2ee604069241c994af658da1dc11ad",
       "value": 1
      }
     },
     "3d83fb81b7b4454281dc87c54ed2c9a6": {
      "model_module": "@jupyter-widgets/controls",
      "model_module_version": "2.0.0",
      "model_name": "ProgressStyleModel",
      "state": {
       "_model_module": "@jupyter-widgets/controls",
       "_model_name": "ProgressStyleModel",
       "_view_name": "ErrorWidgetView",
       "bar_color": null,
       "description_width": "",
       "error": {
        "message": "Loading chunk 202 failed.\n(error: http://192.168.3.2:9900/lab/extensions/@jupyter-widgets/jupyterlab-manager/static/202.0336063976910618ce3f.js?v=0336063976910618ce3f)",
        "name": "ChunkLoadError",
        "request": "http://192.168.3.2:9900/lab/extensions/@jupyter-widgets/jupyterlab-manager/static/202.0336063976910618ce3f.js?v=0336063976910618ce3f",
        "type": "error"
       },
       "msg": "Failed to load model class 'ProgressStyleModel' from module '@jupyter-widgets/controls'"
      }
     },
     "3da7ba9b1f294dab87df4450f499ac9b": {
      "model_module": "@jupyter-widgets/controls",
      "model_module_version": "2.0.0",
      "model_name": "HTMLModel",
      "state": {
       "_model_module": "@jupyter-widgets/controls",
       "_model_name": "HTMLModel",
       "_view_name": "ErrorWidgetView",
       "description": "",
       "description_allow_html": false,
       "error": {
        "message": "Loading chunk 495 failed.\n(error: http://192.168.3.2:9900/lab/extensions/@jupyter-widgets/jupyterlab-manager/static/495.3e275af54861cdeb3e75.js?v=3e275af54861cdeb3e75)",
        "name": "ChunkLoadError",
        "request": "http://192.168.3.2:9900/lab/extensions/@jupyter-widgets/jupyterlab-manager/static/495.3e275af54861cdeb3e75.js?v=3e275af54861cdeb3e75",
        "type": "error"
       },
       "layout": "IPY_MODEL_44e860abcacc43e49f13da6cf4ffcfc4",
       "msg": "Failed to load model class 'HTMLModel' from module '@jupyter-widgets/controls'",
       "placeholder": "​",
       "style": "IPY_MODEL_d8c6dea692a2465d82a55bc345bd58f6",
       "value": "config.json: "
      }
     },
     "3dbe7889978b4e56b04eba6dcf416ed0": {
      "model_module": "@jupyter-widgets/controls",
      "model_module_version": "2.0.0",
      "model_name": "HBoxModel",
      "state": {
       "_model_module": "@jupyter-widgets/controls",
       "_model_name": "HBoxModel",
       "_view_name": "ErrorWidgetView",
       "box_style": "",
       "children": [
        "IPY_MODEL_effc89da32b74f7f9e1e56bb209bd9d5",
        "IPY_MODEL_cc3a45316ab841af9fa5f89cd5e17934",
        "IPY_MODEL_c61270ff485f411ab96377031edc03b4"
       ],
       "error": {
        "message": "Loading chunk 202 failed.\n(error: http://192.168.3.2:9900/lab/extensions/@jupyter-widgets/jupyterlab-manager/static/202.0336063976910618ce3f.js?v=0336063976910618ce3f)",
        "name": "ChunkLoadError",
        "request": "http://192.168.3.2:9900/lab/extensions/@jupyter-widgets/jupyterlab-manager/static/202.0336063976910618ce3f.js?v=0336063976910618ce3f",
        "type": "error"
       },
       "layout": "IPY_MODEL_26318d36a98747f0afeea573826a1a7c",
       "msg": "Failed to load model class 'HBoxModel' from module '@jupyter-widgets/controls'"
      }
     },
     "3dd0ab401ae441578a3932f6283784b7": {
      "model_module": "@jupyter-widgets/controls",
      "model_module_version": "2.0.0",
      "model_name": "HBoxModel",
      "state": {
       "_model_module": "@jupyter-widgets/controls",
       "_model_name": "HBoxModel",
       "_view_name": "ErrorWidgetView",
       "box_style": "",
       "children": [
        "IPY_MODEL_8542c0e0dcef4b4a96adf66775a0cef2",
        "IPY_MODEL_3d525c5436954fe89972d54d36cae514",
        "IPY_MODEL_8fdb6032e09a409bad38b803a4a8e30c"
       ],
       "error": {
        "message": "Loading chunk 495 failed.\n(error: http://192.168.3.2:9900/lab/extensions/@jupyter-widgets/jupyterlab-manager/static/495.3e275af54861cdeb3e75.js?v=3e275af54861cdeb3e75)",
        "name": "ChunkLoadError",
        "request": "http://192.168.3.2:9900/lab/extensions/@jupyter-widgets/jupyterlab-manager/static/495.3e275af54861cdeb3e75.js?v=3e275af54861cdeb3e75",
        "type": "error"
       },
       "layout": "IPY_MODEL_27f02b4210724e2f805a5bc6b3454b4b",
       "msg": "Failed to load model class 'HBoxModel' from module '@jupyter-widgets/controls'"
      }
     },
     "3df28c433f9443909f1a117b12b57cc0": {
      "model_module": "@jupyter-widgets/controls",
      "model_module_version": "2.0.0",
      "model_name": "FloatProgressModel",
      "state": {
       "_model_module": "@jupyter-widgets/controls",
       "_model_name": "FloatProgressModel",
       "_view_name": "ErrorWidgetView",
       "bar_style": "success",
       "description": "",
       "description_allow_html": false,
       "error": {
        "message": "Loading chunk 495 failed.\n(error: http://192.168.3.2:9900/lab/extensions/@jupyter-widgets/jupyterlab-manager/static/495.3e275af54861cdeb3e75.js?v=3e275af54861cdeb3e75)",
        "name": "ChunkLoadError",
        "request": "http://192.168.3.2:9900/lab/extensions/@jupyter-widgets/jupyterlab-manager/static/495.3e275af54861cdeb3e75.js?v=3e275af54861cdeb3e75",
        "type": "error"
       },
       "layout": "IPY_MODEL_78195dc6598c46d59a95f0fc61ca6c46",
       "max": 1334400964,
       "min": 0,
       "msg": "Failed to load model class 'FloatProgressModel' from module '@jupyter-widgets/controls'",
       "orientation": "horizontal",
       "style": "IPY_MODEL_347659e79b5f4b6fba2b2598dfdc1be5",
       "value": 1334400964
      }
     },
     "3df3c943679342f6909ffbfe533f0798": {
      "model_module": "@jupyter-widgets/base",
      "model_module_version": "2.0.0",
      "model_name": "LayoutModel",
      "state": {}
     },
     "3e0e79cdc87045a7835c907f38c7999b": {
      "model_module": "@jupyter-widgets/controls",
      "model_module_version": "2.0.0",
      "model_name": "HBoxModel",
      "state": {
       "_model_module": "@jupyter-widgets/controls",
       "_model_name": "HBoxModel",
       "_view_name": "ErrorWidgetView",
       "box_style": "",
       "children": [
        "IPY_MODEL_d82be2d3e02a44fcb167e9fdedbfe0a6",
        "IPY_MODEL_f28a3ac7ecfb43f99ff20efe14fef517",
        "IPY_MODEL_9ac9709c313c4e87acdd2813e81fd1a0"
       ],
       "error": {
        "message": "Loading chunk 495 failed.\n(error: http://192.168.3.2:9900/lab/extensions/@jupyter-widgets/jupyterlab-manager/static/495.3e275af54861cdeb3e75.js?v=3e275af54861cdeb3e75)",
        "name": "ChunkLoadError",
        "request": "http://192.168.3.2:9900/lab/extensions/@jupyter-widgets/jupyterlab-manager/static/495.3e275af54861cdeb3e75.js?v=3e275af54861cdeb3e75",
        "type": "error"
       },
       "layout": "IPY_MODEL_6e2be7ef46b24ce7a2260630a6644d7e",
       "msg": "Failed to load model class 'HBoxModel' from module '@jupyter-widgets/controls'"
      }
     },
     "3e15dcbed39d4ea89b292aa2efe32f60": {
      "model_module": "@jupyter-widgets/controls",
      "model_module_version": "2.0.0",
      "model_name": "HTMLModel",
      "state": {
       "_model_module": "@jupyter-widgets/controls",
       "_model_name": "HTMLModel",
       "_view_name": "ErrorWidgetView",
       "description": "",
       "description_allow_html": false,
       "error": {
        "message": "Loading chunk 202 failed.\n(error: http://192.168.3.2:9900/lab/extensions/@jupyter-widgets/jupyterlab-manager/static/202.0336063976910618ce3f.js?v=0336063976910618ce3f)",
        "name": "ChunkLoadError",
        "request": "http://192.168.3.2:9900/lab/extensions/@jupyter-widgets/jupyterlab-manager/static/202.0336063976910618ce3f.js?v=0336063976910618ce3f",
        "type": "error"
       },
       "layout": "IPY_MODEL_548c07249eb9401a98c49b04cab9e81a",
       "msg": "Failed to load model class 'HTMLModel' from module '@jupyter-widgets/controls'",
       "placeholder": "​",
       "style": "IPY_MODEL_8c6edb54e8d44e89b7a343e611d14c0d",
       "value": "vocab.txt: "
      }
     },
     "3e557f0d7df24d00841388a5d0eee25b": {
      "model_module": "@jupyter-widgets/controls",
      "model_module_version": "2.0.0",
      "model_name": "ProgressStyleModel",
      "state": {
       "_model_module": "@jupyter-widgets/controls",
       "_model_name": "ProgressStyleModel",
       "_view_name": "ErrorWidgetView",
       "bar_color": null,
       "description_width": "",
       "error": {
        "message": "Loading chunk 202 failed.\n(error: http://192.168.3.2:9900/lab/extensions/@jupyter-widgets/jupyterlab-manager/static/202.0336063976910618ce3f.js?v=0336063976910618ce3f)",
        "name": "ChunkLoadError",
        "request": "http://192.168.3.2:9900/lab/extensions/@jupyter-widgets/jupyterlab-manager/static/202.0336063976910618ce3f.js?v=0336063976910618ce3f",
        "type": "error"
       },
       "msg": "Failed to load model class 'ProgressStyleModel' from module '@jupyter-widgets/controls'"
      }
     },
     "3e5b3c057f7048a8b396fc707f87e981": {
      "model_module": "@jupyter-widgets/base",
      "model_module_version": "2.0.0",
      "model_name": "LayoutModel",
      "state": {}
     },
     "3e99e5154d154eaa83c2a693962c8ede": {
      "model_module": "@jupyter-widgets/base",
      "model_module_version": "2.0.0",
      "model_name": "LayoutModel",
      "state": {}
     },
     "3e9c1712f9d74f61b20cb0c38fe8de5e": {
      "model_module": "@jupyter-widgets/base",
      "model_module_version": "2.0.0",
      "model_name": "LayoutModel",
      "state": {}
     },
     "3edb8e01e87c44869cbffa254830c1a3": {
      "model_module": "@jupyter-widgets/controls",
      "model_module_version": "2.0.0",
      "model_name": "HTMLStyleModel",
      "state": {
       "_model_module": "@jupyter-widgets/controls",
       "_model_name": "HTMLStyleModel",
       "_view_name": "ErrorWidgetView",
       "background": null,
       "description_width": "",
       "error": {
        "message": "Loading chunk 495 failed.\n(error: http://192.168.3.2:9900/lab/extensions/@jupyter-widgets/jupyterlab-manager/static/495.3e275af54861cdeb3e75.js?v=3e275af54861cdeb3e75)",
        "name": "ChunkLoadError",
        "request": "http://192.168.3.2:9900/lab/extensions/@jupyter-widgets/jupyterlab-manager/static/495.3e275af54861cdeb3e75.js?v=3e275af54861cdeb3e75",
        "type": "error"
       },
       "font_size": null,
       "msg": "Failed to load model class 'HTMLStyleModel' from module '@jupyter-widgets/controls'",
       "text_color": null
      }
     },
     "3f06709eb6f54381808ec683c56ab93c": {
      "model_module": "@jupyter-widgets/controls",
      "model_module_version": "2.0.0",
      "model_name": "HTMLModel",
      "state": {
       "_model_module": "@jupyter-widgets/controls",
       "_model_name": "HTMLModel",
       "_view_name": "ErrorWidgetView",
       "description": "",
       "description_allow_html": false,
       "error": {
        "message": "Loading chunk 202 failed.\n(error: http://192.168.3.2:9900/lab/extensions/@jupyter-widgets/jupyterlab-manager/static/202.0336063976910618ce3f.js?v=0336063976910618ce3f)",
        "name": "ChunkLoadError",
        "request": "http://192.168.3.2:9900/lab/extensions/@jupyter-widgets/jupyterlab-manager/static/202.0336063976910618ce3f.js?v=0336063976910618ce3f",
        "type": "error"
       },
       "layout": "IPY_MODEL_83d583e4b37a4c1cb11db46759fcc06a",
       "msg": "Failed to load model class 'HTMLModel' from module '@jupyter-widgets/controls'",
       "placeholder": "​",
       "style": "IPY_MODEL_a7cb4377c3364701a81e53b6f16d1961",
       "value": "bpe.codes: "
      }
     },
     "3f5075a931424c148d60551c6f8f39cf": {
      "model_module": "@jupyter-widgets/base",
      "model_module_version": "2.0.0",
      "model_name": "LayoutModel",
      "state": {}
     },
     "3f55c21dac2c42a9b4ad7bb079234927": {
      "model_module": "@jupyter-widgets/base",
      "model_module_version": "2.0.0",
      "model_name": "LayoutModel",
      "state": {}
     },
     "3f583428c0344d6f919967637c4c370c": {
      "model_module": "@jupyter-widgets/base",
      "model_module_version": "2.0.0",
      "model_name": "LayoutModel",
      "state": {
       "width": "20px"
      }
     },
     "3f8caf50a3a74294b9ea436e22f9d681": {
      "model_module": "@jupyter-widgets/base",
      "model_module_version": "2.0.0",
      "model_name": "LayoutModel",
      "state": {}
     },
     "3fc6fb98319a48488e4d036ae8166e9d": {
      "model_module": "@jupyter-widgets/base",
      "model_module_version": "2.0.0",
      "model_name": "LayoutModel",
      "state": {}
     },
     "3fd84996f4744c2a97043d0b6c4240bf": {
      "model_module": "@jupyter-widgets/controls",
      "model_module_version": "2.0.0",
      "model_name": "HTMLStyleModel",
      "state": {
       "_model_module": "@jupyter-widgets/controls",
       "_model_name": "HTMLStyleModel",
       "_view_name": "ErrorWidgetView",
       "background": null,
       "description_width": "",
       "error": {
        "message": "Loading chunk 495 failed.\n(error: http://192.168.3.2:9900/lab/extensions/@jupyter-widgets/jupyterlab-manager/static/495.3e275af54861cdeb3e75.js?v=3e275af54861cdeb3e75)",
        "name": "ChunkLoadError",
        "request": "http://192.168.3.2:9900/lab/extensions/@jupyter-widgets/jupyterlab-manager/static/495.3e275af54861cdeb3e75.js?v=3e275af54861cdeb3e75",
        "type": "error"
       },
       "font_size": null,
       "msg": "Failed to load model class 'HTMLStyleModel' from module '@jupyter-widgets/controls'",
       "text_color": null
      }
     },
     "3fe46306b9064bb39e9c16c54f259448": {
      "model_module": "@jupyter-widgets/controls",
      "model_module_version": "2.0.0",
      "model_name": "ProgressStyleModel",
      "state": {
       "_model_module": "@jupyter-widgets/controls",
       "_model_name": "ProgressStyleModel",
       "_view_name": "ErrorWidgetView",
       "bar_color": null,
       "description_width": "",
       "error": {
        "message": "Loading chunk 495 failed.\n(error: http://192.168.3.2:9900/lab/extensions/@jupyter-widgets/jupyterlab-manager/static/495.3e275af54861cdeb3e75.js?v=3e275af54861cdeb3e75)",
        "name": "ChunkLoadError",
        "request": "http://192.168.3.2:9900/lab/extensions/@jupyter-widgets/jupyterlab-manager/static/495.3e275af54861cdeb3e75.js?v=3e275af54861cdeb3e75",
        "type": "error"
       },
       "msg": "Failed to load model class 'ProgressStyleModel' from module '@jupyter-widgets/controls'"
      }
     },
     "4051f477e9fd4a26a3d8322ac3b018be": {
      "model_module": "@jupyter-widgets/controls",
      "model_module_version": "2.0.0",
      "model_name": "HTMLModel",
      "state": {
       "_model_module": "@jupyter-widgets/controls",
       "_model_name": "HTMLModel",
       "_view_name": "ErrorWidgetView",
       "description": "",
       "description_allow_html": false,
       "error": {
        "message": "Loading chunk 495 failed.\n(error: http://192.168.3.2:9900/lab/extensions/@jupyter-widgets/jupyterlab-manager/static/495.3e275af54861cdeb3e75.js?v=3e275af54861cdeb3e75)",
        "name": "ChunkLoadError",
        "request": "http://192.168.3.2:9900/lab/extensions/@jupyter-widgets/jupyterlab-manager/static/495.3e275af54861cdeb3e75.js?v=3e275af54861cdeb3e75",
        "type": "error"
       },
       "layout": "IPY_MODEL_11d114850e634d9b9437e4e44f8e01e0",
       "msg": "Failed to load model class 'HTMLModel' from module '@jupyter-widgets/controls'",
       "placeholder": "​",
       "style": "IPY_MODEL_1db50a969e3543bab3e263611a446fd7",
       "value": ""
      }
     },
     "409224c0f11b424b94a3154babcfd921": {
      "model_module": "@jupyter-widgets/controls",
      "model_module_version": "2.0.0",
      "model_name": "FloatProgressModel",
      "state": {
       "_model_module": "@jupyter-widgets/controls",
       "_model_name": "FloatProgressModel",
       "_view_name": "ErrorWidgetView",
       "bar_style": "success",
       "description": "",
       "description_allow_html": false,
       "error": {
        "message": "Loading chunk 495 failed.\n(error: http://192.168.3.2:9900/lab/extensions/@jupyter-widgets/jupyterlab-manager/static/495.3e275af54861cdeb3e75.js?v=3e275af54861cdeb3e75)",
        "name": "ChunkLoadError",
        "request": "http://192.168.3.2:9900/lab/extensions/@jupyter-widgets/jupyterlab-manager/static/495.3e275af54861cdeb3e75.js?v=3e275af54861cdeb3e75",
        "type": "error"
       },
       "layout": "IPY_MODEL_7980f158f83647a689d31b7b7ef2c526",
       "max": 891646390,
       "min": 0,
       "msg": "Failed to load model class 'FloatProgressModel' from module '@jupyter-widgets/controls'",
       "orientation": "horizontal",
       "style": "IPY_MODEL_f9e07c1da36f4b68bf35ed06ea952490",
       "value": 891646390
      }
     },
     "40cd85b86bf44226a58cc8fe9d9dce68": {
      "model_module": "@jupyter-widgets/controls",
      "model_module_version": "2.0.0",
      "model_name": "FloatProgressModel",
      "state": {
       "_model_module": "@jupyter-widgets/controls",
       "_model_name": "FloatProgressModel",
       "_view_name": "ErrorWidgetView",
       "bar_style": "success",
       "description": "",
       "description_allow_html": false,
       "error": {
        "message": "Loading chunk 495 failed.\n(error: http://192.168.3.2:9900/lab/extensions/@jupyter-widgets/jupyterlab-manager/static/495.3e275af54861cdeb3e75.js?v=3e275af54861cdeb3e75)",
        "name": "ChunkLoadError",
        "request": "http://192.168.3.2:9900/lab/extensions/@jupyter-widgets/jupyterlab-manager/static/495.3e275af54861cdeb3e75.js?v=3e275af54861cdeb3e75",
        "type": "error"
       },
       "layout": "IPY_MODEL_ad29293c421344a2ba35f954f8909b6e",
       "max": 1050,
       "min": 0,
       "msg": "Failed to load model class 'FloatProgressModel' from module '@jupyter-widgets/controls'",
       "orientation": "horizontal",
       "style": "IPY_MODEL_7d35d4fd2fe34ec8a2ea15daf5a772ac",
       "value": 1050
      }
     },
     "40d329bb75bc48978f1ca64d53cde151": {
      "model_module": "@jupyter-widgets/controls",
      "model_module_version": "2.0.0",
      "model_name": "HTMLStyleModel",
      "state": {
       "_model_module": "@jupyter-widgets/controls",
       "_model_name": "HTMLStyleModel",
       "_view_name": "ErrorWidgetView",
       "background": null,
       "description_width": "",
       "error": {
        "message": "Loading chunk 202 failed.\n(error: http://192.168.3.2:9900/lab/extensions/@jupyter-widgets/jupyterlab-manager/static/202.0336063976910618ce3f.js?v=0336063976910618ce3f)",
        "name": "ChunkLoadError",
        "request": "http://192.168.3.2:9900/lab/extensions/@jupyter-widgets/jupyterlab-manager/static/202.0336063976910618ce3f.js?v=0336063976910618ce3f",
        "type": "error"
       },
       "font_size": null,
       "msg": "Failed to load model class 'HTMLStyleModel' from module '@jupyter-widgets/controls'",
       "text_color": null
      }
     },
     "40df7c0d96de4e368a666c070c06f1e7": {
      "model_module": "@jupyter-widgets/controls",
      "model_module_version": "2.0.0",
      "model_name": "HBoxModel",
      "state": {
       "_model_module": "@jupyter-widgets/controls",
       "_model_name": "HBoxModel",
       "_view_name": "ErrorWidgetView",
       "box_style": "",
       "children": [
        "IPY_MODEL_e9d7ae8897004848b5206ba83c598ab3",
        "IPY_MODEL_a3fd821ba65d4a6eb553d64b38b83f42",
        "IPY_MODEL_45c2f4d06c554f129177890d93ea484b"
       ],
       "error": {
        "message": "Loading chunk 202 failed.\n(error: http://192.168.3.2:9900/lab/extensions/@jupyter-widgets/jupyterlab-manager/static/202.0336063976910618ce3f.js?v=0336063976910618ce3f)",
        "name": "ChunkLoadError",
        "request": "http://192.168.3.2:9900/lab/extensions/@jupyter-widgets/jupyterlab-manager/static/202.0336063976910618ce3f.js?v=0336063976910618ce3f",
        "type": "error"
       },
       "layout": "IPY_MODEL_c6f2b5e391f540d9a5cb6f6053951422",
       "msg": "Failed to load model class 'HBoxModel' from module '@jupyter-widgets/controls'"
      }
     },
     "4190b1e35c3a489cbe44e19fa7ca46eb": {
      "model_module": "@jupyter-widgets/controls",
      "model_module_version": "2.0.0",
      "model_name": "HTMLStyleModel",
      "state": {
       "_model_module": "@jupyter-widgets/controls",
       "_model_name": "HTMLStyleModel",
       "_view_name": "ErrorWidgetView",
       "background": null,
       "description_width": "",
       "error": {
        "message": "Loading chunk 202 failed.\n(error: http://192.168.3.2:9900/lab/extensions/@jupyter-widgets/jupyterlab-manager/static/202.0336063976910618ce3f.js?v=0336063976910618ce3f)",
        "name": "ChunkLoadError",
        "request": "http://192.168.3.2:9900/lab/extensions/@jupyter-widgets/jupyterlab-manager/static/202.0336063976910618ce3f.js?v=0336063976910618ce3f",
        "type": "error"
       },
       "font_size": null,
       "msg": "Failed to load model class 'HTMLStyleModel' from module '@jupyter-widgets/controls'",
       "text_color": null
      }
     },
     "419b0a4641f740558dffeb208e2a975b": {
      "model_module": "@jupyter-widgets/controls",
      "model_module_version": "2.0.0",
      "model_name": "HTMLStyleModel",
      "state": {
       "_model_module": "@jupyter-widgets/controls",
       "_model_name": "HTMLStyleModel",
       "_view_name": "ErrorWidgetView",
       "background": null,
       "description_width": "",
       "error": {
        "message": "Loading chunk 202 failed.\n(error: http://192.168.3.2:9900/lab/extensions/@jupyter-widgets/jupyterlab-manager/static/202.0336063976910618ce3f.js?v=0336063976910618ce3f)",
        "name": "ChunkLoadError",
        "request": "http://192.168.3.2:9900/lab/extensions/@jupyter-widgets/jupyterlab-manager/static/202.0336063976910618ce3f.js?v=0336063976910618ce3f",
        "type": "error"
       },
       "font_size": null,
       "msg": "Failed to load model class 'HTMLStyleModel' from module '@jupyter-widgets/controls'",
       "text_color": null
      }
     },
     "41bfd78f6b994ee583d901a6dab64178": {
      "model_module": "@jupyter-widgets/controls",
      "model_module_version": "2.0.0",
      "model_name": "FloatProgressModel",
      "state": {
       "_model_module": "@jupyter-widgets/controls",
       "_model_name": "FloatProgressModel",
       "_view_name": "ErrorWidgetView",
       "bar_style": "success",
       "description": "",
       "description_allow_html": false,
       "error": {
        "message": "Loading chunk 495 failed.\n(error: http://192.168.3.2:9900/lab/extensions/@jupyter-widgets/jupyterlab-manager/static/495.3e275af54861cdeb3e75.js?v=3e275af54861cdeb3e75)",
        "name": "ChunkLoadError",
        "request": "http://192.168.3.2:9900/lab/extensions/@jupyter-widgets/jupyterlab-manager/static/495.3e275af54861cdeb3e75.js?v=3e275af54861cdeb3e75",
        "type": "error"
       },
       "layout": "IPY_MODEL_a7e8d02b6b65465a9d605e123de43d34",
       "max": 317,
       "min": 0,
       "msg": "Failed to load model class 'FloatProgressModel' from module '@jupyter-widgets/controls'",
       "orientation": "horizontal",
       "style": "IPY_MODEL_9c101780d87a40fd9673a2fa8c13fb70",
       "value": 317
      }
     },
     "42009f471ade4ac6a3b47c8c6b044602": {
      "model_module": "@jupyter-widgets/controls",
      "model_module_version": "2.0.0",
      "model_name": "HTMLStyleModel",
      "state": {
       "_model_module": "@jupyter-widgets/controls",
       "_model_name": "HTMLStyleModel",
       "_view_name": "ErrorWidgetView",
       "background": null,
       "description_width": "",
       "error": {
        "message": "Loading chunk 202 failed.\n(error: http://192.168.3.2:9900/lab/extensions/@jupyter-widgets/jupyterlab-manager/static/202.0336063976910618ce3f.js?v=0336063976910618ce3f)",
        "name": "ChunkLoadError",
        "request": "http://192.168.3.2:9900/lab/extensions/@jupyter-widgets/jupyterlab-manager/static/202.0336063976910618ce3f.js?v=0336063976910618ce3f",
        "type": "error"
       },
       "font_size": null,
       "msg": "Failed to load model class 'HTMLStyleModel' from module '@jupyter-widgets/controls'",
       "text_color": null
      }
     },
     "42a40ae712634dcfba24e8c182c39146": {
      "model_module": "@jupyter-widgets/controls",
      "model_module_version": "2.0.0",
      "model_name": "HBoxModel",
      "state": {
       "_model_module": "@jupyter-widgets/controls",
       "_model_name": "HBoxModel",
       "_view_name": "ErrorWidgetView",
       "box_style": "",
       "children": [
        "IPY_MODEL_7df1392143da4103a6b58902b1ab762b",
        "IPY_MODEL_eb40105439b240739d737bf5cfef7208",
        "IPY_MODEL_e18fcac961a04b7a9a61514be62a475f"
       ],
       "error": {
        "message": "Loading chunk 495 failed.\n(error: http://192.168.3.2:9900/lab/extensions/@jupyter-widgets/jupyterlab-manager/static/495.3e275af54861cdeb3e75.js?v=3e275af54861cdeb3e75)",
        "name": "ChunkLoadError",
        "request": "http://192.168.3.2:9900/lab/extensions/@jupyter-widgets/jupyterlab-manager/static/495.3e275af54861cdeb3e75.js?v=3e275af54861cdeb3e75",
        "type": "error"
       },
       "layout": "IPY_MODEL_a2b72a498b504a40afd49434e2117a75",
       "msg": "Failed to load model class 'HBoxModel' from module '@jupyter-widgets/controls'"
      }
     },
     "431088a35e6348f2bf2ecab41e7562c7": {
      "model_module": "@jupyter-widgets/controls",
      "model_module_version": "2.0.0",
      "model_name": "HTMLStyleModel",
      "state": {
       "_model_module": "@jupyter-widgets/controls",
       "_model_name": "HTMLStyleModel",
       "_view_name": "ErrorWidgetView",
       "background": null,
       "description_width": "",
       "error": {
        "message": "Loading chunk 495 failed.\n(error: http://192.168.3.2:9900/lab/extensions/@jupyter-widgets/jupyterlab-manager/static/495.3e275af54861cdeb3e75.js?v=3e275af54861cdeb3e75)",
        "name": "ChunkLoadError",
        "request": "http://192.168.3.2:9900/lab/extensions/@jupyter-widgets/jupyterlab-manager/static/495.3e275af54861cdeb3e75.js?v=3e275af54861cdeb3e75",
        "type": "error"
       },
       "font_size": null,
       "msg": "Failed to load model class 'HTMLStyleModel' from module '@jupyter-widgets/controls'",
       "text_color": null
      }
     },
     "43e3391966c44bffb9739121b3c3ba9c": {
      "model_module": "@jupyter-widgets/base",
      "model_module_version": "2.0.0",
      "model_name": "LayoutModel",
      "state": {}
     },
     "443d501229c9472788948c72d6a4727f": {
      "model_module": "@jupyter-widgets/base",
      "model_module_version": "2.0.0",
      "model_name": "LayoutModel",
      "state": {}
     },
     "445c3466676c4c6aa0580701cc583497": {
      "model_module": "@jupyter-widgets/controls",
      "model_module_version": "2.0.0",
      "model_name": "HTMLModel",
      "state": {
       "_model_module": "@jupyter-widgets/controls",
       "_model_name": "HTMLModel",
       "_view_name": "ErrorWidgetView",
       "description": "",
       "description_allow_html": false,
       "error": {
        "message": "Loading chunk 495 failed.\n(error: http://192.168.3.2:9900/lab/extensions/@jupyter-widgets/jupyterlab-manager/static/495.3e275af54861cdeb3e75.js?v=3e275af54861cdeb3e75)",
        "name": "ChunkLoadError",
        "request": "http://192.168.3.2:9900/lab/extensions/@jupyter-widgets/jupyterlab-manager/static/495.3e275af54861cdeb3e75.js?v=3e275af54861cdeb3e75",
        "type": "error"
       },
       "layout": "IPY_MODEL_c6507eb456a145b78e2577ab725bbe9d",
       "msg": "Failed to load model class 'HTMLModel' from module '@jupyter-widgets/controls'",
       "placeholder": "​",
       "style": "IPY_MODEL_524d2ac0f0684bcbb5d4ef0bdd6497c4",
       "value": " 456k/? [00:00&lt;00:00, 1.25MB/s]"
      }
     },
     "44772e164f12480092c86420ae5eb506": {
      "model_module": "@jupyter-widgets/controls",
      "model_module_version": "2.0.0",
      "model_name": "FloatProgressModel",
      "state": {
       "_model_module": "@jupyter-widgets/controls",
       "_model_name": "FloatProgressModel",
       "_view_name": "ErrorWidgetView",
       "bar_style": "success",
       "description": "",
       "description_allow_html": false,
       "error": {
        "message": "Loading chunk 495 failed.\n(error: http://192.168.3.2:9900/lab/extensions/@jupyter-widgets/jupyterlab-manager/static/495.3e275af54861cdeb3e75.js?v=3e275af54861cdeb3e75)",
        "name": "ChunkLoadError",
        "request": "http://192.168.3.2:9900/lab/extensions/@jupyter-widgets/jupyterlab-manager/static/495.3e275af54861cdeb3e75.js?v=3e275af54861cdeb3e75",
        "type": "error"
       },
       "layout": "IPY_MODEL_cfdaf496884d4049ba563c087c3a25b3",
       "max": 1,
       "min": 0,
       "msg": "Failed to load model class 'FloatProgressModel' from module '@jupyter-widgets/controls'",
       "orientation": "horizontal",
       "style": "IPY_MODEL_bdefe697dd774c68b778a19e0e5186ca",
       "value": 1
      }
     },
     "44e860abcacc43e49f13da6cf4ffcfc4": {
      "model_module": "@jupyter-widgets/base",
      "model_module_version": "2.0.0",
      "model_name": "LayoutModel",
      "state": {}
     },
     "451738c83e3f427abba65710fad01066": {
      "model_module": "@jupyter-widgets/controls",
      "model_module_version": "2.0.0",
      "model_name": "HBoxModel",
      "state": {
       "_model_module": "@jupyter-widgets/controls",
       "_model_name": "HBoxModel",
       "_view_name": "ErrorWidgetView",
       "box_style": "",
       "children": [
        "IPY_MODEL_875396ef1cfa4f04895946057d598782",
        "IPY_MODEL_d0d2d2eedabb4553a4e2e2353eda9dc5",
        "IPY_MODEL_54517d6952484313b6e98e1ef0a0c07a"
       ],
       "error": {
        "message": "Loading chunk 495 failed.\n(error: http://192.168.3.2:9900/lab/extensions/@jupyter-widgets/jupyterlab-manager/static/495.3e275af54861cdeb3e75.js?v=3e275af54861cdeb3e75)",
        "name": "ChunkLoadError",
        "request": "http://192.168.3.2:9900/lab/extensions/@jupyter-widgets/jupyterlab-manager/static/495.3e275af54861cdeb3e75.js?v=3e275af54861cdeb3e75",
        "type": "error"
       },
       "layout": "IPY_MODEL_ca82c497e6464bd885088976832f54d9",
       "msg": "Failed to load model class 'HBoxModel' from module '@jupyter-widgets/controls'"
      }
     },
     "457bb6ab48eb43218f0f8ff1f602ef30": {
      "model_module": "@jupyter-widgets/controls",
      "model_module_version": "2.0.0",
      "model_name": "HTMLStyleModel",
      "state": {
       "_model_module": "@jupyter-widgets/controls",
       "_model_name": "HTMLStyleModel",
       "_view_name": "ErrorWidgetView",
       "background": null,
       "description_width": "",
       "error": {
        "message": "Loading chunk 202 failed.\n(error: http://192.168.3.2:9900/lab/extensions/@jupyter-widgets/jupyterlab-manager/static/202.0336063976910618ce3f.js?v=0336063976910618ce3f)",
        "name": "ChunkLoadError",
        "request": "http://192.168.3.2:9900/lab/extensions/@jupyter-widgets/jupyterlab-manager/static/202.0336063976910618ce3f.js?v=0336063976910618ce3f",
        "type": "error"
       },
       "font_size": null,
       "msg": "Failed to load model class 'HTMLStyleModel' from module '@jupyter-widgets/controls'",
       "text_color": null
      }
     },
     "45c2f4d06c554f129177890d93ea484b": {
      "model_module": "@jupyter-widgets/controls",
      "model_module_version": "2.0.0",
      "model_name": "HTMLModel",
      "state": {
       "_model_module": "@jupyter-widgets/controls",
       "_model_name": "HTMLModel",
       "_view_name": "ErrorWidgetView",
       "description": "",
       "description_allow_html": false,
       "error": {
        "message": "Loading chunk 495 failed.\n(error: http://192.168.3.2:9900/lab/extensions/@jupyter-widgets/jupyterlab-manager/static/495.3e275af54861cdeb3e75.js?v=3e275af54861cdeb3e75)",
        "name": "ChunkLoadError",
        "request": "http://192.168.3.2:9900/lab/extensions/@jupyter-widgets/jupyterlab-manager/static/495.3e275af54861cdeb3e75.js?v=3e275af54861cdeb3e75",
        "type": "error"
       },
       "layout": "IPY_MODEL_02c17fcad18f4810a01369d7c13d11cf",
       "msg": "Failed to load model class 'HTMLModel' from module '@jupyter-widgets/controls'",
       "placeholder": "​",
       "style": "IPY_MODEL_a2fab3b7a90d4e2db1ce54bbcd93b562",
       "value": " 378M/378M [00:23&lt;00:00, 17.3MB/s]"
      }
     },
     "4619076158f64104babd1a613c726a63": {
      "model_module": "@jupyter-widgets/controls",
      "model_module_version": "2.0.0",
      "model_name": "HTMLModel",
      "state": {
       "_model_module": "@jupyter-widgets/controls",
       "_model_name": "HTMLModel",
       "_view_name": "ErrorWidgetView",
       "description": "",
       "description_allow_html": false,
       "error": {
        "message": "Loading chunk 202 failed.\n(error: http://192.168.3.2:9900/lab/extensions/@jupyter-widgets/jupyterlab-manager/static/202.0336063976910618ce3f.js?v=0336063976910618ce3f)",
        "name": "ChunkLoadError",
        "request": "http://192.168.3.2:9900/lab/extensions/@jupyter-widgets/jupyterlab-manager/static/202.0336063976910618ce3f.js?v=0336063976910618ce3f",
        "type": "error"
       },
       "layout": "IPY_MODEL_285c9fe6d1f74f48ba7afebeba3312ad",
       "msg": "Failed to load model class 'HTMLModel' from module '@jupyter-widgets/controls'",
       "placeholder": "​",
       "style": "IPY_MODEL_233ecdb0fcae4d83a07f329d5606750f",
       "value": "preprocessor_config.json: 100%"
      }
     },
     "4658a7e470cb48c4a83c8ce220efff4b": {
      "model_module": "@jupyter-widgets/controls",
      "model_module_version": "2.0.0",
      "model_name": "HBoxModel",
      "state": {
       "_model_module": "@jupyter-widgets/controls",
       "_model_name": "HBoxModel",
       "_view_name": "ErrorWidgetView",
       "box_style": "",
       "children": [
        "IPY_MODEL_68a751e206ff46dfb0b0d31c03a055e6",
        "IPY_MODEL_f378a7e05f4c4197abdd9357ab9851a9",
        "IPY_MODEL_baeb8af5597a43708e6e16803090aca9"
       ],
       "error": {
        "message": "Loading chunk 202 failed.\n(error: http://192.168.3.2:9900/lab/extensions/@jupyter-widgets/jupyterlab-manager/static/202.0336063976910618ce3f.js?v=0336063976910618ce3f)",
        "name": "ChunkLoadError",
        "request": "http://192.168.3.2:9900/lab/extensions/@jupyter-widgets/jupyterlab-manager/static/202.0336063976910618ce3f.js?v=0336063976910618ce3f",
        "type": "error"
       },
       "layout": "IPY_MODEL_ca63c9a77b974db28df0cc7dc3b50733",
       "msg": "Failed to load model class 'HBoxModel' from module '@jupyter-widgets/controls'"
      }
     },
     "4672fb7b324f40628c594710930be332": {
      "model_module": "@jupyter-widgets/controls",
      "model_module_version": "2.0.0",
      "model_name": "HTMLStyleModel",
      "state": {
       "_model_module": "@jupyter-widgets/controls",
       "_model_name": "HTMLStyleModel",
       "_view_name": "ErrorWidgetView",
       "background": null,
       "description_width": "",
       "error": {
        "message": "Loading chunk 495 failed.\n(error: http://192.168.3.2:9900/lab/extensions/@jupyter-widgets/jupyterlab-manager/static/495.3e275af54861cdeb3e75.js?v=3e275af54861cdeb3e75)",
        "name": "ChunkLoadError",
        "request": "http://192.168.3.2:9900/lab/extensions/@jupyter-widgets/jupyterlab-manager/static/495.3e275af54861cdeb3e75.js?v=3e275af54861cdeb3e75",
        "type": "error"
       },
       "font_size": null,
       "msg": "Failed to load model class 'HTMLStyleModel' from module '@jupyter-widgets/controls'",
       "text_color": null
      }
     },
     "469451bf85d54e228a60d2b9b532bdb9": {
      "model_module": "@jupyter-widgets/base",
      "model_module_version": "2.0.0",
      "model_name": "LayoutModel",
      "state": {}
     },
     "469ef810c1e64ac391600f6ef937db68": {
      "model_module": "@jupyter-widgets/controls",
      "model_module_version": "2.0.0",
      "model_name": "FloatProgressModel",
      "state": {
       "_model_module": "@jupyter-widgets/controls",
       "_model_name": "FloatProgressModel",
       "_view_name": "ErrorWidgetView",
       "bar_style": "success",
       "description": "",
       "description_allow_html": false,
       "error": {
        "message": "Loading chunk 202 failed.\n(error: http://192.168.3.2:9900/lab/extensions/@jupyter-widgets/jupyterlab-manager/static/202.0336063976910618ce3f.js?v=0336063976910618ce3f)",
        "name": "ChunkLoadError",
        "request": "http://192.168.3.2:9900/lab/extensions/@jupyter-widgets/jupyterlab-manager/static/202.0336063976910618ce3f.js?v=0336063976910618ce3f",
        "type": "error"
       },
       "layout": "IPY_MODEL_bd997e1a237a41ab89f3a0897a715bc3",
       "max": 1,
       "min": 0,
       "msg": "Failed to load model class 'FloatProgressModel' from module '@jupyter-widgets/controls'",
       "orientation": "horizontal",
       "style": "IPY_MODEL_cc7b35dc8d4748809ea2b838ebb0e8fb",
       "value": 1
      }
     },
     "4719c42f95254723a52d3dbf2e18c45c": {
      "model_module": "@jupyter-widgets/base",
      "model_module_version": "2.0.0",
      "model_name": "LayoutModel",
      "state": {}
     },
     "4744620ab193407b945e387afe9a6cc4": {
      "model_module": "@jupyter-widgets/controls",
      "model_module_version": "2.0.0",
      "model_name": "ProgressStyleModel",
      "state": {
       "_model_module": "@jupyter-widgets/controls",
       "_model_name": "ProgressStyleModel",
       "_view_name": "ErrorWidgetView",
       "bar_color": null,
       "description_width": "",
       "error": {
        "message": "Loading chunk 202 failed.\n(error: http://192.168.3.2:9900/lab/extensions/@jupyter-widgets/jupyterlab-manager/static/202.0336063976910618ce3f.js?v=0336063976910618ce3f)",
        "name": "ChunkLoadError",
        "request": "http://192.168.3.2:9900/lab/extensions/@jupyter-widgets/jupyterlab-manager/static/202.0336063976910618ce3f.js?v=0336063976910618ce3f",
        "type": "error"
       },
       "msg": "Failed to load model class 'ProgressStyleModel' from module '@jupyter-widgets/controls'"
      }
     },
     "47b503b8658c4821a0f61028a01e3d96": {
      "model_module": "@jupyter-widgets/base",
      "model_module_version": "2.0.0",
      "model_name": "LayoutModel",
      "state": {}
     },
     "47fe72ba5ce5453da515900b040497b3": {
      "model_module": "@jupyter-widgets/controls",
      "model_module_version": "2.0.0",
      "model_name": "HTMLStyleModel",
      "state": {
       "_model_module": "@jupyter-widgets/controls",
       "_model_name": "HTMLStyleModel",
       "_view_name": "ErrorWidgetView",
       "background": null,
       "description_width": "",
       "error": {
        "message": "Loading chunk 202 failed.\n(error: http://192.168.3.2:9900/lab/extensions/@jupyter-widgets/jupyterlab-manager/static/202.0336063976910618ce3f.js?v=0336063976910618ce3f)",
        "name": "ChunkLoadError",
        "request": "http://192.168.3.2:9900/lab/extensions/@jupyter-widgets/jupyterlab-manager/static/202.0336063976910618ce3f.js?v=0336063976910618ce3f",
        "type": "error"
       },
       "font_size": null,
       "msg": "Failed to load model class 'HTMLStyleModel' from module '@jupyter-widgets/controls'",
       "text_color": null
      }
     },
     "48798bd652e94895ab8f1bd83e3082e4": {
      "model_module": "@jupyter-widgets/base",
      "model_module_version": "2.0.0",
      "model_name": "LayoutModel",
      "state": {}
     },
     "48bff4db85c24e0295940ad314d2d0bd": {
      "model_module": "@jupyter-widgets/controls",
      "model_module_version": "2.0.0",
      "model_name": "HTMLStyleModel",
      "state": {
       "_model_module": "@jupyter-widgets/controls",
       "_model_name": "HTMLStyleModel",
       "_view_name": "ErrorWidgetView",
       "background": null,
       "description_width": "",
       "error": {
        "message": "Loading chunk 202 failed.\n(error: http://192.168.3.2:9900/lab/extensions/@jupyter-widgets/jupyterlab-manager/static/202.0336063976910618ce3f.js?v=0336063976910618ce3f)",
        "name": "ChunkLoadError",
        "request": "http://192.168.3.2:9900/lab/extensions/@jupyter-widgets/jupyterlab-manager/static/202.0336063976910618ce3f.js?v=0336063976910618ce3f",
        "type": "error"
       },
       "font_size": null,
       "msg": "Failed to load model class 'HTMLStyleModel' from module '@jupyter-widgets/controls'",
       "text_color": null
      }
     },
     "48ef6d06ae7c48fa873881fe0e2dbd83": {
      "model_module": "@jupyter-widgets/controls",
      "model_module_version": "2.0.0",
      "model_name": "HTMLModel",
      "state": {
       "_model_module": "@jupyter-widgets/controls",
       "_model_name": "HTMLModel",
       "_view_name": "ErrorWidgetView",
       "description": "",
       "description_allow_html": false,
       "error": {
        "message": "Loading chunk 495 failed.\n(error: http://192.168.3.2:9900/lab/extensions/@jupyter-widgets/jupyterlab-manager/static/495.3e275af54861cdeb3e75.js?v=3e275af54861cdeb3e75)",
        "name": "ChunkLoadError",
        "request": "http://192.168.3.2:9900/lab/extensions/@jupyter-widgets/jupyterlab-manager/static/495.3e275af54861cdeb3e75.js?v=3e275af54861cdeb3e75",
        "type": "error"
       },
       "layout": "IPY_MODEL_c4902a52a1904d7399dc2b59ceef8f3a",
       "msg": "Failed to load model class 'HTMLModel' from module '@jupyter-widgets/controls'",
       "placeholder": "​",
       "style": "IPY_MODEL_419b0a4641f740558dffeb208e2a975b",
       "value": " 1.04M/? [00:00&lt;00:00, 2.01MB/s]"
      }
     },
     "495aefc29ee64bbcb1b56c25c39b0553": {
      "model_module": "@jupyter-widgets/base",
      "model_module_version": "2.0.0",
      "model_name": "LayoutModel",
      "state": {}
     },
     "495e00f6d2ef4edcb5f1674e03abe503": {
      "model_module": "@jupyter-widgets/controls",
      "model_module_version": "2.0.0",
      "model_name": "ProgressStyleModel",
      "state": {
       "_model_module": "@jupyter-widgets/controls",
       "_model_name": "ProgressStyleModel",
       "_view_name": "ErrorWidgetView",
       "bar_color": null,
       "description_width": "",
       "error": {
        "message": "Loading chunk 202 failed.\n(error: http://192.168.3.2:9900/lab/extensions/@jupyter-widgets/jupyterlab-manager/static/202.0336063976910618ce3f.js?v=0336063976910618ce3f)",
        "name": "ChunkLoadError",
        "request": "http://192.168.3.2:9900/lab/extensions/@jupyter-widgets/jupyterlab-manager/static/202.0336063976910618ce3f.js?v=0336063976910618ce3f",
        "type": "error"
       },
       "msg": "Failed to load model class 'ProgressStyleModel' from module '@jupyter-widgets/controls'"
      }
     },
     "49677ce61bd840748d3431fd39abb18e": {
      "model_module": "@jupyter-widgets/controls",
      "model_module_version": "2.0.0",
      "model_name": "FloatProgressModel",
      "state": {
       "_model_module": "@jupyter-widgets/controls",
       "_model_name": "FloatProgressModel",
       "_view_name": "ErrorWidgetView",
       "bar_style": "success",
       "description": "",
       "description_allow_html": false,
       "error": {
        "message": "Loading chunk 495 failed.\n(error: http://192.168.3.2:9900/lab/extensions/@jupyter-widgets/jupyterlab-manager/static/495.3e275af54861cdeb3e75.js?v=3e275af54861cdeb3e75)",
        "name": "ChunkLoadError",
        "request": "http://192.168.3.2:9900/lab/extensions/@jupyter-widgets/jupyterlab-manager/static/495.3e275af54861cdeb3e75.js?v=3e275af54861cdeb3e75",
        "type": "error"
       },
       "layout": "IPY_MODEL_fe8252846ebc45b3a7b5222312c6033f",
       "max": 1,
       "min": 0,
       "msg": "Failed to load model class 'FloatProgressModel' from module '@jupyter-widgets/controls'",
       "orientation": "horizontal",
       "style": "IPY_MODEL_811d5265183e4534832563ddcc0abd0b",
       "value": 1
      }
     },
     "49b1ff229f3648eead0d85d69ed5c59e": {
      "model_module": "@jupyter-widgets/controls",
      "model_module_version": "2.0.0",
      "model_name": "HTMLModel",
      "state": {
       "_model_module": "@jupyter-widgets/controls",
       "_model_name": "HTMLModel",
       "_view_name": "ErrorWidgetView",
       "description": "",
       "description_allow_html": false,
       "error": {
        "message": "Loading chunk 202 failed.\n(error: http://192.168.3.2:9900/lab/extensions/@jupyter-widgets/jupyterlab-manager/static/202.0336063976910618ce3f.js?v=0336063976910618ce3f)",
        "name": "ChunkLoadError",
        "request": "http://192.168.3.2:9900/lab/extensions/@jupyter-widgets/jupyterlab-manager/static/202.0336063976910618ce3f.js?v=0336063976910618ce3f",
        "type": "error"
       },
       "layout": "IPY_MODEL_bafb5e0d370a44f18c8faba458a40324",
       "msg": "Failed to load model class 'HTMLModel' from module '@jupyter-widgets/controls'",
       "placeholder": "​",
       "style": "IPY_MODEL_e4784d6390e5470ea4be1fe26dbd5264",
       "value": "config.json: "
      }
     },
     "49eac5a28dc947a3bf2dc1f822f95259": {
      "model_module": "@jupyter-widgets/controls",
      "model_module_version": "2.0.0",
      "model_name": "HBoxModel",
      "state": {
       "_model_module": "@jupyter-widgets/controls",
       "_model_name": "HBoxModel",
       "_view_name": "ErrorWidgetView",
       "box_style": "",
       "children": [
        "IPY_MODEL_cf483f5f053b411385d31fb4f567b7a4",
        "IPY_MODEL_04aa4f94118c4dfaa9fcfd9276f94bf4",
        "IPY_MODEL_aa11a7b588414f6e88b3e037b578dea5"
       ],
       "error": {
        "message": "Loading chunk 202 failed.\n(error: http://192.168.3.2:9900/lab/extensions/@jupyter-widgets/jupyterlab-manager/static/202.0336063976910618ce3f.js?v=0336063976910618ce3f)",
        "name": "ChunkLoadError",
        "request": "http://192.168.3.2:9900/lab/extensions/@jupyter-widgets/jupyterlab-manager/static/202.0336063976910618ce3f.js?v=0336063976910618ce3f",
        "type": "error"
       },
       "layout": "IPY_MODEL_a9f93df36a7a41c3944bbfd7e479f540",
       "msg": "Failed to load model class 'HBoxModel' from module '@jupyter-widgets/controls'"
      }
     },
     "4a2f2667c52a4edcab8935de84181e60": {
      "model_module": "@jupyter-widgets/controls",
      "model_module_version": "2.0.0",
      "model_name": "HTMLStyleModel",
      "state": {
       "_model_module": "@jupyter-widgets/controls",
       "_model_name": "HTMLStyleModel",
       "_view_name": "ErrorWidgetView",
       "background": null,
       "description_width": "",
       "error": {
        "message": "Loading chunk 495 failed.\n(error: http://192.168.3.2:9900/lab/extensions/@jupyter-widgets/jupyterlab-manager/static/495.3e275af54861cdeb3e75.js?v=3e275af54861cdeb3e75)",
        "name": "ChunkLoadError",
        "request": "http://192.168.3.2:9900/lab/extensions/@jupyter-widgets/jupyterlab-manager/static/495.3e275af54861cdeb3e75.js?v=3e275af54861cdeb3e75",
        "type": "error"
       },
       "font_size": null,
       "msg": "Failed to load model class 'HTMLStyleModel' from module '@jupyter-widgets/controls'",
       "text_color": null
      }
     },
     "4a4cf32565634d4884506839c0a0ce8a": {
      "model_module": "@jupyter-widgets/controls",
      "model_module_version": "2.0.0",
      "model_name": "ProgressStyleModel",
      "state": {
       "_model_module": "@jupyter-widgets/controls",
       "_model_name": "ProgressStyleModel",
       "_view_name": "ErrorWidgetView",
       "bar_color": null,
       "description_width": "",
       "error": {
        "message": "Loading chunk 202 failed.\n(error: http://192.168.3.2:9900/lab/extensions/@jupyter-widgets/jupyterlab-manager/static/202.0336063976910618ce3f.js?v=0336063976910618ce3f)",
        "name": "ChunkLoadError",
        "request": "http://192.168.3.2:9900/lab/extensions/@jupyter-widgets/jupyterlab-manager/static/202.0336063976910618ce3f.js?v=0336063976910618ce3f",
        "type": "error"
       },
       "msg": "Failed to load model class 'ProgressStyleModel' from module '@jupyter-widgets/controls'"
      }
     },
     "4a7a7e3ccce445b0889bf7db84d67967": {
      "model_module": "@jupyter-widgets/controls",
      "model_module_version": "2.0.0",
      "model_name": "HBoxModel",
      "state": {
       "_model_module": "@jupyter-widgets/controls",
       "_model_name": "HBoxModel",
       "_view_name": "ErrorWidgetView",
       "box_style": "",
       "children": [
        "IPY_MODEL_8573ce24c44f4c4190591dc47aa63700",
        "IPY_MODEL_12a7924faedd41f08c8c00a6e0bf6124",
        "IPY_MODEL_f7d31243295a4b718605935a1d9e0842"
       ],
       "error": {
        "message": "Loading chunk 495 failed.\n(error: http://192.168.3.2:9900/lab/extensions/@jupyter-widgets/jupyterlab-manager/static/495.3e275af54861cdeb3e75.js?v=3e275af54861cdeb3e75)",
        "name": "ChunkLoadError",
        "request": "http://192.168.3.2:9900/lab/extensions/@jupyter-widgets/jupyterlab-manager/static/495.3e275af54861cdeb3e75.js?v=3e275af54861cdeb3e75",
        "type": "error"
       },
       "layout": "IPY_MODEL_cac829b919e841aab3570db0d4365914",
       "msg": "Failed to load model class 'HBoxModel' from module '@jupyter-widgets/controls'"
      }
     },
     "4a7c222ff95141469aee83a488ebceb6": {
      "model_module": "@jupyter-widgets/base",
      "model_module_version": "2.0.0",
      "model_name": "LayoutModel",
      "state": {}
     },
     "4a87f2c81be14149b7b56909936454b1": {
      "model_module": "@jupyter-widgets/controls",
      "model_module_version": "2.0.0",
      "model_name": "HTMLStyleModel",
      "state": {
       "_model_module": "@jupyter-widgets/controls",
       "_model_name": "HTMLStyleModel",
       "_view_name": "ErrorWidgetView",
       "background": null,
       "description_width": "",
       "error": {
        "message": "Loading chunk 495 failed.\n(error: http://192.168.3.2:9900/lab/extensions/@jupyter-widgets/jupyterlab-manager/static/495.3e275af54861cdeb3e75.js?v=3e275af54861cdeb3e75)",
        "name": "ChunkLoadError",
        "request": "http://192.168.3.2:9900/lab/extensions/@jupyter-widgets/jupyterlab-manager/static/495.3e275af54861cdeb3e75.js?v=3e275af54861cdeb3e75",
        "type": "error"
       },
       "font_size": null,
       "msg": "Failed to load model class 'HTMLStyleModel' from module '@jupyter-widgets/controls'",
       "text_color": null
      }
     },
     "4b0f7f13b4254624addd59ac4ce03d39": {
      "model_module": "@jupyter-widgets/base",
      "model_module_version": "2.0.0",
      "model_name": "LayoutModel",
      "state": {}
     },
     "4bb24f902a3b40819d8283cd18391375": {
      "model_module": "@jupyter-widgets/base",
      "model_module_version": "2.0.0",
      "model_name": "LayoutModel",
      "state": {}
     },
     "4c72411c74024107973e5f1bc209c4cb": {
      "model_module": "@jupyter-widgets/base",
      "model_module_version": "2.0.0",
      "model_name": "LayoutModel",
      "state": {
       "width": "20px"
      }
     },
     "4c9099fe005346e69f3b418429cf25b5": {
      "model_module": "@jupyter-widgets/base",
      "model_module_version": "2.0.0",
      "model_name": "LayoutModel",
      "state": {}
     },
     "4d1b33d563204fde8df15061cc171343": {
      "model_module": "@jupyter-widgets/controls",
      "model_module_version": "2.0.0",
      "model_name": "HTMLStyleModel",
      "state": {
       "_model_module": "@jupyter-widgets/controls",
       "_model_name": "HTMLStyleModel",
       "_view_name": "ErrorWidgetView",
       "background": null,
       "description_width": "",
       "error": {
        "message": "Loading chunk 495 failed.\n(error: http://192.168.3.2:9900/lab/extensions/@jupyter-widgets/jupyterlab-manager/static/495.3e275af54861cdeb3e75.js?v=3e275af54861cdeb3e75)",
        "name": "ChunkLoadError",
        "request": "http://192.168.3.2:9900/lab/extensions/@jupyter-widgets/jupyterlab-manager/static/495.3e275af54861cdeb3e75.js?v=3e275af54861cdeb3e75",
        "type": "error"
       },
       "font_size": null,
       "msg": "Failed to load model class 'HTMLStyleModel' from module '@jupyter-widgets/controls'",
       "text_color": null
      }
     },
     "4d2ee604069241c994af658da1dc11ad": {
      "model_module": "@jupyter-widgets/controls",
      "model_module_version": "2.0.0",
      "model_name": "ProgressStyleModel",
      "state": {
       "_model_module": "@jupyter-widgets/controls",
       "_model_name": "ProgressStyleModel",
       "_view_name": "ErrorWidgetView",
       "bar_color": null,
       "description_width": "",
       "error": {
        "message": "Loading chunk 495 failed.\n(error: http://192.168.3.2:9900/lab/extensions/@jupyter-widgets/jupyterlab-manager/static/495.3e275af54861cdeb3e75.js?v=3e275af54861cdeb3e75)",
        "name": "ChunkLoadError",
        "request": "http://192.168.3.2:9900/lab/extensions/@jupyter-widgets/jupyterlab-manager/static/495.3e275af54861cdeb3e75.js?v=3e275af54861cdeb3e75",
        "type": "error"
       },
       "msg": "Failed to load model class 'ProgressStyleModel' from module '@jupyter-widgets/controls'"
      }
     },
     "4d95b9d69c264ba68e16a5d24159bf34": {
      "model_module": "@jupyter-widgets/controls",
      "model_module_version": "2.0.0",
      "model_name": "FloatProgressModel",
      "state": {
       "_model_module": "@jupyter-widgets/controls",
       "_model_name": "FloatProgressModel",
       "_view_name": "ErrorWidgetView",
       "bar_style": "success",
       "description": "",
       "description_allow_html": false,
       "error": {
        "message": "Loading chunk 202 failed.\n(error: http://192.168.3.2:9900/lab/extensions/@jupyter-widgets/jupyterlab-manager/static/202.0336063976910618ce3f.js?v=0336063976910618ce3f)",
        "name": "ChunkLoadError",
        "request": "http://192.168.3.2:9900/lab/extensions/@jupyter-widgets/jupyterlab-manager/static/202.0336063976910618ce3f.js?v=0336063976910618ce3f",
        "type": "error"
       },
       "layout": "IPY_MODEL_528359e6ac9a4045a63856791aaf61cd",
       "max": 290,
       "min": 0,
       "msg": "Failed to load model class 'FloatProgressModel' from module '@jupyter-widgets/controls'",
       "orientation": "horizontal",
       "style": "IPY_MODEL_3d0e4ca88e124e3bac00f00fa77c5201",
       "value": 290
      }
     },
     "4de0091570f1495a9eda722682901f5c": {
      "model_module": "@jupyter-widgets/controls",
      "model_module_version": "2.0.0",
      "model_name": "HTMLStyleModel",
      "state": {
       "_model_module": "@jupyter-widgets/controls",
       "_model_name": "HTMLStyleModel",
       "_view_name": "ErrorWidgetView",
       "background": null,
       "description_width": "",
       "error": {
        "message": "Loading chunk 202 failed.\n(error: http://192.168.3.2:9900/lab/extensions/@jupyter-widgets/jupyterlab-manager/static/202.0336063976910618ce3f.js?v=0336063976910618ce3f)",
        "name": "ChunkLoadError",
        "request": "http://192.168.3.2:9900/lab/extensions/@jupyter-widgets/jupyterlab-manager/static/202.0336063976910618ce3f.js?v=0336063976910618ce3f",
        "type": "error"
       },
       "font_size": null,
       "msg": "Failed to load model class 'HTMLStyleModel' from module '@jupyter-widgets/controls'",
       "text_color": null
      }
     },
     "4dee6f089b2d4d3d87464332529b383b": {
      "model_module": "@jupyter-widgets/base",
      "model_module_version": "2.0.0",
      "model_name": "LayoutModel",
      "state": {}
     },
     "4e2c9e1412bd45ff8cc5595ae0c86d91": {
      "model_module": "@jupyter-widgets/controls",
      "model_module_version": "2.0.0",
      "model_name": "HTMLStyleModel",
      "state": {
       "_model_module": "@jupyter-widgets/controls",
       "_model_name": "HTMLStyleModel",
       "_view_name": "ErrorWidgetView",
       "background": null,
       "description_width": "",
       "error": {
        "message": "Loading chunk 202 failed.\n(error: http://192.168.3.2:9900/lab/extensions/@jupyter-widgets/jupyterlab-manager/static/202.0336063976910618ce3f.js?v=0336063976910618ce3f)",
        "name": "ChunkLoadError",
        "request": "http://192.168.3.2:9900/lab/extensions/@jupyter-widgets/jupyterlab-manager/static/202.0336063976910618ce3f.js?v=0336063976910618ce3f",
        "type": "error"
       },
       "font_size": null,
       "msg": "Failed to load model class 'HTMLStyleModel' from module '@jupyter-widgets/controls'",
       "text_color": null
      }
     },
     "4e4ef7b88ae8483983209eb25a371c9d": {
      "model_module": "@jupyter-widgets/controls",
      "model_module_version": "2.0.0",
      "model_name": "HTMLModel",
      "state": {
       "_model_module": "@jupyter-widgets/controls",
       "_model_name": "HTMLModel",
       "_view_name": "ErrorWidgetView",
       "description": "",
       "description_allow_html": false,
       "error": {
        "message": "Loading chunk 202 failed.\n(error: http://192.168.3.2:9900/lab/extensions/@jupyter-widgets/jupyterlab-manager/static/202.0336063976910618ce3f.js?v=0336063976910618ce3f)",
        "name": "ChunkLoadError",
        "request": "http://192.168.3.2:9900/lab/extensions/@jupyter-widgets/jupyterlab-manager/static/202.0336063976910618ce3f.js?v=0336063976910618ce3f",
        "type": "error"
       },
       "layout": "IPY_MODEL_9397b90af1194f8eb7d7d3e1ca8c4fd0",
       "msg": "Failed to load model class 'HTMLModel' from module '@jupyter-widgets/controls'",
       "placeholder": "​",
       "style": "IPY_MODEL_fc7e4a6d93da4928a8afaa1864c61cdd",
       "value": "added_tokens.json: "
      }
     },
     "4e5335cae8d3447f8eaa6ba153666a28": {
      "model_module": "@jupyter-widgets/base",
      "model_module_version": "2.0.0",
      "model_name": "LayoutModel",
      "state": {}
     },
     "4e59f6b60d874ab8886ffe4b55f4957d": {
      "model_module": "@jupyter-widgets/controls",
      "model_module_version": "2.0.0",
      "model_name": "HBoxModel",
      "state": {
       "_model_module": "@jupyter-widgets/controls",
       "_model_name": "HBoxModel",
       "_view_name": "ErrorWidgetView",
       "box_style": "",
       "children": [
        "IPY_MODEL_7ccf95c3db5042659f6ba666a8398fd7",
        "IPY_MODEL_583d6bf838e94d84a2dd14b6c7102e15",
        "IPY_MODEL_8d8ad71459704384963b0b36f650da83"
       ],
       "error": {
        "message": "Loading chunk 495 failed.\n(error: http://192.168.3.2:9900/lab/extensions/@jupyter-widgets/jupyterlab-manager/static/495.3e275af54861cdeb3e75.js?v=3e275af54861cdeb3e75)",
        "name": "ChunkLoadError",
        "request": "http://192.168.3.2:9900/lab/extensions/@jupyter-widgets/jupyterlab-manager/static/495.3e275af54861cdeb3e75.js?v=3e275af54861cdeb3e75",
        "type": "error"
       },
       "layout": "IPY_MODEL_c5fc12de55ca43108a3550e803edfc4b",
       "msg": "Failed to load model class 'HBoxModel' from module '@jupyter-widgets/controls'"
      }
     },
     "4f57a4f5e93a407b8bae41099b7b647c": {
      "model_module": "@jupyter-widgets/controls",
      "model_module_version": "2.0.0",
      "model_name": "HTMLModel",
      "state": {
       "_model_module": "@jupyter-widgets/controls",
       "_model_name": "HTMLModel",
       "_view_name": "ErrorWidgetView",
       "description": "",
       "description_allow_html": false,
       "error": {
        "message": "Loading chunk 495 failed.\n(error: http://192.168.3.2:9900/lab/extensions/@jupyter-widgets/jupyterlab-manager/static/495.3e275af54861cdeb3e75.js?v=3e275af54861cdeb3e75)",
        "name": "ChunkLoadError",
        "request": "http://192.168.3.2:9900/lab/extensions/@jupyter-widgets/jupyterlab-manager/static/495.3e275af54861cdeb3e75.js?v=3e275af54861cdeb3e75",
        "type": "error"
       },
       "layout": "IPY_MODEL_f6a785c64e394c1890455789461ec1bb",
       "msg": "Failed to load model class 'HTMLModel' from module '@jupyter-widgets/controls'",
       "placeholder": "​",
       "style": "IPY_MODEL_8230a8ad07c94e32bb4565aa431a8f88",
       "value": "model.safetensors: 100%"
      }
     },
     "4fbb098a95104b57b58d21078f3091e4": {
      "model_module": "@jupyter-widgets/base",
      "model_module_version": "2.0.0",
      "model_name": "LayoutModel",
      "state": {}
     },
     "50530e45677149baa0b6ae38e63637c2": {
      "model_module": "@jupyter-widgets/controls",
      "model_module_version": "2.0.0",
      "model_name": "ProgressStyleModel",
      "state": {
       "_model_module": "@jupyter-widgets/controls",
       "_model_name": "ProgressStyleModel",
       "_view_name": "ErrorWidgetView",
       "bar_color": null,
       "description_width": "",
       "error": {
        "message": "Loading chunk 495 failed.\n(error: http://192.168.3.2:9900/lab/extensions/@jupyter-widgets/jupyterlab-manager/static/495.3e275af54861cdeb3e75.js?v=3e275af54861cdeb3e75)",
        "name": "ChunkLoadError",
        "request": "http://192.168.3.2:9900/lab/extensions/@jupyter-widgets/jupyterlab-manager/static/495.3e275af54861cdeb3e75.js?v=3e275af54861cdeb3e75",
        "type": "error"
       },
       "msg": "Failed to load model class 'ProgressStyleModel' from module '@jupyter-widgets/controls'"
      }
     },
     "507022910b6b4a358d1e8e8985671648": {
      "model_module": "@jupyter-widgets/controls",
      "model_module_version": "2.0.0",
      "model_name": "HTMLModel",
      "state": {
       "_model_module": "@jupyter-widgets/controls",
       "_model_name": "HTMLModel",
       "_view_name": "ErrorWidgetView",
       "description": "",
       "description_allow_html": false,
       "error": {
        "message": "Loading chunk 202 failed.\n(error: http://192.168.3.2:9900/lab/extensions/@jupyter-widgets/jupyterlab-manager/static/202.0336063976910618ce3f.js?v=0336063976910618ce3f)",
        "name": "ChunkLoadError",
        "request": "http://192.168.3.2:9900/lab/extensions/@jupyter-widgets/jupyterlab-manager/static/202.0336063976910618ce3f.js?v=0336063976910618ce3f",
        "type": "error"
       },
       "layout": "IPY_MODEL_70f1f409e6a5480cbb5eeca04e00ce08",
       "msg": "Failed to load model class 'HTMLModel' from module '@jupyter-widgets/controls'",
       "placeholder": "​",
       "style": "IPY_MODEL_63ac024d736049e893195b9506841bb1",
       "value": "tokenizer_config.json: 100%"
      }
     },
     "50b36646162349c2b1efcf6295084c4a": {
      "model_module": "@jupyter-widgets/controls",
      "model_module_version": "2.0.0",
      "model_name": "ProgressStyleModel",
      "state": {
       "_model_module": "@jupyter-widgets/controls",
       "_model_name": "ProgressStyleModel",
       "_view_name": "ErrorWidgetView",
       "bar_color": null,
       "description_width": "",
       "error": {
        "message": "Loading chunk 202 failed.\n(error: http://192.168.3.2:9900/lab/extensions/@jupyter-widgets/jupyterlab-manager/static/202.0336063976910618ce3f.js?v=0336063976910618ce3f)",
        "name": "ChunkLoadError",
        "request": "http://192.168.3.2:9900/lab/extensions/@jupyter-widgets/jupyterlab-manager/static/202.0336063976910618ce3f.js?v=0336063976910618ce3f",
        "type": "error"
       },
       "msg": "Failed to load model class 'ProgressStyleModel' from module '@jupyter-widgets/controls'"
      }
     },
     "51e9ed16e90045139ede38da0e529609": {
      "model_module": "@jupyter-widgets/controls",
      "model_module_version": "2.0.0",
      "model_name": "FloatProgressModel",
      "state": {
       "_model_module": "@jupyter-widgets/controls",
       "_model_name": "FloatProgressModel",
       "_view_name": "ErrorWidgetView",
       "bar_style": "success",
       "description": "",
       "description_allow_html": false,
       "error": {
        "message": "Loading chunk 495 failed.\n(error: http://192.168.3.2:9900/lab/extensions/@jupyter-widgets/jupyterlab-manager/static/495.3e275af54861cdeb3e75.js?v=3e275af54861cdeb3e75)",
        "name": "ChunkLoadError",
        "request": "http://192.168.3.2:9900/lab/extensions/@jupyter-widgets/jupyterlab-manager/static/495.3e275af54861cdeb3e75.js?v=3e275af54861cdeb3e75",
        "type": "error"
       },
       "layout": "IPY_MODEL_ace473a975e445fcbdb26a16eba46db3",
       "max": 1,
       "min": 0,
       "msg": "Failed to load model class 'FloatProgressModel' from module '@jupyter-widgets/controls'",
       "orientation": "horizontal",
       "style": "IPY_MODEL_016cb28472444f6183e26946f8436ab9",
       "value": 1
      }
     },
     "52349421c66a41e485c161696ec02a54": {
      "model_module": "@jupyter-widgets/controls",
      "model_module_version": "2.0.0",
      "model_name": "FloatProgressModel",
      "state": {
       "_model_module": "@jupyter-widgets/controls",
       "_model_name": "FloatProgressModel",
       "_view_name": "ErrorWidgetView",
       "bar_style": "success",
       "description": "",
       "description_allow_html": false,
       "error": {
        "message": "Loading chunk 495 failed.\n(error: http://192.168.3.2:9900/lab/extensions/@jupyter-widgets/jupyterlab-manager/static/495.3e275af54861cdeb3e75.js?v=3e275af54861cdeb3e75)",
        "name": "ChunkLoadError",
        "request": "http://192.168.3.2:9900/lab/extensions/@jupyter-widgets/jupyterlab-manager/static/495.3e275af54861cdeb3e75.js?v=3e275af54861cdeb3e75",
        "type": "error"
       },
       "layout": "IPY_MODEL_90c7356016914c9a83d8b7483f718e44",
       "max": 1,
       "min": 0,
       "msg": "Failed to load model class 'FloatProgressModel' from module '@jupyter-widgets/controls'",
       "orientation": "horizontal",
       "style": "IPY_MODEL_27f99c2ae4c74557b11d9a5598d9607a",
       "value": 1
      }
     },
     "5249ce68ef3445209c59f1052be2b437": {
      "model_module": "@jupyter-widgets/base",
      "model_module_version": "2.0.0",
      "model_name": "LayoutModel",
      "state": {}
     },
     "524d2ac0f0684bcbb5d4ef0bdd6497c4": {
      "model_module": "@jupyter-widgets/controls",
      "model_module_version": "2.0.0",
      "model_name": "HTMLStyleModel",
      "state": {
       "_model_module": "@jupyter-widgets/controls",
       "_model_name": "HTMLStyleModel",
       "_view_name": "ErrorWidgetView",
       "background": null,
       "description_width": "",
       "error": {
        "message": "Loading chunk 202 failed.\n(error: http://192.168.3.2:9900/lab/extensions/@jupyter-widgets/jupyterlab-manager/static/202.0336063976910618ce3f.js?v=0336063976910618ce3f)",
        "name": "ChunkLoadError",
        "request": "http://192.168.3.2:9900/lab/extensions/@jupyter-widgets/jupyterlab-manager/static/202.0336063976910618ce3f.js?v=0336063976910618ce3f",
        "type": "error"
       },
       "font_size": null,
       "msg": "Failed to load model class 'HTMLStyleModel' from module '@jupyter-widgets/controls'",
       "text_color": null
      }
     },
     "528359e6ac9a4045a63856791aaf61cd": {
      "model_module": "@jupyter-widgets/base",
      "model_module_version": "2.0.0",
      "model_name": "LayoutModel",
      "state": {}
     },
     "529b0148ca6941e4a8375f8513e716a7": {
      "model_module": "@jupyter-widgets/controls",
      "model_module_version": "2.0.0",
      "model_name": "FloatProgressModel",
      "state": {
       "_model_module": "@jupyter-widgets/controls",
       "_model_name": "FloatProgressModel",
       "_view_name": "ErrorWidgetView",
       "bar_style": "success",
       "description": "",
       "description_allow_html": false,
       "error": {
        "message": "Loading chunk 495 failed.\n(error: http://192.168.3.2:9900/lab/extensions/@jupyter-widgets/jupyterlab-manager/static/495.3e275af54861cdeb3e75.js?v=3e275af54861cdeb3e75)",
        "name": "ChunkLoadError",
        "request": "http://192.168.3.2:9900/lab/extensions/@jupyter-widgets/jupyterlab-manager/static/495.3e275af54861cdeb3e75.js?v=3e275af54861cdeb3e75",
        "type": "error"
       },
       "layout": "IPY_MODEL_1a41a07650c649cdaaf1f43f968250ed",
       "max": 1,
       "min": 0,
       "msg": "Failed to load model class 'FloatProgressModel' from module '@jupyter-widgets/controls'",
       "orientation": "horizontal",
       "style": "IPY_MODEL_1c46c71531bd46bdb7dbea45372544a3",
       "value": 1
      }
     },
     "52eb5c77a0b04b83a329261bd223626b": {
      "model_module": "@jupyter-widgets/base",
      "model_module_version": "2.0.0",
      "model_name": "LayoutModel",
      "state": {}
     },
     "53ce00a6a58e41e1949132d64f74a235": {
      "model_module": "@jupyter-widgets/controls",
      "model_module_version": "2.0.0",
      "model_name": "HTMLModel",
      "state": {
       "_model_module": "@jupyter-widgets/controls",
       "_model_name": "HTMLModel",
       "_view_name": "ErrorWidgetView",
       "description": "",
       "description_allow_html": false,
       "error": {
        "message": "Loading chunk 202 failed.\n(error: http://192.168.3.2:9900/lab/extensions/@jupyter-widgets/jupyterlab-manager/static/202.0336063976910618ce3f.js?v=0336063976910618ce3f)",
        "name": "ChunkLoadError",
        "request": "http://192.168.3.2:9900/lab/extensions/@jupyter-widgets/jupyterlab-manager/static/202.0336063976910618ce3f.js?v=0336063976910618ce3f",
        "type": "error"
       },
       "layout": "IPY_MODEL_319a1bd77a0e42c6be0b291f8070cf12",
       "msg": "Failed to load model class 'HTMLModel' from module '@jupyter-widgets/controls'",
       "placeholder": "​",
       "style": "IPY_MODEL_798a4ee0067d4641a2805a47cf6e0d21",
       "value": " 1.20k/? [00:00&lt;00:00, 72.2kB/s]"
      }
     },
     "53ee660b776a4788a912190ff000ec96": {
      "model_module": "@jupyter-widgets/base",
      "model_module_version": "2.0.0",
      "model_name": "LayoutModel",
      "state": {}
     },
     "5445003012be48b5a9042d3f75e83256": {
      "model_module": "@jupyter-widgets/controls",
      "model_module_version": "2.0.0",
      "model_name": "HTMLModel",
      "state": {
       "_model_module": "@jupyter-widgets/controls",
       "_model_name": "HTMLModel",
       "_view_name": "ErrorWidgetView",
       "description": "",
       "description_allow_html": false,
       "error": {
        "message": "Loading chunk 495 failed.\n(error: http://192.168.3.2:9900/lab/extensions/@jupyter-widgets/jupyterlab-manager/static/495.3e275af54861cdeb3e75.js?v=3e275af54861cdeb3e75)",
        "name": "ChunkLoadError",
        "request": "http://192.168.3.2:9900/lab/extensions/@jupyter-widgets/jupyterlab-manager/static/495.3e275af54861cdeb3e75.js?v=3e275af54861cdeb3e75",
        "type": "error"
       },
       "layout": "IPY_MODEL_9c5024db1f0b400081359e476d271028",
       "msg": "Failed to load model class 'HTMLModel' from module '@jupyter-widgets/controls'",
       "placeholder": "​",
       "style": "IPY_MODEL_9f093135e5b345c0ae577d5702233089",
       "value": "tokenizer_config.json: "
      }
     },
     "54517d6952484313b6e98e1ef0a0c07a": {
      "model_module": "@jupyter-widgets/controls",
      "model_module_version": "2.0.0",
      "model_name": "HTMLModel",
      "state": {
       "_model_module": "@jupyter-widgets/controls",
       "_model_name": "HTMLModel",
       "_view_name": "ErrorWidgetView",
       "description": "",
       "description_allow_html": false,
       "error": {
        "message": "Loading chunk 495 failed.\n(error: http://192.168.3.2:9900/lab/extensions/@jupyter-widgets/jupyterlab-manager/static/495.3e275af54861cdeb3e75.js?v=3e275af54861cdeb3e75)",
        "name": "ChunkLoadError",
        "request": "http://192.168.3.2:9900/lab/extensions/@jupyter-widgets/jupyterlab-manager/static/495.3e275af54861cdeb3e75.js?v=3e275af54861cdeb3e75",
        "type": "error"
       },
       "layout": "IPY_MODEL_59ebb30e592a47d78788fff42689e31e",
       "msg": "Failed to load model class 'HTMLModel' from module '@jupyter-widgets/controls'",
       "placeholder": "​",
       "style": "IPY_MODEL_db1f7060eae0410085279d4b839cbe5e",
       "value": " 665/? [00:00&lt;00:00, 41.2kB/s]"
      }
     },
     "54784d4b650549938a3d8979de30a2ed": {
      "model_module": "@jupyter-widgets/base",
      "model_module_version": "2.0.0",
      "model_name": "LayoutModel",
      "state": {}
     },
     "547f699c80ea4503b9637028777decbc": {
      "model_module": "@jupyter-widgets/base",
      "model_module_version": "2.0.0",
      "model_name": "LayoutModel",
      "state": {}
     },
     "548c07249eb9401a98c49b04cab9e81a": {
      "model_module": "@jupyter-widgets/base",
      "model_module_version": "2.0.0",
      "model_name": "LayoutModel",
      "state": {}
     },
     "54a6e264572b496893af78ede23f092e": {
      "model_module": "@jupyter-widgets/controls",
      "model_module_version": "2.0.0",
      "model_name": "HTMLStyleModel",
      "state": {
       "_model_module": "@jupyter-widgets/controls",
       "_model_name": "HTMLStyleModel",
       "_view_name": "ErrorWidgetView",
       "background": null,
       "description_width": "",
       "error": {
        "message": "Loading chunk 202 failed.\n(error: http://192.168.3.2:9900/lab/extensions/@jupyter-widgets/jupyterlab-manager/static/202.0336063976910618ce3f.js?v=0336063976910618ce3f)",
        "name": "ChunkLoadError",
        "request": "http://192.168.3.2:9900/lab/extensions/@jupyter-widgets/jupyterlab-manager/static/202.0336063976910618ce3f.js?v=0336063976910618ce3f",
        "type": "error"
       },
       "font_size": null,
       "msg": "Failed to load model class 'HTMLStyleModel' from module '@jupyter-widgets/controls'",
       "text_color": null
      }
     },
     "54ab5e51e3064b81b1990b4d5e958f71": {
      "model_module": "@jupyter-widgets/controls",
      "model_module_version": "2.0.0",
      "model_name": "HTMLStyleModel",
      "state": {
       "_model_module": "@jupyter-widgets/controls",
       "_model_name": "HTMLStyleModel",
       "_view_name": "ErrorWidgetView",
       "background": null,
       "description_width": "",
       "error": {
        "message": "Loading chunk 495 failed.\n(error: http://192.168.3.2:9900/lab/extensions/@jupyter-widgets/jupyterlab-manager/static/495.3e275af54861cdeb3e75.js?v=3e275af54861cdeb3e75)",
        "name": "ChunkLoadError",
        "request": "http://192.168.3.2:9900/lab/extensions/@jupyter-widgets/jupyterlab-manager/static/495.3e275af54861cdeb3e75.js?v=3e275af54861cdeb3e75",
        "type": "error"
       },
       "font_size": null,
       "msg": "Failed to load model class 'HTMLStyleModel' from module '@jupyter-widgets/controls'",
       "text_color": null
      }
     },
     "54b04ab32fe341e2ac231ca81c2301da": {
      "model_module": "@jupyter-widgets/base",
      "model_module_version": "2.0.0",
      "model_name": "LayoutModel",
      "state": {}
     },
     "54ef6fcb244c49c1b5fb4b64e7e4b783": {
      "model_module": "@jupyter-widgets/base",
      "model_module_version": "2.0.0",
      "model_name": "LayoutModel",
      "state": {}
     },
     "54fdbd28b0ff4d8592b780b431c7d49c": {
      "model_module": "@jupyter-widgets/controls",
      "model_module_version": "2.0.0",
      "model_name": "HTMLStyleModel",
      "state": {
       "_model_module": "@jupyter-widgets/controls",
       "_model_name": "HTMLStyleModel",
       "_view_name": "ErrorWidgetView",
       "background": null,
       "description_width": "",
       "error": {
        "message": "Loading chunk 202 failed.\n(error: http://192.168.3.2:9900/lab/extensions/@jupyter-widgets/jupyterlab-manager/static/202.0336063976910618ce3f.js?v=0336063976910618ce3f)",
        "name": "ChunkLoadError",
        "request": "http://192.168.3.2:9900/lab/extensions/@jupyter-widgets/jupyterlab-manager/static/202.0336063976910618ce3f.js?v=0336063976910618ce3f",
        "type": "error"
       },
       "font_size": null,
       "msg": "Failed to load model class 'HTMLStyleModel' from module '@jupyter-widgets/controls'",
       "text_color": null
      }
     },
     "5523927007134b61bc200ffd738adf65": {
      "model_module": "@jupyter-widgets/controls",
      "model_module_version": "2.0.0",
      "model_name": "ProgressStyleModel",
      "state": {
       "_model_module": "@jupyter-widgets/controls",
       "_model_name": "ProgressStyleModel",
       "_view_name": "ErrorWidgetView",
       "bar_color": null,
       "description_width": "",
       "error": {
        "message": "Loading chunk 495 failed.\n(error: http://192.168.3.2:9900/lab/extensions/@jupyter-widgets/jupyterlab-manager/static/495.3e275af54861cdeb3e75.js?v=3e275af54861cdeb3e75)",
        "name": "ChunkLoadError",
        "request": "http://192.168.3.2:9900/lab/extensions/@jupyter-widgets/jupyterlab-manager/static/495.3e275af54861cdeb3e75.js?v=3e275af54861cdeb3e75",
        "type": "error"
       },
       "msg": "Failed to load model class 'ProgressStyleModel' from module '@jupyter-widgets/controls'"
      }
     },
     "563af5dd049a4897823d8b27cdb936e9": {
      "model_module": "@jupyter-widgets/controls",
      "model_module_version": "2.0.0",
      "model_name": "HTMLStyleModel",
      "state": {
       "_model_module": "@jupyter-widgets/controls",
       "_model_name": "HTMLStyleModel",
       "_view_name": "ErrorWidgetView",
       "background": null,
       "description_width": "",
       "error": {
        "message": "Loading chunk 202 failed.\n(error: http://192.168.3.2:9900/lab/extensions/@jupyter-widgets/jupyterlab-manager/static/202.0336063976910618ce3f.js?v=0336063976910618ce3f)",
        "name": "ChunkLoadError",
        "request": "http://192.168.3.2:9900/lab/extensions/@jupyter-widgets/jupyterlab-manager/static/202.0336063976910618ce3f.js?v=0336063976910618ce3f",
        "type": "error"
       },
       "font_size": null,
       "msg": "Failed to load model class 'HTMLStyleModel' from module '@jupyter-widgets/controls'",
       "text_color": null
      }
     },
     "56d472709ea74018b15ff7630d6a2e21": {
      "model_module": "@jupyter-widgets/controls",
      "model_module_version": "2.0.0",
      "model_name": "HTMLStyleModel",
      "state": {
       "_model_module": "@jupyter-widgets/controls",
       "_model_name": "HTMLStyleModel",
       "_view_name": "ErrorWidgetView",
       "background": null,
       "description_width": "",
       "error": {
        "message": "Loading chunk 202 failed.\n(error: http://192.168.3.2:9900/lab/extensions/@jupyter-widgets/jupyterlab-manager/static/202.0336063976910618ce3f.js?v=0336063976910618ce3f)",
        "name": "ChunkLoadError",
        "request": "http://192.168.3.2:9900/lab/extensions/@jupyter-widgets/jupyterlab-manager/static/202.0336063976910618ce3f.js?v=0336063976910618ce3f",
        "type": "error"
       },
       "font_size": null,
       "msg": "Failed to load model class 'HTMLStyleModel' from module '@jupyter-widgets/controls'",
       "text_color": null
      }
     },
     "57fcebd89dd340bf968030d1d6948a32": {
      "model_module": "@jupyter-widgets/base",
      "model_module_version": "2.0.0",
      "model_name": "LayoutModel",
      "state": {}
     },
     "581547ebc03d4fd38f95d674f118f5b9": {
      "model_module": "@jupyter-widgets/base",
      "model_module_version": "2.0.0",
      "model_name": "LayoutModel",
      "state": {}
     },
     "583d6bf838e94d84a2dd14b6c7102e15": {
      "model_module": "@jupyter-widgets/controls",
      "model_module_version": "2.0.0",
      "model_name": "FloatProgressModel",
      "state": {
       "_model_module": "@jupyter-widgets/controls",
       "_model_name": "FloatProgressModel",
       "_view_name": "ErrorWidgetView",
       "bar_style": "success",
       "description": "",
       "description_allow_html": false,
       "error": {
        "message": "Loading chunk 495 failed.\n(error: http://192.168.3.2:9900/lab/extensions/@jupyter-widgets/jupyterlab-manager/static/495.3e275af54861cdeb3e75.js?v=3e275af54861cdeb3e75)",
        "name": "ChunkLoadError",
        "request": "http://192.168.3.2:9900/lab/extensions/@jupyter-widgets/jupyterlab-manager/static/495.3e275af54861cdeb3e75.js?v=3e275af54861cdeb3e75",
        "type": "error"
       },
       "layout": "IPY_MODEL_fae694f3215a45f8a8ebea4080bd2a2b",
       "max": 147,
       "min": 0,
       "msg": "Failed to load model class 'FloatProgressModel' from module '@jupyter-widgets/controls'",
       "orientation": "horizontal",
       "style": "IPY_MODEL_35e6ded7d7fa42b4862dc33bc75c2a58",
       "value": 147
      }
     },
     "586d2d25f2b7486caa08c276378ccabc": {
      "model_module": "@jupyter-widgets/controls",
      "model_module_version": "2.0.0",
      "model_name": "FloatProgressModel",
      "state": {
       "_model_module": "@jupyter-widgets/controls",
       "_model_name": "FloatProgressModel",
       "_view_name": "ErrorWidgetView",
       "bar_style": "success",
       "description": "",
       "description_allow_html": false,
       "error": {
        "message": "Loading chunk 202 failed.\n(error: http://192.168.3.2:9900/lab/extensions/@jupyter-widgets/jupyterlab-manager/static/202.0336063976910618ce3f.js?v=0336063976910618ce3f)",
        "name": "ChunkLoadError",
        "request": "http://192.168.3.2:9900/lab/extensions/@jupyter-widgets/jupyterlab-manager/static/202.0336063976910618ce3f.js?v=0336063976910618ce3f",
        "type": "error"
       },
       "layout": "IPY_MODEL_cc76817da30445cc89b862eeecfc0a2d",
       "max": 256,
       "min": 0,
       "msg": "Failed to load model class 'FloatProgressModel' from module '@jupyter-widgets/controls'",
       "orientation": "horizontal",
       "style": "IPY_MODEL_c2a1dc1ee9da4591b9b6e368af0b166b",
       "value": 256
      }
     },
     "587778943daa454d95a629b4436940fc": {
      "model_module": "@jupyter-widgets/base",
      "model_module_version": "2.0.0",
      "model_name": "LayoutModel",
      "state": {}
     },
     "58a9446d2245466e8fa904374063c96c": {
      "model_module": "@jupyter-widgets/controls",
      "model_module_version": "2.0.0",
      "model_name": "HTMLStyleModel",
      "state": {
       "_model_module": "@jupyter-widgets/controls",
       "_model_name": "HTMLStyleModel",
       "_view_name": "ErrorWidgetView",
       "background": null,
       "description_width": "",
       "error": {
        "message": "Loading chunk 202 failed.\n(error: http://192.168.3.2:9900/lab/extensions/@jupyter-widgets/jupyterlab-manager/static/202.0336063976910618ce3f.js?v=0336063976910618ce3f)",
        "name": "ChunkLoadError",
        "request": "http://192.168.3.2:9900/lab/extensions/@jupyter-widgets/jupyterlab-manager/static/202.0336063976910618ce3f.js?v=0336063976910618ce3f",
        "type": "error"
       },
       "font_size": null,
       "msg": "Failed to load model class 'HTMLStyleModel' from module '@jupyter-widgets/controls'",
       "text_color": null
      }
     },
     "58cb2f5bc4324c1e8b0200c1d9644ef1": {
      "model_module": "@jupyter-widgets/controls",
      "model_module_version": "2.0.0",
      "model_name": "HTMLStyleModel",
      "state": {
       "_model_module": "@jupyter-widgets/controls",
       "_model_name": "HTMLStyleModel",
       "_view_name": "ErrorWidgetView",
       "background": null,
       "description_width": "",
       "error": {
        "message": "Loading chunk 495 failed.\n(error: http://192.168.3.2:9900/lab/extensions/@jupyter-widgets/jupyterlab-manager/static/495.3e275af54861cdeb3e75.js?v=3e275af54861cdeb3e75)",
        "name": "ChunkLoadError",
        "request": "http://192.168.3.2:9900/lab/extensions/@jupyter-widgets/jupyterlab-manager/static/495.3e275af54861cdeb3e75.js?v=3e275af54861cdeb3e75",
        "type": "error"
       },
       "font_size": null,
       "msg": "Failed to load model class 'HTMLStyleModel' from module '@jupyter-widgets/controls'",
       "text_color": null
      }
     },
     "58d0d61f48c14c03ab1b7db0dbc13429": {
      "model_module": "@jupyter-widgets/controls",
      "model_module_version": "2.0.0",
      "model_name": "HTMLModel",
      "state": {
       "_model_module": "@jupyter-widgets/controls",
       "_model_name": "HTMLModel",
       "_view_name": "ErrorWidgetView",
       "description": "",
       "description_allow_html": false,
       "error": {
        "message": "Loading chunk 495 failed.\n(error: http://192.168.3.2:9900/lab/extensions/@jupyter-widgets/jupyterlab-manager/static/495.3e275af54861cdeb3e75.js?v=3e275af54861cdeb3e75)",
        "name": "ChunkLoadError",
        "request": "http://192.168.3.2:9900/lab/extensions/@jupyter-widgets/jupyterlab-manager/static/495.3e275af54861cdeb3e75.js?v=3e275af54861cdeb3e75",
        "type": "error"
       },
       "layout": "IPY_MODEL_a04168b6e88a41e7b0f1521437a1bed4",
       "msg": "Failed to load model class 'HTMLModel' from module '@jupyter-widgets/controls'",
       "placeholder": "​",
       "style": "IPY_MODEL_3a8c61c2d95148d0af81d2bc10bd0e32",
       "value": "model.safetensors: 100%"
      }
     },
     "5992f799715344518672980fada1f466": {
      "model_module": "@jupyter-widgets/controls",
      "model_module_version": "2.0.0",
      "model_name": "HTMLModel",
      "state": {
       "_model_module": "@jupyter-widgets/controls",
       "_model_name": "HTMLModel",
       "_view_name": "ErrorWidgetView",
       "description": "",
       "description_allow_html": false,
       "error": {
        "message": "Loading chunk 495 failed.\n(error: http://192.168.3.2:9900/lab/extensions/@jupyter-widgets/jupyterlab-manager/static/495.3e275af54861cdeb3e75.js?v=3e275af54861cdeb3e75)",
        "name": "ChunkLoadError",
        "request": "http://192.168.3.2:9900/lab/extensions/@jupyter-widgets/jupyterlab-manager/static/495.3e275af54861cdeb3e75.js?v=3e275af54861cdeb3e75",
        "type": "error"
       },
       "layout": "IPY_MODEL_84918e78fb9c4a27b665f993da400447",
       "msg": "Failed to load model class 'HTMLModel' from module '@jupyter-widgets/controls'",
       "placeholder": "​",
       "style": "IPY_MODEL_5d75722b81b442d6b6ee408b6974d80e",
       "value": " 239/239 [00:00&lt;00:00, 15.7kB/s]"
      }
     },
     "59c0839d65b94a599a4444e65652d89e": {
      "model_module": "@jupyter-widgets/controls",
      "model_module_version": "2.0.0",
      "model_name": "FloatProgressModel",
      "state": {
       "_model_module": "@jupyter-widgets/controls",
       "_model_name": "FloatProgressModel",
       "_view_name": "ErrorWidgetView",
       "bar_style": "success",
       "description": "",
       "description_allow_html": false,
       "error": {
        "message": "Loading chunk 495 failed.\n(error: http://192.168.3.2:9900/lab/extensions/@jupyter-widgets/jupyterlab-manager/static/495.3e275af54861cdeb3e75.js?v=3e275af54861cdeb3e75)",
        "name": "ChunkLoadError",
        "request": "http://192.168.3.2:9900/lab/extensions/@jupyter-widgets/jupyterlab-manager/static/495.3e275af54861cdeb3e75.js?v=3e275af54861cdeb3e75",
        "type": "error"
       },
       "layout": "IPY_MODEL_8a5dc8f604584a90bca8d27b3d228c73",
       "max": 160,
       "min": 0,
       "msg": "Failed to load model class 'FloatProgressModel' from module '@jupyter-widgets/controls'",
       "orientation": "horizontal",
       "style": "IPY_MODEL_a8302c9c30154df79051850d09bbbf78",
       "value": 160
      }
     },
     "59ebb30e592a47d78788fff42689e31e": {
      "model_module": "@jupyter-widgets/base",
      "model_module_version": "2.0.0",
      "model_name": "LayoutModel",
      "state": {}
     },
     "59f7749ab5394e2592ad2d4ed5aae953": {
      "model_module": "@jupyter-widgets/controls",
      "model_module_version": "2.0.0",
      "model_name": "HTMLStyleModel",
      "state": {
       "_model_module": "@jupyter-widgets/controls",
       "_model_name": "HTMLStyleModel",
       "_view_name": "ErrorWidgetView",
       "background": null,
       "description_width": "",
       "error": {
        "message": "Loading chunk 202 failed.\n(error: http://192.168.3.2:9900/lab/extensions/@jupyter-widgets/jupyterlab-manager/static/202.0336063976910618ce3f.js?v=0336063976910618ce3f)",
        "name": "ChunkLoadError",
        "request": "http://192.168.3.2:9900/lab/extensions/@jupyter-widgets/jupyterlab-manager/static/202.0336063976910618ce3f.js?v=0336063976910618ce3f",
        "type": "error"
       },
       "font_size": null,
       "msg": "Failed to load model class 'HTMLStyleModel' from module '@jupyter-widgets/controls'",
       "text_color": null
      }
     },
     "5a3c589631a94d30889960247b46dbd4": {
      "model_module": "@jupyter-widgets/controls",
      "model_module_version": "2.0.0",
      "model_name": "HTMLModel",
      "state": {
       "_model_module": "@jupyter-widgets/controls",
       "_model_name": "HTMLModel",
       "_view_name": "ErrorWidgetView",
       "description": "",
       "description_allow_html": false,
       "error": {
        "message": "Loading chunk 495 failed.\n(error: http://192.168.3.2:9900/lab/extensions/@jupyter-widgets/jupyterlab-manager/static/495.3e275af54861cdeb3e75.js?v=3e275af54861cdeb3e75)",
        "name": "ChunkLoadError",
        "request": "http://192.168.3.2:9900/lab/extensions/@jupyter-widgets/jupyterlab-manager/static/495.3e275af54861cdeb3e75.js?v=3e275af54861cdeb3e75",
        "type": "error"
       },
       "layout": "IPY_MODEL_8df5324ef0a44e48ab709ab366b62608",
       "msg": "Failed to load model class 'HTMLModel' from module '@jupyter-widgets/controls'",
       "placeholder": "​",
       "style": "IPY_MODEL_6a541a05f7fe457093a77158836d014f",
       "value": " 1.39M/? [00:01&lt;00:00, 996kB/s]"
      }
     },
     "5a694fc9f9cb40468520379ede7cdddc": {
      "model_module": "@jupyter-widgets/controls",
      "model_module_version": "2.0.0",
      "model_name": "FloatProgressModel",
      "state": {
       "_model_module": "@jupyter-widgets/controls",
       "_model_name": "FloatProgressModel",
       "_view_name": "ErrorWidgetView",
       "bar_style": "success",
       "description": "",
       "description_allow_html": false,
       "error": {
        "message": "Loading chunk 202 failed.\n(error: http://192.168.3.2:9900/lab/extensions/@jupyter-widgets/jupyterlab-manager/static/202.0336063976910618ce3f.js?v=0336063976910618ce3f)",
        "name": "ChunkLoadError",
        "request": "http://192.168.3.2:9900/lab/extensions/@jupyter-widgets/jupyterlab-manager/static/202.0336063976910618ce3f.js?v=0336063976910618ce3f",
        "type": "error"
       },
       "layout": "IPY_MODEL_3bc3aaaeb8834c459413fa339ba37165",
       "max": 147,
       "min": 0,
       "msg": "Failed to load model class 'FloatProgressModel' from module '@jupyter-widgets/controls'",
       "orientation": "horizontal",
       "style": "IPY_MODEL_0376764516ff4c488fb8bd2bdb30342e",
       "value": 147
      }
     },
     "5aae49bb23f749788b967a770138c280": {
      "model_module": "@jupyter-widgets/controls",
      "model_module_version": "2.0.0",
      "model_name": "HBoxModel",
      "state": {
       "_model_module": "@jupyter-widgets/controls",
       "_model_name": "HBoxModel",
       "_view_name": "ErrorWidgetView",
       "box_style": "",
       "children": [
        "IPY_MODEL_fb9bb5ea4fb5475696b18a87745fc485",
        "IPY_MODEL_ddf549ee22d8451d9c5e2dadbfcba6fb",
        "IPY_MODEL_dbaf01c0d2ff449d9ea63a926e4d77bb"
       ],
       "error": {
        "message": "Loading chunk 202 failed.\n(error: http://192.168.3.2:9900/lab/extensions/@jupyter-widgets/jupyterlab-manager/static/202.0336063976910618ce3f.js?v=0336063976910618ce3f)",
        "name": "ChunkLoadError",
        "request": "http://192.168.3.2:9900/lab/extensions/@jupyter-widgets/jupyterlab-manager/static/202.0336063976910618ce3f.js?v=0336063976910618ce3f",
        "type": "error"
       },
       "layout": "IPY_MODEL_b64be8ef60844968bcf59d41ce13676e",
       "msg": "Failed to load model class 'HBoxModel' from module '@jupyter-widgets/controls'"
      }
     },
     "5aee1aa8e3b840e6aa8e8203aa019a89": {
      "model_module": "@jupyter-widgets/base",
      "model_module_version": "2.0.0",
      "model_name": "LayoutModel",
      "state": {}
     },
     "5b6f03686a104787817bf9b0a95807d7": {
      "model_module": "@jupyter-widgets/base",
      "model_module_version": "2.0.0",
      "model_name": "LayoutModel",
      "state": {}
     },
     "5bcca47ea0a64c039915b605a86150b6": {
      "model_module": "@jupyter-widgets/base",
      "model_module_version": "2.0.0",
      "model_name": "LayoutModel",
      "state": {}
     },
     "5c595ee56aa44b1081e330c5f6880c6a": {
      "model_module": "@jupyter-widgets/controls",
      "model_module_version": "2.0.0",
      "model_name": "HTMLStyleModel",
      "state": {
       "_model_module": "@jupyter-widgets/controls",
       "_model_name": "HTMLStyleModel",
       "_view_name": "ErrorWidgetView",
       "background": null,
       "description_width": "",
       "error": {
        "message": "Loading chunk 495 failed.\n(error: http://192.168.3.2:9900/lab/extensions/@jupyter-widgets/jupyterlab-manager/static/495.3e275af54861cdeb3e75.js?v=3e275af54861cdeb3e75)",
        "name": "ChunkLoadError",
        "request": "http://192.168.3.2:9900/lab/extensions/@jupyter-widgets/jupyterlab-manager/static/495.3e275af54861cdeb3e75.js?v=3e275af54861cdeb3e75",
        "type": "error"
       },
       "font_size": null,
       "msg": "Failed to load model class 'HTMLStyleModel' from module '@jupyter-widgets/controls'",
       "text_color": null
      }
     },
     "5c5fe49b869d407f9d620433d53b7160": {
      "model_module": "@jupyter-widgets/controls",
      "model_module_version": "2.0.0",
      "model_name": "HBoxModel",
      "state": {
       "_model_module": "@jupyter-widgets/controls",
       "_model_name": "HBoxModel",
       "_view_name": "ErrorWidgetView",
       "box_style": "",
       "children": [
        "IPY_MODEL_007da15294ae41838314c4b5887a3f3d",
        "IPY_MODEL_718d8f2b15924e20ad1ef4d8206cba19",
        "IPY_MODEL_10ee7a5161374b068e0ca52e2d5584fd"
       ],
       "error": {
        "message": "Loading chunk 202 failed.\n(error: http://192.168.3.2:9900/lab/extensions/@jupyter-widgets/jupyterlab-manager/static/202.0336063976910618ce3f.js?v=0336063976910618ce3f)",
        "name": "ChunkLoadError",
        "request": "http://192.168.3.2:9900/lab/extensions/@jupyter-widgets/jupyterlab-manager/static/202.0336063976910618ce3f.js?v=0336063976910618ce3f",
        "type": "error"
       },
       "layout": "IPY_MODEL_6265bc64659b45238e05981dc64ddcc9",
       "msg": "Failed to load model class 'HBoxModel' from module '@jupyter-widgets/controls'"
      }
     },
     "5c671d0b241d4ad3ab82402fcc0a40f4": {
      "model_module": "@jupyter-widgets/base",
      "model_module_version": "2.0.0",
      "model_name": "LayoutModel",
      "state": {}
     },
     "5c8a419487b5477dbaf2080b4d413de9": {
      "model_module": "@jupyter-widgets/controls",
      "model_module_version": "2.0.0",
      "model_name": "HTMLStyleModel",
      "state": {
       "_model_module": "@jupyter-widgets/controls",
       "_model_name": "HTMLStyleModel",
       "_view_name": "ErrorWidgetView",
       "background": null,
       "description_width": "",
       "error": {
        "message": "Loading chunk 495 failed.\n(error: http://192.168.3.2:9900/lab/extensions/@jupyter-widgets/jupyterlab-manager/static/495.3e275af54861cdeb3e75.js?v=3e275af54861cdeb3e75)",
        "name": "ChunkLoadError",
        "request": "http://192.168.3.2:9900/lab/extensions/@jupyter-widgets/jupyterlab-manager/static/495.3e275af54861cdeb3e75.js?v=3e275af54861cdeb3e75",
        "type": "error"
       },
       "font_size": null,
       "msg": "Failed to load model class 'HTMLStyleModel' from module '@jupyter-widgets/controls'",
       "text_color": null
      }
     },
     "5c96479c3a2a41bd8cc0b3e6748bfdda": {
      "model_module": "@jupyter-widgets/controls",
      "model_module_version": "2.0.0",
      "model_name": "HTMLModel",
      "state": {
       "_model_module": "@jupyter-widgets/controls",
       "_model_name": "HTMLModel",
       "_view_name": "ErrorWidgetView",
       "description": "",
       "description_allow_html": false,
       "error": {
        "message": "Loading chunk 495 failed.\n(error: http://192.168.3.2:9900/lab/extensions/@jupyter-widgets/jupyterlab-manager/static/495.3e275af54861cdeb3e75.js?v=3e275af54861cdeb3e75)",
        "name": "ChunkLoadError",
        "request": "http://192.168.3.2:9900/lab/extensions/@jupyter-widgets/jupyterlab-manager/static/495.3e275af54861cdeb3e75.js?v=3e275af54861cdeb3e75",
        "type": "error"
       },
       "layout": "IPY_MODEL_20df66a385834244ac32300e7d8801a5",
       "msg": "Failed to load model class 'HTMLModel' from module '@jupyter-widgets/controls'",
       "placeholder": "​",
       "style": "IPY_MODEL_97c0ccab0d844c32a2792d4c7af57f78",
       "value": "config.json: "
      }
     },
     "5d2b3b36dcb1432eb1192b63e530de12": {
      "model_module": "@jupyter-widgets/controls",
      "model_module_version": "2.0.0",
      "model_name": "HTMLModel",
      "state": {
       "_model_module": "@jupyter-widgets/controls",
       "_model_name": "HTMLModel",
       "_view_name": "ErrorWidgetView",
       "description": "",
       "description_allow_html": false,
       "error": {
        "message": "Loading chunk 495 failed.\n(error: http://192.168.3.2:9900/lab/extensions/@jupyter-widgets/jupyterlab-manager/static/495.3e275af54861cdeb3e75.js?v=3e275af54861cdeb3e75)",
        "name": "ChunkLoadError",
        "request": "http://192.168.3.2:9900/lab/extensions/@jupyter-widgets/jupyterlab-manager/static/495.3e275af54861cdeb3e75.js?v=3e275af54861cdeb3e75",
        "type": "error"
       },
       "layout": "IPY_MODEL_0db63b8fdab74b128b06378c9d3ef55e",
       "msg": "Failed to load model class 'HTMLModel' from module '@jupyter-widgets/controls'",
       "placeholder": "​",
       "style": "IPY_MODEL_e7f2ed107a604eecb7bfa0bb69be3f1c",
       "value": "tokenizer.json: "
      }
     },
     "5d75722b81b442d6b6ee408b6974d80e": {
      "model_module": "@jupyter-widgets/controls",
      "model_module_version": "2.0.0",
      "model_name": "HTMLStyleModel",
      "state": {
       "_model_module": "@jupyter-widgets/controls",
       "_model_name": "HTMLStyleModel",
       "_view_name": "ErrorWidgetView",
       "background": null,
       "description_width": "",
       "error": {
        "message": "Loading chunk 202 failed.\n(error: http://192.168.3.2:9900/lab/extensions/@jupyter-widgets/jupyterlab-manager/static/202.0336063976910618ce3f.js?v=0336063976910618ce3f)",
        "name": "ChunkLoadError",
        "request": "http://192.168.3.2:9900/lab/extensions/@jupyter-widgets/jupyterlab-manager/static/202.0336063976910618ce3f.js?v=0336063976910618ce3f",
        "type": "error"
       },
       "font_size": null,
       "msg": "Failed to load model class 'HTMLStyleModel' from module '@jupyter-widgets/controls'",
       "text_color": null
      }
     },
     "5e58bd1890b94ca297bb3e82ac76c6a6": {
      "model_module": "@jupyter-widgets/controls",
      "model_module_version": "2.0.0",
      "model_name": "ProgressStyleModel",
      "state": {
       "_model_module": "@jupyter-widgets/controls",
       "_model_name": "ProgressStyleModel",
       "_view_name": "ErrorWidgetView",
       "bar_color": null,
       "description_width": "",
       "error": {
        "message": "Loading chunk 495 failed.\n(error: http://192.168.3.2:9900/lab/extensions/@jupyter-widgets/jupyterlab-manager/static/495.3e275af54861cdeb3e75.js?v=3e275af54861cdeb3e75)",
        "name": "ChunkLoadError",
        "request": "http://192.168.3.2:9900/lab/extensions/@jupyter-widgets/jupyterlab-manager/static/495.3e275af54861cdeb3e75.js?v=3e275af54861cdeb3e75",
        "type": "error"
       },
       "msg": "Failed to load model class 'ProgressStyleModel' from module '@jupyter-widgets/controls'"
      }
     },
     "5e6c4379096d43fe944222fc3f5da050": {
      "model_module": "@jupyter-widgets/base",
      "model_module_version": "2.0.0",
      "model_name": "LayoutModel",
      "state": {}
     },
     "5ef606f91c824f48a605b483ac5dbafd": {
      "model_module": "@jupyter-widgets/controls",
      "model_module_version": "2.0.0",
      "model_name": "ProgressStyleModel",
      "state": {
       "_model_module": "@jupyter-widgets/controls",
       "_model_name": "ProgressStyleModel",
       "_view_name": "ErrorWidgetView",
       "bar_color": null,
       "description_width": "",
       "error": {
        "message": "Loading chunk 202 failed.\n(error: http://192.168.3.2:9900/lab/extensions/@jupyter-widgets/jupyterlab-manager/static/202.0336063976910618ce3f.js?v=0336063976910618ce3f)",
        "name": "ChunkLoadError",
        "request": "http://192.168.3.2:9900/lab/extensions/@jupyter-widgets/jupyterlab-manager/static/202.0336063976910618ce3f.js?v=0336063976910618ce3f",
        "type": "error"
       },
       "msg": "Failed to load model class 'ProgressStyleModel' from module '@jupyter-widgets/controls'"
      }
     },
     "5f0d9be51f1c4a2781a93a8731dd1080": {
      "model_module": "@jupyter-widgets/base",
      "model_module_version": "2.0.0",
      "model_name": "LayoutModel",
      "state": {}
     },
     "5f11b46fffef44b5a977cf0648be9b2d": {
      "model_module": "@jupyter-widgets/controls",
      "model_module_version": "2.0.0",
      "model_name": "HTMLStyleModel",
      "state": {
       "_model_module": "@jupyter-widgets/controls",
       "_model_name": "HTMLStyleModel",
       "_view_name": "ErrorWidgetView",
       "background": null,
       "description_width": "",
       "error": {
        "message": "Loading chunk 202 failed.\n(error: http://192.168.3.2:9900/lab/extensions/@jupyter-widgets/jupyterlab-manager/static/202.0336063976910618ce3f.js?v=0336063976910618ce3f)",
        "name": "ChunkLoadError",
        "request": "http://192.168.3.2:9900/lab/extensions/@jupyter-widgets/jupyterlab-manager/static/202.0336063976910618ce3f.js?v=0336063976910618ce3f",
        "type": "error"
       },
       "font_size": null,
       "msg": "Failed to load model class 'HTMLStyleModel' from module '@jupyter-widgets/controls'",
       "text_color": null
      }
     },
     "5f7500cc5e294fe1bd42690c7e10961f": {
      "model_module": "@jupyter-widgets/controls",
      "model_module_version": "2.0.0",
      "model_name": "HTMLStyleModel",
      "state": {
       "_model_module": "@jupyter-widgets/controls",
       "_model_name": "HTMLStyleModel",
       "_view_name": "ErrorWidgetView",
       "background": null,
       "description_width": "",
       "error": {
        "message": "Loading chunk 202 failed.\n(error: http://192.168.3.2:9900/lab/extensions/@jupyter-widgets/jupyterlab-manager/static/202.0336063976910618ce3f.js?v=0336063976910618ce3f)",
        "name": "ChunkLoadError",
        "request": "http://192.168.3.2:9900/lab/extensions/@jupyter-widgets/jupyterlab-manager/static/202.0336063976910618ce3f.js?v=0336063976910618ce3f",
        "type": "error"
       },
       "font_size": null,
       "msg": "Failed to load model class 'HTMLStyleModel' from module '@jupyter-widgets/controls'",
       "text_color": null
      }
     },
     "5f7a3466150e427ab6386250f251fd74": {
      "model_module": "@jupyter-widgets/base",
      "model_module_version": "2.0.0",
      "model_name": "LayoutModel",
      "state": {}
     },
     "603bd6b8b4f84e018f420e5c355ff372": {
      "model_module": "@jupyter-widgets/controls",
      "model_module_version": "2.0.0",
      "model_name": "HTMLModel",
      "state": {
       "_model_module": "@jupyter-widgets/controls",
       "_model_name": "HTMLModel",
       "_view_name": "ErrorWidgetView",
       "description": "",
       "description_allow_html": false,
       "error": {
        "message": "Loading chunk 202 failed.\n(error: http://192.168.3.2:9900/lab/extensions/@jupyter-widgets/jupyterlab-manager/static/202.0336063976910618ce3f.js?v=0336063976910618ce3f)",
        "name": "ChunkLoadError",
        "request": "http://192.168.3.2:9900/lab/extensions/@jupyter-widgets/jupyterlab-manager/static/202.0336063976910618ce3f.js?v=0336063976910618ce3f",
        "type": "error"
       },
       "layout": "IPY_MODEL_ac449a106b0b4efdb57a5edf9ade2b03",
       "msg": "Failed to load model class 'HTMLModel' from module '@jupyter-widgets/controls'",
       "placeholder": "​",
       "style": "IPY_MODEL_3d2f3d8123f048a08e55af452a920a92",
       "value": " 338/338 [00:00&lt;00:00, 19.2kB/s]"
      }
     },
     "6079da4f19994f3099313511e2ac2386": {
      "model_module": "@jupyter-widgets/controls",
      "model_module_version": "2.0.0",
      "model_name": "HBoxModel",
      "state": {
       "_model_module": "@jupyter-widgets/controls",
       "_model_name": "HBoxModel",
       "_view_name": "ErrorWidgetView",
       "box_style": "",
       "children": [
        "IPY_MODEL_5445003012be48b5a9042d3f75e83256",
        "IPY_MODEL_d0c5fa5f65824f1fb8ea82b486067054",
        "IPY_MODEL_6ac1f5d037c648728fd4789d2a19f1cf"
       ],
       "error": {
        "message": "Loading chunk 202 failed.\n(error: http://192.168.3.2:9900/lab/extensions/@jupyter-widgets/jupyterlab-manager/static/202.0336063976910618ce3f.js?v=0336063976910618ce3f)",
        "name": "ChunkLoadError",
        "request": "http://192.168.3.2:9900/lab/extensions/@jupyter-widgets/jupyterlab-manager/static/202.0336063976910618ce3f.js?v=0336063976910618ce3f",
        "type": "error"
       },
       "layout": "IPY_MODEL_0af749b384f142d38aae65a441055b54",
       "msg": "Failed to load model class 'HBoxModel' from module '@jupyter-widgets/controls'"
      }
     },
     "60b9dbdc4f6742ee8875037932b12f56": {
      "model_module": "@jupyter-widgets/controls",
      "model_module_version": "2.0.0",
      "model_name": "ProgressStyleModel",
      "state": {
       "_model_module": "@jupyter-widgets/controls",
       "_model_name": "ProgressStyleModel",
       "_view_name": "ErrorWidgetView",
       "bar_color": null,
       "description_width": "",
       "error": {
        "message": "Loading chunk 495 failed.\n(error: http://192.168.3.2:9900/lab/extensions/@jupyter-widgets/jupyterlab-manager/static/495.3e275af54861cdeb3e75.js?v=3e275af54861cdeb3e75)",
        "name": "ChunkLoadError",
        "request": "http://192.168.3.2:9900/lab/extensions/@jupyter-widgets/jupyterlab-manager/static/495.3e275af54861cdeb3e75.js?v=3e275af54861cdeb3e75",
        "type": "error"
       },
       "msg": "Failed to load model class 'ProgressStyleModel' from module '@jupyter-widgets/controls'"
      }
     },
     "60c6a3d979dd4814b457d1311f40f668": {
      "model_module": "@jupyter-widgets/controls",
      "model_module_version": "2.0.0",
      "model_name": "HTMLStyleModel",
      "state": {
       "_model_module": "@jupyter-widgets/controls",
       "_model_name": "HTMLStyleModel",
       "_view_name": "ErrorWidgetView",
       "background": null,
       "description_width": "",
       "error": {
        "message": "Loading chunk 202 failed.\n(error: http://192.168.3.2:9900/lab/extensions/@jupyter-widgets/jupyterlab-manager/static/202.0336063976910618ce3f.js?v=0336063976910618ce3f)",
        "name": "ChunkLoadError",
        "request": "http://192.168.3.2:9900/lab/extensions/@jupyter-widgets/jupyterlab-manager/static/202.0336063976910618ce3f.js?v=0336063976910618ce3f",
        "type": "error"
       },
       "font_size": null,
       "msg": "Failed to load model class 'HTMLStyleModel' from module '@jupyter-widgets/controls'",
       "text_color": null
      }
     },
     "615088a60f8640658725fc1fe4491d7b": {
      "model_module": "@jupyter-widgets/controls",
      "model_module_version": "2.0.0",
      "model_name": "ProgressStyleModel",
      "state": {
       "_model_module": "@jupyter-widgets/controls",
       "_model_name": "ProgressStyleModel",
       "_view_name": "ErrorWidgetView",
       "bar_color": null,
       "description_width": "",
       "error": {
        "message": "Loading chunk 495 failed.\n(error: http://192.168.3.2:9900/lab/extensions/@jupyter-widgets/jupyterlab-manager/static/495.3e275af54861cdeb3e75.js?v=3e275af54861cdeb3e75)",
        "name": "ChunkLoadError",
        "request": "http://192.168.3.2:9900/lab/extensions/@jupyter-widgets/jupyterlab-manager/static/495.3e275af54861cdeb3e75.js?v=3e275af54861cdeb3e75",
        "type": "error"
       },
       "msg": "Failed to load model class 'ProgressStyleModel' from module '@jupyter-widgets/controls'"
      }
     },
     "61a303641f2145ecabd6ab8b92ae65e6": {
      "model_module": "@jupyter-widgets/controls",
      "model_module_version": "2.0.0",
      "model_name": "FloatProgressModel",
      "state": {
       "_model_module": "@jupyter-widgets/controls",
       "_model_name": "FloatProgressModel",
       "_view_name": "ErrorWidgetView",
       "bar_style": "success",
       "description": "",
       "description_allow_html": false,
       "error": {
        "message": "Loading chunk 202 failed.\n(error: http://192.168.3.2:9900/lab/extensions/@jupyter-widgets/jupyterlab-manager/static/202.0336063976910618ce3f.js?v=0336063976910618ce3f)",
        "name": "ChunkLoadError",
        "request": "http://192.168.3.2:9900/lab/extensions/@jupyter-widgets/jupyterlab-manager/static/202.0336063976910618ce3f.js?v=0336063976910618ce3f",
        "type": "error"
       },
       "layout": "IPY_MODEL_2e06a39a66174b009472200e21b26ad1",
       "max": 39,
       "min": 0,
       "msg": "Failed to load model class 'FloatProgressModel' from module '@jupyter-widgets/controls'",
       "orientation": "horizontal",
       "style": "IPY_MODEL_1a43cda9b97e40f0b1f56cf49be2d758",
       "value": 39
      }
     },
     "61bbb1db973e48c68bbd860298d1853e": {
      "model_module": "@jupyter-widgets/base",
      "model_module_version": "2.0.0",
      "model_name": "LayoutModel",
      "state": {}
     },
     "61bdd7e9a25646148547815b6ccdeead": {
      "model_module": "@jupyter-widgets/controls",
      "model_module_version": "2.0.0",
      "model_name": "HTMLModel",
      "state": {
       "_model_module": "@jupyter-widgets/controls",
       "_model_name": "HTMLModel",
       "_view_name": "ErrorWidgetView",
       "description": "",
       "description_allow_html": false,
       "error": {
        "message": "Loading chunk 202 failed.\n(error: http://192.168.3.2:9900/lab/extensions/@jupyter-widgets/jupyterlab-manager/static/202.0336063976910618ce3f.js?v=0336063976910618ce3f)",
        "name": "ChunkLoadError",
        "request": "http://192.168.3.2:9900/lab/extensions/@jupyter-widgets/jupyterlab-manager/static/202.0336063976910618ce3f.js?v=0336063976910618ce3f",
        "type": "error"
       },
       "layout": "IPY_MODEL_054feaf766134b80b27e6dd06ef83a6a",
       "msg": "Failed to load model class 'HTMLModel' from module '@jupyter-widgets/controls'",
       "placeholder": "​",
       "style": "IPY_MODEL_3876273a8648422fa0ec8a8bb6b96349",
       "value": "special_tokens_map.json: 100%"
      }
     },
     "61e9e051e48e41ddb28501f1220accb9": {
      "model_module": "@jupyter-widgets/base",
      "model_module_version": "2.0.0",
      "model_name": "LayoutModel",
      "state": {}
     },
     "6248fe21f8974795866921802bb073eb": {
      "model_module": "@jupyter-widgets/base",
      "model_module_version": "2.0.0",
      "model_name": "LayoutModel",
      "state": {}
     },
     "6265bc64659b45238e05981dc64ddcc9": {
      "model_module": "@jupyter-widgets/base",
      "model_module_version": "2.0.0",
      "model_name": "LayoutModel",
      "state": {}
     },
     "6280409e109b491abfe42d72f128fddc": {
      "model_module": "@jupyter-widgets/controls",
      "model_module_version": "2.0.0",
      "model_name": "HTMLModel",
      "state": {
       "_model_module": "@jupyter-widgets/controls",
       "_model_name": "HTMLModel",
       "_view_name": "ErrorWidgetView",
       "description": "",
       "description_allow_html": false,
       "error": {
        "message": "Loading chunk 495 failed.\n(error: http://192.168.3.2:9900/lab/extensions/@jupyter-widgets/jupyterlab-manager/static/495.3e275af54861cdeb3e75.js?v=3e275af54861cdeb3e75)",
        "name": "ChunkLoadError",
        "request": "http://192.168.3.2:9900/lab/extensions/@jupyter-widgets/jupyterlab-manager/static/495.3e275af54861cdeb3e75.js?v=3e275af54861cdeb3e75",
        "type": "error"
       },
       "layout": "IPY_MODEL_2406c9686cca4f308f60b8e530fc3f55",
       "msg": "Failed to load model class 'HTMLModel' from module '@jupyter-widgets/controls'",
       "placeholder": "​",
       "style": "IPY_MODEL_c0484fc7805240ceb452f6aea2b85ebe",
       "value": " 998/? [00:00&lt;00:00, 59.0kB/s]"
      }
     },
     "628e7d2413ee4fc8acdb814856f4f93d": {
      "model_module": "@jupyter-widgets/controls",
      "model_module_version": "2.0.0",
      "model_name": "HBoxModel",
      "state": {
       "_model_module": "@jupyter-widgets/controls",
       "_model_name": "HBoxModel",
       "_view_name": "ErrorWidgetView",
       "box_style": "",
       "children": [
        "IPY_MODEL_61bdd7e9a25646148547815b6ccdeead",
        "IPY_MODEL_6e6549560fcb430f90b639097d01d717",
        "IPY_MODEL_2b07c4f4493842cc9133a47b1a15a7f2"
       ],
       "error": {
        "message": "Loading chunk 202 failed.\n(error: http://192.168.3.2:9900/lab/extensions/@jupyter-widgets/jupyterlab-manager/static/202.0336063976910618ce3f.js?v=0336063976910618ce3f)",
        "name": "ChunkLoadError",
        "request": "http://192.168.3.2:9900/lab/extensions/@jupyter-widgets/jupyterlab-manager/static/202.0336063976910618ce3f.js?v=0336063976910618ce3f",
        "type": "error"
       },
       "layout": "IPY_MODEL_7ef4d1151a8944099cca01e041167511",
       "msg": "Failed to load model class 'HBoxModel' from module '@jupyter-widgets/controls'"
      }
     },
     "62c3999e471f43a18600693d72190d7e": {
      "model_module": "@jupyter-widgets/controls",
      "model_module_version": "2.0.0",
      "model_name": "HTMLModel",
      "state": {
       "_model_module": "@jupyter-widgets/controls",
       "_model_name": "HTMLModel",
       "_view_name": "ErrorWidgetView",
       "description": "",
       "description_allow_html": false,
       "error": {
        "message": "Loading chunk 495 failed.\n(error: http://192.168.3.2:9900/lab/extensions/@jupyter-widgets/jupyterlab-manager/static/495.3e275af54861cdeb3e75.js?v=3e275af54861cdeb3e75)",
        "name": "ChunkLoadError",
        "request": "http://192.168.3.2:9900/lab/extensions/@jupyter-widgets/jupyterlab-manager/static/495.3e275af54861cdeb3e75.js?v=3e275af54861cdeb3e75",
        "type": "error"
       },
       "layout": "IPY_MODEL_47b503b8658c4821a0f61028a01e3d96",
       "msg": "Failed to load model class 'HTMLModel' from module '@jupyter-widgets/controls'",
       "placeholder": "​",
       "style": "IPY_MODEL_0ec2005443394ceb89785fb9ad3d2be5",
       "value": " 792k/792k [00:00&lt;00:00, 855kB/s]"
      }
     },
     "62fc4d5fe13c45c98033641958c550e4": {
      "model_module": "@jupyter-widgets/controls",
      "model_module_version": "2.0.0",
      "model_name": "HTMLStyleModel",
      "state": {
       "_model_module": "@jupyter-widgets/controls",
       "_model_name": "HTMLStyleModel",
       "_view_name": "ErrorWidgetView",
       "background": null,
       "description_width": "",
       "error": {
        "message": "Loading chunk 495 failed.\n(error: http://192.168.3.2:9900/lab/extensions/@jupyter-widgets/jupyterlab-manager/static/495.3e275af54861cdeb3e75.js?v=3e275af54861cdeb3e75)",
        "name": "ChunkLoadError",
        "request": "http://192.168.3.2:9900/lab/extensions/@jupyter-widgets/jupyterlab-manager/static/495.3e275af54861cdeb3e75.js?v=3e275af54861cdeb3e75",
        "type": "error"
       },
       "font_size": null,
       "msg": "Failed to load model class 'HTMLStyleModel' from module '@jupyter-widgets/controls'",
       "text_color": null
      }
     },
     "6373a4b3d5f3480aaf6be20b02e89003": {
      "model_module": "@jupyter-widgets/base",
      "model_module_version": "2.0.0",
      "model_name": "LayoutModel",
      "state": {}
     },
     "63a1047baf7942d2a3d503d003d17a14": {
      "model_module": "@jupyter-widgets/controls",
      "model_module_version": "2.0.0",
      "model_name": "HTMLModel",
      "state": {
       "_model_module": "@jupyter-widgets/controls",
       "_model_name": "HTMLModel",
       "_view_name": "ErrorWidgetView",
       "description": "",
       "description_allow_html": false,
       "error": {
        "message": "Loading chunk 202 failed.\n(error: http://192.168.3.2:9900/lab/extensions/@jupyter-widgets/jupyterlab-manager/static/202.0336063976910618ce3f.js?v=0336063976910618ce3f)",
        "name": "ChunkLoadError",
        "request": "http://192.168.3.2:9900/lab/extensions/@jupyter-widgets/jupyterlab-manager/static/202.0336063976910618ce3f.js?v=0336063976910618ce3f",
        "type": "error"
       },
       "layout": "IPY_MODEL_f46c69a1d7f042d99fb74dffc725d96a",
       "msg": "Failed to load model class 'HTMLModel' from module '@jupyter-widgets/controls'",
       "placeholder": "​",
       "style": "IPY_MODEL_83a6a1a9ba07459da39639acb9a83616",
       "value": "vocab.txt: "
      }
     },
     "63ac024d736049e893195b9506841bb1": {
      "model_module": "@jupyter-widgets/controls",
      "model_module_version": "2.0.0",
      "model_name": "HTMLStyleModel",
      "state": {
       "_model_module": "@jupyter-widgets/controls",
       "_model_name": "HTMLStyleModel",
       "_view_name": "ErrorWidgetView",
       "background": null,
       "description_width": "",
       "error": {
        "message": "Loading chunk 495 failed.\n(error: http://192.168.3.2:9900/lab/extensions/@jupyter-widgets/jupyterlab-manager/static/495.3e275af54861cdeb3e75.js?v=3e275af54861cdeb3e75)",
        "name": "ChunkLoadError",
        "request": "http://192.168.3.2:9900/lab/extensions/@jupyter-widgets/jupyterlab-manager/static/495.3e275af54861cdeb3e75.js?v=3e275af54861cdeb3e75",
        "type": "error"
       },
       "font_size": null,
       "msg": "Failed to load model class 'HTMLStyleModel' from module '@jupyter-widgets/controls'",
       "text_color": null
      }
     },
     "6416e126cc274955b44d87bcd4f88b75": {
      "model_module": "@jupyter-widgets/controls",
      "model_module_version": "2.0.0",
      "model_name": "FloatProgressModel",
      "state": {
       "_model_module": "@jupyter-widgets/controls",
       "_model_name": "FloatProgressModel",
       "_view_name": "ErrorWidgetView",
       "bar_style": "success",
       "description": "",
       "description_allow_html": false,
       "error": {
        "message": "Loading chunk 495 failed.\n(error: http://192.168.3.2:9900/lab/extensions/@jupyter-widgets/jupyterlab-manager/static/495.3e275af54861cdeb3e75.js?v=3e275af54861cdeb3e75)",
        "name": "ChunkLoadError",
        "request": "http://192.168.3.2:9900/lab/extensions/@jupyter-widgets/jupyterlab-manager/static/495.3e275af54861cdeb3e75.js?v=3e275af54861cdeb3e75",
        "type": "error"
       },
       "layout": "IPY_MODEL_3fc6fb98319a48488e4d036ae8166e9d",
       "max": 22,
       "min": 0,
       "msg": "Failed to load model class 'FloatProgressModel' from module '@jupyter-widgets/controls'",
       "orientation": "horizontal",
       "style": "IPY_MODEL_2a07e2d59aa344c09f23178702bb1a29",
       "value": 22
      }
     },
     "6433494917e24152abb856993eb91021": {
      "model_module": "@jupyter-widgets/base",
      "model_module_version": "2.0.0",
      "model_name": "LayoutModel",
      "state": {}
     },
     "6434a2820f584a33bd58f549f219e335": {
      "model_module": "@jupyter-widgets/base",
      "model_module_version": "2.0.0",
      "model_name": "LayoutModel",
      "state": {}
     },
     "656f494f1a5e4a31ab701df54d4fcd92": {
      "model_module": "@jupyter-widgets/controls",
      "model_module_version": "2.0.0",
      "model_name": "HTMLModel",
      "state": {
       "_model_module": "@jupyter-widgets/controls",
       "_model_name": "HTMLModel",
       "_view_name": "ErrorWidgetView",
       "description": "",
       "description_allow_html": false,
       "error": {
        "message": "Loading chunk 202 failed.\n(error: http://192.168.3.2:9900/lab/extensions/@jupyter-widgets/jupyterlab-manager/static/202.0336063976910618ce3f.js?v=0336063976910618ce3f)",
        "name": "ChunkLoadError",
        "request": "http://192.168.3.2:9900/lab/extensions/@jupyter-widgets/jupyterlab-manager/static/202.0336063976910618ce3f.js?v=0336063976910618ce3f",
        "type": "error"
       },
       "layout": "IPY_MODEL_b29ac04e5a1d4ce7b5a018023312dd4f",
       "msg": "Failed to load model class 'HTMLModel' from module '@jupyter-widgets/controls'",
       "placeholder": "​",
       "style": "IPY_MODEL_7f46394c09b940fbaea843ec66fbc533",
       "value": "special_tokens_map.json: 100%"
      }
     },
     "65985a315a524b16aa84b76585e3c31f": {
      "model_module": "@jupyter-widgets/base",
      "model_module_version": "2.0.0",
      "model_name": "LayoutModel",
      "state": {}
     },
     "659951ed576440b0b8502fa370f493aa": {
      "model_module": "@jupyter-widgets/controls",
      "model_module_version": "2.0.0",
      "model_name": "HTMLModel",
      "state": {
       "_model_module": "@jupyter-widgets/controls",
       "_model_name": "HTMLModel",
       "_view_name": "ErrorWidgetView",
       "description": "",
       "description_allow_html": false,
       "error": {
        "message": "Loading chunk 495 failed.\n(error: http://192.168.3.2:9900/lab/extensions/@jupyter-widgets/jupyterlab-manager/static/495.3e275af54861cdeb3e75.js?v=3e275af54861cdeb3e75)",
        "name": "ChunkLoadError",
        "request": "http://192.168.3.2:9900/lab/extensions/@jupyter-widgets/jupyterlab-manager/static/495.3e275af54861cdeb3e75.js?v=3e275af54861cdeb3e75",
        "type": "error"
       },
       "layout": "IPY_MODEL_c8ad3311d618442ebb7c841552534179",
       "msg": "Failed to load model class 'HTMLModel' from module '@jupyter-widgets/controls'",
       "placeholder": "​",
       "style": "IPY_MODEL_58a9446d2245466e8fa904374063c96c",
       "value": "config.json: "
      }
     },
     "65a12d04b8f746feb434dba6e71f898c": {
      "model_module": "@jupyter-widgets/base",
      "model_module_version": "2.0.0",
      "model_name": "LayoutModel",
      "state": {}
     },
     "662924ce6b48460bb9474bb0cc7cdd13": {
      "model_module": "@jupyter-widgets/controls",
      "model_module_version": "2.0.0",
      "model_name": "FloatProgressModel",
      "state": {
       "_model_module": "@jupyter-widgets/controls",
       "_model_name": "FloatProgressModel",
       "_view_name": "ErrorWidgetView",
       "bar_style": "success",
       "description": "",
       "description_allow_html": false,
       "error": {
        "message": "Loading chunk 495 failed.\n(error: http://192.168.3.2:9900/lab/extensions/@jupyter-widgets/jupyterlab-manager/static/495.3e275af54861cdeb3e75.js?v=3e275af54861cdeb3e75)",
        "name": "ChunkLoadError",
        "request": "http://192.168.3.2:9900/lab/extensions/@jupyter-widgets/jupyterlab-manager/static/495.3e275af54861cdeb3e75.js?v=3e275af54861cdeb3e75",
        "type": "error"
       },
       "layout": "IPY_MODEL_9df632e9e11c40c190f4565a76dd0cd6",
       "max": 1,
       "min": 0,
       "msg": "Failed to load model class 'FloatProgressModel' from module '@jupyter-widgets/controls'",
       "orientation": "horizontal",
       "style": "IPY_MODEL_0cd1065e5f2142a2b8276cdeb37006cc",
       "value": 1
      }
     },
     "66421949fcb244dab137b6b48a7fd026": {
      "model_module": "@jupyter-widgets/base",
      "model_module_version": "2.0.0",
      "model_name": "LayoutModel",
      "state": {}
     },
     "664a55bcdf8e4e38bac40786cc3213d6": {
      "model_module": "@jupyter-widgets/controls",
      "model_module_version": "2.0.0",
      "model_name": "HBoxModel",
      "state": {
       "_model_module": "@jupyter-widgets/controls",
       "_model_name": "HBoxModel",
       "_view_name": "ErrorWidgetView",
       "box_style": "",
       "children": [
        "IPY_MODEL_1ee4f9fcc09a4c2b8b6b4318376b26aa",
        "IPY_MODEL_827c1915558643a69b968c1c4c861149",
        "IPY_MODEL_d9b77b233968436791f2b5cbefcd1f58"
       ],
       "error": {
        "message": "Loading chunk 202 failed.\n(error: http://192.168.3.2:9900/lab/extensions/@jupyter-widgets/jupyterlab-manager/static/202.0336063976910618ce3f.js?v=0336063976910618ce3f)",
        "name": "ChunkLoadError",
        "request": "http://192.168.3.2:9900/lab/extensions/@jupyter-widgets/jupyterlab-manager/static/202.0336063976910618ce3f.js?v=0336063976910618ce3f",
        "type": "error"
       },
       "layout": "IPY_MODEL_ff700504f484481e8f92fdfac6e6ed16",
       "msg": "Failed to load model class 'HBoxModel' from module '@jupyter-widgets/controls'"
      }
     },
     "664da2b9a4c444adaded9538eea2b515": {
      "model_module": "@jupyter-widgets/base",
      "model_module_version": "2.0.0",
      "model_name": "LayoutModel",
      "state": {}
     },
     "664e4e670a414cbcaf9ec29953f6326d": {
      "model_module": "@jupyter-widgets/base",
      "model_module_version": "2.0.0",
      "model_name": "LayoutModel",
      "state": {}
     },
     "665088e6e9504ca69918f255b14fe3f7": {
      "model_module": "@jupyter-widgets/base",
      "model_module_version": "2.0.0",
      "model_name": "LayoutModel",
      "state": {}
     },
     "66e266bfd9264ae3a7995e66f6ee14e0": {
      "model_module": "@jupyter-widgets/base",
      "model_module_version": "2.0.0",
      "model_name": "LayoutModel",
      "state": {}
     },
     "66ec20ba913a4f40a0e381a01e2bfc60": {
      "model_module": "@jupyter-widgets/base",
      "model_module_version": "2.0.0",
      "model_name": "LayoutModel",
      "state": {
       "width": "20px"
      }
     },
     "673d72cefc5a4a7983d3e93e326c2b41": {
      "model_module": "@jupyter-widgets/base",
      "model_module_version": "2.0.0",
      "model_name": "LayoutModel",
      "state": {
       "width": "20px"
      }
     },
     "681613c8e95441bcb9a68c44a028d88d": {
      "model_module": "@jupyter-widgets/controls",
      "model_module_version": "2.0.0",
      "model_name": "HBoxModel",
      "state": {
       "_model_module": "@jupyter-widgets/controls",
       "_model_name": "HBoxModel",
       "_view_name": "ErrorWidgetView",
       "box_style": "",
       "children": [
        "IPY_MODEL_eaceb380bf66449682404ec902c84554",
        "IPY_MODEL_b86ff75d876648f198bdf6271e82c261",
        "IPY_MODEL_b69ebf95000d461badccf7e113c86768"
       ],
       "error": {
        "message": "Loading chunk 202 failed.\n(error: http://192.168.3.2:9900/lab/extensions/@jupyter-widgets/jupyterlab-manager/static/202.0336063976910618ce3f.js?v=0336063976910618ce3f)",
        "name": "ChunkLoadError",
        "request": "http://192.168.3.2:9900/lab/extensions/@jupyter-widgets/jupyterlab-manager/static/202.0336063976910618ce3f.js?v=0336063976910618ce3f",
        "type": "error"
       },
       "layout": "IPY_MODEL_3df3c943679342f6909ffbfe533f0798",
       "msg": "Failed to load model class 'HBoxModel' from module '@jupyter-widgets/controls'"
      }
     },
     "68414f098ffc4f67a736ea0d544312ad": {
      "model_module": "@jupyter-widgets/controls",
      "model_module_version": "2.0.0",
      "model_name": "HBoxModel",
      "state": {
       "_model_module": "@jupyter-widgets/controls",
       "_model_name": "HBoxModel",
       "_view_name": "ErrorWidgetView",
       "box_style": "",
       "children": [
        "IPY_MODEL_1089f3c312a8495ebfe16c581615de83",
        "IPY_MODEL_b38ad36148cd442695db384de5c96444",
        "IPY_MODEL_48ef6d06ae7c48fa873881fe0e2dbd83"
       ],
       "error": {
        "message": "Loading chunk 202 failed.\n(error: http://192.168.3.2:9900/lab/extensions/@jupyter-widgets/jupyterlab-manager/static/202.0336063976910618ce3f.js?v=0336063976910618ce3f)",
        "name": "ChunkLoadError",
        "request": "http://192.168.3.2:9900/lab/extensions/@jupyter-widgets/jupyterlab-manager/static/202.0336063976910618ce3f.js?v=0336063976910618ce3f",
        "type": "error"
       },
       "layout": "IPY_MODEL_76779e1b13f242598c0b2cc105fd4398",
       "msg": "Failed to load model class 'HBoxModel' from module '@jupyter-widgets/controls'"
      }
     },
     "68a751e206ff46dfb0b0d31c03a055e6": {
      "model_module": "@jupyter-widgets/controls",
      "model_module_version": "2.0.0",
      "model_name": "HTMLModel",
      "state": {
       "_model_module": "@jupyter-widgets/controls",
       "_model_name": "HTMLModel",
       "_view_name": "ErrorWidgetView",
       "description": "",
       "description_allow_html": false,
       "error": {
        "message": "Loading chunk 495 failed.\n(error: http://192.168.3.2:9900/lab/extensions/@jupyter-widgets/jupyterlab-manager/static/495.3e275af54861cdeb3e75.js?v=3e275af54861cdeb3e75)",
        "name": "ChunkLoadError",
        "request": "http://192.168.3.2:9900/lab/extensions/@jupyter-widgets/jupyterlab-manager/static/495.3e275af54861cdeb3e75.js?v=3e275af54861cdeb3e75",
        "type": "error"
       },
       "layout": "IPY_MODEL_d1978e33f42b4f13a30c819f0564d3f4",
       "msg": "Failed to load model class 'HTMLModel' from module '@jupyter-widgets/controls'",
       "placeholder": "​",
       "style": "IPY_MODEL_0b864b426a3d4139bb141a2d8f2cdbd5",
       "value": "pytorch_model.bin: 100%"
      }
     },
     "68ada7d1cd04417fb584d9d954e65d13": {
      "model_module": "@jupyter-widgets/base",
      "model_module_version": "2.0.0",
      "model_name": "LayoutModel",
      "state": {}
     },
     "68f54ca28dc04b9c8016dc36233c0042": {
      "model_module": "@jupyter-widgets/controls",
      "model_module_version": "2.0.0",
      "model_name": "FloatProgressModel",
      "state": {
       "_model_module": "@jupyter-widgets/controls",
       "_model_name": "FloatProgressModel",
       "_view_name": "ErrorWidgetView",
       "bar_style": "success",
       "description": "",
       "description_allow_html": false,
       "error": {
        "message": "Loading chunk 495 failed.\n(error: http://192.168.3.2:9900/lab/extensions/@jupyter-widgets/jupyterlab-manager/static/495.3e275af54861cdeb3e75.js?v=3e275af54861cdeb3e75)",
        "name": "ChunkLoadError",
        "request": "http://192.168.3.2:9900/lab/extensions/@jupyter-widgets/jupyterlab-manager/static/495.3e275af54861cdeb3e75.js?v=3e275af54861cdeb3e75",
        "type": "error"
       },
       "layout": "IPY_MODEL_8cf78a14826647188ab69243565819f8",
       "max": 401,
       "min": 0,
       "msg": "Failed to load model class 'FloatProgressModel' from module '@jupyter-widgets/controls'",
       "orientation": "horizontal",
       "style": "IPY_MODEL_9330a1b379cf42da840189b2490ec9c3",
       "value": 401
      }
     },
     "693b9b2cc7bc495b8d39e88421ae920d": {
      "model_module": "@jupyter-widgets/controls",
      "model_module_version": "2.0.0",
      "model_name": "FloatProgressModel",
      "state": {
       "_model_module": "@jupyter-widgets/controls",
       "_model_name": "FloatProgressModel",
       "_view_name": "ErrorWidgetView",
       "bar_style": "success",
       "description": "",
       "description_allow_html": false,
       "error": {
        "message": "Loading chunk 202 failed.\n(error: http://192.168.3.2:9900/lab/extensions/@jupyter-widgets/jupyterlab-manager/static/202.0336063976910618ce3f.js?v=0336063976910618ce3f)",
        "name": "ChunkLoadError",
        "request": "http://192.168.3.2:9900/lab/extensions/@jupyter-widgets/jupyterlab-manager/static/202.0336063976910618ce3f.js?v=0336063976910618ce3f",
        "type": "error"
       },
       "layout": "IPY_MODEL_e4d1880ad97c44e996cdbcc27bb7bd52",
       "max": 1,
       "min": 0,
       "msg": "Failed to load model class 'FloatProgressModel' from module '@jupyter-widgets/controls'",
       "orientation": "horizontal",
       "style": "IPY_MODEL_b86d9e2852d049f38de0face1ab2ef90",
       "value": 1
      }
     },
     "6993543fbadf42f7ba7fe51db71fbf0c": {
      "model_module": "@jupyter-widgets/controls",
      "model_module_version": "2.0.0",
      "model_name": "HBoxModel",
      "state": {
       "_model_module": "@jupyter-widgets/controls",
       "_model_name": "HBoxModel",
       "_view_name": "ErrorWidgetView",
       "box_style": "",
       "children": [
        "IPY_MODEL_8e05ded21b3142759d88c7b2e2107e53",
        "IPY_MODEL_0640f305e7d74dfb9ee7695071ba4850",
        "IPY_MODEL_dad940fe138a4d4ca0af7e38146e4323"
       ],
       "error": {
        "message": "Loading chunk 202 failed.\n(error: http://192.168.3.2:9900/lab/extensions/@jupyter-widgets/jupyterlab-manager/static/202.0336063976910618ce3f.js?v=0336063976910618ce3f)",
        "name": "ChunkLoadError",
        "request": "http://192.168.3.2:9900/lab/extensions/@jupyter-widgets/jupyterlab-manager/static/202.0336063976910618ce3f.js?v=0336063976910618ce3f",
        "type": "error"
       },
       "layout": "IPY_MODEL_ca54a79e6c7647008e6ca799aa4bfec2",
       "msg": "Failed to load model class 'HBoxModel' from module '@jupyter-widgets/controls'"
      }
     },
     "69f617223abe47be8217544362db0e6a": {
      "model_module": "@jupyter-widgets/base",
      "model_module_version": "2.0.0",
      "model_name": "LayoutModel",
      "state": {}
     },
     "69fb31c6832e4734b54be64e8e93a09c": {
      "model_module": "@jupyter-widgets/controls",
      "model_module_version": "2.0.0",
      "model_name": "ProgressStyleModel",
      "state": {
       "_model_module": "@jupyter-widgets/controls",
       "_model_name": "ProgressStyleModel",
       "_view_name": "ErrorWidgetView",
       "bar_color": null,
       "description_width": "",
       "error": {
        "message": "Loading chunk 202 failed.\n(error: http://192.168.3.2:9900/lab/extensions/@jupyter-widgets/jupyterlab-manager/static/202.0336063976910618ce3f.js?v=0336063976910618ce3f)",
        "name": "ChunkLoadError",
        "request": "http://192.168.3.2:9900/lab/extensions/@jupyter-widgets/jupyterlab-manager/static/202.0336063976910618ce3f.js?v=0336063976910618ce3f",
        "type": "error"
       },
       "msg": "Failed to load model class 'ProgressStyleModel' from module '@jupyter-widgets/controls'"
      }
     },
     "6a11002444cd4c50a8b608a1a5e2dd09": {
      "model_module": "@jupyter-widgets/controls",
      "model_module_version": "2.0.0",
      "model_name": "HBoxModel",
      "state": {
       "_model_module": "@jupyter-widgets/controls",
       "_model_name": "HBoxModel",
       "_view_name": "ErrorWidgetView",
       "box_style": "",
       "children": [
        "IPY_MODEL_c7758d2dadc14e74aaa811d270327424",
        "IPY_MODEL_3df28c433f9443909f1a117b12b57cc0",
        "IPY_MODEL_9f166dc1ff1b48ec9899aa17f3bfadc2"
       ],
       "error": {
        "message": "Loading chunk 202 failed.\n(error: http://192.168.3.2:9900/lab/extensions/@jupyter-widgets/jupyterlab-manager/static/202.0336063976910618ce3f.js?v=0336063976910618ce3f)",
        "name": "ChunkLoadError",
        "request": "http://192.168.3.2:9900/lab/extensions/@jupyter-widgets/jupyterlab-manager/static/202.0336063976910618ce3f.js?v=0336063976910618ce3f",
        "type": "error"
       },
       "layout": "IPY_MODEL_6f026041a2244c09905958dd0e770825",
       "msg": "Failed to load model class 'HBoxModel' from module '@jupyter-widgets/controls'"
      }
     },
     "6a2005cd3c2245c5a2e2f0b99360a280": {
      "model_module": "@jupyter-widgets/controls",
      "model_module_version": "2.0.0",
      "model_name": "FloatProgressModel",
      "state": {
       "_model_module": "@jupyter-widgets/controls",
       "_model_name": "FloatProgressModel",
       "_view_name": "ErrorWidgetView",
       "bar_style": "success",
       "description": "",
       "description_allow_html": false,
       "error": {
        "message": "Loading chunk 202 failed.\n(error: http://192.168.3.2:9900/lab/extensions/@jupyter-widgets/jupyterlab-manager/static/202.0336063976910618ce3f.js?v=0336063976910618ce3f)",
        "name": "ChunkLoadError",
        "request": "http://192.168.3.2:9900/lab/extensions/@jupyter-widgets/jupyterlab-manager/static/202.0336063976910618ce3f.js?v=0336063976910618ce3f",
        "type": "error"
       },
       "layout": "IPY_MODEL_bac97d05a4eb41a4b85ca705934411cb",
       "max": 260782156,
       "min": 0,
       "msg": "Failed to load model class 'FloatProgressModel' from module '@jupyter-widgets/controls'",
       "orientation": "horizontal",
       "style": "IPY_MODEL_5523927007134b61bc200ffd738adf65",
       "value": 260782156
      }
     },
     "6a541a05f7fe457093a77158836d014f": {
      "model_module": "@jupyter-widgets/controls",
      "model_module_version": "2.0.0",
      "model_name": "HTMLStyleModel",
      "state": {
       "_model_module": "@jupyter-widgets/controls",
       "_model_name": "HTMLStyleModel",
       "_view_name": "ErrorWidgetView",
       "background": null,
       "description_width": "",
       "error": {
        "message": "Loading chunk 202 failed.\n(error: http://192.168.3.2:9900/lab/extensions/@jupyter-widgets/jupyterlab-manager/static/202.0336063976910618ce3f.js?v=0336063976910618ce3f)",
        "name": "ChunkLoadError",
        "request": "http://192.168.3.2:9900/lab/extensions/@jupyter-widgets/jupyterlab-manager/static/202.0336063976910618ce3f.js?v=0336063976910618ce3f",
        "type": "error"
       },
       "font_size": null,
       "msg": "Failed to load model class 'HTMLStyleModel' from module '@jupyter-widgets/controls'",
       "text_color": null
      }
     },
     "6a65da1db2d24def9721aa88a3d680e5": {
      "model_module": "@jupyter-widgets/controls",
      "model_module_version": "2.0.0",
      "model_name": "HTMLModel",
      "state": {
       "_model_module": "@jupyter-widgets/controls",
       "_model_name": "HTMLModel",
       "_view_name": "ErrorWidgetView",
       "description": "",
       "description_allow_html": false,
       "error": {
        "message": "Loading chunk 202 failed.\n(error: http://192.168.3.2:9900/lab/extensions/@jupyter-widgets/jupyterlab-manager/static/202.0336063976910618ce3f.js?v=0336063976910618ce3f)",
        "name": "ChunkLoadError",
        "request": "http://192.168.3.2:9900/lab/extensions/@jupyter-widgets/jupyterlab-manager/static/202.0336063976910618ce3f.js?v=0336063976910618ce3f",
        "type": "error"
       },
       "layout": "IPY_MODEL_78226b4f9df145b5aae0f07aaa36c472",
       "msg": "Failed to load model class 'HTMLModel' from module '@jupyter-widgets/controls'",
       "placeholder": "​",
       "style": "IPY_MODEL_22c5250c9f81483790477a8de0f08e0c",
       "value": " 167/167 [00:00&lt;00:00, 9.91kB/s]"
      }
     },
     "6ac1f5d037c648728fd4789d2a19f1cf": {
      "model_module": "@jupyter-widgets/controls",
      "model_module_version": "2.0.0",
      "model_name": "HTMLModel",
      "state": {
       "_model_module": "@jupyter-widgets/controls",
       "_model_name": "HTMLModel",
       "_view_name": "ErrorWidgetView",
       "description": "",
       "description_allow_html": false,
       "error": {
        "message": "Loading chunk 495 failed.\n(error: http://192.168.3.2:9900/lab/extensions/@jupyter-widgets/jupyterlab-manager/static/495.3e275af54861cdeb3e75.js?v=3e275af54861cdeb3e75)",
        "name": "ChunkLoadError",
        "request": "http://192.168.3.2:9900/lab/extensions/@jupyter-widgets/jupyterlab-manager/static/495.3e275af54861cdeb3e75.js?v=3e275af54861cdeb3e75",
        "type": "error"
       },
       "layout": "IPY_MODEL_6373a4b3d5f3480aaf6be20b02e89003",
       "msg": "Failed to load model class 'HTMLModel' from module '@jupyter-widgets/controls'",
       "placeholder": "​",
       "style": "IPY_MODEL_a964cc052504438c82de82ae2900b6a3",
       "value": " 283k/? [00:00&lt;00:00, 15.4MB/s]"
      }
     },
     "6b0e98b13ef04a31bb5cbe311befed0f": {
      "model_module": "@jupyter-widgets/controls",
      "model_module_version": "2.0.0",
      "model_name": "HTMLStyleModel",
      "state": {
       "_model_module": "@jupyter-widgets/controls",
       "_model_name": "HTMLStyleModel",
       "_view_name": "ErrorWidgetView",
       "background": null,
       "description_width": "",
       "error": {
        "message": "Loading chunk 495 failed.\n(error: http://192.168.3.2:9900/lab/extensions/@jupyter-widgets/jupyterlab-manager/static/495.3e275af54861cdeb3e75.js?v=3e275af54861cdeb3e75)",
        "name": "ChunkLoadError",
        "request": "http://192.168.3.2:9900/lab/extensions/@jupyter-widgets/jupyterlab-manager/static/495.3e275af54861cdeb3e75.js?v=3e275af54861cdeb3e75",
        "type": "error"
       },
       "font_size": null,
       "msg": "Failed to load model class 'HTMLStyleModel' from module '@jupyter-widgets/controls'",
       "text_color": null
      }
     },
     "6b362e5460f44c1787b4aa483c1a6da0": {
      "model_module": "@jupyter-widgets/base",
      "model_module_version": "2.0.0",
      "model_name": "LayoutModel",
      "state": {}
     },
     "6bd52c1a79ba49039c4fb466f564bf84": {
      "model_module": "@jupyter-widgets/base",
      "model_module_version": "2.0.0",
      "model_name": "LayoutModel",
      "state": {}
     },
     "6c0a9a146d264529a8627119639abccf": {
      "model_module": "@jupyter-widgets/base",
      "model_module_version": "2.0.0",
      "model_name": "LayoutModel",
      "state": {}
     },
     "6c2cb875b5984f68815854818c8157c3": {
      "model_module": "@jupyter-widgets/base",
      "model_module_version": "2.0.0",
      "model_name": "LayoutModel",
      "state": {}
     },
     "6cb7756056e845749ff56b81625b9472": {
      "model_module": "@jupyter-widgets/base",
      "model_module_version": "2.0.0",
      "model_name": "LayoutModel",
      "state": {}
     },
     "6d3f10b0f2ae4bc8b6d89e643f6bf5f9": {
      "model_module": "@jupyter-widgets/base",
      "model_module_version": "2.0.0",
      "model_name": "LayoutModel",
      "state": {}
     },
     "6d745ba761c44f9b96874b7ee142b3e3": {
      "model_module": "@jupyter-widgets/controls",
      "model_module_version": "2.0.0",
      "model_name": "HTMLStyleModel",
      "state": {
       "_model_module": "@jupyter-widgets/controls",
       "_model_name": "HTMLStyleModel",
       "_view_name": "ErrorWidgetView",
       "background": null,
       "description_width": "",
       "error": {
        "message": "Loading chunk 495 failed.\n(error: http://192.168.3.2:9900/lab/extensions/@jupyter-widgets/jupyterlab-manager/static/495.3e275af54861cdeb3e75.js?v=3e275af54861cdeb3e75)",
        "name": "ChunkLoadError",
        "request": "http://192.168.3.2:9900/lab/extensions/@jupyter-widgets/jupyterlab-manager/static/495.3e275af54861cdeb3e75.js?v=3e275af54861cdeb3e75",
        "type": "error"
       },
       "font_size": null,
       "msg": "Failed to load model class 'HTMLStyleModel' from module '@jupyter-widgets/controls'",
       "text_color": null
      }
     },
     "6d9b7b576da74d88a4ab61a71956326f": {
      "model_module": "@jupyter-widgets/base",
      "model_module_version": "2.0.0",
      "model_name": "LayoutModel",
      "state": {}
     },
     "6dacb196c5794939b7c5e8e2b0f8fa1e": {
      "model_module": "@jupyter-widgets/controls",
      "model_module_version": "2.0.0",
      "model_name": "HTMLStyleModel",
      "state": {
       "_model_module": "@jupyter-widgets/controls",
       "_model_name": "HTMLStyleModel",
       "_view_name": "ErrorWidgetView",
       "background": null,
       "description_width": "",
       "error": {
        "message": "Loading chunk 495 failed.\n(error: http://192.168.3.2:9900/lab/extensions/@jupyter-widgets/jupyterlab-manager/static/495.3e275af54861cdeb3e75.js?v=3e275af54861cdeb3e75)",
        "name": "ChunkLoadError",
        "request": "http://192.168.3.2:9900/lab/extensions/@jupyter-widgets/jupyterlab-manager/static/495.3e275af54861cdeb3e75.js?v=3e275af54861cdeb3e75",
        "type": "error"
       },
       "font_size": null,
       "msg": "Failed to load model class 'HTMLStyleModel' from module '@jupyter-widgets/controls'",
       "text_color": null
      }
     },
     "6df8cdf54d564dc586ae37aa7595b04e": {
      "model_module": "@jupyter-widgets/base",
      "model_module_version": "2.0.0",
      "model_name": "LayoutModel",
      "state": {}
     },
     "6e2be7ef46b24ce7a2260630a6644d7e": {
      "model_module": "@jupyter-widgets/base",
      "model_module_version": "2.0.0",
      "model_name": "LayoutModel",
      "state": {}
     },
     "6e59a36c45ee4738ad8cda971bea9e3a": {
      "model_module": "@jupyter-widgets/controls",
      "model_module_version": "2.0.0",
      "model_name": "FloatProgressModel",
      "state": {
       "_model_module": "@jupyter-widgets/controls",
       "_model_name": "FloatProgressModel",
       "_view_name": "ErrorWidgetView",
       "bar_style": "success",
       "description": "",
       "description_allow_html": false,
       "error": {
        "message": "Loading chunk 495 failed.\n(error: http://192.168.3.2:9900/lab/extensions/@jupyter-widgets/jupyterlab-manager/static/495.3e275af54861cdeb3e75.js?v=3e275af54861cdeb3e75)",
        "name": "ChunkLoadError",
        "request": "http://192.168.3.2:9900/lab/extensions/@jupyter-widgets/jupyterlab-manager/static/495.3e275af54861cdeb3e75.js?v=3e275af54861cdeb3e75",
        "type": "error"
       },
       "layout": "IPY_MODEL_68ada7d1cd04417fb584d9d954e65d13",
       "max": 2950736730,
       "min": 0,
       "msg": "Failed to load model class 'FloatProgressModel' from module '@jupyter-widgets/controls'",
       "orientation": "horizontal",
       "style": "IPY_MODEL_d9cb5657883c4d3587e702f823116673",
       "value": 2950736730
      }
     },
     "6e6549560fcb430f90b639097d01d717": {
      "model_module": "@jupyter-widgets/controls",
      "model_module_version": "2.0.0",
      "model_name": "FloatProgressModel",
      "state": {
       "_model_module": "@jupyter-widgets/controls",
       "_model_name": "FloatProgressModel",
       "_view_name": "ErrorWidgetView",
       "bar_style": "success",
       "description": "",
       "description_allow_html": false,
       "error": {
        "message": "Loading chunk 202 failed.\n(error: http://192.168.3.2:9900/lab/extensions/@jupyter-widgets/jupyterlab-manager/static/202.0336063976910618ce3f.js?v=0336063976910618ce3f)",
        "name": "ChunkLoadError",
        "request": "http://192.168.3.2:9900/lab/extensions/@jupyter-widgets/jupyterlab-manager/static/202.0336063976910618ce3f.js?v=0336063976910618ce3f",
        "type": "error"
       },
       "layout": "IPY_MODEL_3682d93efa764838919a5d3831b66fb0",
       "max": 150,
       "min": 0,
       "msg": "Failed to load model class 'FloatProgressModel' from module '@jupyter-widgets/controls'",
       "orientation": "horizontal",
       "style": "IPY_MODEL_9a953f73aa504f05b8de4f2ba59ee32c",
       "value": 150
      }
     },
     "6f026041a2244c09905958dd0e770825": {
      "model_module": "@jupyter-widgets/base",
      "model_module_version": "2.0.0",
      "model_name": "LayoutModel",
      "state": {}
     },
     "6fdd5ce1ffad4c0c80c9705275918f2c": {
      "model_module": "@jupyter-widgets/base",
      "model_module_version": "2.0.0",
      "model_name": "LayoutModel",
      "state": {}
     },
     "70cd05fc032b422c978e15395e54248a": {
      "model_module": "@jupyter-widgets/base",
      "model_module_version": "2.0.0",
      "model_name": "LayoutModel",
      "state": {}
     },
     "70f1f409e6a5480cbb5eeca04e00ce08": {
      "model_module": "@jupyter-widgets/base",
      "model_module_version": "2.0.0",
      "model_name": "LayoutModel",
      "state": {}
     },
     "718d8f2b15924e20ad1ef4d8206cba19": {
      "model_module": "@jupyter-widgets/controls",
      "model_module_version": "2.0.0",
      "model_name": "FloatProgressModel",
      "state": {
       "_model_module": "@jupyter-widgets/controls",
       "_model_name": "FloatProgressModel",
       "_view_name": "ErrorWidgetView",
       "bar_style": "success",
       "description": "",
       "description_allow_html": false,
       "error": {
        "message": "Loading chunk 495 failed.\n(error: http://192.168.3.2:9900/lab/extensions/@jupyter-widgets/jupyterlab-manager/static/495.3e275af54861cdeb3e75.js?v=3e275af54861cdeb3e75)",
        "name": "ChunkLoadError",
        "request": "http://192.168.3.2:9900/lab/extensions/@jupyter-widgets/jupyterlab-manager/static/495.3e275af54861cdeb3e75.js?v=3e275af54861cdeb3e75",
        "type": "error"
       },
       "layout": "IPY_MODEL_969291a297484015862fe6dd4a636979",
       "max": 339,
       "min": 0,
       "msg": "Failed to load model class 'FloatProgressModel' from module '@jupyter-widgets/controls'",
       "orientation": "horizontal",
       "style": "IPY_MODEL_14860533c23c414d94b00db981294e3d",
       "value": 339
      }
     },
     "71be88aeac6041f197457a828ef82287": {
      "model_module": "@jupyter-widgets/controls",
      "model_module_version": "2.0.0",
      "model_name": "HTMLModel",
      "state": {
       "_model_module": "@jupyter-widgets/controls",
       "_model_name": "HTMLModel",
       "_view_name": "ErrorWidgetView",
       "description": "",
       "description_allow_html": false,
       "error": {
        "message": "Loading chunk 495 failed.\n(error: http://192.168.3.2:9900/lab/extensions/@jupyter-widgets/jupyterlab-manager/static/495.3e275af54861cdeb3e75.js?v=3e275af54861cdeb3e75)",
        "name": "ChunkLoadError",
        "request": "http://192.168.3.2:9900/lab/extensions/@jupyter-widgets/jupyterlab-manager/static/495.3e275af54861cdeb3e75.js?v=3e275af54861cdeb3e75",
        "type": "error"
       },
       "layout": "IPY_MODEL_fd3aaeade7e04378a047b7491fe34b07",
       "msg": "Failed to load model class 'HTMLModel' from module '@jupyter-widgets/controls'",
       "placeholder": "​",
       "style": "IPY_MODEL_cf65982ecc3649c982ae3aee88473bd5",
       "value": " 11.4G/11.4G [11:19&lt;00:00, 18.3MB/s]"
      }
     },
     "731ed22fdac34430a6d8cfb799706650": {
      "model_module": "@jupyter-widgets/controls",
      "model_module_version": "2.0.0",
      "model_name": "FloatProgressModel",
      "state": {
       "_model_module": "@jupyter-widgets/controls",
       "_model_name": "FloatProgressModel",
       "_view_name": "ErrorWidgetView",
       "bar_style": "success",
       "description": "",
       "description_allow_html": false,
       "error": {
        "message": "Loading chunk 202 failed.\n(error: http://192.168.3.2:9900/lab/extensions/@jupyter-widgets/jupyterlab-manager/static/202.0336063976910618ce3f.js?v=0336063976910618ce3f)",
        "name": "ChunkLoadError",
        "request": "http://192.168.3.2:9900/lab/extensions/@jupyter-widgets/jupyterlab-manager/static/202.0336063976910618ce3f.js?v=0336063976910618ce3f",
        "type": "error"
       },
       "layout": "IPY_MODEL_c912d560cb66436c86c1d010d1828192",
       "max": 548105171,
       "min": 0,
       "msg": "Failed to load model class 'FloatProgressModel' from module '@jupyter-widgets/controls'",
       "orientation": "horizontal",
       "style": "IPY_MODEL_5e58bd1890b94ca297bb3e82ac76c6a6",
       "value": 548105171
      }
     },
     "733172a62e164affa62ccd11389455b8": {
      "model_module": "@jupyter-widgets/controls",
      "model_module_version": "2.0.0",
      "model_name": "HTMLModel",
      "state": {
       "_model_module": "@jupyter-widgets/controls",
       "_model_name": "HTMLModel",
       "_view_name": "ErrorWidgetView",
       "description": "",
       "description_allow_html": false,
       "error": {
        "message": "Loading chunk 202 failed.\n(error: http://192.168.3.2:9900/lab/extensions/@jupyter-widgets/jupyterlab-manager/static/202.0336063976910618ce3f.js?v=0336063976910618ce3f)",
        "name": "ChunkLoadError",
        "request": "http://192.168.3.2:9900/lab/extensions/@jupyter-widgets/jupyterlab-manager/static/202.0336063976910618ce3f.js?v=0336063976910618ce3f",
        "type": "error"
       },
       "layout": "IPY_MODEL_5b6f03686a104787817bf9b0a95807d7",
       "msg": "Failed to load model class 'HTMLModel' from module '@jupyter-widgets/controls'",
       "placeholder": "​",
       "style": "IPY_MODEL_83dea3a254b64a858346098cf149a604",
       "value": "model.safetensors: 100%"
      }
     },
     "734f013b5c9a4096adb4a5ecc9dcedb8": {
      "model_module": "@jupyter-widgets/controls",
      "model_module_version": "2.0.0",
      "model_name": "HBoxModel",
      "state": {
       "_model_module": "@jupyter-widgets/controls",
       "_model_name": "HBoxModel",
       "_view_name": "ErrorWidgetView",
       "box_style": "",
       "children": [
        "IPY_MODEL_b98211c2f146488896ba31109b61d4aa",
        "IPY_MODEL_1549157c7c904260bcecc9817edcc3c3",
        "IPY_MODEL_00efc1eb292c435ab57bc114dc9e3b55"
       ],
       "error": {
        "message": "Loading chunk 495 failed.\n(error: http://192.168.3.2:9900/lab/extensions/@jupyter-widgets/jupyterlab-manager/static/495.3e275af54861cdeb3e75.js?v=3e275af54861cdeb3e75)",
        "name": "ChunkLoadError",
        "request": "http://192.168.3.2:9900/lab/extensions/@jupyter-widgets/jupyterlab-manager/static/495.3e275af54861cdeb3e75.js?v=3e275af54861cdeb3e75",
        "type": "error"
       },
       "layout": "IPY_MODEL_9c90ffa9cc7e49d4b99f9635338e4428",
       "msg": "Failed to load model class 'HBoxModel' from module '@jupyter-widgets/controls'"
      }
     },
     "73b0776a6a334f1c88d7288aeb9fb33a": {
      "model_module": "@jupyter-widgets/controls",
      "model_module_version": "2.0.0",
      "model_name": "HBoxModel",
      "state": {
       "_model_module": "@jupyter-widgets/controls",
       "_model_name": "HBoxModel",
       "_view_name": "ErrorWidgetView",
       "box_style": "",
       "children": [
        "IPY_MODEL_9f68884467da4c8ebb2b582384be571a",
        "IPY_MODEL_83a1d8e6ab054aaa8222b6a20c54309a",
        "IPY_MODEL_98a3bb65baf34932a813b19ea8344762"
       ],
       "error": {
        "message": "Loading chunk 202 failed.\n(error: http://192.168.3.2:9900/lab/extensions/@jupyter-widgets/jupyterlab-manager/static/202.0336063976910618ce3f.js?v=0336063976910618ce3f)",
        "name": "ChunkLoadError",
        "request": "http://192.168.3.2:9900/lab/extensions/@jupyter-widgets/jupyterlab-manager/static/202.0336063976910618ce3f.js?v=0336063976910618ce3f",
        "type": "error"
       },
       "layout": "IPY_MODEL_a38a9ab462b44d3482f77aba7504666f",
       "msg": "Failed to load model class 'HBoxModel' from module '@jupyter-widgets/controls'"
      }
     },
     "73b6e7b15dac4cfc88b117ccd04e2805": {
      "model_module": "@jupyter-widgets/base",
      "model_module_version": "2.0.0",
      "model_name": "LayoutModel",
      "state": {}
     },
     "74e8859499a94fc2a10fc7940e6b00c6": {
      "model_module": "@jupyter-widgets/controls",
      "model_module_version": "2.0.0",
      "model_name": "HTMLModel",
      "state": {
       "_model_module": "@jupyter-widgets/controls",
       "_model_name": "HTMLModel",
       "_view_name": "ErrorWidgetView",
       "description": "",
       "description_allow_html": false,
       "error": {
        "message": "Loading chunk 202 failed.\n(error: http://192.168.3.2:9900/lab/extensions/@jupyter-widgets/jupyterlab-manager/static/202.0336063976910618ce3f.js?v=0336063976910618ce3f)",
        "name": "ChunkLoadError",
        "request": "http://192.168.3.2:9900/lab/extensions/@jupyter-widgets/jupyterlab-manager/static/202.0336063976910618ce3f.js?v=0336063976910618ce3f",
        "type": "error"
       },
       "layout": "IPY_MODEL_880b542514bf49fba1bc91aba7a7af14",
       "msg": "Failed to load model class 'HTMLModel' from module '@jupyter-widgets/controls'",
       "placeholder": "​",
       "style": "IPY_MODEL_89218ab380864b95aed0da2435a2da43",
       "value": "vocab.json: "
      }
     },
     "74fdaccc4c3c47f5afb4fd91cb50fd79": {
      "model_module": "@jupyter-widgets/controls",
      "model_module_version": "2.0.0",
      "model_name": "HTMLStyleModel",
      "state": {
       "_model_module": "@jupyter-widgets/controls",
       "_model_name": "HTMLStyleModel",
       "_view_name": "ErrorWidgetView",
       "background": null,
       "description_width": "",
       "error": {
        "message": "Loading chunk 202 failed.\n(error: http://192.168.3.2:9900/lab/extensions/@jupyter-widgets/jupyterlab-manager/static/202.0336063976910618ce3f.js?v=0336063976910618ce3f)",
        "name": "ChunkLoadError",
        "request": "http://192.168.3.2:9900/lab/extensions/@jupyter-widgets/jupyterlab-manager/static/202.0336063976910618ce3f.js?v=0336063976910618ce3f",
        "type": "error"
       },
       "font_size": null,
       "msg": "Failed to load model class 'HTMLStyleModel' from module '@jupyter-widgets/controls'",
       "text_color": null
      }
     },
     "751e3796f0b64036b58ea696c76084e4": {
      "model_module": "@jupyter-widgets/controls",
      "model_module_version": "2.0.0",
      "model_name": "HBoxModel",
      "state": {
       "_model_module": "@jupyter-widgets/controls",
       "_model_name": "HBoxModel",
       "_view_name": "ErrorWidgetView",
       "box_style": "",
       "children": [
        "IPY_MODEL_8e6c258a25894022a1d908f4f5412b8a",
        "IPY_MODEL_9a1324a8ca6f4d12aa950117764c24a0",
        "IPY_MODEL_0f2a2fe0a1ee41459d4f67a01e709572"
       ],
       "error": {
        "message": "Loading chunk 495 failed.\n(error: http://192.168.3.2:9900/lab/extensions/@jupyter-widgets/jupyterlab-manager/static/495.3e275af54861cdeb3e75.js?v=3e275af54861cdeb3e75)",
        "name": "ChunkLoadError",
        "request": "http://192.168.3.2:9900/lab/extensions/@jupyter-widgets/jupyterlab-manager/static/495.3e275af54861cdeb3e75.js?v=3e275af54861cdeb3e75",
        "type": "error"
       },
       "layout": "IPY_MODEL_970c1dd88f2549c0ab10cb7f9a9df930",
       "msg": "Failed to load model class 'HBoxModel' from module '@jupyter-widgets/controls'"
      }
     },
     "755505561f994a5bb557a68f3c14393a": {
      "model_module": "@jupyter-widgets/base",
      "model_module_version": "2.0.0",
      "model_name": "LayoutModel",
      "state": {}
     },
     "75a2db814c8848a3962bd27fa4a9fca7": {
      "model_module": "@jupyter-widgets/controls",
      "model_module_version": "2.0.0",
      "model_name": "HTMLStyleModel",
      "state": {
       "_model_module": "@jupyter-widgets/controls",
       "_model_name": "HTMLStyleModel",
       "_view_name": "ErrorWidgetView",
       "background": null,
       "description_width": "",
       "error": {
        "message": "Loading chunk 495 failed.\n(error: http://192.168.3.2:9900/lab/extensions/@jupyter-widgets/jupyterlab-manager/static/495.3e275af54861cdeb3e75.js?v=3e275af54861cdeb3e75)",
        "name": "ChunkLoadError",
        "request": "http://192.168.3.2:9900/lab/extensions/@jupyter-widgets/jupyterlab-manager/static/495.3e275af54861cdeb3e75.js?v=3e275af54861cdeb3e75",
        "type": "error"
       },
       "font_size": null,
       "msg": "Failed to load model class 'HTMLStyleModel' from module '@jupyter-widgets/controls'",
       "text_color": null
      }
     },
     "75e7eb3880a54a9a81482e436b29d2b7": {
      "model_module": "@jupyter-widgets/controls",
      "model_module_version": "2.0.0",
      "model_name": "HTMLModel",
      "state": {
       "_model_module": "@jupyter-widgets/controls",
       "_model_name": "HTMLModel",
       "_view_name": "ErrorWidgetView",
       "description": "",
       "description_allow_html": false,
       "error": {
        "message": "Loading chunk 495 failed.\n(error: http://192.168.3.2:9900/lab/extensions/@jupyter-widgets/jupyterlab-manager/static/495.3e275af54861cdeb3e75.js?v=3e275af54861cdeb3e75)",
        "name": "ChunkLoadError",
        "request": "http://192.168.3.2:9900/lab/extensions/@jupyter-widgets/jupyterlab-manager/static/495.3e275af54861cdeb3e75.js?v=3e275af54861cdeb3e75",
        "type": "error"
       },
       "layout": "IPY_MODEL_96baa8c59b604115838f60aff251b403",
       "msg": "Failed to load model class 'HTMLModel' from module '@jupyter-widgets/controls'",
       "placeholder": "​",
       "style": "IPY_MODEL_f089ed01c23646349050963930610dbf",
       "value": " 1.66k/? [00:00&lt;00:00, 101kB/s]"
      }
     },
     "75fc929cdf8145008aa42a0cfe5ad1af": {
      "model_module": "@jupyter-widgets/base",
      "model_module_version": "2.0.0",
      "model_name": "LayoutModel",
      "state": {}
     },
     "76042058faaa4d628c1215dee14d92f6": {
      "model_module": "@jupyter-widgets/base",
      "model_module_version": "2.0.0",
      "model_name": "LayoutModel",
      "state": {}
     },
     "765825a3ff2140668673266de0d18ef8": {
      "model_module": "@jupyter-widgets/controls",
      "model_module_version": "2.0.0",
      "model_name": "HTMLStyleModel",
      "state": {
       "_model_module": "@jupyter-widgets/controls",
       "_model_name": "HTMLStyleModel",
       "_view_name": "ErrorWidgetView",
       "background": null,
       "description_width": "",
       "error": {
        "message": "Loading chunk 202 failed.\n(error: http://192.168.3.2:9900/lab/extensions/@jupyter-widgets/jupyterlab-manager/static/202.0336063976910618ce3f.js?v=0336063976910618ce3f)",
        "name": "ChunkLoadError",
        "request": "http://192.168.3.2:9900/lab/extensions/@jupyter-widgets/jupyterlab-manager/static/202.0336063976910618ce3f.js?v=0336063976910618ce3f",
        "type": "error"
       },
       "font_size": null,
       "msg": "Failed to load model class 'HTMLStyleModel' from module '@jupyter-widgets/controls'",
       "text_color": null
      }
     },
     "76779e1b13f242598c0b2cc105fd4398": {
      "model_module": "@jupyter-widgets/base",
      "model_module_version": "2.0.0",
      "model_name": "LayoutModel",
      "state": {}
     },
     "76c1876516634a6b8b0ff86d9b1a88e8": {
      "model_module": "@jupyter-widgets/controls",
      "model_module_version": "2.0.0",
      "model_name": "HTMLStyleModel",
      "state": {
       "_model_module": "@jupyter-widgets/controls",
       "_model_name": "HTMLStyleModel",
       "_view_name": "ErrorWidgetView",
       "background": null,
       "description_width": "",
       "error": {
        "message": "Loading chunk 202 failed.\n(error: http://192.168.3.2:9900/lab/extensions/@jupyter-widgets/jupyterlab-manager/static/202.0336063976910618ce3f.js?v=0336063976910618ce3f)",
        "name": "ChunkLoadError",
        "request": "http://192.168.3.2:9900/lab/extensions/@jupyter-widgets/jupyterlab-manager/static/202.0336063976910618ce3f.js?v=0336063976910618ce3f",
        "type": "error"
       },
       "font_size": null,
       "msg": "Failed to load model class 'HTMLStyleModel' from module '@jupyter-widgets/controls'",
       "text_color": null
      }
     },
     "76db9084834241248f3f4e8568015743": {
      "model_module": "@jupyter-widgets/base",
      "model_module_version": "2.0.0",
      "model_name": "LayoutModel",
      "state": {}
     },
     "76f25e3a097a4624a37d0829276ced67": {
      "model_module": "@jupyter-widgets/controls",
      "model_module_version": "2.0.0",
      "model_name": "HTMLModel",
      "state": {
       "_model_module": "@jupyter-widgets/controls",
       "_model_name": "HTMLModel",
       "_view_name": "ErrorWidgetView",
       "description": "",
       "description_allow_html": false,
       "error": {
        "message": "Loading chunk 495 failed.\n(error: http://192.168.3.2:9900/lab/extensions/@jupyter-widgets/jupyterlab-manager/static/495.3e275af54861cdeb3e75.js?v=3e275af54861cdeb3e75)",
        "name": "ChunkLoadError",
        "request": "http://192.168.3.2:9900/lab/extensions/@jupyter-widgets/jupyterlab-manager/static/495.3e275af54861cdeb3e75.js?v=3e275af54861cdeb3e75",
        "type": "error"
       },
       "layout": "IPY_MODEL_cd1151ed20534f4594fc93980510d2e1",
       "msg": "Failed to load model class 'HTMLModel' from module '@jupyter-widgets/controls'",
       "placeholder": "​",
       "style": "IPY_MODEL_80b3b26e65f541d791520af4f0a787d6",
       "value": "generation_config.json: 100%"
      }
     },
     "7788c015e23c49039674f456927cfd67": {
      "model_module": "@jupyter-widgets/controls",
      "model_module_version": "2.0.0",
      "model_name": "HTMLModel",
      "state": {
       "_model_module": "@jupyter-widgets/controls",
       "_model_name": "HTMLModel",
       "_view_name": "ErrorWidgetView",
       "description": "",
       "description_allow_html": false,
       "error": {
        "message": "Loading chunk 202 failed.\n(error: http://192.168.3.2:9900/lab/extensions/@jupyter-widgets/jupyterlab-manager/static/202.0336063976910618ce3f.js?v=0336063976910618ce3f)",
        "name": "ChunkLoadError",
        "request": "http://192.168.3.2:9900/lab/extensions/@jupyter-widgets/jupyterlab-manager/static/202.0336063976910618ce3f.js?v=0336063976910618ce3f",
        "type": "error"
       },
       "layout": "IPY_MODEL_cbb9d64b325d4db5be73c8942f60ee19",
       "msg": "Failed to load model class 'HTMLModel' from module '@jupyter-widgets/controls'",
       "placeholder": "​",
       "style": "IPY_MODEL_d9d03011da244d8aaf7b336b523f3283",
       "value": " 2.19k/? [00:00&lt;00:00, 124kB/s]"
      }
     },
     "780b501e37564e518ca412279e00388d": {
      "model_module": "@jupyter-widgets/controls",
      "model_module_version": "2.0.0",
      "model_name": "HBoxModel",
      "state": {
       "_model_module": "@jupyter-widgets/controls",
       "_model_name": "HBoxModel",
       "_view_name": "ErrorWidgetView",
       "box_style": "",
       "children": [
        "IPY_MODEL_e512606e1ca54529b54d2f4b1361a8a5",
        "IPY_MODEL_daf84082c1704f16b9e1270223359394",
        "IPY_MODEL_244f21e0656146ef88f5121873cd9b13"
       ],
       "error": {
        "message": "Loading chunk 202 failed.\n(error: http://192.168.3.2:9900/lab/extensions/@jupyter-widgets/jupyterlab-manager/static/202.0336063976910618ce3f.js?v=0336063976910618ce3f)",
        "name": "ChunkLoadError",
        "request": "http://192.168.3.2:9900/lab/extensions/@jupyter-widgets/jupyterlab-manager/static/202.0336063976910618ce3f.js?v=0336063976910618ce3f",
        "type": "error"
       },
       "layout": "IPY_MODEL_3c7798023f9a445d9d0433125aa11489",
       "msg": "Failed to load model class 'HBoxModel' from module '@jupyter-widgets/controls'"
      }
     },
     "78195dc6598c46d59a95f0fc61ca6c46": {
      "model_module": "@jupyter-widgets/base",
      "model_module_version": "2.0.0",
      "model_name": "LayoutModel",
      "state": {}
     },
     "78226b4f9df145b5aae0f07aaa36c472": {
      "model_module": "@jupyter-widgets/base",
      "model_module_version": "2.0.0",
      "model_name": "LayoutModel",
      "state": {}
     },
     "7878e78cf6c649b394204eca3b23ff25": {
      "model_module": "@jupyter-widgets/base",
      "model_module_version": "2.0.0",
      "model_name": "LayoutModel",
      "state": {}
     },
     "790f742307a042abbf4eb69f07dd9308": {
      "model_module": "@jupyter-widgets/base",
      "model_module_version": "2.0.0",
      "model_name": "LayoutModel",
      "state": {
       "width": "20px"
      }
     },
     "7980f158f83647a689d31b7b7ef2c526": {
      "model_module": "@jupyter-widgets/base",
      "model_module_version": "2.0.0",
      "model_name": "LayoutModel",
      "state": {}
     },
     "798a4ee0067d4641a2805a47cf6e0d21": {
      "model_module": "@jupyter-widgets/controls",
      "model_module_version": "2.0.0",
      "model_name": "HTMLStyleModel",
      "state": {
       "_model_module": "@jupyter-widgets/controls",
       "_model_name": "HTMLStyleModel",
       "_view_name": "ErrorWidgetView",
       "background": null,
       "description_width": "",
       "error": {
        "message": "Loading chunk 495 failed.\n(error: http://192.168.3.2:9900/lab/extensions/@jupyter-widgets/jupyterlab-manager/static/495.3e275af54861cdeb3e75.js?v=3e275af54861cdeb3e75)",
        "name": "ChunkLoadError",
        "request": "http://192.168.3.2:9900/lab/extensions/@jupyter-widgets/jupyterlab-manager/static/495.3e275af54861cdeb3e75.js?v=3e275af54861cdeb3e75",
        "type": "error"
       },
       "font_size": null,
       "msg": "Failed to load model class 'HTMLStyleModel' from module '@jupyter-widgets/controls'",
       "text_color": null
      }
     },
     "798c42b0a0214682930fdd67b86ca95a": {
      "model_module": "@jupyter-widgets/base",
      "model_module_version": "2.0.0",
      "model_name": "LayoutModel",
      "state": {}
     },
     "79a5a4c9caa9443ab564e02e36873a4f": {
      "model_module": "@jupyter-widgets/controls",
      "model_module_version": "2.0.0",
      "model_name": "HBoxModel",
      "state": {
       "_model_module": "@jupyter-widgets/controls",
       "_model_name": "HBoxModel",
       "_view_name": "ErrorWidgetView",
       "box_style": "",
       "children": [
        "IPY_MODEL_656f494f1a5e4a31ab701df54d4fcd92",
        "IPY_MODEL_a3ce62e2126d44248a96be5cacf4e098",
        "IPY_MODEL_157627455f86461ca165c1e5427e2762"
       ],
       "error": {
        "message": "Loading chunk 495 failed.\n(error: http://192.168.3.2:9900/lab/extensions/@jupyter-widgets/jupyterlab-manager/static/495.3e275af54861cdeb3e75.js?v=3e275af54861cdeb3e75)",
        "name": "ChunkLoadError",
        "request": "http://192.168.3.2:9900/lab/extensions/@jupyter-widgets/jupyterlab-manager/static/495.3e275af54861cdeb3e75.js?v=3e275af54861cdeb3e75",
        "type": "error"
       },
       "layout": "IPY_MODEL_3f55c21dac2c42a9b4ad7bb079234927",
       "msg": "Failed to load model class 'HBoxModel' from module '@jupyter-widgets/controls'"
      }
     },
     "79e05d3e308c48cda5c9c92eaaf0ff94": {
      "model_module": "@jupyter-widgets/controls",
      "model_module_version": "2.0.0",
      "model_name": "HTMLModel",
      "state": {
       "_model_module": "@jupyter-widgets/controls",
       "_model_name": "HTMLModel",
       "_view_name": "ErrorWidgetView",
       "description": "",
       "description_allow_html": false,
       "error": {
        "message": "Loading chunk 495 failed.\n(error: http://192.168.3.2:9900/lab/extensions/@jupyter-widgets/jupyterlab-manager/static/495.3e275af54861cdeb3e75.js?v=3e275af54861cdeb3e75)",
        "name": "ChunkLoadError",
        "request": "http://192.168.3.2:9900/lab/extensions/@jupyter-widgets/jupyterlab-manager/static/495.3e275af54861cdeb3e75.js?v=3e275af54861cdeb3e75",
        "type": "error"
       },
       "layout": "IPY_MODEL_54ef6fcb244c49c1b5fb4b64e7e4b783",
       "msg": "Failed to load model class 'HTMLModel' from module '@jupyter-widgets/controls'",
       "placeholder": "​",
       "style": "IPY_MODEL_28e712a0b26b47edb9ea5fa7d10cef47",
       "value": " 687/? [00:00&lt;00:00, 38.0kB/s]"
      }
     },
     "7a8340489e4b46f89ec7fce957a44110": {
      "model_module": "@jupyter-widgets/base",
      "model_module_version": "2.0.0",
      "model_name": "LayoutModel",
      "state": {}
     },
     "7ae1b33e4c1b460b9f185aa71c3d0ce2": {
      "model_module": "@jupyter-widgets/controls",
      "model_module_version": "2.0.0",
      "model_name": "FloatProgressModel",
      "state": {
       "_model_module": "@jupyter-widgets/controls",
       "_model_name": "FloatProgressModel",
       "_view_name": "ErrorWidgetView",
       "bar_style": "success",
       "description": "",
       "description_allow_html": false,
       "error": {
        "message": "Loading chunk 495 failed.\n(error: http://192.168.3.2:9900/lab/extensions/@jupyter-widgets/jupyterlab-manager/static/495.3e275af54861cdeb3e75.js?v=3e275af54861cdeb3e75)",
        "name": "ChunkLoadError",
        "request": "http://192.168.3.2:9900/lab/extensions/@jupyter-widgets/jupyterlab-manager/static/495.3e275af54861cdeb3e75.js?v=3e275af54861cdeb3e75",
        "type": "error"
       },
       "layout": "IPY_MODEL_495aefc29ee64bbcb1b56c25c39b0553",
       "max": 166587896,
       "min": 0,
       "msg": "Failed to load model class 'FloatProgressModel' from module '@jupyter-widgets/controls'",
       "orientation": "horizontal",
       "style": "IPY_MODEL_05d9ac2e913f4eaabc0131f4d739a619",
       "value": 166587896
      }
     },
     "7b2106f5a3d64247bfe2320910eaac9f": {
      "model_module": "@jupyter-widgets/controls",
      "model_module_version": "2.0.0",
      "model_name": "HTMLStyleModel",
      "state": {
       "_model_module": "@jupyter-widgets/controls",
       "_model_name": "HTMLStyleModel",
       "_view_name": "ErrorWidgetView",
       "background": null,
       "description_width": "",
       "error": {
        "message": "Loading chunk 202 failed.\n(error: http://192.168.3.2:9900/lab/extensions/@jupyter-widgets/jupyterlab-manager/static/202.0336063976910618ce3f.js?v=0336063976910618ce3f)",
        "name": "ChunkLoadError",
        "request": "http://192.168.3.2:9900/lab/extensions/@jupyter-widgets/jupyterlab-manager/static/202.0336063976910618ce3f.js?v=0336063976910618ce3f",
        "type": "error"
       },
       "font_size": null,
       "msg": "Failed to load model class 'HTMLStyleModel' from module '@jupyter-widgets/controls'",
       "text_color": null
      }
     },
     "7b4e5112e6484f23b0fa826d6343b249": {
      "model_module": "@jupyter-widgets/controls",
      "model_module_version": "2.0.0",
      "model_name": "HTMLStyleModel",
      "state": {
       "_model_module": "@jupyter-widgets/controls",
       "_model_name": "HTMLStyleModel",
       "_view_name": "ErrorWidgetView",
       "background": null,
       "description_width": "",
       "error": {
        "message": "Loading chunk 495 failed.\n(error: http://192.168.3.2:9900/lab/extensions/@jupyter-widgets/jupyterlab-manager/static/495.3e275af54861cdeb3e75.js?v=3e275af54861cdeb3e75)",
        "name": "ChunkLoadError",
        "request": "http://192.168.3.2:9900/lab/extensions/@jupyter-widgets/jupyterlab-manager/static/495.3e275af54861cdeb3e75.js?v=3e275af54861cdeb3e75",
        "type": "error"
       },
       "font_size": null,
       "msg": "Failed to load model class 'HTMLStyleModel' from module '@jupyter-widgets/controls'",
       "text_color": null
      }
     },
     "7b8631b1427c4cc091b4849842dacb56": {
      "model_module": "@jupyter-widgets/base",
      "model_module_version": "2.0.0",
      "model_name": "LayoutModel",
      "state": {}
     },
     "7b9874a8ffec4873bd171df6b48b80ea": {
      "model_module": "@jupyter-widgets/controls",
      "model_module_version": "2.0.0",
      "model_name": "HTMLStyleModel",
      "state": {
       "_model_module": "@jupyter-widgets/controls",
       "_model_name": "HTMLStyleModel",
       "_view_name": "ErrorWidgetView",
       "background": null,
       "description_width": "",
       "error": {
        "message": "Loading chunk 495 failed.\n(error: http://192.168.3.2:9900/lab/extensions/@jupyter-widgets/jupyterlab-manager/static/495.3e275af54861cdeb3e75.js?v=3e275af54861cdeb3e75)",
        "name": "ChunkLoadError",
        "request": "http://192.168.3.2:9900/lab/extensions/@jupyter-widgets/jupyterlab-manager/static/495.3e275af54861cdeb3e75.js?v=3e275af54861cdeb3e75",
        "type": "error"
       },
       "font_size": null,
       "msg": "Failed to load model class 'HTMLStyleModel' from module '@jupyter-widgets/controls'",
       "text_color": null
      }
     },
     "7c0340567f6a4685885d69067f958d58": {
      "model_module": "@jupyter-widgets/controls",
      "model_module_version": "2.0.0",
      "model_name": "HTMLModel",
      "state": {
       "_model_module": "@jupyter-widgets/controls",
       "_model_name": "HTMLModel",
       "_view_name": "ErrorWidgetView",
       "description": "",
       "description_allow_html": false,
       "error": {
        "message": "Loading chunk 495 failed.\n(error: http://192.168.3.2:9900/lab/extensions/@jupyter-widgets/jupyterlab-manager/static/495.3e275af54861cdeb3e75.js?v=3e275af54861cdeb3e75)",
        "name": "ChunkLoadError",
        "request": "http://192.168.3.2:9900/lab/extensions/@jupyter-widgets/jupyterlab-manager/static/495.3e275af54861cdeb3e75.js?v=3e275af54861cdeb3e75",
        "type": "error"
       },
       "layout": "IPY_MODEL_c1b4946e6bfb438d9a63234bb48f26aa",
       "msg": "Failed to load model class 'HTMLModel' from module '@jupyter-widgets/controls'",
       "placeholder": "​",
       "style": "IPY_MODEL_15cc3bf6935c4db0886fcb308045a947",
       "value": " 872k/? [00:00&lt;00:00, 1.65MB/s]"
      }
     },
     "7cccaada6cf1491e8ec44974aec88fa8": {
      "model_module": "@jupyter-widgets/base",
      "model_module_version": "2.0.0",
      "model_name": "LayoutModel",
      "state": {
       "width": "20px"
      }
     },
     "7ccf95c3db5042659f6ba666a8398fd7": {
      "model_module": "@jupyter-widgets/controls",
      "model_module_version": "2.0.0",
      "model_name": "HTMLModel",
      "state": {
       "_model_module": "@jupyter-widgets/controls",
       "_model_name": "HTMLModel",
       "_view_name": "ErrorWidgetView",
       "description": "",
       "description_allow_html": false,
       "error": {
        "message": "Loading chunk 202 failed.\n(error: http://192.168.3.2:9900/lab/extensions/@jupyter-widgets/jupyterlab-manager/static/202.0336063976910618ce3f.js?v=0336063976910618ce3f)",
        "name": "ChunkLoadError",
        "request": "http://192.168.3.2:9900/lab/extensions/@jupyter-widgets/jupyterlab-manager/static/202.0336063976910618ce3f.js?v=0336063976910618ce3f",
        "type": "error"
       },
       "layout": "IPY_MODEL_581547ebc03d4fd38f95d674f118f5b9",
       "msg": "Failed to load model class 'HTMLModel' from module '@jupyter-widgets/controls'",
       "placeholder": "​",
       "style": "IPY_MODEL_a2ff8c910e5c46dd8440128c813dad87",
       "value": "generation_config.json: 100%"
      }
     },
     "7cd0e846107c4faf846ab2ef5b980a73": {
      "model_module": "@jupyter-widgets/controls",
      "model_module_version": "2.0.0",
      "model_name": "HTMLStyleModel",
      "state": {
       "_model_module": "@jupyter-widgets/controls",
       "_model_name": "HTMLStyleModel",
       "_view_name": "ErrorWidgetView",
       "background": null,
       "description_width": "",
       "error": {
        "message": "Loading chunk 495 failed.\n(error: http://192.168.3.2:9900/lab/extensions/@jupyter-widgets/jupyterlab-manager/static/495.3e275af54861cdeb3e75.js?v=3e275af54861cdeb3e75)",
        "name": "ChunkLoadError",
        "request": "http://192.168.3.2:9900/lab/extensions/@jupyter-widgets/jupyterlab-manager/static/495.3e275af54861cdeb3e75.js?v=3e275af54861cdeb3e75",
        "type": "error"
       },
       "font_size": null,
       "msg": "Failed to load model class 'HTMLStyleModel' from module '@jupyter-widgets/controls'",
       "text_color": null
      }
     },
     "7d12a73d2f054c539fb9e5da2b59c352": {
      "model_module": "@jupyter-widgets/base",
      "model_module_version": "2.0.0",
      "model_name": "LayoutModel",
      "state": {}
     },
     "7d35d4fd2fe34ec8a2ea15daf5a772ac": {
      "model_module": "@jupyter-widgets/controls",
      "model_module_version": "2.0.0",
      "model_name": "ProgressStyleModel",
      "state": {
       "_model_module": "@jupyter-widgets/controls",
       "_model_name": "ProgressStyleModel",
       "_view_name": "ErrorWidgetView",
       "bar_color": null,
       "description_width": "",
       "error": {
        "message": "Loading chunk 202 failed.\n(error: http://192.168.3.2:9900/lab/extensions/@jupyter-widgets/jupyterlab-manager/static/202.0336063976910618ce3f.js?v=0336063976910618ce3f)",
        "name": "ChunkLoadError",
        "request": "http://192.168.3.2:9900/lab/extensions/@jupyter-widgets/jupyterlab-manager/static/202.0336063976910618ce3f.js?v=0336063976910618ce3f",
        "type": "error"
       },
       "msg": "Failed to load model class 'ProgressStyleModel' from module '@jupyter-widgets/controls'"
      }
     },
     "7d4e6d5bff5b4664b8168b4ff24630aa": {
      "model_module": "@jupyter-widgets/controls",
      "model_module_version": "2.0.0",
      "model_name": "HTMLModel",
      "state": {
       "_model_module": "@jupyter-widgets/controls",
       "_model_name": "HTMLModel",
       "_view_name": "ErrorWidgetView",
       "description": "",
       "description_allow_html": false,
       "error": {
        "message": "Loading chunk 495 failed.\n(error: http://192.168.3.2:9900/lab/extensions/@jupyter-widgets/jupyterlab-manager/static/495.3e275af54861cdeb3e75.js?v=3e275af54861cdeb3e75)",
        "name": "ChunkLoadError",
        "request": "http://192.168.3.2:9900/lab/extensions/@jupyter-widgets/jupyterlab-manager/static/495.3e275af54861cdeb3e75.js?v=3e275af54861cdeb3e75",
        "type": "error"
       },
       "layout": "IPY_MODEL_94bca758e30b4dd2bdc4d0d8d25092af",
       "msg": "Failed to load model class 'HTMLModel' from module '@jupyter-widgets/controls'",
       "placeholder": "​",
       "style": "IPY_MODEL_d3a33d90fa95424d8fcc248cc34bf3f6",
       "value": " 892M/892M [00:19&lt;00:00, 51.7MB/s]"
      }
     },
     "7dcb79be8331415a8104c66a5a8867de": {
      "model_module": "@jupyter-widgets/base",
      "model_module_version": "2.0.0",
      "model_name": "LayoutModel",
      "state": {}
     },
     "7df1392143da4103a6b58902b1ab762b": {
      "model_module": "@jupyter-widgets/controls",
      "model_module_version": "2.0.0",
      "model_name": "HTMLModel",
      "state": {
       "_model_module": "@jupyter-widgets/controls",
       "_model_name": "HTMLModel",
       "_view_name": "ErrorWidgetView",
       "description": "",
       "description_allow_html": false,
       "error": {
        "message": "Loading chunk 202 failed.\n(error: http://192.168.3.2:9900/lab/extensions/@jupyter-widgets/jupyterlab-manager/static/202.0336063976910618ce3f.js?v=0336063976910618ce3f)",
        "name": "ChunkLoadError",
        "request": "http://192.168.3.2:9900/lab/extensions/@jupyter-widgets/jupyterlab-manager/static/202.0336063976910618ce3f.js?v=0336063976910618ce3f",
        "type": "error"
       },
       "layout": "IPY_MODEL_d0245319b14f47d2a77a5495986b0175",
       "msg": "Failed to load model class 'HTMLModel' from module '@jupyter-widgets/controls'",
       "placeholder": "​",
       "style": "IPY_MODEL_1aa108c779ab4093ba13f2e0af481be2",
       "value": "pytorch_model.bin: 100%"
      }
     },
     "7dffcfbd4dac4103a6126d525e2a4fec": {
      "model_module": "@jupyter-widgets/controls",
      "model_module_version": "2.0.0",
      "model_name": "HTMLModel",
      "state": {
       "_model_module": "@jupyter-widgets/controls",
       "_model_name": "HTMLModel",
       "_view_name": "ErrorWidgetView",
       "description": "",
       "description_allow_html": false,
       "error": {
        "message": "Loading chunk 202 failed.\n(error: http://192.168.3.2:9900/lab/extensions/@jupyter-widgets/jupyterlab-manager/static/202.0336063976910618ce3f.js?v=0336063976910618ce3f)",
        "name": "ChunkLoadError",
        "request": "http://192.168.3.2:9900/lab/extensions/@jupyter-widgets/jupyterlab-manager/static/202.0336063976910618ce3f.js?v=0336063976910618ce3f",
        "type": "error"
       },
       "layout": "IPY_MODEL_2f95cbe924554310b15d104f873989f4",
       "msg": "Failed to load model class 'HTMLModel' from module '@jupyter-widgets/controls'",
       "placeholder": "​",
       "style": "IPY_MODEL_129bc2ab8418431cb4c1d9b822366e7f",
       "value": "special_tokens_map.json: 100%"
      }
     },
     "7e930b90018041adae68814c5980d22f": {
      "model_module": "@jupyter-widgets/controls",
      "model_module_version": "2.0.0",
      "model_name": "HBoxModel",
      "state": {
       "_model_module": "@jupyter-widgets/controls",
       "_model_name": "HBoxModel",
       "_view_name": "ErrorWidgetView",
       "box_style": "",
       "children": [
        "IPY_MODEL_385035a59e844419a5fdffa3c34cd51b",
        "IPY_MODEL_cb8bd790c5544785a8e856b0cae344b2",
        "IPY_MODEL_75e7eb3880a54a9a81482e436b29d2b7"
       ],
       "error": {
        "message": "Loading chunk 202 failed.\n(error: http://192.168.3.2:9900/lab/extensions/@jupyter-widgets/jupyterlab-manager/static/202.0336063976910618ce3f.js?v=0336063976910618ce3f)",
        "name": "ChunkLoadError",
        "request": "http://192.168.3.2:9900/lab/extensions/@jupyter-widgets/jupyterlab-manager/static/202.0336063976910618ce3f.js?v=0336063976910618ce3f",
        "type": "error"
       },
       "layout": "IPY_MODEL_2420ba6feb7a43ce8747bf1696eb8c4a",
       "msg": "Failed to load model class 'HBoxModel' from module '@jupyter-widgets/controls'"
      }
     },
     "7eaf5f2e11844a6fb01f899b584ff948": {
      "model_module": "@jupyter-widgets/base",
      "model_module_version": "2.0.0",
      "model_name": "LayoutModel",
      "state": {}
     },
     "7ef4d1151a8944099cca01e041167511": {
      "model_module": "@jupyter-widgets/base",
      "model_module_version": "2.0.0",
      "model_name": "LayoutModel",
      "state": {}
     },
     "7f46394c09b940fbaea843ec66fbc533": {
      "model_module": "@jupyter-widgets/controls",
      "model_module_version": "2.0.0",
      "model_name": "HTMLStyleModel",
      "state": {
       "_model_module": "@jupyter-widgets/controls",
       "_model_name": "HTMLStyleModel",
       "_view_name": "ErrorWidgetView",
       "background": null,
       "description_width": "",
       "error": {
        "message": "Loading chunk 495 failed.\n(error: http://192.168.3.2:9900/lab/extensions/@jupyter-widgets/jupyterlab-manager/static/495.3e275af54861cdeb3e75.js?v=3e275af54861cdeb3e75)",
        "name": "ChunkLoadError",
        "request": "http://192.168.3.2:9900/lab/extensions/@jupyter-widgets/jupyterlab-manager/static/495.3e275af54861cdeb3e75.js?v=3e275af54861cdeb3e75",
        "type": "error"
       },
       "font_size": null,
       "msg": "Failed to load model class 'HTMLStyleModel' from module '@jupyter-widgets/controls'",
       "text_color": null
      }
     },
     "7fb85877ac45449faf526f6585e7726c": {
      "model_module": "@jupyter-widgets/controls",
      "model_module_version": "2.0.0",
      "model_name": "HBoxModel",
      "state": {
       "_model_module": "@jupyter-widgets/controls",
       "_model_name": "HBoxModel",
       "_view_name": "ErrorWidgetView",
       "box_style": "",
       "children": [
        "IPY_MODEL_4f57a4f5e93a407b8bae41099b7b647c",
        "IPY_MODEL_b6a3e168dc784ca4811a15a291a2402f",
        "IPY_MODEL_71be88aeac6041f197457a828ef82287"
       ],
       "error": {
        "message": "Loading chunk 202 failed.\n(error: http://192.168.3.2:9900/lab/extensions/@jupyter-widgets/jupyterlab-manager/static/202.0336063976910618ce3f.js?v=0336063976910618ce3f)",
        "name": "ChunkLoadError",
        "request": "http://192.168.3.2:9900/lab/extensions/@jupyter-widgets/jupyterlab-manager/static/202.0336063976910618ce3f.js?v=0336063976910618ce3f",
        "type": "error"
       },
       "layout": "IPY_MODEL_664da2b9a4c444adaded9538eea2b515",
       "msg": "Failed to load model class 'HBoxModel' from module '@jupyter-widgets/controls'"
      }
     },
     "7fd23c10e6be4ee08429369d37e7786e": {
      "model_module": "@jupyter-widgets/base",
      "model_module_version": "2.0.0",
      "model_name": "LayoutModel",
      "state": {}
     },
     "80127d9cffda473f909d7298ca6007a1": {
      "model_module": "@jupyter-widgets/base",
      "model_module_version": "2.0.0",
      "model_name": "LayoutModel",
      "state": {}
     },
     "806231ede26c42a1a5013ba85e2a9c43": {
      "model_module": "@jupyter-widgets/base",
      "model_module_version": "2.0.0",
      "model_name": "LayoutModel",
      "state": {}
     },
     "80b3b26e65f541d791520af4f0a787d6": {
      "model_module": "@jupyter-widgets/controls",
      "model_module_version": "2.0.0",
      "model_name": "HTMLStyleModel",
      "state": {
       "_model_module": "@jupyter-widgets/controls",
       "_model_name": "HTMLStyleModel",
       "_view_name": "ErrorWidgetView",
       "background": null,
       "description_width": "",
       "error": {
        "message": "Loading chunk 202 failed.\n(error: http://192.168.3.2:9900/lab/extensions/@jupyter-widgets/jupyterlab-manager/static/202.0336063976910618ce3f.js?v=0336063976910618ce3f)",
        "name": "ChunkLoadError",
        "request": "http://192.168.3.2:9900/lab/extensions/@jupyter-widgets/jupyterlab-manager/static/202.0336063976910618ce3f.js?v=0336063976910618ce3f",
        "type": "error"
       },
       "font_size": null,
       "msg": "Failed to load model class 'HTMLStyleModel' from module '@jupyter-widgets/controls'",
       "text_color": null
      }
     },
     "811d5265183e4534832563ddcc0abd0b": {
      "model_module": "@jupyter-widgets/controls",
      "model_module_version": "2.0.0",
      "model_name": "ProgressStyleModel",
      "state": {
       "_model_module": "@jupyter-widgets/controls",
       "_model_name": "ProgressStyleModel",
       "_view_name": "ErrorWidgetView",
       "bar_color": null,
       "description_width": "",
       "error": {
        "message": "Loading chunk 202 failed.\n(error: http://192.168.3.2:9900/lab/extensions/@jupyter-widgets/jupyterlab-manager/static/202.0336063976910618ce3f.js?v=0336063976910618ce3f)",
        "name": "ChunkLoadError",
        "request": "http://192.168.3.2:9900/lab/extensions/@jupyter-widgets/jupyterlab-manager/static/202.0336063976910618ce3f.js?v=0336063976910618ce3f",
        "type": "error"
       },
       "msg": "Failed to load model class 'ProgressStyleModel' from module '@jupyter-widgets/controls'"
      }
     },
     "8150b273d6d74dc6846b5b3401806aa0": {
      "model_module": "@jupyter-widgets/base",
      "model_module_version": "2.0.0",
      "model_name": "LayoutModel",
      "state": {}
     },
     "821060209cb540bda11a9d77590e67e0": {
      "model_module": "@jupyter-widgets/controls",
      "model_module_version": "2.0.0",
      "model_name": "HTMLStyleModel",
      "state": {
       "_model_module": "@jupyter-widgets/controls",
       "_model_name": "HTMLStyleModel",
       "_view_name": "ErrorWidgetView",
       "background": null,
       "description_width": "",
       "error": {
        "message": "Loading chunk 202 failed.\n(error: http://192.168.3.2:9900/lab/extensions/@jupyter-widgets/jupyterlab-manager/static/202.0336063976910618ce3f.js?v=0336063976910618ce3f)",
        "name": "ChunkLoadError",
        "request": "http://192.168.3.2:9900/lab/extensions/@jupyter-widgets/jupyterlab-manager/static/202.0336063976910618ce3f.js?v=0336063976910618ce3f",
        "type": "error"
       },
       "font_size": null,
       "msg": "Failed to load model class 'HTMLStyleModel' from module '@jupyter-widgets/controls'",
       "text_color": null
      }
     },
     "821c3f8e01f1435aac5f059cde6e881c": {
      "model_module": "@jupyter-widgets/controls",
      "model_module_version": "2.0.0",
      "model_name": "ProgressStyleModel",
      "state": {
       "_model_module": "@jupyter-widgets/controls",
       "_model_name": "ProgressStyleModel",
       "_view_name": "ErrorWidgetView",
       "bar_color": null,
       "description_width": "",
       "error": {
        "message": "Loading chunk 202 failed.\n(error: http://192.168.3.2:9900/lab/extensions/@jupyter-widgets/jupyterlab-manager/static/202.0336063976910618ce3f.js?v=0336063976910618ce3f)",
        "name": "ChunkLoadError",
        "request": "http://192.168.3.2:9900/lab/extensions/@jupyter-widgets/jupyterlab-manager/static/202.0336063976910618ce3f.js?v=0336063976910618ce3f",
        "type": "error"
       },
       "msg": "Failed to load model class 'ProgressStyleModel' from module '@jupyter-widgets/controls'"
      }
     },
     "8230a8ad07c94e32bb4565aa431a8f88": {
      "model_module": "@jupyter-widgets/controls",
      "model_module_version": "2.0.0",
      "model_name": "HTMLStyleModel",
      "state": {
       "_model_module": "@jupyter-widgets/controls",
       "_model_name": "HTMLStyleModel",
       "_view_name": "ErrorWidgetView",
       "background": null,
       "description_width": "",
       "error": {
        "message": "Loading chunk 202 failed.\n(error: http://192.168.3.2:9900/lab/extensions/@jupyter-widgets/jupyterlab-manager/static/202.0336063976910618ce3f.js?v=0336063976910618ce3f)",
        "name": "ChunkLoadError",
        "request": "http://192.168.3.2:9900/lab/extensions/@jupyter-widgets/jupyterlab-manager/static/202.0336063976910618ce3f.js?v=0336063976910618ce3f",
        "type": "error"
       },
       "font_size": null,
       "msg": "Failed to load model class 'HTMLStyleModel' from module '@jupyter-widgets/controls'",
       "text_color": null
      }
     },
     "827981ade4f540e4b1e0c06cbea2c1d3": {
      "model_module": "@jupyter-widgets/base",
      "model_module_version": "2.0.0",
      "model_name": "LayoutModel",
      "state": {}
     },
     "827c1915558643a69b968c1c4c861149": {
      "model_module": "@jupyter-widgets/controls",
      "model_module_version": "2.0.0",
      "model_name": "FloatProgressModel",
      "state": {
       "_model_module": "@jupyter-widgets/controls",
       "_model_name": "FloatProgressModel",
       "_view_name": "ErrorWidgetView",
       "bar_style": "success",
       "description": "",
       "description_allow_html": false,
       "error": {
        "message": "Loading chunk 495 failed.\n(error: http://192.168.3.2:9900/lab/extensions/@jupyter-widgets/jupyterlab-manager/static/495.3e275af54861cdeb3e75.js?v=3e275af54861cdeb3e75)",
        "name": "ChunkLoadError",
        "request": "http://192.168.3.2:9900/lab/extensions/@jupyter-widgets/jupyterlab-manager/static/495.3e275af54861cdeb3e75.js?v=3e275af54861cdeb3e75",
        "type": "error"
       },
       "layout": "IPY_MODEL_c273123669c54d4eb178908d2a22f977",
       "max": 481,
       "min": 0,
       "msg": "Failed to load model class 'FloatProgressModel' from module '@jupyter-widgets/controls'",
       "orientation": "horizontal",
       "style": "IPY_MODEL_22959818d04a417f87dafb874950e913",
       "value": 481
      }
     },
     "82b14deb5f894bdeb16196073a4628cd": {
      "model_module": "@jupyter-widgets/base",
      "model_module_version": "2.0.0",
      "model_name": "LayoutModel",
      "state": {}
     },
     "8397f5391100475aaba3c1b41e76a481": {
      "model_module": "@jupyter-widgets/controls",
      "model_module_version": "2.0.0",
      "model_name": "ProgressStyleModel",
      "state": {
       "_model_module": "@jupyter-widgets/controls",
       "_model_name": "ProgressStyleModel",
       "_view_name": "ErrorWidgetView",
       "bar_color": null,
       "description_width": "",
       "error": {
        "message": "Loading chunk 495 failed.\n(error: http://192.168.3.2:9900/lab/extensions/@jupyter-widgets/jupyterlab-manager/static/495.3e275af54861cdeb3e75.js?v=3e275af54861cdeb3e75)",
        "name": "ChunkLoadError",
        "request": "http://192.168.3.2:9900/lab/extensions/@jupyter-widgets/jupyterlab-manager/static/495.3e275af54861cdeb3e75.js?v=3e275af54861cdeb3e75",
        "type": "error"
       },
       "msg": "Failed to load model class 'ProgressStyleModel' from module '@jupyter-widgets/controls'"
      }
     },
     "83a1d8e6ab054aaa8222b6a20c54309a": {
      "model_module": "@jupyter-widgets/controls",
      "model_module_version": "2.0.0",
      "model_name": "FloatProgressModel",
      "state": {
       "_model_module": "@jupyter-widgets/controls",
       "_model_name": "FloatProgressModel",
       "_view_name": "ErrorWidgetView",
       "bar_style": "success",
       "description": "",
       "description_allow_html": false,
       "error": {
        "message": "Loading chunk 495 failed.\n(error: http://192.168.3.2:9900/lab/extensions/@jupyter-widgets/jupyterlab-manager/static/495.3e275af54861cdeb3e75.js?v=3e275af54861cdeb3e75)",
        "name": "ChunkLoadError",
        "request": "http://192.168.3.2:9900/lab/extensions/@jupyter-widgets/jupyterlab-manager/static/495.3e275af54861cdeb3e75.js?v=3e275af54861cdeb3e75",
        "type": "error"
       },
       "layout": "IPY_MODEL_b74bc030dfbf4f3793ae970822f7c478",
       "max": 1,
       "min": 0,
       "msg": "Failed to load model class 'FloatProgressModel' from module '@jupyter-widgets/controls'",
       "orientation": "horizontal",
       "style": "IPY_MODEL_8f0a8966f15f49eab49fecbe74b790a6",
       "value": 1
      }
     },
     "83a6a1a9ba07459da39639acb9a83616": {
      "model_module": "@jupyter-widgets/controls",
      "model_module_version": "2.0.0",
      "model_name": "HTMLStyleModel",
      "state": {
       "_model_module": "@jupyter-widgets/controls",
       "_model_name": "HTMLStyleModel",
       "_view_name": "ErrorWidgetView",
       "background": null,
       "description_width": "",
       "error": {
        "message": "Loading chunk 495 failed.\n(error: http://192.168.3.2:9900/lab/extensions/@jupyter-widgets/jupyterlab-manager/static/495.3e275af54861cdeb3e75.js?v=3e275af54861cdeb3e75)",
        "name": "ChunkLoadError",
        "request": "http://192.168.3.2:9900/lab/extensions/@jupyter-widgets/jupyterlab-manager/static/495.3e275af54861cdeb3e75.js?v=3e275af54861cdeb3e75",
        "type": "error"
       },
       "font_size": null,
       "msg": "Failed to load model class 'HTMLStyleModel' from module '@jupyter-widgets/controls'",
       "text_color": null
      }
     },
     "83c3138df9144b7ea848876290fdbf12": {
      "model_module": "@jupyter-widgets/controls",
      "model_module_version": "2.0.0",
      "model_name": "HTMLModel",
      "state": {
       "_model_module": "@jupyter-widgets/controls",
       "_model_name": "HTMLModel",
       "_view_name": "ErrorWidgetView",
       "description": "",
       "description_allow_html": false,
       "error": {
        "message": "Loading chunk 202 failed.\n(error: http://192.168.3.2:9900/lab/extensions/@jupyter-widgets/jupyterlab-manager/static/202.0336063976910618ce3f.js?v=0336063976910618ce3f)",
        "name": "ChunkLoadError",
        "request": "http://192.168.3.2:9900/lab/extensions/@jupyter-widgets/jupyterlab-manager/static/202.0336063976910618ce3f.js?v=0336063976910618ce3f",
        "type": "error"
       },
       "layout": "IPY_MODEL_236b68492d4c454e91c2c5630b3b41e5",
       "msg": "Failed to load model class 'HTMLModel' from module '@jupyter-widgets/controls'",
       "placeholder": "​",
       "style": "IPY_MODEL_367bb1ee71c04751b1c897f0a5605e9d",
       "value": " 147/147 [00:00&lt;00:00, 10.1kB/s]"
      }
     },
     "83ccde41e83e4173b130ac023c14b719": {
      "model_module": "@jupyter-widgets/base",
      "model_module_version": "2.0.0",
      "model_name": "LayoutModel",
      "state": {}
     },
     "83d583e4b37a4c1cb11db46759fcc06a": {
      "model_module": "@jupyter-widgets/base",
      "model_module_version": "2.0.0",
      "model_name": "LayoutModel",
      "state": {}
     },
     "83dea3a254b64a858346098cf149a604": {
      "model_module": "@jupyter-widgets/controls",
      "model_module_version": "2.0.0",
      "model_name": "HTMLStyleModel",
      "state": {
       "_model_module": "@jupyter-widgets/controls",
       "_model_name": "HTMLStyleModel",
       "_view_name": "ErrorWidgetView",
       "background": null,
       "description_width": "",
       "error": {
        "message": "Loading chunk 495 failed.\n(error: http://192.168.3.2:9900/lab/extensions/@jupyter-widgets/jupyterlab-manager/static/495.3e275af54861cdeb3e75.js?v=3e275af54861cdeb3e75)",
        "name": "ChunkLoadError",
        "request": "http://192.168.3.2:9900/lab/extensions/@jupyter-widgets/jupyterlab-manager/static/495.3e275af54861cdeb3e75.js?v=3e275af54861cdeb3e75",
        "type": "error"
       },
       "font_size": null,
       "msg": "Failed to load model class 'HTMLStyleModel' from module '@jupyter-widgets/controls'",
       "text_color": null
      }
     },
     "8403d18cd0844f9289234f98cec180a1": {
      "model_module": "@jupyter-widgets/controls",
      "model_module_version": "2.0.0",
      "model_name": "ProgressStyleModel",
      "state": {
       "_model_module": "@jupyter-widgets/controls",
       "_model_name": "ProgressStyleModel",
       "_view_name": "ErrorWidgetView",
       "bar_color": null,
       "description_width": "",
       "error": {
        "message": "Loading chunk 202 failed.\n(error: http://192.168.3.2:9900/lab/extensions/@jupyter-widgets/jupyterlab-manager/static/202.0336063976910618ce3f.js?v=0336063976910618ce3f)",
        "name": "ChunkLoadError",
        "request": "http://192.168.3.2:9900/lab/extensions/@jupyter-widgets/jupyterlab-manager/static/202.0336063976910618ce3f.js?v=0336063976910618ce3f",
        "type": "error"
       },
       "msg": "Failed to load model class 'ProgressStyleModel' from module '@jupyter-widgets/controls'"
      }
     },
     "8403e4463d2e4540bfd914cef711d644": {
      "model_module": "@jupyter-widgets/base",
      "model_module_version": "2.0.0",
      "model_name": "LayoutModel",
      "state": {}
     },
     "848d17d69abd49eea9b6d2534fe2f52b": {
      "model_module": "@jupyter-widgets/controls",
      "model_module_version": "2.0.0",
      "model_name": "HTMLModel",
      "state": {
       "_model_module": "@jupyter-widgets/controls",
       "_model_name": "HTMLModel",
       "_view_name": "ErrorWidgetView",
       "description": "",
       "description_allow_html": false,
       "error": {
        "message": "Loading chunk 202 failed.\n(error: http://192.168.3.2:9900/lab/extensions/@jupyter-widgets/jupyterlab-manager/static/202.0336063976910618ce3f.js?v=0336063976910618ce3f)",
        "name": "ChunkLoadError",
        "request": "http://192.168.3.2:9900/lab/extensions/@jupyter-widgets/jupyterlab-manager/static/202.0336063976910618ce3f.js?v=0336063976910618ce3f",
        "type": "error"
       },
       "layout": "IPY_MODEL_7fd23c10e6be4ee08429369d37e7786e",
       "msg": "Failed to load model class 'HTMLModel' from module '@jupyter-widgets/controls'",
       "placeholder": "​",
       "style": "IPY_MODEL_1c73e167ffc2469c9f1419cbb559346e",
       "value": "model.safetensors: 100%"
      }
     },
     "84918e78fb9c4a27b665f993da400447": {
      "model_module": "@jupyter-widgets/base",
      "model_module_version": "2.0.0",
      "model_name": "LayoutModel",
      "state": {}
     },
     "851fec34391f483e91bfd268501156e0": {
      "model_module": "@jupyter-widgets/controls",
      "model_module_version": "2.0.0",
      "model_name": "HTMLStyleModel",
      "state": {
       "_model_module": "@jupyter-widgets/controls",
       "_model_name": "HTMLStyleModel",
       "_view_name": "ErrorWidgetView",
       "background": null,
       "description_width": "",
       "error": {
        "message": "Loading chunk 202 failed.\n(error: http://192.168.3.2:9900/lab/extensions/@jupyter-widgets/jupyterlab-manager/static/202.0336063976910618ce3f.js?v=0336063976910618ce3f)",
        "name": "ChunkLoadError",
        "request": "http://192.168.3.2:9900/lab/extensions/@jupyter-widgets/jupyterlab-manager/static/202.0336063976910618ce3f.js?v=0336063976910618ce3f",
        "type": "error"
       },
       "font_size": null,
       "msg": "Failed to load model class 'HTMLStyleModel' from module '@jupyter-widgets/controls'",
       "text_color": null
      }
     },
     "852e1fe451d54edebec3313113e43a3a": {
      "model_module": "@jupyter-widgets/controls",
      "model_module_version": "2.0.0",
      "model_name": "HBoxModel",
      "state": {
       "_model_module": "@jupyter-widgets/controls",
       "_model_name": "HBoxModel",
       "_view_name": "ErrorWidgetView",
       "box_style": "",
       "children": [
        "IPY_MODEL_8d6abdd7cc8e4ac19f40f3de607b9329",
        "IPY_MODEL_27be69885df541b7b7f456652bce9cc8",
        "IPY_MODEL_36f7d6a613354a3d9037a7deef52a709"
       ],
       "error": {
        "message": "Loading chunk 495 failed.\n(error: http://192.168.3.2:9900/lab/extensions/@jupyter-widgets/jupyterlab-manager/static/495.3e275af54861cdeb3e75.js?v=3e275af54861cdeb3e75)",
        "name": "ChunkLoadError",
        "request": "http://192.168.3.2:9900/lab/extensions/@jupyter-widgets/jupyterlab-manager/static/495.3e275af54861cdeb3e75.js?v=3e275af54861cdeb3e75",
        "type": "error"
       },
       "layout": "IPY_MODEL_3a4caaa2362842b4843d07d46aeaf842",
       "msg": "Failed to load model class 'HBoxModel' from module '@jupyter-widgets/controls'"
      }
     },
     "853b671048724f2fbddd98d950a06be6": {
      "model_module": "@jupyter-widgets/base",
      "model_module_version": "2.0.0",
      "model_name": "LayoutModel",
      "state": {}
     },
     "8542c0e0dcef4b4a96adf66775a0cef2": {
      "model_module": "@jupyter-widgets/controls",
      "model_module_version": "2.0.0",
      "model_name": "HTMLModel",
      "state": {
       "_model_module": "@jupyter-widgets/controls",
       "_model_name": "HTMLModel",
       "_view_name": "ErrorWidgetView",
       "description": "",
       "description_allow_html": false,
       "error": {
        "message": "Loading chunk 202 failed.\n(error: http://192.168.3.2:9900/lab/extensions/@jupyter-widgets/jupyterlab-manager/static/202.0336063976910618ce3f.js?v=0336063976910618ce3f)",
        "name": "ChunkLoadError",
        "request": "http://192.168.3.2:9900/lab/extensions/@jupyter-widgets/jupyterlab-manager/static/202.0336063976910618ce3f.js?v=0336063976910618ce3f",
        "type": "error"
       },
       "layout": "IPY_MODEL_587778943daa454d95a629b4436940fc",
       "msg": "Failed to load model class 'HTMLModel' from module '@jupyter-widgets/controls'",
       "placeholder": "​",
       "style": "IPY_MODEL_9f2751f71c954d9881b4fddb309e7cb1",
       "value": "tokenizer.json: "
      }
     },
     "8548438b0c03429081468739b5d4a84f": {
      "model_module": "@jupyter-widgets/base",
      "model_module_version": "2.0.0",
      "model_name": "LayoutModel",
      "state": {}
     },
     "854ca8bc14c24d3cbc4e5dff9f909084": {
      "model_module": "@jupyter-widgets/controls",
      "model_module_version": "2.0.0",
      "model_name": "HTMLModel",
      "state": {
       "_model_module": "@jupyter-widgets/controls",
       "_model_name": "HTMLModel",
       "_view_name": "ErrorWidgetView",
       "description": "",
       "description_allow_html": false,
       "error": {
        "message": "Loading chunk 495 failed.\n(error: http://192.168.3.2:9900/lab/extensions/@jupyter-widgets/jupyterlab-manager/static/495.3e275af54861cdeb3e75.js?v=3e275af54861cdeb3e75)",
        "name": "ChunkLoadError",
        "request": "http://192.168.3.2:9900/lab/extensions/@jupyter-widgets/jupyterlab-manager/static/495.3e275af54861cdeb3e75.js?v=3e275af54861cdeb3e75",
        "type": "error"
       },
       "layout": "IPY_MODEL_827981ade4f540e4b1e0c06cbea2c1d3",
       "msg": "Failed to load model class 'HTMLModel' from module '@jupyter-widgets/controls'",
       "placeholder": "​",
       "style": "IPY_MODEL_ce7d8905d3604efbb40925e3b0b0c85c",
       "value": "vocab.txt: "
      }
     },
     "85652351ea154cf6ad0b16893823e828": {
      "model_module": "@jupyter-widgets/base",
      "model_module_version": "2.0.0",
      "model_name": "LayoutModel",
      "state": {}
     },
     "8573ce24c44f4c4190591dc47aa63700": {
      "model_module": "@jupyter-widgets/controls",
      "model_module_version": "2.0.0",
      "model_name": "HTMLModel",
      "state": {
       "_model_module": "@jupyter-widgets/controls",
       "_model_name": "HTMLModel",
       "_view_name": "ErrorWidgetView",
       "description": "",
       "description_allow_html": false,
       "error": {
        "message": "Loading chunk 202 failed.\n(error: http://192.168.3.2:9900/lab/extensions/@jupyter-widgets/jupyterlab-manager/static/202.0336063976910618ce3f.js?v=0336063976910618ce3f)",
        "name": "ChunkLoadError",
        "request": "http://192.168.3.2:9900/lab/extensions/@jupyter-widgets/jupyterlab-manager/static/202.0336063976910618ce3f.js?v=0336063976910618ce3f",
        "type": "error"
       },
       "layout": "IPY_MODEL_70cd05fc032b422c978e15395e54248a",
       "msg": "Failed to load model class 'HTMLModel' from module '@jupyter-widgets/controls'",
       "placeholder": "​",
       "style": "IPY_MODEL_130d9684b3634f93b80d54edc7d186c2",
       "value": "special_tokens_map.json: 100%"
      }
     },
     "85af68b1ec3349bc8457f3d6737a039e": {
      "model_module": "@jupyter-widgets/controls",
      "model_module_version": "2.0.0",
      "model_name": "HBoxModel",
      "state": {
       "_model_module": "@jupyter-widgets/controls",
       "_model_name": "HBoxModel",
       "_view_name": "ErrorWidgetView",
       "box_style": "",
       "children": [
        "IPY_MODEL_f5171bd60c9348edb8a7efb9f1c19079",
        "IPY_MODEL_3ab12eb0f7d94962bf19018b0a1094de",
        "IPY_MODEL_5992f799715344518672980fada1f466"
       ],
       "error": {
        "message": "Loading chunk 202 failed.\n(error: http://192.168.3.2:9900/lab/extensions/@jupyter-widgets/jupyterlab-manager/static/202.0336063976910618ce3f.js?v=0336063976910618ce3f)",
        "name": "ChunkLoadError",
        "request": "http://192.168.3.2:9900/lab/extensions/@jupyter-widgets/jupyterlab-manager/static/202.0336063976910618ce3f.js?v=0336063976910618ce3f",
        "type": "error"
       },
       "layout": "IPY_MODEL_57fcebd89dd340bf968030d1d6948a32",
       "msg": "Failed to load model class 'HBoxModel' from module '@jupyter-widgets/controls'"
      }
     },
     "85d68afae16c468d8e4ae1e4c628433e": {
      "model_module": "@jupyter-widgets/base",
      "model_module_version": "2.0.0",
      "model_name": "LayoutModel",
      "state": {}
     },
     "85d75811c0ca4965ac97bb6e3c45ba6e": {
      "model_module": "@jupyter-widgets/controls",
      "model_module_version": "2.0.0",
      "model_name": "ProgressStyleModel",
      "state": {
       "_model_module": "@jupyter-widgets/controls",
       "_model_name": "ProgressStyleModel",
       "_view_name": "ErrorWidgetView",
       "bar_color": null,
       "description_width": "",
       "error": {
        "message": "Loading chunk 202 failed.\n(error: http://192.168.3.2:9900/lab/extensions/@jupyter-widgets/jupyterlab-manager/static/202.0336063976910618ce3f.js?v=0336063976910618ce3f)",
        "name": "ChunkLoadError",
        "request": "http://192.168.3.2:9900/lab/extensions/@jupyter-widgets/jupyterlab-manager/static/202.0336063976910618ce3f.js?v=0336063976910618ce3f",
        "type": "error"
       },
       "msg": "Failed to load model class 'ProgressStyleModel' from module '@jupyter-widgets/controls'"
      }
     },
     "86320f3de12a45cda2d9d7a5a51b0c75": {
      "model_module": "@jupyter-widgets/base",
      "model_module_version": "2.0.0",
      "model_name": "LayoutModel",
      "state": {}
     },
     "86d0353f35d242a2bdb3507282627008": {
      "model_module": "@jupyter-widgets/base",
      "model_module_version": "2.0.0",
      "model_name": "LayoutModel",
      "state": {}
     },
     "86f31cb8b56f40608aa29267e6ebcfbb": {
      "model_module": "@jupyter-widgets/base",
      "model_module_version": "2.0.0",
      "model_name": "LayoutModel",
      "state": {
       "width": "20px"
      }
     },
     "875396ef1cfa4f04895946057d598782": {
      "model_module": "@jupyter-widgets/controls",
      "model_module_version": "2.0.0",
      "model_name": "HTMLModel",
      "state": {
       "_model_module": "@jupyter-widgets/controls",
       "_model_name": "HTMLModel",
       "_view_name": "ErrorWidgetView",
       "description": "",
       "description_allow_html": false,
       "error": {
        "message": "Loading chunk 495 failed.\n(error: http://192.168.3.2:9900/lab/extensions/@jupyter-widgets/jupyterlab-manager/static/495.3e275af54861cdeb3e75.js?v=3e275af54861cdeb3e75)",
        "name": "ChunkLoadError",
        "request": "http://192.168.3.2:9900/lab/extensions/@jupyter-widgets/jupyterlab-manager/static/495.3e275af54861cdeb3e75.js?v=3e275af54861cdeb3e75",
        "type": "error"
       },
       "layout": "IPY_MODEL_290a9f2897f24455a2e52f1b2f395fe1",
       "msg": "Failed to load model class 'HTMLModel' from module '@jupyter-widgets/controls'",
       "placeholder": "​",
       "style": "IPY_MODEL_8bc0440149e0462f9a595dd1d14e57a7",
       "value": "config.json: "
      }
     },
     "87eb15d6092842bbbbcafd11949faa95": {
      "model_module": "@jupyter-widgets/controls",
      "model_module_version": "2.0.0",
      "model_name": "HTMLModel",
      "state": {
       "_model_module": "@jupyter-widgets/controls",
       "_model_name": "HTMLModel",
       "_view_name": "ErrorWidgetView",
       "description": "",
       "description_allow_html": false,
       "error": {
        "message": "Loading chunk 495 failed.\n(error: http://192.168.3.2:9900/lab/extensions/@jupyter-widgets/jupyterlab-manager/static/495.3e275af54861cdeb3e75.js?v=3e275af54861cdeb3e75)",
        "name": "ChunkLoadError",
        "request": "http://192.168.3.2:9900/lab/extensions/@jupyter-widgets/jupyterlab-manager/static/495.3e275af54861cdeb3e75.js?v=3e275af54861cdeb3e75",
        "type": "error"
       },
       "layout": "IPY_MODEL_4dee6f089b2d4d3d87464332529b383b",
       "msg": "Failed to load model class 'HTMLModel' from module '@jupyter-widgets/controls'",
       "placeholder": "​",
       "style": "IPY_MODEL_29cbb0a264d547fb9bdd8ca6c61a0c99",
       "value": " 2.32k/? [00:00&lt;00:00, 140kB/s]"
      }
     },
     "880b542514bf49fba1bc91aba7a7af14": {
      "model_module": "@jupyter-widgets/base",
      "model_module_version": "2.0.0",
      "model_name": "LayoutModel",
      "state": {}
     },
     "89218ab380864b95aed0da2435a2da43": {
      "model_module": "@jupyter-widgets/controls",
      "model_module_version": "2.0.0",
      "model_name": "HTMLStyleModel",
      "state": {
       "_model_module": "@jupyter-widgets/controls",
       "_model_name": "HTMLStyleModel",
       "_view_name": "ErrorWidgetView",
       "background": null,
       "description_width": "",
       "error": {
        "message": "Loading chunk 495 failed.\n(error: http://192.168.3.2:9900/lab/extensions/@jupyter-widgets/jupyterlab-manager/static/495.3e275af54861cdeb3e75.js?v=3e275af54861cdeb3e75)",
        "name": "ChunkLoadError",
        "request": "http://192.168.3.2:9900/lab/extensions/@jupyter-widgets/jupyterlab-manager/static/495.3e275af54861cdeb3e75.js?v=3e275af54861cdeb3e75",
        "type": "error"
       },
       "font_size": null,
       "msg": "Failed to load model class 'HTMLStyleModel' from module '@jupyter-widgets/controls'",
       "text_color": null
      }
     },
     "8953341d87354309b91eae6ffe4f1b65": {
      "model_module": "@jupyter-widgets/controls",
      "model_module_version": "2.0.0",
      "model_name": "HTMLStyleModel",
      "state": {
       "_model_module": "@jupyter-widgets/controls",
       "_model_name": "HTMLStyleModel",
       "_view_name": "ErrorWidgetView",
       "background": null,
       "description_width": "",
       "error": {
        "message": "Loading chunk 202 failed.\n(error: http://192.168.3.2:9900/lab/extensions/@jupyter-widgets/jupyterlab-manager/static/202.0336063976910618ce3f.js?v=0336063976910618ce3f)",
        "name": "ChunkLoadError",
        "request": "http://192.168.3.2:9900/lab/extensions/@jupyter-widgets/jupyterlab-manager/static/202.0336063976910618ce3f.js?v=0336063976910618ce3f",
        "type": "error"
       },
       "font_size": null,
       "msg": "Failed to load model class 'HTMLStyleModel' from module '@jupyter-widgets/controls'",
       "text_color": null
      }
     },
     "89bce4617bf848ac9b48f48063d4824f": {
      "model_module": "@jupyter-widgets/base",
      "model_module_version": "2.0.0",
      "model_name": "LayoutModel",
      "state": {}
     },
     "8a0dac6f837145acadb09e5cb03b4334": {
      "model_module": "@jupyter-widgets/controls",
      "model_module_version": "2.0.0",
      "model_name": "HBoxModel",
      "state": {
       "_model_module": "@jupyter-widgets/controls",
       "_model_name": "HBoxModel",
       "_view_name": "ErrorWidgetView",
       "box_style": "",
       "children": [
        "IPY_MODEL_12a4d01d474e42f1ac4a0636a74ef0f7",
        "IPY_MODEL_469ef810c1e64ac391600f6ef937db68",
        "IPY_MODEL_03409ade2f2741a28d4d2f3f195c4aa4"
       ],
       "error": {
        "message": "Loading chunk 495 failed.\n(error: http://192.168.3.2:9900/lab/extensions/@jupyter-widgets/jupyterlab-manager/static/495.3e275af54861cdeb3e75.js?v=3e275af54861cdeb3e75)",
        "name": "ChunkLoadError",
        "request": "http://192.168.3.2:9900/lab/extensions/@jupyter-widgets/jupyterlab-manager/static/495.3e275af54861cdeb3e75.js?v=3e275af54861cdeb3e75",
        "type": "error"
       },
       "layout": "IPY_MODEL_e2c3627332044acab0056bc58f7085ff",
       "msg": "Failed to load model class 'HBoxModel' from module '@jupyter-widgets/controls'"
      }
     },
     "8a3381c180e44bd183cc254d0569d2ad": {
      "model_module": "@jupyter-widgets/base",
      "model_module_version": "2.0.0",
      "model_name": "LayoutModel",
      "state": {}
     },
     "8a59bfd5e3a440a283fcd55ac2cfd6f7": {
      "model_module": "@jupyter-widgets/base",
      "model_module_version": "2.0.0",
      "model_name": "LayoutModel",
      "state": {}
     },
     "8a5dc8f604584a90bca8d27b3d228c73": {
      "model_module": "@jupyter-widgets/base",
      "model_module_version": "2.0.0",
      "model_name": "LayoutModel",
      "state": {}
     },
     "8b6c7ef3ef4044539a95604abf53fc4f": {
      "model_module": "@jupyter-widgets/base",
      "model_module_version": "2.0.0",
      "model_name": "LayoutModel",
      "state": {}
     },
     "8ba1a95403334a518b51c02731a157f5": {
      "model_module": "@jupyter-widgets/controls",
      "model_module_version": "2.0.0",
      "model_name": "HTMLStyleModel",
      "state": {
       "_model_module": "@jupyter-widgets/controls",
       "_model_name": "HTMLStyleModel",
       "_view_name": "ErrorWidgetView",
       "background": null,
       "description_width": "",
       "error": {
        "message": "Loading chunk 495 failed.\n(error: http://192.168.3.2:9900/lab/extensions/@jupyter-widgets/jupyterlab-manager/static/495.3e275af54861cdeb3e75.js?v=3e275af54861cdeb3e75)",
        "name": "ChunkLoadError",
        "request": "http://192.168.3.2:9900/lab/extensions/@jupyter-widgets/jupyterlab-manager/static/495.3e275af54861cdeb3e75.js?v=3e275af54861cdeb3e75",
        "type": "error"
       },
       "font_size": null,
       "msg": "Failed to load model class 'HTMLStyleModel' from module '@jupyter-widgets/controls'",
       "text_color": null
      }
     },
     "8bc0440149e0462f9a595dd1d14e57a7": {
      "model_module": "@jupyter-widgets/controls",
      "model_module_version": "2.0.0",
      "model_name": "HTMLStyleModel",
      "state": {
       "_model_module": "@jupyter-widgets/controls",
       "_model_name": "HTMLStyleModel",
       "_view_name": "ErrorWidgetView",
       "background": null,
       "description_width": "",
       "error": {
        "message": "Loading chunk 202 failed.\n(error: http://192.168.3.2:9900/lab/extensions/@jupyter-widgets/jupyterlab-manager/static/202.0336063976910618ce3f.js?v=0336063976910618ce3f)",
        "name": "ChunkLoadError",
        "request": "http://192.168.3.2:9900/lab/extensions/@jupyter-widgets/jupyterlab-manager/static/202.0336063976910618ce3f.js?v=0336063976910618ce3f",
        "type": "error"
       },
       "font_size": null,
       "msg": "Failed to load model class 'HTMLStyleModel' from module '@jupyter-widgets/controls'",
       "text_color": null
      }
     },
     "8c2c8ef76956436f81c9002bf1deb63e": {
      "model_module": "@jupyter-widgets/controls",
      "model_module_version": "2.0.0",
      "model_name": "HBoxModel",
      "state": {
       "_model_module": "@jupyter-widgets/controls",
       "_model_name": "HBoxModel",
       "_view_name": "ErrorWidgetView",
       "box_style": "",
       "children": [
        "IPY_MODEL_2efd25859d494acf98e9a42d6fc33bf3",
        "IPY_MODEL_110276a903b84e5fb126c43341b57e8c",
        "IPY_MODEL_feb1ffca916d4e91a14d82b5e5936492"
       ],
       "error": {
        "message": "Loading chunk 495 failed.\n(error: http://192.168.3.2:9900/lab/extensions/@jupyter-widgets/jupyterlab-manager/static/495.3e275af54861cdeb3e75.js?v=3e275af54861cdeb3e75)",
        "name": "ChunkLoadError",
        "request": "http://192.168.3.2:9900/lab/extensions/@jupyter-widgets/jupyterlab-manager/static/495.3e275af54861cdeb3e75.js?v=3e275af54861cdeb3e75",
        "type": "error"
       },
       "layout": "IPY_MODEL_bc408de85e7d4ebdae610ab8b923ae54",
       "msg": "Failed to load model class 'HBoxModel' from module '@jupyter-widgets/controls'"
      }
     },
     "8c32ec595049492ba655529d1832a621": {
      "model_module": "@jupyter-widgets/base",
      "model_module_version": "2.0.0",
      "model_name": "LayoutModel",
      "state": {}
     },
     "8c3d4d5aff104ddfb3c3d1c0735c46cd": {
      "model_module": "@jupyter-widgets/controls",
      "model_module_version": "2.0.0",
      "model_name": "HTMLModel",
      "state": {
       "_model_module": "@jupyter-widgets/controls",
       "_model_name": "HTMLModel",
       "_view_name": "ErrorWidgetView",
       "description": "",
       "description_allow_html": false,
       "error": {
        "message": "Loading chunk 495 failed.\n(error: http://192.168.3.2:9900/lab/extensions/@jupyter-widgets/jupyterlab-manager/static/495.3e275af54861cdeb3e75.js?v=3e275af54861cdeb3e75)",
        "name": "ChunkLoadError",
        "request": "http://192.168.3.2:9900/lab/extensions/@jupyter-widgets/jupyterlab-manager/static/495.3e275af54861cdeb3e75.js?v=3e275af54861cdeb3e75",
        "type": "error"
       },
       "layout": "IPY_MODEL_61bbb1db973e48c68bbd860298d1853e",
       "msg": "Failed to load model class 'HTMLModel' from module '@jupyter-widgets/controls'",
       "placeholder": "​",
       "style": "IPY_MODEL_4de0091570f1495a9eda722682901f5c",
       "value": " 836k/? [00:00&lt;00:00, 1.45MB/s]"
      }
     },
     "8c6edb54e8d44e89b7a343e611d14c0d": {
      "model_module": "@jupyter-widgets/controls",
      "model_module_version": "2.0.0",
      "model_name": "HTMLStyleModel",
      "state": {
       "_model_module": "@jupyter-widgets/controls",
       "_model_name": "HTMLStyleModel",
       "_view_name": "ErrorWidgetView",
       "background": null,
       "description_width": "",
       "error": {
        "message": "Loading chunk 495 failed.\n(error: http://192.168.3.2:9900/lab/extensions/@jupyter-widgets/jupyterlab-manager/static/495.3e275af54861cdeb3e75.js?v=3e275af54861cdeb3e75)",
        "name": "ChunkLoadError",
        "request": "http://192.168.3.2:9900/lab/extensions/@jupyter-widgets/jupyterlab-manager/static/495.3e275af54861cdeb3e75.js?v=3e275af54861cdeb3e75",
        "type": "error"
       },
       "font_size": null,
       "msg": "Failed to load model class 'HTMLStyleModel' from module '@jupyter-widgets/controls'",
       "text_color": null
      }
     },
     "8cf78a14826647188ab69243565819f8": {
      "model_module": "@jupyter-widgets/base",
      "model_module_version": "2.0.0",
      "model_name": "LayoutModel",
      "state": {}
     },
     "8d448755f19042cd8f314098523b7aad": {
      "model_module": "@jupyter-widgets/controls",
      "model_module_version": "2.0.0",
      "model_name": "HTMLStyleModel",
      "state": {
       "_model_module": "@jupyter-widgets/controls",
       "_model_name": "HTMLStyleModel",
       "_view_name": "ErrorWidgetView",
       "background": null,
       "description_width": "",
       "error": {
        "message": "Loading chunk 202 failed.\n(error: http://192.168.3.2:9900/lab/extensions/@jupyter-widgets/jupyterlab-manager/static/202.0336063976910618ce3f.js?v=0336063976910618ce3f)",
        "name": "ChunkLoadError",
        "request": "http://192.168.3.2:9900/lab/extensions/@jupyter-widgets/jupyterlab-manager/static/202.0336063976910618ce3f.js?v=0336063976910618ce3f",
        "type": "error"
       },
       "font_size": null,
       "msg": "Failed to load model class 'HTMLStyleModel' from module '@jupyter-widgets/controls'",
       "text_color": null
      }
     },
     "8d6abdd7cc8e4ac19f40f3de607b9329": {
      "model_module": "@jupyter-widgets/controls",
      "model_module_version": "2.0.0",
      "model_name": "HTMLModel",
      "state": {
       "_model_module": "@jupyter-widgets/controls",
       "_model_name": "HTMLModel",
       "_view_name": "ErrorWidgetView",
       "description": "",
       "description_allow_html": false,
       "error": {
        "message": "Loading chunk 202 failed.\n(error: http://192.168.3.2:9900/lab/extensions/@jupyter-widgets/jupyterlab-manager/static/202.0336063976910618ce3f.js?v=0336063976910618ce3f)",
        "name": "ChunkLoadError",
        "request": "http://192.168.3.2:9900/lab/extensions/@jupyter-widgets/jupyterlab-manager/static/202.0336063976910618ce3f.js?v=0336063976910618ce3f",
        "type": "error"
       },
       "layout": "IPY_MODEL_177e0ddb1f584f98a6a9ec6e7ad97fe5",
       "msg": "Failed to load model class 'HTMLModel' from module '@jupyter-widgets/controls'",
       "placeholder": "​",
       "style": "IPY_MODEL_62fc4d5fe13c45c98033641958c550e4",
       "value": "tokenizer.json: "
      }
     },
     "8d8ad71459704384963b0b36f650da83": {
      "model_module": "@jupyter-widgets/controls",
      "model_module_version": "2.0.0",
      "model_name": "HTMLModel",
      "state": {
       "_model_module": "@jupyter-widgets/controls",
       "_model_name": "HTMLModel",
       "_view_name": "ErrorWidgetView",
       "description": "",
       "description_allow_html": false,
       "error": {
        "message": "Loading chunk 495 failed.\n(error: http://192.168.3.2:9900/lab/extensions/@jupyter-widgets/jupyterlab-manager/static/495.3e275af54861cdeb3e75.js?v=3e275af54861cdeb3e75)",
        "name": "ChunkLoadError",
        "request": "http://192.168.3.2:9900/lab/extensions/@jupyter-widgets/jupyterlab-manager/static/495.3e275af54861cdeb3e75.js?v=3e275af54861cdeb3e75",
        "type": "error"
       },
       "layout": "IPY_MODEL_aee9bca4ec294b50af1ad4f7a892d3a2",
       "msg": "Failed to load model class 'HTMLModel' from module '@jupyter-widgets/controls'",
       "placeholder": "​",
       "style": "IPY_MODEL_add2290bba5f4423a732ba4fdbc978f7",
       "value": " 147/147 [00:00&lt;00:00, 9.28kB/s]"
      }
     },
     "8d8ec88d50574d2d9041813278ed2d04": {
      "model_module": "@jupyter-widgets/controls",
      "model_module_version": "2.0.0",
      "model_name": "HBoxModel",
      "state": {
       "_model_module": "@jupyter-widgets/controls",
       "_model_name": "HBoxModel",
       "_view_name": "ErrorWidgetView",
       "box_style": "",
       "children": [
        "IPY_MODEL_49b1ff229f3648eead0d85d69ed5c59e",
        "IPY_MODEL_f5b0b9f7fad742188e55cb90b33e0f19",
        "IPY_MODEL_53ce00a6a58e41e1949132d64f74a235"
       ],
       "error": {
        "message": "Loading chunk 495 failed.\n(error: http://192.168.3.2:9900/lab/extensions/@jupyter-widgets/jupyterlab-manager/static/495.3e275af54861cdeb3e75.js?v=3e275af54861cdeb3e75)",
        "name": "ChunkLoadError",
        "request": "http://192.168.3.2:9900/lab/extensions/@jupyter-widgets/jupyterlab-manager/static/495.3e275af54861cdeb3e75.js?v=3e275af54861cdeb3e75",
        "type": "error"
       },
       "layout": "IPY_MODEL_d6860294f6394968bcaf0181f37b6a3f",
       "msg": "Failed to load model class 'HBoxModel' from module '@jupyter-widgets/controls'"
      }
     },
     "8df5324ef0a44e48ab709ab366b62608": {
      "model_module": "@jupyter-widgets/base",
      "model_module_version": "2.0.0",
      "model_name": "LayoutModel",
      "state": {}
     },
     "8e024c56d5714be2839b18c2a70ec2a1": {
      "model_module": "@jupyter-widgets/controls",
      "model_module_version": "2.0.0",
      "model_name": "HBoxModel",
      "state": {
       "_model_module": "@jupyter-widgets/controls",
       "_model_name": "HBoxModel",
       "_view_name": "ErrorWidgetView",
       "box_style": "",
       "children": [
        "IPY_MODEL_5c96479c3a2a41bd8cc0b3e6748bfdda",
        "IPY_MODEL_0313b21932db4ec8b0174a321420cee7",
        "IPY_MODEL_d1780f7580cd4a8c9d0c489728c404d5"
       ],
       "error": {
        "message": "Loading chunk 495 failed.\n(error: http://192.168.3.2:9900/lab/extensions/@jupyter-widgets/jupyterlab-manager/static/495.3e275af54861cdeb3e75.js?v=3e275af54861cdeb3e75)",
        "name": "ChunkLoadError",
        "request": "http://192.168.3.2:9900/lab/extensions/@jupyter-widgets/jupyterlab-manager/static/495.3e275af54861cdeb3e75.js?v=3e275af54861cdeb3e75",
        "type": "error"
       },
       "layout": "IPY_MODEL_eb6417ebffbc43dfb08bcf7480afe2a2",
       "msg": "Failed to load model class 'HBoxModel' from module '@jupyter-widgets/controls'"
      }
     },
     "8e05ded21b3142759d88c7b2e2107e53": {
      "model_module": "@jupyter-widgets/controls",
      "model_module_version": "2.0.0",
      "model_name": "HTMLModel",
      "state": {
       "_model_module": "@jupyter-widgets/controls",
       "_model_name": "HTMLModel",
       "_view_name": "ErrorWidgetView",
       "description": "",
       "description_allow_html": false,
       "error": {
        "message": "Loading chunk 495 failed.\n(error: http://192.168.3.2:9900/lab/extensions/@jupyter-widgets/jupyterlab-manager/static/495.3e275af54861cdeb3e75.js?v=3e275af54861cdeb3e75)",
        "name": "ChunkLoadError",
        "request": "http://192.168.3.2:9900/lab/extensions/@jupyter-widgets/jupyterlab-manager/static/495.3e275af54861cdeb3e75.js?v=3e275af54861cdeb3e75",
        "type": "error"
       },
       "layout": "IPY_MODEL_9ca01fb26498491d9e224e9ee50da5ce",
       "msg": "Failed to load model class 'HTMLModel' from module '@jupyter-widgets/controls'",
       "placeholder": "​",
       "style": "IPY_MODEL_9380600123d545e091f50ce69915cead",
       "value": "config.json: "
      }
     },
     "8e162761b9fe40c5a05cfbd6ce7c6089": {
      "model_module": "@jupyter-widgets/base",
      "model_module_version": "2.0.0",
      "model_name": "LayoutModel",
      "state": {}
     },
     "8e6c258a25894022a1d908f4f5412b8a": {
      "model_module": "@jupyter-widgets/controls",
      "model_module_version": "2.0.0",
      "model_name": "HTMLModel",
      "state": {
       "_model_module": "@jupyter-widgets/controls",
       "_model_name": "HTMLModel",
       "_view_name": "ErrorWidgetView",
       "description": "",
       "description_allow_html": false,
       "error": {
        "message": "Loading chunk 202 failed.\n(error: http://192.168.3.2:9900/lab/extensions/@jupyter-widgets/jupyterlab-manager/static/202.0336063976910618ce3f.js?v=0336063976910618ce3f)",
        "name": "ChunkLoadError",
        "request": "http://192.168.3.2:9900/lab/extensions/@jupyter-widgets/jupyterlab-manager/static/202.0336063976910618ce3f.js?v=0336063976910618ce3f",
        "type": "error"
       },
       "layout": "IPY_MODEL_8edc849b52394c0a992ad7050aa3115d",
       "msg": "Failed to load model class 'HTMLModel' from module '@jupyter-widgets/controls'",
       "placeholder": "​",
       "style": "IPY_MODEL_9e80f8629a254410a3d784506b8c2fde",
       "value": "config.json: "
      }
     },
     "8edc849b52394c0a992ad7050aa3115d": {
      "model_module": "@jupyter-widgets/base",
      "model_module_version": "2.0.0",
      "model_name": "LayoutModel",
      "state": {}
     },
     "8f0a8966f15f49eab49fecbe74b790a6": {
      "model_module": "@jupyter-widgets/controls",
      "model_module_version": "2.0.0",
      "model_name": "ProgressStyleModel",
      "state": {
       "_model_module": "@jupyter-widgets/controls",
       "_model_name": "ProgressStyleModel",
       "_view_name": "ErrorWidgetView",
       "bar_color": null,
       "description_width": "",
       "error": {
        "message": "Loading chunk 202 failed.\n(error: http://192.168.3.2:9900/lab/extensions/@jupyter-widgets/jupyterlab-manager/static/202.0336063976910618ce3f.js?v=0336063976910618ce3f)",
        "name": "ChunkLoadError",
        "request": "http://192.168.3.2:9900/lab/extensions/@jupyter-widgets/jupyterlab-manager/static/202.0336063976910618ce3f.js?v=0336063976910618ce3f",
        "type": "error"
       },
       "msg": "Failed to load model class 'ProgressStyleModel' from module '@jupyter-widgets/controls'"
      }
     },
     "8f49c8c016c04276a4434e8dde69dc3d": {
      "model_module": "@jupyter-widgets/base",
      "model_module_version": "2.0.0",
      "model_name": "LayoutModel",
      "state": {}
     },
     "8f7d49d7a219472a9390bb037b30edcc": {
      "model_module": "@jupyter-widgets/base",
      "model_module_version": "2.0.0",
      "model_name": "LayoutModel",
      "state": {}
     },
     "8f86fc2d763b4e3cbb27c5383f217d5f": {
      "model_module": "@jupyter-widgets/controls",
      "model_module_version": "2.0.0",
      "model_name": "HTMLStyleModel",
      "state": {
       "_model_module": "@jupyter-widgets/controls",
       "_model_name": "HTMLStyleModel",
       "_view_name": "ErrorWidgetView",
       "background": null,
       "description_width": "",
       "error": {
        "message": "Loading chunk 495 failed.\n(error: http://192.168.3.2:9900/lab/extensions/@jupyter-widgets/jupyterlab-manager/static/495.3e275af54861cdeb3e75.js?v=3e275af54861cdeb3e75)",
        "name": "ChunkLoadError",
        "request": "http://192.168.3.2:9900/lab/extensions/@jupyter-widgets/jupyterlab-manager/static/495.3e275af54861cdeb3e75.js?v=3e275af54861cdeb3e75",
        "type": "error"
       },
       "font_size": null,
       "msg": "Failed to load model class 'HTMLStyleModel' from module '@jupyter-widgets/controls'",
       "text_color": null
      }
     },
     "8fc2d48ebecb43319bf154b33635127a": {
      "model_module": "@jupyter-widgets/controls",
      "model_module_version": "2.0.0",
      "model_name": "HTMLStyleModel",
      "state": {
       "_model_module": "@jupyter-widgets/controls",
       "_model_name": "HTMLStyleModel",
       "_view_name": "ErrorWidgetView",
       "background": null,
       "description_width": "",
       "error": {
        "message": "Loading chunk 495 failed.\n(error: http://192.168.3.2:9900/lab/extensions/@jupyter-widgets/jupyterlab-manager/static/495.3e275af54861cdeb3e75.js?v=3e275af54861cdeb3e75)",
        "name": "ChunkLoadError",
        "request": "http://192.168.3.2:9900/lab/extensions/@jupyter-widgets/jupyterlab-manager/static/495.3e275af54861cdeb3e75.js?v=3e275af54861cdeb3e75",
        "type": "error"
       },
       "font_size": null,
       "msg": "Failed to load model class 'HTMLStyleModel' from module '@jupyter-widgets/controls'",
       "text_color": null
      }
     },
     "8fccbe7fd69f45f083b42a08776ea6ed": {
      "model_module": "@jupyter-widgets/controls",
      "model_module_version": "2.0.0",
      "model_name": "HTMLModel",
      "state": {
       "_model_module": "@jupyter-widgets/controls",
       "_model_name": "HTMLModel",
       "_view_name": "ErrorWidgetView",
       "description": "",
       "description_allow_html": false,
       "error": {
        "message": "Loading chunk 495 failed.\n(error: http://192.168.3.2:9900/lab/extensions/@jupyter-widgets/jupyterlab-manager/static/495.3e275af54861cdeb3e75.js?v=3e275af54861cdeb3e75)",
        "name": "ChunkLoadError",
        "request": "http://192.168.3.2:9900/lab/extensions/@jupyter-widgets/jupyterlab-manager/static/495.3e275af54861cdeb3e75.js?v=3e275af54861cdeb3e75",
        "type": "error"
       },
       "layout": "IPY_MODEL_8a59bfd5e3a440a283fcd55ac2cfd6f7",
       "msg": "Failed to load model class 'HTMLModel' from module '@jupyter-widgets/controls'",
       "placeholder": "​",
       "style": "IPY_MODEL_2551a860a07342718c6d57c7f81de36b",
       "value": "merges.txt: "
      }
     },
     "8fd41e76cffb4fa295e1094a77d69e95": {
      "model_module": "@jupyter-widgets/controls",
      "model_module_version": "2.0.0",
      "model_name": "HTMLModel",
      "state": {
       "_model_module": "@jupyter-widgets/controls",
       "_model_name": "HTMLModel",
       "_view_name": "ErrorWidgetView",
       "description": "",
       "description_allow_html": false,
       "error": {
        "message": "Loading chunk 202 failed.\n(error: http://192.168.3.2:9900/lab/extensions/@jupyter-widgets/jupyterlab-manager/static/202.0336063976910618ce3f.js?v=0336063976910618ce3f)",
        "name": "ChunkLoadError",
        "request": "http://192.168.3.2:9900/lab/extensions/@jupyter-widgets/jupyterlab-manager/static/202.0336063976910618ce3f.js?v=0336063976910618ce3f",
        "type": "error"
       },
       "layout": "IPY_MODEL_4b0f7f13b4254624addd59ac4ce03d39",
       "msg": "Failed to load model class 'HTMLModel' from module '@jupyter-widgets/controls'",
       "placeholder": "​",
       "style": "IPY_MODEL_02827f3608504a88a5974d4dfb1b2fd7",
       "value": "generation_config.json: 100%"
      }
     },
     "8fdb6032e09a409bad38b803a4a8e30c": {
      "model_module": "@jupyter-widgets/controls",
      "model_module_version": "2.0.0",
      "model_name": "HTMLModel",
      "state": {
       "_model_module": "@jupyter-widgets/controls",
       "_model_name": "HTMLModel",
       "_view_name": "ErrorWidgetView",
       "description": "",
       "description_allow_html": false,
       "error": {
        "message": "Loading chunk 202 failed.\n(error: http://192.168.3.2:9900/lab/extensions/@jupyter-widgets/jupyterlab-manager/static/202.0336063976910618ce3f.js?v=0336063976910618ce3f)",
        "name": "ChunkLoadError",
        "request": "http://192.168.3.2:9900/lab/extensions/@jupyter-widgets/jupyterlab-manager/static/202.0336063976910618ce3f.js?v=0336063976910618ce3f",
        "type": "error"
       },
       "layout": "IPY_MODEL_0cb7f3fd5a88401ba58e5870aa73c372",
       "msg": "Failed to load model class 'HTMLModel' from module '@jupyter-widgets/controls'",
       "placeholder": "​",
       "style": "IPY_MODEL_e6ca55f92f484a268a419b521f28f966",
       "value": " 1.39M/? [00:00&lt;00:00, 2.19MB/s]"
      }
     },
     "8fde4bf9937d48cbbea0531d78c3cf27": {
      "model_module": "@jupyter-widgets/controls",
      "model_module_version": "2.0.0",
      "model_name": "HBoxModel",
      "state": {
       "_model_module": "@jupyter-widgets/controls",
       "_model_name": "HBoxModel",
       "_view_name": "ErrorWidgetView",
       "box_style": "",
       "children": [
        "IPY_MODEL_fbc3ae1eb4474ad1803897c5f5d96bd1",
        "IPY_MODEL_44772e164f12480092c86420ae5eb506",
        "IPY_MODEL_c29e15fad7604d77a6e0538ca83f01cd"
       ],
       "error": {
        "message": "Loading chunk 202 failed.\n(error: http://192.168.3.2:9900/lab/extensions/@jupyter-widgets/jupyterlab-manager/static/202.0336063976910618ce3f.js?v=0336063976910618ce3f)",
        "name": "ChunkLoadError",
        "request": "http://192.168.3.2:9900/lab/extensions/@jupyter-widgets/jupyterlab-manager/static/202.0336063976910618ce3f.js?v=0336063976910618ce3f",
        "type": "error"
       },
       "layout": "IPY_MODEL_076c521844f84bb3ada4125012489212",
       "msg": "Failed to load model class 'HBoxModel' from module '@jupyter-widgets/controls'"
      }
     },
     "8ffa6b922c9246839000f005b9c24d10": {
      "model_module": "@jupyter-widgets/controls",
      "model_module_version": "2.0.0",
      "model_name": "HTMLStyleModel",
      "state": {
       "_model_module": "@jupyter-widgets/controls",
       "_model_name": "HTMLStyleModel",
       "_view_name": "ErrorWidgetView",
       "background": null,
       "description_width": "",
       "error": {
        "message": "Loading chunk 202 failed.\n(error: http://192.168.3.2:9900/lab/extensions/@jupyter-widgets/jupyterlab-manager/static/202.0336063976910618ce3f.js?v=0336063976910618ce3f)",
        "name": "ChunkLoadError",
        "request": "http://192.168.3.2:9900/lab/extensions/@jupyter-widgets/jupyterlab-manager/static/202.0336063976910618ce3f.js?v=0336063976910618ce3f",
        "type": "error"
       },
       "font_size": null,
       "msg": "Failed to load model class 'HTMLStyleModel' from module '@jupyter-widgets/controls'",
       "text_color": null
      }
     },
     "90118d8f68d747998a92c7effa755149": {
      "model_module": "@jupyter-widgets/base",
      "model_module_version": "2.0.0",
      "model_name": "LayoutModel",
      "state": {}
     },
     "9045d100a87147f2b142af4506fa5f3f": {
      "model_module": "@jupyter-widgets/base",
      "model_module_version": "2.0.0",
      "model_name": "LayoutModel",
      "state": {}
     },
     "9062428f382f4757a5396f19befa02c8": {
      "model_module": "@jupyter-widgets/controls",
      "model_module_version": "2.0.0",
      "model_name": "HBoxModel",
      "state": {
       "_model_module": "@jupyter-widgets/controls",
       "_model_name": "HBoxModel",
       "_view_name": "ErrorWidgetView",
       "box_style": "",
       "children": [
        "IPY_MODEL_e1436732f5e2404198d791248aea827f",
        "IPY_MODEL_61a303641f2145ecabd6ab8b92ae65e6",
        "IPY_MODEL_37cb048769f7447cb5b008a7442f3798"
       ],
       "error": {
        "message": "Loading chunk 495 failed.\n(error: http://192.168.3.2:9900/lab/extensions/@jupyter-widgets/jupyterlab-manager/static/495.3e275af54861cdeb3e75.js?v=3e275af54861cdeb3e75)",
        "name": "ChunkLoadError",
        "request": "http://192.168.3.2:9900/lab/extensions/@jupyter-widgets/jupyterlab-manager/static/495.3e275af54861cdeb3e75.js?v=3e275af54861cdeb3e75",
        "type": "error"
       },
       "layout": "IPY_MODEL_2a8d108bc0d449ff86454c7e5c7b8c8a",
       "msg": "Failed to load model class 'HBoxModel' from module '@jupyter-widgets/controls'"
      }
     },
     "90c7356016914c9a83d8b7483f718e44": {
      "model_module": "@jupyter-widgets/base",
      "model_module_version": "2.0.0",
      "model_name": "LayoutModel",
      "state": {
       "width": "20px"
      }
     },
     "90de79a46f964a33b7ef2a36a9efaf20": {
      "model_module": "@jupyter-widgets/controls",
      "model_module_version": "2.0.0",
      "model_name": "HTMLModel",
      "state": {
       "_model_module": "@jupyter-widgets/controls",
       "_model_name": "HTMLModel",
       "_view_name": "ErrorWidgetView",
       "description": "",
       "description_allow_html": false,
       "error": {
        "message": "Loading chunk 202 failed.\n(error: http://192.168.3.2:9900/lab/extensions/@jupyter-widgets/jupyterlab-manager/static/202.0336063976910618ce3f.js?v=0336063976910618ce3f)",
        "name": "ChunkLoadError",
        "request": "http://192.168.3.2:9900/lab/extensions/@jupyter-widgets/jupyterlab-manager/static/202.0336063976910618ce3f.js?v=0336063976910618ce3f",
        "type": "error"
       },
       "layout": "IPY_MODEL_e7420a643d6745b18fd0a2a11f69e300",
       "msg": "Failed to load model class 'HTMLModel' from module '@jupyter-widgets/controls'",
       "placeholder": "​",
       "style": "IPY_MODEL_bbf058b7936a4ca29825f3604058d3c9",
       "value": "tokenizer_config.json: 100%"
      }
     },
     "90fabbf1ae62416e9032b81fa7f746fd": {
      "model_module": "@jupyter-widgets/controls",
      "model_module_version": "2.0.0",
      "model_name": "ProgressStyleModel",
      "state": {
       "_model_module": "@jupyter-widgets/controls",
       "_model_name": "ProgressStyleModel",
       "_view_name": "ErrorWidgetView",
       "bar_color": null,
       "description_width": "",
       "error": {
        "message": "Loading chunk 202 failed.\n(error: http://192.168.3.2:9900/lab/extensions/@jupyter-widgets/jupyterlab-manager/static/202.0336063976910618ce3f.js?v=0336063976910618ce3f)",
        "name": "ChunkLoadError",
        "request": "http://192.168.3.2:9900/lab/extensions/@jupyter-widgets/jupyterlab-manager/static/202.0336063976910618ce3f.js?v=0336063976910618ce3f",
        "type": "error"
       },
       "msg": "Failed to load model class 'ProgressStyleModel' from module '@jupyter-widgets/controls'"
      }
     },
     "9100937d0db5407fa84b819b57d12be1": {
      "model_module": "@jupyter-widgets/base",
      "model_module_version": "2.0.0",
      "model_name": "LayoutModel",
      "state": {
       "width": "20px"
      }
     },
     "91c020519ae14506982119b807dbbe82": {
      "model_module": "@jupyter-widgets/controls",
      "model_module_version": "2.0.0",
      "model_name": "FloatProgressModel",
      "state": {
       "_model_module": "@jupyter-widgets/controls",
       "_model_name": "FloatProgressModel",
       "_view_name": "ErrorWidgetView",
       "bar_style": "success",
       "description": "",
       "description_allow_html": false,
       "error": {
        "message": "Loading chunk 495 failed.\n(error: http://192.168.3.2:9900/lab/extensions/@jupyter-widgets/jupyterlab-manager/static/495.3e275af54861cdeb3e75.js?v=3e275af54861cdeb3e75)",
        "name": "ChunkLoadError",
        "request": "http://192.168.3.2:9900/lab/extensions/@jupyter-widgets/jupyterlab-manager/static/495.3e275af54861cdeb3e75.js?v=3e275af54861cdeb3e75",
        "type": "error"
       },
       "layout": "IPY_MODEL_6d9b7b576da74d88a4ab61a71956326f",
       "max": 518,
       "min": 0,
       "msg": "Failed to load model class 'FloatProgressModel' from module '@jupyter-widgets/controls'",
       "orientation": "horizontal",
       "style": "IPY_MODEL_a5625f56017d4509a7a3a6c1719cab0a",
       "value": 518
      }
     },
     "925281e465f84456a5540d133c2721e1": {
      "model_module": "@jupyter-widgets/base",
      "model_module_version": "2.0.0",
      "model_name": "LayoutModel",
      "state": {}
     },
     "92ad46e4fc7e479ca18cb33b3013dfe1": {
      "model_module": "@jupyter-widgets/controls",
      "model_module_version": "2.0.0",
      "model_name": "ProgressStyleModel",
      "state": {
       "_model_module": "@jupyter-widgets/controls",
       "_model_name": "ProgressStyleModel",
       "_view_name": "ErrorWidgetView",
       "bar_color": null,
       "description_width": "",
       "error": {
        "message": "Loading chunk 495 failed.\n(error: http://192.168.3.2:9900/lab/extensions/@jupyter-widgets/jupyterlab-manager/static/495.3e275af54861cdeb3e75.js?v=3e275af54861cdeb3e75)",
        "name": "ChunkLoadError",
        "request": "http://192.168.3.2:9900/lab/extensions/@jupyter-widgets/jupyterlab-manager/static/495.3e275af54861cdeb3e75.js?v=3e275af54861cdeb3e75",
        "type": "error"
       },
       "msg": "Failed to load model class 'ProgressStyleModel' from module '@jupyter-widgets/controls'"
      }
     },
     "9316d9b072b84b8a8b22fc4f74394a00": {
      "model_module": "@jupyter-widgets/controls",
      "model_module_version": "2.0.0",
      "model_name": "HTMLModel",
      "state": {
       "_model_module": "@jupyter-widgets/controls",
       "_model_name": "HTMLModel",
       "_view_name": "ErrorWidgetView",
       "description": "",
       "description_allow_html": false,
       "error": {
        "message": "Loading chunk 202 failed.\n(error: http://192.168.3.2:9900/lab/extensions/@jupyter-widgets/jupyterlab-manager/static/202.0336063976910618ce3f.js?v=0336063976910618ce3f)",
        "name": "ChunkLoadError",
        "request": "http://192.168.3.2:9900/lab/extensions/@jupyter-widgets/jupyterlab-manager/static/202.0336063976910618ce3f.js?v=0336063976910618ce3f",
        "type": "error"
       },
       "layout": "IPY_MODEL_958ec4d3599c4e3e9625177d0158307e",
       "msg": "Failed to load model class 'HTMLModel' from module '@jupyter-widgets/controls'",
       "placeholder": "​",
       "style": "IPY_MODEL_ef10c756224a4a52a931edfd36f373db",
       "value": " 213k/? [00:00&lt;00:00, 650kB/s]"
      }
     },
     "9330a1b379cf42da840189b2490ec9c3": {
      "model_module": "@jupyter-widgets/controls",
      "model_module_version": "2.0.0",
      "model_name": "ProgressStyleModel",
      "state": {
       "_model_module": "@jupyter-widgets/controls",
       "_model_name": "ProgressStyleModel",
       "_view_name": "ErrorWidgetView",
       "bar_color": null,
       "description_width": "",
       "error": {
        "message": "Loading chunk 202 failed.\n(error: http://192.168.3.2:9900/lab/extensions/@jupyter-widgets/jupyterlab-manager/static/202.0336063976910618ce3f.js?v=0336063976910618ce3f)",
        "name": "ChunkLoadError",
        "request": "http://192.168.3.2:9900/lab/extensions/@jupyter-widgets/jupyterlab-manager/static/202.0336063976910618ce3f.js?v=0336063976910618ce3f",
        "type": "error"
       },
       "msg": "Failed to load model class 'ProgressStyleModel' from module '@jupyter-widgets/controls'"
      }
     },
     "9380600123d545e091f50ce69915cead": {
      "model_module": "@jupyter-widgets/controls",
      "model_module_version": "2.0.0",
      "model_name": "HTMLStyleModel",
      "state": {
       "_model_module": "@jupyter-widgets/controls",
       "_model_name": "HTMLStyleModel",
       "_view_name": "ErrorWidgetView",
       "background": null,
       "description_width": "",
       "error": {
        "message": "Loading chunk 202 failed.\n(error: http://192.168.3.2:9900/lab/extensions/@jupyter-widgets/jupyterlab-manager/static/202.0336063976910618ce3f.js?v=0336063976910618ce3f)",
        "name": "ChunkLoadError",
        "request": "http://192.168.3.2:9900/lab/extensions/@jupyter-widgets/jupyterlab-manager/static/202.0336063976910618ce3f.js?v=0336063976910618ce3f",
        "type": "error"
       },
       "font_size": null,
       "msg": "Failed to load model class 'HTMLStyleModel' from module '@jupyter-widgets/controls'",
       "text_color": null
      }
     },
     "9397b90af1194f8eb7d7d3e1ca8c4fd0": {
      "model_module": "@jupyter-widgets/base",
      "model_module_version": "2.0.0",
      "model_name": "LayoutModel",
      "state": {}
     },
     "93b5646f4a954af3b560fb7ee1df3e37": {
      "model_module": "@jupyter-widgets/controls",
      "model_module_version": "2.0.0",
      "model_name": "HTMLModel",
      "state": {
       "_model_module": "@jupyter-widgets/controls",
       "_model_name": "HTMLModel",
       "_view_name": "ErrorWidgetView",
       "description": "",
       "description_allow_html": false,
       "error": {
        "message": "Loading chunk 202 failed.\n(error: http://192.168.3.2:9900/lab/extensions/@jupyter-widgets/jupyterlab-manager/static/202.0336063976910618ce3f.js?v=0336063976910618ce3f)",
        "name": "ChunkLoadError",
        "request": "http://192.168.3.2:9900/lab/extensions/@jupyter-widgets/jupyterlab-manager/static/202.0336063976910618ce3f.js?v=0336063976910618ce3f",
        "type": "error"
       },
       "layout": "IPY_MODEL_469451bf85d54e228a60d2b9b532bdb9",
       "msg": "Failed to load model class 'HTMLModel' from module '@jupyter-widgets/controls'",
       "placeholder": "​",
       "style": "IPY_MODEL_c0465f975d984dc09954a56f8a4743b6",
       "value": " 798k/? [00:00&lt;00:00, 1.68MB/s]"
      }
     },
     "940eac5472b64d4585a0ed88aa426218": {
      "model_module": "@jupyter-widgets/base",
      "model_module_version": "2.0.0",
      "model_name": "LayoutModel",
      "state": {}
     },
     "943a7c0a4b2e4bf79d3fd8fe76a9e459": {
      "model_module": "@jupyter-widgets/controls",
      "model_module_version": "2.0.0",
      "model_name": "HTMLModel",
      "state": {
       "_model_module": "@jupyter-widgets/controls",
       "_model_name": "HTMLModel",
       "_view_name": "ErrorWidgetView",
       "description": "",
       "description_allow_html": false,
       "error": {
        "message": "Loading chunk 495 failed.\n(error: http://192.168.3.2:9900/lab/extensions/@jupyter-widgets/jupyterlab-manager/static/495.3e275af54861cdeb3e75.js?v=3e275af54861cdeb3e75)",
        "name": "ChunkLoadError",
        "request": "http://192.168.3.2:9900/lab/extensions/@jupyter-widgets/jupyterlab-manager/static/495.3e275af54861cdeb3e75.js?v=3e275af54861cdeb3e75",
        "type": "error"
       },
       "layout": "IPY_MODEL_acaf8ae505764cfd9c78360b2ca66306",
       "msg": "Failed to load model class 'HTMLModel' from module '@jupyter-widgets/controls'",
       "placeholder": "​",
       "style": "IPY_MODEL_54a6e264572b496893af78ede23f092e",
       "value": " 1.36M/? [00:01&lt;00:00, 1.25MB/s]"
      }
     },
     "944a545fa7804174b619e88edd5205f9": {
      "model_module": "@jupyter-widgets/controls",
      "model_module_version": "2.0.0",
      "model_name": "HTMLModel",
      "state": {
       "_model_module": "@jupyter-widgets/controls",
       "_model_name": "HTMLModel",
       "_view_name": "ErrorWidgetView",
       "description": "",
       "description_allow_html": false,
       "error": {
        "message": "Loading chunk 495 failed.\n(error: http://192.168.3.2:9900/lab/extensions/@jupyter-widgets/jupyterlab-manager/static/495.3e275af54861cdeb3e75.js?v=3e275af54861cdeb3e75)",
        "name": "ChunkLoadError",
        "request": "http://192.168.3.2:9900/lab/extensions/@jupyter-widgets/jupyterlab-manager/static/495.3e275af54861cdeb3e75.js?v=3e275af54861cdeb3e75",
        "type": "error"
       },
       "layout": "IPY_MODEL_ca1bd4aed5054900a070abb0456f6707",
       "msg": "Failed to load model class 'HTMLModel' from module '@jupyter-widgets/controls'",
       "placeholder": "​",
       "style": "IPY_MODEL_76c1876516634a6b8b0ff86d9b1a88e8",
       "value": " 34.6k/? [00:00&lt;00:00, 2.05MB/s]"
      }
     },
     "946e5b20595445629b26f92d8a15ed17": {
      "model_module": "@jupyter-widgets/base",
      "model_module_version": "2.0.0",
      "model_name": "LayoutModel",
      "state": {}
     },
     "94bca758e30b4dd2bdc4d0d8d25092af": {
      "model_module": "@jupyter-widgets/base",
      "model_module_version": "2.0.0",
      "model_name": "LayoutModel",
      "state": {}
     },
     "94da38c0706745039e79eede8e7ff8ea": {
      "model_module": "@jupyter-widgets/base",
      "model_module_version": "2.0.0",
      "model_name": "LayoutModel",
      "state": {
       "width": "20px"
      }
     },
     "94e116384998419f959a2e70dd04d4a3": {
      "model_module": "@jupyter-widgets/controls",
      "model_module_version": "2.0.0",
      "model_name": "ProgressStyleModel",
      "state": {
       "_model_module": "@jupyter-widgets/controls",
       "_model_name": "ProgressStyleModel",
       "_view_name": "ErrorWidgetView",
       "bar_color": null,
       "description_width": "",
       "error": {
        "message": "Loading chunk 202 failed.\n(error: http://192.168.3.2:9900/lab/extensions/@jupyter-widgets/jupyterlab-manager/static/202.0336063976910618ce3f.js?v=0336063976910618ce3f)",
        "name": "ChunkLoadError",
        "request": "http://192.168.3.2:9900/lab/extensions/@jupyter-widgets/jupyterlab-manager/static/202.0336063976910618ce3f.js?v=0336063976910618ce3f",
        "type": "error"
       },
       "msg": "Failed to load model class 'ProgressStyleModel' from module '@jupyter-widgets/controls'"
      }
     },
     "958ec4d3599c4e3e9625177d0158307e": {
      "model_module": "@jupyter-widgets/base",
      "model_module_version": "2.0.0",
      "model_name": "LayoutModel",
      "state": {}
     },
     "95b310b11bbc458fb346cc7331464fda": {
      "model_module": "@jupyter-widgets/base",
      "model_module_version": "2.0.0",
      "model_name": "LayoutModel",
      "state": {}
     },
     "95bb1d2f910841fb854867f67450db2d": {
      "model_module": "@jupyter-widgets/controls",
      "model_module_version": "2.0.0",
      "model_name": "HTMLModel",
      "state": {
       "_model_module": "@jupyter-widgets/controls",
       "_model_name": "HTMLModel",
       "_view_name": "ErrorWidgetView",
       "description": "",
       "description_allow_html": false,
       "error": {
        "message": "Loading chunk 202 failed.\n(error: http://192.168.3.2:9900/lab/extensions/@jupyter-widgets/jupyterlab-manager/static/202.0336063976910618ce3f.js?v=0336063976910618ce3f)",
        "name": "ChunkLoadError",
        "request": "http://192.168.3.2:9900/lab/extensions/@jupyter-widgets/jupyterlab-manager/static/202.0336063976910618ce3f.js?v=0336063976910618ce3f",
        "type": "error"
       },
       "layout": "IPY_MODEL_a1c9516116a245a9a1bfd37f543562d1",
       "msg": "Failed to load model class 'HTMLModel' from module '@jupyter-widgets/controls'",
       "placeholder": "​",
       "style": "IPY_MODEL_06995b41824e46dab2e361af9b03b751",
       "value": " 346M/346M [00:07&lt;00:00, 50.0MB/s]"
      }
     },
     "95bda6ce173e44e89e245bf35d6ba748": {
      "model_module": "@jupyter-widgets/controls",
      "model_module_version": "2.0.0",
      "model_name": "HBoxModel",
      "state": {
       "_model_module": "@jupyter-widgets/controls",
       "_model_name": "HBoxModel",
       "_view_name": "ErrorWidgetView",
       "box_style": "",
       "children": [
        "IPY_MODEL_4051f477e9fd4a26a3d8322ac3b018be",
        "IPY_MODEL_a84325b3718348ed91f5cc61952b5cf6",
        "IPY_MODEL_ab07afc3637e4df1a46a2441f2c34edb"
       ],
       "error": {
        "message": "Loading chunk 202 failed.\n(error: http://192.168.3.2:9900/lab/extensions/@jupyter-widgets/jupyterlab-manager/static/202.0336063976910618ce3f.js?v=0336063976910618ce3f)",
        "name": "ChunkLoadError",
        "request": "http://192.168.3.2:9900/lab/extensions/@jupyter-widgets/jupyterlab-manager/static/202.0336063976910618ce3f.js?v=0336063976910618ce3f",
        "type": "error"
       },
       "layout": "IPY_MODEL_a48fdae218bb4378ad9e7276fc46a4ab",
       "msg": "Failed to load model class 'HBoxModel' from module '@jupyter-widgets/controls'"
      }
     },
     "961fd17f56204435acdfa0b74079a8af": {
      "model_module": "@jupyter-widgets/controls",
      "model_module_version": "2.0.0",
      "model_name": "HTMLModel",
      "state": {
       "_model_module": "@jupyter-widgets/controls",
       "_model_name": "HTMLModel",
       "_view_name": "ErrorWidgetView",
       "description": "",
       "description_allow_html": false,
       "error": {
        "message": "Loading chunk 202 failed.\n(error: http://192.168.3.2:9900/lab/extensions/@jupyter-widgets/jupyterlab-manager/static/202.0336063976910618ce3f.js?v=0336063976910618ce3f)",
        "name": "ChunkLoadError",
        "request": "http://192.168.3.2:9900/lab/extensions/@jupyter-widgets/jupyterlab-manager/static/202.0336063976910618ce3f.js?v=0336063976910618ce3f",
        "type": "error"
       },
       "layout": "IPY_MODEL_8f49c8c016c04276a4434e8dde69dc3d",
       "msg": "Failed to load model class 'HTMLModel' from module '@jupyter-widgets/controls'",
       "placeholder": "​",
       "style": "IPY_MODEL_b5c749f00269434c8705c8a2200f2fe2",
       "value": " 333/333 [00:00&lt;00:00, 20.9kB/s]"
      }
     },
     "9665bec849134f4eae82fff2d2a4b62a": {
      "model_module": "@jupyter-widgets/base",
      "model_module_version": "2.0.0",
      "model_name": "LayoutModel",
      "state": {}
     },
     "967c086e75844cc2bc5ee864ec7573a7": {
      "model_module": "@jupyter-widgets/base",
      "model_module_version": "2.0.0",
      "model_name": "LayoutModel",
      "state": {}
     },
     "969291a297484015862fe6dd4a636979": {
      "model_module": "@jupyter-widgets/base",
      "model_module_version": "2.0.0",
      "model_name": "LayoutModel",
      "state": {}
     },
     "96a4f014e3f7421f8a3e9e24b411166d": {
      "model_module": "@jupyter-widgets/controls",
      "model_module_version": "2.0.0",
      "model_name": "HTMLStyleModel",
      "state": {
       "_model_module": "@jupyter-widgets/controls",
       "_model_name": "HTMLStyleModel",
       "_view_name": "ErrorWidgetView",
       "background": null,
       "description_width": "",
       "error": {
        "message": "Loading chunk 202 failed.\n(error: http://192.168.3.2:9900/lab/extensions/@jupyter-widgets/jupyterlab-manager/static/202.0336063976910618ce3f.js?v=0336063976910618ce3f)",
        "name": "ChunkLoadError",
        "request": "http://192.168.3.2:9900/lab/extensions/@jupyter-widgets/jupyterlab-manager/static/202.0336063976910618ce3f.js?v=0336063976910618ce3f",
        "type": "error"
       },
       "font_size": null,
       "msg": "Failed to load model class 'HTMLStyleModel' from module '@jupyter-widgets/controls'",
       "text_color": null
      }
     },
     "96baa8c59b604115838f60aff251b403": {
      "model_module": "@jupyter-widgets/base",
      "model_module_version": "2.0.0",
      "model_name": "LayoutModel",
      "state": {}
     },
     "96e7c7aac43a401a80871de57f6a6e73": {
      "model_module": "@jupyter-widgets/controls",
      "model_module_version": "2.0.0",
      "model_name": "HTMLModel",
      "state": {
       "_model_module": "@jupyter-widgets/controls",
       "_model_name": "HTMLModel",
       "_view_name": "ErrorWidgetView",
       "description": "",
       "description_allow_html": false,
       "error": {
        "message": "Loading chunk 202 failed.\n(error: http://192.168.3.2:9900/lab/extensions/@jupyter-widgets/jupyterlab-manager/static/202.0336063976910618ce3f.js?v=0336063976910618ce3f)",
        "name": "ChunkLoadError",
        "request": "http://192.168.3.2:9900/lab/extensions/@jupyter-widgets/jupyterlab-manager/static/202.0336063976910618ce3f.js?v=0336063976910618ce3f",
        "type": "error"
       },
       "layout": "IPY_MODEL_8f7d49d7a219472a9390bb037b30edcc",
       "msg": "Failed to load model class 'HTMLModel' from module '@jupyter-widgets/controls'",
       "placeholder": "​",
       "style": "IPY_MODEL_54ab5e51e3064b81b1990b4d5e958f71",
       "value": " 124/124 [00:00&lt;00:00, 7.66kB/s]"
      }
     },
     "96f266ce01c948c1bf241265296ecc22": {
      "model_module": "@jupyter-widgets/controls",
      "model_module_version": "2.0.0",
      "model_name": "HBoxModel",
      "state": {
       "_model_module": "@jupyter-widgets/controls",
       "_model_name": "HBoxModel",
       "_view_name": "ErrorWidgetView",
       "box_style": "",
       "children": [
        "IPY_MODEL_f4016ffda1a947eb83893327529b3daf",
        "IPY_MODEL_fb4a1624d8eb4bb1a9381716bedba500",
        "IPY_MODEL_2811671505ee4c118c48eda2bed60059"
       ],
       "error": {
        "message": "Loading chunk 495 failed.\n(error: http://192.168.3.2:9900/lab/extensions/@jupyter-widgets/jupyterlab-manager/static/495.3e275af54861cdeb3e75.js?v=3e275af54861cdeb3e75)",
        "name": "ChunkLoadError",
        "request": "http://192.168.3.2:9900/lab/extensions/@jupyter-widgets/jupyterlab-manager/static/495.3e275af54861cdeb3e75.js?v=3e275af54861cdeb3e75",
        "type": "error"
       },
       "layout": "IPY_MODEL_a7db445b3f334c58b045413c9de0396a",
       "msg": "Failed to load model class 'HBoxModel' from module '@jupyter-widgets/controls'"
      }
     },
     "970c1dd88f2549c0ab10cb7f9a9df930": {
      "model_module": "@jupyter-widgets/base",
      "model_module_version": "2.0.0",
      "model_name": "LayoutModel",
      "state": {}
     },
     "975d5022aa80403e8101d361603177d5": {
      "model_module": "@jupyter-widgets/controls",
      "model_module_version": "2.0.0",
      "model_name": "HBoxModel",
      "state": {
       "_model_module": "@jupyter-widgets/controls",
       "_model_name": "HBoxModel",
       "_view_name": "ErrorWidgetView",
       "box_style": "",
       "children": [
        "IPY_MODEL_10ced2959e924b36814acdd19fdab2cb",
        "IPY_MODEL_d9624153c56e4cb8b8abad48e0480a15",
        "IPY_MODEL_c597d3c4a2bf4aad98d2305181133822"
       ],
       "error": {
        "message": "Loading chunk 202 failed.\n(error: http://192.168.3.2:9900/lab/extensions/@jupyter-widgets/jupyterlab-manager/static/202.0336063976910618ce3f.js?v=0336063976910618ce3f)",
        "name": "ChunkLoadError",
        "request": "http://192.168.3.2:9900/lab/extensions/@jupyter-widgets/jupyterlab-manager/static/202.0336063976910618ce3f.js?v=0336063976910618ce3f",
        "type": "error"
       },
       "layout": "IPY_MODEL_d5d85a060664416ba9fe6453b0b0a8ce",
       "msg": "Failed to load model class 'HBoxModel' from module '@jupyter-widgets/controls'"
      }
     },
     "97c0ccab0d844c32a2792d4c7af57f78": {
      "model_module": "@jupyter-widgets/controls",
      "model_module_version": "2.0.0",
      "model_name": "HTMLStyleModel",
      "state": {
       "_model_module": "@jupyter-widgets/controls",
       "_model_name": "HTMLStyleModel",
       "_view_name": "ErrorWidgetView",
       "background": null,
       "description_width": "",
       "error": {
        "message": "Loading chunk 202 failed.\n(error: http://192.168.3.2:9900/lab/extensions/@jupyter-widgets/jupyterlab-manager/static/202.0336063976910618ce3f.js?v=0336063976910618ce3f)",
        "name": "ChunkLoadError",
        "request": "http://192.168.3.2:9900/lab/extensions/@jupyter-widgets/jupyterlab-manager/static/202.0336063976910618ce3f.js?v=0336063976910618ce3f",
        "type": "error"
       },
       "font_size": null,
       "msg": "Failed to load model class 'HTMLStyleModel' from module '@jupyter-widgets/controls'",
       "text_color": null
      }
     },
     "98a3bb65baf34932a813b19ea8344762": {
      "model_module": "@jupyter-widgets/controls",
      "model_module_version": "2.0.0",
      "model_name": "HTMLModel",
      "state": {
       "_model_module": "@jupyter-widgets/controls",
       "_model_name": "HTMLModel",
       "_view_name": "ErrorWidgetView",
       "description": "",
       "description_allow_html": false,
       "error": {
        "message": "Loading chunk 495 failed.\n(error: http://192.168.3.2:9900/lab/extensions/@jupyter-widgets/jupyterlab-manager/static/495.3e275af54861cdeb3e75.js?v=3e275af54861cdeb3e75)",
        "name": "ChunkLoadError",
        "request": "http://192.168.3.2:9900/lab/extensions/@jupyter-widgets/jupyterlab-manager/static/495.3e275af54861cdeb3e75.js?v=3e275af54861cdeb3e75",
        "type": "error"
       },
       "layout": "IPY_MODEL_ff246ce73ce44f52aa7483ee4ee47f16",
       "msg": "Failed to load model class 'HTMLModel' from module '@jupyter-widgets/controls'",
       "placeholder": "​",
       "style": "IPY_MODEL_40d329bb75bc48978f1ca64d53cde151",
       "value": " 456k/? [00:00&lt;00:00, 617kB/s]"
      }
     },
     "98fda7fbf0ac4aa7b0d702f95f5df848": {
      "model_module": "@jupyter-widgets/controls",
      "model_module_version": "2.0.0",
      "model_name": "HTMLStyleModel",
      "state": {
       "_model_module": "@jupyter-widgets/controls",
       "_model_name": "HTMLStyleModel",
       "_view_name": "ErrorWidgetView",
       "background": null,
       "description_width": "",
       "error": {
        "message": "Loading chunk 495 failed.\n(error: http://192.168.3.2:9900/lab/extensions/@jupyter-widgets/jupyterlab-manager/static/495.3e275af54861cdeb3e75.js?v=3e275af54861cdeb3e75)",
        "name": "ChunkLoadError",
        "request": "http://192.168.3.2:9900/lab/extensions/@jupyter-widgets/jupyterlab-manager/static/495.3e275af54861cdeb3e75.js?v=3e275af54861cdeb3e75",
        "type": "error"
       },
       "font_size": null,
       "msg": "Failed to load model class 'HTMLStyleModel' from module '@jupyter-widgets/controls'",
       "text_color": null
      }
     },
     "9905b4f6132d4916b4163ed6275bfafa": {
      "model_module": "@jupyter-widgets/controls",
      "model_module_version": "2.0.0",
      "model_name": "HBoxModel",
      "state": {
       "_model_module": "@jupyter-widgets/controls",
       "_model_name": "HBoxModel",
       "_view_name": "ErrorWidgetView",
       "box_style": "",
       "children": [
        "IPY_MODEL_1983c120a56a4633a9d3ed98246a883e",
        "IPY_MODEL_f2a3a7472b7e45b789ca2d50b051e2cf",
        "IPY_MODEL_445c3466676c4c6aa0580701cc583497"
       ],
       "error": {
        "message": "Loading chunk 202 failed.\n(error: http://192.168.3.2:9900/lab/extensions/@jupyter-widgets/jupyterlab-manager/static/202.0336063976910618ce3f.js?v=0336063976910618ce3f)",
        "name": "ChunkLoadError",
        "request": "http://192.168.3.2:9900/lab/extensions/@jupyter-widgets/jupyterlab-manager/static/202.0336063976910618ce3f.js?v=0336063976910618ce3f",
        "type": "error"
       },
       "layout": "IPY_MODEL_c88469ebd98e4060abb111bcb0386384",
       "msg": "Failed to load model class 'HBoxModel' from module '@jupyter-widgets/controls'"
      }
     },
     "990f12f9fbe9426da3ff00d2e793e0c8": {
      "model_module": "@jupyter-widgets/controls",
      "model_module_version": "2.0.0",
      "model_name": "FloatProgressModel",
      "state": {
       "_model_module": "@jupyter-widgets/controls",
       "_model_name": "FloatProgressModel",
       "_view_name": "ErrorWidgetView",
       "bar_style": "success",
       "description": "",
       "description_allow_html": false,
       "error": {
        "message": "Loading chunk 202 failed.\n(error: http://192.168.3.2:9900/lab/extensions/@jupyter-widgets/jupyterlab-manager/static/202.0336063976910618ce3f.js?v=0336063976910618ce3f)",
        "name": "ChunkLoadError",
        "request": "http://192.168.3.2:9900/lab/extensions/@jupyter-widgets/jupyterlab-manager/static/202.0336063976910618ce3f.js?v=0336063976910618ce3f",
        "type": "error"
       },
       "layout": "IPY_MODEL_fa9bdb017a314a66a177389ffb9bf754",
       "max": 338,
       "min": 0,
       "msg": "Failed to load model class 'FloatProgressModel' from module '@jupyter-widgets/controls'",
       "orientation": "horizontal",
       "style": "IPY_MODEL_8397f5391100475aaba3c1b41e76a481",
       "value": 338
      }
     },
     "99b6b0ce887d44f6b0224d88e4bc755a": {
      "model_module": "@jupyter-widgets/controls",
      "model_module_version": "2.0.0",
      "model_name": "HTMLModel",
      "state": {
       "_model_module": "@jupyter-widgets/controls",
       "_model_name": "HTMLModel",
       "_view_name": "ErrorWidgetView",
       "description": "",
       "description_allow_html": false,
       "error": {
        "message": "Loading chunk 495 failed.\n(error: http://192.168.3.2:9900/lab/extensions/@jupyter-widgets/jupyterlab-manager/static/495.3e275af54861cdeb3e75.js?v=3e275af54861cdeb3e75)",
        "name": "ChunkLoadError",
        "request": "http://192.168.3.2:9900/lab/extensions/@jupyter-widgets/jupyterlab-manager/static/495.3e275af54861cdeb3e75.js?v=3e275af54861cdeb3e75",
        "type": "error"
       },
       "layout": "IPY_MODEL_c4b8394a06014475a70621d798a5648d",
       "msg": "Failed to load model class 'HTMLModel' from module '@jupyter-widgets/controls'",
       "placeholder": "​",
       "style": "IPY_MODEL_344e6409618a47c1b1055a66b29e7436",
       "value": " 60.0/60.0 [00:00&lt;00:00, 3.60kB/s]"
      }
     },
     "9a1324a8ca6f4d12aa950117764c24a0": {
      "model_module": "@jupyter-widgets/controls",
      "model_module_version": "2.0.0",
      "model_name": "FloatProgressModel",
      "state": {
       "_model_module": "@jupyter-widgets/controls",
       "_model_name": "FloatProgressModel",
       "_view_name": "ErrorWidgetView",
       "bar_style": "success",
       "description": "",
       "description_allow_html": false,
       "error": {
        "message": "Loading chunk 202 failed.\n(error: http://192.168.3.2:9900/lab/extensions/@jupyter-widgets/jupyterlab-manager/static/202.0336063976910618ce3f.js?v=0336063976910618ce3f)",
        "name": "ChunkLoadError",
        "request": "http://192.168.3.2:9900/lab/extensions/@jupyter-widgets/jupyterlab-manager/static/202.0336063976910618ce3f.js?v=0336063976910618ce3f",
        "type": "error"
       },
       "layout": "IPY_MODEL_34bbb7b4272b4baeb65ca3415beff82b",
       "max": 798,
       "min": 0,
       "msg": "Failed to load model class 'FloatProgressModel' from module '@jupyter-widgets/controls'",
       "orientation": "horizontal",
       "style": "IPY_MODEL_c99a8b001a164d65b6fae83c124fbedc",
       "value": 798
      }
     },
     "9a7799a49f6a4ecda0cab68160de0ded": {
      "model_module": "@jupyter-widgets/controls",
      "model_module_version": "2.0.0",
      "model_name": "FloatProgressModel",
      "state": {
       "_model_module": "@jupyter-widgets/controls",
       "_model_name": "FloatProgressModel",
       "_view_name": "ErrorWidgetView",
       "bar_style": "success",
       "description": "",
       "description_allow_html": false,
       "error": {
        "message": "Loading chunk 495 failed.\n(error: http://192.168.3.2:9900/lab/extensions/@jupyter-widgets/jupyterlab-manager/static/495.3e275af54861cdeb3e75.js?v=3e275af54861cdeb3e75)",
        "name": "ChunkLoadError",
        "request": "http://192.168.3.2:9900/lab/extensions/@jupyter-widgets/jupyterlab-manager/static/495.3e275af54861cdeb3e75.js?v=3e275af54861cdeb3e75",
        "type": "error"
       },
       "layout": "IPY_MODEL_37b3772957c34128bba6636d5e910b2a",
       "max": 1,
       "min": 0,
       "msg": "Failed to load model class 'FloatProgressModel' from module '@jupyter-widgets/controls'",
       "orientation": "horizontal",
       "style": "IPY_MODEL_2b8d9936be734ff3a826a525294743ef",
       "value": 1
      }
     },
     "9a84ad100dc04950a51f2e4201e5830f": {
      "model_module": "@jupyter-widgets/base",
      "model_module_version": "2.0.0",
      "model_name": "LayoutModel",
      "state": {}
     },
     "9a896a69776149c8b51af70dda01ac2d": {
      "model_module": "@jupyter-widgets/base",
      "model_module_version": "2.0.0",
      "model_name": "LayoutModel",
      "state": {}
     },
     "9a953f73aa504f05b8de4f2ba59ee32c": {
      "model_module": "@jupyter-widgets/controls",
      "model_module_version": "2.0.0",
      "model_name": "ProgressStyleModel",
      "state": {
       "_model_module": "@jupyter-widgets/controls",
       "_model_name": "ProgressStyleModel",
       "_view_name": "ErrorWidgetView",
       "bar_color": null,
       "description_width": "",
       "error": {
        "message": "Loading chunk 495 failed.\n(error: http://192.168.3.2:9900/lab/extensions/@jupyter-widgets/jupyterlab-manager/static/495.3e275af54861cdeb3e75.js?v=3e275af54861cdeb3e75)",
        "name": "ChunkLoadError",
        "request": "http://192.168.3.2:9900/lab/extensions/@jupyter-widgets/jupyterlab-manager/static/495.3e275af54861cdeb3e75.js?v=3e275af54861cdeb3e75",
        "type": "error"
       },
       "msg": "Failed to load model class 'ProgressStyleModel' from module '@jupyter-widgets/controls'"
      }
     },
     "9ac9709c313c4e87acdd2813e81fd1a0": {
      "model_module": "@jupyter-widgets/controls",
      "model_module_version": "2.0.0",
      "model_name": "HTMLModel",
      "state": {
       "_model_module": "@jupyter-widgets/controls",
       "_model_name": "HTMLModel",
       "_view_name": "ErrorWidgetView",
       "description": "",
       "description_allow_html": false,
       "error": {
        "message": "Loading chunk 202 failed.\n(error: http://192.168.3.2:9900/lab/extensions/@jupyter-widgets/jupyterlab-manager/static/202.0336063976910618ce3f.js?v=0336063976910618ce3f)",
        "name": "ChunkLoadError",
        "request": "http://192.168.3.2:9900/lab/extensions/@jupyter-widgets/jupyterlab-manager/static/202.0336063976910618ce3f.js?v=0336063976910618ce3f",
        "type": "error"
       },
       "layout": "IPY_MODEL_4719c42f95254723a52d3dbf2e18c45c",
       "msg": "Failed to load model class 'HTMLModel' from module '@jupyter-widgets/controls'",
       "placeholder": "​",
       "style": "IPY_MODEL_16f85927fe03441894f1e97ce2b7c3e3",
       "value": " 1.21k/? [00:00&lt;00:00, 78.0kB/s]"
      }
     },
     "9b7c6db790484b668e51b231630700c6": {
      "model_module": "@jupyter-widgets/controls",
      "model_module_version": "2.0.0",
      "model_name": "HTMLStyleModel",
      "state": {
       "_model_module": "@jupyter-widgets/controls",
       "_model_name": "HTMLStyleModel",
       "_view_name": "ErrorWidgetView",
       "background": null,
       "description_width": "",
       "error": {
        "message": "Loading chunk 495 failed.\n(error: http://192.168.3.2:9900/lab/extensions/@jupyter-widgets/jupyterlab-manager/static/495.3e275af54861cdeb3e75.js?v=3e275af54861cdeb3e75)",
        "name": "ChunkLoadError",
        "request": "http://192.168.3.2:9900/lab/extensions/@jupyter-widgets/jupyterlab-manager/static/495.3e275af54861cdeb3e75.js?v=3e275af54861cdeb3e75",
        "type": "error"
       },
       "font_size": null,
       "msg": "Failed to load model class 'HTMLStyleModel' from module '@jupyter-widgets/controls'",
       "text_color": null
      }
     },
     "9b9c1cc0e0424cf5bbee2db2b9318b07": {
      "model_module": "@jupyter-widgets/base",
      "model_module_version": "2.0.0",
      "model_name": "LayoutModel",
      "state": {}
     },
     "9c101780d87a40fd9673a2fa8c13fb70": {
      "model_module": "@jupyter-widgets/controls",
      "model_module_version": "2.0.0",
      "model_name": "ProgressStyleModel",
      "state": {
       "_model_module": "@jupyter-widgets/controls",
       "_model_name": "ProgressStyleModel",
       "_view_name": "ErrorWidgetView",
       "bar_color": null,
       "description_width": "",
       "error": {
        "message": "Loading chunk 202 failed.\n(error: http://192.168.3.2:9900/lab/extensions/@jupyter-widgets/jupyterlab-manager/static/202.0336063976910618ce3f.js?v=0336063976910618ce3f)",
        "name": "ChunkLoadError",
        "request": "http://192.168.3.2:9900/lab/extensions/@jupyter-widgets/jupyterlab-manager/static/202.0336063976910618ce3f.js?v=0336063976910618ce3f",
        "type": "error"
       },
       "msg": "Failed to load model class 'ProgressStyleModel' from module '@jupyter-widgets/controls'"
      }
     },
     "9c5024db1f0b400081359e476d271028": {
      "model_module": "@jupyter-widgets/base",
      "model_module_version": "2.0.0",
      "model_name": "LayoutModel",
      "state": {}
     },
     "9c90ffa9cc7e49d4b99f9635338e4428": {
      "model_module": "@jupyter-widgets/base",
      "model_module_version": "2.0.0",
      "model_name": "LayoutModel",
      "state": {}
     },
     "9ca01fb26498491d9e224e9ee50da5ce": {
      "model_module": "@jupyter-widgets/base",
      "model_module_version": "2.0.0",
      "model_name": "LayoutModel",
      "state": {}
     },
     "9cf3569d888b46eb81d2bd0b590533b2": {
      "model_module": "@jupyter-widgets/base",
      "model_module_version": "2.0.0",
      "model_name": "LayoutModel",
      "state": {}
     },
     "9d14dd01428b445aa07e366e014aa501": {
      "model_module": "@jupyter-widgets/base",
      "model_module_version": "2.0.0",
      "model_name": "LayoutModel",
      "state": {}
     },
     "9d6796229bdf42edbda7bf0879fc32c7": {
      "model_module": "@jupyter-widgets/controls",
      "model_module_version": "2.0.0",
      "model_name": "FloatProgressModel",
      "state": {
       "_model_module": "@jupyter-widgets/controls",
       "_model_name": "FloatProgressModel",
       "_view_name": "ErrorWidgetView",
       "bar_style": "success",
       "description": "",
       "description_allow_html": false,
       "error": {
        "message": "Loading chunk 202 failed.\n(error: http://192.168.3.2:9900/lab/extensions/@jupyter-widgets/jupyterlab-manager/static/202.0336063976910618ce3f.js?v=0336063976910618ce3f)",
        "name": "ChunkLoadError",
        "request": "http://192.168.3.2:9900/lab/extensions/@jupyter-widgets/jupyterlab-manager/static/202.0336063976910618ce3f.js?v=0336063976910618ce3f",
        "type": "error"
       },
       "layout": "IPY_MODEL_033f556e10cf45abab31c88691ad3c7a",
       "max": 791656,
       "min": 0,
       "msg": "Failed to load model class 'FloatProgressModel' from module '@jupyter-widgets/controls'",
       "orientation": "horizontal",
       "style": "IPY_MODEL_ea0020d8bf6247efb8de5804072f718c",
       "value": 791656
      }
     },
     "9d8c79327ef54b88adf96e225b95cb27": {
      "model_module": "@jupyter-widgets/controls",
      "model_module_version": "2.0.0",
      "model_name": "HBoxModel",
      "state": {
       "_model_module": "@jupyter-widgets/controls",
       "_model_name": "HBoxModel",
       "_view_name": "ErrorWidgetView",
       "box_style": "",
       "children": [
        "IPY_MODEL_5d2b3b36dcb1432eb1192b63e530de12",
        "IPY_MODEL_51e9ed16e90045139ede38da0e529609",
        "IPY_MODEL_943a7c0a4b2e4bf79d3fd8fe76a9e459"
       ],
       "error": {
        "message": "Loading chunk 202 failed.\n(error: http://192.168.3.2:9900/lab/extensions/@jupyter-widgets/jupyterlab-manager/static/202.0336063976910618ce3f.js?v=0336063976910618ce3f)",
        "name": "ChunkLoadError",
        "request": "http://192.168.3.2:9900/lab/extensions/@jupyter-widgets/jupyterlab-manager/static/202.0336063976910618ce3f.js?v=0336063976910618ce3f",
        "type": "error"
       },
       "layout": "IPY_MODEL_86320f3de12a45cda2d9d7a5a51b0c75",
       "msg": "Failed to load model class 'HBoxModel' from module '@jupyter-widgets/controls'"
      }
     },
     "9d97b2c924804cceb26d00ea217b3c9a": {
      "model_module": "@jupyter-widgets/base",
      "model_module_version": "2.0.0",
      "model_name": "LayoutModel",
      "state": {}
     },
     "9dc8f66a02b140eab1753e19213ca728": {
      "model_module": "@jupyter-widgets/controls",
      "model_module_version": "2.0.0",
      "model_name": "HBoxModel",
      "state": {
       "_model_module": "@jupyter-widgets/controls",
       "_model_name": "HBoxModel",
       "_view_name": "ErrorWidgetView",
       "box_style": "",
       "children": [
        "IPY_MODEL_daf4a1542b984676b9e074bc235c6c0b",
        "IPY_MODEL_9d6796229bdf42edbda7bf0879fc32c7",
        "IPY_MODEL_f6498405a22043b38c649c498c8480e2"
       ],
       "error": {
        "message": "Loading chunk 495 failed.\n(error: http://192.168.3.2:9900/lab/extensions/@jupyter-widgets/jupyterlab-manager/static/495.3e275af54861cdeb3e75.js?v=3e275af54861cdeb3e75)",
        "name": "ChunkLoadError",
        "request": "http://192.168.3.2:9900/lab/extensions/@jupyter-widgets/jupyterlab-manager/static/495.3e275af54861cdeb3e75.js?v=3e275af54861cdeb3e75",
        "type": "error"
       },
       "layout": "IPY_MODEL_8e162761b9fe40c5a05cfbd6ce7c6089",
       "msg": "Failed to load model class 'HBoxModel' from module '@jupyter-widgets/controls'"
      }
     },
     "9df632e9e11c40c190f4565a76dd0cd6": {
      "model_module": "@jupyter-widgets/base",
      "model_module_version": "2.0.0",
      "model_name": "LayoutModel",
      "state": {
       "width": "20px"
      }
     },
     "9e3cddfc43f042d4952970576ed4c75d": {
      "model_module": "@jupyter-widgets/base",
      "model_module_version": "2.0.0",
      "model_name": "LayoutModel",
      "state": {}
     },
     "9e5a30ed7bc94df08a24223e51c198de": {
      "model_module": "@jupyter-widgets/base",
      "model_module_version": "2.0.0",
      "model_name": "LayoutModel",
      "state": {}
     },
     "9e80f8629a254410a3d784506b8c2fde": {
      "model_module": "@jupyter-widgets/controls",
      "model_module_version": "2.0.0",
      "model_name": "HTMLStyleModel",
      "state": {
       "_model_module": "@jupyter-widgets/controls",
       "_model_name": "HTMLStyleModel",
       "_view_name": "ErrorWidgetView",
       "background": null,
       "description_width": "",
       "error": {
        "message": "Loading chunk 495 failed.\n(error: http://192.168.3.2:9900/lab/extensions/@jupyter-widgets/jupyterlab-manager/static/495.3e275af54861cdeb3e75.js?v=3e275af54861cdeb3e75)",
        "name": "ChunkLoadError",
        "request": "http://192.168.3.2:9900/lab/extensions/@jupyter-widgets/jupyterlab-manager/static/495.3e275af54861cdeb3e75.js?v=3e275af54861cdeb3e75",
        "type": "error"
       },
       "font_size": null,
       "msg": "Failed to load model class 'HTMLStyleModel' from module '@jupyter-widgets/controls'",
       "text_color": null
      }
     },
     "9e92c0fff8b54e02a90dd93d1691dc0b": {
      "model_module": "@jupyter-widgets/base",
      "model_module_version": "2.0.0",
      "model_name": "LayoutModel",
      "state": {}
     },
     "9e9aba549c6d48688fdbe1a791fa50b9": {
      "model_module": "@jupyter-widgets/controls",
      "model_module_version": "2.0.0",
      "model_name": "HBoxModel",
      "state": {
       "_model_module": "@jupyter-widgets/controls",
       "_model_name": "HBoxModel",
       "_view_name": "ErrorWidgetView",
       "box_style": "",
       "children": [
        "IPY_MODEL_659951ed576440b0b8502fa370f493aa",
        "IPY_MODEL_ac0d4149df624221be440afb9c07b8e5",
        "IPY_MODEL_1a4a638c4f5a4e31931d17bb463b6d70"
       ],
       "error": {
        "message": "Loading chunk 495 failed.\n(error: http://192.168.3.2:9900/lab/extensions/@jupyter-widgets/jupyterlab-manager/static/495.3e275af54861cdeb3e75.js?v=3e275af54861cdeb3e75)",
        "name": "ChunkLoadError",
        "request": "http://192.168.3.2:9900/lab/extensions/@jupyter-widgets/jupyterlab-manager/static/495.3e275af54861cdeb3e75.js?v=3e275af54861cdeb3e75",
        "type": "error"
       },
       "layout": "IPY_MODEL_5c671d0b241d4ad3ab82402fcc0a40f4",
       "msg": "Failed to load model class 'HBoxModel' from module '@jupyter-widgets/controls'"
      }
     },
     "9f093135e5b345c0ae577d5702233089": {
      "model_module": "@jupyter-widgets/controls",
      "model_module_version": "2.0.0",
      "model_name": "HTMLStyleModel",
      "state": {
       "_model_module": "@jupyter-widgets/controls",
       "_model_name": "HTMLStyleModel",
       "_view_name": "ErrorWidgetView",
       "background": null,
       "description_width": "",
       "error": {
        "message": "Loading chunk 202 failed.\n(error: http://192.168.3.2:9900/lab/extensions/@jupyter-widgets/jupyterlab-manager/static/202.0336063976910618ce3f.js?v=0336063976910618ce3f)",
        "name": "ChunkLoadError",
        "request": "http://192.168.3.2:9900/lab/extensions/@jupyter-widgets/jupyterlab-manager/static/202.0336063976910618ce3f.js?v=0336063976910618ce3f",
        "type": "error"
       },
       "font_size": null,
       "msg": "Failed to load model class 'HTMLStyleModel' from module '@jupyter-widgets/controls'",
       "text_color": null
      }
     },
     "9f166dc1ff1b48ec9899aa17f3bfadc2": {
      "model_module": "@jupyter-widgets/controls",
      "model_module_version": "2.0.0",
      "model_name": "HTMLModel",
      "state": {
       "_model_module": "@jupyter-widgets/controls",
       "_model_name": "HTMLModel",
       "_view_name": "ErrorWidgetView",
       "description": "",
       "description_allow_html": false,
       "error": {
        "message": "Loading chunk 495 failed.\n(error: http://192.168.3.2:9900/lab/extensions/@jupyter-widgets/jupyterlab-manager/static/495.3e275af54861cdeb3e75.js?v=3e275af54861cdeb3e75)",
        "name": "ChunkLoadError",
        "request": "http://192.168.3.2:9900/lab/extensions/@jupyter-widgets/jupyterlab-manager/static/495.3e275af54861cdeb3e75.js?v=3e275af54861cdeb3e75",
        "type": "error"
       },
       "layout": "IPY_MODEL_8548438b0c03429081468739b5d4a84f",
       "msg": "Failed to load model class 'HTMLModel' from module '@jupyter-widgets/controls'",
       "placeholder": "​",
       "style": "IPY_MODEL_dec7833896cb4f5fb37508158bbd029e",
       "value": " 1.33G/1.33G [00:29&lt;00:00, 43.3MB/s]"
      }
     },
     "9f2751f71c954d9881b4fddb309e7cb1": {
      "model_module": "@jupyter-widgets/controls",
      "model_module_version": "2.0.0",
      "model_name": "HTMLStyleModel",
      "state": {
       "_model_module": "@jupyter-widgets/controls",
       "_model_name": "HTMLStyleModel",
       "_view_name": "ErrorWidgetView",
       "background": null,
       "description_width": "",
       "error": {
        "message": "Loading chunk 495 failed.\n(error: http://192.168.3.2:9900/lab/extensions/@jupyter-widgets/jupyterlab-manager/static/495.3e275af54861cdeb3e75.js?v=3e275af54861cdeb3e75)",
        "name": "ChunkLoadError",
        "request": "http://192.168.3.2:9900/lab/extensions/@jupyter-widgets/jupyterlab-manager/static/495.3e275af54861cdeb3e75.js?v=3e275af54861cdeb3e75",
        "type": "error"
       },
       "font_size": null,
       "msg": "Failed to load model class 'HTMLStyleModel' from module '@jupyter-widgets/controls'",
       "text_color": null
      }
     },
     "9f68884467da4c8ebb2b582384be571a": {
      "model_module": "@jupyter-widgets/controls",
      "model_module_version": "2.0.0",
      "model_name": "HTMLModel",
      "state": {
       "_model_module": "@jupyter-widgets/controls",
       "_model_name": "HTMLModel",
       "_view_name": "ErrorWidgetView",
       "description": "",
       "description_allow_html": false,
       "error": {
        "message": "Loading chunk 202 failed.\n(error: http://192.168.3.2:9900/lab/extensions/@jupyter-widgets/jupyterlab-manager/static/202.0336063976910618ce3f.js?v=0336063976910618ce3f)",
        "name": "ChunkLoadError",
        "request": "http://192.168.3.2:9900/lab/extensions/@jupyter-widgets/jupyterlab-manager/static/202.0336063976910618ce3f.js?v=0336063976910618ce3f",
        "type": "error"
       },
       "layout": "IPY_MODEL_eebee4c5c8c04b889ee0531d8a0ea62d",
       "msg": "Failed to load model class 'HTMLModel' from module '@jupyter-widgets/controls'",
       "placeholder": "​",
       "style": "IPY_MODEL_372b7719d948498ab3c13cf2f9146767",
       "value": "merges.txt: "
      }
     },
     "9f96f2d83e1d42c6ae0da70397598c50": {
      "model_module": "@jupyter-widgets/base",
      "model_module_version": "2.0.0",
      "model_name": "LayoutModel",
      "state": {}
     },
     "a04168b6e88a41e7b0f1521437a1bed4": {
      "model_module": "@jupyter-widgets/base",
      "model_module_version": "2.0.0",
      "model_name": "LayoutModel",
      "state": {}
     },
     "a067b07ed4194ca988024b57e6895e38": {
      "model_module": "@jupyter-widgets/controls",
      "model_module_version": "2.0.0",
      "model_name": "HBoxModel",
      "state": {
       "_model_module": "@jupyter-widgets/controls",
       "_model_name": "HBoxModel",
       "_view_name": "ErrorWidgetView",
       "box_style": "",
       "children": [
        "IPY_MODEL_11d57a5f2c7b4ab9b330910bd26c3592",
        "IPY_MODEL_6416e126cc274955b44d87bcd4f88b75",
        "IPY_MODEL_cdc30198d1f149d0965c8b7c991b6702"
       ],
       "error": {
        "message": "Loading chunk 202 failed.\n(error: http://192.168.3.2:9900/lab/extensions/@jupyter-widgets/jupyterlab-manager/static/202.0336063976910618ce3f.js?v=0336063976910618ce3f)",
        "name": "ChunkLoadError",
        "request": "http://192.168.3.2:9900/lab/extensions/@jupyter-widgets/jupyterlab-manager/static/202.0336063976910618ce3f.js?v=0336063976910618ce3f",
        "type": "error"
       },
       "layout": "IPY_MODEL_6cb7756056e845749ff56b81625b9472",
       "msg": "Failed to load model class 'HBoxModel' from module '@jupyter-widgets/controls'"
      }
     },
     "a07a30033f1f43b3bdc0e7e9aa116e8e": {
      "model_module": "@jupyter-widgets/controls",
      "model_module_version": "2.0.0",
      "model_name": "FloatProgressModel",
      "state": {
       "_model_module": "@jupyter-widgets/controls",
       "_model_name": "FloatProgressModel",
       "_view_name": "ErrorWidgetView",
       "bar_style": "success",
       "description": "",
       "description_allow_html": false,
       "error": {
        "message": "Loading chunk 495 failed.\n(error: http://192.168.3.2:9900/lab/extensions/@jupyter-widgets/jupyterlab-manager/static/495.3e275af54861cdeb3e75.js?v=3e275af54861cdeb3e75)",
        "name": "ChunkLoadError",
        "request": "http://192.168.3.2:9900/lab/extensions/@jupyter-widgets/jupyterlab-manager/static/495.3e275af54861cdeb3e75.js?v=3e275af54861cdeb3e75",
        "type": "error"
       },
       "layout": "IPY_MODEL_b935324239da4336a9870521b74de8b0",
       "max": 473,
       "min": 0,
       "msg": "Failed to load model class 'FloatProgressModel' from module '@jupyter-widgets/controls'",
       "orientation": "horizontal",
       "style": "IPY_MODEL_b0209f3627e14663aca6a842d38f66b8",
       "value": 473
      }
     },
     "a14541b96be64a26ae000f1bd28fc932": {
      "model_module": "@jupyter-widgets/controls",
      "model_module_version": "2.0.0",
      "model_name": "HBoxModel",
      "state": {
       "_model_module": "@jupyter-widgets/controls",
       "_model_name": "HBoxModel",
       "_view_name": "ErrorWidgetView",
       "box_style": "",
       "children": [
        "IPY_MODEL_8fd41e76cffb4fa295e1094a77d69e95",
        "IPY_MODEL_cc7e6a4f85e4417db0275f2d557c9576",
        "IPY_MODEL_83c3138df9144b7ea848876290fdbf12"
       ],
       "error": {
        "message": "Loading chunk 495 failed.\n(error: http://192.168.3.2:9900/lab/extensions/@jupyter-widgets/jupyterlab-manager/static/495.3e275af54861cdeb3e75.js?v=3e275af54861cdeb3e75)",
        "name": "ChunkLoadError",
        "request": "http://192.168.3.2:9900/lab/extensions/@jupyter-widgets/jupyterlab-manager/static/495.3e275af54861cdeb3e75.js?v=3e275af54861cdeb3e75",
        "type": "error"
       },
       "layout": "IPY_MODEL_b22d292c8a494bd0b90b88a6b65d3783",
       "msg": "Failed to load model class 'HBoxModel' from module '@jupyter-widgets/controls'"
      }
     },
     "a1c9516116a245a9a1bfd37f543562d1": {
      "model_module": "@jupyter-widgets/base",
      "model_module_version": "2.0.0",
      "model_name": "LayoutModel",
      "state": {}
     },
     "a1f571f4893142bf93d1eab9f565c1d0": {
      "model_module": "@jupyter-widgets/base",
      "model_module_version": "2.0.0",
      "model_name": "LayoutModel",
      "state": {}
     },
     "a2991f0abd584bbca1c9e9a72ceea915": {
      "model_module": "@jupyter-widgets/controls",
      "model_module_version": "2.0.0",
      "model_name": "FloatProgressModel",
      "state": {
       "_model_module": "@jupyter-widgets/controls",
       "_model_name": "FloatProgressModel",
       "_view_name": "ErrorWidgetView",
       "bar_style": "success",
       "description": "",
       "description_allow_html": false,
       "error": {
        "message": "Loading chunk 495 failed.\n(error: http://192.168.3.2:9900/lab/extensions/@jupyter-widgets/jupyterlab-manager/static/495.3e275af54861cdeb3e75.js?v=3e275af54861cdeb3e75)",
        "name": "ChunkLoadError",
        "request": "http://192.168.3.2:9900/lab/extensions/@jupyter-widgets/jupyterlab-manager/static/495.3e275af54861cdeb3e75.js?v=3e275af54861cdeb3e75",
        "type": "error"
       },
       "layout": "IPY_MODEL_790f742307a042abbf4eb69f07dd9308",
       "max": 1,
       "min": 0,
       "msg": "Failed to load model class 'FloatProgressModel' from module '@jupyter-widgets/controls'",
       "orientation": "horizontal",
       "style": "IPY_MODEL_dd40f5b1fec94acabfa2accf08a2b84d",
       "value": 1
      }
     },
     "a2b72a498b504a40afd49434e2117a75": {
      "model_module": "@jupyter-widgets/base",
      "model_module_version": "2.0.0",
      "model_name": "LayoutModel",
      "state": {}
     },
     "a2e7aadc25dd46d5ae49da81cc5f876e": {
      "model_module": "@jupyter-widgets/base",
      "model_module_version": "2.0.0",
      "model_name": "LayoutModel",
      "state": {}
     },
     "a2fab3b7a90d4e2db1ce54bbcd93b562": {
      "model_module": "@jupyter-widgets/controls",
      "model_module_version": "2.0.0",
      "model_name": "HTMLStyleModel",
      "state": {
       "_model_module": "@jupyter-widgets/controls",
       "_model_name": "HTMLStyleModel",
       "_view_name": "ErrorWidgetView",
       "background": null,
       "description_width": "",
       "error": {
        "message": "Loading chunk 202 failed.\n(error: http://192.168.3.2:9900/lab/extensions/@jupyter-widgets/jupyterlab-manager/static/202.0336063976910618ce3f.js?v=0336063976910618ce3f)",
        "name": "ChunkLoadError",
        "request": "http://192.168.3.2:9900/lab/extensions/@jupyter-widgets/jupyterlab-manager/static/202.0336063976910618ce3f.js?v=0336063976910618ce3f",
        "type": "error"
       },
       "font_size": null,
       "msg": "Failed to load model class 'HTMLStyleModel' from module '@jupyter-widgets/controls'",
       "text_color": null
      }
     },
     "a2ff8c910e5c46dd8440128c813dad87": {
      "model_module": "@jupyter-widgets/controls",
      "model_module_version": "2.0.0",
      "model_name": "HTMLStyleModel",
      "state": {
       "_model_module": "@jupyter-widgets/controls",
       "_model_name": "HTMLStyleModel",
       "_view_name": "ErrorWidgetView",
       "background": null,
       "description_width": "",
       "error": {
        "message": "Loading chunk 495 failed.\n(error: http://192.168.3.2:9900/lab/extensions/@jupyter-widgets/jupyterlab-manager/static/495.3e275af54861cdeb3e75.js?v=3e275af54861cdeb3e75)",
        "name": "ChunkLoadError",
        "request": "http://192.168.3.2:9900/lab/extensions/@jupyter-widgets/jupyterlab-manager/static/495.3e275af54861cdeb3e75.js?v=3e275af54861cdeb3e75",
        "type": "error"
       },
       "font_size": null,
       "msg": "Failed to load model class 'HTMLStyleModel' from module '@jupyter-widgets/controls'",
       "text_color": null
      }
     },
     "a345e36fa814497680be74ad605ea4d4": {
      "model_module": "@jupyter-widgets/controls",
      "model_module_version": "2.0.0",
      "model_name": "ProgressStyleModel",
      "state": {
       "_model_module": "@jupyter-widgets/controls",
       "_model_name": "ProgressStyleModel",
       "_view_name": "ErrorWidgetView",
       "bar_color": null,
       "description_width": "",
       "error": {
        "message": "Loading chunk 495 failed.\n(error: http://192.168.3.2:9900/lab/extensions/@jupyter-widgets/jupyterlab-manager/static/495.3e275af54861cdeb3e75.js?v=3e275af54861cdeb3e75)",
        "name": "ChunkLoadError",
        "request": "http://192.168.3.2:9900/lab/extensions/@jupyter-widgets/jupyterlab-manager/static/495.3e275af54861cdeb3e75.js?v=3e275af54861cdeb3e75",
        "type": "error"
       },
       "msg": "Failed to load model class 'ProgressStyleModel' from module '@jupyter-widgets/controls'"
      }
     },
     "a38a9ab462b44d3482f77aba7504666f": {
      "model_module": "@jupyter-widgets/base",
      "model_module_version": "2.0.0",
      "model_name": "LayoutModel",
      "state": {}
     },
     "a3ce62e2126d44248a96be5cacf4e098": {
      "model_module": "@jupyter-widgets/controls",
      "model_module_version": "2.0.0",
      "model_name": "FloatProgressModel",
      "state": {
       "_model_module": "@jupyter-widgets/controls",
       "_model_name": "FloatProgressModel",
       "_view_name": "ErrorWidgetView",
       "bar_style": "success",
       "description": "",
       "description_allow_html": false,
       "error": {
        "message": "Loading chunk 202 failed.\n(error: http://192.168.3.2:9900/lab/extensions/@jupyter-widgets/jupyterlab-manager/static/202.0336063976910618ce3f.js?v=0336063976910618ce3f)",
        "name": "ChunkLoadError",
        "request": "http://192.168.3.2:9900/lab/extensions/@jupyter-widgets/jupyterlab-manager/static/202.0336063976910618ce3f.js?v=0336063976910618ce3f",
        "type": "error"
       },
       "layout": "IPY_MODEL_0b9ec73a374a41f2bc39dc9f962a83ea",
       "max": 112,
       "min": 0,
       "msg": "Failed to load model class 'FloatProgressModel' from module '@jupyter-widgets/controls'",
       "orientation": "horizontal",
       "style": "IPY_MODEL_bcb86476bd874b449ea68c4569cef6ae",
       "value": 112
      }
     },
     "a3f916021a0f4bcdad6dd168f8a59e60": {
      "model_module": "@jupyter-widgets/controls",
      "model_module_version": "2.0.0",
      "model_name": "ProgressStyleModel",
      "state": {
       "_model_module": "@jupyter-widgets/controls",
       "_model_name": "ProgressStyleModel",
       "_view_name": "ErrorWidgetView",
       "bar_color": null,
       "description_width": "",
       "error": {
        "message": "Loading chunk 495 failed.\n(error: http://192.168.3.2:9900/lab/extensions/@jupyter-widgets/jupyterlab-manager/static/495.3e275af54861cdeb3e75.js?v=3e275af54861cdeb3e75)",
        "name": "ChunkLoadError",
        "request": "http://192.168.3.2:9900/lab/extensions/@jupyter-widgets/jupyterlab-manager/static/495.3e275af54861cdeb3e75.js?v=3e275af54861cdeb3e75",
        "type": "error"
       },
       "msg": "Failed to load model class 'ProgressStyleModel' from module '@jupyter-widgets/controls'"
      }
     },
     "a3fd821ba65d4a6eb553d64b38b83f42": {
      "model_module": "@jupyter-widgets/controls",
      "model_module_version": "2.0.0",
      "model_name": "FloatProgressModel",
      "state": {
       "_model_module": "@jupyter-widgets/controls",
       "_model_name": "FloatProgressModel",
       "_view_name": "ErrorWidgetView",
       "bar_style": "success",
       "description": "",
       "description_allow_html": false,
       "error": {
        "message": "Loading chunk 495 failed.\n(error: http://192.168.3.2:9900/lab/extensions/@jupyter-widgets/jupyterlab-manager/static/495.3e275af54861cdeb3e75.js?v=3e275af54861cdeb3e75)",
        "name": "ChunkLoadError",
        "request": "http://192.168.3.2:9900/lab/extensions/@jupyter-widgets/jupyterlab-manager/static/495.3e275af54861cdeb3e75.js?v=3e275af54861cdeb3e75",
        "type": "error"
       },
       "layout": "IPY_MODEL_0d14d3c460994357bf9be18f55fb9496",
       "max": 378360273,
       "min": 0,
       "msg": "Failed to load model class 'FloatProgressModel' from module '@jupyter-widgets/controls'",
       "orientation": "horizontal",
       "style": "IPY_MODEL_2ff45056cfdd45ea98005223d4f2b62f",
       "value": 378360273
      }
     },
     "a48fdae218bb4378ad9e7276fc46a4ab": {
      "model_module": "@jupyter-widgets/base",
      "model_module_version": "2.0.0",
      "model_name": "LayoutModel",
      "state": {}
     },
     "a4c3f51c04024910b6dbf1d5b8f1266c": {
      "model_module": "@jupyter-widgets/base",
      "model_module_version": "2.0.0",
      "model_name": "LayoutModel",
      "state": {}
     },
     "a561b57fc4ac4c5e8a65900b6afe95b6": {
      "model_module": "@jupyter-widgets/controls",
      "model_module_version": "2.0.0",
      "model_name": "ProgressStyleModel",
      "state": {
       "_model_module": "@jupyter-widgets/controls",
       "_model_name": "ProgressStyleModel",
       "_view_name": "ErrorWidgetView",
       "bar_color": null,
       "description_width": "",
       "error": {
        "message": "Loading chunk 202 failed.\n(error: http://192.168.3.2:9900/lab/extensions/@jupyter-widgets/jupyterlab-manager/static/202.0336063976910618ce3f.js?v=0336063976910618ce3f)",
        "name": "ChunkLoadError",
        "request": "http://192.168.3.2:9900/lab/extensions/@jupyter-widgets/jupyterlab-manager/static/202.0336063976910618ce3f.js?v=0336063976910618ce3f",
        "type": "error"
       },
       "msg": "Failed to load model class 'ProgressStyleModel' from module '@jupyter-widgets/controls'"
      }
     },
     "a5625f56017d4509a7a3a6c1719cab0a": {
      "model_module": "@jupyter-widgets/controls",
      "model_module_version": "2.0.0",
      "model_name": "ProgressStyleModel",
      "state": {
       "_model_module": "@jupyter-widgets/controls",
       "_model_name": "ProgressStyleModel",
       "_view_name": "ErrorWidgetView",
       "bar_color": null,
       "description_width": "",
       "error": {
        "message": "Loading chunk 202 failed.\n(error: http://192.168.3.2:9900/lab/extensions/@jupyter-widgets/jupyterlab-manager/static/202.0336063976910618ce3f.js?v=0336063976910618ce3f)",
        "name": "ChunkLoadError",
        "request": "http://192.168.3.2:9900/lab/extensions/@jupyter-widgets/jupyterlab-manager/static/202.0336063976910618ce3f.js?v=0336063976910618ce3f",
        "type": "error"
       },
       "msg": "Failed to load model class 'ProgressStyleModel' from module '@jupyter-widgets/controls'"
      }
     },
     "a591eb9ac63a4c859885eabc9e418fad": {
      "model_module": "@jupyter-widgets/controls",
      "model_module_version": "2.0.0",
      "model_name": "HTMLStyleModel",
      "state": {
       "_model_module": "@jupyter-widgets/controls",
       "_model_name": "HTMLStyleModel",
       "_view_name": "ErrorWidgetView",
       "background": null,
       "description_width": "",
       "error": {
        "message": "Loading chunk 202 failed.\n(error: http://192.168.3.2:9900/lab/extensions/@jupyter-widgets/jupyterlab-manager/static/202.0336063976910618ce3f.js?v=0336063976910618ce3f)",
        "name": "ChunkLoadError",
        "request": "http://192.168.3.2:9900/lab/extensions/@jupyter-widgets/jupyterlab-manager/static/202.0336063976910618ce3f.js?v=0336063976910618ce3f",
        "type": "error"
       },
       "font_size": null,
       "msg": "Failed to load model class 'HTMLStyleModel' from module '@jupyter-widgets/controls'",
       "text_color": null
      }
     },
     "a643710ab2314bedbde155cb61e82301": {
      "model_module": "@jupyter-widgets/base",
      "model_module_version": "2.0.0",
      "model_name": "LayoutModel",
      "state": {}
     },
     "a66b0f3289c543b083f699a45314b8bd": {
      "model_module": "@jupyter-widgets/controls",
      "model_module_version": "2.0.0",
      "model_name": "HBoxModel",
      "state": {
       "_model_module": "@jupyter-widgets/controls",
       "_model_name": "HBoxModel",
       "_view_name": "ErrorWidgetView",
       "box_style": "",
       "children": [
        "IPY_MODEL_63a1047baf7942d2a3d503d003d17a14",
        "IPY_MODEL_04107641a1e14fab875ae79ce552f0ec",
        "IPY_MODEL_303861bfe30a477ead68878fd4ec53ba"
       ],
       "error": {
        "message": "Loading chunk 495 failed.\n(error: http://192.168.3.2:9900/lab/extensions/@jupyter-widgets/jupyterlab-manager/static/495.3e275af54861cdeb3e75.js?v=3e275af54861cdeb3e75)",
        "name": "ChunkLoadError",
        "request": "http://192.168.3.2:9900/lab/extensions/@jupyter-widgets/jupyterlab-manager/static/495.3e275af54861cdeb3e75.js?v=3e275af54861cdeb3e75",
        "type": "error"
       },
       "layout": "IPY_MODEL_54b04ab32fe341e2ac231ca81c2301da",
       "msg": "Failed to load model class 'HBoxModel' from module '@jupyter-widgets/controls'"
      }
     },
     "a6bddd6ec7f34803b702cc680bf964d9": {
      "model_module": "@jupyter-widgets/base",
      "model_module_version": "2.0.0",
      "model_name": "LayoutModel",
      "state": {}
     },
     "a73883fc53d8455185ca445ac4717240": {
      "model_module": "@jupyter-widgets/controls",
      "model_module_version": "2.0.0",
      "model_name": "HTMLStyleModel",
      "state": {
       "_model_module": "@jupyter-widgets/controls",
       "_model_name": "HTMLStyleModel",
       "_view_name": "ErrorWidgetView",
       "background": null,
       "description_width": "",
       "error": {
        "message": "Loading chunk 202 failed.\n(error: http://192.168.3.2:9900/lab/extensions/@jupyter-widgets/jupyterlab-manager/static/202.0336063976910618ce3f.js?v=0336063976910618ce3f)",
        "name": "ChunkLoadError",
        "request": "http://192.168.3.2:9900/lab/extensions/@jupyter-widgets/jupyterlab-manager/static/202.0336063976910618ce3f.js?v=0336063976910618ce3f",
        "type": "error"
       },
       "font_size": null,
       "msg": "Failed to load model class 'HTMLStyleModel' from module '@jupyter-widgets/controls'",
       "text_color": null
      }
     },
     "a77b3d9dd7274aa4a827cd1ecf9f8370": {
      "model_module": "@jupyter-widgets/controls",
      "model_module_version": "2.0.0",
      "model_name": "HTMLModel",
      "state": {
       "_model_module": "@jupyter-widgets/controls",
       "_model_name": "HTMLModel",
       "_view_name": "ErrorWidgetView",
       "description": "",
       "description_allow_html": false,
       "error": {
        "message": "Loading chunk 202 failed.\n(error: http://192.168.3.2:9900/lab/extensions/@jupyter-widgets/jupyterlab-manager/static/202.0336063976910618ce3f.js?v=0336063976910618ce3f)",
        "name": "ChunkLoadError",
        "request": "http://192.168.3.2:9900/lab/extensions/@jupyter-widgets/jupyterlab-manager/static/202.0336063976910618ce3f.js?v=0336063976910618ce3f",
        "type": "error"
       },
       "layout": "IPY_MODEL_76db9084834241248f3f4e8568015743",
       "msg": "Failed to load model class 'HTMLModel' from module '@jupyter-widgets/controls'",
       "placeholder": "​",
       "style": "IPY_MODEL_75a2db814c8848a3962bd27fa4a9fca7",
       "value": "tokenizer.json: "
      }
     },
     "a7cb4377c3364701a81e53b6f16d1961": {
      "model_module": "@jupyter-widgets/controls",
      "model_module_version": "2.0.0",
      "model_name": "HTMLStyleModel",
      "state": {
       "_model_module": "@jupyter-widgets/controls",
       "_model_name": "HTMLStyleModel",
       "_view_name": "ErrorWidgetView",
       "background": null,
       "description_width": "",
       "error": {
        "message": "Loading chunk 495 failed.\n(error: http://192.168.3.2:9900/lab/extensions/@jupyter-widgets/jupyterlab-manager/static/495.3e275af54861cdeb3e75.js?v=3e275af54861cdeb3e75)",
        "name": "ChunkLoadError",
        "request": "http://192.168.3.2:9900/lab/extensions/@jupyter-widgets/jupyterlab-manager/static/495.3e275af54861cdeb3e75.js?v=3e275af54861cdeb3e75",
        "type": "error"
       },
       "font_size": null,
       "msg": "Failed to load model class 'HTMLStyleModel' from module '@jupyter-widgets/controls'",
       "text_color": null
      }
     },
     "a7db445b3f334c58b045413c9de0396a": {
      "model_module": "@jupyter-widgets/base",
      "model_module_version": "2.0.0",
      "model_name": "LayoutModel",
      "state": {}
     },
     "a7e8d02b6b65465a9d605e123de43d34": {
      "model_module": "@jupyter-widgets/base",
      "model_module_version": "2.0.0",
      "model_name": "LayoutModel",
      "state": {}
     },
     "a8302c9c30154df79051850d09bbbf78": {
      "model_module": "@jupyter-widgets/controls",
      "model_module_version": "2.0.0",
      "model_name": "ProgressStyleModel",
      "state": {
       "_model_module": "@jupyter-widgets/controls",
       "_model_name": "ProgressStyleModel",
       "_view_name": "ErrorWidgetView",
       "bar_color": null,
       "description_width": "",
       "error": {
        "message": "Loading chunk 202 failed.\n(error: http://192.168.3.2:9900/lab/extensions/@jupyter-widgets/jupyterlab-manager/static/202.0336063976910618ce3f.js?v=0336063976910618ce3f)",
        "name": "ChunkLoadError",
        "request": "http://192.168.3.2:9900/lab/extensions/@jupyter-widgets/jupyterlab-manager/static/202.0336063976910618ce3f.js?v=0336063976910618ce3f",
        "type": "error"
       },
       "msg": "Failed to load model class 'ProgressStyleModel' from module '@jupyter-widgets/controls'"
      }
     },
     "a84325b3718348ed91f5cc61952b5cf6": {
      "model_module": "@jupyter-widgets/controls",
      "model_module_version": "2.0.0",
      "model_name": "FloatProgressModel",
      "state": {
       "_model_module": "@jupyter-widgets/controls",
       "_model_name": "FloatProgressModel",
       "_view_name": "ErrorWidgetView",
       "bar_style": "success",
       "description": "",
       "description_allow_html": false,
       "error": {
        "message": "Loading chunk 495 failed.\n(error: http://192.168.3.2:9900/lab/extensions/@jupyter-widgets/jupyterlab-manager/static/495.3e275af54861cdeb3e75.js?v=3e275af54861cdeb3e75)",
        "name": "ChunkLoadError",
        "request": "http://192.168.3.2:9900/lab/extensions/@jupyter-widgets/jupyterlab-manager/static/495.3e275af54861cdeb3e75.js?v=3e275af54861cdeb3e75",
        "type": "error"
       },
       "layout": "IPY_MODEL_7cccaada6cf1491e8ec44974aec88fa8",
       "max": 1,
       "min": 0,
       "msg": "Failed to load model class 'FloatProgressModel' from module '@jupyter-widgets/controls'",
       "orientation": "horizontal",
       "style": "IPY_MODEL_ccef3992f08c4258a0963a1fc0baa7af",
       "value": 0
      }
     },
     "a8538bd6b3a744efbe32fa2b01cf721b": {
      "model_module": "@jupyter-widgets/base",
      "model_module_version": "2.0.0",
      "model_name": "LayoutModel",
      "state": {}
     },
     "a90a2bbbc4fe4028aca441eed2faed89": {
      "model_module": "@jupyter-widgets/controls",
      "model_module_version": "2.0.0",
      "model_name": "HTMLStyleModel",
      "state": {
       "_model_module": "@jupyter-widgets/controls",
       "_model_name": "HTMLStyleModel",
       "_view_name": "ErrorWidgetView",
       "background": null,
       "description_width": "",
       "error": {
        "message": "Loading chunk 202 failed.\n(error: http://192.168.3.2:9900/lab/extensions/@jupyter-widgets/jupyterlab-manager/static/202.0336063976910618ce3f.js?v=0336063976910618ce3f)",
        "name": "ChunkLoadError",
        "request": "http://192.168.3.2:9900/lab/extensions/@jupyter-widgets/jupyterlab-manager/static/202.0336063976910618ce3f.js?v=0336063976910618ce3f",
        "type": "error"
       },
       "font_size": null,
       "msg": "Failed to load model class 'HTMLStyleModel' from module '@jupyter-widgets/controls'",
       "text_color": null
      }
     },
     "a964cc052504438c82de82ae2900b6a3": {
      "model_module": "@jupyter-widgets/controls",
      "model_module_version": "2.0.0",
      "model_name": "HTMLStyleModel",
      "state": {
       "_model_module": "@jupyter-widgets/controls",
       "_model_name": "HTMLStyleModel",
       "_view_name": "ErrorWidgetView",
       "background": null,
       "description_width": "",
       "error": {
        "message": "Loading chunk 202 failed.\n(error: http://192.168.3.2:9900/lab/extensions/@jupyter-widgets/jupyterlab-manager/static/202.0336063976910618ce3f.js?v=0336063976910618ce3f)",
        "name": "ChunkLoadError",
        "request": "http://192.168.3.2:9900/lab/extensions/@jupyter-widgets/jupyterlab-manager/static/202.0336063976910618ce3f.js?v=0336063976910618ce3f",
        "type": "error"
       },
       "font_size": null,
       "msg": "Failed to load model class 'HTMLStyleModel' from module '@jupyter-widgets/controls'",
       "text_color": null
      }
     },
     "a9bf920fa84b40efa5cba2b43b8ef56d": {
      "model_module": "@jupyter-widgets/controls",
      "model_module_version": "2.0.0",
      "model_name": "ProgressStyleModel",
      "state": {
       "_model_module": "@jupyter-widgets/controls",
       "_model_name": "ProgressStyleModel",
       "_view_name": "ErrorWidgetView",
       "bar_color": null,
       "description_width": "",
       "error": {
        "message": "Loading chunk 202 failed.\n(error: http://192.168.3.2:9900/lab/extensions/@jupyter-widgets/jupyterlab-manager/static/202.0336063976910618ce3f.js?v=0336063976910618ce3f)",
        "name": "ChunkLoadError",
        "request": "http://192.168.3.2:9900/lab/extensions/@jupyter-widgets/jupyterlab-manager/static/202.0336063976910618ce3f.js?v=0336063976910618ce3f",
        "type": "error"
       },
       "msg": "Failed to load model class 'ProgressStyleModel' from module '@jupyter-widgets/controls'"
      }
     },
     "a9e24635e4834bfba90af0282f3aee80": {
      "model_module": "@jupyter-widgets/base",
      "model_module_version": "2.0.0",
      "model_name": "LayoutModel",
      "state": {}
     },
     "a9f93df36a7a41c3944bbfd7e479f540": {
      "model_module": "@jupyter-widgets/base",
      "model_module_version": "2.0.0",
      "model_name": "LayoutModel",
      "state": {}
     },
     "aa11a7b588414f6e88b3e037b578dea5": {
      "model_module": "@jupyter-widgets/controls",
      "model_module_version": "2.0.0",
      "model_name": "HTMLModel",
      "state": {
       "_model_module": "@jupyter-widgets/controls",
       "_model_name": "HTMLModel",
       "_view_name": "ErrorWidgetView",
       "description": "",
       "description_allow_html": false,
       "error": {
        "message": "Loading chunk 495 failed.\n(error: http://192.168.3.2:9900/lab/extensions/@jupyter-widgets/jupyterlab-manager/static/495.3e275af54861cdeb3e75.js?v=3e275af54861cdeb3e75)",
        "name": "ChunkLoadError",
        "request": "http://192.168.3.2:9900/lab/extensions/@jupyter-widgets/jupyterlab-manager/static/495.3e275af54861cdeb3e75.js?v=3e275af54861cdeb3e75",
        "type": "error"
       },
       "layout": "IPY_MODEL_29a3462c46704f82a08b7c1b4aeca9d1",
       "msg": "Failed to load model class 'HTMLModel' from module '@jupyter-widgets/controls'",
       "placeholder": "​",
       "style": "IPY_MODEL_d974de9973f84411a644ab04bde0e1a6",
       "value": " 864/? [00:00&lt;00:00, 53.5kB/s]"
      }
     },
     "aa602997848d4b1098607476c84b7c5d": {
      "model_module": "@jupyter-widgets/base",
      "model_module_version": "2.0.0",
      "model_name": "LayoutModel",
      "state": {}
     },
     "ab07afc3637e4df1a46a2441f2c34edb": {
      "model_module": "@jupyter-widgets/controls",
      "model_module_version": "2.0.0",
      "model_name": "HTMLModel",
      "state": {
       "_model_module": "@jupyter-widgets/controls",
       "_model_name": "HTMLModel",
       "_view_name": "ErrorWidgetView",
       "description": "",
       "description_allow_html": false,
       "error": {
        "message": "Loading chunk 495 failed.\n(error: http://192.168.3.2:9900/lab/extensions/@jupyter-widgets/jupyterlab-manager/static/495.3e275af54861cdeb3e75.js?v=3e275af54861cdeb3e75)",
        "name": "ChunkLoadError",
        "request": "http://192.168.3.2:9900/lab/extensions/@jupyter-widgets/jupyterlab-manager/static/495.3e275af54861cdeb3e75.js?v=3e275af54861cdeb3e75",
        "type": "error"
       },
       "layout": "IPY_MODEL_547f699c80ea4503b9637028777decbc",
       "msg": "Failed to load model class 'HTMLModel' from module '@jupyter-widgets/controls'",
       "placeholder": "​",
       "style": "IPY_MODEL_b7ae19ff2e5d4b70b22571e32dda3ccf",
       "value": " 0/0 [00:00&lt;?, ?it/s]"
      }
     },
     "abe0e98f894044d8a084fd888cb1c697": {
      "model_module": "@jupyter-widgets/controls",
      "model_module_version": "2.0.0",
      "model_name": "ProgressStyleModel",
      "state": {
       "_model_module": "@jupyter-widgets/controls",
       "_model_name": "ProgressStyleModel",
       "_view_name": "ErrorWidgetView",
       "bar_color": null,
       "description_width": "",
       "error": {
        "message": "Loading chunk 202 failed.\n(error: http://192.168.3.2:9900/lab/extensions/@jupyter-widgets/jupyterlab-manager/static/202.0336063976910618ce3f.js?v=0336063976910618ce3f)",
        "name": "ChunkLoadError",
        "request": "http://192.168.3.2:9900/lab/extensions/@jupyter-widgets/jupyterlab-manager/static/202.0336063976910618ce3f.js?v=0336063976910618ce3f",
        "type": "error"
       },
       "msg": "Failed to load model class 'ProgressStyleModel' from module '@jupyter-widgets/controls'"
      }
     },
     "abf24cf46663438ba027da83897e7c1a": {
      "model_module": "@jupyter-widgets/controls",
      "model_module_version": "2.0.0",
      "model_name": "HTMLStyleModel",
      "state": {
       "_model_module": "@jupyter-widgets/controls",
       "_model_name": "HTMLStyleModel",
       "_view_name": "ErrorWidgetView",
       "background": null,
       "description_width": "",
       "error": {
        "message": "Loading chunk 202 failed.\n(error: http://192.168.3.2:9900/lab/extensions/@jupyter-widgets/jupyterlab-manager/static/202.0336063976910618ce3f.js?v=0336063976910618ce3f)",
        "name": "ChunkLoadError",
        "request": "http://192.168.3.2:9900/lab/extensions/@jupyter-widgets/jupyterlab-manager/static/202.0336063976910618ce3f.js?v=0336063976910618ce3f",
        "type": "error"
       },
       "font_size": null,
       "msg": "Failed to load model class 'HTMLStyleModel' from module '@jupyter-widgets/controls'",
       "text_color": null
      }
     },
     "ac0d4149df624221be440afb9c07b8e5": {
      "model_module": "@jupyter-widgets/controls",
      "model_module_version": "2.0.0",
      "model_name": "FloatProgressModel",
      "state": {
       "_model_module": "@jupyter-widgets/controls",
       "_model_name": "FloatProgressModel",
       "_view_name": "ErrorWidgetView",
       "bar_style": "success",
       "description": "",
       "description_allow_html": false,
       "error": {
        "message": "Loading chunk 495 failed.\n(error: http://192.168.3.2:9900/lab/extensions/@jupyter-widgets/jupyterlab-manager/static/495.3e275af54861cdeb3e75.js?v=3e275af54861cdeb3e75)",
        "name": "ChunkLoadError",
        "request": "http://192.168.3.2:9900/lab/extensions/@jupyter-widgets/jupyterlab-manager/static/495.3e275af54861cdeb3e75.js?v=3e275af54861cdeb3e75",
        "type": "error"
       },
       "layout": "IPY_MODEL_c917330022d540e3a2e015f8910990ca",
       "max": 481,
       "min": 0,
       "msg": "Failed to load model class 'FloatProgressModel' from module '@jupyter-widgets/controls'",
       "orientation": "horizontal",
       "style": "IPY_MODEL_495e00f6d2ef4edcb5f1674e03abe503",
       "value": 481
      }
     },
     "ac449a106b0b4efdb57a5edf9ade2b03": {
      "model_module": "@jupyter-widgets/base",
      "model_module_version": "2.0.0",
      "model_name": "LayoutModel",
      "state": {}
     },
     "acaf8ae505764cfd9c78360b2ca66306": {
      "model_module": "@jupyter-widgets/base",
      "model_module_version": "2.0.0",
      "model_name": "LayoutModel",
      "state": {}
     },
     "ace473a975e445fcbdb26a16eba46db3": {
      "model_module": "@jupyter-widgets/base",
      "model_module_version": "2.0.0",
      "model_name": "LayoutModel",
      "state": {
       "width": "20px"
      }
     },
     "ad29293c421344a2ba35f954f8909b6e": {
      "model_module": "@jupyter-widgets/base",
      "model_module_version": "2.0.0",
      "model_name": "LayoutModel",
      "state": {}
     },
     "ada4c91a20384a839b0a1399a5c6ab79": {
      "model_module": "@jupyter-widgets/controls",
      "model_module_version": "2.0.0",
      "model_name": "HTMLStyleModel",
      "state": {
       "_model_module": "@jupyter-widgets/controls",
       "_model_name": "HTMLStyleModel",
       "_view_name": "ErrorWidgetView",
       "background": null,
       "description_width": "",
       "error": {
        "message": "Loading chunk 495 failed.\n(error: http://192.168.3.2:9900/lab/extensions/@jupyter-widgets/jupyterlab-manager/static/495.3e275af54861cdeb3e75.js?v=3e275af54861cdeb3e75)",
        "name": "ChunkLoadError",
        "request": "http://192.168.3.2:9900/lab/extensions/@jupyter-widgets/jupyterlab-manager/static/495.3e275af54861cdeb3e75.js?v=3e275af54861cdeb3e75",
        "type": "error"
       },
       "font_size": null,
       "msg": "Failed to load model class 'HTMLStyleModel' from module '@jupyter-widgets/controls'",
       "text_color": null
      }
     },
     "add2290bba5f4423a732ba4fdbc978f7": {
      "model_module": "@jupyter-widgets/controls",
      "model_module_version": "2.0.0",
      "model_name": "HTMLStyleModel",
      "state": {
       "_model_module": "@jupyter-widgets/controls",
       "_model_name": "HTMLStyleModel",
       "_view_name": "ErrorWidgetView",
       "background": null,
       "description_width": "",
       "error": {
        "message": "Loading chunk 202 failed.\n(error: http://192.168.3.2:9900/lab/extensions/@jupyter-widgets/jupyterlab-manager/static/202.0336063976910618ce3f.js?v=0336063976910618ce3f)",
        "name": "ChunkLoadError",
        "request": "http://192.168.3.2:9900/lab/extensions/@jupyter-widgets/jupyterlab-manager/static/202.0336063976910618ce3f.js?v=0336063976910618ce3f",
        "type": "error"
       },
       "font_size": null,
       "msg": "Failed to load model class 'HTMLStyleModel' from module '@jupyter-widgets/controls'",
       "text_color": null
      }
     },
     "ae66920a9fc741aa8d143868caa2ece7": {
      "model_module": "@jupyter-widgets/controls",
      "model_module_version": "2.0.0",
      "model_name": "ProgressStyleModel",
      "state": {
       "_model_module": "@jupyter-widgets/controls",
       "_model_name": "ProgressStyleModel",
       "_view_name": "ErrorWidgetView",
       "bar_color": null,
       "description_width": "",
       "error": {
        "message": "Loading chunk 495 failed.\n(error: http://192.168.3.2:9900/lab/extensions/@jupyter-widgets/jupyterlab-manager/static/495.3e275af54861cdeb3e75.js?v=3e275af54861cdeb3e75)",
        "name": "ChunkLoadError",
        "request": "http://192.168.3.2:9900/lab/extensions/@jupyter-widgets/jupyterlab-manager/static/495.3e275af54861cdeb3e75.js?v=3e275af54861cdeb3e75",
        "type": "error"
       },
       "msg": "Failed to load model class 'ProgressStyleModel' from module '@jupyter-widgets/controls'"
      }
     },
     "aee9bca4ec294b50af1ad4f7a892d3a2": {
      "model_module": "@jupyter-widgets/base",
      "model_module_version": "2.0.0",
      "model_name": "LayoutModel",
      "state": {}
     },
     "aeecc2faf10248228685b83ed45379d2": {
      "model_module": "@jupyter-widgets/base",
      "model_module_version": "2.0.0",
      "model_name": "LayoutModel",
      "state": {}
     },
     "af65a25504b64e1a91ce7e86802e6bb8": {
      "model_module": "@jupyter-widgets/controls",
      "model_module_version": "2.0.0",
      "model_name": "FloatProgressModel",
      "state": {
       "_model_module": "@jupyter-widgets/controls",
       "_model_name": "FloatProgressModel",
       "_view_name": "ErrorWidgetView",
       "bar_style": "success",
       "description": "",
       "description_allow_html": false,
       "error": {
        "message": "Loading chunk 495 failed.\n(error: http://192.168.3.2:9900/lab/extensions/@jupyter-widgets/jupyterlab-manager/static/495.3e275af54861cdeb3e75.js?v=3e275af54861cdeb3e75)",
        "name": "ChunkLoadError",
        "request": "http://192.168.3.2:9900/lab/extensions/@jupyter-widgets/jupyterlab-manager/static/495.3e275af54861cdeb3e75.js?v=3e275af54861cdeb3e75",
        "type": "error"
       },
       "layout": "IPY_MODEL_dd6ca38a8c224da9b0e5b3393e4e4dca",
       "max": 1,
       "min": 0,
       "msg": "Failed to load model class 'FloatProgressModel' from module '@jupyter-widgets/controls'",
       "orientation": "horizontal",
       "style": "IPY_MODEL_3e557f0d7df24d00841388a5d0eee25b",
       "value": 1
      }
     },
     "af9dcc72eb084679851292793dea4406": {
      "model_module": "@jupyter-widgets/base",
      "model_module_version": "2.0.0",
      "model_name": "LayoutModel",
      "state": {}
     },
     "afd106504d8141b6ae05132a350d70b7": {
      "model_module": "@jupyter-widgets/base",
      "model_module_version": "2.0.0",
      "model_name": "LayoutModel",
      "state": {}
     },
     "b0209f3627e14663aca6a842d38f66b8": {
      "model_module": "@jupyter-widgets/controls",
      "model_module_version": "2.0.0",
      "model_name": "ProgressStyleModel",
      "state": {
       "_model_module": "@jupyter-widgets/controls",
       "_model_name": "ProgressStyleModel",
       "_view_name": "ErrorWidgetView",
       "bar_color": null,
       "description_width": "",
       "error": {
        "message": "Loading chunk 202 failed.\n(error: http://192.168.3.2:9900/lab/extensions/@jupyter-widgets/jupyterlab-manager/static/202.0336063976910618ce3f.js?v=0336063976910618ce3f)",
        "name": "ChunkLoadError",
        "request": "http://192.168.3.2:9900/lab/extensions/@jupyter-widgets/jupyterlab-manager/static/202.0336063976910618ce3f.js?v=0336063976910618ce3f",
        "type": "error"
       },
       "msg": "Failed to load model class 'ProgressStyleModel' from module '@jupyter-widgets/controls'"
      }
     },
     "b067d6b74fe94948b6e8ced1d4015f83": {
      "model_module": "@jupyter-widgets/controls",
      "model_module_version": "2.0.0",
      "model_name": "HTMLStyleModel",
      "state": {
       "_model_module": "@jupyter-widgets/controls",
       "_model_name": "HTMLStyleModel",
       "_view_name": "ErrorWidgetView",
       "background": null,
       "description_width": "",
       "error": {
        "message": "Loading chunk 202 failed.\n(error: http://192.168.3.2:9900/lab/extensions/@jupyter-widgets/jupyterlab-manager/static/202.0336063976910618ce3f.js?v=0336063976910618ce3f)",
        "name": "ChunkLoadError",
        "request": "http://192.168.3.2:9900/lab/extensions/@jupyter-widgets/jupyterlab-manager/static/202.0336063976910618ce3f.js?v=0336063976910618ce3f",
        "type": "error"
       },
       "font_size": null,
       "msg": "Failed to load model class 'HTMLStyleModel' from module '@jupyter-widgets/controls'",
       "text_color": null
      }
     },
     "b096facd321a4fc4ad3b248320c49437": {
      "model_module": "@jupyter-widgets/controls",
      "model_module_version": "2.0.0",
      "model_name": "HTMLModel",
      "state": {
       "_model_module": "@jupyter-widgets/controls",
       "_model_name": "HTMLModel",
       "_view_name": "ErrorWidgetView",
       "description": "",
       "description_allow_html": false,
       "error": {
        "message": "Loading chunk 495 failed.\n(error: http://192.168.3.2:9900/lab/extensions/@jupyter-widgets/jupyterlab-manager/static/495.3e275af54861cdeb3e75.js?v=3e275af54861cdeb3e75)",
        "name": "ChunkLoadError",
        "request": "http://192.168.3.2:9900/lab/extensions/@jupyter-widgets/jupyterlab-manager/static/495.3e275af54861cdeb3e75.js?v=3e275af54861cdeb3e75",
        "type": "error"
       },
       "layout": "IPY_MODEL_967c086e75844cc2bc5ee864ec7573a7",
       "msg": "Failed to load model class 'HTMLModel' from module '@jupyter-widgets/controls'",
       "placeholder": "​",
       "style": "IPY_MODEL_06f702cd74c543cb83f6891923637b45",
       "value": "vocab.json: "
      }
     },
     "b0e3a6ee9d474b60b1b9231e4c190356": {
      "model_module": "@jupyter-widgets/controls",
      "model_module_version": "2.0.0",
      "model_name": "HBoxModel",
      "state": {
       "_model_module": "@jupyter-widgets/controls",
       "_model_name": "HBoxModel",
       "_view_name": "ErrorWidgetView",
       "box_style": "",
       "children": [
        "IPY_MODEL_2b5f09746ccc46ff8d383900122bdd2b",
        "IPY_MODEL_c818bde0b5cc483da96e24a6c8a759a0",
        "IPY_MODEL_96e7c7aac43a401a80871de57f6a6e73"
       ],
       "error": {
        "message": "Loading chunk 495 failed.\n(error: http://192.168.3.2:9900/lab/extensions/@jupyter-widgets/jupyterlab-manager/static/495.3e275af54861cdeb3e75.js?v=3e275af54861cdeb3e75)",
        "name": "ChunkLoadError",
        "request": "http://192.168.3.2:9900/lab/extensions/@jupyter-widgets/jupyterlab-manager/static/495.3e275af54861cdeb3e75.js?v=3e275af54861cdeb3e75",
        "type": "error"
       },
       "layout": "IPY_MODEL_01be8dd60081472bbb85603657206ec4",
       "msg": "Failed to load model class 'HBoxModel' from module '@jupyter-widgets/controls'"
      }
     },
     "b1f8a862d35348419b5885e05ea03178": {
      "model_module": "@jupyter-widgets/base",
      "model_module_version": "2.0.0",
      "model_name": "LayoutModel",
      "state": {}
     },
     "b22d292c8a494bd0b90b88a6b65d3783": {
      "model_module": "@jupyter-widgets/base",
      "model_module_version": "2.0.0",
      "model_name": "LayoutModel",
      "state": {}
     },
     "b29ac04e5a1d4ce7b5a018023312dd4f": {
      "model_module": "@jupyter-widgets/base",
      "model_module_version": "2.0.0",
      "model_name": "LayoutModel",
      "state": {}
     },
     "b2f471c2a2aa495991f64bb2a109b2ea": {
      "model_module": "@jupyter-widgets/base",
      "model_module_version": "2.0.0",
      "model_name": "LayoutModel",
      "state": {}
     },
     "b38ad36148cd442695db384de5c96444": {
      "model_module": "@jupyter-widgets/controls",
      "model_module_version": "2.0.0",
      "model_name": "FloatProgressModel",
      "state": {
       "_model_module": "@jupyter-widgets/controls",
       "_model_name": "FloatProgressModel",
       "_view_name": "ErrorWidgetView",
       "bar_style": "success",
       "description": "",
       "description_allow_html": false,
       "error": {
        "message": "Loading chunk 495 failed.\n(error: http://192.168.3.2:9900/lab/extensions/@jupyter-widgets/jupyterlab-manager/static/495.3e275af54861cdeb3e75.js?v=3e275af54861cdeb3e75)",
        "name": "ChunkLoadError",
        "request": "http://192.168.3.2:9900/lab/extensions/@jupyter-widgets/jupyterlab-manager/static/495.3e275af54861cdeb3e75.js?v=3e275af54861cdeb3e75",
        "type": "error"
       },
       "layout": "IPY_MODEL_cbfcf2cfd98c4045be9db4a75be26fce",
       "max": 1,
       "min": 0,
       "msg": "Failed to load model class 'FloatProgressModel' from module '@jupyter-widgets/controls'",
       "orientation": "horizontal",
       "style": "IPY_MODEL_94e116384998419f959a2e70dd04d4a3",
       "value": 1
      }
     },
     "b3fbcbdbfc67444d838afea5c3eb021b": {
      "model_module": "@jupyter-widgets/controls",
      "model_module_version": "2.0.0",
      "model_name": "HTMLStyleModel",
      "state": {
       "_model_module": "@jupyter-widgets/controls",
       "_model_name": "HTMLStyleModel",
       "_view_name": "ErrorWidgetView",
       "background": null,
       "description_width": "",
       "error": {
        "message": "Loading chunk 202 failed.\n(error: http://192.168.3.2:9900/lab/extensions/@jupyter-widgets/jupyterlab-manager/static/202.0336063976910618ce3f.js?v=0336063976910618ce3f)",
        "name": "ChunkLoadError",
        "request": "http://192.168.3.2:9900/lab/extensions/@jupyter-widgets/jupyterlab-manager/static/202.0336063976910618ce3f.js?v=0336063976910618ce3f",
        "type": "error"
       },
       "font_size": null,
       "msg": "Failed to load model class 'HTMLStyleModel' from module '@jupyter-widgets/controls'",
       "text_color": null
      }
     },
     "b490f07fac2d437bb5dbc351e3530199": {
      "model_module": "@jupyter-widgets/controls",
      "model_module_version": "2.0.0",
      "model_name": "HTMLStyleModel",
      "state": {
       "_model_module": "@jupyter-widgets/controls",
       "_model_name": "HTMLStyleModel",
       "_view_name": "ErrorWidgetView",
       "background": null,
       "description_width": "",
       "error": {
        "message": "Loading chunk 495 failed.\n(error: http://192.168.3.2:9900/lab/extensions/@jupyter-widgets/jupyterlab-manager/static/495.3e275af54861cdeb3e75.js?v=3e275af54861cdeb3e75)",
        "name": "ChunkLoadError",
        "request": "http://192.168.3.2:9900/lab/extensions/@jupyter-widgets/jupyterlab-manager/static/495.3e275af54861cdeb3e75.js?v=3e275af54861cdeb3e75",
        "type": "error"
       },
       "font_size": null,
       "msg": "Failed to load model class 'HTMLStyleModel' from module '@jupyter-widgets/controls'",
       "text_color": null
      }
     },
     "b5485d73f0904c2d8d88fb5205bf0e16": {
      "model_module": "@jupyter-widgets/controls",
      "model_module_version": "2.0.0",
      "model_name": "HBoxModel",
      "state": {
       "_model_module": "@jupyter-widgets/controls",
       "_model_name": "HBoxModel",
       "_view_name": "ErrorWidgetView",
       "box_style": "",
       "children": [
        "IPY_MODEL_ed5a6e7045344cc985aa59bafb9346a1",
        "IPY_MODEL_d887aa6a230842599835778cf521e0ae",
        "IPY_MODEL_99b6b0ce887d44f6b0224d88e4bc755a"
       ],
       "error": {
        "message": "Loading chunk 495 failed.\n(error: http://192.168.3.2:9900/lab/extensions/@jupyter-widgets/jupyterlab-manager/static/495.3e275af54861cdeb3e75.js?v=3e275af54861cdeb3e75)",
        "name": "ChunkLoadError",
        "request": "http://192.168.3.2:9900/lab/extensions/@jupyter-widgets/jupyterlab-manager/static/495.3e275af54861cdeb3e75.js?v=3e275af54861cdeb3e75",
        "type": "error"
       },
       "layout": "IPY_MODEL_e5f46e8c32664ea992c4d217c347cea3",
       "msg": "Failed to load model class 'HBoxModel' from module '@jupyter-widgets/controls'"
      }
     },
     "b5a5f2cef0024803b25a536103eeb4d9": {
      "model_module": "@jupyter-widgets/controls",
      "model_module_version": "2.0.0",
      "model_name": "HTMLStyleModel",
      "state": {
       "_model_module": "@jupyter-widgets/controls",
       "_model_name": "HTMLStyleModel",
       "_view_name": "ErrorWidgetView",
       "background": null,
       "description_width": "",
       "error": {
        "message": "Loading chunk 495 failed.\n(error: http://192.168.3.2:9900/lab/extensions/@jupyter-widgets/jupyterlab-manager/static/495.3e275af54861cdeb3e75.js?v=3e275af54861cdeb3e75)",
        "name": "ChunkLoadError",
        "request": "http://192.168.3.2:9900/lab/extensions/@jupyter-widgets/jupyterlab-manager/static/495.3e275af54861cdeb3e75.js?v=3e275af54861cdeb3e75",
        "type": "error"
       },
       "font_size": null,
       "msg": "Failed to load model class 'HTMLStyleModel' from module '@jupyter-widgets/controls'",
       "text_color": null
      }
     },
     "b5c749f00269434c8705c8a2200f2fe2": {
      "model_module": "@jupyter-widgets/controls",
      "model_module_version": "2.0.0",
      "model_name": "HTMLStyleModel",
      "state": {
       "_model_module": "@jupyter-widgets/controls",
       "_model_name": "HTMLStyleModel",
       "_view_name": "ErrorWidgetView",
       "background": null,
       "description_width": "",
       "error": {
        "message": "Loading chunk 495 failed.\n(error: http://192.168.3.2:9900/lab/extensions/@jupyter-widgets/jupyterlab-manager/static/495.3e275af54861cdeb3e75.js?v=3e275af54861cdeb3e75)",
        "name": "ChunkLoadError",
        "request": "http://192.168.3.2:9900/lab/extensions/@jupyter-widgets/jupyterlab-manager/static/495.3e275af54861cdeb3e75.js?v=3e275af54861cdeb3e75",
        "type": "error"
       },
       "font_size": null,
       "msg": "Failed to load model class 'HTMLStyleModel' from module '@jupyter-widgets/controls'",
       "text_color": null
      }
     },
     "b6111c464d474a9c91be5bdd5fe7048a": {
      "model_module": "@jupyter-widgets/controls",
      "model_module_version": "2.0.0",
      "model_name": "HTMLStyleModel",
      "state": {
       "_model_module": "@jupyter-widgets/controls",
       "_model_name": "HTMLStyleModel",
       "_view_name": "ErrorWidgetView",
       "background": null,
       "description_width": "",
       "error": {
        "message": "Loading chunk 202 failed.\n(error: http://192.168.3.2:9900/lab/extensions/@jupyter-widgets/jupyterlab-manager/static/202.0336063976910618ce3f.js?v=0336063976910618ce3f)",
        "name": "ChunkLoadError",
        "request": "http://192.168.3.2:9900/lab/extensions/@jupyter-widgets/jupyterlab-manager/static/202.0336063976910618ce3f.js?v=0336063976910618ce3f",
        "type": "error"
       },
       "font_size": null,
       "msg": "Failed to load model class 'HTMLStyleModel' from module '@jupyter-widgets/controls'",
       "text_color": null
      }
     },
     "b64be8ef60844968bcf59d41ce13676e": {
      "model_module": "@jupyter-widgets/base",
      "model_module_version": "2.0.0",
      "model_name": "LayoutModel",
      "state": {}
     },
     "b69ebf95000d461badccf7e113c86768": {
      "model_module": "@jupyter-widgets/controls",
      "model_module_version": "2.0.0",
      "model_name": "HTMLModel",
      "state": {
       "_model_module": "@jupyter-widgets/controls",
       "_model_name": "HTMLModel",
       "_view_name": "ErrorWidgetView",
       "description": "",
       "description_allow_html": false,
       "error": {
        "message": "Loading chunk 495 failed.\n(error: http://192.168.3.2:9900/lab/extensions/@jupyter-widgets/jupyterlab-manager/static/495.3e275af54861cdeb3e75.js?v=3e275af54861cdeb3e75)",
        "name": "ChunkLoadError",
        "request": "http://192.168.3.2:9900/lab/extensions/@jupyter-widgets/jupyterlab-manager/static/495.3e275af54861cdeb3e75.js?v=3e275af54861cdeb3e75",
        "type": "error"
       },
       "layout": "IPY_MODEL_4a7c222ff95141469aee83a488ebceb6",
       "msg": "Failed to load model class 'HTMLModel' from module '@jupyter-widgets/controls'",
       "placeholder": "​",
       "style": "IPY_MODEL_bef12226f39e428bb3b3f338485bebac",
       "value": " 1.21k/? [00:00&lt;00:00, 76.2kB/s]"
      }
     },
     "b6a3e168dc784ca4811a15a291a2402f": {
      "model_module": "@jupyter-widgets/controls",
      "model_module_version": "2.0.0",
      "model_name": "FloatProgressModel",
      "state": {
       "_model_module": "@jupyter-widgets/controls",
       "_model_name": "FloatProgressModel",
       "_view_name": "ErrorWidgetView",
       "bar_style": "success",
       "description": "",
       "description_allow_html": false,
       "error": {
        "message": "Loading chunk 495 failed.\n(error: http://192.168.3.2:9900/lab/extensions/@jupyter-widgets/jupyterlab-manager/static/495.3e275af54861cdeb3e75.js?v=3e275af54861cdeb3e75)",
        "name": "ChunkLoadError",
        "request": "http://192.168.3.2:9900/lab/extensions/@jupyter-widgets/jupyterlab-manager/static/495.3e275af54861cdeb3e75.js?v=3e275af54861cdeb3e75",
        "type": "error"
       },
       "layout": "IPY_MODEL_f6d154ba4277490dbb2f5c6a66107063",
       "max": 11406460256,
       "min": 0,
       "msg": "Failed to load model class 'FloatProgressModel' from module '@jupyter-widgets/controls'",
       "orientation": "horizontal",
       "style": "IPY_MODEL_bd8f39baa62e4020ae16d26ce05bfcfd",
       "value": 11406460256
      }
     },
     "b74afc012db241738b16d88b29fdfc74": {
      "model_module": "@jupyter-widgets/controls",
      "model_module_version": "2.0.0",
      "model_name": "HTMLModel",
      "state": {
       "_model_module": "@jupyter-widgets/controls",
       "_model_name": "HTMLModel",
       "_view_name": "ErrorWidgetView",
       "description": "",
       "description_allow_html": false,
       "error": {
        "message": "Loading chunk 495 failed.\n(error: http://192.168.3.2:9900/lab/extensions/@jupyter-widgets/jupyterlab-manager/static/495.3e275af54861cdeb3e75.js?v=3e275af54861cdeb3e75)",
        "name": "ChunkLoadError",
        "request": "http://192.168.3.2:9900/lab/extensions/@jupyter-widgets/jupyterlab-manager/static/495.3e275af54861cdeb3e75.js?v=3e275af54861cdeb3e75",
        "type": "error"
       },
       "layout": "IPY_MODEL_5e6c4379096d43fe944222fc3f5da050",
       "msg": "Failed to load model class 'HTMLModel' from module '@jupyter-widgets/controls'",
       "placeholder": "​",
       "style": "IPY_MODEL_765825a3ff2140668673266de0d18ef8",
       "value": " 110k/? [00:00&lt;00:00, 566kB/s]"
      }
     },
     "b74bc030dfbf4f3793ae970822f7c478": {
      "model_module": "@jupyter-widgets/base",
      "model_module_version": "2.0.0",
      "model_name": "LayoutModel",
      "state": {
       "width": "20px"
      }
     },
     "b7ae19ff2e5d4b70b22571e32dda3ccf": {
      "model_module": "@jupyter-widgets/controls",
      "model_module_version": "2.0.0",
      "model_name": "HTMLStyleModel",
      "state": {
       "_model_module": "@jupyter-widgets/controls",
       "_model_name": "HTMLStyleModel",
       "_view_name": "ErrorWidgetView",
       "background": null,
       "description_width": "",
       "error": {
        "message": "Loading chunk 202 failed.\n(error: http://192.168.3.2:9900/lab/extensions/@jupyter-widgets/jupyterlab-manager/static/202.0336063976910618ce3f.js?v=0336063976910618ce3f)",
        "name": "ChunkLoadError",
        "request": "http://192.168.3.2:9900/lab/extensions/@jupyter-widgets/jupyterlab-manager/static/202.0336063976910618ce3f.js?v=0336063976910618ce3f",
        "type": "error"
       },
       "font_size": null,
       "msg": "Failed to load model class 'HTMLStyleModel' from module '@jupyter-widgets/controls'",
       "text_color": null
      }
     },
     "b7e2602c66814fc49238ecf927d99d3f": {
      "model_module": "@jupyter-widgets/controls",
      "model_module_version": "2.0.0",
      "model_name": "HTMLStyleModel",
      "state": {
       "_model_module": "@jupyter-widgets/controls",
       "_model_name": "HTMLStyleModel",
       "_view_name": "ErrorWidgetView",
       "background": null,
       "description_width": "",
       "error": {
        "message": "Loading chunk 495 failed.\n(error: http://192.168.3.2:9900/lab/extensions/@jupyter-widgets/jupyterlab-manager/static/495.3e275af54861cdeb3e75.js?v=3e275af54861cdeb3e75)",
        "name": "ChunkLoadError",
        "request": "http://192.168.3.2:9900/lab/extensions/@jupyter-widgets/jupyterlab-manager/static/495.3e275af54861cdeb3e75.js?v=3e275af54861cdeb3e75",
        "type": "error"
       },
       "font_size": null,
       "msg": "Failed to load model class 'HTMLStyleModel' from module '@jupyter-widgets/controls'",
       "text_color": null
      }
     },
     "b7fd6ee456e44da6a8a32f8e2d9188e5": {
      "model_module": "@jupyter-widgets/controls",
      "model_module_version": "2.0.0",
      "model_name": "HBoxModel",
      "state": {
       "_model_module": "@jupyter-widgets/controls",
       "_model_name": "HBoxModel",
       "_view_name": "ErrorWidgetView",
       "box_style": "",
       "children": [
        "IPY_MODEL_32e966e732e249738e9733cf9c856c9a",
        "IPY_MODEL_4d95b9d69c264ba68e16a5d24159bf34",
        "IPY_MODEL_ecdb9820129648cd81446283f8a44c8d"
       ],
       "error": {
        "message": "Loading chunk 202 failed.\n(error: http://192.168.3.2:9900/lab/extensions/@jupyter-widgets/jupyterlab-manager/static/202.0336063976910618ce3f.js?v=0336063976910618ce3f)",
        "name": "ChunkLoadError",
        "request": "http://192.168.3.2:9900/lab/extensions/@jupyter-widgets/jupyterlab-manager/static/202.0336063976910618ce3f.js?v=0336063976910618ce3f",
        "type": "error"
       },
       "layout": "IPY_MODEL_7878e78cf6c649b394204eca3b23ff25",
       "msg": "Failed to load model class 'HBoxModel' from module '@jupyter-widgets/controls'"
      }
     },
     "b865a343d44b47758df0d19b9e34abfd": {
      "model_module": "@jupyter-widgets/base",
      "model_module_version": "2.0.0",
      "model_name": "LayoutModel",
      "state": {}
     },
     "b86d9e2852d049f38de0face1ab2ef90": {
      "model_module": "@jupyter-widgets/controls",
      "model_module_version": "2.0.0",
      "model_name": "ProgressStyleModel",
      "state": {
       "_model_module": "@jupyter-widgets/controls",
       "_model_name": "ProgressStyleModel",
       "_view_name": "ErrorWidgetView",
       "bar_color": null,
       "description_width": "",
       "error": {
        "message": "Loading chunk 495 failed.\n(error: http://192.168.3.2:9900/lab/extensions/@jupyter-widgets/jupyterlab-manager/static/495.3e275af54861cdeb3e75.js?v=3e275af54861cdeb3e75)",
        "name": "ChunkLoadError",
        "request": "http://192.168.3.2:9900/lab/extensions/@jupyter-widgets/jupyterlab-manager/static/495.3e275af54861cdeb3e75.js?v=3e275af54861cdeb3e75",
        "type": "error"
       },
       "msg": "Failed to load model class 'ProgressStyleModel' from module '@jupyter-widgets/controls'"
      }
     },
     "b86ff75d876648f198bdf6271e82c261": {
      "model_module": "@jupyter-widgets/controls",
      "model_module_version": "2.0.0",
      "model_name": "FloatProgressModel",
      "state": {
       "_model_module": "@jupyter-widgets/controls",
       "_model_name": "FloatProgressModel",
       "_view_name": "ErrorWidgetView",
       "bar_style": "success",
       "description": "",
       "description_allow_html": false,
       "error": {
        "message": "Loading chunk 495 failed.\n(error: http://192.168.3.2:9900/lab/extensions/@jupyter-widgets/jupyterlab-manager/static/495.3e275af54861cdeb3e75.js?v=3e275af54861cdeb3e75)",
        "name": "ChunkLoadError",
        "request": "http://192.168.3.2:9900/lab/extensions/@jupyter-widgets/jupyterlab-manager/static/495.3e275af54861cdeb3e75.js?v=3e275af54861cdeb3e75",
        "type": "error"
       },
       "layout": "IPY_MODEL_afd106504d8141b6ae05132a350d70b7",
       "max": 481,
       "min": 0,
       "msg": "Failed to load model class 'FloatProgressModel' from module '@jupyter-widgets/controls'",
       "orientation": "horizontal",
       "style": "IPY_MODEL_5ef606f91c824f48a605b483ac5dbafd",
       "value": 481
      }
     },
     "b8954b590127457a98bfbf1b9d0ea398": {
      "model_module": "@jupyter-widgets/base",
      "model_module_version": "2.0.0",
      "model_name": "LayoutModel",
      "state": {}
     },
     "b934d80b2ab14106b744a16bbb2b82bf": {
      "model_module": "@jupyter-widgets/base",
      "model_module_version": "2.0.0",
      "model_name": "LayoutModel",
      "state": {}
     },
     "b935324239da4336a9870521b74de8b0": {
      "model_module": "@jupyter-widgets/base",
      "model_module_version": "2.0.0",
      "model_name": "LayoutModel",
      "state": {}
     },
     "b98211c2f146488896ba31109b61d4aa": {
      "model_module": "@jupyter-widgets/controls",
      "model_module_version": "2.0.0",
      "model_name": "HTMLModel",
      "state": {
       "_model_module": "@jupyter-widgets/controls",
       "_model_name": "HTMLModel",
       "_view_name": "ErrorWidgetView",
       "description": "",
       "description_allow_html": false,
       "error": {
        "message": "Loading chunk 202 failed.\n(error: http://192.168.3.2:9900/lab/extensions/@jupyter-widgets/jupyterlab-manager/static/202.0336063976910618ce3f.js?v=0336063976910618ce3f)",
        "name": "ChunkLoadError",
        "request": "http://192.168.3.2:9900/lab/extensions/@jupyter-widgets/jupyterlab-manager/static/202.0336063976910618ce3f.js?v=0336063976910618ce3f",
        "type": "error"
       },
       "layout": "IPY_MODEL_d32ef25c30d74dd994407cb9e8266ad5",
       "msg": "Failed to load model class 'HTMLModel' from module '@jupyter-widgets/controls'",
       "placeholder": "​",
       "style": "IPY_MODEL_3174789dd1ca4d91a24b144c2bda9bf6",
       "value": "model.safetensors: 100%"
      }
     },
     "b983c21ae1444a3f806980858509dc67": {
      "model_module": "@jupyter-widgets/controls",
      "model_module_version": "2.0.0",
      "model_name": "HTMLModel",
      "state": {
       "_model_module": "@jupyter-widgets/controls",
       "_model_name": "HTMLModel",
       "_view_name": "ErrorWidgetView",
       "description": "",
       "description_allow_html": false,
       "error": {
        "message": "Loading chunk 495 failed.\n(error: http://192.168.3.2:9900/lab/extensions/@jupyter-widgets/jupyterlab-manager/static/495.3e275af54861cdeb3e75.js?v=3e275af54861cdeb3e75)",
        "name": "ChunkLoadError",
        "request": "http://192.168.3.2:9900/lab/extensions/@jupyter-widgets/jupyterlab-manager/static/495.3e275af54861cdeb3e75.js?v=3e275af54861cdeb3e75",
        "type": "error"
       },
       "layout": "IPY_MODEL_3b35ce88e6c34ca1ac5c44767ab1f3c8",
       "msg": "Failed to load model class 'HTMLModel' from module '@jupyter-widgets/controls'",
       "placeholder": "​",
       "style": "IPY_MODEL_0f059139e7054f518d0a8ef7de797c2b",
       "value": "special_tokens_map.json: "
      }
     },
     "b9e5b83b051647ae953cbef51ea30de5": {
      "model_module": "@jupyter-widgets/controls",
      "model_module_version": "2.0.0",
      "model_name": "HBoxModel",
      "state": {
       "_model_module": "@jupyter-widgets/controls",
       "_model_name": "HBoxModel",
       "_view_name": "ErrorWidgetView",
       "box_style": "",
       "children": [
        "IPY_MODEL_e4124ca834cc48e0a6512b39981863cf",
        "IPY_MODEL_d9e8c5b00f9c4dd7aea6fe1936138fea",
        "IPY_MODEL_1cd89a3909af48fe8ddb7e0454c0215d"
       ],
       "error": {
        "message": "Loading chunk 202 failed.\n(error: http://192.168.3.2:9900/lab/extensions/@jupyter-widgets/jupyterlab-manager/static/202.0336063976910618ce3f.js?v=0336063976910618ce3f)",
        "name": "ChunkLoadError",
        "request": "http://192.168.3.2:9900/lab/extensions/@jupyter-widgets/jupyterlab-manager/static/202.0336063976910618ce3f.js?v=0336063976910618ce3f",
        "type": "error"
       },
       "layout": "IPY_MODEL_c94cfb255cbc435ab807db525afe3bdb",
       "msg": "Failed to load model class 'HBoxModel' from module '@jupyter-widgets/controls'"
      }
     },
     "ba6dd4ef3e6e4177a61413a04c6d54b6": {
      "model_module": "@jupyter-widgets/controls",
      "model_module_version": "2.0.0",
      "model_name": "HBoxModel",
      "state": {
       "_model_module": "@jupyter-widgets/controls",
       "_model_name": "HBoxModel",
       "_view_name": "ErrorWidgetView",
       "box_style": "",
       "children": [
        "IPY_MODEL_10434f4695c24a6eb364ed21f21d9dfb",
        "IPY_MODEL_6a2005cd3c2245c5a2e2f0b99360a280",
        "IPY_MODEL_c0071f5e5224408bb556bf6d1626fd82"
       ],
       "error": {
        "message": "Loading chunk 495 failed.\n(error: http://192.168.3.2:9900/lab/extensions/@jupyter-widgets/jupyterlab-manager/static/495.3e275af54861cdeb3e75.js?v=3e275af54861cdeb3e75)",
        "name": "ChunkLoadError",
        "request": "http://192.168.3.2:9900/lab/extensions/@jupyter-widgets/jupyterlab-manager/static/495.3e275af54861cdeb3e75.js?v=3e275af54861cdeb3e75",
        "type": "error"
       },
       "layout": "IPY_MODEL_d23cd9c69c5847fe8673c0f5fdb94814",
       "msg": "Failed to load model class 'HBoxModel' from module '@jupyter-widgets/controls'"
      }
     },
     "bac97d05a4eb41a4b85ca705934411cb": {
      "model_module": "@jupyter-widgets/base",
      "model_module_version": "2.0.0",
      "model_name": "LayoutModel",
      "state": {}
     },
     "baeb8af5597a43708e6e16803090aca9": {
      "model_module": "@jupyter-widgets/controls",
      "model_module_version": "2.0.0",
      "model_name": "HTMLModel",
      "state": {
       "_model_module": "@jupyter-widgets/controls",
       "_model_name": "HTMLModel",
       "_view_name": "ErrorWidgetView",
       "description": "",
       "description_allow_html": false,
       "error": {
        "message": "Loading chunk 495 failed.\n(error: http://192.168.3.2:9900/lab/extensions/@jupyter-widgets/jupyterlab-manager/static/495.3e275af54861cdeb3e75.js?v=3e275af54861cdeb3e75)",
        "name": "ChunkLoadError",
        "request": "http://192.168.3.2:9900/lab/extensions/@jupyter-widgets/jupyterlab-manager/static/495.3e275af54861cdeb3e75.js?v=3e275af54861cdeb3e75",
        "type": "error"
       },
       "layout": "IPY_MODEL_85652351ea154cf6ad0b16893823e828",
       "msg": "Failed to load model class 'HTMLModel' from module '@jupyter-widgets/controls'",
       "placeholder": "​",
       "style": "IPY_MODEL_e3e59d1ff375456cafdbc271a0a6d5e5",
       "value": " 1.42G/1.42G [00:31&lt;00:00, 50.4MB/s]"
      }
     },
     "bafb5e0d370a44f18c8faba458a40324": {
      "model_module": "@jupyter-widgets/base",
      "model_module_version": "2.0.0",
      "model_name": "LayoutModel",
      "state": {}
     },
     "bb12302bd71541be8d44fa09c5e34965": {
      "model_module": "@jupyter-widgets/controls",
      "model_module_version": "2.0.0",
      "model_name": "HTMLModel",
      "state": {
       "_model_module": "@jupyter-widgets/controls",
       "_model_name": "HTMLModel",
       "_view_name": "ErrorWidgetView",
       "description": "",
       "description_allow_html": false,
       "error": {
        "message": "Loading chunk 202 failed.\n(error: http://192.168.3.2:9900/lab/extensions/@jupyter-widgets/jupyterlab-manager/static/202.0336063976910618ce3f.js?v=0336063976910618ce3f)",
        "name": "ChunkLoadError",
        "request": "http://192.168.3.2:9900/lab/extensions/@jupyter-widgets/jupyterlab-manager/static/202.0336063976910618ce3f.js?v=0336063976910618ce3f",
        "type": "error"
       },
       "layout": "IPY_MODEL_73b6e7b15dac4cfc88b117ccd04e2805",
       "msg": "Failed to load model class 'HTMLModel' from module '@jupyter-widgets/controls'",
       "placeholder": "​",
       "style": "IPY_MODEL_bfffb04a756446b5b7cbce7264214fd0",
       "value": "tokenizer_config.json: 100%"
      }
     },
     "bb1eae8aa7b14eb289d209f7ae69b2bf": {
      "model_module": "@jupyter-widgets/controls",
      "model_module_version": "2.0.0",
      "model_name": "HTMLStyleModel",
      "state": {
       "_model_module": "@jupyter-widgets/controls",
       "_model_name": "HTMLStyleModel",
       "_view_name": "ErrorWidgetView",
       "background": null,
       "description_width": "",
       "error": {
        "message": "Loading chunk 495 failed.\n(error: http://192.168.3.2:9900/lab/extensions/@jupyter-widgets/jupyterlab-manager/static/495.3e275af54861cdeb3e75.js?v=3e275af54861cdeb3e75)",
        "name": "ChunkLoadError",
        "request": "http://192.168.3.2:9900/lab/extensions/@jupyter-widgets/jupyterlab-manager/static/495.3e275af54861cdeb3e75.js?v=3e275af54861cdeb3e75",
        "type": "error"
       },
       "font_size": null,
       "msg": "Failed to load model class 'HTMLStyleModel' from module '@jupyter-widgets/controls'",
       "text_color": null
      }
     },
     "bb32c6bd1f34491ea2220678325a9f35": {
      "model_module": "@jupyter-widgets/controls",
      "model_module_version": "2.0.0",
      "model_name": "HTMLModel",
      "state": {
       "_model_module": "@jupyter-widgets/controls",
       "_model_name": "HTMLModel",
       "_view_name": "ErrorWidgetView",
       "description": "",
       "description_allow_html": false,
       "error": {
        "message": "Loading chunk 495 failed.\n(error: http://192.168.3.2:9900/lab/extensions/@jupyter-widgets/jupyterlab-manager/static/495.3e275af54861cdeb3e75.js?v=3e275af54861cdeb3e75)",
        "name": "ChunkLoadError",
        "request": "http://192.168.3.2:9900/lab/extensions/@jupyter-widgets/jupyterlab-manager/static/495.3e275af54861cdeb3e75.js?v=3e275af54861cdeb3e75",
        "type": "error"
       },
       "layout": "IPY_MODEL_66421949fcb244dab137b6b48a7fd026",
       "msg": "Failed to load model class 'HTMLModel' from module '@jupyter-widgets/controls'",
       "placeholder": "​",
       "style": "IPY_MODEL_8d448755f19042cd8f314098523b7aad",
       "value": "tokenizer_config.json: 100%"
      }
     },
     "bbb769beac4248a49a2fe643e8c8ce2c": {
      "model_module": "@jupyter-widgets/base",
      "model_module_version": "2.0.0",
      "model_name": "LayoutModel",
      "state": {}
     },
     "bbf058b7936a4ca29825f3604058d3c9": {
      "model_module": "@jupyter-widgets/controls",
      "model_module_version": "2.0.0",
      "model_name": "HTMLStyleModel",
      "state": {
       "_model_module": "@jupyter-widgets/controls",
       "_model_name": "HTMLStyleModel",
       "_view_name": "ErrorWidgetView",
       "background": null,
       "description_width": "",
       "error": {
        "message": "Loading chunk 495 failed.\n(error: http://192.168.3.2:9900/lab/extensions/@jupyter-widgets/jupyterlab-manager/static/495.3e275af54861cdeb3e75.js?v=3e275af54861cdeb3e75)",
        "name": "ChunkLoadError",
        "request": "http://192.168.3.2:9900/lab/extensions/@jupyter-widgets/jupyterlab-manager/static/495.3e275af54861cdeb3e75.js?v=3e275af54861cdeb3e75",
        "type": "error"
       },
       "font_size": null,
       "msg": "Failed to load model class 'HTMLStyleModel' from module '@jupyter-widgets/controls'",
       "text_color": null
      }
     },
     "bbfaed6dc2c4458c8746007ccc3298ac": {
      "model_module": "@jupyter-widgets/controls",
      "model_module_version": "2.0.0",
      "model_name": "HTMLModel",
      "state": {
       "_model_module": "@jupyter-widgets/controls",
       "_model_name": "HTMLModel",
       "_view_name": "ErrorWidgetView",
       "description": "",
       "description_allow_html": false,
       "error": {
        "message": "Loading chunk 495 failed.\n(error: http://192.168.3.2:9900/lab/extensions/@jupyter-widgets/jupyterlab-manager/static/495.3e275af54861cdeb3e75.js?v=3e275af54861cdeb3e75)",
        "name": "ChunkLoadError",
        "request": "http://192.168.3.2:9900/lab/extensions/@jupyter-widgets/jupyterlab-manager/static/495.3e275af54861cdeb3e75.js?v=3e275af54861cdeb3e75",
        "type": "error"
       },
       "layout": "IPY_MODEL_ccc19f1adc714fb2b3b013bacde6d54b",
       "msg": "Failed to load model class 'HTMLModel' from module '@jupyter-widgets/controls'",
       "placeholder": "​",
       "style": "IPY_MODEL_c7f3630f3c9f4d428e72adcf93c0d0c9",
       "value": "config.json: "
      }
     },
     "bbffeec9e9fd45c3b076fe6f6ea518d7": {
      "model_module": "@jupyter-widgets/base",
      "model_module_version": "2.0.0",
      "model_name": "LayoutModel",
      "state": {}
     },
     "bc408de85e7d4ebdae610ab8b923ae54": {
      "model_module": "@jupyter-widgets/base",
      "model_module_version": "2.0.0",
      "model_name": "LayoutModel",
      "state": {}
     },
     "bcb86476bd874b449ea68c4569cef6ae": {
      "model_module": "@jupyter-widgets/controls",
      "model_module_version": "2.0.0",
      "model_name": "ProgressStyleModel",
      "state": {
       "_model_module": "@jupyter-widgets/controls",
       "_model_name": "ProgressStyleModel",
       "_view_name": "ErrorWidgetView",
       "bar_color": null,
       "description_width": "",
       "error": {
        "message": "Loading chunk 495 failed.\n(error: http://192.168.3.2:9900/lab/extensions/@jupyter-widgets/jupyterlab-manager/static/495.3e275af54861cdeb3e75.js?v=3e275af54861cdeb3e75)",
        "name": "ChunkLoadError",
        "request": "http://192.168.3.2:9900/lab/extensions/@jupyter-widgets/jupyterlab-manager/static/495.3e275af54861cdeb3e75.js?v=3e275af54861cdeb3e75",
        "type": "error"
       },
       "msg": "Failed to load model class 'ProgressStyleModel' from module '@jupyter-widgets/controls'"
      }
     },
     "bceb8ae81b2644738cb9cddffba79be7": {
      "model_module": "@jupyter-widgets/base",
      "model_module_version": "2.0.0",
      "model_name": "LayoutModel",
      "state": {}
     },
     "bcf08e005fa24aeb804a730fbd80a9a8": {
      "model_module": "@jupyter-widgets/controls",
      "model_module_version": "2.0.0",
      "model_name": "HTMLStyleModel",
      "state": {
       "_model_module": "@jupyter-widgets/controls",
       "_model_name": "HTMLStyleModel",
       "_view_name": "ErrorWidgetView",
       "background": null,
       "description_width": "",
       "error": {
        "message": "Loading chunk 202 failed.\n(error: http://192.168.3.2:9900/lab/extensions/@jupyter-widgets/jupyterlab-manager/static/202.0336063976910618ce3f.js?v=0336063976910618ce3f)",
        "name": "ChunkLoadError",
        "request": "http://192.168.3.2:9900/lab/extensions/@jupyter-widgets/jupyterlab-manager/static/202.0336063976910618ce3f.js?v=0336063976910618ce3f",
        "type": "error"
       },
       "font_size": null,
       "msg": "Failed to load model class 'HTMLStyleModel' from module '@jupyter-widgets/controls'",
       "text_color": null
      }
     },
     "bd7e8092ea26464f903be8f4c523e613": {
      "model_module": "@jupyter-widgets/controls",
      "model_module_version": "2.0.0",
      "model_name": "ProgressStyleModel",
      "state": {
       "_model_module": "@jupyter-widgets/controls",
       "_model_name": "ProgressStyleModel",
       "_view_name": "ErrorWidgetView",
       "bar_color": null,
       "description_width": "",
       "error": {
        "message": "Loading chunk 495 failed.\n(error: http://192.168.3.2:9900/lab/extensions/@jupyter-widgets/jupyterlab-manager/static/495.3e275af54861cdeb3e75.js?v=3e275af54861cdeb3e75)",
        "name": "ChunkLoadError",
        "request": "http://192.168.3.2:9900/lab/extensions/@jupyter-widgets/jupyterlab-manager/static/495.3e275af54861cdeb3e75.js?v=3e275af54861cdeb3e75",
        "type": "error"
       },
       "msg": "Failed to load model class 'ProgressStyleModel' from module '@jupyter-widgets/controls'"
      }
     },
     "bd8f39baa62e4020ae16d26ce05bfcfd": {
      "model_module": "@jupyter-widgets/controls",
      "model_module_version": "2.0.0",
      "model_name": "ProgressStyleModel",
      "state": {
       "_model_module": "@jupyter-widgets/controls",
       "_model_name": "ProgressStyleModel",
       "_view_name": "ErrorWidgetView",
       "bar_color": null,
       "description_width": "",
       "error": {
        "message": "Loading chunk 202 failed.\n(error: http://192.168.3.2:9900/lab/extensions/@jupyter-widgets/jupyterlab-manager/static/202.0336063976910618ce3f.js?v=0336063976910618ce3f)",
        "name": "ChunkLoadError",
        "request": "http://192.168.3.2:9900/lab/extensions/@jupyter-widgets/jupyterlab-manager/static/202.0336063976910618ce3f.js?v=0336063976910618ce3f",
        "type": "error"
       },
       "msg": "Failed to load model class 'ProgressStyleModel' from module '@jupyter-widgets/controls'"
      }
     },
     "bd997e1a237a41ab89f3a0897a715bc3": {
      "model_module": "@jupyter-widgets/base",
      "model_module_version": "2.0.0",
      "model_name": "LayoutModel",
      "state": {
       "width": "20px"
      }
     },
     "bdb21943570641dcb8b621bfaaf5706a": {
      "model_module": "@jupyter-widgets/controls",
      "model_module_version": "2.0.0",
      "model_name": "HTMLModel",
      "state": {
       "_model_module": "@jupyter-widgets/controls",
       "_model_name": "HTMLModel",
       "_view_name": "ErrorWidgetView",
       "description": "",
       "description_allow_html": false,
       "error": {
        "message": "Loading chunk 495 failed.\n(error: http://192.168.3.2:9900/lab/extensions/@jupyter-widgets/jupyterlab-manager/static/495.3e275af54861cdeb3e75.js?v=3e275af54861cdeb3e75)",
        "name": "ChunkLoadError",
        "request": "http://192.168.3.2:9900/lab/extensions/@jupyter-widgets/jupyterlab-manager/static/495.3e275af54861cdeb3e75.js?v=3e275af54861cdeb3e75",
        "type": "error"
       },
       "layout": "IPY_MODEL_9a84ad100dc04950a51f2e4201e5830f",
       "msg": "Failed to load model class 'HTMLModel' from module '@jupyter-widgets/controls'",
       "placeholder": "​",
       "style": "IPY_MODEL_1f654e74d4da4964a0e6d4050f5d5f21",
       "value": "spiece.model: 100%"
      }
     },
     "bdefe697dd774c68b778a19e0e5186ca": {
      "model_module": "@jupyter-widgets/controls",
      "model_module_version": "2.0.0",
      "model_name": "ProgressStyleModel",
      "state": {
       "_model_module": "@jupyter-widgets/controls",
       "_model_name": "ProgressStyleModel",
       "_view_name": "ErrorWidgetView",
       "bar_color": null,
       "description_width": "",
       "error": {
        "message": "Loading chunk 202 failed.\n(error: http://192.168.3.2:9900/lab/extensions/@jupyter-widgets/jupyterlab-manager/static/202.0336063976910618ce3f.js?v=0336063976910618ce3f)",
        "name": "ChunkLoadError",
        "request": "http://192.168.3.2:9900/lab/extensions/@jupyter-widgets/jupyterlab-manager/static/202.0336063976910618ce3f.js?v=0336063976910618ce3f",
        "type": "error"
       },
       "msg": "Failed to load model class 'ProgressStyleModel' from module '@jupyter-widgets/controls'"
      }
     },
     "bdf3e739b587417eac0144bd53bbe2a4": {
      "model_module": "@jupyter-widgets/controls",
      "model_module_version": "2.0.0",
      "model_name": "HTMLStyleModel",
      "state": {
       "_model_module": "@jupyter-widgets/controls",
       "_model_name": "HTMLStyleModel",
       "_view_name": "ErrorWidgetView",
       "background": null,
       "description_width": "",
       "error": {
        "message": "Loading chunk 495 failed.\n(error: http://192.168.3.2:9900/lab/extensions/@jupyter-widgets/jupyterlab-manager/static/495.3e275af54861cdeb3e75.js?v=3e275af54861cdeb3e75)",
        "name": "ChunkLoadError",
        "request": "http://192.168.3.2:9900/lab/extensions/@jupyter-widgets/jupyterlab-manager/static/495.3e275af54861cdeb3e75.js?v=3e275af54861cdeb3e75",
        "type": "error"
       },
       "font_size": null,
       "msg": "Failed to load model class 'HTMLStyleModel' from module '@jupyter-widgets/controls'",
       "text_color": null
      }
     },
     "bec0915cafcb469c80a5948c684269ea": {
      "model_module": "@jupyter-widgets/controls",
      "model_module_version": "2.0.0",
      "model_name": "ProgressStyleModel",
      "state": {
       "_model_module": "@jupyter-widgets/controls",
       "_model_name": "ProgressStyleModel",
       "_view_name": "ErrorWidgetView",
       "bar_color": null,
       "description_width": "",
       "error": {
        "message": "Loading chunk 202 failed.\n(error: http://192.168.3.2:9900/lab/extensions/@jupyter-widgets/jupyterlab-manager/static/202.0336063976910618ce3f.js?v=0336063976910618ce3f)",
        "name": "ChunkLoadError",
        "request": "http://192.168.3.2:9900/lab/extensions/@jupyter-widgets/jupyterlab-manager/static/202.0336063976910618ce3f.js?v=0336063976910618ce3f",
        "type": "error"
       },
       "msg": "Failed to load model class 'ProgressStyleModel' from module '@jupyter-widgets/controls'"
      }
     },
     "bef12226f39e428bb3b3f338485bebac": {
      "model_module": "@jupyter-widgets/controls",
      "model_module_version": "2.0.0",
      "model_name": "HTMLStyleModel",
      "state": {
       "_model_module": "@jupyter-widgets/controls",
       "_model_name": "HTMLStyleModel",
       "_view_name": "ErrorWidgetView",
       "background": null,
       "description_width": "",
       "error": {
        "message": "Loading chunk 202 failed.\n(error: http://192.168.3.2:9900/lab/extensions/@jupyter-widgets/jupyterlab-manager/static/202.0336063976910618ce3f.js?v=0336063976910618ce3f)",
        "name": "ChunkLoadError",
        "request": "http://192.168.3.2:9900/lab/extensions/@jupyter-widgets/jupyterlab-manager/static/202.0336063976910618ce3f.js?v=0336063976910618ce3f",
        "type": "error"
       },
       "font_size": null,
       "msg": "Failed to load model class 'HTMLStyleModel' from module '@jupyter-widgets/controls'",
       "text_color": null
      }
     },
     "bf22c9a879664a9e9bbe6e609bb26adb": {
      "model_module": "@jupyter-widgets/base",
      "model_module_version": "2.0.0",
      "model_name": "LayoutModel",
      "state": {}
     },
     "bfe4c860fb5e483391f9bc40e56962ef": {
      "model_module": "@jupyter-widgets/controls",
      "model_module_version": "2.0.0",
      "model_name": "HBoxModel",
      "state": {
       "_model_module": "@jupyter-widgets/controls",
       "_model_name": "HBoxModel",
       "_view_name": "ErrorWidgetView",
       "box_style": "",
       "children": [
        "IPY_MODEL_e4ead04597014447ad38eeb2cefa6372",
        "IPY_MODEL_252b26002a5d4f0ba49d35347b954bc5",
        "IPY_MODEL_298d2acf7bb940bf9443b804a85989ab"
       ],
       "error": {
        "message": "Loading chunk 495 failed.\n(error: http://192.168.3.2:9900/lab/extensions/@jupyter-widgets/jupyterlab-manager/static/495.3e275af54861cdeb3e75.js?v=3e275af54861cdeb3e75)",
        "name": "ChunkLoadError",
        "request": "http://192.168.3.2:9900/lab/extensions/@jupyter-widgets/jupyterlab-manager/static/495.3e275af54861cdeb3e75.js?v=3e275af54861cdeb3e75",
        "type": "error"
       },
       "layout": "IPY_MODEL_d05c2c19e6f246f0a0fe2214949b8752",
       "msg": "Failed to load model class 'HBoxModel' from module '@jupyter-widgets/controls'"
      }
     },
     "bfecd2e5f1934fcdbda6c3b2c48be953": {
      "model_module": "@jupyter-widgets/controls",
      "model_module_version": "2.0.0",
      "model_name": "HBoxModel",
      "state": {
       "_model_module": "@jupyter-widgets/controls",
       "_model_name": "HBoxModel",
       "_view_name": "ErrorWidgetView",
       "box_style": "",
       "children": [
        "IPY_MODEL_f9108b0dfba84179b4925ead5f1eca63",
        "IPY_MODEL_a2991f0abd584bbca1c9e9a72ceea915",
        "IPY_MODEL_8c3d4d5aff104ddfb3c3d1c0735c46cd"
       ],
       "error": {
        "message": "Loading chunk 202 failed.\n(error: http://192.168.3.2:9900/lab/extensions/@jupyter-widgets/jupyterlab-manager/static/202.0336063976910618ce3f.js?v=0336063976910618ce3f)",
        "name": "ChunkLoadError",
        "request": "http://192.168.3.2:9900/lab/extensions/@jupyter-widgets/jupyterlab-manager/static/202.0336063976910618ce3f.js?v=0336063976910618ce3f",
        "type": "error"
       },
       "layout": "IPY_MODEL_798c42b0a0214682930fdd67b86ca95a",
       "msg": "Failed to load model class 'HBoxModel' from module '@jupyter-widgets/controls'"
      }
     },
     "bfffb04a756446b5b7cbce7264214fd0": {
      "model_module": "@jupyter-widgets/controls",
      "model_module_version": "2.0.0",
      "model_name": "HTMLStyleModel",
      "state": {
       "_model_module": "@jupyter-widgets/controls",
       "_model_name": "HTMLStyleModel",
       "_view_name": "ErrorWidgetView",
       "background": null,
       "description_width": "",
       "error": {
        "message": "Loading chunk 495 failed.\n(error: http://192.168.3.2:9900/lab/extensions/@jupyter-widgets/jupyterlab-manager/static/495.3e275af54861cdeb3e75.js?v=3e275af54861cdeb3e75)",
        "name": "ChunkLoadError",
        "request": "http://192.168.3.2:9900/lab/extensions/@jupyter-widgets/jupyterlab-manager/static/495.3e275af54861cdeb3e75.js?v=3e275af54861cdeb3e75",
        "type": "error"
       },
       "font_size": null,
       "msg": "Failed to load model class 'HTMLStyleModel' from module '@jupyter-widgets/controls'",
       "text_color": null
      }
     },
     "c0071f5e5224408bb556bf6d1626fd82": {
      "model_module": "@jupyter-widgets/controls",
      "model_module_version": "2.0.0",
      "model_name": "HTMLModel",
      "state": {
       "_model_module": "@jupyter-widgets/controls",
       "_model_name": "HTMLModel",
       "_view_name": "ErrorWidgetView",
       "description": "",
       "description_allow_html": false,
       "error": {
        "message": "Loading chunk 202 failed.\n(error: http://192.168.3.2:9900/lab/extensions/@jupyter-widgets/jupyterlab-manager/static/202.0336063976910618ce3f.js?v=0336063976910618ce3f)",
        "name": "ChunkLoadError",
        "request": "http://192.168.3.2:9900/lab/extensions/@jupyter-widgets/jupyterlab-manager/static/202.0336063976910618ce3f.js?v=0336063976910618ce3f",
        "type": "error"
       },
       "layout": "IPY_MODEL_08b7de7d50a64d78825a6d83b42112a0",
       "msg": "Failed to load model class 'HTMLModel' from module '@jupyter-widgets/controls'",
       "placeholder": "​",
       "style": "IPY_MODEL_0c5ea9d873674ea68e57c9fae77853fd",
       "value": " 261M/261M [00:06&lt;00:00, 49.8MB/s]"
      }
     },
     "c0465f975d984dc09954a56f8a4743b6": {
      "model_module": "@jupyter-widgets/controls",
      "model_module_version": "2.0.0",
      "model_name": "HTMLStyleModel",
      "state": {
       "_model_module": "@jupyter-widgets/controls",
       "_model_name": "HTMLStyleModel",
       "_view_name": "ErrorWidgetView",
       "background": null,
       "description_width": "",
       "error": {
        "message": "Loading chunk 495 failed.\n(error: http://192.168.3.2:9900/lab/extensions/@jupyter-widgets/jupyterlab-manager/static/495.3e275af54861cdeb3e75.js?v=3e275af54861cdeb3e75)",
        "name": "ChunkLoadError",
        "request": "http://192.168.3.2:9900/lab/extensions/@jupyter-widgets/jupyterlab-manager/static/495.3e275af54861cdeb3e75.js?v=3e275af54861cdeb3e75",
        "type": "error"
       },
       "font_size": null,
       "msg": "Failed to load model class 'HTMLStyleModel' from module '@jupyter-widgets/controls'",
       "text_color": null
      }
     },
     "c0484fc7805240ceb452f6aea2b85ebe": {
      "model_module": "@jupyter-widgets/controls",
      "model_module_version": "2.0.0",
      "model_name": "HTMLStyleModel",
      "state": {
       "_model_module": "@jupyter-widgets/controls",
       "_model_name": "HTMLStyleModel",
       "_view_name": "ErrorWidgetView",
       "background": null,
       "description_width": "",
       "error": {
        "message": "Loading chunk 202 failed.\n(error: http://192.168.3.2:9900/lab/extensions/@jupyter-widgets/jupyterlab-manager/static/202.0336063976910618ce3f.js?v=0336063976910618ce3f)",
        "name": "ChunkLoadError",
        "request": "http://192.168.3.2:9900/lab/extensions/@jupyter-widgets/jupyterlab-manager/static/202.0336063976910618ce3f.js?v=0336063976910618ce3f",
        "type": "error"
       },
       "font_size": null,
       "msg": "Failed to load model class 'HTMLStyleModel' from module '@jupyter-widgets/controls'",
       "text_color": null
      }
     },
     "c08b2f5f6543413daa11c608978d1b74": {
      "model_module": "@jupyter-widgets/base",
      "model_module_version": "2.0.0",
      "model_name": "LayoutModel",
      "state": {
       "width": "20px"
      }
     },
     "c0e45a272b39491796655f30371606d9": {
      "model_module": "@jupyter-widgets/controls",
      "model_module_version": "2.0.0",
      "model_name": "HTMLStyleModel",
      "state": {
       "_model_module": "@jupyter-widgets/controls",
       "_model_name": "HTMLStyleModel",
       "_view_name": "ErrorWidgetView",
       "background": null,
       "description_width": "",
       "error": {
        "message": "Loading chunk 202 failed.\n(error: http://192.168.3.2:9900/lab/extensions/@jupyter-widgets/jupyterlab-manager/static/202.0336063976910618ce3f.js?v=0336063976910618ce3f)",
        "name": "ChunkLoadError",
        "request": "http://192.168.3.2:9900/lab/extensions/@jupyter-widgets/jupyterlab-manager/static/202.0336063976910618ce3f.js?v=0336063976910618ce3f",
        "type": "error"
       },
       "font_size": null,
       "msg": "Failed to load model class 'HTMLStyleModel' from module '@jupyter-widgets/controls'",
       "text_color": null
      }
     },
     "c1b4946e6bfb438d9a63234bb48f26aa": {
      "model_module": "@jupyter-widgets/base",
      "model_module_version": "2.0.0",
      "model_name": "LayoutModel",
      "state": {}
     },
     "c1efee1cfc6d4979afa2d2094c848130": {
      "model_module": "@jupyter-widgets/controls",
      "model_module_version": "2.0.0",
      "model_name": "HBoxModel",
      "state": {
       "_model_module": "@jupyter-widgets/controls",
       "_model_name": "HBoxModel",
       "_view_name": "ErrorWidgetView",
       "box_style": "",
       "children": [
        "IPY_MODEL_2735f8b0b9af4a3a84cc206fa9fd2b0a",
        "IPY_MODEL_9a7799a49f6a4ecda0cab68160de0ded",
        "IPY_MODEL_f8972751705b4d6b8ee7f12935fe2d28"
       ],
       "error": {
        "message": "Loading chunk 495 failed.\n(error: http://192.168.3.2:9900/lab/extensions/@jupyter-widgets/jupyterlab-manager/static/495.3e275af54861cdeb3e75.js?v=3e275af54861cdeb3e75)",
        "name": "ChunkLoadError",
        "request": "http://192.168.3.2:9900/lab/extensions/@jupyter-widgets/jupyterlab-manager/static/495.3e275af54861cdeb3e75.js?v=3e275af54861cdeb3e75",
        "type": "error"
       },
       "layout": "IPY_MODEL_3f8caf50a3a74294b9ea436e22f9d681",
       "msg": "Failed to load model class 'HBoxModel' from module '@jupyter-widgets/controls'"
      }
     },
     "c23c10857cb44dc49b9a950c186a2a06": {
      "model_module": "@jupyter-widgets/controls",
      "model_module_version": "2.0.0",
      "model_name": "HTMLStyleModel",
      "state": {
       "_model_module": "@jupyter-widgets/controls",
       "_model_name": "HTMLStyleModel",
       "_view_name": "ErrorWidgetView",
       "background": null,
       "description_width": "",
       "error": {
        "message": "Loading chunk 202 failed.\n(error: http://192.168.3.2:9900/lab/extensions/@jupyter-widgets/jupyterlab-manager/static/202.0336063976910618ce3f.js?v=0336063976910618ce3f)",
        "name": "ChunkLoadError",
        "request": "http://192.168.3.2:9900/lab/extensions/@jupyter-widgets/jupyterlab-manager/static/202.0336063976910618ce3f.js?v=0336063976910618ce3f",
        "type": "error"
       },
       "font_size": null,
       "msg": "Failed to load model class 'HTMLStyleModel' from module '@jupyter-widgets/controls'",
       "text_color": null
      }
     },
     "c273123669c54d4eb178908d2a22f977": {
      "model_module": "@jupyter-widgets/base",
      "model_module_version": "2.0.0",
      "model_name": "LayoutModel",
      "state": {}
     },
     "c29e15fad7604d77a6e0538ca83f01cd": {
      "model_module": "@jupyter-widgets/controls",
      "model_module_version": "2.0.0",
      "model_name": "HTMLModel",
      "state": {
       "_model_module": "@jupyter-widgets/controls",
       "_model_name": "HTMLModel",
       "_view_name": "ErrorWidgetView",
       "description": "",
       "description_allow_html": false,
       "error": {
        "message": "Loading chunk 495 failed.\n(error: http://192.168.3.2:9900/lab/extensions/@jupyter-widgets/jupyterlab-manager/static/495.3e275af54861cdeb3e75.js?v=3e275af54861cdeb3e75)",
        "name": "ChunkLoadError",
        "request": "http://192.168.3.2:9900/lab/extensions/@jupyter-widgets/jupyterlab-manager/static/495.3e275af54861cdeb3e75.js?v=3e275af54861cdeb3e75",
        "type": "error"
       },
       "layout": "IPY_MODEL_00ef3f8ad8344c32b0dfef4a915b4d93",
       "msg": "Failed to load model class 'HTMLModel' from module '@jupyter-widgets/controls'",
       "placeholder": "​",
       "style": "IPY_MODEL_f8eb6c96caf14b9a9c4e226939d547a4",
       "value": " 1.39M/? [00:02&lt;00:00, 624kB/s]"
      }
     },
     "c2a1dc1ee9da4591b9b6e368af0b166b": {
      "model_module": "@jupyter-widgets/controls",
      "model_module_version": "2.0.0",
      "model_name": "ProgressStyleModel",
      "state": {
       "_model_module": "@jupyter-widgets/controls",
       "_model_name": "ProgressStyleModel",
       "_view_name": "ErrorWidgetView",
       "bar_color": null,
       "description_width": "",
       "error": {
        "message": "Loading chunk 495 failed.\n(error: http://192.168.3.2:9900/lab/extensions/@jupyter-widgets/jupyterlab-manager/static/495.3e275af54861cdeb3e75.js?v=3e275af54861cdeb3e75)",
        "name": "ChunkLoadError",
        "request": "http://192.168.3.2:9900/lab/extensions/@jupyter-widgets/jupyterlab-manager/static/495.3e275af54861cdeb3e75.js?v=3e275af54861cdeb3e75",
        "type": "error"
       },
       "msg": "Failed to load model class 'ProgressStyleModel' from module '@jupyter-widgets/controls'"
      }
     },
     "c2f7edf218af4b9c8d863fdd80567aa0": {
      "model_module": "@jupyter-widgets/controls",
      "model_module_version": "2.0.0",
      "model_name": "HTMLStyleModel",
      "state": {
       "_model_module": "@jupyter-widgets/controls",
       "_model_name": "HTMLStyleModel",
       "_view_name": "ErrorWidgetView",
       "background": null,
       "description_width": "",
       "error": {
        "message": "Loading chunk 202 failed.\n(error: http://192.168.3.2:9900/lab/extensions/@jupyter-widgets/jupyterlab-manager/static/202.0336063976910618ce3f.js?v=0336063976910618ce3f)",
        "name": "ChunkLoadError",
        "request": "http://192.168.3.2:9900/lab/extensions/@jupyter-widgets/jupyterlab-manager/static/202.0336063976910618ce3f.js?v=0336063976910618ce3f",
        "type": "error"
       },
       "font_size": null,
       "msg": "Failed to load model class 'HTMLStyleModel' from module '@jupyter-widgets/controls'",
       "text_color": null
      }
     },
     "c3867e7f55834f54862d813b0d3e389e": {
      "model_module": "@jupyter-widgets/controls",
      "model_module_version": "2.0.0",
      "model_name": "HTMLModel",
      "state": {
       "_model_module": "@jupyter-widgets/controls",
       "_model_name": "HTMLModel",
       "_view_name": "ErrorWidgetView",
       "description": "",
       "description_allow_html": false,
       "error": {
        "message": "Loading chunk 495 failed.\n(error: http://192.168.3.2:9900/lab/extensions/@jupyter-widgets/jupyterlab-manager/static/495.3e275af54861cdeb3e75.js?v=3e275af54861cdeb3e75)",
        "name": "ChunkLoadError",
        "request": "http://192.168.3.2:9900/lab/extensions/@jupyter-widgets/jupyterlab-manager/static/495.3e275af54861cdeb3e75.js?v=3e275af54861cdeb3e75",
        "type": "error"
       },
       "layout": "IPY_MODEL_aeecc2faf10248228685b83ed45379d2",
       "msg": "Failed to load model class 'HTMLModel' from module '@jupyter-widgets/controls'",
       "placeholder": "​",
       "style": "IPY_MODEL_c2f7edf218af4b9c8d863fdd80567aa0",
       "value": "spiece.model: 100%"
      }
     },
     "c42fff6223cf43a790cb830c75a57c14": {
      "model_module": "@jupyter-widgets/controls",
      "model_module_version": "2.0.0",
      "model_name": "HTMLStyleModel",
      "state": {
       "_model_module": "@jupyter-widgets/controls",
       "_model_name": "HTMLStyleModel",
       "_view_name": "ErrorWidgetView",
       "background": null,
       "description_width": "",
       "error": {
        "message": "Loading chunk 495 failed.\n(error: http://192.168.3.2:9900/lab/extensions/@jupyter-widgets/jupyterlab-manager/static/495.3e275af54861cdeb3e75.js?v=3e275af54861cdeb3e75)",
        "name": "ChunkLoadError",
        "request": "http://192.168.3.2:9900/lab/extensions/@jupyter-widgets/jupyterlab-manager/static/495.3e275af54861cdeb3e75.js?v=3e275af54861cdeb3e75",
        "type": "error"
       },
       "font_size": null,
       "msg": "Failed to load model class 'HTMLStyleModel' from module '@jupyter-widgets/controls'",
       "text_color": null
      }
     },
     "c45b0fe168a042adae573e80302a50b5": {
      "model_module": "@jupyter-widgets/controls",
      "model_module_version": "2.0.0",
      "model_name": "HTMLModel",
      "state": {
       "_model_module": "@jupyter-widgets/controls",
       "_model_name": "HTMLModel",
       "_view_name": "ErrorWidgetView",
       "description": "",
       "description_allow_html": false,
       "error": {
        "message": "Loading chunk 202 failed.\n(error: http://192.168.3.2:9900/lab/extensions/@jupyter-widgets/jupyterlab-manager/static/202.0336063976910618ce3f.js?v=0336063976910618ce3f)",
        "name": "ChunkLoadError",
        "request": "http://192.168.3.2:9900/lab/extensions/@jupyter-widgets/jupyterlab-manager/static/202.0336063976910618ce3f.js?v=0336063976910618ce3f",
        "type": "error"
       },
       "layout": "IPY_MODEL_c828ef396d3245419fdd146ae025ca0a",
       "msg": "Failed to load model class 'HTMLModel' from module '@jupyter-widgets/controls'",
       "placeholder": "​",
       "style": "IPY_MODEL_6d745ba761c44f9b96874b7ee142b3e3",
       "value": " 843k/? [00:00&lt;00:00, 1.34MB/s]"
      }
     },
     "c4902a52a1904d7399dc2b59ceef8f3a": {
      "model_module": "@jupyter-widgets/base",
      "model_module_version": "2.0.0",
      "model_name": "LayoutModel",
      "state": {}
     },
     "c4a2ddaf5bab4ba2a6ee488dd1d9729c": {
      "model_module": "@jupyter-widgets/controls",
      "model_module_version": "2.0.0",
      "model_name": "HTMLStyleModel",
      "state": {
       "_model_module": "@jupyter-widgets/controls",
       "_model_name": "HTMLStyleModel",
       "_view_name": "ErrorWidgetView",
       "background": null,
       "description_width": "",
       "error": {
        "message": "Loading chunk 202 failed.\n(error: http://192.168.3.2:9900/lab/extensions/@jupyter-widgets/jupyterlab-manager/static/202.0336063976910618ce3f.js?v=0336063976910618ce3f)",
        "name": "ChunkLoadError",
        "request": "http://192.168.3.2:9900/lab/extensions/@jupyter-widgets/jupyterlab-manager/static/202.0336063976910618ce3f.js?v=0336063976910618ce3f",
        "type": "error"
       },
       "font_size": null,
       "msg": "Failed to load model class 'HTMLStyleModel' from module '@jupyter-widgets/controls'",
       "text_color": null
      }
     },
     "c4b8394a06014475a70621d798a5648d": {
      "model_module": "@jupyter-widgets/base",
      "model_module_version": "2.0.0",
      "model_name": "LayoutModel",
      "state": {}
     },
     "c518dea4aae94e18b515b31a858f101e": {
      "model_module": "@jupyter-widgets/base",
      "model_module_version": "2.0.0",
      "model_name": "LayoutModel",
      "state": {}
     },
     "c588e1c4178f41719f96e8fc5473b2e7": {
      "model_module": "@jupyter-widgets/base",
      "model_module_version": "2.0.0",
      "model_name": "LayoutModel",
      "state": {}
     },
     "c597d3c4a2bf4aad98d2305181133822": {
      "model_module": "@jupyter-widgets/controls",
      "model_module_version": "2.0.0",
      "model_name": "HTMLModel",
      "state": {
       "_model_module": "@jupyter-widgets/controls",
       "_model_name": "HTMLModel",
       "_view_name": "ErrorWidgetView",
       "description": "",
       "description_allow_html": false,
       "error": {
        "message": "Loading chunk 495 failed.\n(error: http://192.168.3.2:9900/lab/extensions/@jupyter-widgets/jupyterlab-manager/static/495.3e275af54861cdeb3e75.js?v=3e275af54861cdeb3e75)",
        "name": "ChunkLoadError",
        "request": "http://192.168.3.2:9900/lab/extensions/@jupyter-widgets/jupyterlab-manager/static/495.3e275af54861cdeb3e75.js?v=3e275af54861cdeb3e75",
        "type": "error"
       },
       "layout": "IPY_MODEL_a8538bd6b3a744efbe32fa2b01cf721b",
       "msg": "Failed to load model class 'HTMLModel' from module '@jupyter-widgets/controls'",
       "placeholder": "​",
       "style": "IPY_MODEL_2a099c1bb7ea47fc8ccf8077680dc09b",
       "value": " 792k/792k [00:02&lt;00:00, 302kB/s]"
      }
     },
     "c5f8b28013d24cca8cb304030464b73d": {
      "model_module": "@jupyter-widgets/controls",
      "model_module_version": "2.0.0",
      "model_name": "HTMLModel",
      "state": {
       "_model_module": "@jupyter-widgets/controls",
       "_model_name": "HTMLModel",
       "_view_name": "ErrorWidgetView",
       "description": "",
       "description_allow_html": false,
       "error": {
        "message": "Loading chunk 495 failed.\n(error: http://192.168.3.2:9900/lab/extensions/@jupyter-widgets/jupyterlab-manager/static/495.3e275af54861cdeb3e75.js?v=3e275af54861cdeb3e75)",
        "name": "ChunkLoadError",
        "request": "http://192.168.3.2:9900/lab/extensions/@jupyter-widgets/jupyterlab-manager/static/495.3e275af54861cdeb3e75.js?v=3e275af54861cdeb3e75",
        "type": "error"
       },
       "layout": "IPY_MODEL_7a8340489e4b46f89ec7fce957a44110",
       "msg": "Failed to load model class 'HTMLModel' from module '@jupyter-widgets/controls'",
       "placeholder": "​",
       "style": "IPY_MODEL_5f7500cc5e294fe1bd42690c7e10961f",
       "value": "generation_config.json: "
      }
     },
     "c5fc12de55ca43108a3550e803edfc4b": {
      "model_module": "@jupyter-widgets/base",
      "model_module_version": "2.0.0",
      "model_name": "LayoutModel",
      "state": {}
     },
     "c61270ff485f411ab96377031edc03b4": {
      "model_module": "@jupyter-widgets/controls",
      "model_module_version": "2.0.0",
      "model_name": "HTMLModel",
      "state": {
       "_model_module": "@jupyter-widgets/controls",
       "_model_name": "HTMLModel",
       "_view_name": "ErrorWidgetView",
       "description": "",
       "description_allow_html": false,
       "error": {
        "message": "Loading chunk 495 failed.\n(error: http://192.168.3.2:9900/lab/extensions/@jupyter-widgets/jupyterlab-manager/static/495.3e275af54861cdeb3e75.js?v=3e275af54861cdeb3e75)",
        "name": "ChunkLoadError",
        "request": "http://192.168.3.2:9900/lab/extensions/@jupyter-widgets/jupyterlab-manager/static/495.3e275af54861cdeb3e75.js?v=3e275af54861cdeb3e75",
        "type": "error"
       },
       "layout": "IPY_MODEL_c518dea4aae94e18b515b31a858f101e",
       "msg": "Failed to load model class 'HTMLModel' from module '@jupyter-widgets/controls'",
       "placeholder": "​",
       "style": "IPY_MODEL_4e2c9e1412bd45ff8cc5595ae0c86d91",
       "value": " 52.7k/? [00:00&lt;00:00, 2.72MB/s]"
      }
     },
     "c6507eb456a145b78e2577ab725bbe9d": {
      "model_module": "@jupyter-widgets/base",
      "model_module_version": "2.0.0",
      "model_name": "LayoutModel",
      "state": {}
     },
     "c6b2c7b59b3c4526a14c7d06edaa050d": {
      "model_module": "@jupyter-widgets/base",
      "model_module_version": "2.0.0",
      "model_name": "LayoutModel",
      "state": {}
     },
     "c6f2b5e391f540d9a5cb6f6053951422": {
      "model_module": "@jupyter-widgets/base",
      "model_module_version": "2.0.0",
      "model_name": "LayoutModel",
      "state": {}
     },
     "c70cda5210e94c99b8c264f418ab2914": {
      "model_module": "@jupyter-widgets/controls",
      "model_module_version": "2.0.0",
      "model_name": "HTMLStyleModel",
      "state": {
       "_model_module": "@jupyter-widgets/controls",
       "_model_name": "HTMLStyleModel",
       "_view_name": "ErrorWidgetView",
       "background": null,
       "description_width": "",
       "error": {
        "message": "Loading chunk 495 failed.\n(error: http://192.168.3.2:9900/lab/extensions/@jupyter-widgets/jupyterlab-manager/static/495.3e275af54861cdeb3e75.js?v=3e275af54861cdeb3e75)",
        "name": "ChunkLoadError",
        "request": "http://192.168.3.2:9900/lab/extensions/@jupyter-widgets/jupyterlab-manager/static/495.3e275af54861cdeb3e75.js?v=3e275af54861cdeb3e75",
        "type": "error"
       },
       "font_size": null,
       "msg": "Failed to load model class 'HTMLStyleModel' from module '@jupyter-widgets/controls'",
       "text_color": null
      }
     },
     "c718a211e0ee405985191af196882055": {
      "model_module": "@jupyter-widgets/controls",
      "model_module_version": "2.0.0",
      "model_name": "HTMLStyleModel",
      "state": {
       "_model_module": "@jupyter-widgets/controls",
       "_model_name": "HTMLStyleModel",
       "_view_name": "ErrorWidgetView",
       "background": null,
       "description_width": "",
       "error": {
        "message": "Loading chunk 495 failed.\n(error: http://192.168.3.2:9900/lab/extensions/@jupyter-widgets/jupyterlab-manager/static/495.3e275af54861cdeb3e75.js?v=3e275af54861cdeb3e75)",
        "name": "ChunkLoadError",
        "request": "http://192.168.3.2:9900/lab/extensions/@jupyter-widgets/jupyterlab-manager/static/495.3e275af54861cdeb3e75.js?v=3e275af54861cdeb3e75",
        "type": "error"
       },
       "font_size": null,
       "msg": "Failed to load model class 'HTMLStyleModel' from module '@jupyter-widgets/controls'",
       "text_color": null
      }
     },
     "c7758d2dadc14e74aaa811d270327424": {
      "model_module": "@jupyter-widgets/controls",
      "model_module_version": "2.0.0",
      "model_name": "HTMLModel",
      "state": {
       "_model_module": "@jupyter-widgets/controls",
       "_model_name": "HTMLModel",
       "_view_name": "ErrorWidgetView",
       "description": "",
       "description_allow_html": false,
       "error": {
        "message": "Loading chunk 495 failed.\n(error: http://192.168.3.2:9900/lab/extensions/@jupyter-widgets/jupyterlab-manager/static/495.3e275af54861cdeb3e75.js?v=3e275af54861cdeb3e75)",
        "name": "ChunkLoadError",
        "request": "http://192.168.3.2:9900/lab/extensions/@jupyter-widgets/jupyterlab-manager/static/495.3e275af54861cdeb3e75.js?v=3e275af54861cdeb3e75",
        "type": "error"
       },
       "layout": "IPY_MODEL_7dcb79be8331415a8104c66a5a8867de",
       "msg": "Failed to load model class 'HTMLModel' from module '@jupyter-widgets/controls'",
       "placeholder": "​",
       "style": "IPY_MODEL_821060209cb540bda11a9d77590e67e0",
       "value": "model.safetensors: 100%"
      }
     },
     "c7ba6fa2921e48dd87304bfcba5c8f14": {
      "model_module": "@jupyter-widgets/base",
      "model_module_version": "2.0.0",
      "model_name": "LayoutModel",
      "state": {}
     },
     "c7f3630f3c9f4d428e72adcf93c0d0c9": {
      "model_module": "@jupyter-widgets/controls",
      "model_module_version": "2.0.0",
      "model_name": "HTMLStyleModel",
      "state": {
       "_model_module": "@jupyter-widgets/controls",
       "_model_name": "HTMLStyleModel",
       "_view_name": "ErrorWidgetView",
       "background": null,
       "description_width": "",
       "error": {
        "message": "Loading chunk 202 failed.\n(error: http://192.168.3.2:9900/lab/extensions/@jupyter-widgets/jupyterlab-manager/static/202.0336063976910618ce3f.js?v=0336063976910618ce3f)",
        "name": "ChunkLoadError",
        "request": "http://192.168.3.2:9900/lab/extensions/@jupyter-widgets/jupyterlab-manager/static/202.0336063976910618ce3f.js?v=0336063976910618ce3f",
        "type": "error"
       },
       "font_size": null,
       "msg": "Failed to load model class 'HTMLStyleModel' from module '@jupyter-widgets/controls'",
       "text_color": null
      }
     },
     "c818bde0b5cc483da96e24a6c8a759a0": {
      "model_module": "@jupyter-widgets/controls",
      "model_module_version": "2.0.0",
      "model_name": "FloatProgressModel",
      "state": {
       "_model_module": "@jupyter-widgets/controls",
       "_model_name": "FloatProgressModel",
       "_view_name": "ErrorWidgetView",
       "bar_style": "success",
       "description": "",
       "description_allow_html": false,
       "error": {
        "message": "Loading chunk 202 failed.\n(error: http://192.168.3.2:9900/lab/extensions/@jupyter-widgets/jupyterlab-manager/static/202.0336063976910618ce3f.js?v=0336063976910618ce3f)",
        "name": "ChunkLoadError",
        "request": "http://192.168.3.2:9900/lab/extensions/@jupyter-widgets/jupyterlab-manager/static/202.0336063976910618ce3f.js?v=0336063976910618ce3f",
        "type": "error"
       },
       "layout": "IPY_MODEL_54784d4b650549938a3d8979de30a2ed",
       "max": 124,
       "min": 0,
       "msg": "Failed to load model class 'FloatProgressModel' from module '@jupyter-widgets/controls'",
       "orientation": "horizontal",
       "style": "IPY_MODEL_2575a3f08c3c49928ca4fdffbc98004f",
       "value": 124
      }
     },
     "c828ef396d3245419fdd146ae025ca0a": {
      "model_module": "@jupyter-widgets/base",
      "model_module_version": "2.0.0",
      "model_name": "LayoutModel",
      "state": {}
     },
     "c88469ebd98e4060abb111bcb0386384": {
      "model_module": "@jupyter-widgets/base",
      "model_module_version": "2.0.0",
      "model_name": "LayoutModel",
      "state": {}
     },
     "c8ad3311d618442ebb7c841552534179": {
      "model_module": "@jupyter-widgets/base",
      "model_module_version": "2.0.0",
      "model_name": "LayoutModel",
      "state": {}
     },
     "c8cdf9ca0a64448fb42da59484bc8f3e": {
      "model_module": "@jupyter-widgets/base",
      "model_module_version": "2.0.0",
      "model_name": "LayoutModel",
      "state": {}
     },
     "c912d560cb66436c86c1d010d1828192": {
      "model_module": "@jupyter-widgets/base",
      "model_module_version": "2.0.0",
      "model_name": "LayoutModel",
      "state": {}
     },
     "c917330022d540e3a2e015f8910990ca": {
      "model_module": "@jupyter-widgets/base",
      "model_module_version": "2.0.0",
      "model_name": "LayoutModel",
      "state": {}
     },
     "c94cfb255cbc435ab807db525afe3bdb": {
      "model_module": "@jupyter-widgets/base",
      "model_module_version": "2.0.0",
      "model_name": "LayoutModel",
      "state": {}
     },
     "c9505dee6fe443f182fd9b3640cb841a": {
      "model_module": "@jupyter-widgets/controls",
      "model_module_version": "2.0.0",
      "model_name": "HBoxModel",
      "state": {
       "_model_module": "@jupyter-widgets/controls",
       "_model_name": "HBoxModel",
       "_view_name": "ErrorWidgetView",
       "box_style": "",
       "children": [
        "IPY_MODEL_76f25e3a097a4624a37d0829276ced67",
        "IPY_MODEL_5a694fc9f9cb40468520379ede7cdddc",
        "IPY_MODEL_36b34d0d215d40ea9c5f4276cd98afe7"
       ],
       "error": {
        "message": "Loading chunk 202 failed.\n(error: http://192.168.3.2:9900/lab/extensions/@jupyter-widgets/jupyterlab-manager/static/202.0336063976910618ce3f.js?v=0336063976910618ce3f)",
        "name": "ChunkLoadError",
        "request": "http://192.168.3.2:9900/lab/extensions/@jupyter-widgets/jupyterlab-manager/static/202.0336063976910618ce3f.js?v=0336063976910618ce3f",
        "type": "error"
       },
       "layout": "IPY_MODEL_3e99e5154d154eaa83c2a693962c8ede",
       "msg": "Failed to load model class 'HBoxModel' from module '@jupyter-widgets/controls'"
      }
     },
     "c99448ac35b84fb0b84aa2b8d3771b90": {
      "model_module": "@jupyter-widgets/base",
      "model_module_version": "2.0.0",
      "model_name": "LayoutModel",
      "state": {}
     },
     "c99a8b001a164d65b6fae83c124fbedc": {
      "model_module": "@jupyter-widgets/controls",
      "model_module_version": "2.0.0",
      "model_name": "ProgressStyleModel",
      "state": {
       "_model_module": "@jupyter-widgets/controls",
       "_model_name": "ProgressStyleModel",
       "_view_name": "ErrorWidgetView",
       "bar_color": null,
       "description_width": "",
       "error": {
        "message": "Loading chunk 495 failed.\n(error: http://192.168.3.2:9900/lab/extensions/@jupyter-widgets/jupyterlab-manager/static/495.3e275af54861cdeb3e75.js?v=3e275af54861cdeb3e75)",
        "name": "ChunkLoadError",
        "request": "http://192.168.3.2:9900/lab/extensions/@jupyter-widgets/jupyterlab-manager/static/495.3e275af54861cdeb3e75.js?v=3e275af54861cdeb3e75",
        "type": "error"
       },
       "msg": "Failed to load model class 'ProgressStyleModel' from module '@jupyter-widgets/controls'"
      }
     },
     "c9a9f14b413e44d8a82886f1fbb609ee": {
      "model_module": "@jupyter-widgets/controls",
      "model_module_version": "2.0.0",
      "model_name": "HBoxModel",
      "state": {
       "_model_module": "@jupyter-widgets/controls",
       "_model_name": "HBoxModel",
       "_view_name": "ErrorWidgetView",
       "box_style": "",
       "children": [
        "IPY_MODEL_3e15dcbed39d4ea89b292aa2efe32f60",
        "IPY_MODEL_1c05c6791b5345ca91855fc6d04c2c06",
        "IPY_MODEL_c45b0fe168a042adae573e80302a50b5"
       ],
       "error": {
        "message": "Loading chunk 495 failed.\n(error: http://192.168.3.2:9900/lab/extensions/@jupyter-widgets/jupyterlab-manager/static/495.3e275af54861cdeb3e75.js?v=3e275af54861cdeb3e75)",
        "name": "ChunkLoadError",
        "request": "http://192.168.3.2:9900/lab/extensions/@jupyter-widgets/jupyterlab-manager/static/495.3e275af54861cdeb3e75.js?v=3e275af54861cdeb3e75",
        "type": "error"
       },
       "layout": "IPY_MODEL_3e5b3c057f7048a8b396fc707f87e981",
       "msg": "Failed to load model class 'HBoxModel' from module '@jupyter-widgets/controls'"
      }
     },
     "ca1bd4aed5054900a070abb0456f6707": {
      "model_module": "@jupyter-widgets/base",
      "model_module_version": "2.0.0",
      "model_name": "LayoutModel",
      "state": {}
     },
     "ca2efc64005949f9aaa1b3cbf113374f": {
      "model_module": "@jupyter-widgets/base",
      "model_module_version": "2.0.0",
      "model_name": "LayoutModel",
      "state": {}
     },
     "ca500b0b54ea423aba680ecfdd5620c8": {
      "model_module": "@jupyter-widgets/controls",
      "model_module_version": "2.0.0",
      "model_name": "FloatProgressModel",
      "state": {
       "_model_module": "@jupyter-widgets/controls",
       "_model_name": "FloatProgressModel",
       "_view_name": "ErrorWidgetView",
       "bar_style": "success",
       "description": "",
       "description_allow_html": false,
       "error": {
        "message": "Loading chunk 495 failed.\n(error: http://192.168.3.2:9900/lab/extensions/@jupyter-widgets/jupyterlab-manager/static/495.3e275af54861cdeb3e75.js?v=3e275af54861cdeb3e75)",
        "name": "ChunkLoadError",
        "request": "http://192.168.3.2:9900/lab/extensions/@jupyter-widgets/jupyterlab-manager/static/495.3e275af54861cdeb3e75.js?v=3e275af54861cdeb3e75",
        "type": "error"
       },
       "layout": "IPY_MODEL_4e5335cae8d3447f8eaa6ba153666a28",
       "max": 49,
       "min": 0,
       "msg": "Failed to load model class 'FloatProgressModel' from module '@jupyter-widgets/controls'",
       "orientation": "horizontal",
       "style": "IPY_MODEL_cf4f9a3edb3e40a79fb972a5312d9f15",
       "value": 49
      }
     },
     "ca54a79e6c7647008e6ca799aa4bfec2": {
      "model_module": "@jupyter-widgets/base",
      "model_module_version": "2.0.0",
      "model_name": "LayoutModel",
      "state": {}
     },
     "ca63c9a77b974db28df0cc7dc3b50733": {
      "model_module": "@jupyter-widgets/base",
      "model_module_version": "2.0.0",
      "model_name": "LayoutModel",
      "state": {}
     },
     "ca82c497e6464bd885088976832f54d9": {
      "model_module": "@jupyter-widgets/base",
      "model_module_version": "2.0.0",
      "model_name": "LayoutModel",
      "state": {}
     },
     "cac6b7e9b03446a3b91c217c30c90d5f": {
      "model_module": "@jupyter-widgets/base",
      "model_module_version": "2.0.0",
      "model_name": "LayoutModel",
      "state": {}
     },
     "cac829b919e841aab3570db0d4365914": {
      "model_module": "@jupyter-widgets/base",
      "model_module_version": "2.0.0",
      "model_name": "LayoutModel",
      "state": {}
     },
     "cb121707c967445db58c77d9eb49ded3": {
      "model_module": "@jupyter-widgets/base",
      "model_module_version": "2.0.0",
      "model_name": "LayoutModel",
      "state": {}
     },
     "cb605817196044888f77905e11978b9d": {
      "model_module": "@jupyter-widgets/controls",
      "model_module_version": "2.0.0",
      "model_name": "HBoxModel",
      "state": {
       "_model_module": "@jupyter-widgets/controls",
       "_model_name": "HBoxModel",
       "_view_name": "ErrorWidgetView",
       "box_style": "",
       "children": [
        "IPY_MODEL_34632e7984e743baad0a9bf64c5076a0",
        "IPY_MODEL_0a6c872b7a604cf49ba2fdf8df2ed4d6",
        "IPY_MODEL_1beb0b66bbbe43af81f81c08fc48d4d4"
       ],
       "error": {
        "message": "Loading chunk 202 failed.\n(error: http://192.168.3.2:9900/lab/extensions/@jupyter-widgets/jupyterlab-manager/static/202.0336063976910618ce3f.js?v=0336063976910618ce3f)",
        "name": "ChunkLoadError",
        "request": "http://192.168.3.2:9900/lab/extensions/@jupyter-widgets/jupyterlab-manager/static/202.0336063976910618ce3f.js?v=0336063976910618ce3f",
        "type": "error"
       },
       "layout": "IPY_MODEL_d230dfa08ff946f0a5089349624e76aa",
       "msg": "Failed to load model class 'HBoxModel' from module '@jupyter-widgets/controls'"
      }
     },
     "cb7334408fa048cba0cdeca69cf4012f": {
      "model_module": "@jupyter-widgets/base",
      "model_module_version": "2.0.0",
      "model_name": "LayoutModel",
      "state": {}
     },
     "cb8bd790c5544785a8e856b0cae344b2": {
      "model_module": "@jupyter-widgets/controls",
      "model_module_version": "2.0.0",
      "model_name": "FloatProgressModel",
      "state": {
       "_model_module": "@jupyter-widgets/controls",
       "_model_name": "FloatProgressModel",
       "_view_name": "ErrorWidgetView",
       "bar_style": "success",
       "description": "",
       "description_allow_html": false,
       "error": {
        "message": "Loading chunk 495 failed.\n(error: http://192.168.3.2:9900/lab/extensions/@jupyter-widgets/jupyterlab-manager/static/495.3e275af54861cdeb3e75.js?v=3e275af54861cdeb3e75)",
        "name": "ChunkLoadError",
        "request": "http://192.168.3.2:9900/lab/extensions/@jupyter-widgets/jupyterlab-manager/static/495.3e275af54861cdeb3e75.js?v=3e275af54861cdeb3e75",
        "type": "error"
       },
       "layout": "IPY_MODEL_8150b273d6d74dc6846b5b3401806aa0",
       "max": 732,
       "min": 0,
       "msg": "Failed to load model class 'FloatProgressModel' from module '@jupyter-widgets/controls'",
       "orientation": "horizontal",
       "style": "IPY_MODEL_90fabbf1ae62416e9032b81fa7f746fd",
       "value": 732
      }
     },
     "cbb9d64b325d4db5be73c8942f60ee19": {
      "model_module": "@jupyter-widgets/base",
      "model_module_version": "2.0.0",
      "model_name": "LayoutModel",
      "state": {}
     },
     "cbbe17dd0ef04e938e427824cb3398c8": {
      "model_module": "@jupyter-widgets/controls",
      "model_module_version": "2.0.0",
      "model_name": "HTMLStyleModel",
      "state": {
       "_model_module": "@jupyter-widgets/controls",
       "_model_name": "HTMLStyleModel",
       "_view_name": "ErrorWidgetView",
       "background": null,
       "description_width": "",
       "error": {
        "message": "Loading chunk 202 failed.\n(error: http://192.168.3.2:9900/lab/extensions/@jupyter-widgets/jupyterlab-manager/static/202.0336063976910618ce3f.js?v=0336063976910618ce3f)",
        "name": "ChunkLoadError",
        "request": "http://192.168.3.2:9900/lab/extensions/@jupyter-widgets/jupyterlab-manager/static/202.0336063976910618ce3f.js?v=0336063976910618ce3f",
        "type": "error"
       },
       "font_size": null,
       "msg": "Failed to load model class 'HTMLStyleModel' from module '@jupyter-widgets/controls'",
       "text_color": null
      }
     },
     "cbfcf2cfd98c4045be9db4a75be26fce": {
      "model_module": "@jupyter-widgets/base",
      "model_module_version": "2.0.0",
      "model_name": "LayoutModel",
      "state": {
       "width": "20px"
      }
     },
     "cc39781ada1d485594bbcf49d9616338": {
      "model_module": "@jupyter-widgets/base",
      "model_module_version": "2.0.0",
      "model_name": "LayoutModel",
      "state": {
       "width": "20px"
      }
     },
     "cc3a45316ab841af9fa5f89cd5e17934": {
      "model_module": "@jupyter-widgets/controls",
      "model_module_version": "2.0.0",
      "model_name": "FloatProgressModel",
      "state": {
       "_model_module": "@jupyter-widgets/controls",
       "_model_name": "FloatProgressModel",
       "_view_name": "ErrorWidgetView",
       "bar_style": "success",
       "description": "",
       "description_allow_html": false,
       "error": {
        "message": "Loading chunk 495 failed.\n(error: http://192.168.3.2:9900/lab/extensions/@jupyter-widgets/jupyterlab-manager/static/495.3e275af54861cdeb3e75.js?v=3e275af54861cdeb3e75)",
        "name": "ChunkLoadError",
        "request": "http://192.168.3.2:9900/lab/extensions/@jupyter-widgets/jupyterlab-manager/static/495.3e275af54861cdeb3e75.js?v=3e275af54861cdeb3e75",
        "type": "error"
       },
       "layout": "IPY_MODEL_66ec20ba913a4f40a0e381a01e2bfc60",
       "max": 1,
       "min": 0,
       "msg": "Failed to load model class 'FloatProgressModel' from module '@jupyter-widgets/controls'",
       "orientation": "horizontal",
       "style": "IPY_MODEL_105e6df94c7244378a68dc0afc069fa3",
       "value": 1
      }
     },
     "cc610ace66f14014934d3f2bd7a64a3c": {
      "model_module": "@jupyter-widgets/base",
      "model_module_version": "2.0.0",
      "model_name": "LayoutModel",
      "state": {}
     },
     "cc76817da30445cc89b862eeecfc0a2d": {
      "model_module": "@jupyter-widgets/base",
      "model_module_version": "2.0.0",
      "model_name": "LayoutModel",
      "state": {}
     },
     "cc7b35dc8d4748809ea2b838ebb0e8fb": {
      "model_module": "@jupyter-widgets/controls",
      "model_module_version": "2.0.0",
      "model_name": "ProgressStyleModel",
      "state": {
       "_model_module": "@jupyter-widgets/controls",
       "_model_name": "ProgressStyleModel",
       "_view_name": "ErrorWidgetView",
       "bar_color": null,
       "description_width": "",
       "error": {
        "message": "Loading chunk 495 failed.\n(error: http://192.168.3.2:9900/lab/extensions/@jupyter-widgets/jupyterlab-manager/static/495.3e275af54861cdeb3e75.js?v=3e275af54861cdeb3e75)",
        "name": "ChunkLoadError",
        "request": "http://192.168.3.2:9900/lab/extensions/@jupyter-widgets/jupyterlab-manager/static/495.3e275af54861cdeb3e75.js?v=3e275af54861cdeb3e75",
        "type": "error"
       },
       "msg": "Failed to load model class 'ProgressStyleModel' from module '@jupyter-widgets/controls'"
      }
     },
     "cc7e6a4f85e4417db0275f2d557c9576": {
      "model_module": "@jupyter-widgets/controls",
      "model_module_version": "2.0.0",
      "model_name": "FloatProgressModel",
      "state": {
       "_model_module": "@jupyter-widgets/controls",
       "_model_name": "FloatProgressModel",
       "_view_name": "ErrorWidgetView",
       "bar_style": "success",
       "description": "",
       "description_allow_html": false,
       "error": {
        "message": "Loading chunk 495 failed.\n(error: http://192.168.3.2:9900/lab/extensions/@jupyter-widgets/jupyterlab-manager/static/495.3e275af54861cdeb3e75.js?v=3e275af54861cdeb3e75)",
        "name": "ChunkLoadError",
        "request": "http://192.168.3.2:9900/lab/extensions/@jupyter-widgets/jupyterlab-manager/static/495.3e275af54861cdeb3e75.js?v=3e275af54861cdeb3e75",
        "type": "error"
       },
       "layout": "IPY_MODEL_b1f8a862d35348419b5885e05ea03178",
       "max": 147,
       "min": 0,
       "msg": "Failed to load model class 'FloatProgressModel' from module '@jupyter-widgets/controls'",
       "orientation": "horizontal",
       "style": "IPY_MODEL_f11f12087f994c129f46281631259e14",
       "value": 147
      }
     },
     "cc96219080924f89a007b85a8fd8aba5": {
      "model_module": "@jupyter-widgets/controls",
      "model_module_version": "2.0.0",
      "model_name": "FloatProgressModel",
      "state": {
       "_model_module": "@jupyter-widgets/controls",
       "_model_name": "FloatProgressModel",
       "_view_name": "ErrorWidgetView",
       "bar_style": "success",
       "description": "",
       "description_allow_html": false,
       "error": {
        "message": "Loading chunk 202 failed.\n(error: http://192.168.3.2:9900/lab/extensions/@jupyter-widgets/jupyterlab-manager/static/202.0336063976910618ce3f.js?v=0336063976910618ce3f)",
        "name": "ChunkLoadError",
        "request": "http://192.168.3.2:9900/lab/extensions/@jupyter-widgets/jupyterlab-manager/static/202.0336063976910618ce3f.js?v=0336063976910618ce3f",
        "type": "error"
       },
       "layout": "IPY_MODEL_d6c8615253714a58b6cd3842f1c44e78",
       "max": 1,
       "min": 0,
       "msg": "Failed to load model class 'FloatProgressModel' from module '@jupyter-widgets/controls'",
       "orientation": "horizontal",
       "style": "IPY_MODEL_a3f916021a0f4bcdad6dd168f8a59e60",
       "value": 1
      }
     },
     "ccc19f1adc714fb2b3b013bacde6d54b": {
      "model_module": "@jupyter-widgets/base",
      "model_module_version": "2.0.0",
      "model_name": "LayoutModel",
      "state": {}
     },
     "ccef3992f08c4258a0963a1fc0baa7af": {
      "model_module": "@jupyter-widgets/controls",
      "model_module_version": "2.0.0",
      "model_name": "ProgressStyleModel",
      "state": {
       "_model_module": "@jupyter-widgets/controls",
       "_model_name": "ProgressStyleModel",
       "_view_name": "ErrorWidgetView",
       "bar_color": null,
       "description_width": "",
       "error": {
        "message": "Loading chunk 202 failed.\n(error: http://192.168.3.2:9900/lab/extensions/@jupyter-widgets/jupyterlab-manager/static/202.0336063976910618ce3f.js?v=0336063976910618ce3f)",
        "name": "ChunkLoadError",
        "request": "http://192.168.3.2:9900/lab/extensions/@jupyter-widgets/jupyterlab-manager/static/202.0336063976910618ce3f.js?v=0336063976910618ce3f",
        "type": "error"
       },
       "msg": "Failed to load model class 'ProgressStyleModel' from module '@jupyter-widgets/controls'"
      }
     },
     "cd1151ed20534f4594fc93980510d2e1": {
      "model_module": "@jupyter-widgets/base",
      "model_module_version": "2.0.0",
      "model_name": "LayoutModel",
      "state": {}
     },
     "cd937c4357b143c48fcd679c786a091b": {
      "model_module": "@jupyter-widgets/controls",
      "model_module_version": "2.0.0",
      "model_name": "HTMLStyleModel",
      "state": {
       "_model_module": "@jupyter-widgets/controls",
       "_model_name": "HTMLStyleModel",
       "_view_name": "ErrorWidgetView",
       "background": null,
       "description_width": "",
       "error": {
        "message": "Loading chunk 202 failed.\n(error: http://192.168.3.2:9900/lab/extensions/@jupyter-widgets/jupyterlab-manager/static/202.0336063976910618ce3f.js?v=0336063976910618ce3f)",
        "name": "ChunkLoadError",
        "request": "http://192.168.3.2:9900/lab/extensions/@jupyter-widgets/jupyterlab-manager/static/202.0336063976910618ce3f.js?v=0336063976910618ce3f",
        "type": "error"
       },
       "font_size": null,
       "msg": "Failed to load model class 'HTMLStyleModel' from module '@jupyter-widgets/controls'",
       "text_color": null
      }
     },
     "cdab21d672974a8c85155317cea2dca2": {
      "model_module": "@jupyter-widgets/base",
      "model_module_version": "2.0.0",
      "model_name": "LayoutModel",
      "state": {}
     },
     "cdc30198d1f149d0965c8b7c991b6702": {
      "model_module": "@jupyter-widgets/controls",
      "model_module_version": "2.0.0",
      "model_name": "HTMLModel",
      "state": {
       "_model_module": "@jupyter-widgets/controls",
       "_model_name": "HTMLModel",
       "_view_name": "ErrorWidgetView",
       "description": "",
       "description_allow_html": false,
       "error": {
        "message": "Loading chunk 495 failed.\n(error: http://192.168.3.2:9900/lab/extensions/@jupyter-widgets/jupyterlab-manager/static/495.3e275af54861cdeb3e75.js?v=3e275af54861cdeb3e75)",
        "name": "ChunkLoadError",
        "request": "http://192.168.3.2:9900/lab/extensions/@jupyter-widgets/jupyterlab-manager/static/495.3e275af54861cdeb3e75.js?v=3e275af54861cdeb3e75",
        "type": "error"
       },
       "layout": "IPY_MODEL_6fdd5ce1ffad4c0c80c9705275918f2c",
       "msg": "Failed to load model class 'HTMLModel' from module '@jupyter-widgets/controls'",
       "placeholder": "​",
       "style": "IPY_MODEL_b3fbcbdbfc67444d838afea5c3eb021b",
       "value": " 22.0/22.0 [00:00&lt;00:00, 1.43kB/s]"
      }
     },
     "cdf69090aaf64a839bb810e11a2256d4": {
      "model_module": "@jupyter-widgets/controls",
      "model_module_version": "2.0.0",
      "model_name": "HTMLModel",
      "state": {
       "_model_module": "@jupyter-widgets/controls",
       "_model_name": "HTMLModel",
       "_view_name": "ErrorWidgetView",
       "description": "",
       "description_allow_html": false,
       "error": {
        "message": "Loading chunk 202 failed.\n(error: http://192.168.3.2:9900/lab/extensions/@jupyter-widgets/jupyterlab-manager/static/202.0336063976910618ce3f.js?v=0336063976910618ce3f)",
        "name": "ChunkLoadError",
        "request": "http://192.168.3.2:9900/lab/extensions/@jupyter-widgets/jupyterlab-manager/static/202.0336063976910618ce3f.js?v=0336063976910618ce3f",
        "type": "error"
       },
       "layout": "IPY_MODEL_f725c3d27ca14f8292d2048802718bcc",
       "msg": "Failed to load model class 'HTMLModel' from module '@jupyter-widgets/controls'",
       "placeholder": "​",
       "style": "IPY_MODEL_f5f2e96cd0ff4e639c0e8657cd775073",
       "value": " 440M/440M [00:12&lt;00:00, 36.6MB/s]"
      }
     },
     "ce17bd1eaef2413896627219b1f76aa5": {
      "model_module": "@jupyter-widgets/controls",
      "model_module_version": "2.0.0",
      "model_name": "HTMLModel",
      "state": {
       "_model_module": "@jupyter-widgets/controls",
       "_model_name": "HTMLModel",
       "_view_name": "ErrorWidgetView",
       "description": "",
       "description_allow_html": false,
       "error": {
        "message": "Loading chunk 202 failed.\n(error: http://192.168.3.2:9900/lab/extensions/@jupyter-widgets/jupyterlab-manager/static/202.0336063976910618ce3f.js?v=0336063976910618ce3f)",
        "name": "ChunkLoadError",
        "request": "http://192.168.3.2:9900/lab/extensions/@jupyter-widgets/jupyterlab-manager/static/202.0336063976910618ce3f.js?v=0336063976910618ce3f",
        "type": "error"
       },
       "layout": "IPY_MODEL_ed88c42900b54532abfc8d537445a928",
       "msg": "Failed to load model class 'HTMLModel' from module '@jupyter-widgets/controls'",
       "placeholder": "​",
       "style": "IPY_MODEL_8f86fc2d763b4e3cbb27c5383f217d5f",
       "value": " 494k/? [00:00&lt;00:00, 3.02MB/s]"
      }
     },
     "ce1c9ff3059c4a539f01cbe24eaaaa8b": {
      "model_module": "@jupyter-widgets/base",
      "model_module_version": "2.0.0",
      "model_name": "LayoutModel",
      "state": {}
     },
     "ce7d8905d3604efbb40925e3b0b0c85c": {
      "model_module": "@jupyter-widgets/controls",
      "model_module_version": "2.0.0",
      "model_name": "HTMLStyleModel",
      "state": {
       "_model_module": "@jupyter-widgets/controls",
       "_model_name": "HTMLStyleModel",
       "_view_name": "ErrorWidgetView",
       "background": null,
       "description_width": "",
       "error": {
        "message": "Loading chunk 202 failed.\n(error: http://192.168.3.2:9900/lab/extensions/@jupyter-widgets/jupyterlab-manager/static/202.0336063976910618ce3f.js?v=0336063976910618ce3f)",
        "name": "ChunkLoadError",
        "request": "http://192.168.3.2:9900/lab/extensions/@jupyter-widgets/jupyterlab-manager/static/202.0336063976910618ce3f.js?v=0336063976910618ce3f",
        "type": "error"
       },
       "font_size": null,
       "msg": "Failed to load model class 'HTMLStyleModel' from module '@jupyter-widgets/controls'",
       "text_color": null
      }
     },
     "cf483f5f053b411385d31fb4f567b7a4": {
      "model_module": "@jupyter-widgets/controls",
      "model_module_version": "2.0.0",
      "model_name": "HTMLModel",
      "state": {
       "_model_module": "@jupyter-widgets/controls",
       "_model_name": "HTMLModel",
       "_view_name": "ErrorWidgetView",
       "description": "",
       "description_allow_html": false,
       "error": {
        "message": "Loading chunk 495 failed.\n(error: http://192.168.3.2:9900/lab/extensions/@jupyter-widgets/jupyterlab-manager/static/495.3e275af54861cdeb3e75.js?v=3e275af54861cdeb3e75)",
        "name": "ChunkLoadError",
        "request": "http://192.168.3.2:9900/lab/extensions/@jupyter-widgets/jupyterlab-manager/static/495.3e275af54861cdeb3e75.js?v=3e275af54861cdeb3e75",
        "type": "error"
       },
       "layout": "IPY_MODEL_5bcca47ea0a64c039915b605a86150b6",
       "msg": "Failed to load model class 'HTMLModel' from module '@jupyter-widgets/controls'",
       "placeholder": "​",
       "style": "IPY_MODEL_dd100d5399f6487aaaefae4863bcd4b7",
       "value": "config.json: "
      }
     },
     "cf4f9a3edb3e40a79fb972a5312d9f15": {
      "model_module": "@jupyter-widgets/controls",
      "model_module_version": "2.0.0",
      "model_name": "ProgressStyleModel",
      "state": {
       "_model_module": "@jupyter-widgets/controls",
       "_model_name": "ProgressStyleModel",
       "_view_name": "ErrorWidgetView",
       "bar_color": null,
       "description_width": "",
       "error": {
        "message": "Loading chunk 202 failed.\n(error: http://192.168.3.2:9900/lab/extensions/@jupyter-widgets/jupyterlab-manager/static/202.0336063976910618ce3f.js?v=0336063976910618ce3f)",
        "name": "ChunkLoadError",
        "request": "http://192.168.3.2:9900/lab/extensions/@jupyter-widgets/jupyterlab-manager/static/202.0336063976910618ce3f.js?v=0336063976910618ce3f",
        "type": "error"
       },
       "msg": "Failed to load model class 'ProgressStyleModel' from module '@jupyter-widgets/controls'"
      }
     },
     "cf65982ecc3649c982ae3aee88473bd5": {
      "model_module": "@jupyter-widgets/controls",
      "model_module_version": "2.0.0",
      "model_name": "HTMLStyleModel",
      "state": {
       "_model_module": "@jupyter-widgets/controls",
       "_model_name": "HTMLStyleModel",
       "_view_name": "ErrorWidgetView",
       "background": null,
       "description_width": "",
       "error": {
        "message": "Loading chunk 202 failed.\n(error: http://192.168.3.2:9900/lab/extensions/@jupyter-widgets/jupyterlab-manager/static/202.0336063976910618ce3f.js?v=0336063976910618ce3f)",
        "name": "ChunkLoadError",
        "request": "http://192.168.3.2:9900/lab/extensions/@jupyter-widgets/jupyterlab-manager/static/202.0336063976910618ce3f.js?v=0336063976910618ce3f",
        "type": "error"
       },
       "font_size": null,
       "msg": "Failed to load model class 'HTMLStyleModel' from module '@jupyter-widgets/controls'",
       "text_color": null
      }
     },
     "cfdaf496884d4049ba563c087c3a25b3": {
      "model_module": "@jupyter-widgets/base",
      "model_module_version": "2.0.0",
      "model_name": "LayoutModel",
      "state": {
       "width": "20px"
      }
     },
     "d0245319b14f47d2a77a5495986b0175": {
      "model_module": "@jupyter-widgets/base",
      "model_module_version": "2.0.0",
      "model_name": "LayoutModel",
      "state": {}
     },
     "d05c2c19e6f246f0a0fe2214949b8752": {
      "model_module": "@jupyter-widgets/base",
      "model_module_version": "2.0.0",
      "model_name": "LayoutModel",
      "state": {}
     },
     "d0a5275b6cb840de841da9b6237e88cb": {
      "model_module": "@jupyter-widgets/controls",
      "model_module_version": "2.0.0",
      "model_name": "HTMLModel",
      "state": {
       "_model_module": "@jupyter-widgets/controls",
       "_model_name": "HTMLModel",
       "_view_name": "ErrorWidgetView",
       "description": "",
       "description_allow_html": false,
       "error": {
        "message": "Loading chunk 495 failed.\n(error: http://192.168.3.2:9900/lab/extensions/@jupyter-widgets/jupyterlab-manager/static/495.3e275af54861cdeb3e75.js?v=3e275af54861cdeb3e75)",
        "name": "ChunkLoadError",
        "request": "http://192.168.3.2:9900/lab/extensions/@jupyter-widgets/jupyterlab-manager/static/495.3e275af54861cdeb3e75.js?v=3e275af54861cdeb3e75",
        "type": "error"
       },
       "layout": "IPY_MODEL_3b6edc68124f4300a792f85204308e1e",
       "msg": "Failed to load model class 'HTMLModel' from module '@jupyter-widgets/controls'",
       "placeholder": "​",
       "style": "IPY_MODEL_c4a2ddaf5bab4ba2a6ee488dd1d9729c",
       "value": " 2.95G/2.95G [01:12&lt;00:00, 36.3MB/s]"
      }
     },
     "d0c5fa5f65824f1fb8ea82b486067054": {
      "model_module": "@jupyter-widgets/controls",
      "model_module_version": "2.0.0",
      "model_name": "FloatProgressModel",
      "state": {
       "_model_module": "@jupyter-widgets/controls",
       "_model_name": "FloatProgressModel",
       "_view_name": "ErrorWidgetView",
       "bar_style": "success",
       "description": "",
       "description_allow_html": false,
       "error": {
        "message": "Loading chunk 495 failed.\n(error: http://192.168.3.2:9900/lab/extensions/@jupyter-widgets/jupyterlab-manager/static/495.3e275af54861cdeb3e75.js?v=3e275af54861cdeb3e75)",
        "name": "ChunkLoadError",
        "request": "http://192.168.3.2:9900/lab/extensions/@jupyter-widgets/jupyterlab-manager/static/495.3e275af54861cdeb3e75.js?v=3e275af54861cdeb3e75",
        "type": "error"
       },
       "layout": "IPY_MODEL_4c72411c74024107973e5f1bc209c4cb",
       "max": 1,
       "min": 0,
       "msg": "Failed to load model class 'FloatProgressModel' from module '@jupyter-widgets/controls'",
       "orientation": "horizontal",
       "style": "IPY_MODEL_4a4cf32565634d4884506839c0a0ce8a",
       "value": 1
      }
     },
     "d0cf7b757ad2420b9ca7ee1674aee7a5": {
      "model_module": "@jupyter-widgets/base",
      "model_module_version": "2.0.0",
      "model_name": "LayoutModel",
      "state": {}
     },
     "d0d1aa63a8e248e28dc5e1acf9ef7ac7": {
      "model_module": "@jupyter-widgets/controls",
      "model_module_version": "2.0.0",
      "model_name": "HTMLModel",
      "state": {
       "_model_module": "@jupyter-widgets/controls",
       "_model_name": "HTMLModel",
       "_view_name": "ErrorWidgetView",
       "description": "",
       "description_allow_html": false,
       "error": {
        "message": "Loading chunk 495 failed.\n(error: http://192.168.3.2:9900/lab/extensions/@jupyter-widgets/jupyterlab-manager/static/495.3e275af54861cdeb3e75.js?v=3e275af54861cdeb3e75)",
        "name": "ChunkLoadError",
        "request": "http://192.168.3.2:9900/lab/extensions/@jupyter-widgets/jupyterlab-manager/static/495.3e275af54861cdeb3e75.js?v=3e275af54861cdeb3e75",
        "type": "error"
       },
       "layout": "IPY_MODEL_b865a343d44b47758df0d19b9e34abfd",
       "msg": "Failed to load model class 'HTMLModel' from module '@jupyter-widgets/controls'",
       "placeholder": "​",
       "style": "IPY_MODEL_1cecb60946eb445aa8044e9a8b6b1e5a",
       "value": "tokenizer_config.json: "
      }
     },
     "d0d2d2eedabb4553a4e2e2353eda9dc5": {
      "model_module": "@jupyter-widgets/controls",
      "model_module_version": "2.0.0",
      "model_name": "FloatProgressModel",
      "state": {
       "_model_module": "@jupyter-widgets/controls",
       "_model_name": "FloatProgressModel",
       "_view_name": "ErrorWidgetView",
       "bar_style": "success",
       "description": "",
       "description_allow_html": false,
       "error": {
        "message": "Loading chunk 495 failed.\n(error: http://192.168.3.2:9900/lab/extensions/@jupyter-widgets/jupyterlab-manager/static/495.3e275af54861cdeb3e75.js?v=3e275af54861cdeb3e75)",
        "name": "ChunkLoadError",
        "request": "http://192.168.3.2:9900/lab/extensions/@jupyter-widgets/jupyterlab-manager/static/495.3e275af54861cdeb3e75.js?v=3e275af54861cdeb3e75",
        "type": "error"
       },
       "layout": "IPY_MODEL_8403e4463d2e4540bfd914cef711d644",
       "max": 377,
       "min": 0,
       "msg": "Failed to load model class 'FloatProgressModel' from module '@jupyter-widgets/controls'",
       "orientation": "horizontal",
       "style": "IPY_MODEL_821c3f8e01f1435aac5f059cde6e881c",
       "value": 377
      }
     },
     "d1780f7580cd4a8c9d0c489728c404d5": {
      "model_module": "@jupyter-widgets/controls",
      "model_module_version": "2.0.0",
      "model_name": "HTMLModel",
      "state": {
       "_model_module": "@jupyter-widgets/controls",
       "_model_name": "HTMLModel",
       "_view_name": "ErrorWidgetView",
       "description": "",
       "description_allow_html": false,
       "error": {
        "message": "Loading chunk 202 failed.\n(error: http://192.168.3.2:9900/lab/extensions/@jupyter-widgets/jupyterlab-manager/static/202.0336063976910618ce3f.js?v=0336063976910618ce3f)",
        "name": "ChunkLoadError",
        "request": "http://192.168.3.2:9900/lab/extensions/@jupyter-widgets/jupyterlab-manager/static/202.0336063976910618ce3f.js?v=0336063976910618ce3f",
        "type": "error"
       },
       "layout": "IPY_MODEL_7d12a73d2f054c539fb9e5da2b59c352",
       "msg": "Failed to load model class 'HTMLModel' from module '@jupyter-widgets/controls'",
       "placeholder": "​",
       "style": "IPY_MODEL_431088a35e6348f2bf2ecab41e7562c7",
       "value": " 4.59k/? [00:00&lt;00:00, 253kB/s]"
      }
     },
     "d1978e33f42b4f13a30c819f0564d3f4": {
      "model_module": "@jupyter-widgets/base",
      "model_module_version": "2.0.0",
      "model_name": "LayoutModel",
      "state": {}
     },
     "d1f709bf535b4d2ca5c630119be977a2": {
      "model_module": "@jupyter-widgets/controls",
      "model_module_version": "2.0.0",
      "model_name": "HBoxModel",
      "state": {
       "_model_module": "@jupyter-widgets/controls",
       "_model_name": "HBoxModel",
       "_view_name": "ErrorWidgetView",
       "box_style": "",
       "children": [
        "IPY_MODEL_bdb21943570641dcb8b621bfaaf5706a",
        "IPY_MODEL_d27c3ebbad754311acfcc6090b11d8be",
        "IPY_MODEL_da7dd612da8c4e26a2c547bfa580d977"
       ],
       "error": {
        "message": "Loading chunk 202 failed.\n(error: http://192.168.3.2:9900/lab/extensions/@jupyter-widgets/jupyterlab-manager/static/202.0336063976910618ce3f.js?v=0336063976910618ce3f)",
        "name": "ChunkLoadError",
        "request": "http://192.168.3.2:9900/lab/extensions/@jupyter-widgets/jupyterlab-manager/static/202.0336063976910618ce3f.js?v=0336063976910618ce3f",
        "type": "error"
       },
       "layout": "IPY_MODEL_f6f0874bfdc44653980da3f2b36acc1e",
       "msg": "Failed to load model class 'HBoxModel' from module '@jupyter-widgets/controls'"
      }
     },
     "d21a0723406c4ee1b59c834000e3b867": {
      "model_module": "@jupyter-widgets/base",
      "model_module_version": "2.0.0",
      "model_name": "LayoutModel",
      "state": {}
     },
     "d230dfa08ff946f0a5089349624e76aa": {
      "model_module": "@jupyter-widgets/base",
      "model_module_version": "2.0.0",
      "model_name": "LayoutModel",
      "state": {}
     },
     "d23cd9c69c5847fe8673c0f5fdb94814": {
      "model_module": "@jupyter-widgets/base",
      "model_module_version": "2.0.0",
      "model_name": "LayoutModel",
      "state": {}
     },
     "d24065d26f564d78800b0d9645863a42": {
      "model_module": "@jupyter-widgets/base",
      "model_module_version": "2.0.0",
      "model_name": "LayoutModel",
      "state": {}
     },
     "d253488ac4e740478483173a8086db98": {
      "model_module": "@jupyter-widgets/base",
      "model_module_version": "2.0.0",
      "model_name": "LayoutModel",
      "state": {}
     },
     "d27c3ebbad754311acfcc6090b11d8be": {
      "model_module": "@jupyter-widgets/controls",
      "model_module_version": "2.0.0",
      "model_name": "FloatProgressModel",
      "state": {
       "_model_module": "@jupyter-widgets/controls",
       "_model_name": "FloatProgressModel",
       "_view_name": "ErrorWidgetView",
       "bar_style": "success",
       "description": "",
       "description_allow_html": false,
       "error": {
        "message": "Loading chunk 202 failed.\n(error: http://192.168.3.2:9900/lab/extensions/@jupyter-widgets/jupyterlab-manager/static/202.0336063976910618ce3f.js?v=0336063976910618ce3f)",
        "name": "ChunkLoadError",
        "request": "http://192.168.3.2:9900/lab/extensions/@jupyter-widgets/jupyterlab-manager/static/202.0336063976910618ce3f.js?v=0336063976910618ce3f",
        "type": "error"
       },
       "layout": "IPY_MODEL_6434a2820f584a33bd58f549f219e335",
       "max": 791656,
       "min": 0,
       "msg": "Failed to load model class 'FloatProgressModel' from module '@jupyter-widgets/controls'",
       "orientation": "horizontal",
       "style": "IPY_MODEL_10c4c6b13c784c89b9bea9dd3f97bd09",
       "value": 791656
      }
     },
     "d2d465de64ea4f258319f7f7672fa1f8": {
      "model_module": "@jupyter-widgets/controls",
      "model_module_version": "2.0.0",
      "model_name": "HTMLStyleModel",
      "state": {
       "_model_module": "@jupyter-widgets/controls",
       "_model_name": "HTMLStyleModel",
       "_view_name": "ErrorWidgetView",
       "background": null,
       "description_width": "",
       "error": {
        "message": "Loading chunk 202 failed.\n(error: http://192.168.3.2:9900/lab/extensions/@jupyter-widgets/jupyterlab-manager/static/202.0336063976910618ce3f.js?v=0336063976910618ce3f)",
        "name": "ChunkLoadError",
        "request": "http://192.168.3.2:9900/lab/extensions/@jupyter-widgets/jupyterlab-manager/static/202.0336063976910618ce3f.js?v=0336063976910618ce3f",
        "type": "error"
       },
       "font_size": null,
       "msg": "Failed to load model class 'HTMLStyleModel' from module '@jupyter-widgets/controls'",
       "text_color": null
      }
     },
     "d32a74130f544ede95bf1dc32592da15": {
      "model_module": "@jupyter-widgets/base",
      "model_module_version": "2.0.0",
      "model_name": "LayoutModel",
      "state": {}
     },
     "d32ef25c30d74dd994407cb9e8266ad5": {
      "model_module": "@jupyter-widgets/base",
      "model_module_version": "2.0.0",
      "model_name": "LayoutModel",
      "state": {}
     },
     "d381406f0c964edeb9493ac8649dca5c": {
      "model_module": "@jupyter-widgets/controls",
      "model_module_version": "2.0.0",
      "model_name": "HBoxModel",
      "state": {
       "_model_module": "@jupyter-widgets/controls",
       "_model_name": "HBoxModel",
       "_view_name": "ErrorWidgetView",
       "box_style": "",
       "children": [
        "IPY_MODEL_74e8859499a94fc2a10fc7940e6b00c6",
        "IPY_MODEL_52349421c66a41e485c161696ec02a54",
        "IPY_MODEL_93b5646f4a954af3b560fb7ee1df3e37"
       ],
       "error": {
        "message": "Loading chunk 495 failed.\n(error: http://192.168.3.2:9900/lab/extensions/@jupyter-widgets/jupyterlab-manager/static/495.3e275af54861cdeb3e75.js?v=3e275af54861cdeb3e75)",
        "name": "ChunkLoadError",
        "request": "http://192.168.3.2:9900/lab/extensions/@jupyter-widgets/jupyterlab-manager/static/495.3e275af54861cdeb3e75.js?v=3e275af54861cdeb3e75",
        "type": "error"
       },
       "layout": "IPY_MODEL_d7abc79ced0c4d3396fc2053d568d771",
       "msg": "Failed to load model class 'HBoxModel' from module '@jupyter-widgets/controls'"
      }
     },
     "d39c228da71f45a99d246faad3f5597c": {
      "model_module": "@jupyter-widgets/base",
      "model_module_version": "2.0.0",
      "model_name": "LayoutModel",
      "state": {}
     },
     "d3a33d90fa95424d8fcc248cc34bf3f6": {
      "model_module": "@jupyter-widgets/controls",
      "model_module_version": "2.0.0",
      "model_name": "HTMLStyleModel",
      "state": {
       "_model_module": "@jupyter-widgets/controls",
       "_model_name": "HTMLStyleModel",
       "_view_name": "ErrorWidgetView",
       "background": null,
       "description_width": "",
       "error": {
        "message": "Loading chunk 202 failed.\n(error: http://192.168.3.2:9900/lab/extensions/@jupyter-widgets/jupyterlab-manager/static/202.0336063976910618ce3f.js?v=0336063976910618ce3f)",
        "name": "ChunkLoadError",
        "request": "http://192.168.3.2:9900/lab/extensions/@jupyter-widgets/jupyterlab-manager/static/202.0336063976910618ce3f.js?v=0336063976910618ce3f",
        "type": "error"
       },
       "font_size": null,
       "msg": "Failed to load model class 'HTMLStyleModel' from module '@jupyter-widgets/controls'",
       "text_color": null
      }
     },
     "d4bffa9ba0664fc99bc66bc6e7b11809": {
      "model_module": "@jupyter-widgets/controls",
      "model_module_version": "2.0.0",
      "model_name": "HTMLStyleModel",
      "state": {
       "_model_module": "@jupyter-widgets/controls",
       "_model_name": "HTMLStyleModel",
       "_view_name": "ErrorWidgetView",
       "background": null,
       "description_width": "",
       "error": {
        "message": "Loading chunk 202 failed.\n(error: http://192.168.3.2:9900/lab/extensions/@jupyter-widgets/jupyterlab-manager/static/202.0336063976910618ce3f.js?v=0336063976910618ce3f)",
        "name": "ChunkLoadError",
        "request": "http://192.168.3.2:9900/lab/extensions/@jupyter-widgets/jupyterlab-manager/static/202.0336063976910618ce3f.js?v=0336063976910618ce3f",
        "type": "error"
       },
       "font_size": null,
       "msg": "Failed to load model class 'HTMLStyleModel' from module '@jupyter-widgets/controls'",
       "text_color": null
      }
     },
     "d5b7614389374963a2eec461fbb6e5bd": {
      "model_module": "@jupyter-widgets/controls",
      "model_module_version": "2.0.0",
      "model_name": "HTMLModel",
      "state": {
       "_model_module": "@jupyter-widgets/controls",
       "_model_name": "HTMLModel",
       "_view_name": "ErrorWidgetView",
       "description": "",
       "description_allow_html": false,
       "error": {
        "message": "Loading chunk 495 failed.\n(error: http://192.168.3.2:9900/lab/extensions/@jupyter-widgets/jupyterlab-manager/static/495.3e275af54861cdeb3e75.js?v=3e275af54861cdeb3e75)",
        "name": "ChunkLoadError",
        "request": "http://192.168.3.2:9900/lab/extensions/@jupyter-widgets/jupyterlab-manager/static/495.3e275af54861cdeb3e75.js?v=3e275af54861cdeb3e75",
        "type": "error"
       },
       "layout": "IPY_MODEL_0966fbe9d5dc4f9b89f9bbe054ea9852",
       "msg": "Failed to load model class 'HTMLModel' from module '@jupyter-widgets/controls'",
       "placeholder": "​",
       "style": "IPY_MODEL_b067d6b74fe94948b6e8ced1d4015f83",
       "value": "config.json: "
      }
     },
     "d5d85a060664416ba9fe6453b0b0a8ce": {
      "model_module": "@jupyter-widgets/base",
      "model_module_version": "2.0.0",
      "model_name": "LayoutModel",
      "state": {}
     },
     "d643ab34d2b44a2fb09ac6bb37a47ac9": {
      "model_module": "@jupyter-widgets/controls",
      "model_module_version": "2.0.0",
      "model_name": "HTMLModel",
      "state": {
       "_model_module": "@jupyter-widgets/controls",
       "_model_name": "HTMLModel",
       "_view_name": "ErrorWidgetView",
       "description": "",
       "description_allow_html": false,
       "error": {
        "message": "Loading chunk 495 failed.\n(error: http://192.168.3.2:9900/lab/extensions/@jupyter-widgets/jupyterlab-manager/static/495.3e275af54861cdeb3e75.js?v=3e275af54861cdeb3e75)",
        "name": "ChunkLoadError",
        "request": "http://192.168.3.2:9900/lab/extensions/@jupyter-widgets/jupyterlab-manager/static/495.3e275af54861cdeb3e75.js?v=3e275af54861cdeb3e75",
        "type": "error"
       },
       "layout": "IPY_MODEL_f1586b4531ab482692e9bea056b4c74c",
       "msg": "Failed to load model class 'HTMLModel' from module '@jupyter-widgets/controls'",
       "placeholder": "​",
       "style": "IPY_MODEL_301a5035225b480ca5f74a62f30bcd96",
       "value": "config.json: 100%"
      }
     },
     "d6860294f6394968bcaf0181f37b6a3f": {
      "model_module": "@jupyter-widgets/base",
      "model_module_version": "2.0.0",
      "model_name": "LayoutModel",
      "state": {}
     },
     "d6c8615253714a58b6cd3842f1c44e78": {
      "model_module": "@jupyter-widgets/base",
      "model_module_version": "2.0.0",
      "model_name": "LayoutModel",
      "state": {
       "width": "20px"
      }
     },
     "d7abc79ced0c4d3396fc2053d568d771": {
      "model_module": "@jupyter-widgets/base",
      "model_module_version": "2.0.0",
      "model_name": "LayoutModel",
      "state": {}
     },
     "d82be2d3e02a44fcb167e9fdedbfe0a6": {
      "model_module": "@jupyter-widgets/controls",
      "model_module_version": "2.0.0",
      "model_name": "HTMLModel",
      "state": {
       "_model_module": "@jupyter-widgets/controls",
       "_model_name": "HTMLModel",
       "_view_name": "ErrorWidgetView",
       "description": "",
       "description_allow_html": false,
       "error": {
        "message": "Loading chunk 495 failed.\n(error: http://192.168.3.2:9900/lab/extensions/@jupyter-widgets/jupyterlab-manager/static/495.3e275af54861cdeb3e75.js?v=3e275af54861cdeb3e75)",
        "name": "ChunkLoadError",
        "request": "http://192.168.3.2:9900/lab/extensions/@jupyter-widgets/jupyterlab-manager/static/495.3e275af54861cdeb3e75.js?v=3e275af54861cdeb3e75",
        "type": "error"
       },
       "layout": "IPY_MODEL_a9e24635e4834bfba90af0282f3aee80",
       "msg": "Failed to load model class 'HTMLModel' from module '@jupyter-widgets/controls'",
       "placeholder": "​",
       "style": "IPY_MODEL_abf24cf46663438ba027da83897e7c1a",
       "value": "config.json: "
      }
     },
     "d887aa6a230842599835778cf521e0ae": {
      "model_module": "@jupyter-widgets/controls",
      "model_module_version": "2.0.0",
      "model_name": "FloatProgressModel",
      "state": {
       "_model_module": "@jupyter-widgets/controls",
       "_model_name": "FloatProgressModel",
       "_view_name": "ErrorWidgetView",
       "bar_style": "success",
       "description": "",
       "description_allow_html": false,
       "error": {
        "message": "Loading chunk 495 failed.\n(error: http://192.168.3.2:9900/lab/extensions/@jupyter-widgets/jupyterlab-manager/static/495.3e275af54861cdeb3e75.js?v=3e275af54861cdeb3e75)",
        "name": "ChunkLoadError",
        "request": "http://192.168.3.2:9900/lab/extensions/@jupyter-widgets/jupyterlab-manager/static/495.3e275af54861cdeb3e75.js?v=3e275af54861cdeb3e75",
        "type": "error"
       },
       "layout": "IPY_MODEL_ffd7d041a7804422872314d95d3dba2d",
       "max": 60,
       "min": 0,
       "msg": "Failed to load model class 'FloatProgressModel' from module '@jupyter-widgets/controls'",
       "orientation": "horizontal",
       "style": "IPY_MODEL_8403d18cd0844f9289234f98cec180a1",
       "value": 60
      }
     },
     "d8c6dea692a2465d82a55bc345bd58f6": {
      "model_module": "@jupyter-widgets/controls",
      "model_module_version": "2.0.0",
      "model_name": "HTMLStyleModel",
      "state": {
       "_model_module": "@jupyter-widgets/controls",
       "_model_name": "HTMLStyleModel",
       "_view_name": "ErrorWidgetView",
       "background": null,
       "description_width": "",
       "error": {
        "message": "Loading chunk 202 failed.\n(error: http://192.168.3.2:9900/lab/extensions/@jupyter-widgets/jupyterlab-manager/static/202.0336063976910618ce3f.js?v=0336063976910618ce3f)",
        "name": "ChunkLoadError",
        "request": "http://192.168.3.2:9900/lab/extensions/@jupyter-widgets/jupyterlab-manager/static/202.0336063976910618ce3f.js?v=0336063976910618ce3f",
        "type": "error"
       },
       "font_size": null,
       "msg": "Failed to load model class 'HTMLStyleModel' from module '@jupyter-widgets/controls'",
       "text_color": null
      }
     },
     "d8d4214808804e98971d127e7e9c1468": {
      "model_module": "@jupyter-widgets/base",
      "model_module_version": "2.0.0",
      "model_name": "LayoutModel",
      "state": {}
     },
     "d8f6f7cc0938429d804fca682cb13efc": {
      "model_module": "@jupyter-widgets/controls",
      "model_module_version": "2.0.0",
      "model_name": "ProgressStyleModel",
      "state": {
       "_model_module": "@jupyter-widgets/controls",
       "_model_name": "ProgressStyleModel",
       "_view_name": "ErrorWidgetView",
       "bar_color": null,
       "description_width": "",
       "error": {
        "message": "Loading chunk 202 failed.\n(error: http://192.168.3.2:9900/lab/extensions/@jupyter-widgets/jupyterlab-manager/static/202.0336063976910618ce3f.js?v=0336063976910618ce3f)",
        "name": "ChunkLoadError",
        "request": "http://192.168.3.2:9900/lab/extensions/@jupyter-widgets/jupyterlab-manager/static/202.0336063976910618ce3f.js?v=0336063976910618ce3f",
        "type": "error"
       },
       "msg": "Failed to load model class 'ProgressStyleModel' from module '@jupyter-widgets/controls'"
      }
     },
     "d9624153c56e4cb8b8abad48e0480a15": {
      "model_module": "@jupyter-widgets/controls",
      "model_module_version": "2.0.0",
      "model_name": "FloatProgressModel",
      "state": {
       "_model_module": "@jupyter-widgets/controls",
       "_model_name": "FloatProgressModel",
       "_view_name": "ErrorWidgetView",
       "bar_style": "success",
       "description": "",
       "description_allow_html": false,
       "error": {
        "message": "Loading chunk 495 failed.\n(error: http://192.168.3.2:9900/lab/extensions/@jupyter-widgets/jupyterlab-manager/static/495.3e275af54861cdeb3e75.js?v=3e275af54861cdeb3e75)",
        "name": "ChunkLoadError",
        "request": "http://192.168.3.2:9900/lab/extensions/@jupyter-widgets/jupyterlab-manager/static/495.3e275af54861cdeb3e75.js?v=3e275af54861cdeb3e75",
        "type": "error"
       },
       "layout": "IPY_MODEL_0a0a820cdfac4b21ab5cbcf0a7c8b930",
       "max": 791656,
       "min": 0,
       "msg": "Failed to load model class 'FloatProgressModel' from module '@jupyter-widgets/controls'",
       "orientation": "horizontal",
       "style": "IPY_MODEL_2ff0f4c36e92490cba78d54f794be048",
       "value": 791656
      }
     },
     "d974de9973f84411a644ab04bde0e1a6": {
      "model_module": "@jupyter-widgets/controls",
      "model_module_version": "2.0.0",
      "model_name": "HTMLStyleModel",
      "state": {
       "_model_module": "@jupyter-widgets/controls",
       "_model_name": "HTMLStyleModel",
       "_view_name": "ErrorWidgetView",
       "background": null,
       "description_width": "",
       "error": {
        "message": "Loading chunk 202 failed.\n(error: http://192.168.3.2:9900/lab/extensions/@jupyter-widgets/jupyterlab-manager/static/202.0336063976910618ce3f.js?v=0336063976910618ce3f)",
        "name": "ChunkLoadError",
        "request": "http://192.168.3.2:9900/lab/extensions/@jupyter-widgets/jupyterlab-manager/static/202.0336063976910618ce3f.js?v=0336063976910618ce3f",
        "type": "error"
       },
       "font_size": null,
       "msg": "Failed to load model class 'HTMLStyleModel' from module '@jupyter-widgets/controls'",
       "text_color": null
      }
     },
     "d9b77b233968436791f2b5cbefcd1f58": {
      "model_module": "@jupyter-widgets/controls",
      "model_module_version": "2.0.0",
      "model_name": "HTMLModel",
      "state": {
       "_model_module": "@jupyter-widgets/controls",
       "_model_name": "HTMLModel",
       "_view_name": "ErrorWidgetView",
       "description": "",
       "description_allow_html": false,
       "error": {
        "message": "Loading chunk 495 failed.\n(error: http://192.168.3.2:9900/lab/extensions/@jupyter-widgets/jupyterlab-manager/static/495.3e275af54861cdeb3e75.js?v=3e275af54861cdeb3e75)",
        "name": "ChunkLoadError",
        "request": "http://192.168.3.2:9900/lab/extensions/@jupyter-widgets/jupyterlab-manager/static/495.3e275af54861cdeb3e75.js?v=3e275af54861cdeb3e75",
        "type": "error"
       },
       "layout": "IPY_MODEL_dfdb5bffa33948c6a08a952addf52fd1",
       "msg": "Failed to load model class 'HTMLModel' from module '@jupyter-widgets/controls'",
       "placeholder": "​",
       "style": "IPY_MODEL_e9b929e712684ae1b47f23aafbb180e0",
       "value": " 1.21k/? [00:00&lt;00:00, 74.4kB/s]"
      }
     },
     "d9cb5657883c4d3587e702f823116673": {
      "model_module": "@jupyter-widgets/controls",
      "model_module_version": "2.0.0",
      "model_name": "ProgressStyleModel",
      "state": {
       "_model_module": "@jupyter-widgets/controls",
       "_model_name": "ProgressStyleModel",
       "_view_name": "ErrorWidgetView",
       "bar_color": null,
       "description_width": "",
       "error": {
        "message": "Loading chunk 202 failed.\n(error: http://192.168.3.2:9900/lab/extensions/@jupyter-widgets/jupyterlab-manager/static/202.0336063976910618ce3f.js?v=0336063976910618ce3f)",
        "name": "ChunkLoadError",
        "request": "http://192.168.3.2:9900/lab/extensions/@jupyter-widgets/jupyterlab-manager/static/202.0336063976910618ce3f.js?v=0336063976910618ce3f",
        "type": "error"
       },
       "msg": "Failed to load model class 'ProgressStyleModel' from module '@jupyter-widgets/controls'"
      }
     },
     "d9cd27c40d044779ae902db4fa4d0370": {
      "model_module": "@jupyter-widgets/controls",
      "model_module_version": "2.0.0",
      "model_name": "HTMLStyleModel",
      "state": {
       "_model_module": "@jupyter-widgets/controls",
       "_model_name": "HTMLStyleModel",
       "_view_name": "ErrorWidgetView",
       "background": null,
       "description_width": "",
       "error": {
        "message": "Loading chunk 495 failed.\n(error: http://192.168.3.2:9900/lab/extensions/@jupyter-widgets/jupyterlab-manager/static/495.3e275af54861cdeb3e75.js?v=3e275af54861cdeb3e75)",
        "name": "ChunkLoadError",
        "request": "http://192.168.3.2:9900/lab/extensions/@jupyter-widgets/jupyterlab-manager/static/495.3e275af54861cdeb3e75.js?v=3e275af54861cdeb3e75",
        "type": "error"
       },
       "font_size": null,
       "msg": "Failed to load model class 'HTMLStyleModel' from module '@jupyter-widgets/controls'",
       "text_color": null
      }
     },
     "d9d03011da244d8aaf7b336b523f3283": {
      "model_module": "@jupyter-widgets/controls",
      "model_module_version": "2.0.0",
      "model_name": "HTMLStyleModel",
      "state": {
       "_model_module": "@jupyter-widgets/controls",
       "_model_name": "HTMLStyleModel",
       "_view_name": "ErrorWidgetView",
       "background": null,
       "description_width": "",
       "error": {
        "message": "Loading chunk 495 failed.\n(error: http://192.168.3.2:9900/lab/extensions/@jupyter-widgets/jupyterlab-manager/static/495.3e275af54861cdeb3e75.js?v=3e275af54861cdeb3e75)",
        "name": "ChunkLoadError",
        "request": "http://192.168.3.2:9900/lab/extensions/@jupyter-widgets/jupyterlab-manager/static/495.3e275af54861cdeb3e75.js?v=3e275af54861cdeb3e75",
        "type": "error"
       },
       "font_size": null,
       "msg": "Failed to load model class 'HTMLStyleModel' from module '@jupyter-widgets/controls'",
       "text_color": null
      }
     },
     "d9e8c5b00f9c4dd7aea6fe1936138fea": {
      "model_module": "@jupyter-widgets/controls",
      "model_module_version": "2.0.0",
      "model_name": "FloatProgressModel",
      "state": {
       "_model_module": "@jupyter-widgets/controls",
       "_model_name": "FloatProgressModel",
       "_view_name": "ErrorWidgetView",
       "bar_style": "success",
       "description": "",
       "description_allow_html": false,
       "error": {
        "message": "Loading chunk 495 failed.\n(error: http://192.168.3.2:9900/lab/extensions/@jupyter-widgets/jupyterlab-manager/static/495.3e275af54861cdeb3e75.js?v=3e275af54861cdeb3e75)",
        "name": "ChunkLoadError",
        "request": "http://192.168.3.2:9900/lab/extensions/@jupyter-widgets/jupyterlab-manager/static/495.3e275af54861cdeb3e75.js?v=3e275af54861cdeb3e75",
        "type": "error"
       },
       "layout": "IPY_MODEL_fc8b84ca663d4e0fbd83bfea77126742",
       "max": 1,
       "min": 0,
       "msg": "Failed to load model class 'FloatProgressModel' from module '@jupyter-widgets/controls'",
       "orientation": "horizontal",
       "style": "IPY_MODEL_e8eda2c566e5450f8f69fe4286e90cb0",
       "value": 1
      }
     },
     "da7dd612da8c4e26a2c547bfa580d977": {
      "model_module": "@jupyter-widgets/controls",
      "model_module_version": "2.0.0",
      "model_name": "HTMLModel",
      "state": {
       "_model_module": "@jupyter-widgets/controls",
       "_model_name": "HTMLModel",
       "_view_name": "ErrorWidgetView",
       "description": "",
       "description_allow_html": false,
       "error": {
        "message": "Loading chunk 495 failed.\n(error: http://192.168.3.2:9900/lab/extensions/@jupyter-widgets/jupyterlab-manager/static/495.3e275af54861cdeb3e75.js?v=3e275af54861cdeb3e75)",
        "name": "ChunkLoadError",
        "request": "http://192.168.3.2:9900/lab/extensions/@jupyter-widgets/jupyterlab-manager/static/495.3e275af54861cdeb3e75.js?v=3e275af54861cdeb3e75",
        "type": "error"
       },
       "layout": "IPY_MODEL_a643710ab2314bedbde155cb61e82301",
       "msg": "Failed to load model class 'HTMLModel' from module '@jupyter-widgets/controls'",
       "placeholder": "​",
       "style": "IPY_MODEL_457bb6ab48eb43218f0f8ff1f602ef30",
       "value": " 792k/792k [00:00&lt;00:00, 1.51MB/s]"
      }
     },
     "da87291aa9574d80bc3d7e5601776450": {
      "model_module": "@jupyter-widgets/controls",
      "model_module_version": "2.0.0",
      "model_name": "HBoxModel",
      "state": {
       "_model_module": "@jupyter-widgets/controls",
       "_model_name": "HBoxModel",
       "_view_name": "ErrorWidgetView",
       "box_style": "",
       "children": [
        "IPY_MODEL_d0d1aa63a8e248e28dc5e1acf9ef7ac7",
        "IPY_MODEL_41bfd78f6b994ee583d901a6dab64178",
        "IPY_MODEL_87eb15d6092842bbbbcafd11949faa95"
       ],
       "error": {
        "message": "Loading chunk 202 failed.\n(error: http://192.168.3.2:9900/lab/extensions/@jupyter-widgets/jupyterlab-manager/static/202.0336063976910618ce3f.js?v=0336063976910618ce3f)",
        "name": "ChunkLoadError",
        "request": "http://192.168.3.2:9900/lab/extensions/@jupyter-widgets/jupyterlab-manager/static/202.0336063976910618ce3f.js?v=0336063976910618ce3f",
        "type": "error"
       },
       "layout": "IPY_MODEL_9f96f2d83e1d42c6ae0da70397598c50",
       "msg": "Failed to load model class 'HBoxModel' from module '@jupyter-widgets/controls'"
      }
     },
     "dad940fe138a4d4ca0af7e38146e4323": {
      "model_module": "@jupyter-widgets/controls",
      "model_module_version": "2.0.0",
      "model_name": "HTMLModel",
      "state": {
       "_model_module": "@jupyter-widgets/controls",
       "_model_name": "HTMLModel",
       "_view_name": "ErrorWidgetView",
       "description": "",
       "description_allow_html": false,
       "error": {
        "message": "Loading chunk 495 failed.\n(error: http://192.168.3.2:9900/lab/extensions/@jupyter-widgets/jupyterlab-manager/static/495.3e275af54861cdeb3e75.js?v=3e275af54861cdeb3e75)",
        "name": "ChunkLoadError",
        "request": "http://192.168.3.2:9900/lab/extensions/@jupyter-widgets/jupyterlab-manager/static/495.3e275af54861cdeb3e75.js?v=3e275af54861cdeb3e75",
        "type": "error"
       },
       "layout": "IPY_MODEL_9665bec849134f4eae82fff2d2a4b62a",
       "msg": "Failed to load model class 'HTMLModel' from module '@jupyter-widgets/controls'",
       "placeholder": "​",
       "style": "IPY_MODEL_2caa55a539b349f0857d839ef05b0772",
       "value": " 929/? [00:00&lt;00:00, 59.6kB/s]"
      }
     },
     "daf4a1542b984676b9e074bc235c6c0b": {
      "model_module": "@jupyter-widgets/controls",
      "model_module_version": "2.0.0",
      "model_name": "HTMLModel",
      "state": {
       "_model_module": "@jupyter-widgets/controls",
       "_model_name": "HTMLModel",
       "_view_name": "ErrorWidgetView",
       "description": "",
       "description_allow_html": false,
       "error": {
        "message": "Loading chunk 202 failed.\n(error: http://192.168.3.2:9900/lab/extensions/@jupyter-widgets/jupyterlab-manager/static/202.0336063976910618ce3f.js?v=0336063976910618ce3f)",
        "name": "ChunkLoadError",
        "request": "http://192.168.3.2:9900/lab/extensions/@jupyter-widgets/jupyterlab-manager/static/202.0336063976910618ce3f.js?v=0336063976910618ce3f",
        "type": "error"
       },
       "layout": "IPY_MODEL_7eaf5f2e11844a6fb01f899b584ff948",
       "msg": "Failed to load model class 'HTMLModel' from module '@jupyter-widgets/controls'",
       "placeholder": "​",
       "style": "IPY_MODEL_4672fb7b324f40628c594710930be332",
       "value": "spiece.model: 100%"
      }
     },
     "daf84082c1704f16b9e1270223359394": {
      "model_module": "@jupyter-widgets/controls",
      "model_module_version": "2.0.0",
      "model_name": "FloatProgressModel",
      "state": {
       "_model_module": "@jupyter-widgets/controls",
       "_model_name": "FloatProgressModel",
       "_view_name": "ErrorWidgetView",
       "bar_style": "success",
       "description": "",
       "description_allow_html": false,
       "error": {
        "message": "Loading chunk 495 failed.\n(error: http://192.168.3.2:9900/lab/extensions/@jupyter-widgets/jupyterlab-manager/static/495.3e275af54861cdeb3e75.js?v=3e275af54861cdeb3e75)",
        "name": "ChunkLoadError",
        "request": "http://192.168.3.2:9900/lab/extensions/@jupyter-widgets/jupyterlab-manager/static/495.3e275af54861cdeb3e75.js?v=3e275af54861cdeb3e75",
        "type": "error"
       },
       "layout": "IPY_MODEL_6c2cb875b5984f68815854818c8157c3",
       "max": 501045531,
       "min": 0,
       "msg": "Failed to load model class 'FloatProgressModel' from module '@jupyter-widgets/controls'",
       "orientation": "horizontal",
       "style": "IPY_MODEL_bec0915cafcb469c80a5948c684269ea",
       "value": 501045531
      }
     },
     "db1f7060eae0410085279d4b839cbe5e": {
      "model_module": "@jupyter-widgets/controls",
      "model_module_version": "2.0.0",
      "model_name": "HTMLStyleModel",
      "state": {
       "_model_module": "@jupyter-widgets/controls",
       "_model_name": "HTMLStyleModel",
       "_view_name": "ErrorWidgetView",
       "background": null,
       "description_width": "",
       "error": {
        "message": "Loading chunk 202 failed.\n(error: http://192.168.3.2:9900/lab/extensions/@jupyter-widgets/jupyterlab-manager/static/202.0336063976910618ce3f.js?v=0336063976910618ce3f)",
        "name": "ChunkLoadError",
        "request": "http://192.168.3.2:9900/lab/extensions/@jupyter-widgets/jupyterlab-manager/static/202.0336063976910618ce3f.js?v=0336063976910618ce3f",
        "type": "error"
       },
       "font_size": null,
       "msg": "Failed to load model class 'HTMLStyleModel' from module '@jupyter-widgets/controls'",
       "text_color": null
      }
     },
     "db272c722e5e4c8392fd328f18106742": {
      "model_module": "@jupyter-widgets/base",
      "model_module_version": "2.0.0",
      "model_name": "LayoutModel",
      "state": {
       "width": "20px"
      }
     },
     "dbaf01c0d2ff449d9ea63a926e4d77bb": {
      "model_module": "@jupyter-widgets/controls",
      "model_module_version": "2.0.0",
      "model_name": "HTMLModel",
      "state": {
       "_model_module": "@jupyter-widgets/controls",
       "_model_name": "HTMLModel",
       "_view_name": "ErrorWidgetView",
       "description": "",
       "description_allow_html": false,
       "error": {
        "message": "Loading chunk 495 failed.\n(error: http://192.168.3.2:9900/lab/extensions/@jupyter-widgets/jupyterlab-manager/static/495.3e275af54861cdeb3e75.js?v=3e275af54861cdeb3e75)",
        "name": "ChunkLoadError",
        "request": "http://192.168.3.2:9900/lab/extensions/@jupyter-widgets/jupyterlab-manager/static/495.3e275af54861cdeb3e75.js?v=3e275af54861cdeb3e75",
        "type": "error"
       },
       "layout": "IPY_MODEL_8b6c7ef3ef4044539a95604abf53fc4f",
       "msg": "Failed to load model class 'HTMLModel' from module '@jupyter-widgets/controls'",
       "placeholder": "​",
       "style": "IPY_MODEL_e744740100ea411b865febdcb1155e40",
       "value": " 102M/102M [00:02&lt;00:00, 47.9MB/s]"
      }
     },
     "dc6afd7da1da4b9893a8bba3fc733c57": {
      "model_module": "@jupyter-widgets/controls",
      "model_module_version": "2.0.0",
      "model_name": "FloatProgressModel",
      "state": {
       "_model_module": "@jupyter-widgets/controls",
       "_model_name": "FloatProgressModel",
       "_view_name": "ErrorWidgetView",
       "bar_style": "success",
       "description": "",
       "description_allow_html": false,
       "error": {
        "message": "Loading chunk 202 failed.\n(error: http://192.168.3.2:9900/lab/extensions/@jupyter-widgets/jupyterlab-manager/static/202.0336063976910618ce3f.js?v=0336063976910618ce3f)",
        "name": "ChunkLoadError",
        "request": "http://192.168.3.2:9900/lab/extensions/@jupyter-widgets/jupyterlab-manager/static/202.0336063976910618ce3f.js?v=0336063976910618ce3f",
        "type": "error"
       },
       "layout": "IPY_MODEL_3b5a48c3f93d4d048d6e60e2d8496be6",
       "max": 791656,
       "min": 0,
       "msg": "Failed to load model class 'FloatProgressModel' from module '@jupyter-widgets/controls'",
       "orientation": "horizontal",
       "style": "IPY_MODEL_bd7e8092ea26464f903be8f4c523e613",
       "value": 791656
      }
     },
     "dd100d5399f6487aaaefae4863bcd4b7": {
      "model_module": "@jupyter-widgets/controls",
      "model_module_version": "2.0.0",
      "model_name": "HTMLStyleModel",
      "state": {
       "_model_module": "@jupyter-widgets/controls",
       "_model_name": "HTMLStyleModel",
       "_view_name": "ErrorWidgetView",
       "background": null,
       "description_width": "",
       "error": {
        "message": "Loading chunk 202 failed.\n(error: http://192.168.3.2:9900/lab/extensions/@jupyter-widgets/jupyterlab-manager/static/202.0336063976910618ce3f.js?v=0336063976910618ce3f)",
        "name": "ChunkLoadError",
        "request": "http://192.168.3.2:9900/lab/extensions/@jupyter-widgets/jupyterlab-manager/static/202.0336063976910618ce3f.js?v=0336063976910618ce3f",
        "type": "error"
       },
       "font_size": null,
       "msg": "Failed to load model class 'HTMLStyleModel' from module '@jupyter-widgets/controls'",
       "text_color": null
      }
     },
     "dd40f5b1fec94acabfa2accf08a2b84d": {
      "model_module": "@jupyter-widgets/controls",
      "model_module_version": "2.0.0",
      "model_name": "ProgressStyleModel",
      "state": {
       "_model_module": "@jupyter-widgets/controls",
       "_model_name": "ProgressStyleModel",
       "_view_name": "ErrorWidgetView",
       "bar_color": null,
       "description_width": "",
       "error": {
        "message": "Loading chunk 202 failed.\n(error: http://192.168.3.2:9900/lab/extensions/@jupyter-widgets/jupyterlab-manager/static/202.0336063976910618ce3f.js?v=0336063976910618ce3f)",
        "name": "ChunkLoadError",
        "request": "http://192.168.3.2:9900/lab/extensions/@jupyter-widgets/jupyterlab-manager/static/202.0336063976910618ce3f.js?v=0336063976910618ce3f",
        "type": "error"
       },
       "msg": "Failed to load model class 'ProgressStyleModel' from module '@jupyter-widgets/controls'"
      }
     },
     "dd6ca38a8c224da9b0e5b3393e4e4dca": {
      "model_module": "@jupyter-widgets/base",
      "model_module_version": "2.0.0",
      "model_name": "LayoutModel",
      "state": {
       "width": "20px"
      }
     },
     "ddc7c30dbccc49b8baea00134036cc71": {
      "model_module": "@jupyter-widgets/controls",
      "model_module_version": "2.0.0",
      "model_name": "HBoxModel",
      "state": {
       "_model_module": "@jupyter-widgets/controls",
       "_model_name": "HBoxModel",
       "_view_name": "ErrorWidgetView",
       "box_style": "",
       "children": [
        "IPY_MODEL_bbfaed6dc2c4458c8746007ccc3298ac",
        "IPY_MODEL_68f54ca28dc04b9c8016dc36233c0042",
        "IPY_MODEL_79e05d3e308c48cda5c9c92eaaf0ff94"
       ],
       "error": {
        "message": "Loading chunk 202 failed.\n(error: http://192.168.3.2:9900/lab/extensions/@jupyter-widgets/jupyterlab-manager/static/202.0336063976910618ce3f.js?v=0336063976910618ce3f)",
        "name": "ChunkLoadError",
        "request": "http://192.168.3.2:9900/lab/extensions/@jupyter-widgets/jupyterlab-manager/static/202.0336063976910618ce3f.js?v=0336063976910618ce3f",
        "type": "error"
       },
       "layout": "IPY_MODEL_a4c3f51c04024910b6dbf1d5b8f1266c",
       "msg": "Failed to load model class 'HBoxModel' from module '@jupyter-widgets/controls'"
      }
     },
     "ddf549ee22d8451d9c5e2dadbfcba6fb": {
      "model_module": "@jupyter-widgets/controls",
      "model_module_version": "2.0.0",
      "model_name": "FloatProgressModel",
      "state": {
       "_model_module": "@jupyter-widgets/controls",
       "_model_name": "FloatProgressModel",
       "_view_name": "ErrorWidgetView",
       "bar_style": "success",
       "description": "",
       "description_allow_html": false,
       "error": {
        "message": "Loading chunk 202 failed.\n(error: http://192.168.3.2:9900/lab/extensions/@jupyter-widgets/jupyterlab-manager/static/202.0336063976910618ce3f.js?v=0336063976910618ce3f)",
        "name": "ChunkLoadError",
        "request": "http://192.168.3.2:9900/lab/extensions/@jupyter-widgets/jupyterlab-manager/static/202.0336063976910618ce3f.js?v=0336063976910618ce3f",
        "type": "error"
       },
       "layout": "IPY_MODEL_268e2c2c4003488a972d08571997b102",
       "max": 102469840,
       "min": 0,
       "msg": "Failed to load model class 'FloatProgressModel' from module '@jupyter-widgets/controls'",
       "orientation": "horizontal",
       "style": "IPY_MODEL_ef1b73e51b274ddba701dfc01111dedf",
       "value": 102469840
      }
     },
     "de617d3a9cd04666bef30ca3ba36dda0": {
      "model_module": "@jupyter-widgets/base",
      "model_module_version": "2.0.0",
      "model_name": "LayoutModel",
      "state": {}
     },
     "debec73a473b4fa8b73a77b808eab294": {
      "model_module": "@jupyter-widgets/controls",
      "model_module_version": "2.0.0",
      "model_name": "HTMLModel",
      "state": {
       "_model_module": "@jupyter-widgets/controls",
       "_model_name": "HTMLModel",
       "_view_name": "ErrorWidgetView",
       "description": "",
       "description_allow_html": false,
       "error": {
        "message": "Loading chunk 202 failed.\n(error: http://192.168.3.2:9900/lab/extensions/@jupyter-widgets/jupyterlab-manager/static/202.0336063976910618ce3f.js?v=0336063976910618ce3f)",
        "name": "ChunkLoadError",
        "request": "http://192.168.3.2:9900/lab/extensions/@jupyter-widgets/jupyterlab-manager/static/202.0336063976910618ce3f.js?v=0336063976910618ce3f",
        "type": "error"
       },
       "layout": "IPY_MODEL_d8d4214808804e98971d127e7e9c1468",
       "msg": "Failed to load model class 'HTMLModel' from module '@jupyter-widgets/controls'",
       "placeholder": "​",
       "style": "IPY_MODEL_f610e64919214f61a16c8a03b895422c",
       "value": " 548M/548M [00:12&lt;00:00, 50.1MB/s]"
      }
     },
     "dec7833896cb4f5fb37508158bbd029e": {
      "model_module": "@jupyter-widgets/controls",
      "model_module_version": "2.0.0",
      "model_name": "HTMLStyleModel",
      "state": {
       "_model_module": "@jupyter-widgets/controls",
       "_model_name": "HTMLStyleModel",
       "_view_name": "ErrorWidgetView",
       "background": null,
       "description_width": "",
       "error": {
        "message": "Loading chunk 202 failed.\n(error: http://192.168.3.2:9900/lab/extensions/@jupyter-widgets/jupyterlab-manager/static/202.0336063976910618ce3f.js?v=0336063976910618ce3f)",
        "name": "ChunkLoadError",
        "request": "http://192.168.3.2:9900/lab/extensions/@jupyter-widgets/jupyterlab-manager/static/202.0336063976910618ce3f.js?v=0336063976910618ce3f",
        "type": "error"
       },
       "font_size": null,
       "msg": "Failed to load model class 'HTMLStyleModel' from module '@jupyter-widgets/controls'",
       "text_color": null
      }
     },
     "dede6ea452984f449f276b522abaf648": {
      "model_module": "@jupyter-widgets/controls",
      "model_module_version": "2.0.0",
      "model_name": "HTMLModel",
      "state": {
       "_model_module": "@jupyter-widgets/controls",
       "_model_name": "HTMLModel",
       "_view_name": "ErrorWidgetView",
       "description": "",
       "description_allow_html": false,
       "error": {
        "message": "Loading chunk 495 failed.\n(error: http://192.168.3.2:9900/lab/extensions/@jupyter-widgets/jupyterlab-manager/static/495.3e275af54861cdeb3e75.js?v=3e275af54861cdeb3e75)",
        "name": "ChunkLoadError",
        "request": "http://192.168.3.2:9900/lab/extensions/@jupyter-widgets/jupyterlab-manager/static/495.3e275af54861cdeb3e75.js?v=3e275af54861cdeb3e75",
        "type": "error"
       },
       "layout": "IPY_MODEL_925281e465f84456a5540d133c2721e1",
       "msg": "Failed to load model class 'HTMLModel' from module '@jupyter-widgets/controls'",
       "placeholder": "​",
       "style": "IPY_MODEL_60c6a3d979dd4814b457d1311f40f668",
       "value": " 49.0/49.0 [00:00&lt;00:00, 3.18kB/s]"
      }
     },
     "df98c0f873bd471e964e7b8c8a67805e": {
      "model_module": "@jupyter-widgets/base",
      "model_module_version": "2.0.0",
      "model_name": "LayoutModel",
      "state": {}
     },
     "dfdb5bffa33948c6a08a952addf52fd1": {
      "model_module": "@jupyter-widgets/base",
      "model_module_version": "2.0.0",
      "model_name": "LayoutModel",
      "state": {}
     },
     "dffbbcdc737b4032992bf272a0345809": {
      "model_module": "@jupyter-widgets/controls",
      "model_module_version": "2.0.0",
      "model_name": "HBoxModel",
      "state": {
       "_model_module": "@jupyter-widgets/controls",
       "_model_name": "HBoxModel",
       "_view_name": "ErrorWidgetView",
       "box_style": "",
       "children": [
        "IPY_MODEL_e07c9cd09fe54306864ce541cfd002f3",
        "IPY_MODEL_ff75f54e7e544374b800087d5ef5dd2d",
        "IPY_MODEL_ef51fd28c4d54ec997006e818097d159"
       ],
       "error": {
        "message": "Loading chunk 202 failed.\n(error: http://192.168.3.2:9900/lab/extensions/@jupyter-widgets/jupyterlab-manager/static/202.0336063976910618ce3f.js?v=0336063976910618ce3f)",
        "name": "ChunkLoadError",
        "request": "http://192.168.3.2:9900/lab/extensions/@jupyter-widgets/jupyterlab-manager/static/202.0336063976910618ce3f.js?v=0336063976910618ce3f",
        "type": "error"
       },
       "layout": "IPY_MODEL_3624837e472f4e2d981489d4ead21113",
       "msg": "Failed to load model class 'HBoxModel' from module '@jupyter-widgets/controls'"
      }
     },
     "e00528faf2a64304b71a7e555d103ba3": {
      "model_module": "@jupyter-widgets/base",
      "model_module_version": "2.0.0",
      "model_name": "LayoutModel",
      "state": {}
     },
     "e07c9cd09fe54306864ce541cfd002f3": {
      "model_module": "@jupyter-widgets/controls",
      "model_module_version": "2.0.0",
      "model_name": "HTMLModel",
      "state": {
       "_model_module": "@jupyter-widgets/controls",
       "_model_name": "HTMLModel",
       "_view_name": "ErrorWidgetView",
       "description": "",
       "description_allow_html": false,
       "error": {
        "message": "Loading chunk 495 failed.\n(error: http://192.168.3.2:9900/lab/extensions/@jupyter-widgets/jupyterlab-manager/static/495.3e275af54861cdeb3e75.js?v=3e275af54861cdeb3e75)",
        "name": "ChunkLoadError",
        "request": "http://192.168.3.2:9900/lab/extensions/@jupyter-widgets/jupyterlab-manager/static/495.3e275af54861cdeb3e75.js?v=3e275af54861cdeb3e75",
        "type": "error"
       },
       "layout": "IPY_MODEL_665088e6e9504ca69918f255b14fe3f7",
       "msg": "Failed to load model class 'HTMLModel' from module '@jupyter-widgets/controls'",
       "placeholder": "​",
       "style": "IPY_MODEL_54fdbd28b0ff4d8592b780b431c7d49c",
       "value": "model.safetensors: 100%"
      }
     },
     "e0e635ff333b4679ae57f0815075acb4": {
      "model_module": "@jupyter-widgets/controls",
      "model_module_version": "2.0.0",
      "model_name": "HTMLModel",
      "state": {
       "_model_module": "@jupyter-widgets/controls",
       "_model_name": "HTMLModel",
       "_view_name": "ErrorWidgetView",
       "description": "",
       "description_allow_html": false,
       "error": {
        "message": "Loading chunk 495 failed.\n(error: http://192.168.3.2:9900/lab/extensions/@jupyter-widgets/jupyterlab-manager/static/495.3e275af54861cdeb3e75.js?v=3e275af54861cdeb3e75)",
        "name": "ChunkLoadError",
        "request": "http://192.168.3.2:9900/lab/extensions/@jupyter-widgets/jupyterlab-manager/static/495.3e275af54861cdeb3e75.js?v=3e275af54861cdeb3e75",
        "type": "error"
       },
       "layout": "IPY_MODEL_e3882887d5894091a4947136c0677418",
       "msg": "Failed to load model class 'HTMLModel' from module '@jupyter-widgets/controls'",
       "placeholder": "​",
       "style": "IPY_MODEL_8ffa6b922c9246839000f005b9c24d10",
       "value": " 949/? [00:00&lt;00:00, 52.7kB/s]"
      }
     },
     "e10fc20495614983858c8d37433d7613": {
      "model_module": "@jupyter-widgets/controls",
      "model_module_version": "2.0.0",
      "model_name": "HBoxModel",
      "state": {
       "_model_module": "@jupyter-widgets/controls",
       "_model_name": "HBoxModel",
       "_view_name": "ErrorWidgetView",
       "box_style": "",
       "children": [
        "IPY_MODEL_854ca8bc14c24d3cbc4e5dff9f909084",
        "IPY_MODEL_662924ce6b48460bb9474bb0cc7cdd13",
        "IPY_MODEL_b74afc012db241738b16d88b29fdfc74"
       ],
       "error": {
        "message": "Loading chunk 202 failed.\n(error: http://192.168.3.2:9900/lab/extensions/@jupyter-widgets/jupyterlab-manager/static/202.0336063976910618ce3f.js?v=0336063976910618ce3f)",
        "name": "ChunkLoadError",
        "request": "http://192.168.3.2:9900/lab/extensions/@jupyter-widgets/jupyterlab-manager/static/202.0336063976910618ce3f.js?v=0336063976910618ce3f",
        "type": "error"
       },
       "layout": "IPY_MODEL_4c9099fe005346e69f3b418429cf25b5",
       "msg": "Failed to load model class 'HBoxModel' from module '@jupyter-widgets/controls'"
      }
     },
     "e1354d7a14e248cc9ebc2502d2621d4d": {
      "model_module": "@jupyter-widgets/controls",
      "model_module_version": "2.0.0",
      "model_name": "ProgressStyleModel",
      "state": {
       "_model_module": "@jupyter-widgets/controls",
       "_model_name": "ProgressStyleModel",
       "_view_name": "ErrorWidgetView",
       "bar_color": null,
       "description_width": "",
       "error": {
        "message": "Loading chunk 202 failed.\n(error: http://192.168.3.2:9900/lab/extensions/@jupyter-widgets/jupyterlab-manager/static/202.0336063976910618ce3f.js?v=0336063976910618ce3f)",
        "name": "ChunkLoadError",
        "request": "http://192.168.3.2:9900/lab/extensions/@jupyter-widgets/jupyterlab-manager/static/202.0336063976910618ce3f.js?v=0336063976910618ce3f",
        "type": "error"
       },
       "msg": "Failed to load model class 'ProgressStyleModel' from module '@jupyter-widgets/controls'"
      }
     },
     "e1436732f5e2404198d791248aea827f": {
      "model_module": "@jupyter-widgets/controls",
      "model_module_version": "2.0.0",
      "model_name": "HTMLModel",
      "state": {
       "_model_module": "@jupyter-widgets/controls",
       "_model_name": "HTMLModel",
       "_view_name": "ErrorWidgetView",
       "description": "",
       "description_allow_html": false,
       "error": {
        "message": "Loading chunk 495 failed.\n(error: http://192.168.3.2:9900/lab/extensions/@jupyter-widgets/jupyterlab-manager/static/495.3e275af54861cdeb3e75.js?v=3e275af54861cdeb3e75)",
        "name": "ChunkLoadError",
        "request": "http://192.168.3.2:9900/lab/extensions/@jupyter-widgets/jupyterlab-manager/static/495.3e275af54861cdeb3e75.js?v=3e275af54861cdeb3e75",
        "type": "error"
       },
       "layout": "IPY_MODEL_15f094ea44bd46708b54607b87e42569",
       "msg": "Failed to load model class 'HTMLModel' from module '@jupyter-widgets/controls'",
       "placeholder": "​",
       "style": "IPY_MODEL_38d78e7bca4449dbb3c5ca07f2fa8c75",
       "value": "tokenizer_config.json: 100%"
      }
     },
     "e18fcac961a04b7a9a61514be62a475f": {
      "model_module": "@jupyter-widgets/controls",
      "model_module_version": "2.0.0",
      "model_name": "HTMLModel",
      "state": {
       "_model_module": "@jupyter-widgets/controls",
       "_model_name": "HTMLModel",
       "_view_name": "ErrorWidgetView",
       "description": "",
       "description_allow_html": false,
       "error": {
        "message": "Loading chunk 495 failed.\n(error: http://192.168.3.2:9900/lab/extensions/@jupyter-widgets/jupyterlab-manager/static/495.3e275af54861cdeb3e75.js?v=3e275af54861cdeb3e75)",
        "name": "ChunkLoadError",
        "request": "http://192.168.3.2:9900/lab/extensions/@jupyter-widgets/jupyterlab-manager/static/495.3e275af54861cdeb3e75.js?v=3e275af54861cdeb3e75",
        "type": "error"
       },
       "layout": "IPY_MODEL_d24065d26f564d78800b0d9645863a42",
       "msg": "Failed to load model class 'HTMLModel' from module '@jupyter-widgets/controls'",
       "placeholder": "​",
       "style": "IPY_MODEL_74fdaccc4c3c47f5afb4fd91cb50fd79",
       "value": " 540M/540M [00:11&lt;00:00, 48.8MB/s]"
      }
     },
     "e22778258993460d8e84c3882fb8d16d": {
      "model_module": "@jupyter-widgets/controls",
      "model_module_version": "2.0.0",
      "model_name": "HBoxModel",
      "state": {
       "_model_module": "@jupyter-widgets/controls",
       "_model_name": "HBoxModel",
       "_view_name": "ErrorWidgetView",
       "box_style": "",
       "children": [
        "IPY_MODEL_f60813a7ecd74e2696ee72ed051ebdff",
        "IPY_MODEL_fa3208153c444113973cfd26ddb15249",
        "IPY_MODEL_1dda2748a0c143bd99d8bad6982d1c0c"
       ],
       "error": {
        "message": "Loading chunk 202 failed.\n(error: http://192.168.3.2:9900/lab/extensions/@jupyter-widgets/jupyterlab-manager/static/202.0336063976910618ce3f.js?v=0336063976910618ce3f)",
        "name": "ChunkLoadError",
        "request": "http://192.168.3.2:9900/lab/extensions/@jupyter-widgets/jupyterlab-manager/static/202.0336063976910618ce3f.js?v=0336063976910618ce3f",
        "type": "error"
       },
       "layout": "IPY_MODEL_aa602997848d4b1098607476c84b7c5d",
       "msg": "Failed to load model class 'HBoxModel' from module '@jupyter-widgets/controls'"
      }
     },
     "e2c3627332044acab0056bc58f7085ff": {
      "model_module": "@jupyter-widgets/base",
      "model_module_version": "2.0.0",
      "model_name": "LayoutModel",
      "state": {}
     },
     "e2c6b87dbf164f39ab6ab1761ea6e9e1": {
      "model_module": "@jupyter-widgets/controls",
      "model_module_version": "2.0.0",
      "model_name": "HBoxModel",
      "state": {
       "_model_module": "@jupyter-widgets/controls",
       "_model_name": "HBoxModel",
       "_view_name": "ErrorWidgetView",
       "box_style": "",
       "children": [
        "IPY_MODEL_260cb596a80a4c91a00779f94c8ba32c",
        "IPY_MODEL_cc96219080924f89a007b85a8fd8aba5",
        "IPY_MODEL_ce17bd1eaef2413896627219b1f76aa5"
       ],
       "error": {
        "message": "Loading chunk 202 failed.\n(error: http://192.168.3.2:9900/lab/extensions/@jupyter-widgets/jupyterlab-manager/static/202.0336063976910618ce3f.js?v=0336063976910618ce3f)",
        "name": "ChunkLoadError",
        "request": "http://192.168.3.2:9900/lab/extensions/@jupyter-widgets/jupyterlab-manager/static/202.0336063976910618ce3f.js?v=0336063976910618ce3f",
        "type": "error"
       },
       "layout": "IPY_MODEL_de617d3a9cd04666bef30ca3ba36dda0",
       "msg": "Failed to load model class 'HBoxModel' from module '@jupyter-widgets/controls'"
      }
     },
     "e3657fe4edf44bcb96576f0e854e92f2": {
      "model_module": "@jupyter-widgets/base",
      "model_module_version": "2.0.0",
      "model_name": "LayoutModel",
      "state": {}
     },
     "e3882887d5894091a4947136c0677418": {
      "model_module": "@jupyter-widgets/base",
      "model_module_version": "2.0.0",
      "model_name": "LayoutModel",
      "state": {}
     },
     "e3e0df6e4e25485c89cee06e55b22c74": {
      "model_module": "@jupyter-widgets/controls",
      "model_module_version": "2.0.0",
      "model_name": "HTMLStyleModel",
      "state": {
       "_model_module": "@jupyter-widgets/controls",
       "_model_name": "HTMLStyleModel",
       "_view_name": "ErrorWidgetView",
       "background": null,
       "description_width": "",
       "error": {
        "message": "Loading chunk 202 failed.\n(error: http://192.168.3.2:9900/lab/extensions/@jupyter-widgets/jupyterlab-manager/static/202.0336063976910618ce3f.js?v=0336063976910618ce3f)",
        "name": "ChunkLoadError",
        "request": "http://192.168.3.2:9900/lab/extensions/@jupyter-widgets/jupyterlab-manager/static/202.0336063976910618ce3f.js?v=0336063976910618ce3f",
        "type": "error"
       },
       "font_size": null,
       "msg": "Failed to load model class 'HTMLStyleModel' from module '@jupyter-widgets/controls'",
       "text_color": null
      }
     },
     "e3e59d1ff375456cafdbc271a0a6d5e5": {
      "model_module": "@jupyter-widgets/controls",
      "model_module_version": "2.0.0",
      "model_name": "HTMLStyleModel",
      "state": {
       "_model_module": "@jupyter-widgets/controls",
       "_model_name": "HTMLStyleModel",
       "_view_name": "ErrorWidgetView",
       "background": null,
       "description_width": "",
       "error": {
        "message": "Loading chunk 202 failed.\n(error: http://192.168.3.2:9900/lab/extensions/@jupyter-widgets/jupyterlab-manager/static/202.0336063976910618ce3f.js?v=0336063976910618ce3f)",
        "name": "ChunkLoadError",
        "request": "http://192.168.3.2:9900/lab/extensions/@jupyter-widgets/jupyterlab-manager/static/202.0336063976910618ce3f.js?v=0336063976910618ce3f",
        "type": "error"
       },
       "font_size": null,
       "msg": "Failed to load model class 'HTMLStyleModel' from module '@jupyter-widgets/controls'",
       "text_color": null
      }
     },
     "e4124ca834cc48e0a6512b39981863cf": {
      "model_module": "@jupyter-widgets/controls",
      "model_module_version": "2.0.0",
      "model_name": "HTMLModel",
      "state": {
       "_model_module": "@jupyter-widgets/controls",
       "_model_name": "HTMLModel",
       "_view_name": "ErrorWidgetView",
       "description": "",
       "description_allow_html": false,
       "error": {
        "message": "Loading chunk 495 failed.\n(error: http://192.168.3.2:9900/lab/extensions/@jupyter-widgets/jupyterlab-manager/static/495.3e275af54861cdeb3e75.js?v=3e275af54861cdeb3e75)",
        "name": "ChunkLoadError",
        "request": "http://192.168.3.2:9900/lab/extensions/@jupyter-widgets/jupyterlab-manager/static/495.3e275af54861cdeb3e75.js?v=3e275af54861cdeb3e75",
        "type": "error"
       },
       "layout": "IPY_MODEL_17d64bd97bbd49fb8877de231432e336",
       "msg": "Failed to load model class 'HTMLModel' from module '@jupyter-widgets/controls'",
       "placeholder": "​",
       "style": "IPY_MODEL_e3e0df6e4e25485c89cee06e55b22c74",
       "value": "preprocessor_config.json: "
      }
     },
     "e4784d6390e5470ea4be1fe26dbd5264": {
      "model_module": "@jupyter-widgets/controls",
      "model_module_version": "2.0.0",
      "model_name": "HTMLStyleModel",
      "state": {
       "_model_module": "@jupyter-widgets/controls",
       "_model_name": "HTMLStyleModel",
       "_view_name": "ErrorWidgetView",
       "background": null,
       "description_width": "",
       "error": {
        "message": "Loading chunk 495 failed.\n(error: http://192.168.3.2:9900/lab/extensions/@jupyter-widgets/jupyterlab-manager/static/495.3e275af54861cdeb3e75.js?v=3e275af54861cdeb3e75)",
        "name": "ChunkLoadError",
        "request": "http://192.168.3.2:9900/lab/extensions/@jupyter-widgets/jupyterlab-manager/static/495.3e275af54861cdeb3e75.js?v=3e275af54861cdeb3e75",
        "type": "error"
       },
       "font_size": null,
       "msg": "Failed to load model class 'HTMLStyleModel' from module '@jupyter-widgets/controls'",
       "text_color": null
      }
     },
     "e4d1880ad97c44e996cdbcc27bb7bd52": {
      "model_module": "@jupyter-widgets/base",
      "model_module_version": "2.0.0",
      "model_name": "LayoutModel",
      "state": {
       "width": "20px"
      }
     },
     "e4ead04597014447ad38eeb2cefa6372": {
      "model_module": "@jupyter-widgets/controls",
      "model_module_version": "2.0.0",
      "model_name": "HTMLModel",
      "state": {
       "_model_module": "@jupyter-widgets/controls",
       "_model_name": "HTMLModel",
       "_view_name": "ErrorWidgetView",
       "description": "",
       "description_allow_html": false,
       "error": {
        "message": "Loading chunk 202 failed.\n(error: http://192.168.3.2:9900/lab/extensions/@jupyter-widgets/jupyterlab-manager/static/202.0336063976910618ce3f.js?v=0336063976910618ce3f)",
        "name": "ChunkLoadError",
        "request": "http://192.168.3.2:9900/lab/extensions/@jupyter-widgets/jupyterlab-manager/static/202.0336063976910618ce3f.js?v=0336063976910618ce3f",
        "type": "error"
       },
       "layout": "IPY_MODEL_d253488ac4e740478483173a8086db98",
       "msg": "Failed to load model class 'HTMLModel' from module '@jupyter-widgets/controls'",
       "placeholder": "​",
       "style": "IPY_MODEL_c42fff6223cf43a790cb830c75a57c14",
       "value": "pytorch_model.bin: 100%"
      }
     },
     "e512606e1ca54529b54d2f4b1361a8a5": {
      "model_module": "@jupyter-widgets/controls",
      "model_module_version": "2.0.0",
      "model_name": "HTMLModel",
      "state": {
       "_model_module": "@jupyter-widgets/controls",
       "_model_name": "HTMLModel",
       "_view_name": "ErrorWidgetView",
       "description": "",
       "description_allow_html": false,
       "error": {
        "message": "Loading chunk 495 failed.\n(error: http://192.168.3.2:9900/lab/extensions/@jupyter-widgets/jupyterlab-manager/static/495.3e275af54861cdeb3e75.js?v=3e275af54861cdeb3e75)",
        "name": "ChunkLoadError",
        "request": "http://192.168.3.2:9900/lab/extensions/@jupyter-widgets/jupyterlab-manager/static/495.3e275af54861cdeb3e75.js?v=3e275af54861cdeb3e75",
        "type": "error"
       },
       "layout": "IPY_MODEL_3e9c1712f9d74f61b20cb0c38fe8de5e",
       "msg": "Failed to load model class 'HTMLModel' from module '@jupyter-widgets/controls'",
       "placeholder": "​",
       "style": "IPY_MODEL_42009f471ade4ac6a3b47c8c6b044602",
       "value": "pytorch_model.bin: 100%"
      }
     },
     "e5d66a9ddaee4717a05517d91ff3d60b": {
      "model_module": "@jupyter-widgets/base",
      "model_module_version": "2.0.0",
      "model_name": "LayoutModel",
      "state": {
       "width": "20px"
      }
     },
     "e5f46e8c32664ea992c4d217c347cea3": {
      "model_module": "@jupyter-widgets/base",
      "model_module_version": "2.0.0",
      "model_name": "LayoutModel",
      "state": {}
     },
     "e6ca55f92f484a268a419b521f28f966": {
      "model_module": "@jupyter-widgets/controls",
      "model_module_version": "2.0.0",
      "model_name": "HTMLStyleModel",
      "state": {
       "_model_module": "@jupyter-widgets/controls",
       "_model_name": "HTMLStyleModel",
       "_view_name": "ErrorWidgetView",
       "background": null,
       "description_width": "",
       "error": {
        "message": "Loading chunk 495 failed.\n(error: http://192.168.3.2:9900/lab/extensions/@jupyter-widgets/jupyterlab-manager/static/495.3e275af54861cdeb3e75.js?v=3e275af54861cdeb3e75)",
        "name": "ChunkLoadError",
        "request": "http://192.168.3.2:9900/lab/extensions/@jupyter-widgets/jupyterlab-manager/static/495.3e275af54861cdeb3e75.js?v=3e275af54861cdeb3e75",
        "type": "error"
       },
       "font_size": null,
       "msg": "Failed to load model class 'HTMLStyleModel' from module '@jupyter-widgets/controls'",
       "text_color": null
      }
     },
     "e73f840f9ba14e418938cd4bfb0d6564": {
      "model_module": "@jupyter-widgets/controls",
      "model_module_version": "2.0.0",
      "model_name": "ProgressStyleModel",
      "state": {
       "_model_module": "@jupyter-widgets/controls",
       "_model_name": "ProgressStyleModel",
       "_view_name": "ErrorWidgetView",
       "bar_color": null,
       "description_width": "",
       "error": {
        "message": "Loading chunk 495 failed.\n(error: http://192.168.3.2:9900/lab/extensions/@jupyter-widgets/jupyterlab-manager/static/495.3e275af54861cdeb3e75.js?v=3e275af54861cdeb3e75)",
        "name": "ChunkLoadError",
        "request": "http://192.168.3.2:9900/lab/extensions/@jupyter-widgets/jupyterlab-manager/static/495.3e275af54861cdeb3e75.js?v=3e275af54861cdeb3e75",
        "type": "error"
       },
       "msg": "Failed to load model class 'ProgressStyleModel' from module '@jupyter-widgets/controls'"
      }
     },
     "e7420a643d6745b18fd0a2a11f69e300": {
      "model_module": "@jupyter-widgets/base",
      "model_module_version": "2.0.0",
      "model_name": "LayoutModel",
      "state": {}
     },
     "e744740100ea411b865febdcb1155e40": {
      "model_module": "@jupyter-widgets/controls",
      "model_module_version": "2.0.0",
      "model_name": "HTMLStyleModel",
      "state": {
       "_model_module": "@jupyter-widgets/controls",
       "_model_name": "HTMLStyleModel",
       "_view_name": "ErrorWidgetView",
       "background": null,
       "description_width": "",
       "error": {
        "message": "Loading chunk 202 failed.\n(error: http://192.168.3.2:9900/lab/extensions/@jupyter-widgets/jupyterlab-manager/static/202.0336063976910618ce3f.js?v=0336063976910618ce3f)",
        "name": "ChunkLoadError",
        "request": "http://192.168.3.2:9900/lab/extensions/@jupyter-widgets/jupyterlab-manager/static/202.0336063976910618ce3f.js?v=0336063976910618ce3f",
        "type": "error"
       },
       "font_size": null,
       "msg": "Failed to load model class 'HTMLStyleModel' from module '@jupyter-widgets/controls'",
       "text_color": null
      }
     },
     "e7f2ed107a604eecb7bfa0bb69be3f1c": {
      "model_module": "@jupyter-widgets/controls",
      "model_module_version": "2.0.0",
      "model_name": "HTMLStyleModel",
      "state": {
       "_model_module": "@jupyter-widgets/controls",
       "_model_name": "HTMLStyleModel",
       "_view_name": "ErrorWidgetView",
       "background": null,
       "description_width": "",
       "error": {
        "message": "Loading chunk 202 failed.\n(error: http://192.168.3.2:9900/lab/extensions/@jupyter-widgets/jupyterlab-manager/static/202.0336063976910618ce3f.js?v=0336063976910618ce3f)",
        "name": "ChunkLoadError",
        "request": "http://192.168.3.2:9900/lab/extensions/@jupyter-widgets/jupyterlab-manager/static/202.0336063976910618ce3f.js?v=0336063976910618ce3f",
        "type": "error"
       },
       "font_size": null,
       "msg": "Failed to load model class 'HTMLStyleModel' from module '@jupyter-widgets/controls'",
       "text_color": null
      }
     },
     "e8a8fc46e8294ecca6d1f5b46dc351a4": {
      "model_module": "@jupyter-widgets/controls",
      "model_module_version": "2.0.0",
      "model_name": "HTMLStyleModel",
      "state": {
       "_model_module": "@jupyter-widgets/controls",
       "_model_name": "HTMLStyleModel",
       "_view_name": "ErrorWidgetView",
       "background": null,
       "description_width": "",
       "error": {
        "message": "Loading chunk 202 failed.\n(error: http://192.168.3.2:9900/lab/extensions/@jupyter-widgets/jupyterlab-manager/static/202.0336063976910618ce3f.js?v=0336063976910618ce3f)",
        "name": "ChunkLoadError",
        "request": "http://192.168.3.2:9900/lab/extensions/@jupyter-widgets/jupyterlab-manager/static/202.0336063976910618ce3f.js?v=0336063976910618ce3f",
        "type": "error"
       },
       "font_size": null,
       "msg": "Failed to load model class 'HTMLStyleModel' from module '@jupyter-widgets/controls'",
       "text_color": null
      }
     },
     "e8eda2c566e5450f8f69fe4286e90cb0": {
      "model_module": "@jupyter-widgets/controls",
      "model_module_version": "2.0.0",
      "model_name": "ProgressStyleModel",
      "state": {
       "_model_module": "@jupyter-widgets/controls",
       "_model_name": "ProgressStyleModel",
       "_view_name": "ErrorWidgetView",
       "bar_color": null,
       "description_width": "",
       "error": {
        "message": "Loading chunk 202 failed.\n(error: http://192.168.3.2:9900/lab/extensions/@jupyter-widgets/jupyterlab-manager/static/202.0336063976910618ce3f.js?v=0336063976910618ce3f)",
        "name": "ChunkLoadError",
        "request": "http://192.168.3.2:9900/lab/extensions/@jupyter-widgets/jupyterlab-manager/static/202.0336063976910618ce3f.js?v=0336063976910618ce3f",
        "type": "error"
       },
       "msg": "Failed to load model class 'ProgressStyleModel' from module '@jupyter-widgets/controls'"
      }
     },
     "e92304d406b146a88cb66eddf3e4e8f2": {
      "model_module": "@jupyter-widgets/base",
      "model_module_version": "2.0.0",
      "model_name": "LayoutModel",
      "state": {
       "width": "20px"
      }
     },
     "e9b6c836fa4c40a6a133939a289f62bf": {
      "model_module": "@jupyter-widgets/controls",
      "model_module_version": "2.0.0",
      "model_name": "HTMLModel",
      "state": {
       "_model_module": "@jupyter-widgets/controls",
       "_model_name": "HTMLModel",
       "_view_name": "ErrorWidgetView",
       "description": "",
       "description_allow_html": false,
       "error": {
        "message": "Loading chunk 202 failed.\n(error: http://192.168.3.2:9900/lab/extensions/@jupyter-widgets/jupyterlab-manager/static/202.0336063976910618ce3f.js?v=0336063976910618ce3f)",
        "name": "ChunkLoadError",
        "request": "http://192.168.3.2:9900/lab/extensions/@jupyter-widgets/jupyterlab-manager/static/202.0336063976910618ce3f.js?v=0336063976910618ce3f",
        "type": "error"
       },
       "layout": "IPY_MODEL_806231ede26c42a1a5013ba85e2a9c43",
       "msg": "Failed to load model class 'HTMLModel' from module '@jupyter-widgets/controls'",
       "placeholder": "​",
       "style": "IPY_MODEL_5c8a419487b5477dbaf2080b4d413de9",
       "value": " 160/160 [00:00&lt;00:00, 11.1kB/s]"
      }
     },
     "e9b929e712684ae1b47f23aafbb180e0": {
      "model_module": "@jupyter-widgets/controls",
      "model_module_version": "2.0.0",
      "model_name": "HTMLStyleModel",
      "state": {
       "_model_module": "@jupyter-widgets/controls",
       "_model_name": "HTMLStyleModel",
       "_view_name": "ErrorWidgetView",
       "background": null,
       "description_width": "",
       "error": {
        "message": "Loading chunk 202 failed.\n(error: http://192.168.3.2:9900/lab/extensions/@jupyter-widgets/jupyterlab-manager/static/202.0336063976910618ce3f.js?v=0336063976910618ce3f)",
        "name": "ChunkLoadError",
        "request": "http://192.168.3.2:9900/lab/extensions/@jupyter-widgets/jupyterlab-manager/static/202.0336063976910618ce3f.js?v=0336063976910618ce3f",
        "type": "error"
       },
       "font_size": null,
       "msg": "Failed to load model class 'HTMLStyleModel' from module '@jupyter-widgets/controls'",
       "text_color": null
      }
     },
     "e9d7ae8897004848b5206ba83c598ab3": {
      "model_module": "@jupyter-widgets/controls",
      "model_module_version": "2.0.0",
      "model_name": "HTMLModel",
      "state": {
       "_model_module": "@jupyter-widgets/controls",
       "_model_name": "HTMLModel",
       "_view_name": "ErrorWidgetView",
       "description": "",
       "description_allow_html": false,
       "error": {
        "message": "Loading chunk 495 failed.\n(error: http://192.168.3.2:9900/lab/extensions/@jupyter-widgets/jupyterlab-manager/static/495.3e275af54861cdeb3e75.js?v=3e275af54861cdeb3e75)",
        "name": "ChunkLoadError",
        "request": "http://192.168.3.2:9900/lab/extensions/@jupyter-widgets/jupyterlab-manager/static/495.3e275af54861cdeb3e75.js?v=3e275af54861cdeb3e75",
        "type": "error"
       },
       "layout": "IPY_MODEL_43e3391966c44bffb9739121b3c3ba9c",
       "msg": "Failed to load model class 'HTMLModel' from module '@jupyter-widgets/controls'",
       "placeholder": "​",
       "style": "IPY_MODEL_022c83b1fb864f20b6011e37609ad751",
       "value": "pytorch_model.bin: 100%"
      }
     },
     "e9e37d39b4c9475b9a3afb208939df27": {
      "model_module": "@jupyter-widgets/controls",
      "model_module_version": "2.0.0",
      "model_name": "ProgressStyleModel",
      "state": {
       "_model_module": "@jupyter-widgets/controls",
       "_model_name": "ProgressStyleModel",
       "_view_name": "ErrorWidgetView",
       "bar_color": null,
       "description_width": "",
       "error": {
        "message": "Loading chunk 495 failed.\n(error: http://192.168.3.2:9900/lab/extensions/@jupyter-widgets/jupyterlab-manager/static/495.3e275af54861cdeb3e75.js?v=3e275af54861cdeb3e75)",
        "name": "ChunkLoadError",
        "request": "http://192.168.3.2:9900/lab/extensions/@jupyter-widgets/jupyterlab-manager/static/495.3e275af54861cdeb3e75.js?v=3e275af54861cdeb3e75",
        "type": "error"
       },
       "msg": "Failed to load model class 'ProgressStyleModel' from module '@jupyter-widgets/controls'"
      }
     },
     "ea0020d8bf6247efb8de5804072f718c": {
      "model_module": "@jupyter-widgets/controls",
      "model_module_version": "2.0.0",
      "model_name": "ProgressStyleModel",
      "state": {
       "_model_module": "@jupyter-widgets/controls",
       "_model_name": "ProgressStyleModel",
       "_view_name": "ErrorWidgetView",
       "bar_color": null,
       "description_width": "",
       "error": {
        "message": "Loading chunk 495 failed.\n(error: http://192.168.3.2:9900/lab/extensions/@jupyter-widgets/jupyterlab-manager/static/495.3e275af54861cdeb3e75.js?v=3e275af54861cdeb3e75)",
        "name": "ChunkLoadError",
        "request": "http://192.168.3.2:9900/lab/extensions/@jupyter-widgets/jupyterlab-manager/static/495.3e275af54861cdeb3e75.js?v=3e275af54861cdeb3e75",
        "type": "error"
       },
       "msg": "Failed to load model class 'ProgressStyleModel' from module '@jupyter-widgets/controls'"
      }
     },
     "ea09db436ffa4f19b91955b46043e18e": {
      "model_module": "@jupyter-widgets/base",
      "model_module_version": "2.0.0",
      "model_name": "LayoutModel",
      "state": {}
     },
     "eacb395b30804b7ea4539b65b4711af3": {
      "model_module": "@jupyter-widgets/controls",
      "model_module_version": "2.0.0",
      "model_name": "HTMLStyleModel",
      "state": {
       "_model_module": "@jupyter-widgets/controls",
       "_model_name": "HTMLStyleModel",
       "_view_name": "ErrorWidgetView",
       "background": null,
       "description_width": "",
       "error": {
        "message": "Loading chunk 202 failed.\n(error: http://192.168.3.2:9900/lab/extensions/@jupyter-widgets/jupyterlab-manager/static/202.0336063976910618ce3f.js?v=0336063976910618ce3f)",
        "name": "ChunkLoadError",
        "request": "http://192.168.3.2:9900/lab/extensions/@jupyter-widgets/jupyterlab-manager/static/202.0336063976910618ce3f.js?v=0336063976910618ce3f",
        "type": "error"
       },
       "font_size": null,
       "msg": "Failed to load model class 'HTMLStyleModel' from module '@jupyter-widgets/controls'",
       "text_color": null
      }
     },
     "eaceb380bf66449682404ec902c84554": {
      "model_module": "@jupyter-widgets/controls",
      "model_module_version": "2.0.0",
      "model_name": "HTMLModel",
      "state": {
       "_model_module": "@jupyter-widgets/controls",
       "_model_name": "HTMLModel",
       "_view_name": "ErrorWidgetView",
       "description": "",
       "description_allow_html": false,
       "error": {
        "message": "Loading chunk 495 failed.\n(error: http://192.168.3.2:9900/lab/extensions/@jupyter-widgets/jupyterlab-manager/static/495.3e275af54861cdeb3e75.js?v=3e275af54861cdeb3e75)",
        "name": "ChunkLoadError",
        "request": "http://192.168.3.2:9900/lab/extensions/@jupyter-widgets/jupyterlab-manager/static/495.3e275af54861cdeb3e75.js?v=3e275af54861cdeb3e75",
        "type": "error"
       },
       "layout": "IPY_MODEL_9e92c0fff8b54e02a90dd93d1691dc0b",
       "msg": "Failed to load model class 'HTMLModel' from module '@jupyter-widgets/controls'",
       "placeholder": "​",
       "style": "IPY_MODEL_56d472709ea74018b15ff7630d6a2e21",
       "value": "config.json: "
      }
     },
     "eb40105439b240739d737bf5cfef7208": {
      "model_module": "@jupyter-widgets/controls",
      "model_module_version": "2.0.0",
      "model_name": "FloatProgressModel",
      "state": {
       "_model_module": "@jupyter-widgets/controls",
       "_model_name": "FloatProgressModel",
       "_view_name": "ErrorWidgetView",
       "bar_style": "success",
       "description": "",
       "description_allow_html": false,
       "error": {
        "message": "Loading chunk 202 failed.\n(error: http://192.168.3.2:9900/lab/extensions/@jupyter-widgets/jupyterlab-manager/static/202.0336063976910618ce3f.js?v=0336063976910618ce3f)",
        "name": "ChunkLoadError",
        "request": "http://192.168.3.2:9900/lab/extensions/@jupyter-widgets/jupyterlab-manager/static/202.0336063976910618ce3f.js?v=0336063976910618ce3f",
        "type": "error"
       },
       "layout": "IPY_MODEL_b2f471c2a2aa495991f64bb2a109b2ea",
       "max": 539679413,
       "min": 0,
       "msg": "Failed to load model class 'FloatProgressModel' from module '@jupyter-widgets/controls'",
       "orientation": "horizontal",
       "style": "IPY_MODEL_615088a60f8640658725fc1fe4491d7b",
       "value": 539679413
      }
     },
     "eb6417ebffbc43dfb08bcf7480afe2a2": {
      "model_module": "@jupyter-widgets/base",
      "model_module_version": "2.0.0",
      "model_name": "LayoutModel",
      "state": {}
     },
     "ec7c4399e43d45f186bf2ecb7be13c6f": {
      "model_module": "@jupyter-widgets/controls",
      "model_module_version": "2.0.0",
      "model_name": "FloatProgressModel",
      "state": {
       "_model_module": "@jupyter-widgets/controls",
       "_model_name": "FloatProgressModel",
       "_view_name": "ErrorWidgetView",
       "bar_style": "success",
       "description": "",
       "description_allow_html": false,
       "error": {
        "message": "Loading chunk 202 failed.\n(error: http://192.168.3.2:9900/lab/extensions/@jupyter-widgets/jupyterlab-manager/static/202.0336063976910618ce3f.js?v=0336063976910618ce3f)",
        "name": "ChunkLoadError",
        "request": "http://192.168.3.2:9900/lab/extensions/@jupyter-widgets/jupyterlab-manager/static/202.0336063976910618ce3f.js?v=0336063976910618ce3f",
        "type": "error"
       },
       "layout": "IPY_MODEL_e5d66a9ddaee4717a05517d91ff3d60b",
       "max": 1,
       "min": 0,
       "msg": "Failed to load model class 'FloatProgressModel' from module '@jupyter-widgets/controls'",
       "orientation": "horizontal",
       "style": "IPY_MODEL_ae66920a9fc741aa8d143868caa2ece7",
       "value": 1
      }
     },
     "ecdb9820129648cd81446283f8a44c8d": {
      "model_module": "@jupyter-widgets/controls",
      "model_module_version": "2.0.0",
      "model_name": "HTMLModel",
      "state": {
       "_model_module": "@jupyter-widgets/controls",
       "_model_name": "HTMLModel",
       "_view_name": "ErrorWidgetView",
       "description": "",
       "description_allow_html": false,
       "error": {
        "message": "Loading chunk 202 failed.\n(error: http://192.168.3.2:9900/lab/extensions/@jupyter-widgets/jupyterlab-manager/static/202.0336063976910618ce3f.js?v=0336063976910618ce3f)",
        "name": "ChunkLoadError",
        "request": "http://192.168.3.2:9900/lab/extensions/@jupyter-widgets/jupyterlab-manager/static/202.0336063976910618ce3f.js?v=0336063976910618ce3f",
        "type": "error"
       },
       "layout": "IPY_MODEL_9e5a30ed7bc94df08a24223e51c198de",
       "msg": "Failed to load model class 'HTMLModel' from module '@jupyter-widgets/controls'",
       "placeholder": "​",
       "style": "IPY_MODEL_7b9874a8ffec4873bd171df6b48b80ea",
       "value": " 290/290 [00:00&lt;00:00, 18.7kB/s]"
      }
     },
     "ecef650934694a6597d49a31ad23fe9e": {
      "model_module": "@jupyter-widgets/controls",
      "model_module_version": "2.0.0",
      "model_name": "HBoxModel",
      "state": {
       "_model_module": "@jupyter-widgets/controls",
       "_model_name": "HBoxModel",
       "_view_name": "ErrorWidgetView",
       "box_style": "",
       "children": [
        "IPY_MODEL_733172a62e164affa62ccd11389455b8",
        "IPY_MODEL_731ed22fdac34430a6d8cfb799706650",
        "IPY_MODEL_debec73a473b4fa8b73a77b808eab294"
       ],
       "error": {
        "message": "Loading chunk 495 failed.\n(error: http://192.168.3.2:9900/lab/extensions/@jupyter-widgets/jupyterlab-manager/static/495.3e275af54861cdeb3e75.js?v=3e275af54861cdeb3e75)",
        "name": "ChunkLoadError",
        "request": "http://192.168.3.2:9900/lab/extensions/@jupyter-widgets/jupyterlab-manager/static/495.3e275af54861cdeb3e75.js?v=3e275af54861cdeb3e75",
        "type": "error"
       },
       "layout": "IPY_MODEL_363d7d59ab8d4d918ee6d345fbc70865",
       "msg": "Failed to load model class 'HBoxModel' from module '@jupyter-widgets/controls'"
      }
     },
     "ed5a6e7045344cc985aa59bafb9346a1": {
      "model_module": "@jupyter-widgets/controls",
      "model_module_version": "2.0.0",
      "model_name": "HTMLModel",
      "state": {
       "_model_module": "@jupyter-widgets/controls",
       "_model_name": "HTMLModel",
       "_view_name": "ErrorWidgetView",
       "description": "",
       "description_allow_html": false,
       "error": {
        "message": "Loading chunk 495 failed.\n(error: http://192.168.3.2:9900/lab/extensions/@jupyter-widgets/jupyterlab-manager/static/495.3e275af54861cdeb3e75.js?v=3e275af54861cdeb3e75)",
        "name": "ChunkLoadError",
        "request": "http://192.168.3.2:9900/lab/extensions/@jupyter-widgets/jupyterlab-manager/static/495.3e275af54861cdeb3e75.js?v=3e275af54861cdeb3e75",
        "type": "error"
       },
       "layout": "IPY_MODEL_a6bddd6ec7f34803b702cc680bf964d9",
       "msg": "Failed to load model class 'HTMLModel' from module '@jupyter-widgets/controls'",
       "placeholder": "​",
       "style": "IPY_MODEL_d2d465de64ea4f258319f7f7672fa1f8",
       "value": "tokenizer_config.json: 100%"
      }
     },
     "ed7c480cf7d7405c882bbb6db75c97c8": {
      "model_module": "@jupyter-widgets/controls",
      "model_module_version": "2.0.0",
      "model_name": "HBoxModel",
      "state": {
       "_model_module": "@jupyter-widgets/controls",
       "_model_name": "HBoxModel",
       "_view_name": "ErrorWidgetView",
       "box_style": "",
       "children": [
        "IPY_MODEL_507022910b6b4a358d1e8e8985671648",
        "IPY_MODEL_990f12f9fbe9426da3ff00d2e793e0c8",
        "IPY_MODEL_603bd6b8b4f84e018f420e5c355ff372"
       ],
       "error": {
        "message": "Loading chunk 495 failed.\n(error: http://192.168.3.2:9900/lab/extensions/@jupyter-widgets/jupyterlab-manager/static/495.3e275af54861cdeb3e75.js?v=3e275af54861cdeb3e75)",
        "name": "ChunkLoadError",
        "request": "http://192.168.3.2:9900/lab/extensions/@jupyter-widgets/jupyterlab-manager/static/495.3e275af54861cdeb3e75.js?v=3e275af54861cdeb3e75",
        "type": "error"
       },
       "layout": "IPY_MODEL_349ee62da9414034b3577cfd2ea4f9fb",
       "msg": "Failed to load model class 'HBoxModel' from module '@jupyter-widgets/controls'"
      }
     },
     "ed88c42900b54532abfc8d537445a928": {
      "model_module": "@jupyter-widgets/base",
      "model_module_version": "2.0.0",
      "model_name": "LayoutModel",
      "state": {}
     },
     "ee78f389155348fdb1f8f130b9002bac": {
      "model_module": "@jupyter-widgets/controls",
      "model_module_version": "2.0.0",
      "model_name": "FloatProgressModel",
      "state": {
       "_model_module": "@jupyter-widgets/controls",
       "_model_name": "FloatProgressModel",
       "_view_name": "ErrorWidgetView",
       "bar_style": "success",
       "description": "",
       "description_allow_html": false,
       "error": {
        "message": "Loading chunk 495 failed.\n(error: http://192.168.3.2:9900/lab/extensions/@jupyter-widgets/jupyterlab-manager/static/495.3e275af54861cdeb3e75.js?v=3e275af54861cdeb3e75)",
        "name": "ChunkLoadError",
        "request": "http://192.168.3.2:9900/lab/extensions/@jupyter-widgets/jupyterlab-manager/static/495.3e275af54861cdeb3e75.js?v=3e275af54861cdeb3e75",
        "type": "error"
       },
       "layout": "IPY_MODEL_cc39781ada1d485594bbcf49d9616338",
       "max": 1,
       "min": 0,
       "msg": "Failed to load model class 'FloatProgressModel' from module '@jupyter-widgets/controls'",
       "orientation": "horizontal",
       "style": "IPY_MODEL_0b745ce59b054aebb5582508d1ea9f60",
       "value": 1
      }
     },
     "eebee4c5c8c04b889ee0531d8a0ea62d": {
      "model_module": "@jupyter-widgets/base",
      "model_module_version": "2.0.0",
      "model_name": "LayoutModel",
      "state": {}
     },
     "eec86d3b2da74346b3224eaa6d07313e": {
      "model_module": "@jupyter-widgets/controls",
      "model_module_version": "2.0.0",
      "model_name": "HTMLModel",
      "state": {
       "_model_module": "@jupyter-widgets/controls",
       "_model_name": "HTMLModel",
       "_view_name": "ErrorWidgetView",
       "description": "",
       "description_allow_html": false,
       "error": {
        "message": "Loading chunk 495 failed.\n(error: http://192.168.3.2:9900/lab/extensions/@jupyter-widgets/jupyterlab-manager/static/495.3e275af54861cdeb3e75.js?v=3e275af54861cdeb3e75)",
        "name": "ChunkLoadError",
        "request": "http://192.168.3.2:9900/lab/extensions/@jupyter-widgets/jupyterlab-manager/static/495.3e275af54861cdeb3e75.js?v=3e275af54861cdeb3e75",
        "type": "error"
       },
       "layout": "IPY_MODEL_1be540525be443ea8ee4b926b8b2f4fa",
       "msg": "Failed to load model class 'HTMLModel' from module '@jupyter-widgets/controls'",
       "placeholder": "​",
       "style": "IPY_MODEL_19812ad2e356438b91752c047a6c6261",
       "value": "model.safetensors: 100%"
      }
     },
     "ef10c756224a4a52a931edfd36f373db": {
      "model_module": "@jupyter-widgets/controls",
      "model_module_version": "2.0.0",
      "model_name": "HTMLStyleModel",
      "state": {
       "_model_module": "@jupyter-widgets/controls",
       "_model_name": "HTMLStyleModel",
       "_view_name": "ErrorWidgetView",
       "background": null,
       "description_width": "",
       "error": {
        "message": "Loading chunk 495 failed.\n(error: http://192.168.3.2:9900/lab/extensions/@jupyter-widgets/jupyterlab-manager/static/495.3e275af54861cdeb3e75.js?v=3e275af54861cdeb3e75)",
        "name": "ChunkLoadError",
        "request": "http://192.168.3.2:9900/lab/extensions/@jupyter-widgets/jupyterlab-manager/static/495.3e275af54861cdeb3e75.js?v=3e275af54861cdeb3e75",
        "type": "error"
       },
       "font_size": null,
       "msg": "Failed to load model class 'HTMLStyleModel' from module '@jupyter-widgets/controls'",
       "text_color": null
      }
     },
     "ef1b73e51b274ddba701dfc01111dedf": {
      "model_module": "@jupyter-widgets/controls",
      "model_module_version": "2.0.0",
      "model_name": "ProgressStyleModel",
      "state": {
       "_model_module": "@jupyter-widgets/controls",
       "_model_name": "ProgressStyleModel",
       "_view_name": "ErrorWidgetView",
       "bar_color": null,
       "description_width": "",
       "error": {
        "message": "Loading chunk 495 failed.\n(error: http://192.168.3.2:9900/lab/extensions/@jupyter-widgets/jupyterlab-manager/static/495.3e275af54861cdeb3e75.js?v=3e275af54861cdeb3e75)",
        "name": "ChunkLoadError",
        "request": "http://192.168.3.2:9900/lab/extensions/@jupyter-widgets/jupyterlab-manager/static/495.3e275af54861cdeb3e75.js?v=3e275af54861cdeb3e75",
        "type": "error"
       },
       "msg": "Failed to load model class 'ProgressStyleModel' from module '@jupyter-widgets/controls'"
      }
     },
     "ef51fd28c4d54ec997006e818097d159": {
      "model_module": "@jupyter-widgets/controls",
      "model_module_version": "2.0.0",
      "model_name": "HTMLModel",
      "state": {
       "_model_module": "@jupyter-widgets/controls",
       "_model_name": "HTMLModel",
       "_view_name": "ErrorWidgetView",
       "description": "",
       "description_allow_html": false,
       "error": {
        "message": "Loading chunk 495 failed.\n(error: http://192.168.3.2:9900/lab/extensions/@jupyter-widgets/jupyterlab-manager/static/495.3e275af54861cdeb3e75.js?v=3e275af54861cdeb3e75)",
        "name": "ChunkLoadError",
        "request": "http://192.168.3.2:9900/lab/extensions/@jupyter-widgets/jupyterlab-manager/static/495.3e275af54861cdeb3e75.js?v=3e275af54861cdeb3e75",
        "type": "error"
       },
       "layout": "IPY_MODEL_6433494917e24152abb856993eb91021",
       "msg": "Failed to load model class 'HTMLModel' from module '@jupyter-widgets/controls'",
       "placeholder": "​",
       "style": "IPY_MODEL_e8a8fc46e8294ecca6d1f5b46dc351a4",
       "value": " 242M/242M [00:06&lt;00:00, 47.4MB/s]"
      }
     },
     "ef588933ab074258ad2da218e28fa54c": {
      "model_module": "@jupyter-widgets/base",
      "model_module_version": "2.0.0",
      "model_name": "LayoutModel",
      "state": {}
     },
     "ef6efa4b24de446baecc5bfaddffee9a": {
      "model_module": "@jupyter-widgets/controls",
      "model_module_version": "2.0.0",
      "model_name": "ProgressStyleModel",
      "state": {
       "_model_module": "@jupyter-widgets/controls",
       "_model_name": "ProgressStyleModel",
       "_view_name": "ErrorWidgetView",
       "bar_color": null,
       "description_width": "",
       "error": {
        "message": "Loading chunk 202 failed.\n(error: http://192.168.3.2:9900/lab/extensions/@jupyter-widgets/jupyterlab-manager/static/202.0336063976910618ce3f.js?v=0336063976910618ce3f)",
        "name": "ChunkLoadError",
        "request": "http://192.168.3.2:9900/lab/extensions/@jupyter-widgets/jupyterlab-manager/static/202.0336063976910618ce3f.js?v=0336063976910618ce3f",
        "type": "error"
       },
       "msg": "Failed to load model class 'ProgressStyleModel' from module '@jupyter-widgets/controls'"
      }
     },
     "efb4e3e67594471aa96efeef56bd1cf4": {
      "model_module": "@jupyter-widgets/base",
      "model_module_version": "2.0.0",
      "model_name": "LayoutModel",
      "state": {}
     },
     "effc89da32b74f7f9e1e56bb209bd9d5": {
      "model_module": "@jupyter-widgets/controls",
      "model_module_version": "2.0.0",
      "model_name": "HTMLModel",
      "state": {
       "_model_module": "@jupyter-widgets/controls",
       "_model_name": "HTMLModel",
       "_view_name": "ErrorWidgetView",
       "description": "",
       "description_allow_html": false,
       "error": {
        "message": "Loading chunk 495 failed.\n(error: http://192.168.3.2:9900/lab/extensions/@jupyter-widgets/jupyterlab-manager/static/495.3e275af54861cdeb3e75.js?v=3e275af54861cdeb3e75)",
        "name": "ChunkLoadError",
        "request": "http://192.168.3.2:9900/lab/extensions/@jupyter-widgets/jupyterlab-manager/static/495.3e275af54861cdeb3e75.js?v=3e275af54861cdeb3e75",
        "type": "error"
       },
       "layout": "IPY_MODEL_1cfb0cdd4eb442889de8d9daa280722d",
       "msg": "Failed to load model class 'HTMLModel' from module '@jupyter-widgets/controls'",
       "placeholder": "​",
       "style": "IPY_MODEL_3737a86cfceb434eb0513c3272fd3c44",
       "value": "normalizer.json: "
      }
     },
     "f01df62cc9cb44508f24cb0a28bb77d8": {
      "model_module": "@jupyter-widgets/controls",
      "model_module_version": "2.0.0",
      "model_name": "HTMLModel",
      "state": {
       "_model_module": "@jupyter-widgets/controls",
       "_model_name": "HTMLModel",
       "_view_name": "ErrorWidgetView",
       "description": "",
       "description_allow_html": false,
       "error": {
        "message": "Loading chunk 202 failed.\n(error: http://192.168.3.2:9900/lab/extensions/@jupyter-widgets/jupyterlab-manager/static/202.0336063976910618ce3f.js?v=0336063976910618ce3f)",
        "name": "ChunkLoadError",
        "request": "http://192.168.3.2:9900/lab/extensions/@jupyter-widgets/jupyterlab-manager/static/202.0336063976910618ce3f.js?v=0336063976910618ce3f",
        "type": "error"
       },
       "layout": "IPY_MODEL_6c0a9a146d264529a8627119639abccf",
       "msg": "Failed to load model class 'HTMLModel' from module '@jupyter-widgets/controls'",
       "placeholder": "​",
       "style": "IPY_MODEL_4d1b33d563204fde8df15061cc171343",
       "value": " 1.08M/? [00:00&lt;00:00, 1.92MB/s]"
      }
     },
     "f05d461af11e42e58902f2fe77380753": {
      "model_module": "@jupyter-widgets/base",
      "model_module_version": "2.0.0",
      "model_name": "LayoutModel",
      "state": {}
     },
     "f089ed01c23646349050963930610dbf": {
      "model_module": "@jupyter-widgets/controls",
      "model_module_version": "2.0.0",
      "model_name": "HTMLStyleModel",
      "state": {
       "_model_module": "@jupyter-widgets/controls",
       "_model_name": "HTMLStyleModel",
       "_view_name": "ErrorWidgetView",
       "background": null,
       "description_width": "",
       "error": {
        "message": "Loading chunk 202 failed.\n(error: http://192.168.3.2:9900/lab/extensions/@jupyter-widgets/jupyterlab-manager/static/202.0336063976910618ce3f.js?v=0336063976910618ce3f)",
        "name": "ChunkLoadError",
        "request": "http://192.168.3.2:9900/lab/extensions/@jupyter-widgets/jupyterlab-manager/static/202.0336063976910618ce3f.js?v=0336063976910618ce3f",
        "type": "error"
       },
       "font_size": null,
       "msg": "Failed to load model class 'HTMLStyleModel' from module '@jupyter-widgets/controls'",
       "text_color": null
      }
     },
     "f11f12087f994c129f46281631259e14": {
      "model_module": "@jupyter-widgets/controls",
      "model_module_version": "2.0.0",
      "model_name": "ProgressStyleModel",
      "state": {
       "_model_module": "@jupyter-widgets/controls",
       "_model_name": "ProgressStyleModel",
       "_view_name": "ErrorWidgetView",
       "bar_color": null,
       "description_width": "",
       "error": {
        "message": "Loading chunk 202 failed.\n(error: http://192.168.3.2:9900/lab/extensions/@jupyter-widgets/jupyterlab-manager/static/202.0336063976910618ce3f.js?v=0336063976910618ce3f)",
        "name": "ChunkLoadError",
        "request": "http://192.168.3.2:9900/lab/extensions/@jupyter-widgets/jupyterlab-manager/static/202.0336063976910618ce3f.js?v=0336063976910618ce3f",
        "type": "error"
       },
       "msg": "Failed to load model class 'ProgressStyleModel' from module '@jupyter-widgets/controls'"
      }
     },
     "f1586b4531ab482692e9bea056b4c74c": {
      "model_module": "@jupyter-widgets/base",
      "model_module_version": "2.0.0",
      "model_name": "LayoutModel",
      "state": {}
     },
     "f274199ee4f4453785015cbd3693a34b": {
      "model_module": "@jupyter-widgets/controls",
      "model_module_version": "2.0.0",
      "model_name": "FloatProgressModel",
      "state": {
       "_model_module": "@jupyter-widgets/controls",
       "_model_name": "FloatProgressModel",
       "_view_name": "ErrorWidgetView",
       "bar_style": "success",
       "description": "",
       "description_allow_html": false,
       "error": {
        "message": "Loading chunk 495 failed.\n(error: http://192.168.3.2:9900/lab/extensions/@jupyter-widgets/jupyterlab-manager/static/495.3e275af54861cdeb3e75.js?v=3e275af54861cdeb3e75)",
        "name": "ChunkLoadError",
        "request": "http://192.168.3.2:9900/lab/extensions/@jupyter-widgets/jupyterlab-manager/static/495.3e275af54861cdeb3e75.js?v=3e275af54861cdeb3e75",
        "type": "error"
       },
       "layout": "IPY_MODEL_89bce4617bf848ac9b48f48063d4824f",
       "max": 440449768,
       "min": 0,
       "msg": "Failed to load model class 'FloatProgressModel' from module '@jupyter-widgets/controls'",
       "orientation": "horizontal",
       "style": "IPY_MODEL_3d83fb81b7b4454281dc87c54ed2c9a6",
       "value": 440449768
      }
     },
     "f28a3ac7ecfb43f99ff20efe14fef517": {
      "model_module": "@jupyter-widgets/controls",
      "model_module_version": "2.0.0",
      "model_name": "FloatProgressModel",
      "state": {
       "_model_module": "@jupyter-widgets/controls",
       "_model_name": "FloatProgressModel",
       "_view_name": "ErrorWidgetView",
       "bar_style": "success",
       "description": "",
       "description_allow_html": false,
       "error": {
        "message": "Loading chunk 495 failed.\n(error: http://192.168.3.2:9900/lab/extensions/@jupyter-widgets/jupyterlab-manager/static/495.3e275af54861cdeb3e75.js?v=3e275af54861cdeb3e75)",
        "name": "ChunkLoadError",
        "request": "http://192.168.3.2:9900/lab/extensions/@jupyter-widgets/jupyterlab-manager/static/495.3e275af54861cdeb3e75.js?v=3e275af54861cdeb3e75",
        "type": "error"
       },
       "layout": "IPY_MODEL_6b362e5460f44c1787b4aa483c1a6da0",
       "max": 483,
       "min": 0,
       "msg": "Failed to load model class 'FloatProgressModel' from module '@jupyter-widgets/controls'",
       "orientation": "horizontal",
       "style": "IPY_MODEL_01eb1074fcf74fd788cad61f1eba2974",
       "value": 483
      }
     },
     "f2a3a7472b7e45b789ca2d50b051e2cf": {
      "model_module": "@jupyter-widgets/controls",
      "model_module_version": "2.0.0",
      "model_name": "FloatProgressModel",
      "state": {
       "_model_module": "@jupyter-widgets/controls",
       "_model_name": "FloatProgressModel",
       "_view_name": "ErrorWidgetView",
       "bar_style": "success",
       "description": "",
       "description_allow_html": false,
       "error": {
        "message": "Loading chunk 495 failed.\n(error: http://192.168.3.2:9900/lab/extensions/@jupyter-widgets/jupyterlab-manager/static/495.3e275af54861cdeb3e75.js?v=3e275af54861cdeb3e75)",
        "name": "ChunkLoadError",
        "request": "http://192.168.3.2:9900/lab/extensions/@jupyter-widgets/jupyterlab-manager/static/495.3e275af54861cdeb3e75.js?v=3e275af54861cdeb3e75",
        "type": "error"
       },
       "layout": "IPY_MODEL_86f31cb8b56f40608aa29267e6ebcfbb",
       "max": 1,
       "min": 0,
       "msg": "Failed to load model class 'FloatProgressModel' from module '@jupyter-widgets/controls'",
       "orientation": "horizontal",
       "style": "IPY_MODEL_a561b57fc4ac4c5e8a65900b6afe95b6",
       "value": 1
      }
     },
     "f378a7e05f4c4197abdd9357ab9851a9": {
      "model_module": "@jupyter-widgets/controls",
      "model_module_version": "2.0.0",
      "model_name": "FloatProgressModel",
      "state": {
       "_model_module": "@jupyter-widgets/controls",
       "_model_name": "FloatProgressModel",
       "_view_name": "ErrorWidgetView",
       "bar_style": "success",
       "description": "",
       "description_allow_html": false,
       "error": {
        "message": "Loading chunk 495 failed.\n(error: http://192.168.3.2:9900/lab/extensions/@jupyter-widgets/jupyterlab-manager/static/495.3e275af54861cdeb3e75.js?v=3e275af54861cdeb3e75)",
        "name": "ChunkLoadError",
        "request": "http://192.168.3.2:9900/lab/extensions/@jupyter-widgets/jupyterlab-manager/static/495.3e275af54861cdeb3e75.js?v=3e275af54861cdeb3e75",
        "type": "error"
       },
       "layout": "IPY_MODEL_251d81ae57c84e0b8ccf5bbe0d6b54de",
       "max": 1421616707,
       "min": 0,
       "msg": "Failed to load model class 'FloatProgressModel' from module '@jupyter-widgets/controls'",
       "orientation": "horizontal",
       "style": "IPY_MODEL_50b36646162349c2b1efcf6295084c4a",
       "value": 1421616707
      }
     },
     "f4016ffda1a947eb83893327529b3daf": {
      "model_module": "@jupyter-widgets/controls",
      "model_module_version": "2.0.0",
      "model_name": "HTMLModel",
      "state": {
       "_model_module": "@jupyter-widgets/controls",
       "_model_name": "HTMLModel",
       "_view_name": "ErrorWidgetView",
       "description": "",
       "description_allow_html": false,
       "error": {
        "message": "Loading chunk 202 failed.\n(error: http://192.168.3.2:9900/lab/extensions/@jupyter-widgets/jupyterlab-manager/static/202.0336063976910618ce3f.js?v=0336063976910618ce3f)",
        "name": "ChunkLoadError",
        "request": "http://192.168.3.2:9900/lab/extensions/@jupyter-widgets/jupyterlab-manager/static/202.0336063976910618ce3f.js?v=0336063976910618ce3f",
        "type": "error"
       },
       "layout": "IPY_MODEL_c8cdf9ca0a64448fb42da59484bc8f3e",
       "msg": "Failed to load model class 'HTMLModel' from module '@jupyter-widgets/controls'",
       "placeholder": "​",
       "style": "IPY_MODEL_4a2f2667c52a4edcab8935de84181e60",
       "value": "tokenizer.json: "
      }
     },
     "f4019de4eade4a698cd55280ec16d820": {
      "model_module": "@jupyter-widgets/controls",
      "model_module_version": "2.0.0",
      "model_name": "HBoxModel",
      "state": {
       "_model_module": "@jupyter-widgets/controls",
       "_model_name": "HBoxModel",
       "_view_name": "ErrorWidgetView",
       "box_style": "",
       "children": [
        "IPY_MODEL_a77b3d9dd7274aa4a827cd1ecf9f8370",
        "IPY_MODEL_693b9b2cc7bc495b8d39e88421ae920d",
        "IPY_MODEL_286e8225a24142fabbf13250bc7c798a"
       ],
       "error": {
        "message": "Loading chunk 495 failed.\n(error: http://192.168.3.2:9900/lab/extensions/@jupyter-widgets/jupyterlab-manager/static/495.3e275af54861cdeb3e75.js?v=3e275af54861cdeb3e75)",
        "name": "ChunkLoadError",
        "request": "http://192.168.3.2:9900/lab/extensions/@jupyter-widgets/jupyterlab-manager/static/495.3e275af54861cdeb3e75.js?v=3e275af54861cdeb3e75",
        "type": "error"
       },
       "layout": "IPY_MODEL_61e9e051e48e41ddb28501f1220accb9",
       "msg": "Failed to load model class 'HBoxModel' from module '@jupyter-widgets/controls'"
      }
     },
     "f427942d1e8d4cabad709f8cbd84d201": {
      "model_module": "@jupyter-widgets/controls",
      "model_module_version": "2.0.0",
      "model_name": "HBoxModel",
      "state": {
       "_model_module": "@jupyter-widgets/controls",
       "_model_name": "HBoxModel",
       "_view_name": "ErrorWidgetView",
       "box_style": "",
       "children": [
        "IPY_MODEL_8fccbe7fd69f45f083b42a08776ea6ed",
        "IPY_MODEL_134746c256ce4ce8856d8f224adf5c0b",
        "IPY_MODEL_0386c801c7b44922b50581aaf1fc6d29"
       ],
       "error": {
        "message": "Loading chunk 202 failed.\n(error: http://192.168.3.2:9900/lab/extensions/@jupyter-widgets/jupyterlab-manager/static/202.0336063976910618ce3f.js?v=0336063976910618ce3f)",
        "name": "ChunkLoadError",
        "request": "http://192.168.3.2:9900/lab/extensions/@jupyter-widgets/jupyterlab-manager/static/202.0336063976910618ce3f.js?v=0336063976910618ce3f",
        "type": "error"
       },
       "layout": "IPY_MODEL_4bb24f902a3b40819d8283cd18391375",
       "msg": "Failed to load model class 'HBoxModel' from module '@jupyter-widgets/controls'"
      }
     },
     "f46c69a1d7f042d99fb74dffc725d96a": {
      "model_module": "@jupyter-widgets/base",
      "model_module_version": "2.0.0",
      "model_name": "LayoutModel",
      "state": {}
     },
     "f46f8eb4700b4c46b73435c32bf07b7f": {
      "model_module": "@jupyter-widgets/controls",
      "model_module_version": "2.0.0",
      "model_name": "HBoxModel",
      "state": {
       "_model_module": "@jupyter-widgets/controls",
       "_model_name": "HBoxModel",
       "_view_name": "ErrorWidgetView",
       "box_style": "",
       "children": [
        "IPY_MODEL_d643ab34d2b44a2fb09ac6bb37a47ac9",
        "IPY_MODEL_a07a30033f1f43b3bdc0e7e9aa116e8e",
        "IPY_MODEL_14a5dfc48938492da228d954f20f4498"
       ],
       "error": {
        "message": "Loading chunk 495 failed.\n(error: http://192.168.3.2:9900/lab/extensions/@jupyter-widgets/jupyterlab-manager/static/495.3e275af54861cdeb3e75.js?v=3e275af54861cdeb3e75)",
        "name": "ChunkLoadError",
        "request": "http://192.168.3.2:9900/lab/extensions/@jupyter-widgets/jupyterlab-manager/static/495.3e275af54861cdeb3e75.js?v=3e275af54861cdeb3e75",
        "type": "error"
       },
       "layout": "IPY_MODEL_efb4e3e67594471aa96efeef56bd1cf4",
       "msg": "Failed to load model class 'HBoxModel' from module '@jupyter-widgets/controls'"
      }
     },
     "f5171bd60c9348edb8a7efb9f1c19079": {
      "model_module": "@jupyter-widgets/controls",
      "model_module_version": "2.0.0",
      "model_name": "HTMLModel",
      "state": {
       "_model_module": "@jupyter-widgets/controls",
       "_model_name": "HTMLModel",
       "_view_name": "ErrorWidgetView",
       "description": "",
       "description_allow_html": false,
       "error": {
        "message": "Loading chunk 495 failed.\n(error: http://192.168.3.2:9900/lab/extensions/@jupyter-widgets/jupyterlab-manager/static/495.3e275af54861cdeb3e75.js?v=3e275af54861cdeb3e75)",
        "name": "ChunkLoadError",
        "request": "http://192.168.3.2:9900/lab/extensions/@jupyter-widgets/jupyterlab-manager/static/495.3e275af54861cdeb3e75.js?v=3e275af54861cdeb3e75",
        "type": "error"
       },
       "layout": "IPY_MODEL_5aee1aa8e3b840e6aa8e8203aa019a89",
       "msg": "Failed to load model class 'HTMLModel' from module '@jupyter-widgets/controls'",
       "placeholder": "​",
       "style": "IPY_MODEL_c23c10857cb44dc49b9a950c186a2a06",
       "value": "special_tokens_map.json: 100%"
      }
     },
     "f5b0b9f7fad742188e55cb90b33e0f19": {
      "model_module": "@jupyter-widgets/controls",
      "model_module_version": "2.0.0",
      "model_name": "FloatProgressModel",
      "state": {
       "_model_module": "@jupyter-widgets/controls",
       "_model_name": "FloatProgressModel",
       "_view_name": "ErrorWidgetView",
       "bar_style": "success",
       "description": "",
       "description_allow_html": false,
       "error": {
        "message": "Loading chunk 202 failed.\n(error: http://192.168.3.2:9900/lab/extensions/@jupyter-widgets/jupyterlab-manager/static/202.0336063976910618ce3f.js?v=0336063976910618ce3f)",
        "name": "ChunkLoadError",
        "request": "http://192.168.3.2:9900/lab/extensions/@jupyter-widgets/jupyterlab-manager/static/202.0336063976910618ce3f.js?v=0336063976910618ce3f",
        "type": "error"
       },
       "layout": "IPY_MODEL_b934d80b2ab14106b744a16bbb2b82bf",
       "max": 479,
       "min": 0,
       "msg": "Failed to load model class 'FloatProgressModel' from module '@jupyter-widgets/controls'",
       "orientation": "horizontal",
       "style": "IPY_MODEL_f7323a22e7004c288bdf11832d4136ca",
       "value": 479
      }
     },
     "f5f2e96cd0ff4e639c0e8657cd775073": {
      "model_module": "@jupyter-widgets/controls",
      "model_module_version": "2.0.0",
      "model_name": "HTMLStyleModel",
      "state": {
       "_model_module": "@jupyter-widgets/controls",
       "_model_name": "HTMLStyleModel",
       "_view_name": "ErrorWidgetView",
       "background": null,
       "description_width": "",
       "error": {
        "message": "Loading chunk 495 failed.\n(error: http://192.168.3.2:9900/lab/extensions/@jupyter-widgets/jupyterlab-manager/static/495.3e275af54861cdeb3e75.js?v=3e275af54861cdeb3e75)",
        "name": "ChunkLoadError",
        "request": "http://192.168.3.2:9900/lab/extensions/@jupyter-widgets/jupyterlab-manager/static/495.3e275af54861cdeb3e75.js?v=3e275af54861cdeb3e75",
        "type": "error"
       },
       "font_size": null,
       "msg": "Failed to load model class 'HTMLStyleModel' from module '@jupyter-widgets/controls'",
       "text_color": null
      }
     },
     "f60813a7ecd74e2696ee72ed051ebdff": {
      "model_module": "@jupyter-widgets/controls",
      "model_module_version": "2.0.0",
      "model_name": "HTMLModel",
      "state": {
       "_model_module": "@jupyter-widgets/controls",
       "_model_name": "HTMLModel",
       "_view_name": "ErrorWidgetView",
       "description": "",
       "description_allow_html": false,
       "error": {
        "message": "Loading chunk 202 failed.\n(error: http://192.168.3.2:9900/lab/extensions/@jupyter-widgets/jupyterlab-manager/static/202.0336063976910618ce3f.js?v=0336063976910618ce3f)",
        "name": "ChunkLoadError",
        "request": "http://192.168.3.2:9900/lab/extensions/@jupyter-widgets/jupyterlab-manager/static/202.0336063976910618ce3f.js?v=0336063976910618ce3f",
        "type": "error"
       },
       "layout": "IPY_MODEL_940eac5472b64d4585a0ed88aa426218",
       "msg": "Failed to load model class 'HTMLModel' from module '@jupyter-widgets/controls'",
       "placeholder": "​",
       "style": "IPY_MODEL_2831a9161c5c40639b06e08aee678f68",
       "value": "preprocessor_config.json: 100%"
      }
     },
     "f610e64919214f61a16c8a03b895422c": {
      "model_module": "@jupyter-widgets/controls",
      "model_module_version": "2.0.0",
      "model_name": "HTMLStyleModel",
      "state": {
       "_model_module": "@jupyter-widgets/controls",
       "_model_name": "HTMLStyleModel",
       "_view_name": "ErrorWidgetView",
       "background": null,
       "description_width": "",
       "error": {
        "message": "Loading chunk 495 failed.\n(error: http://192.168.3.2:9900/lab/extensions/@jupyter-widgets/jupyterlab-manager/static/495.3e275af54861cdeb3e75.js?v=3e275af54861cdeb3e75)",
        "name": "ChunkLoadError",
        "request": "http://192.168.3.2:9900/lab/extensions/@jupyter-widgets/jupyterlab-manager/static/495.3e275af54861cdeb3e75.js?v=3e275af54861cdeb3e75",
        "type": "error"
       },
       "font_size": null,
       "msg": "Failed to load model class 'HTMLStyleModel' from module '@jupyter-widgets/controls'",
       "text_color": null
      }
     },
     "f62ca6bb051d4bdd85b37e8ae53552b5": {
      "model_module": "@jupyter-widgets/controls",
      "model_module_version": "2.0.0",
      "model_name": "HBoxModel",
      "state": {
       "_model_module": "@jupyter-widgets/controls",
       "_model_name": "HBoxModel",
       "_view_name": "ErrorWidgetView",
       "box_style": "",
       "children": [
        "IPY_MODEL_90de79a46f964a33b7ef2a36a9efaf20",
        "IPY_MODEL_586d2d25f2b7486caa08c276378ccabc",
        "IPY_MODEL_1f45b919aba3496fb882bd166e97ac68"
       ],
       "error": {
        "message": "Loading chunk 495 failed.\n(error: http://192.168.3.2:9900/lab/extensions/@jupyter-widgets/jupyterlab-manager/static/495.3e275af54861cdeb3e75.js?v=3e275af54861cdeb3e75)",
        "name": "ChunkLoadError",
        "request": "http://192.168.3.2:9900/lab/extensions/@jupyter-widgets/jupyterlab-manager/static/495.3e275af54861cdeb3e75.js?v=3e275af54861cdeb3e75",
        "type": "error"
       },
       "layout": "IPY_MODEL_b8954b590127457a98bfbf1b9d0ea398",
       "msg": "Failed to load model class 'HBoxModel' from module '@jupyter-widgets/controls'"
      }
     },
     "f6498405a22043b38c649c498c8480e2": {
      "model_module": "@jupyter-widgets/controls",
      "model_module_version": "2.0.0",
      "model_name": "HTMLModel",
      "state": {
       "_model_module": "@jupyter-widgets/controls",
       "_model_name": "HTMLModel",
       "_view_name": "ErrorWidgetView",
       "description": "",
       "description_allow_html": false,
       "error": {
        "message": "Loading chunk 202 failed.\n(error: http://192.168.3.2:9900/lab/extensions/@jupyter-widgets/jupyterlab-manager/static/202.0336063976910618ce3f.js?v=0336063976910618ce3f)",
        "name": "ChunkLoadError",
        "request": "http://192.168.3.2:9900/lab/extensions/@jupyter-widgets/jupyterlab-manager/static/202.0336063976910618ce3f.js?v=0336063976910618ce3f",
        "type": "error"
       },
       "layout": "IPY_MODEL_4fbb098a95104b57b58d21078f3091e4",
       "msg": "Failed to load model class 'HTMLModel' from module '@jupyter-widgets/controls'",
       "placeholder": "​",
       "style": "IPY_MODEL_ada4c91a20384a839b0a1399a5c6ab79",
       "value": " 792k/792k [00:02&lt;00:00, 385kB/s]"
      }
     },
     "f6a785c64e394c1890455789461ec1bb": {
      "model_module": "@jupyter-widgets/base",
      "model_module_version": "2.0.0",
      "model_name": "LayoutModel",
      "state": {}
     },
     "f6d154ba4277490dbb2f5c6a66107063": {
      "model_module": "@jupyter-widgets/base",
      "model_module_version": "2.0.0",
      "model_name": "LayoutModel",
      "state": {}
     },
     "f6f0874bfdc44653980da3f2b36acc1e": {
      "model_module": "@jupyter-widgets/base",
      "model_module_version": "2.0.0",
      "model_name": "LayoutModel",
      "state": {}
     },
     "f6f5f2c19f674602bb812996cb431a64": {
      "model_module": "@jupyter-widgets/base",
      "model_module_version": "2.0.0",
      "model_name": "LayoutModel",
      "state": {}
     },
     "f725c3d27ca14f8292d2048802718bcc": {
      "model_module": "@jupyter-widgets/base",
      "model_module_version": "2.0.0",
      "model_name": "LayoutModel",
      "state": {}
     },
     "f7323a22e7004c288bdf11832d4136ca": {
      "model_module": "@jupyter-widgets/controls",
      "model_module_version": "2.0.0",
      "model_name": "ProgressStyleModel",
      "state": {
       "_model_module": "@jupyter-widgets/controls",
       "_model_name": "ProgressStyleModel",
       "_view_name": "ErrorWidgetView",
       "bar_color": null,
       "description_width": "",
       "error": {
        "message": "Loading chunk 495 failed.\n(error: http://192.168.3.2:9900/lab/extensions/@jupyter-widgets/jupyterlab-manager/static/495.3e275af54861cdeb3e75.js?v=3e275af54861cdeb3e75)",
        "name": "ChunkLoadError",
        "request": "http://192.168.3.2:9900/lab/extensions/@jupyter-widgets/jupyterlab-manager/static/495.3e275af54861cdeb3e75.js?v=3e275af54861cdeb3e75",
        "type": "error"
       },
       "msg": "Failed to load model class 'ProgressStyleModel' from module '@jupyter-widgets/controls'"
      }
     },
     "f7376a6295384db88e8c01430f9748a7": {
      "model_module": "@jupyter-widgets/controls",
      "model_module_version": "2.0.0",
      "model_name": "HTMLStyleModel",
      "state": {
       "_model_module": "@jupyter-widgets/controls",
       "_model_name": "HTMLStyleModel",
       "_view_name": "ErrorWidgetView",
       "background": null,
       "description_width": "",
       "error": {
        "message": "Loading chunk 495 failed.\n(error: http://192.168.3.2:9900/lab/extensions/@jupyter-widgets/jupyterlab-manager/static/495.3e275af54861cdeb3e75.js?v=3e275af54861cdeb3e75)",
        "name": "ChunkLoadError",
        "request": "http://192.168.3.2:9900/lab/extensions/@jupyter-widgets/jupyterlab-manager/static/495.3e275af54861cdeb3e75.js?v=3e275af54861cdeb3e75",
        "type": "error"
       },
       "font_size": null,
       "msg": "Failed to load model class 'HTMLStyleModel' from module '@jupyter-widgets/controls'",
       "text_color": null
      }
     },
     "f7d31243295a4b718605935a1d9e0842": {
      "model_module": "@jupyter-widgets/controls",
      "model_module_version": "2.0.0",
      "model_name": "HTMLModel",
      "state": {
       "_model_module": "@jupyter-widgets/controls",
       "_model_name": "HTMLModel",
       "_view_name": "ErrorWidgetView",
       "description": "",
       "description_allow_html": false,
       "error": {
        "message": "Loading chunk 202 failed.\n(error: http://192.168.3.2:9900/lab/extensions/@jupyter-widgets/jupyterlab-manager/static/202.0336063976910618ce3f.js?v=0336063976910618ce3f)",
        "name": "ChunkLoadError",
        "request": "http://192.168.3.2:9900/lab/extensions/@jupyter-widgets/jupyterlab-manager/static/202.0336063976910618ce3f.js?v=0336063976910618ce3f",
        "type": "error"
       },
       "layout": "IPY_MODEL_d0cf7b757ad2420b9ca7ee1674aee7a5",
       "msg": "Failed to load model class 'HTMLModel' from module '@jupyter-widgets/controls'",
       "placeholder": "​",
       "style": "IPY_MODEL_98fda7fbf0ac4aa7b0d702f95f5df848",
       "value": " 112/112 [00:00&lt;00:00, 7.04kB/s]"
      }
     },
     "f8875e08d00a4365adc00dc21ee4e737": {
      "model_module": "@jupyter-widgets/controls",
      "model_module_version": "2.0.0",
      "model_name": "FloatProgressModel",
      "state": {
       "_model_module": "@jupyter-widgets/controls",
       "_model_name": "FloatProgressModel",
       "_view_name": "ErrorWidgetView",
       "bar_style": "success",
       "description": "",
       "description_allow_html": false,
       "error": {
        "message": "Loading chunk 495 failed.\n(error: http://192.168.3.2:9900/lab/extensions/@jupyter-widgets/jupyterlab-manager/static/495.3e275af54861cdeb3e75.js?v=3e275af54861cdeb3e75)",
        "name": "ChunkLoadError",
        "request": "http://192.168.3.2:9900/lab/extensions/@jupyter-widgets/jupyterlab-manager/static/495.3e275af54861cdeb3e75.js?v=3e275af54861cdeb3e75",
        "type": "error"
       },
       "layout": "IPY_MODEL_c08b2f5f6543413daa11c608978d1b74",
       "max": 1,
       "min": 0,
       "msg": "Failed to load model class 'FloatProgressModel' from module '@jupyter-widgets/controls'",
       "orientation": "horizontal",
       "style": "IPY_MODEL_69fb31c6832e4734b54be64e8e93a09c",
       "value": 1
      }
     },
     "f8972751705b4d6b8ee7f12935fe2d28": {
      "model_module": "@jupyter-widgets/controls",
      "model_module_version": "2.0.0",
      "model_name": "HTMLModel",
      "state": {
       "_model_module": "@jupyter-widgets/controls",
       "_model_name": "HTMLModel",
       "_view_name": "ErrorWidgetView",
       "description": "",
       "description_allow_html": false,
       "error": {
        "message": "Loading chunk 202 failed.\n(error: http://192.168.3.2:9900/lab/extensions/@jupyter-widgets/jupyterlab-manager/static/202.0336063976910618ce3f.js?v=0336063976910618ce3f)",
        "name": "ChunkLoadError",
        "request": "http://192.168.3.2:9900/lab/extensions/@jupyter-widgets/jupyterlab-manager/static/202.0336063976910618ce3f.js?v=0336063976910618ce3f",
        "type": "error"
       },
       "layout": "IPY_MODEL_6df8cdf54d564dc586ae37aa7595b04e",
       "msg": "Failed to load model class 'HTMLModel' from module '@jupyter-widgets/controls'",
       "placeholder": "​",
       "style": "IPY_MODEL_9b7c6db790484b668e51b231630700c6",
       "value": " 2.48M/? [00:00&lt;00:00, 4.86MB/s]"
      }
     },
     "f8e813e38e0a40caa002ef28b0218f38": {
      "model_module": "@jupyter-widgets/controls",
      "model_module_version": "2.0.0",
      "model_name": "FloatProgressModel",
      "state": {
       "_model_module": "@jupyter-widgets/controls",
       "_model_name": "FloatProgressModel",
       "_view_name": "ErrorWidgetView",
       "bar_style": "success",
       "description": "",
       "description_allow_html": false,
       "error": {
        "message": "Loading chunk 495 failed.\n(error: http://192.168.3.2:9900/lab/extensions/@jupyter-widgets/jupyterlab-manager/static/495.3e275af54861cdeb3e75.js?v=3e275af54861cdeb3e75)",
        "name": "ChunkLoadError",
        "request": "http://192.168.3.2:9900/lab/extensions/@jupyter-widgets/jupyterlab-manager/static/495.3e275af54861cdeb3e75.js?v=3e275af54861cdeb3e75",
        "type": "error"
       },
       "layout": "IPY_MODEL_8c32ec595049492ba655529d1832a621",
       "max": 509,
       "min": 0,
       "msg": "Failed to load model class 'FloatProgressModel' from module '@jupyter-widgets/controls'",
       "orientation": "horizontal",
       "style": "IPY_MODEL_1a1ba3e144df4c28b4fef7b6ef2295e2",
       "value": 509
      }
     },
     "f8eb6c96caf14b9a9c4e226939d547a4": {
      "model_module": "@jupyter-widgets/controls",
      "model_module_version": "2.0.0",
      "model_name": "HTMLStyleModel",
      "state": {
       "_model_module": "@jupyter-widgets/controls",
       "_model_name": "HTMLStyleModel",
       "_view_name": "ErrorWidgetView",
       "background": null,
       "description_width": "",
       "error": {
        "message": "Loading chunk 202 failed.\n(error: http://192.168.3.2:9900/lab/extensions/@jupyter-widgets/jupyterlab-manager/static/202.0336063976910618ce3f.js?v=0336063976910618ce3f)",
        "name": "ChunkLoadError",
        "request": "http://192.168.3.2:9900/lab/extensions/@jupyter-widgets/jupyterlab-manager/static/202.0336063976910618ce3f.js?v=0336063976910618ce3f",
        "type": "error"
       },
       "font_size": null,
       "msg": "Failed to load model class 'HTMLStyleModel' from module '@jupyter-widgets/controls'",
       "text_color": null
      }
     },
     "f9108b0dfba84179b4925ead5f1eca63": {
      "model_module": "@jupyter-widgets/controls",
      "model_module_version": "2.0.0",
      "model_name": "HTMLModel",
      "state": {
       "_model_module": "@jupyter-widgets/controls",
       "_model_name": "HTMLModel",
       "_view_name": "ErrorWidgetView",
       "description": "",
       "description_allow_html": false,
       "error": {
        "message": "Loading chunk 495 failed.\n(error: http://192.168.3.2:9900/lab/extensions/@jupyter-widgets/jupyterlab-manager/static/495.3e275af54861cdeb3e75.js?v=3e275af54861cdeb3e75)",
        "name": "ChunkLoadError",
        "request": "http://192.168.3.2:9900/lab/extensions/@jupyter-widgets/jupyterlab-manager/static/495.3e275af54861cdeb3e75.js?v=3e275af54861cdeb3e75",
        "type": "error"
       },
       "layout": "IPY_MODEL_65985a315a524b16aa84b76585e3c31f",
       "msg": "Failed to load model class 'HTMLModel' from module '@jupyter-widgets/controls'",
       "placeholder": "​",
       "style": "IPY_MODEL_7b2106f5a3d64247bfe2320910eaac9f",
       "value": "vocab.json: "
      }
     },
     "f9c3707c0f414158bc8e7ec916cae608": {
      "model_module": "@jupyter-widgets/base",
      "model_module_version": "2.0.0",
      "model_name": "LayoutModel",
      "state": {}
     },
     "f9e07c1da36f4b68bf35ed06ea952490": {
      "model_module": "@jupyter-widgets/controls",
      "model_module_version": "2.0.0",
      "model_name": "ProgressStyleModel",
      "state": {
       "_model_module": "@jupyter-widgets/controls",
       "_model_name": "ProgressStyleModel",
       "_view_name": "ErrorWidgetView",
       "bar_color": null,
       "description_width": "",
       "error": {
        "message": "Loading chunk 202 failed.\n(error: http://192.168.3.2:9900/lab/extensions/@jupyter-widgets/jupyterlab-manager/static/202.0336063976910618ce3f.js?v=0336063976910618ce3f)",
        "name": "ChunkLoadError",
        "request": "http://192.168.3.2:9900/lab/extensions/@jupyter-widgets/jupyterlab-manager/static/202.0336063976910618ce3f.js?v=0336063976910618ce3f",
        "type": "error"
       },
       "msg": "Failed to load model class 'ProgressStyleModel' from module '@jupyter-widgets/controls'"
      }
     },
     "f9f059f4bdc1430492a889f63efe7a7e": {
      "model_module": "@jupyter-widgets/controls",
      "model_module_version": "2.0.0",
      "model_name": "FloatProgressModel",
      "state": {
       "_model_module": "@jupyter-widgets/controls",
       "_model_name": "FloatProgressModel",
       "_view_name": "ErrorWidgetView",
       "bar_style": "success",
       "description": "",
       "description_allow_html": false,
       "error": {
        "message": "Loading chunk 202 failed.\n(error: http://192.168.3.2:9900/lab/extensions/@jupyter-widgets/jupyterlab-manager/static/202.0336063976910618ce3f.js?v=0336063976910618ce3f)",
        "name": "ChunkLoadError",
        "request": "http://192.168.3.2:9900/lab/extensions/@jupyter-widgets/jupyterlab-manager/static/202.0336063976910618ce3f.js?v=0336063976910618ce3f",
        "type": "error"
       },
       "layout": "IPY_MODEL_f9c3707c0f414158bc8e7ec916cae608",
       "max": 346293852,
       "min": 0,
       "msg": "Failed to load model class 'FloatProgressModel' from module '@jupyter-widgets/controls'",
       "orientation": "horizontal",
       "style": "IPY_MODEL_1126a51b16a842b8ac661ad1b0229063",
       "value": 346293852
      }
     },
     "fa3208153c444113973cfd26ddb15249": {
      "model_module": "@jupyter-widgets/controls",
      "model_module_version": "2.0.0",
      "model_name": "FloatProgressModel",
      "state": {
       "_model_module": "@jupyter-widgets/controls",
       "_model_name": "FloatProgressModel",
       "_view_name": "ErrorWidgetView",
       "bar_style": "success",
       "description": "",
       "description_allow_html": false,
       "error": {
        "message": "Loading chunk 202 failed.\n(error: http://192.168.3.2:9900/lab/extensions/@jupyter-widgets/jupyterlab-manager/static/202.0336063976910618ce3f.js?v=0336063976910618ce3f)",
        "name": "ChunkLoadError",
        "request": "http://192.168.3.2:9900/lab/extensions/@jupyter-widgets/jupyterlab-manager/static/202.0336063976910618ce3f.js?v=0336063976910618ce3f",
        "type": "error"
       },
       "layout": "IPY_MODEL_76042058faaa4d628c1215dee14d92f6",
       "max": 213,
       "min": 0,
       "msg": "Failed to load model class 'FloatProgressModel' from module '@jupyter-widgets/controls'",
       "orientation": "horizontal",
       "style": "IPY_MODEL_92ad46e4fc7e479ca18cb33b3013dfe1",
       "value": 213
      }
     },
     "fa5a693ae16043e1b6263ebef4c87b30": {
      "model_module": "@jupyter-widgets/controls",
      "model_module_version": "2.0.0",
      "model_name": "HTMLStyleModel",
      "state": {
       "_model_module": "@jupyter-widgets/controls",
       "_model_name": "HTMLStyleModel",
       "_view_name": "ErrorWidgetView",
       "background": null,
       "description_width": "",
       "error": {
        "message": "Loading chunk 495 failed.\n(error: http://192.168.3.2:9900/lab/extensions/@jupyter-widgets/jupyterlab-manager/static/495.3e275af54861cdeb3e75.js?v=3e275af54861cdeb3e75)",
        "name": "ChunkLoadError",
        "request": "http://192.168.3.2:9900/lab/extensions/@jupyter-widgets/jupyterlab-manager/static/495.3e275af54861cdeb3e75.js?v=3e275af54861cdeb3e75",
        "type": "error"
       },
       "font_size": null,
       "msg": "Failed to load model class 'HTMLStyleModel' from module '@jupyter-widgets/controls'",
       "text_color": null
      }
     },
     "fa6c6e4613a345a9a98caab7620c3ef5": {
      "model_module": "@jupyter-widgets/controls",
      "model_module_version": "2.0.0",
      "model_name": "HTMLStyleModel",
      "state": {
       "_model_module": "@jupyter-widgets/controls",
       "_model_name": "HTMLStyleModel",
       "_view_name": "ErrorWidgetView",
       "background": null,
       "description_width": "",
       "error": {
        "message": "Loading chunk 202 failed.\n(error: http://192.168.3.2:9900/lab/extensions/@jupyter-widgets/jupyterlab-manager/static/202.0336063976910618ce3f.js?v=0336063976910618ce3f)",
        "name": "ChunkLoadError",
        "request": "http://192.168.3.2:9900/lab/extensions/@jupyter-widgets/jupyterlab-manager/static/202.0336063976910618ce3f.js?v=0336063976910618ce3f",
        "type": "error"
       },
       "font_size": null,
       "msg": "Failed to load model class 'HTMLStyleModel' from module '@jupyter-widgets/controls'",
       "text_color": null
      }
     },
     "fa9bdb017a314a66a177389ffb9bf754": {
      "model_module": "@jupyter-widgets/base",
      "model_module_version": "2.0.0",
      "model_name": "LayoutModel",
      "state": {}
     },
     "faa6f84a3c84440c86b2ee8d67a992a3": {
      "model_module": "@jupyter-widgets/controls",
      "model_module_version": "2.0.0",
      "model_name": "HTMLModel",
      "state": {
       "_model_module": "@jupyter-widgets/controls",
       "_model_name": "HTMLModel",
       "_view_name": "ErrorWidgetView",
       "description": "",
       "description_allow_html": false,
       "error": {
        "message": "Loading chunk 495 failed.\n(error: http://192.168.3.2:9900/lab/extensions/@jupyter-widgets/jupyterlab-manager/static/495.3e275af54861cdeb3e75.js?v=3e275af54861cdeb3e75)",
        "name": "ChunkLoadError",
        "request": "http://192.168.3.2:9900/lab/extensions/@jupyter-widgets/jupyterlab-manager/static/495.3e275af54861cdeb3e75.js?v=3e275af54861cdeb3e75",
        "type": "error"
       },
       "layout": "IPY_MODEL_7b8631b1427c4cc091b4849842dacb56",
       "msg": "Failed to load model class 'HTMLModel' from module '@jupyter-widgets/controls'",
       "placeholder": "​",
       "style": "IPY_MODEL_a591eb9ac63a4c859885eabc9e418fad",
       "value": " 3.87k/? [00:00&lt;00:00, 241kB/s]"
      }
     },
     "fab93e0273944ccbbc632f846972b8fe": {
      "model_module": "@jupyter-widgets/controls",
      "model_module_version": "2.0.0",
      "model_name": "HBoxModel",
      "state": {
       "_model_module": "@jupyter-widgets/controls",
       "_model_name": "HBoxModel",
       "_view_name": "ErrorWidgetView",
       "box_style": "",
       "children": [
        "IPY_MODEL_eec86d3b2da74346b3224eaa6d07313e",
        "IPY_MODEL_7ae1b33e4c1b460b9f185aa71c3d0ce2",
        "IPY_MODEL_09afea5286b64ab8b2394851f428b131"
       ],
       "error": {
        "message": "Loading chunk 495 failed.\n(error: http://192.168.3.2:9900/lab/extensions/@jupyter-widgets/jupyterlab-manager/static/495.3e275af54861cdeb3e75.js?v=3e275af54861cdeb3e75)",
        "name": "ChunkLoadError",
        "request": "http://192.168.3.2:9900/lab/extensions/@jupyter-widgets/jupyterlab-manager/static/495.3e275af54861cdeb3e75.js?v=3e275af54861cdeb3e75",
        "type": "error"
       },
       "layout": "IPY_MODEL_087af49717e145a9a6da81a339d74019",
       "msg": "Failed to load model class 'HBoxModel' from module '@jupyter-widgets/controls'"
      }
     },
     "fae694f3215a45f8a8ebea4080bd2a2b": {
      "model_module": "@jupyter-widgets/base",
      "model_module_version": "2.0.0",
      "model_name": "LayoutModel",
      "state": {}
     },
     "fb4a1624d8eb4bb1a9381716bedba500": {
      "model_module": "@jupyter-widgets/controls",
      "model_module_version": "2.0.0",
      "model_name": "FloatProgressModel",
      "state": {
       "_model_module": "@jupyter-widgets/controls",
       "_model_name": "FloatProgressModel",
       "_view_name": "ErrorWidgetView",
       "bar_style": "success",
       "description": "",
       "description_allow_html": false,
       "error": {
        "message": "Loading chunk 202 failed.\n(error: http://192.168.3.2:9900/lab/extensions/@jupyter-widgets/jupyterlab-manager/static/202.0336063976910618ce3f.js?v=0336063976910618ce3f)",
        "name": "ChunkLoadError",
        "request": "http://192.168.3.2:9900/lab/extensions/@jupyter-widgets/jupyterlab-manager/static/202.0336063976910618ce3f.js?v=0336063976910618ce3f",
        "type": "error"
       },
       "layout": "IPY_MODEL_94da38c0706745039e79eede8e7ff8ea",
       "max": 1,
       "min": 0,
       "msg": "Failed to load model class 'FloatProgressModel' from module '@jupyter-widgets/controls'",
       "orientation": "horizontal",
       "style": "IPY_MODEL_1364e43b3e5c4c5b9111de875fbdb709",
       "value": 1
      }
     },
     "fb9bb5ea4fb5475696b18a87745fc485": {
      "model_module": "@jupyter-widgets/controls",
      "model_module_version": "2.0.0",
      "model_name": "HTMLModel",
      "state": {
       "_model_module": "@jupyter-widgets/controls",
       "_model_name": "HTMLModel",
       "_view_name": "ErrorWidgetView",
       "description": "",
       "description_allow_html": false,
       "error": {
        "message": "Loading chunk 495 failed.\n(error: http://192.168.3.2:9900/lab/extensions/@jupyter-widgets/jupyterlab-manager/static/495.3e275af54861cdeb3e75.js?v=3e275af54861cdeb3e75)",
        "name": "ChunkLoadError",
        "request": "http://192.168.3.2:9900/lab/extensions/@jupyter-widgets/jupyterlab-manager/static/495.3e275af54861cdeb3e75.js?v=3e275af54861cdeb3e75",
        "type": "error"
       },
       "layout": "IPY_MODEL_ca2efc64005949f9aaa1b3cbf113374f",
       "msg": "Failed to load model class 'HTMLModel' from module '@jupyter-widgets/controls'",
       "placeholder": "​",
       "style": "IPY_MODEL_851fec34391f483e91bfd268501156e0",
       "value": "model.safetensors: 100%"
      }
     },
     "fbc3ae1eb4474ad1803897c5f5d96bd1": {
      "model_module": "@jupyter-widgets/controls",
      "model_module_version": "2.0.0",
      "model_name": "HTMLModel",
      "state": {
       "_model_module": "@jupyter-widgets/controls",
       "_model_name": "HTMLModel",
       "_view_name": "ErrorWidgetView",
       "description": "",
       "description_allow_html": false,
       "error": {
        "message": "Loading chunk 495 failed.\n(error: http://192.168.3.2:9900/lab/extensions/@jupyter-widgets/jupyterlab-manager/static/495.3e275af54861cdeb3e75.js?v=3e275af54861cdeb3e75)",
        "name": "ChunkLoadError",
        "request": "http://192.168.3.2:9900/lab/extensions/@jupyter-widgets/jupyterlab-manager/static/495.3e275af54861cdeb3e75.js?v=3e275af54861cdeb3e75",
        "type": "error"
       },
       "layout": "IPY_MODEL_1c73078557bb49a7ab518c0e344ef2cb",
       "msg": "Failed to load model class 'HTMLModel' from module '@jupyter-widgets/controls'",
       "placeholder": "​",
       "style": "IPY_MODEL_563af5dd049a4897823d8b27cdb936e9",
       "value": "tokenizer.json: "
      }
     },
     "fc36521ad62e4feb8d154b0915357ee3": {
      "model_module": "@jupyter-widgets/base",
      "model_module_version": "2.0.0",
      "model_name": "LayoutModel",
      "state": {}
     },
     "fc7e4a6d93da4928a8afaa1864c61cdd": {
      "model_module": "@jupyter-widgets/controls",
      "model_module_version": "2.0.0",
      "model_name": "HTMLStyleModel",
      "state": {
       "_model_module": "@jupyter-widgets/controls",
       "_model_name": "HTMLStyleModel",
       "_view_name": "ErrorWidgetView",
       "background": null,
       "description_width": "",
       "error": {
        "message": "Loading chunk 495 failed.\n(error: http://192.168.3.2:9900/lab/extensions/@jupyter-widgets/jupyterlab-manager/static/495.3e275af54861cdeb3e75.js?v=3e275af54861cdeb3e75)",
        "name": "ChunkLoadError",
        "request": "http://192.168.3.2:9900/lab/extensions/@jupyter-widgets/jupyterlab-manager/static/495.3e275af54861cdeb3e75.js?v=3e275af54861cdeb3e75",
        "type": "error"
       },
       "font_size": null,
       "msg": "Failed to load model class 'HTMLStyleModel' from module '@jupyter-widgets/controls'",
       "text_color": null
      }
     },
     "fc8b84ca663d4e0fbd83bfea77126742": {
      "model_module": "@jupyter-widgets/base",
      "model_module_version": "2.0.0",
      "model_name": "LayoutModel",
      "state": {
       "width": "20px"
      }
     },
     "fceb840c57cc47248829149af75f6e94": {
      "model_module": "@jupyter-widgets/controls",
      "model_module_version": "2.0.0",
      "model_name": "ProgressStyleModel",
      "state": {
       "_model_module": "@jupyter-widgets/controls",
       "_model_name": "ProgressStyleModel",
       "_view_name": "ErrorWidgetView",
       "bar_color": null,
       "description_width": "",
       "error": {
        "message": "Loading chunk 202 failed.\n(error: http://192.168.3.2:9900/lab/extensions/@jupyter-widgets/jupyterlab-manager/static/202.0336063976910618ce3f.js?v=0336063976910618ce3f)",
        "name": "ChunkLoadError",
        "request": "http://192.168.3.2:9900/lab/extensions/@jupyter-widgets/jupyterlab-manager/static/202.0336063976910618ce3f.js?v=0336063976910618ce3f",
        "type": "error"
       },
       "msg": "Failed to load model class 'ProgressStyleModel' from module '@jupyter-widgets/controls'"
      }
     },
     "fd0e076e754c4bdcb1744941f0e0a5eb": {
      "model_module": "@jupyter-widgets/controls",
      "model_module_version": "2.0.0",
      "model_name": "HBoxModel",
      "state": {
       "_model_module": "@jupyter-widgets/controls",
       "_model_name": "HBoxModel",
       "_view_name": "ErrorWidgetView",
       "box_style": "",
       "children": [
        "IPY_MODEL_2121102c91a34c45837c9c1b4c5ea5c3",
        "IPY_MODEL_f8875e08d00a4365adc00dc21ee4e737",
        "IPY_MODEL_5a3c589631a94d30889960247b46dbd4"
       ],
       "error": {
        "message": "Loading chunk 495 failed.\n(error: http://192.168.3.2:9900/lab/extensions/@jupyter-widgets/jupyterlab-manager/static/495.3e275af54861cdeb3e75.js?v=3e275af54861cdeb3e75)",
        "name": "ChunkLoadError",
        "request": "http://192.168.3.2:9900/lab/extensions/@jupyter-widgets/jupyterlab-manager/static/495.3e275af54861cdeb3e75.js?v=3e275af54861cdeb3e75",
        "type": "error"
       },
       "layout": "IPY_MODEL_5f0d9be51f1c4a2781a93a8731dd1080",
       "msg": "Failed to load model class 'HBoxModel' from module '@jupyter-widgets/controls'"
      }
     },
     "fd3aaeade7e04378a047b7491fe34b07": {
      "model_module": "@jupyter-widgets/base",
      "model_module_version": "2.0.0",
      "model_name": "LayoutModel",
      "state": {}
     },
     "fd93af3c94384a5ea1f12bd708533294": {
      "model_module": "@jupyter-widgets/controls",
      "model_module_version": "2.0.0",
      "model_name": "HTMLModel",
      "state": {
       "_model_module": "@jupyter-widgets/controls",
       "_model_name": "HTMLModel",
       "_view_name": "ErrorWidgetView",
       "description": "",
       "description_allow_html": false,
       "error": {
        "message": "Loading chunk 495 failed.\n(error: http://192.168.3.2:9900/lab/extensions/@jupyter-widgets/jupyterlab-manager/static/495.3e275af54861cdeb3e75.js?v=3e275af54861cdeb3e75)",
        "name": "ChunkLoadError",
        "request": "http://192.168.3.2:9900/lab/extensions/@jupyter-widgets/jupyterlab-manager/static/495.3e275af54861cdeb3e75.js?v=3e275af54861cdeb3e75",
        "type": "error"
       },
       "layout": "IPY_MODEL_bbb769beac4248a49a2fe643e8c8ce2c",
       "msg": "Failed to load model class 'HTMLModel' from module '@jupyter-widgets/controls'",
       "placeholder": "​",
       "style": "IPY_MODEL_48bff4db85c24e0295940ad314d2d0bd",
       "value": " 48.0/48.0 [00:00&lt;00:00, 3.01kB/s]"
      }
     },
     "fe8252846ebc45b3a7b5222312c6033f": {
      "model_module": "@jupyter-widgets/base",
      "model_module_version": "2.0.0",
      "model_name": "LayoutModel",
      "state": {
       "width": "20px"
      }
     },
     "feb1ffca916d4e91a14d82b5e5936492": {
      "model_module": "@jupyter-widgets/controls",
      "model_module_version": "2.0.0",
      "model_name": "HTMLModel",
      "state": {
       "_model_module": "@jupyter-widgets/controls",
       "_model_name": "HTMLModel",
       "_view_name": "ErrorWidgetView",
       "description": "",
       "description_allow_html": false,
       "error": {
        "message": "Loading chunk 202 failed.\n(error: http://192.168.3.2:9900/lab/extensions/@jupyter-widgets/jupyterlab-manager/static/202.0336063976910618ce3f.js?v=0336063976910618ce3f)",
        "name": "ChunkLoadError",
        "request": "http://192.168.3.2:9900/lab/extensions/@jupyter-widgets/jupyterlab-manager/static/202.0336063976910618ce3f.js?v=0336063976910618ce3f",
        "type": "error"
       },
       "layout": "IPY_MODEL_2c88fe4c37594dcd818c86d45ff1501a",
       "msg": "Failed to load model class 'HTMLModel' from module '@jupyter-widgets/controls'",
       "placeholder": "​",
       "style": "IPY_MODEL_58cb2f5bc4324c1e8b0200c1d9644ef1",
       "value": " 26.0/26.0 [00:00&lt;00:00, 1.65kB/s]"
      }
     },
     "ff246ce73ce44f52aa7483ee4ee47f16": {
      "model_module": "@jupyter-widgets/base",
      "model_module_version": "2.0.0",
      "model_name": "LayoutModel",
      "state": {}
     },
     "ff6f1baa361b4ee08e40149ebcc15509": {
      "model_module": "@jupyter-widgets/base",
      "model_module_version": "2.0.0",
      "model_name": "LayoutModel",
      "state": {}
     },
     "ff700504f484481e8f92fdfac6e6ed16": {
      "model_module": "@jupyter-widgets/base",
      "model_module_version": "2.0.0",
      "model_name": "LayoutModel",
      "state": {}
     },
     "ff75f54e7e544374b800087d5ef5dd2d": {
      "model_module": "@jupyter-widgets/controls",
      "model_module_version": "2.0.0",
      "model_name": "FloatProgressModel",
      "state": {
       "_model_module": "@jupyter-widgets/controls",
       "_model_name": "FloatProgressModel",
       "_view_name": "ErrorWidgetView",
       "bar_style": "success",
       "description": "",
       "description_allow_html": false,
       "error": {
        "message": "Loading chunk 495 failed.\n(error: http://192.168.3.2:9900/lab/extensions/@jupyter-widgets/jupyterlab-manager/static/495.3e275af54861cdeb3e75.js?v=3e275af54861cdeb3e75)",
        "name": "ChunkLoadError",
        "request": "http://192.168.3.2:9900/lab/extensions/@jupyter-widgets/jupyterlab-manager/static/495.3e275af54861cdeb3e75.js?v=3e275af54861cdeb3e75",
        "type": "error"
       },
       "layout": "IPY_MODEL_c6b2c7b59b3c4526a14c7d06edaa050d",
       "max": 242043056,
       "min": 0,
       "msg": "Failed to load model class 'FloatProgressModel' from module '@jupyter-widgets/controls'",
       "orientation": "horizontal",
       "style": "IPY_MODEL_d8f6f7cc0938429d804fca682cb13efc",
       "value": 242043056
      }
     },
     "ffc6b2af5bd747bdaff4d2dcd84b79bc": {
      "model_module": "@jupyter-widgets/controls",
      "model_module_version": "2.0.0",
      "model_name": "HTMLModel",
      "state": {
       "_model_module": "@jupyter-widgets/controls",
       "_model_name": "HTMLModel",
       "_view_name": "ErrorWidgetView",
       "description": "",
       "description_allow_html": false,
       "error": {
        "message": "Loading chunk 202 failed.\n(error: http://192.168.3.2:9900/lab/extensions/@jupyter-widgets/jupyterlab-manager/static/202.0336063976910618ce3f.js?v=0336063976910618ce3f)",
        "name": "ChunkLoadError",
        "request": "http://192.168.3.2:9900/lab/extensions/@jupyter-widgets/jupyterlab-manager/static/202.0336063976910618ce3f.js?v=0336063976910618ce3f",
        "type": "error"
       },
       "layout": "IPY_MODEL_39dc06b71dd641b9be424aa5f3f1943e",
       "msg": "Failed to load model class 'HTMLModel' from module '@jupyter-widgets/controls'",
       "placeholder": "​",
       "style": "IPY_MODEL_c718a211e0ee405985191af196882055",
       "value": "vocab.txt: "
      }
     },
     "ffd7d041a7804422872314d95d3dba2d": {
      "model_module": "@jupyter-widgets/base",
      "model_module_version": "2.0.0",
      "model_name": "LayoutModel",
      "state": {}
     }
    },
    "version_major": 2,
    "version_minor": 0
   }
  }
 },
 "nbformat": 4,
 "nbformat_minor": 5
}
