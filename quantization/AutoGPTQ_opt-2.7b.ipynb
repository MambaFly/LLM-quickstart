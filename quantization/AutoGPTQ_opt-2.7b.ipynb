{
 "cells": [
  {
   "cell_type": "markdown",
   "metadata": {
    "id": "H_D9kG_efts3"
   },
   "source": [
    "# Transformers 模型量化技术：GPTQ"
   ]
  },
  {
   "cell_type": "markdown",
   "metadata": {
    "id": "X7rrVrEFMGiu"
   },
   "source": [
    "![image](https://huggingface.co/datasets/huggingface/documentation-images/resolve/main/blog/159_autogptq_transformers/thumbnail.jpg)"
   ]
  },
  {
   "cell_type": "markdown",
   "metadata": {
    "id": "Wwsg6nCwoThm"
   },
   "source": [
    "2022年，Frantar等人发表了论文 [GPTQ：Accurate Post-Training Quantization for Generative Pre-trained Transformers](https://arxiv.org/abs/2210.17323)。\n",
    "\n",
    "这篇论文详细介绍了一种训练后量化算法，适用于所有通用的预训练 Transformer模型，同时只有微小的性能下降。\n",
    "\n",
    "GPTQ算法需要通过对量化模型进行推理来校准模型的量化权重。详细的量化算法在[原始论文](https://arxiv.org/pdf/2210.17323.pdf)中有描述。\n",
    "\n",
    "基于[`auto-gptq`](https://github.com/PanQiWei/AutoGPTQ.git) 开源实现库，transformers 支持使用GPTQ算法量化的模型。"
   ]
  },
  {
   "cell_type": "markdown",
   "metadata": {
    "id": "L2ZTO3OSoL5T"
   },
   "source": [
    "## 使用 GPTQ 量化模型\n",
    "\n",
    "为了使用 `auto-gptq` 库量化一个模型，我们需要向量化器传递一个数据集。\n",
    "\n",
    "通常有两种方式构造数据集：\n",
    "- 量化器支持的默认数据集（包括`['wikitext2','c4','c4-new','ptb','ptb-new']`）\n",
    "- 一个字符串列表（这些字符串将被用作数据集）"
   ]
  },
  {
   "cell_type": "markdown",
   "metadata": {
    "id": "4_DJf_pA-lnq"
   },
   "source": [
    "### 使用 GPTQ 算法支持的默认数据集来量化"
   ]
  },
  {
   "cell_type": "code",
   "execution_count": 1,
   "metadata": {
    "execution": {
     "iopub.execute_input": "2024-07-06T05:54:06.613983Z",
     "iopub.status.busy": "2024-07-06T05:54:06.613269Z",
     "iopub.status.idle": "2024-07-06T05:54:09.028339Z",
     "shell.execute_reply": "2024-07-06T05:54:09.027440Z",
     "shell.execute_reply.started": "2024-07-06T05:54:06.613933Z"
    }
   },
   "outputs": [],
   "source": [
    "# 加载数据集\n",
    "\n",
    "from datasets import load_dataset\n",
    "wikidata = load_dataset(\"/data/zlhu/LLM-quickstart/hf/datasets/wikitext/wikitext-2-v1\")['test']['text']"
   ]
  },
  {
   "cell_type": "markdown",
   "metadata": {
    "id": "-H2019RkoiM-"
   },
   "source": [
    "在下面的示例中，让我们尝试使用`\"wikitext2\"`数据集将模型量化为4位精度。支持的精度有`[2, 4, 6, 8]`。"
   ]
  },
  {
   "cell_type": "code",
   "execution_count": 2,
   "metadata": {
    "colab": {
     "base_uri": "https://localhost:8080/",
     "height": 468,
     "referenced_widgets": [
      "1880cdb18a7d438b8f76a2cf9d71b061",
      "3bc570100f374fca872d5f82ecb37c7c",
      "d68ff07b13044cd399d4982e6cb0e069",
      "86b65ec3d9054ff881a0110b3d07ce69",
      "a2712a9a39994d90989dea9cb0b5c549",
      "e6d6441389194757b047883c82795285",
      "5134b285e9d74fe394de3b0df4378a24",
      "6752ba954639416e94281eb3153d5ce6",
      "d281d0eee6fc47bf8ffae0a65b2844ef",
      "726e065027fe4692afc636472cc25a53",
      "1b9052ea55544078b369a88abe942a17",
      "d1f4c0fb1c8e44378a0e330d7aaf9b82",
      "2e6da10e20044181a102ec0509395075",
      "6f6780be37554de486ad2aa0c1079d08",
      "71c3a1a84487461bb16140e140f831a0",
      "92d77b8cdda142edb18e7925823f135b",
      "4f6f0bae65914ab69764932a811cdff1",
      "81a48c0fbbc548408a06eee2bb15cd98",
      "a9f229101e6a49eda5a2ecc62145781d",
      "181c67b7ca484b98a978630affcb7ddf",
      "f4292ce6c4f24dcb87be0b51935df8a2",
      "822286c9eb8d4cf1ae0200636cf015e5",
      "2ef116f4253e417fb461df6b79184692",
      "0326aff6a1854b35b0ad92f6836e7792",
      "b898db732a6d4f6a9001862c6d54fa45",
      "8970a6f89004494a9d9b7fe0c26e8b3d",
      "dae852e6cb354003a1a09d49ea19be71",
      "18338d52e9f2491b9820d531c8a410a1",
      "5989e3e43e204120a4073284986b4789",
      "b24d7b14fe6b482e9d2a36c123d73c1d",
      "e1c6b64a39ae422eb350fdee2cb79d68",
      "8e418b79775141c6839ec7ce366eede6",
      "ae6019d6385745978e18d3df6899ca75",
      "f4efacc1846545afa43850b3b9a0c701",
      "3a803fa0c5a94f3c9a7481603c024cbf",
      "d980cdfae6e5407c92c78d670f527dbf",
      "ab0d119687824938b0d5b6b5207806b2",
      "b3403daded6a4d37823d8ad758acca57",
      "590144bdfd824514b8603e50c00aa1d0",
      "ad530f96f2504ff5b8f14026d1cc34f9",
      "dbe1daa0ba564c189e6479d15166559e",
      "311246c2547548aead7033adec0cbd64",
      "132668df180e4ddf86fc23f19cdf913c",
      "5194d9be91eb45a2988eb17dffeb27b9",
      "cbc2319120e74be38cd38301a59e0ea5",
      "33874bd1cce04305b75ad9044f08dc4d",
      "cddef3367b62419abd4b7ae138d0d618",
      "7ead5371f54549f5819901ea2c262bac",
      "3fe09d88876d425db9c6c1706e76dc12",
      "dfdc242b63574f2eb0cc2370e441545e",
      "e21e50fd996549e79f3e630ac8abd9fe",
      "577bb7b27be04a47ab22bceec7ebe41b",
      "c0c02663859d49a59a927dad1c02fc89",
      "00ac2a926c0c460fa643e157b254b649",
      "9853c963f7de43f1a8840b7f6405e972",
      "8b7f95359d284c349bf2577a18c015cf",
      "2a6f4e0b10c84365a9ceb8478197aa94",
      "b50ad1c48bdb444f936bf6eb9ef16f32",
      "fc8549f4ce2d44679d71702c6c6831c1",
      "fe3730f721c1441897b0a8e1f1e82764",
      "392786affd2441a3b5e8f274eb0c903a",
      "2f06776b9fe647b28f3dd67734d0fa4b",
      "77aaa5569c2344f4844fdad5ce90f8a9",
      "16edfc3a246540b8a547a1f9ce51c0d1",
      "81d3c059e19341a5a120657ffdf1fc28",
      "375445fc761e44ccb33779e9ec60fe71",
      "4f81d19cb86849d59dfaebfbe2a10eea",
      "85dbd059e38343fbb38bf36006f3c9e1",
      "d2440685af434c9d927e9d810a6b423c",
      "6229c5c5d6184bc3b2af59edb4ee5599",
      "72bfadacbf154af0a637450035c65c42",
      "ecd42cbb519b4dfc8013dd72897b62c2",
      "4a673ed256864c3c82c4392cb7b6b261",
      "a69497b9c323430fae0b179d742993e1",
      "12f851dee22d4bffae5ae2c1126ec291",
      "369230435faf4320b05862e330cd2742",
      "c986acc6b50d4f4a9d27ee24e405e0d9",
      "566f2b9b1bef400d8f40f7498b3df8af",
      "fa5eebfd4c6a44f4abc6c171b3bdb4bf",
      "609349a1c50346b7955da961d0f4a9ab",
      "ead76ed1e47b47b38d015e58791e87cf",
      "c922bbbeed854f3fbbf3e324b0725bfe",
      "28ec0d5c26e24b0ba4d6ffb7222d7040",
      "bb382755558f41b8ac6b83d47dc0c06f",
      "a8a6b5b41d85461c8aaa7e7035dea8a3",
      "b9921b8bfbae426aba2bf658d3c5a5ff",
      "7f75ae4dd3164387b6128dcad4d8619b",
      "2b4f2f4516f04bb3b6a4f3aea71fdfac",
      "c7f13e84feaf44d694f70395a1fed7b3",
      "bbefcb7d560245f0b945741bb059d9e2",
      "8fefab0d44ab459ba870b91088901cc3",
      "ea42b0c8afba43ef83952ff1275357bc",
      "7257323c093d4aecad16b1c73963d99d",
      "be07ced9b72d417c9ef860f05205819d",
      "8cfb78d32c9d495384a37f2adad4f214",
      "c8c62f2212524da5ad8d15120a5994af",
      "720906051c7d4ba9be711d4dd265a237",
      "e0f9e91b03e641358461f2d910d2ffcc",
      "b41570ee27f14e0bad1364f5176976ea",
      "ff74dc2286464c7b8884c4702bdae74a",
      "5a54f4b13eb94d01bd769c5d48c94729",
      "cf9710af4c6c44e6bede27461724e6d2",
      "8c3a3257917a4c32b310146a447a7c54",
      "7df99f335e634352a6960e0966b57696",
      "8fe1cfba38a34a3d99b23d05cdd181d3",
      "cb18da2d2b8c41f1823b1689a8962179",
      "5a5ac3f8776f4372925fe601c63be684",
      "ec5b09e8599444e6ae9b22654f479f83",
      "f0f405585d184647afe9faf9a8f12bdc",
      "9cff1286ba114ac195600f89142c38f8",
      "af41858510eb478d8d9c69f8947c5261",
      "dcbc3809225c4c9485b5b680281a727f",
      "34e740eb3dd549d988d0b8c704f221d1",
      "d6ba78ca0f6f4e97b924b67d6da365db",
      "2fe019ca9a944f5fb73da1dd82c5579a",
      "b22a80bb6ed54aa988dfabc09c164794",
      "221f1d6f10774d5397ae21ecba375e99",
      "4c833e48ebc7486aa922e4b67782df18",
      "f82cf57aa6a74e8f85c233c63510588a",
      "ab73fb1b09904e389025fdc764830e24",
      "1e9b517d49354f3c8b722413267d9ba1",
      "c9ab1ea09ddc45db9c649bb0db4d4f4b",
      "2dec347917aa43a4af74869cb0d0751b",
      "526735fa31114c58b4e03f4648c59988",
      "9f4d37d31cc24e13a88548be94cb8dd5",
      "3a9d93fccc554551a5339936ff37f4f7",
      "5dbc8d8b58a7451aa442923587113e27",
      "381f6d6fc4e14b639d848c2321df9aea",
      "07cd986bd7bf4b2e91df6361df5e8cd2",
      "1c590dd7fd2d4b87a02e56a73e8c6cd2",
      "af8fb5b3924f4a148309b262fb31bcc5",
      "0e9bf4e276674429be46e818d6291a87",
      "097f3a4779a74e3180f66560b0347538",
      "f48fa46b4275460eb8c9092a9797ab2a",
      "ef0792efd8b64317b2cbf0e6c2504306",
      "39ae5f7f27204a6b9fcda0b716998417",
      "5cd2d916a67742b28be710135bdbe3fa",
      "0e1b96fb7a08458e801c3b162789b5bb",
      "6647de8a3df94a278d108144c64d969e",
      "286cb3c79d8747b9b1e5de3ab1aff4d5",
      "95080788a5424cd597e2c5c204535ff0",
      "891a9558c5804916a033fee94d06599c",
      "b49e5c81472d4aa895799d70890d61b6",
      "0f5c4ef239d44c02a9c1c53117c12fbc",
      "c2ce4fb2bea342b6b02635d1adc63b96",
      "ca2cdea1d81f4671ad2d4d0a1147f931",
      "f6bb7d77160b481d939c9faa21f61f49",
      "497b8e88c1534c879166fc1b0ecb4184",
      "77cfbcec7a39470ab8d142cd67dcc676",
      "bd159193f35e43aca8ad6244c497ac44",
      "c2028ebe67824dee9932c196679c6920",
      "2a121a81a37943bf99d3cd92e961cedc",
      "9876d27262c6400b88416dd43f3f6c4f",
      "8f4991db20864f48aa025c0f75b4b621",
      "17a4f65808b94b7cb637a4ddddd227e5",
      "c352f759377b4a8ca3bad246dc1a2dca",
      "598e4fa641ec491ebb5f26122ada5d6b",
      "6736dd8ceb3b4aca9ab0b938614f9075",
      "f68b5eead14e4b3a811afc3cb9f57ed8",
      "80952a605cc0468b9e6fb429ed299539",
      "5cf71707e6384f36a8dc8856e6c7b39c",
      "f0be42152fe743efafef518a061aba25",
      "545ab0836c0a43b5b5745f23ff798958",
      "f4494dd20e43415a8016b0fdeb242cff",
      "7956965b0d234142a07f2c1335f19428",
      "6388485b85b241d6839a1addc0004d81",
      "3beeabc17cdd4d30b1c1384d3ff23e7b",
      "d4a027ebea7c425c86f51e1bb55926c5",
      "0aa92a076cac40f7bc17a72490455968",
      "5530b0a841fe4820845e48558fdb994a",
      "249ec68bb4a34a1299dfbf2bc00d3813",
      "0323969428f04db7bb8df5a44b2020e5",
      "dda41887c13d445289fe0068bc640545",
      "830d39cf23b14b538282da200adfc71a",
      "1bc543af85e440649fa963bcb5083b55",
      "4c5d443d664b473faea1c8098d1e8ce3",
      "31518489c13b4039a9fc03ca0fffa933",
      "65da4d3df6c44299b97a7cefc137d2ef",
      "68da191926d44c60bf7e91f253c97ab9",
      "79f62289aeaa45ad9241e5046970a56a",
      "b058e34960e941e3aebc8f61b1fd5cda",
      "ceafeec551f543039d7d1d953c2d54d4",
      "87b19fdbd10147638fc14c91f14403b9",
      "12cb229b02ed443da4305af5f1742531",
      "1f44c06e2aa44422a542c3a608b45808",
      "ba269ea147324c7c9ee419e2d99045bf",
      "5d47b0910292477fb9f10462d1fa831b",
      "235090a2c98c4a9484f4988cf7f003f5",
      "38b6d0e2c6db4feabee91af07a88ec3c",
      "a31e6da7013643c48a7225726313fa55",
      "1a2818686dd44374a54f3aaf439e37b3",
      "c314f57a0b0b451aad29e9fbde5385e1",
      "946f1b4aff26458493e270bbb4136d75",
      "cbc18ed207314bfabfa9cccc975c146f",
      "4d2c30c3d9c14ccaba8434993e049c97",
      "bce94beb47834bcea253a6b5bf12b435",
      "c59bdca7575d4c9d9b1cb4f80dc130a7",
      "a39c7540f3ca44aeac2e7484579588b0",
      "2b4c09e0dae64e76b7b9b47d2d382b25",
      "3358d452584644e6b6bb31c52f7c5371",
      "93016a890b3d43c583a1927d1e59f2a2",
      "0fbd48759430447fb4ab05fb0d7467a6",
      "13511c3ee3364f2e9d94621f20ca7328",
      "c6fb60096ed9409cacbce03d86eced11",
      "f031d1805c76486f82a9d0f8e6a1aa9f",
      "4240fd28cec94147aedeae6ac48cf50b",
      "814d245033494cd4b96829fb130bd3e0",
      "94ca2181c5a844f9b0002a12cf8c02d1",
      "2a22739f4d2148fcb70a137ec7f3702b",
      "dff3485601944cc1a4956708ba5288e9",
      "f3416ca9de19408abed068da001dba95",
      "4a7bf23d815b4e478ba8667214f7dccc",
      "a5dbede577d14b94a9d26aff86c8ce2e",
      "888a1231ca4c47f89008113d36712390",
      "2bc16b4e785644d88c7325ac1f4dcf4e",
      "612bd4ef0b75466badfa63654d017eec",
      "f54145d621cd4df8be0e80da4dac13bb",
      "35f1ed92b3ff428ea74ea3395aada797",
      "af6d993d60d44fed90601e1288f90867",
      "7ee1819aa09a4ba7b204f4b6683bcd9e",
      "0bc89951f2b24688931fc8b14610cf7e",
      "c7f066cde8824f1ea5c155e1b2b8b33b",
      "e6d3859f4e424c569e52b97289a7cb25",
      "b5261f2aacbf473688d14ea34c017899",
      "f63c36a82f7e4ef1b023f5049304c7e1",
      "d899fd79ab434f4ea0400cfdd37716f2",
      "60c2919930bb4fa0aa85af4a1296a7bb",
      "61ce448e5d344ca0a3b01e7e5c3ee15c",
      "7c3c78d176e341a4add7dd15d3bfeb2c",
      "fb8ce606d501414cbb0ab353326f13bc",
      "3d1a5e881bd34a1291edef34cd77a629",
      "da795b06bb414b6a8a45b2a546fbc68d",
      "da5e019c5a5346c9a4093d1ead8912b6",
      "cf6e275b025443b5a20dc9d627297d0b",
      "ac42fda6d5154e81a393c94ad658a46a",
      "4eda0df91473445e983deedd58ab2983",
      "1118675d45c444368cae2473d866057b",
      "991b0a14377246d6b299241bf0f6ead3",
      "8db8b51a3e5d43ee9b78ce809b451a09",
      "911af1b0fe304b7482d945c025ecdf74",
      "eced428220be4f0e82f13d0e76d618cd",
      "6d3ff118b32840a891d5b7e1cbd9fce7",
      "555aed75863b4637aa8174e4ec8a76b2",
      "fd5b5608909d40e8b9eb8241c01b223b",
      "ce7914f77e8a4398838a5667f0df0582",
      "1587ceae6a5a4d8b9fa9ea1f1081d113",
      "826bf7e8f20d4876a53a26de5018acd0",
      "f0fbd37b109d4778837aba5ddf27ba1a",
      "156a2ae5a8664526835d6e23274bf46a",
      "2a86b9d9bfbf4cc8ac46cce25c3b01c2",
      "27beeda60e2144ba82b52533234f274d",
      "07740f4a064c4d82bb86a1ee20ea9fca",
      "879c6c9a602647aa954ecca70c795557",
      "077cba201cbf436dac4ff29df159bcf2",
      "8d0e189719ef4ed39ade7ca1b660e354",
      "b8aa181525924e37b302900688a3341b",
      "fd5fcf2072df4f6aa5571dbf00297e4d",
      "058e321ee0a74cee899b0a7ee5e85dd0",
      "7ee12dfce54040988ab9223ca81b5c8f",
      "37a044abaa6843a69ab8f183937e564e",
      "a0ef8976938446378d9d79f4336c9ec0",
      "1492496deaeb44278442b6db0a2a3d26",
      "7e47af150fb4406593a92f3428bc9f6b",
      "c58046d2e6844ecd856daa5eec19b197",
      "cd3e9031b41e49b19ef10837975b831e",
      "59d34d17db45411fb37c1203fb7c9735",
      "9c8008fda5934608aad96cb82e73a384",
      "f6fffe1f25a24fa599ede7603eabba7f",
      "77684995463340e29a20da2ab825ef43",
      "22dd1e8e03e94fb89b1415986125ad19",
      "24755e3625284e8080444420266454af",
      "85137b58cc40482daa65e95c75efe090",
      "c4ac94030e534f54927d0e1bbab354ad",
      "98060f217abc4f03bf70ec32488456d9",
      "4504cda13d4241858ac49c8e9b8611d6"
     ]
    },
    "execution": {
     "iopub.execute_input": "2024-07-06T05:54:09.030293Z",
     "iopub.status.busy": "2024-07-06T05:54:09.029902Z",
     "iopub.status.idle": "2024-07-06T05:54:12.079324Z",
     "shell.execute_reply": "2024-07-06T05:54:12.078211Z",
     "shell.execute_reply.started": "2024-07-06T05:54:09.030266Z"
    },
    "id": "gEdeadOEoRzq",
    "outputId": "f9943b07-f19e-4f41-9063-21710fbee8af"
   },
   "outputs": [],
   "source": [
    "from transformers import AutoModelForCausalLM, AutoTokenizer, GPTQConfig\n",
    "import torch\n",
    "\n",
    "import os\n",
    "# 设置镜像源地址\n",
    "os.environ[\"HF_ENDPOINT\"] = \"https://hf-mirror.com\"\n",
    "os.environ['HF_HOME'] = '/data/zlhu/LLM-quickstart/hf'\n",
    "os.environ['HF_HUB_CACHE'] = '/data/zlhu/LLM-quickstart/hf/hub'\n",
    "\n",
    "model_name_or_path = \"/data/zlhu/LLM-quickstart/hf/hub/opt-2.7b\"\n",
    "\n",
    "quantization_config = GPTQConfig(\n",
    "     bits=4, # 量化精度\n",
    "     group_size=128,\n",
    "     dataset=wikidata,\n",
    "     desc_act=False,\n",
    ")"
   ]
  },
  {
   "cell_type": "markdown",
   "metadata": {},
   "source": [
    "#### 逐层量化\n",
    "\n",
    "关于 `CUDA extension not installed` 的说明: https://github.com/AutoGPTQ/AutoGPTQ/issues/249"
   ]
  },
  {
   "cell_type": "code",
   "execution_count": 3,
   "metadata": {
    "execution": {
     "iopub.execute_input": "2024-07-06T05:54:12.081459Z",
     "iopub.status.busy": "2024-07-06T05:54:12.081001Z",
     "iopub.status.idle": "2024-07-06T07:17:46.822701Z",
     "shell.execute_reply": "2024-07-06T07:17:46.821800Z",
     "shell.execute_reply.started": "2024-07-06T05:54:12.081431Z"
    }
   },
   "outputs": [
    {
     "name": "stderr",
     "output_type": "stream",
     "text": [
      "CUDA extension not installed.\n",
      "CUDA extension not installed.\n"
     ]
    },
    {
     "data": {
      "application/vnd.jupyter.widget-view+json": {
       "model_id": "4ca0d55e54f44696a985416fa65c80f9",
       "version_major": 2,
       "version_minor": 0
      },
      "text/plain": [
       "Quantizing model.decoder.layers blocks :   0%|          | 0/32 [00:00<?, ?it/s]"
      ]
     },
     "metadata": {},
     "output_type": "display_data"
    },
    {
     "data": {
      "application/vnd.jupyter.widget-view+json": {
       "model_id": "",
       "version_major": 2,
       "version_minor": 0
      },
      "text/plain": [
       "Quantizing layers inside the block:   0%|          | 0/6 [00:00<?, ?it/s]"
      ]
     },
     "metadata": {},
     "output_type": "display_data"
    },
    {
     "data": {
      "application/vnd.jupyter.widget-view+json": {
       "model_id": "",
       "version_major": 2,
       "version_minor": 0
      },
      "text/plain": [
       "Quantizing layers inside the block:   0%|          | 0/6 [00:00<?, ?it/s]"
      ]
     },
     "metadata": {},
     "output_type": "display_data"
    },
    {
     "data": {
      "application/vnd.jupyter.widget-view+json": {
       "model_id": "",
       "version_major": 2,
       "version_minor": 0
      },
      "text/plain": [
       "Quantizing layers inside the block:   0%|          | 0/6 [00:00<?, ?it/s]"
      ]
     },
     "metadata": {},
     "output_type": "display_data"
    },
    {
     "data": {
      "application/vnd.jupyter.widget-view+json": {
       "model_id": "",
       "version_major": 2,
       "version_minor": 0
      },
      "text/plain": [
       "Quantizing layers inside the block:   0%|          | 0/6 [00:00<?, ?it/s]"
      ]
     },
     "metadata": {},
     "output_type": "display_data"
    },
    {
     "data": {
      "application/vnd.jupyter.widget-view+json": {
       "model_id": "",
       "version_major": 2,
       "version_minor": 0
      },
      "text/plain": [
       "Quantizing layers inside the block:   0%|          | 0/6 [00:00<?, ?it/s]"
      ]
     },
     "metadata": {},
     "output_type": "display_data"
    },
    {
     "data": {
      "application/vnd.jupyter.widget-view+json": {
       "model_id": "",
       "version_major": 2,
       "version_minor": 0
      },
      "text/plain": [
       "Quantizing layers inside the block:   0%|          | 0/6 [00:00<?, ?it/s]"
      ]
     },
     "metadata": {},
     "output_type": "display_data"
    },
    {
     "data": {
      "application/vnd.jupyter.widget-view+json": {
       "model_id": "",
       "version_major": 2,
       "version_minor": 0
      },
      "text/plain": [
       "Quantizing layers inside the block:   0%|          | 0/6 [00:00<?, ?it/s]"
      ]
     },
     "metadata": {},
     "output_type": "display_data"
    },
    {
     "data": {
      "application/vnd.jupyter.widget-view+json": {
       "model_id": "",
       "version_major": 2,
       "version_minor": 0
      },
      "text/plain": [
       "Quantizing layers inside the block:   0%|          | 0/6 [00:00<?, ?it/s]"
      ]
     },
     "metadata": {},
     "output_type": "display_data"
    },
    {
     "data": {
      "application/vnd.jupyter.widget-view+json": {
       "model_id": "",
       "version_major": 2,
       "version_minor": 0
      },
      "text/plain": [
       "Quantizing layers inside the block:   0%|          | 0/6 [00:00<?, ?it/s]"
      ]
     },
     "metadata": {},
     "output_type": "display_data"
    },
    {
     "data": {
      "application/vnd.jupyter.widget-view+json": {
       "model_id": "",
       "version_major": 2,
       "version_minor": 0
      },
      "text/plain": [
       "Quantizing layers inside the block:   0%|          | 0/6 [00:00<?, ?it/s]"
      ]
     },
     "metadata": {},
     "output_type": "display_data"
    },
    {
     "data": {
      "application/vnd.jupyter.widget-view+json": {
       "model_id": "",
       "version_major": 2,
       "version_minor": 0
      },
      "text/plain": [
       "Quantizing layers inside the block:   0%|          | 0/6 [00:00<?, ?it/s]"
      ]
     },
     "metadata": {},
     "output_type": "display_data"
    },
    {
     "data": {
      "application/vnd.jupyter.widget-view+json": {
       "model_id": "",
       "version_major": 2,
       "version_minor": 0
      },
      "text/plain": [
       "Quantizing layers inside the block:   0%|          | 0/6 [00:00<?, ?it/s]"
      ]
     },
     "metadata": {},
     "output_type": "display_data"
    },
    {
     "data": {
      "application/vnd.jupyter.widget-view+json": {
       "model_id": "",
       "version_major": 2,
       "version_minor": 0
      },
      "text/plain": [
       "Quantizing layers inside the block:   0%|          | 0/6 [00:00<?, ?it/s]"
      ]
     },
     "metadata": {},
     "output_type": "display_data"
    },
    {
     "data": {
      "application/vnd.jupyter.widget-view+json": {
       "model_id": "",
       "version_major": 2,
       "version_minor": 0
      },
      "text/plain": [
       "Quantizing layers inside the block:   0%|          | 0/6 [00:00<?, ?it/s]"
      ]
     },
     "metadata": {},
     "output_type": "display_data"
    },
    {
     "data": {
      "application/vnd.jupyter.widget-view+json": {
       "model_id": "",
       "version_major": 2,
       "version_minor": 0
      },
      "text/plain": [
       "Quantizing layers inside the block:   0%|          | 0/6 [00:00<?, ?it/s]"
      ]
     },
     "metadata": {},
     "output_type": "display_data"
    },
    {
     "data": {
      "application/vnd.jupyter.widget-view+json": {
       "model_id": "",
       "version_major": 2,
       "version_minor": 0
      },
      "text/plain": [
       "Quantizing layers inside the block:   0%|          | 0/6 [00:00<?, ?it/s]"
      ]
     },
     "metadata": {},
     "output_type": "display_data"
    },
    {
     "data": {
      "application/vnd.jupyter.widget-view+json": {
       "model_id": "",
       "version_major": 2,
       "version_minor": 0
      },
      "text/plain": [
       "Quantizing layers inside the block:   0%|          | 0/6 [00:00<?, ?it/s]"
      ]
     },
     "metadata": {},
     "output_type": "display_data"
    },
    {
     "data": {
      "application/vnd.jupyter.widget-view+json": {
       "model_id": "",
       "version_major": 2,
       "version_minor": 0
      },
      "text/plain": [
       "Quantizing layers inside the block:   0%|          | 0/6 [00:00<?, ?it/s]"
      ]
     },
     "metadata": {},
     "output_type": "display_data"
    },
    {
     "data": {
      "application/vnd.jupyter.widget-view+json": {
       "model_id": "",
       "version_major": 2,
       "version_minor": 0
      },
      "text/plain": [
       "Quantizing layers inside the block:   0%|          | 0/6 [00:00<?, ?it/s]"
      ]
     },
     "metadata": {},
     "output_type": "display_data"
    },
    {
     "data": {
      "application/vnd.jupyter.widget-view+json": {
       "model_id": "",
       "version_major": 2,
       "version_minor": 0
      },
      "text/plain": [
       "Quantizing layers inside the block:   0%|          | 0/6 [00:00<?, ?it/s]"
      ]
     },
     "metadata": {},
     "output_type": "display_data"
    },
    {
     "data": {
      "application/vnd.jupyter.widget-view+json": {
       "model_id": "",
       "version_major": 2,
       "version_minor": 0
      },
      "text/plain": [
       "Quantizing layers inside the block:   0%|          | 0/6 [00:00<?, ?it/s]"
      ]
     },
     "metadata": {},
     "output_type": "display_data"
    },
    {
     "data": {
      "application/vnd.jupyter.widget-view+json": {
       "model_id": "",
       "version_major": 2,
       "version_minor": 0
      },
      "text/plain": [
       "Quantizing layers inside the block:   0%|          | 0/6 [00:00<?, ?it/s]"
      ]
     },
     "metadata": {},
     "output_type": "display_data"
    },
    {
     "data": {
      "application/vnd.jupyter.widget-view+json": {
       "model_id": "",
       "version_major": 2,
       "version_minor": 0
      },
      "text/plain": [
       "Quantizing layers inside the block:   0%|          | 0/6 [00:00<?, ?it/s]"
      ]
     },
     "metadata": {},
     "output_type": "display_data"
    },
    {
     "data": {
      "application/vnd.jupyter.widget-view+json": {
       "model_id": "",
       "version_major": 2,
       "version_minor": 0
      },
      "text/plain": [
       "Quantizing layers inside the block:   0%|          | 0/6 [00:00<?, ?it/s]"
      ]
     },
     "metadata": {},
     "output_type": "display_data"
    },
    {
     "data": {
      "application/vnd.jupyter.widget-view+json": {
       "model_id": "",
       "version_major": 2,
       "version_minor": 0
      },
      "text/plain": [
       "Quantizing layers inside the block:   0%|          | 0/6 [00:00<?, ?it/s]"
      ]
     },
     "metadata": {},
     "output_type": "display_data"
    },
    {
     "data": {
      "application/vnd.jupyter.widget-view+json": {
       "model_id": "",
       "version_major": 2,
       "version_minor": 0
      },
      "text/plain": [
       "Quantizing layers inside the block:   0%|          | 0/6 [00:00<?, ?it/s]"
      ]
     },
     "metadata": {},
     "output_type": "display_data"
    },
    {
     "data": {
      "application/vnd.jupyter.widget-view+json": {
       "model_id": "",
       "version_major": 2,
       "version_minor": 0
      },
      "text/plain": [
       "Quantizing layers inside the block:   0%|          | 0/6 [00:00<?, ?it/s]"
      ]
     },
     "metadata": {},
     "output_type": "display_data"
    },
    {
     "data": {
      "application/vnd.jupyter.widget-view+json": {
       "model_id": "",
       "version_major": 2,
       "version_minor": 0
      },
      "text/plain": [
       "Quantizing layers inside the block:   0%|          | 0/6 [00:00<?, ?it/s]"
      ]
     },
     "metadata": {},
     "output_type": "display_data"
    },
    {
     "data": {
      "application/vnd.jupyter.widget-view+json": {
       "model_id": "",
       "version_major": 2,
       "version_minor": 0
      },
      "text/plain": [
       "Quantizing layers inside the block:   0%|          | 0/6 [00:00<?, ?it/s]"
      ]
     },
     "metadata": {},
     "output_type": "display_data"
    },
    {
     "data": {
      "application/vnd.jupyter.widget-view+json": {
       "model_id": "",
       "version_major": 2,
       "version_minor": 0
      },
      "text/plain": [
       "Quantizing layers inside the block:   0%|          | 0/6 [00:00<?, ?it/s]"
      ]
     },
     "metadata": {},
     "output_type": "display_data"
    },
    {
     "data": {
      "application/vnd.jupyter.widget-view+json": {
       "model_id": "",
       "version_major": 2,
       "version_minor": 0
      },
      "text/plain": [
       "Quantizing layers inside the block:   0%|          | 0/6 [00:00<?, ?it/s]"
      ]
     },
     "metadata": {},
     "output_type": "display_data"
    },
    {
     "data": {
      "application/vnd.jupyter.widget-view+json": {
       "model_id": "",
       "version_major": 2,
       "version_minor": 0
      },
      "text/plain": [
       "Quantizing layers inside the block:   0%|          | 0/6 [00:00<?, ?it/s]"
      ]
     },
     "metadata": {},
     "output_type": "display_data"
    }
   ],
   "source": [
    "import datasets \n",
    "\n",
    "quant_model = AutoModelForCausalLM.from_pretrained(\n",
    "    model_name_or_path,\n",
    "    quantization_config=quantization_config,\n",
    "    device_map='auto')"
   ]
  },
  {
   "cell_type": "markdown",
   "metadata": {
    "jp-MarkdownHeadingCollapsed": true
   },
   "source": [
    "### 实测 GPTQ 量化模型：GPU显存占用峰值超过10GB\n",
    "\n",
    "```shell\n",
    "Wed Feb  7 22:03:42 2024\n",
    "+---------------------------------------------------------------------------------------+\n",
    "| NVIDIA-SMI 545.23.08              Driver Version: 545.23.08    CUDA Version: 12.3     |\n",
    "|-----------------------------------------+----------------------+----------------------+\n",
    "| GPU  Name                 Persistence-M | Bus-Id        Disp.A | Volatile Uncorr. ECC |\n",
    "| Fan  Temp   Perf          Pwr:Usage/Cap |         Memory-Usage | GPU-Util  Compute M. |\n",
    "|                                         |                      |               MIG M. |\n",
    "|=========================================+======================+======================|\n",
    "|   0  Tesla T4                       Off | 00000000:00:0D.0 Off |                    0 |\n",
    "| N/A   66C    P0              69W /  70W |   9719MiB / 15360MiB |    100%      Default |\n",
    "|                                         |                      |                  N/A |\n",
    "+-----------------------------------------+----------------------+----------------------+\n",
    "\n",
    "+---------------------------------------------------------------------------------------+\n",
    "| Processes:                                                                            |\n",
    "|  GPU   GI   CI        PID   Type   Process name                            GPU Memory |\n",
    "|        ID   ID                                                             Usage      |\n",
    "|=======================================================================================|\n",
    "|    0   N/A  N/A      2334      C   /root/miniconda3/bin/python               10714MiB |\n",
    "+---------------------------------------------------------------------------------------+\n",
    "```"
   ]
  },
  {
   "cell_type": "markdown",
   "metadata": {
    "id": "1NP3sd8X-QEo"
   },
   "source": [
    "### 检查量化模型正确性\n",
    "\n",
    "通过检查`线性层的属性`来确保模型已正确量化，它们应该包含`qweight`和`qzeros`属性，这些属性应该是`torch.int32`数据类型。"
   ]
  },
  {
   "cell_type": "code",
   "execution_count": 6,
   "metadata": {
    "colab": {
     "base_uri": "https://localhost:8080/"
    },
    "execution": {
     "iopub.execute_input": "2024-07-06T08:55:17.153220Z",
     "iopub.status.busy": "2024-07-06T08:55:17.152567Z",
     "iopub.status.idle": "2024-07-06T08:55:17.178764Z",
     "shell.execute_reply": "2024-07-06T08:55:17.177357Z",
     "shell.execute_reply.started": "2024-07-06T08:55:17.153166Z"
    },
    "id": "sJRv3bGyZtcB",
    "outputId": "58b886e8-2449-4389-d31b-ca6be9f77054",
    "scrolled": true
   },
   "outputs": [
    {
     "data": {
      "text/plain": [
       "{'training': True,\n",
       " '_parameters': OrderedDict(),\n",
       " '_buffers': OrderedDict([('qweight',\n",
       "               tensor([[ 1766754698, -1249142373,  1183631034,  ..., -2038658921,\n",
       "                        -2037544795, -1956877206],\n",
       "                       [ 1772644489,  1739893370, -1500087466,  ...,  2021033895,\n",
       "                         -662329995,  1739241850],\n",
       "                       [-1164093850, -2007414633, -1951893913,  ..., -1429760649,\n",
       "                         -979785307,  1451914633],\n",
       "                       ...,\n",
       "                       [ 2025363833, -1430615370,  1537972106,  ...,   -56907095,\n",
       "                        -1737062521,  2092541289],\n",
       "                       [ 1753842824, -1432974714, -1788312443,  ..., -1160750984,\n",
       "                        -1983351447,  1449641373],\n",
       "                       [ 2037938326, -2004444805, -1182099061,  ...,  2000055125,\n",
       "                         1754823336,  1953973381]], device='cuda:0', dtype=torch.int32)),\n",
       "              ('qzeros',\n",
       "               tensor([[2004318071, 2004318071, 2004318071,  ..., 2004318071, 2004318071,\n",
       "                        2004318071],\n",
       "                       [2004318071, 2004318071, 2004318071,  ..., 2004318071, 2004318071,\n",
       "                        2004318071],\n",
       "                       [2004318071, 2004318071, 2004318071,  ..., 2004318071, 2004318071,\n",
       "                        2004318071],\n",
       "                       ...,\n",
       "                       [2004318071, 2004318071, 2004318071,  ..., 2004318071, 2004318071,\n",
       "                        2004318071],\n",
       "                       [2004318071, 2004318071, 2004318071,  ..., 2004318071, 2004318071,\n",
       "                        2004318071],\n",
       "                       [2004318071, 2004318071, 2004318071,  ..., 2004318071, 2004318071,\n",
       "                        2004318071]], device='cuda:0', dtype=torch.int32)),\n",
       "              ('scales',\n",
       "               tensor([[0.0046, 0.0046, 0.0046,  ..., 0.0078, 0.0068, 0.0056],\n",
       "                       [0.0053, 0.0041, 0.0071,  ..., 0.0097, 0.0086, 0.0078],\n",
       "                       [0.0083, 0.0074, 0.0055,  ..., 0.0073, 0.0073, 0.0090],\n",
       "                       ...,\n",
       "                       [0.0048, 0.0056, 0.0055,  ..., 0.0059, 0.0076, 0.0088],\n",
       "                       [0.0037, 0.0046, 0.0044,  ..., 0.0083, 0.0098, 0.0058],\n",
       "                       [0.0090, 0.0067, 0.0064,  ..., 0.0060, 0.0067, 0.0055]],\n",
       "                      device='cuda:0', dtype=torch.float16)),\n",
       "              ('g_idx',\n",
       "               tensor([ 0,  0,  0,  ..., 19, 19, 19], device='cuda:0', dtype=torch.int32)),\n",
       "              ('bias',\n",
       "               tensor([-0.1272,  0.0172,  0.0103,  ..., -0.0928,  0.0567,  0.0510],\n",
       "                      device='cuda:0', dtype=torch.float16))]),\n",
       " '_non_persistent_buffers_set': set(),\n",
       " '_backward_pre_hooks': OrderedDict(),\n",
       " '_backward_hooks': OrderedDict(),\n",
       " '_is_full_backward_hook': None,\n",
       " '_forward_hooks': OrderedDict(),\n",
       " '_forward_hooks_with_kwargs': OrderedDict(),\n",
       " '_forward_hooks_always_called': OrderedDict(),\n",
       " '_forward_pre_hooks': OrderedDict(),\n",
       " '_forward_pre_hooks_with_kwargs': OrderedDict(),\n",
       " '_state_dict_hooks': OrderedDict(),\n",
       " '_state_dict_pre_hooks': OrderedDict(),\n",
       " '_load_state_dict_pre_hooks': OrderedDict(),\n",
       " '_load_state_dict_post_hooks': OrderedDict(),\n",
       " '_modules': OrderedDict(),\n",
       " 'infeatures': 2560,\n",
       " 'outfeatures': 2560,\n",
       " 'bits': 4,\n",
       " 'group_size': 128,\n",
       " 'maxq': 15,\n",
       " 'half_indim': 1280,\n",
       " 'use_cuda_fp16': True,\n",
       " 'wf': tensor([[ 0,  4,  8, 12, 16, 20, 24, 28]], dtype=torch.int32),\n",
       " 'kernel_switch_threshold': 128,\n",
       " 'autogptq_cuda_available': False,\n",
       " 'autogptq_cuda': None,\n",
       " 'trainable': False,\n",
       " 'device': device(type='cuda', index=0)}"
      ]
     },
     "execution_count": 6,
     "metadata": {},
     "output_type": "execute_result"
    }
   ],
   "source": [
    "quant_model.model.decoder.layers[0].self_attn.q_proj.__dict__"
   ]
  },
  {
   "cell_type": "code",
   "execution_count": 13,
   "metadata": {
    "execution": {
     "iopub.execute_input": "2024-07-06T09:07:12.793323Z",
     "iopub.status.busy": "2024-07-06T09:07:12.792696Z",
     "iopub.status.idle": "2024-07-06T09:08:17.049388Z",
     "shell.execute_reply": "2024-07-06T09:08:17.047930Z",
     "shell.execute_reply.started": "2024-07-06T09:07:12.793270Z"
    }
   },
   "outputs": [
    {
     "name": "stderr",
     "output_type": "stream",
     "text": [
      "WARNING:root:Some parameters are on the meta device device because they were offloaded to the cpu.\n"
     ]
    }
   ],
   "source": [
    "base_model = AutoModelForCausalLM.from_pretrained(\n",
    "    model_name_or_path,\n",
    "    device_map='auto')"
   ]
  },
  {
   "cell_type": "code",
   "execution_count": 14,
   "metadata": {
    "execution": {
     "iopub.execute_input": "2024-07-06T09:08:20.753200Z",
     "iopub.status.busy": "2024-07-06T09:08:20.752563Z",
     "iopub.status.idle": "2024-07-06T09:08:20.771609Z",
     "shell.execute_reply": "2024-07-06T09:08:20.770195Z",
     "shell.execute_reply.started": "2024-07-06T09:08:20.753150Z"
    }
   },
   "outputs": [
    {
     "data": {
      "text/plain": [
       "{'training': False,\n",
       " '_parameters': OrderedDict([('weight',\n",
       "               Parameter containing:\n",
       "               tensor([[ 0.0109,  0.0019,  0.0061,  ..., -0.0097,  0.0081, -0.0143],\n",
       "                       [ 0.0122,  0.0041,  0.0047,  ..., -0.0040, -0.0068, -0.0022],\n",
       "                       [ 0.0103,  0.0122, -0.0070,  ..., -0.0005,  0.0052,  0.0169],\n",
       "                       ...,\n",
       "                       [-0.0063,  0.0079,  0.0016,  ..., -0.0271, -0.0070, -0.0066],\n",
       "                       [-0.0230,  0.0130, -0.0002,  ...,  0.0053,  0.0009, -0.0083],\n",
       "                       [ 0.0117, -0.0104,  0.0215,  ..., -0.0037, -0.0172, -0.0024]],\n",
       "                      device='cuda:0', requires_grad=True)),\n",
       "              ('bias',\n",
       "               Parameter containing:\n",
       "               tensor([-0.1272,  0.0172,  0.0103,  ..., -0.0928,  0.0567,  0.0510],\n",
       "                      device='cuda:0', requires_grad=True))]),\n",
       " '_buffers': OrderedDict(),\n",
       " '_non_persistent_buffers_set': set(),\n",
       " '_backward_pre_hooks': OrderedDict(),\n",
       " '_backward_hooks': OrderedDict(),\n",
       " '_is_full_backward_hook': None,\n",
       " '_forward_hooks': OrderedDict(),\n",
       " '_forward_hooks_with_kwargs': OrderedDict(),\n",
       " '_forward_hooks_always_called': OrderedDict(),\n",
       " '_forward_pre_hooks': OrderedDict(),\n",
       " '_forward_pre_hooks_with_kwargs': OrderedDict(),\n",
       " '_state_dict_hooks': OrderedDict(),\n",
       " '_state_dict_pre_hooks': OrderedDict(),\n",
       " '_load_state_dict_pre_hooks': OrderedDict(),\n",
       " '_load_state_dict_post_hooks': OrderedDict(),\n",
       " '_modules': OrderedDict(),\n",
       " 'in_features': 2560,\n",
       " 'out_features': 2560,\n",
       " '_is_hf_initialized': True,\n",
       " '_old_forward': <bound method Linear.forward of Linear(in_features=2560, out_features=2560, bias=True)>,\n",
       " '_hf_hook': AlignDevicesHook(execution_device=0, offload=False, io_same_device=False, offload_buffers=False, place_submodules=False, skip_keys=None),\n",
       " 'forward': functools.partial(<function add_hook_to_module.<locals>.new_forward at 0x7f5c370dad40>, Linear(in_features=2560, out_features=2560, bias=True))}"
      ]
     },
     "execution_count": 14,
     "metadata": {},
     "output_type": "execute_result"
    }
   ],
   "source": [
    "base_model.model.decoder.layers[0].self_attn.q_proj.__dict__"
   ]
  },
  {
   "cell_type": "code",
   "execution_count": 7,
   "metadata": {
    "execution": {
     "iopub.execute_input": "2024-07-06T08:55:17.885241Z",
     "iopub.status.busy": "2024-07-06T08:55:17.884419Z",
     "iopub.status.idle": "2024-07-06T08:55:53.063503Z",
     "shell.execute_reply": "2024-07-06T08:55:53.062858Z",
     "shell.execute_reply.started": "2024-07-06T08:55:17.885186Z"
    }
   },
   "outputs": [],
   "source": [
    "# 保存模型权重\n",
    "quant_model.save_pretrained(\"models/opt-2.7b-gptq\")"
   ]
  },
  {
   "cell_type": "markdown",
   "metadata": {
    "id": "ve_FkzIy-gZ5"
   },
   "source": [
    "#### 使用 GPU 加载模型并生成文本"
   ]
  },
  {
   "cell_type": "code",
   "execution_count": 9,
   "metadata": {
    "colab": {
     "base_uri": "https://localhost:8080/"
    },
    "execution": {
     "iopub.execute_input": "2024-07-06T08:57:16.641699Z",
     "iopub.status.busy": "2024-07-06T08:57:16.641044Z",
     "iopub.status.idle": "2024-07-06T08:57:23.186208Z",
     "shell.execute_reply": "2024-07-06T08:57:23.185506Z",
     "shell.execute_reply.started": "2024-07-06T08:57:16.641634Z"
    },
    "id": "CoXV8zrIuORr",
    "outputId": "44ccab95-8a4e-4d5e-dc25-a90b7bdb5f4f"
   },
   "outputs": [
    {
     "name": "stdout",
     "output_type": "stream",
     "text": [
      "Merry Christmas! I'm glad to see you're still around.\n",
      "I'm still around, just not as much as I used to be.\n"
     ]
    }
   ],
   "source": [
    "tokenizer = AutoTokenizer.from_pretrained(model_name_or_path)\n",
    "\n",
    "text = \"Merry Christmas! I'm glad to\"\n",
    "inputs = tokenizer(text, return_tensors=\"pt\").to(0)\n",
    "\n",
    "out = quant_model.generate(**inputs, max_new_tokens=64)\n",
    "print(tokenizer.decode(out[0], skip_special_tokens=True))"
   ]
  },
  {
   "cell_type": "markdown",
   "metadata": {
    "id": "RhCaFfJ5-k1l"
   },
   "source": [
    "### 使用自定义数据集量化模型（灵活可扩展，前提是准备好数据）"
   ]
  },
  {
   "cell_type": "markdown",
   "metadata": {
    "id": "dN-hRO_vtJTB"
   },
   "source": [
    "下面演示通过传递自定义数据集来量化一个模型。\n",
    "\n",
    "通过字符串列表来自定义一个数据集，建议样本数不少于128（样本数太少会影响模型性能）"
   ]
  },
  {
   "cell_type": "code",
   "execution_count": 10,
   "metadata": {
    "colab": {
     "base_uri": "https://localhost:8080/",
     "height": 49,
     "referenced_widgets": [
      "0ab7bde0b92841968fa71b22ffbebe1c",
      "36751578752940cc9ba404c99fc14b41",
      "d85b407b163e4b7abef5a51e718b426e",
      "c2fba43c7a234bed8fd8eff7c6b36a36",
      "e134dac18dad49769b2ebe3e307cc338",
      "bb3a7bb7b750407c847442f473f7160b",
      "9777265252974223a79d0618c4aa24a0",
      "59274c0a52e94903b2bbd1fed4fdfd55",
      "857bd9ab953d4250a686b2d284070d2a",
      "e794dc66d63f4232b5123cc37629bc05",
      "7ec731bf4c384c71bda1eea7d8316317",
      "937da7edacf6449ebb385b4c4b1dfe10",
      "4b3915d5308a460dbd7d15577bfefde8",
      "55d1b3efec0f42fbb00f476c378b226f",
      "6dd7e5dc81694bfba669e7bf0aa42783",
      "b8477ab375bf46b78a9ec4a7d5940fd9",
      "3f643806a0354a5aa85204e94b1446cb",
      "fb29b52bb8ce43c38328933429c9afb7",
      "e17778ce3c5e46e5b34ccaea489c78bd",
      "900d13e02f94437d9833e1f509860595",
      "b1e9aedb36794bba930c4a18c07ddde6",
      "5cb1a83242d349258f6db897ccbf0e46",
      "37caa5c2f87b49ecb7dcc72a2e196631",
      "9621285cd96648e4bb2837f6ec93cd3e",
      "9a2f9075179543248aac02b4fa9c1fdc",
      "8397f54e0ef744279f5a8c4835576d67",
      "f89f38ed9af1486aae0d41a3d61a255b",
      "11f5c9ef5e72461fb7183295d4d84651",
      "6d6f504b3a1d4f779f782a119c8aafaa",
      "a07c02affd8d4249a77addb935198abf",
      "67cd9bb2553e4c2a9a7c1b7c1e0c5e6e",
      "666e0e1b409a4422bbca0a9b12ad913e",
      "b0389f61ef8c49d787d371b84a379a46",
      "2977b49938ca409fac192e26cd15387d",
      "b8018cb7edf04da38d54f60a0414b06e",
      "00aa1f7e29964fa2a6dc3b40a15b98b4",
      "f847c737543e4a07a65b0f921a758466",
      "4d56b1f681dc4e24b4cbd7d0adac48bb",
      "21100cb2eda241c38e19b9b97c3b9236",
      "1a937753a018435d946b5540bcbc222d",
      "67fc1ed3f857463894d87439416a4e91",
      "d6107d35a40f41d190af4c3686217fbf",
      "70dd37dcd3a44ac19cacf8a6b0032e3f",
      "1cc78776a4314828b9ee2b555082cd02",
      "dc7133ee7d69431688a8288f91e4899e",
      "ad168bece92545859f3824537b0f37b0",
      "7f0da1ba281b4bec89c98514e67e9ac6",
      "388c126dd14047bb843491a84cfb97e2",
      "252afb9b3f12459d84ffd2884150c41a",
      "e12d606073324a8e9a553f158c47375d",
      "97b863b202a54a5694c92cf1f20d3148",
      "49dae49597be415b879e9b9ed219b775",
      "5542e23a186a4c4a895d8c33b546a8ba",
      "ab84e8ac7ed64151b01c402f3509891c",
      "0d550d5607224e0885d81a0da140f53b",
      "dd4d924ddd714bf193b6cc199e2c859e",
      "5974c453f7fc43bf9ebb11c19141cb46",
      "ccabb8ebb24e4c729bee3a131c9ebe7d",
      "465e6910e42c48f2b6b2b01241a39fcd",
      "5b33a41846494b8d92caba00b8f941cb",
      "6bf7f1257dc2422aa6513aadb6c17ee6",
      "d7bde61fc30545d38a10928d6ffdc376",
      "68da595c4bdd427e99d15663fdaa1143",
      "04e0c55bfc874bf8a1a449854abd4425",
      "8f9609ce11484731aec5631d3e7301be",
      "ccbc82c0a86944a39f67cf10b7f0bd71",
      "dd68838c461046e8818d86e8fe7e2f58",
      "acd12edf35024a079fadb0037227144e",
      "471a52d7eee842f8972e0eb0ae23c526",
      "4e569b2d0a77411ebf13237a8c7ad40c",
      "cf94ccc7acc84241b103e6b25e4638a2",
      "d73b407d0d8242159b3781dd5d777132",
      "4a9faba0086a4c68a116e0a188a39923",
      "7da27e921afb4f26846131911215ffa9",
      "64ed895deed44a22b3f905ff35827594",
      "ac837194821b4857ba309416f613ecc9",
      "bc57681762da4ebbb8ec32fdfedd6d8e",
      "682a8ce4d46c475fbad1028ae585cefd",
      "5af938ec5a594403b43b6e3c4095317d",
      "4d5bfc0512484d5985c9abcff771263a",
      "f1b9812d7a57447db0f9824c4559974e",
      "48c045c58ac0441a89a23ddf82a3acbe",
      "c624fc647d3449b79ef21b906e9c6381",
      "31ee41398ae5417493cf8ac83a30bb1e",
      "f571ee0fa3d24bb4a580e50f5c398932",
      "05e88750214d4b5ba62010d30f3a1a78",
      "50a9a51f5d7841bc88352ec8f425a559",
      "4059ff7af30d46bb870fb84ee2f6b650",
      "81928d041e8443549350d214f2dfc9af",
      "904e43a821e8419ebe331d3ac503b678",
      "6f87a2f3247f47c0aee5cc32fbed260a",
      "608f98e5234341fa8c2e6ff4f396bfb2",
      "20db1586662343f58c4ff095863291eb",
      "d87db9a2b0914030ba2a6d7e6f7f332d",
      "cfb77e9153644fa7ab09e228deaa2172",
      "59f67ad25702431eb5dcef052d4bd002",
      "0cf6ca215434445587a5920c5a18dbde",
      "7c18fd706a2b4366ba0157e1e09133a7",
      "828f27b81df84bf4be59d53beb1864d1",
      "1047b8265c614ff7aa92017d44ca4a45",
      "513c08163c4b40108c6c32d38c224d2e",
      "05cad06fae63464b80f1977a92f49556",
      "e606b124062c46c9893d13a630805d35",
      "3c8e028e765f420cad7e8511413326d7",
      "02efe9bc95de43e192f0467dbf6d1fb5",
      "cfbfa6fc449f44b3af1c3a8b70501980",
      "a499df6a9f52435190a46e4034d05843",
      "802a5a5a3d9e4844a46dfed9764bad26",
      "59fdb7a4c98d468bb9d41bfc390a1ffa",
      "0ed98a74286747738bb18ca9776dbc6d",
      "f031b7e3039e42b1a21e232d79ae6abf",
      "94c32e8f32f04b1c8ce9a946942dbb29",
      "d17d031ac5d1455b846e2c1f9ee8dfa6",
      "0c2b98fc25e04b7faa8044750475bca5",
      "38009ce5e19f46d6bb0f7c233d20f2b5",
      "9522ff87bb8e4823b3f30855dff12394",
      "6a6c0ee9c55148aa9fff613e81feab3c",
      "1a8bfbd412224f89bb43c056239096a5",
      "33c7754662394f039691498a5adbe876",
      "67038668ead44011b026a536c364cdff",
      "fd193e189ae54c028e14127193fea664",
      "aa29073f5a74427483398eeaaa6d4604",
      "fe14f020c63c4645be46cefc65568b07",
      "f7f0ed00d30a4fbfb165ca35b1cef7a8",
      "1a1617e413204f238ebedbb4dc7a8021",
      "2a73ed796ba5436ab5297d2ac6069943",
      "dff3025696c44fff88cd21983f8fea56",
      "2dc8c7697a69495db8af4c47339d6756",
      "ad627758ac00465abc4179e1a3d7b9d9",
      "751433e0dfa9456a98fdbd955962f0dc",
      "9060981469204f71868c94bccabd4fc4",
      "70fbaa6b7e9441e79f08e8b8c2e3ea42",
      "d71a0c5cf79c4740a6a4060f0cf72082",
      "4c850a22f8004ce4bcd66f228a2fe6d4",
      "2ed41b20e6dd4916a1f7b93175876771",
      "862c289078db4ef684acbb7c47d5f600",
      "f3fb6e7da10a44ddb6e69bdf207d4bd5",
      "deaf3adb502546658f66f6491869a671",
      "a1ad90b06e3e4aa6b2a550f86fdd7c86",
      "b71ed419c3724f299e215b46cbb576d8",
      "9698e20007f04618ac624518dbe5307f",
      "3b6bfe45b9914385948d9f319c0c9dac",
      "34dafdd6f035441c8477e16d6b05cbf5"
     ]
    },
    "execution": {
     "iopub.execute_input": "2024-07-06T08:57:42.059780Z",
     "iopub.status.busy": "2024-07-06T08:57:42.059141Z",
     "iopub.status.idle": "2024-07-06T09:04:46.844426Z",
     "shell.execute_reply": "2024-07-06T09:04:46.843331Z",
     "shell.execute_reply.started": "2024-07-06T08:57:42.059724Z"
    },
    "id": "Cmll3BZntI88",
    "outputId": "ab8ea4c1-0157-42a9-cafa-39bdc7dd46e0"
   },
   "outputs": [
    {
     "name": "stderr",
     "output_type": "stream",
     "text": [
      "/data/zlhu/miniconda3/envs/peft/lib/python3.10/site-packages/huggingface_hub/file_download.py:1132: FutureWarning: `resume_download` is deprecated and will be removed in version 1.0.0. Downloads always resume when possible. If you want to force a new download, use `force_download=True`.\n",
      "  warnings.warn(\n",
      "WARNING:root:Some parameters are on the meta device device because they were offloaded to the cpu.\n"
     ]
    },
    {
     "data": {
      "application/vnd.jupyter.widget-view+json": {
       "model_id": "5e9f1be1be1e4cbbba977eafeeac72ef",
       "version_major": 2,
       "version_minor": 0
      },
      "text/plain": [
       "Quantizing model.decoder.layers blocks :   0%|          | 0/32 [00:00<?, ?it/s]"
      ]
     },
     "metadata": {},
     "output_type": "display_data"
    },
    {
     "data": {
      "application/vnd.jupyter.widget-view+json": {
       "model_id": "",
       "version_major": 2,
       "version_minor": 0
      },
      "text/plain": [
       "Quantizing layers inside the block:   0%|          | 0/6 [00:00<?, ?it/s]"
      ]
     },
     "metadata": {},
     "output_type": "display_data"
    },
    {
     "data": {
      "application/vnd.jupyter.widget-view+json": {
       "model_id": "",
       "version_major": 2,
       "version_minor": 0
      },
      "text/plain": [
       "Quantizing layers inside the block:   0%|          | 0/6 [00:00<?, ?it/s]"
      ]
     },
     "metadata": {},
     "output_type": "display_data"
    },
    {
     "data": {
      "application/vnd.jupyter.widget-view+json": {
       "model_id": "",
       "version_major": 2,
       "version_minor": 0
      },
      "text/plain": [
       "Quantizing layers inside the block:   0%|          | 0/6 [00:00<?, ?it/s]"
      ]
     },
     "metadata": {},
     "output_type": "display_data"
    },
    {
     "data": {
      "application/vnd.jupyter.widget-view+json": {
       "model_id": "",
       "version_major": 2,
       "version_minor": 0
      },
      "text/plain": [
       "Quantizing layers inside the block:   0%|          | 0/6 [00:00<?, ?it/s]"
      ]
     },
     "metadata": {},
     "output_type": "display_data"
    },
    {
     "data": {
      "application/vnd.jupyter.widget-view+json": {
       "model_id": "",
       "version_major": 2,
       "version_minor": 0
      },
      "text/plain": [
       "Quantizing layers inside the block:   0%|          | 0/6 [00:00<?, ?it/s]"
      ]
     },
     "metadata": {},
     "output_type": "display_data"
    },
    {
     "data": {
      "application/vnd.jupyter.widget-view+json": {
       "model_id": "",
       "version_major": 2,
       "version_minor": 0
      },
      "text/plain": [
       "Quantizing layers inside the block:   0%|          | 0/6 [00:00<?, ?it/s]"
      ]
     },
     "metadata": {},
     "output_type": "display_data"
    },
    {
     "data": {
      "application/vnd.jupyter.widget-view+json": {
       "model_id": "",
       "version_major": 2,
       "version_minor": 0
      },
      "text/plain": [
       "Quantizing layers inside the block:   0%|          | 0/6 [00:00<?, ?it/s]"
      ]
     },
     "metadata": {},
     "output_type": "display_data"
    },
    {
     "data": {
      "application/vnd.jupyter.widget-view+json": {
       "model_id": "",
       "version_major": 2,
       "version_minor": 0
      },
      "text/plain": [
       "Quantizing layers inside the block:   0%|          | 0/6 [00:00<?, ?it/s]"
      ]
     },
     "metadata": {},
     "output_type": "display_data"
    },
    {
     "data": {
      "application/vnd.jupyter.widget-view+json": {
       "model_id": "",
       "version_major": 2,
       "version_minor": 0
      },
      "text/plain": [
       "Quantizing layers inside the block:   0%|          | 0/6 [00:00<?, ?it/s]"
      ]
     },
     "metadata": {},
     "output_type": "display_data"
    },
    {
     "data": {
      "application/vnd.jupyter.widget-view+json": {
       "model_id": "",
       "version_major": 2,
       "version_minor": 0
      },
      "text/plain": [
       "Quantizing layers inside the block:   0%|          | 0/6 [00:00<?, ?it/s]"
      ]
     },
     "metadata": {},
     "output_type": "display_data"
    },
    {
     "data": {
      "application/vnd.jupyter.widget-view+json": {
       "model_id": "",
       "version_major": 2,
       "version_minor": 0
      },
      "text/plain": [
       "Quantizing layers inside the block:   0%|          | 0/6 [00:00<?, ?it/s]"
      ]
     },
     "metadata": {},
     "output_type": "display_data"
    },
    {
     "data": {
      "application/vnd.jupyter.widget-view+json": {
       "model_id": "",
       "version_major": 2,
       "version_minor": 0
      },
      "text/plain": [
       "Quantizing layers inside the block:   0%|          | 0/6 [00:00<?, ?it/s]"
      ]
     },
     "metadata": {},
     "output_type": "display_data"
    },
    {
     "data": {
      "application/vnd.jupyter.widget-view+json": {
       "model_id": "",
       "version_major": 2,
       "version_minor": 0
      },
      "text/plain": [
       "Quantizing layers inside the block:   0%|          | 0/6 [00:00<?, ?it/s]"
      ]
     },
     "metadata": {},
     "output_type": "display_data"
    },
    {
     "data": {
      "application/vnd.jupyter.widget-view+json": {
       "model_id": "",
       "version_major": 2,
       "version_minor": 0
      },
      "text/plain": [
       "Quantizing layers inside the block:   0%|          | 0/6 [00:00<?, ?it/s]"
      ]
     },
     "metadata": {},
     "output_type": "display_data"
    },
    {
     "data": {
      "application/vnd.jupyter.widget-view+json": {
       "model_id": "",
       "version_major": 2,
       "version_minor": 0
      },
      "text/plain": [
       "Quantizing layers inside the block:   0%|          | 0/6 [00:00<?, ?it/s]"
      ]
     },
     "metadata": {},
     "output_type": "display_data"
    },
    {
     "data": {
      "application/vnd.jupyter.widget-view+json": {
       "model_id": "",
       "version_major": 2,
       "version_minor": 0
      },
      "text/plain": [
       "Quantizing layers inside the block:   0%|          | 0/6 [00:00<?, ?it/s]"
      ]
     },
     "metadata": {},
     "output_type": "display_data"
    },
    {
     "data": {
      "application/vnd.jupyter.widget-view+json": {
       "model_id": "",
       "version_major": 2,
       "version_minor": 0
      },
      "text/plain": [
       "Quantizing layers inside the block:   0%|          | 0/6 [00:00<?, ?it/s]"
      ]
     },
     "metadata": {},
     "output_type": "display_data"
    },
    {
     "data": {
      "application/vnd.jupyter.widget-view+json": {
       "model_id": "",
       "version_major": 2,
       "version_minor": 0
      },
      "text/plain": [
       "Quantizing layers inside the block:   0%|          | 0/6 [00:00<?, ?it/s]"
      ]
     },
     "metadata": {},
     "output_type": "display_data"
    },
    {
     "data": {
      "application/vnd.jupyter.widget-view+json": {
       "model_id": "",
       "version_major": 2,
       "version_minor": 0
      },
      "text/plain": [
       "Quantizing layers inside the block:   0%|          | 0/6 [00:00<?, ?it/s]"
      ]
     },
     "metadata": {},
     "output_type": "display_data"
    },
    {
     "data": {
      "application/vnd.jupyter.widget-view+json": {
       "model_id": "",
       "version_major": 2,
       "version_minor": 0
      },
      "text/plain": [
       "Quantizing layers inside the block:   0%|          | 0/6 [00:00<?, ?it/s]"
      ]
     },
     "metadata": {},
     "output_type": "display_data"
    },
    {
     "data": {
      "application/vnd.jupyter.widget-view+json": {
       "model_id": "",
       "version_major": 2,
       "version_minor": 0
      },
      "text/plain": [
       "Quantizing layers inside the block:   0%|          | 0/6 [00:00<?, ?it/s]"
      ]
     },
     "metadata": {},
     "output_type": "display_data"
    },
    {
     "data": {
      "application/vnd.jupyter.widget-view+json": {
       "model_id": "",
       "version_major": 2,
       "version_minor": 0
      },
      "text/plain": [
       "Quantizing layers inside the block:   0%|          | 0/6 [00:00<?, ?it/s]"
      ]
     },
     "metadata": {},
     "output_type": "display_data"
    },
    {
     "data": {
      "application/vnd.jupyter.widget-view+json": {
       "model_id": "",
       "version_major": 2,
       "version_minor": 0
      },
      "text/plain": [
       "Quantizing layers inside the block:   0%|          | 0/6 [00:00<?, ?it/s]"
      ]
     },
     "metadata": {},
     "output_type": "display_data"
    },
    {
     "data": {
      "application/vnd.jupyter.widget-view+json": {
       "model_id": "",
       "version_major": 2,
       "version_minor": 0
      },
      "text/plain": [
       "Quantizing layers inside the block:   0%|          | 0/6 [00:00<?, ?it/s]"
      ]
     },
     "metadata": {},
     "output_type": "display_data"
    },
    {
     "data": {
      "application/vnd.jupyter.widget-view+json": {
       "model_id": "",
       "version_major": 2,
       "version_minor": 0
      },
      "text/plain": [
       "Quantizing layers inside the block:   0%|          | 0/6 [00:00<?, ?it/s]"
      ]
     },
     "metadata": {},
     "output_type": "display_data"
    },
    {
     "data": {
      "application/vnd.jupyter.widget-view+json": {
       "model_id": "",
       "version_major": 2,
       "version_minor": 0
      },
      "text/plain": [
       "Quantizing layers inside the block:   0%|          | 0/6 [00:00<?, ?it/s]"
      ]
     },
     "metadata": {},
     "output_type": "display_data"
    },
    {
     "data": {
      "application/vnd.jupyter.widget-view+json": {
       "model_id": "",
       "version_major": 2,
       "version_minor": 0
      },
      "text/plain": [
       "Quantizing layers inside the block:   0%|          | 0/6 [00:00<?, ?it/s]"
      ]
     },
     "metadata": {},
     "output_type": "display_data"
    },
    {
     "data": {
      "application/vnd.jupyter.widget-view+json": {
       "model_id": "",
       "version_major": 2,
       "version_minor": 0
      },
      "text/plain": [
       "Quantizing layers inside the block:   0%|          | 0/6 [00:00<?, ?it/s]"
      ]
     },
     "metadata": {},
     "output_type": "display_data"
    },
    {
     "data": {
      "application/vnd.jupyter.widget-view+json": {
       "model_id": "",
       "version_major": 2,
       "version_minor": 0
      },
      "text/plain": [
       "Quantizing layers inside the block:   0%|          | 0/6 [00:00<?, ?it/s]"
      ]
     },
     "metadata": {},
     "output_type": "display_data"
    },
    {
     "data": {
      "application/vnd.jupyter.widget-view+json": {
       "model_id": "",
       "version_major": 2,
       "version_minor": 0
      },
      "text/plain": [
       "Quantizing layers inside the block:   0%|          | 0/6 [00:00<?, ?it/s]"
      ]
     },
     "metadata": {},
     "output_type": "display_data"
    },
    {
     "data": {
      "application/vnd.jupyter.widget-view+json": {
       "model_id": "",
       "version_major": 2,
       "version_minor": 0
      },
      "text/plain": [
       "Quantizing layers inside the block:   0%|          | 0/6 [00:00<?, ?it/s]"
      ]
     },
     "metadata": {},
     "output_type": "display_data"
    },
    {
     "data": {
      "application/vnd.jupyter.widget-view+json": {
       "model_id": "",
       "version_major": 2,
       "version_minor": 0
      },
      "text/plain": [
       "Quantizing layers inside the block:   0%|          | 0/6 [00:00<?, ?it/s]"
      ]
     },
     "metadata": {},
     "output_type": "display_data"
    },
    {
     "name": "stderr",
     "output_type": "stream",
     "text": [
      "WARNING:optimum.gptq.quantizer:Found modules on cpu/disk. Using Exllama/Exllamav2 backend requires all the modules to be on GPU. Setting `disable_exllama=True`\n"
     ]
    }
   ],
   "source": [
    "from transformers import AutoModelForCausalLM, GPTQConfig, AutoTokenizer\n",
    "\n",
    "model_name_or_path = \"facebook/opt-2.7b\"\n",
    "custom_dataset = [\"auto-gptq is an easy-to-use model quantization library with user-friendly apis, based on GPTQ algorithm.\"]\n",
    "\n",
    "custom_quantization_config = GPTQConfig(\n",
    "    bits=4,\n",
    "    group_size=128,\n",
    "    desc_act=False,\n",
    "    dataset=custom_dataset\n",
    ")\n",
    "\n",
    "custom_quant_model = AutoModelForCausalLM.from_pretrained(model_name_or_path,\n",
    "                                                          quantization_config=custom_quantization_config,\n",
    "                                                          torch_dtype=torch.float16,\n",
    "                                                          device_map=\"auto\")"
   ]
  },
  {
   "cell_type": "markdown",
   "metadata": {
    "id": "BAWDL4Vr-8T2"
   },
   "source": [
    "相比使用默认数据集，未经精心准备的自定义数据集会明显降低模型性能"
   ]
  },
  {
   "cell_type": "code",
   "execution_count": 12,
   "metadata": {
    "colab": {
     "base_uri": "https://localhost:8080/"
    },
    "execution": {
     "iopub.execute_input": "2024-07-06T09:05:23.661581Z",
     "iopub.status.busy": "2024-07-06T09:05:23.660787Z",
     "iopub.status.idle": "2024-07-06T09:05:25.756241Z",
     "shell.execute_reply": "2024-07-06T09:05:25.755443Z",
     "shell.execute_reply.started": "2024-07-06T09:05:23.661524Z"
    },
    "id": "N6yeN0zcxUGg",
    "outputId": "175ba704-c55d-44f1-e8df-34b52aaf7318"
   },
   "outputs": [
    {
     "name": "stdout",
     "output_type": "stream",
     "text": [
      "Merry Christmas! I'm glad to.\n",
      ".\n"
     ]
    }
   ],
   "source": [
    "text = \"Merry Christmas! I'm glad to\"\n",
    "inputs = tokenizer(text, return_tensors=\"pt\").to(0)\n",
    "\n",
    "out = custom_quant_model.generate(**inputs, max_new_tokens=64)\n",
    "print(tokenizer.decode(out[0], skip_special_tokens=True))"
   ]
  },
  {
   "attachments": {},
   "cell_type": "markdown",
   "metadata": {},
   "source": [
    "## [Optional]Homework: 使用 GPTQ 算法量化 OPT-6.7B 模型\n"
   ]
  },
  {
   "cell_type": "code",
   "execution_count": null,
   "metadata": {},
   "outputs": [],
   "source": []
  }
 ],
 "metadata": {
  "accelerator": "GPU",
  "colab": {
   "gpuType": "T4",
   "provenance": []
  },
  "kernelspec": {
   "display_name": "peft",
   "language": "python",
   "name": "peft"
  },
  "language_info": {
   "codemirror_mode": {
    "name": "ipython",
    "version": 3
   },
   "file_extension": ".py",
   "mimetype": "text/x-python",
   "name": "python",
   "nbconvert_exporter": "python",
   "pygments_lexer": "ipython3",
   "version": "3.10.14"
  },
  "widgets": {
   "application/vnd.jupyter.widget-state+json": {
    "state": {
     "00140059bf564a4e81d1dabc5c504340": {
      "model_module": "@jupyter-widgets/controls",
      "model_module_version": "2.0.0",
      "model_name": "FloatProgressModel",
      "state": {
       "layout": "IPY_MODEL_623fbd3e3b1a47e48a8db6e44d865c1c",
       "max": 6,
       "style": "IPY_MODEL_e1c924aab9cf4b369cd534915213188f",
       "value": 6
      }
     },
     "007cfb5662554e4d8b8924a84364e675": {
      "model_module": "@jupyter-widgets/base",
      "model_module_version": "2.0.0",
      "model_name": "LayoutModel",
      "state": {
       "visibility": "hidden"
      }
     },
     "01476c72c4ea491cb499d490b78c69b9": {
      "model_module": "@jupyter-widgets/base",
      "model_module_version": "2.0.0",
      "model_name": "LayoutModel",
      "state": {}
     },
     "01c43455661a4b3a89dc2b5e71d87539": {
      "model_module": "@jupyter-widgets/controls",
      "model_module_version": "2.0.0",
      "model_name": "ProgressStyleModel",
      "state": {
       "description_width": ""
      }
     },
     "01ec3f1ebdeb459cb93324b79f1f4fed": {
      "model_module": "@jupyter-widgets/controls",
      "model_module_version": "2.0.0",
      "model_name": "HTMLModel",
      "state": {
       "layout": "IPY_MODEL_76ba8cec7c46468e87a13fd1a2d6a35a",
       "style": "IPY_MODEL_31557f8807c148d28baa32e91c869461",
       "value": "Quantizing layers inside the block: 100%"
      }
     },
     "0226ffe0baca459489cc36909bc9dcf9": {
      "model_module": "@jupyter-widgets/base",
      "model_module_version": "2.0.0",
      "model_name": "LayoutModel",
      "state": {}
     },
     "024ab3dbff444e35a4378959e4e866a0": {
      "model_module": "@jupyter-widgets/base",
      "model_module_version": "2.0.0",
      "model_name": "LayoutModel",
      "state": {}
     },
     "025df613ef1d45b4b2e168a1fd1e0433": {
      "model_module": "@jupyter-widgets/base",
      "model_module_version": "2.0.0",
      "model_name": "LayoutModel",
      "state": {}
     },
     "0268c715ffb9461f9619ffd0c306a615": {
      "model_module": "@jupyter-widgets/controls",
      "model_module_version": "2.0.0",
      "model_name": "HTMLStyleModel",
      "state": {
       "description_width": "",
       "font_size": null,
       "text_color": null
      }
     },
     "0286d0cb8091429f9e9294d820ed69a1": {
      "model_module": "@jupyter-widgets/controls",
      "model_module_version": "2.0.0",
      "model_name": "HTMLStyleModel",
      "state": {
       "description_width": "",
       "font_size": null,
       "text_color": null
      }
     },
     "029445a6680745b8b7b7a2262aa86a49": {
      "model_module": "@jupyter-widgets/base",
      "model_module_version": "2.0.0",
      "model_name": "LayoutModel",
      "state": {}
     },
     "02ae00cfaf624417856b89f0b2146d5e": {
      "model_module": "@jupyter-widgets/controls",
      "model_module_version": "2.0.0",
      "model_name": "HTMLStyleModel",
      "state": {
       "description_width": "",
       "font_size": null,
       "text_color": null
      }
     },
     "0331f7df6b6c430393289dc361fa0bd6": {
      "model_module": "@jupyter-widgets/controls",
      "model_module_version": "2.0.0",
      "model_name": "HTMLStyleModel",
      "state": {
       "description_width": "",
       "font_size": null,
       "text_color": null
      }
     },
     "039d2b91123f4f39959c94dd691b39c9": {
      "model_module": "@jupyter-widgets/base",
      "model_module_version": "2.0.0",
      "model_name": "LayoutModel",
      "state": {}
     },
     "03dd963fc4b144b0916d688752e0d569": {
      "model_module": "@jupyter-widgets/base",
      "model_module_version": "2.0.0",
      "model_name": "LayoutModel",
      "state": {}
     },
     "04279091918a4655a0195ffa2f6d4a90": {
      "model_module": "@jupyter-widgets/base",
      "model_module_version": "2.0.0",
      "model_name": "LayoutModel",
      "state": {
       "visibility": "hidden"
      }
     },
     "0458f33da19f4c1893ef0d41415de3a9": {
      "model_module": "@jupyter-widgets/base",
      "model_module_version": "2.0.0",
      "model_name": "LayoutModel",
      "state": {}
     },
     "0508fb05d82740da8bc1b56d36ad14a7": {
      "model_module": "@jupyter-widgets/controls",
      "model_module_version": "2.0.0",
      "model_name": "HTMLStyleModel",
      "state": {
       "description_width": "",
       "font_size": null,
       "text_color": null
      }
     },
     "05105751f5004d06b2a500d65fe50ac4": {
      "model_module": "@jupyter-widgets/base",
      "model_module_version": "2.0.0",
      "model_name": "LayoutModel",
      "state": {
       "visibility": "hidden"
      }
     },
     "054b09fe9c074494b6c78dcb6934a429": {
      "model_module": "@jupyter-widgets/base",
      "model_module_version": "2.0.0",
      "model_name": "LayoutModel",
      "state": {}
     },
     "05511bd37d744bc6a2b26e51aedd287f": {
      "model_module": "@jupyter-widgets/controls",
      "model_module_version": "2.0.0",
      "model_name": "HTMLStyleModel",
      "state": {
       "description_width": "",
       "font_size": null,
       "text_color": null
      }
     },
     "0569e38a10b04dc1846997d44f2b633e": {
      "model_module": "@jupyter-widgets/controls",
      "model_module_version": "2.0.0",
      "model_name": "HTMLModel",
      "state": {
       "layout": "IPY_MODEL_ccf159d8524f452ca21a551e2d9c1616",
       "style": "IPY_MODEL_4defdbf5c6ca4bda87079aa9ffdc3d72",
       "value": " 6/6 [00:07&lt;00:00,  1.66s/it]"
      }
     },
     "057af26996a94beb9e2aa943833d7328": {
      "model_module": "@jupyter-widgets/controls",
      "model_module_version": "2.0.0",
      "model_name": "FloatProgressModel",
      "state": {
       "layout": "IPY_MODEL_8bbcf0d1d312463eb0a96461d99366e0",
       "max": 6,
       "style": "IPY_MODEL_9c450600e1b1459db265ab850d8e5d19",
       "value": 6
      }
     },
     "05de77cad0fe488b9906869ca5aba8dd": {
      "model_module": "@jupyter-widgets/base",
      "model_module_version": "2.0.0",
      "model_name": "LayoutModel",
      "state": {
       "visibility": "hidden"
      }
     },
     "0600fc7f209f4aa0aa5d064a3989012d": {
      "model_module": "@jupyter-widgets/controls",
      "model_module_version": "2.0.0",
      "model_name": "ProgressStyleModel",
      "state": {
       "description_width": ""
      }
     },
     "061053c3cbb7486797e8c19daf6e2973": {
      "model_module": "@jupyter-widgets/controls",
      "model_module_version": "2.0.0",
      "model_name": "FloatProgressModel",
      "state": {
       "layout": "IPY_MODEL_77dc8b4072f7433083e7728770522965",
       "max": 6,
       "style": "IPY_MODEL_08bddceb2f7a4ac08173f189369082f5",
       "value": 6
      }
     },
     "06a7af6a14354f339b9f166bc18a4f6a": {
      "model_module": "@jupyter-widgets/controls",
      "model_module_version": "2.0.0",
      "model_name": "HTMLModel",
      "state": {
       "layout": "IPY_MODEL_21ca38adb4274338874388548aac4577",
       "style": "IPY_MODEL_47db862ed25543de938ae7ccfe5cef65",
       "value": " 6/6 [00:07&lt;00:00,  1.66s/it]"
      }
     },
     "06dac5a0cac945b589ec5ed01c56a253": {
      "model_module": "@jupyter-widgets/base",
      "model_module_version": "2.0.0",
      "model_name": "LayoutModel",
      "state": {}
     },
     "06eb6e14d1b44db3888483a92bb2f58d": {
      "model_module": "@jupyter-widgets/controls",
      "model_module_version": "2.0.0",
      "model_name": "FloatProgressModel",
      "state": {
       "layout": "IPY_MODEL_21e6ad3b0e8f47dcb20fac5ecf824e65",
       "max": 6,
       "style": "IPY_MODEL_6b8178d6ace044aaaefad752d24bdde3",
       "value": 6
      }
     },
     "0711f848bb2c4635a69fe91c8f8c1f21": {
      "model_module": "@jupyter-widgets/controls",
      "model_module_version": "2.0.0",
      "model_name": "HTMLStyleModel",
      "state": {
       "description_width": "",
       "font_size": null,
       "text_color": null
      }
     },
     "071fb5f820ac48af92d1f3f103e0f8d2": {
      "model_module": "@jupyter-widgets/controls",
      "model_module_version": "2.0.0",
      "model_name": "HTMLModel",
      "state": {
       "layout": "IPY_MODEL_78a525d3282b48c8944288fed82b49ce",
       "style": "IPY_MODEL_78b44d99c4b24025bd8717ceb72e2da1",
       "value": " 6/6 [02:19&lt;00:00, 29.31s/it]"
      }
     },
     "0742e505a0394ad8bd4ad2160f604143": {
      "model_module": "@jupyter-widgets/controls",
      "model_module_version": "2.0.0",
      "model_name": "HTMLStyleModel",
      "state": {
       "description_width": "",
       "font_size": null,
       "text_color": null
      }
     },
     "078ccd7352a44916ae39bede17be7ce3": {
      "model_module": "@jupyter-widgets/controls",
      "model_module_version": "2.0.0",
      "model_name": "FloatProgressModel",
      "state": {
       "layout": "IPY_MODEL_63145dceef7c44169d8b56d837a11865",
       "max": 6,
       "style": "IPY_MODEL_2694a1cfb67d4abfb940c3514586cfff",
       "value": 6
      }
     },
     "07f72bb4b9094610ad13f85e957b9bbf": {
      "model_module": "@jupyter-widgets/base",
      "model_module_version": "2.0.0",
      "model_name": "LayoutModel",
      "state": {}
     },
     "08bddceb2f7a4ac08173f189369082f5": {
      "model_module": "@jupyter-widgets/controls",
      "model_module_version": "2.0.0",
      "model_name": "ProgressStyleModel",
      "state": {
       "description_width": ""
      }
     },
     "08bde5a18e1e4b59b76d7aa8dce9be72": {
      "model_module": "@jupyter-widgets/controls",
      "model_module_version": "2.0.0",
      "model_name": "HTMLStyleModel",
      "state": {
       "description_width": "",
       "font_size": null,
       "text_color": null
      }
     },
     "08e31341663945d7951580c6c7364850": {
      "model_module": "@jupyter-widgets/controls",
      "model_module_version": "2.0.0",
      "model_name": "HTMLStyleModel",
      "state": {
       "description_width": "",
       "font_size": null,
       "text_color": null
      }
     },
     "0a93faf31ef74421bae30368d65f12b7": {
      "model_module": "@jupyter-widgets/base",
      "model_module_version": "2.0.0",
      "model_name": "LayoutModel",
      "state": {
       "visibility": "hidden"
      }
     },
     "0aaf196450544d16bba7c1b02b6d8537": {
      "model_module": "@jupyter-widgets/controls",
      "model_module_version": "2.0.0",
      "model_name": "HTMLModel",
      "state": {
       "layout": "IPY_MODEL_0226ffe0baca459489cc36909bc9dcf9",
       "style": "IPY_MODEL_dcb9db54805a450eaabe525bf043022f",
       "value": "Quantizing layers inside the block: 100%"
      }
     },
     "0af33b293f3e4d218723592172906896": {
      "model_module": "@jupyter-widgets/controls",
      "model_module_version": "2.0.0",
      "model_name": "HTMLStyleModel",
      "state": {
       "description_width": "",
       "font_size": null,
       "text_color": null
      }
     },
     "0bc4c7db027d4be9b45659314545cfc1": {
      "model_module": "@jupyter-widgets/base",
      "model_module_version": "2.0.0",
      "model_name": "LayoutModel",
      "state": {}
     },
     "0c4ee5fc7db94d5ba2a6d91a98dd99bf": {
      "model_module": "@jupyter-widgets/controls",
      "model_module_version": "2.0.0",
      "model_name": "FloatProgressModel",
      "state": {
       "layout": "IPY_MODEL_6b1d58cc84f8473ca8dd72a22ebf94ff",
       "max": 6,
       "style": "IPY_MODEL_97b04bd17ead455ba1e98f9ef2b1457e",
       "value": 6
      }
     },
     "0d041966672542af8888b71eff16c320": {
      "model_module": "@jupyter-widgets/base",
      "model_module_version": "2.0.0",
      "model_name": "LayoutModel",
      "state": {}
     },
     "0d221f19043c40a08dae8a20ca849ebf": {
      "model_module": "@jupyter-widgets/controls",
      "model_module_version": "2.0.0",
      "model_name": "HTMLStyleModel",
      "state": {
       "description_width": "",
       "font_size": null,
       "text_color": null
      }
     },
     "0dd313a34c4649e78478c54bae668b36": {
      "model_module": "@jupyter-widgets/controls",
      "model_module_version": "2.0.0",
      "model_name": "HTMLModel",
      "state": {
       "layout": "IPY_MODEL_8c4937256f4e433488cfa371dd359bd3",
       "style": "IPY_MODEL_ab6eb767f0aa44548824672738061a83",
       "value": "Quantizing layers inside the block: 100%"
      }
     },
     "0de7d37c67e44862b4c7e8bda9f3b321": {
      "model_module": "@jupyter-widgets/controls",
      "model_module_version": "2.0.0",
      "model_name": "HTMLStyleModel",
      "state": {
       "description_width": "",
       "font_size": null,
       "text_color": null
      }
     },
     "0e59ba8e3cc94336ac853483d88d3094": {
      "model_module": "@jupyter-widgets/controls",
      "model_module_version": "2.0.0",
      "model_name": "HTMLModel",
      "state": {
       "layout": "IPY_MODEL_1679d2956ef54c4f9b04d1c56724e090",
       "style": "IPY_MODEL_08e31341663945d7951580c6c7364850",
       "value": " 6/6 [00:07&lt;00:00,  1.66s/it]"
      }
     },
     "0f7075b7629e4385ae640ae308d6a6b3": {
      "model_module": "@jupyter-widgets/base",
      "model_module_version": "2.0.0",
      "model_name": "LayoutModel",
      "state": {}
     },
     "0fbe7e79c8a74e15a701059da7aee232": {
      "model_module": "@jupyter-widgets/base",
      "model_module_version": "2.0.0",
      "model_name": "LayoutModel",
      "state": {
       "visibility": "hidden"
      }
     },
     "102854ec46934dd98e23da48adb8a4ff": {
      "model_module": "@jupyter-widgets/base",
      "model_module_version": "2.0.0",
      "model_name": "LayoutModel",
      "state": {
       "visibility": "hidden"
      }
     },
     "1093f0a068644ee1842875906e65bf4f": {
      "model_module": "@jupyter-widgets/base",
      "model_module_version": "2.0.0",
      "model_name": "LayoutModel",
      "state": {}
     },
     "10c76d175caa4fbd9c83271a6603421f": {
      "model_module": "@jupyter-widgets/controls",
      "model_module_version": "2.0.0",
      "model_name": "FloatProgressModel",
      "state": {
       "layout": "IPY_MODEL_146e2ab592e84b9ca4cbad96a615ba27",
       "max": 6,
       "style": "IPY_MODEL_0600fc7f209f4aa0aa5d064a3989012d",
       "value": 6
      }
     },
     "111a105d9cb2420f99b190a46827fe2e": {
      "model_module": "@jupyter-widgets/base",
      "model_module_version": "2.0.0",
      "model_name": "LayoutModel",
      "state": {}
     },
     "1188dac05cee44c0b8e2b5582086d5a3": {
      "model_module": "@jupyter-widgets/base",
      "model_module_version": "2.0.0",
      "model_name": "LayoutModel",
      "state": {}
     },
     "121120223f944c56b9b86d81ab08da4f": {
      "model_module": "@jupyter-widgets/controls",
      "model_module_version": "2.0.0",
      "model_name": "HTMLModel",
      "state": {
       "layout": "IPY_MODEL_65d3e0fdf8e44135831617fa00ebde88",
       "style": "IPY_MODEL_d40fa1dc436742bb8dbf0525c7fcd369",
       "value": "Quantizing layers inside the block: 100%"
      }
     },
     "1232e80ab7e543f79df7eb8b59f12392": {
      "model_module": "@jupyter-widgets/controls",
      "model_module_version": "2.0.0",
      "model_name": "HTMLModel",
      "state": {
       "layout": "IPY_MODEL_025df613ef1d45b4b2e168a1fd1e0433",
       "style": "IPY_MODEL_c0ed9cdb4af54cebab01caceb59b6a3a",
       "value": "Quantizing layers inside the block: 100%"
      }
     },
     "127b3d3ce8434011b8a4de3f19bbaac4": {
      "model_module": "@jupyter-widgets/controls",
      "model_module_version": "2.0.0",
      "model_name": "HTMLStyleModel",
      "state": {
       "description_width": "",
       "font_size": null,
       "text_color": null
      }
     },
     "1325ab70c0eb4a0c8478b2db753df018": {
      "model_module": "@jupyter-widgets/base",
      "model_module_version": "2.0.0",
      "model_name": "LayoutModel",
      "state": {}
     },
     "13a0d8de89f54763a908345fe86b04e4": {
      "model_module": "@jupyter-widgets/controls",
      "model_module_version": "2.0.0",
      "model_name": "HTMLStyleModel",
      "state": {
       "description_width": "",
       "font_size": null,
       "text_color": null
      }
     },
     "140bd9bee10e4f09a684d85ba8ac0ae0": {
      "model_module": "@jupyter-widgets/base",
      "model_module_version": "2.0.0",
      "model_name": "LayoutModel",
      "state": {}
     },
     "144c4be4af7b4633942b9d2e1398c27f": {
      "model_module": "@jupyter-widgets/controls",
      "model_module_version": "2.0.0",
      "model_name": "FloatProgressModel",
      "state": {
       "layout": "IPY_MODEL_c00bbe375f984bc88aaf6963d245ce90",
       "max": 6,
       "style": "IPY_MODEL_f91e8d26c20f4a58a336d538d0b0ade2",
       "value": 6
      }
     },
     "146e2ab592e84b9ca4cbad96a615ba27": {
      "model_module": "@jupyter-widgets/base",
      "model_module_version": "2.0.0",
      "model_name": "LayoutModel",
      "state": {}
     },
     "15eeaabe6eb24ad38aae45f4afd3631a": {
      "model_module": "@jupyter-widgets/controls",
      "model_module_version": "2.0.0",
      "model_name": "FloatProgressModel",
      "state": {
       "layout": "IPY_MODEL_3e317c520ecd484b8af4871cfec13d7c",
       "max": 6,
       "style": "IPY_MODEL_584d4085888443b19d54f0726d23737d",
       "value": 6
      }
     },
     "1635f33fa0b342c299a42321ab0fb51e": {
      "model_module": "@jupyter-widgets/controls",
      "model_module_version": "2.0.0",
      "model_name": "HTMLStyleModel",
      "state": {
       "description_width": "",
       "font_size": null,
       "text_color": null
      }
     },
     "16754c904cfc43659ac1660cb23e1bfb": {
      "model_module": "@jupyter-widgets/controls",
      "model_module_version": "2.0.0",
      "model_name": "ProgressStyleModel",
      "state": {
       "description_width": ""
      }
     },
     "1679d2956ef54c4f9b04d1c56724e090": {
      "model_module": "@jupyter-widgets/base",
      "model_module_version": "2.0.0",
      "model_name": "LayoutModel",
      "state": {}
     },
     "1793b78d84924c409933aa5af401d288": {
      "model_module": "@jupyter-widgets/controls",
      "model_module_version": "2.0.0",
      "model_name": "ProgressStyleModel",
      "state": {
       "description_width": ""
      }
     },
     "17d90f547ed6479c926c465cd285053b": {
      "model_module": "@jupyter-widgets/base",
      "model_module_version": "2.0.0",
      "model_name": "LayoutModel",
      "state": {
       "visibility": "hidden"
      }
     },
     "1852aa1d5987431e9e11dbff7399f1c3": {
      "model_module": "@jupyter-widgets/controls",
      "model_module_version": "2.0.0",
      "model_name": "HTMLModel",
      "state": {
       "layout": "IPY_MODEL_1188dac05cee44c0b8e2b5582086d5a3",
       "style": "IPY_MODEL_b564a1f6c4cc40e1907861c77caa534b",
       "value": " 6/6 [00:07&lt;00:00,  1.66s/it]"
      }
     },
     "18f0a0405e894fd0881767f82f6d0108": {
      "model_module": "@jupyter-widgets/base",
      "model_module_version": "2.0.0",
      "model_name": "LayoutModel",
      "state": {
       "visibility": "hidden"
      }
     },
     "193d37cc727f45ed8fb0de2aa3ec0d07": {
      "model_module": "@jupyter-widgets/base",
      "model_module_version": "2.0.0",
      "model_name": "LayoutModel",
      "state": {}
     },
     "19aba4cb3e784ca69662a85e6a7fdd75": {
      "model_module": "@jupyter-widgets/controls",
      "model_module_version": "2.0.0",
      "model_name": "HTMLModel",
      "state": {
       "layout": "IPY_MODEL_6aa048ab67ba4be1af240a716b3e98b2",
       "style": "IPY_MODEL_4f1ee00e66ef44b19c0c7ba8d4ec834a",
       "value": "Quantizing layers inside the block: 100%"
      }
     },
     "19b5acb4d9b64586be5672b6110927fd": {
      "model_module": "@jupyter-widgets/base",
      "model_module_version": "2.0.0",
      "model_name": "LayoutModel",
      "state": {}
     },
     "1ac8c302e9c44dcd97efc9abd04b03a3": {
      "model_module": "@jupyter-widgets/controls",
      "model_module_version": "2.0.0",
      "model_name": "HTMLModel",
      "state": {
       "layout": "IPY_MODEL_3ca8a2bdc9324b2a8e04c55ebed9342c",
       "style": "IPY_MODEL_f8fdffe59fbc485abde80ef422261689",
       "value": "Quantizing layers inside the block: 100%"
      }
     },
     "1b2f24a44bf944a5bb67e387d67073a1": {
      "model_module": "@jupyter-widgets/controls",
      "model_module_version": "2.0.0",
      "model_name": "HTMLModel",
      "state": {
       "layout": "IPY_MODEL_311dd0b17a0542f087546e1faf269640",
       "style": "IPY_MODEL_93fd281b59ae47afae2ad6000ae22244",
       "value": " 6/6 [02:19&lt;00:00, 29.30s/it]"
      }
     },
     "1b3747169c474814a7be566e2426197e": {
      "model_module": "@jupyter-widgets/controls",
      "model_module_version": "2.0.0",
      "model_name": "HTMLStyleModel",
      "state": {
       "description_width": "",
       "font_size": null,
       "text_color": null
      }
     },
     "1b5459245a984205a4a7b0236ce3cbb9": {
      "model_module": "@jupyter-widgets/controls",
      "model_module_version": "2.0.0",
      "model_name": "ProgressStyleModel",
      "state": {
       "description_width": ""
      }
     },
     "1c67abf00c3242dc84c88059d3223851": {
      "model_module": "@jupyter-widgets/controls",
      "model_module_version": "2.0.0",
      "model_name": "ProgressStyleModel",
      "state": {
       "description_width": ""
      }
     },
     "1c7de530541a4677b2fa8917f5f1f785": {
      "model_module": "@jupyter-widgets/controls",
      "model_module_version": "2.0.0",
      "model_name": "HTMLStyleModel",
      "state": {
       "description_width": "",
       "font_size": null,
       "text_color": null
      }
     },
     "1de5878c0cb54b9f86ee5fcddc7241b9": {
      "model_module": "@jupyter-widgets/controls",
      "model_module_version": "2.0.0",
      "model_name": "HTMLModel",
      "state": {
       "layout": "IPY_MODEL_a9b4d4569fb74b878e75f6f3bd242bac",
       "style": "IPY_MODEL_a04899c171274a1dbebe69a4363c7339",
       "value": " 6/6 [00:07&lt;00:00,  1.66s/it]"
      }
     },
     "1e0560db2b9841f4b1278f1f017f9477": {
      "model_module": "@jupyter-widgets/base",
      "model_module_version": "2.0.0",
      "model_name": "LayoutModel",
      "state": {}
     },
     "1f03af588bff4e538756a22ee798eb9a": {
      "model_module": "@jupyter-widgets/controls",
      "model_module_version": "2.0.0",
      "model_name": "FloatProgressModel",
      "state": {
       "layout": "IPY_MODEL_01476c72c4ea491cb499d490b78c69b9",
       "max": 6,
       "style": "IPY_MODEL_e8b1797be2c24c87a2e19861337c1feb",
       "value": 6
      }
     },
     "1f7ef67a28784b22af65f2b83e01823f": {
      "model_module": "@jupyter-widgets/controls",
      "model_module_version": "2.0.0",
      "model_name": "FloatProgressModel",
      "state": {
       "layout": "IPY_MODEL_8227d58fb57649359e2b40d4e7349d0f",
       "max": 6,
       "style": "IPY_MODEL_1793b78d84924c409933aa5af401d288",
       "value": 6
      }
     },
     "1f8b9aff28c14de1b0454185fc73e0d0": {
      "model_module": "@jupyter-widgets/controls",
      "model_module_version": "2.0.0",
      "model_name": "HTMLStyleModel",
      "state": {
       "description_width": "",
       "font_size": null,
       "text_color": null
      }
     },
     "1fe350105e4743d4809561ad7beaf9ae": {
      "model_module": "@jupyter-widgets/controls",
      "model_module_version": "2.0.0",
      "model_name": "HTMLModel",
      "state": {
       "layout": "IPY_MODEL_513c5806bebb46a09e5e48de2b0b6d3d",
       "style": "IPY_MODEL_46fc79a8e3b14e22b436816f63c554e6",
       "value": "Quantizing layers inside the block: 100%"
      }
     },
     "1ffc5fccb45c41aeb198bc770ee42521": {
      "model_module": "@jupyter-widgets/controls",
      "model_module_version": "2.0.0",
      "model_name": "HTMLModel",
      "state": {
       "layout": "IPY_MODEL_dae5657de4304bd8a31cbc2bef5ec132",
       "style": "IPY_MODEL_f93bc7358e2947049d6b2f4b6e0d10a6",
       "value": " 6/6 [02:18&lt;00:00, 29.28s/it]"
      }
     },
     "20b10c91803f4c7e883afc28390c0ea9": {
      "model_module": "@jupyter-widgets/controls",
      "model_module_version": "2.0.0",
      "model_name": "FloatProgressModel",
      "state": {
       "layout": "IPY_MODEL_60b1f7f0210047f481b28fa619e2e777",
       "max": 6,
       "style": "IPY_MODEL_89b4258b16d14a859eba4df0b849c3eb",
       "value": 6
      }
     },
     "20e41acc7a0342b5830ece93f551c9ad": {
      "model_module": "@jupyter-widgets/controls",
      "model_module_version": "2.0.0",
      "model_name": "FloatProgressModel",
      "state": {
       "layout": "IPY_MODEL_38922daccdec4e688538777e39685430",
       "max": 6,
       "style": "IPY_MODEL_725538799a534de3af1b8bc4db153b2b",
       "value": 6
      }
     },
     "2163c69d5d26436194224ee7d450af5d": {
      "model_module": "@jupyter-widgets/base",
      "model_module_version": "2.0.0",
      "model_name": "LayoutModel",
      "state": {}
     },
     "21c92b6c2c444016b5de048dcae8a10e": {
      "model_module": "@jupyter-widgets/controls",
      "model_module_version": "2.0.0",
      "model_name": "HTMLStyleModel",
      "state": {
       "description_width": "",
       "font_size": null,
       "text_color": null
      }
     },
     "21ca38adb4274338874388548aac4577": {
      "model_module": "@jupyter-widgets/base",
      "model_module_version": "2.0.0",
      "model_name": "LayoutModel",
      "state": {}
     },
     "21d3e3d7fb414311a124a5bfb28f544c": {
      "model_module": "@jupyter-widgets/base",
      "model_module_version": "2.0.0",
      "model_name": "LayoutModel",
      "state": {}
     },
     "21e6ad3b0e8f47dcb20fac5ecf824e65": {
      "model_module": "@jupyter-widgets/base",
      "model_module_version": "2.0.0",
      "model_name": "LayoutModel",
      "state": {}
     },
     "228d10402c8c43fc95705bdb28b9105c": {
      "model_module": "@jupyter-widgets/base",
      "model_module_version": "2.0.0",
      "model_name": "LayoutModel",
      "state": {
       "visibility": "hidden"
      }
     },
     "246ab26cde41460996769ba2d46c3f72": {
      "model_module": "@jupyter-widgets/base",
      "model_module_version": "2.0.0",
      "model_name": "LayoutModel",
      "state": {}
     },
     "24a097d92a4a4849a09707cfcfebb415": {
      "model_module": "@jupyter-widgets/controls",
      "model_module_version": "2.0.0",
      "model_name": "HTMLModel",
      "state": {
       "layout": "IPY_MODEL_816dd2c34790451583dcf59dad021585",
       "style": "IPY_MODEL_21c92b6c2c444016b5de048dcae8a10e",
       "value": "Quantizing layers inside the block: 100%"
      }
     },
     "25969427e67b43f7840064e4b953f849": {
      "model_module": "@jupyter-widgets/base",
      "model_module_version": "2.0.0",
      "model_name": "LayoutModel",
      "state": {}
     },
     "25a5aaf6f97043a198c16f300e44cb36": {
      "model_module": "@jupyter-widgets/controls",
      "model_module_version": "2.0.0",
      "model_name": "HTMLStyleModel",
      "state": {
       "description_width": "",
       "font_size": null,
       "text_color": null
      }
     },
     "2681f83c7502492cb3054fbbb5177671": {
      "model_module": "@jupyter-widgets/base",
      "model_module_version": "2.0.0",
      "model_name": "LayoutModel",
      "state": {}
     },
     "2694a1cfb67d4abfb940c3514586cfff": {
      "model_module": "@jupyter-widgets/controls",
      "model_module_version": "2.0.0",
      "model_name": "ProgressStyleModel",
      "state": {
       "description_width": ""
      }
     },
     "27d474515fb94800a9c6f8651c338be9": {
      "model_module": "@jupyter-widgets/controls",
      "model_module_version": "2.0.0",
      "model_name": "HTMLModel",
      "state": {
       "layout": "IPY_MODEL_039d2b91123f4f39959c94dd691b39c9",
       "style": "IPY_MODEL_2b4a17b5c5ed4f878e74ff76f1f67e05",
       "value": "Quantizing layers inside the block: 100%"
      }
     },
     "289eb4739e484c1ea9cb3f2693cf5a5f": {
      "model_module": "@jupyter-widgets/base",
      "model_module_version": "2.0.0",
      "model_name": "LayoutModel",
      "state": {}
     },
     "2903f6ac0333493eb627703674a37e10": {
      "model_module": "@jupyter-widgets/base",
      "model_module_version": "2.0.0",
      "model_name": "LayoutModel",
      "state": {}
     },
     "2907d290533341548bdcbfc8c50f884b": {
      "model_module": "@jupyter-widgets/controls",
      "model_module_version": "2.0.0",
      "model_name": "FloatProgressModel",
      "state": {
       "layout": "IPY_MODEL_baf54a29e6b6489d90efe80a2dedfc31",
       "max": 6,
       "style": "IPY_MODEL_9447923c0be4415d89c7e983ef4b20a7",
       "value": 6
      }
     },
     "29292f63f9e14b60a2893e7cd2f04de3": {
      "model_module": "@jupyter-widgets/controls",
      "model_module_version": "2.0.0",
      "model_name": "ProgressStyleModel",
      "state": {
       "description_width": ""
      }
     },
     "297d3adc67ec4bc08b110bf3ecb5f01c": {
      "model_module": "@jupyter-widgets/base",
      "model_module_version": "2.0.0",
      "model_name": "LayoutModel",
      "state": {
       "visibility": "hidden"
      }
     },
     "2a10348713784e4dbab8e1e371130e14": {
      "model_module": "@jupyter-widgets/controls",
      "model_module_version": "2.0.0",
      "model_name": "HTMLStyleModel",
      "state": {
       "description_width": "",
       "font_size": null,
       "text_color": null
      }
     },
     "2a482b2287304b1a9f9c52d3f82277ec": {
      "model_module": "@jupyter-widgets/controls",
      "model_module_version": "2.0.0",
      "model_name": "ProgressStyleModel",
      "state": {
       "description_width": ""
      }
     },
     "2b240033e1394569a8a2479afd89952d": {
      "model_module": "@jupyter-widgets/controls",
      "model_module_version": "2.0.0",
      "model_name": "FloatProgressModel",
      "state": {
       "bar_style": "success",
       "layout": "IPY_MODEL_6893a01c954540cd809e68b0f0303c1f",
       "max": 32,
       "style": "IPY_MODEL_d8a74a295acb4a35b028ffe61e7ea89c",
       "value": 32
      }
     },
     "2b4a17b5c5ed4f878e74ff76f1f67e05": {
      "model_module": "@jupyter-widgets/controls",
      "model_module_version": "2.0.0",
      "model_name": "HTMLStyleModel",
      "state": {
       "description_width": "",
       "font_size": null,
       "text_color": null
      }
     },
     "2b91ec6407ec4ad581520f18a62b68cc": {
      "model_module": "@jupyter-widgets/base",
      "model_module_version": "2.0.0",
      "model_name": "LayoutModel",
      "state": {}
     },
     "2ba17585dcbd4940a79721deaab963b9": {
      "model_module": "@jupyter-widgets/base",
      "model_module_version": "2.0.0",
      "model_name": "LayoutModel",
      "state": {}
     },
     "2bac3120eafc4129962cea9996dd14d4": {
      "model_module": "@jupyter-widgets/base",
      "model_module_version": "2.0.0",
      "model_name": "LayoutModel",
      "state": {}
     },
     "2c2e1d720a4a4255bd3b45ec27b5abd2": {
      "model_module": "@jupyter-widgets/controls",
      "model_module_version": "2.0.0",
      "model_name": "HTMLStyleModel",
      "state": {
       "description_width": "",
       "font_size": null,
       "text_color": null
      }
     },
     "2c8278e4acd14532b6121b3037cc8d21": {
      "model_module": "@jupyter-widgets/controls",
      "model_module_version": "2.0.0",
      "model_name": "FloatProgressModel",
      "state": {
       "layout": "IPY_MODEL_55084e1c367a47248a506e8e253988eb",
       "max": 6,
       "style": "IPY_MODEL_a46604526a994ed68e81f6bfd3e7336a",
       "value": 6
      }
     },
     "2cd4942d04e448e38a6100947ef4d89e": {
      "model_module": "@jupyter-widgets/controls",
      "model_module_version": "2.0.0",
      "model_name": "HTMLModel",
      "state": {
       "layout": "IPY_MODEL_25969427e67b43f7840064e4b953f849",
       "style": "IPY_MODEL_412da4df14e241ba8a5e7e058282d611",
       "value": " 32/32 [1:21:43&lt;00:00, 153.30s/it]"
      }
     },
     "2d30cf769fe344e083fe5a922f99a4f8": {
      "model_module": "@jupyter-widgets/controls",
      "model_module_version": "2.0.0",
      "model_name": "HTMLStyleModel",
      "state": {
       "description_width": "",
       "font_size": null,
       "text_color": null
      }
     },
     "2d6c9012f27b48d0aa3bf6b088680655": {
      "model_module": "@jupyter-widgets/controls",
      "model_module_version": "2.0.0",
      "model_name": "HTMLModel",
      "state": {
       "layout": "IPY_MODEL_96032f66ce874b53b3862faaf2a41bd3",
       "style": "IPY_MODEL_99fb90b042b24a0e9cd01a49cb700a72",
       "value": " 6/6 [02:19&lt;00:00, 29.30s/it]"
      }
     },
     "2ea6ebcca08640079240c7c464e009d9": {
      "model_module": "@jupyter-widgets/base",
      "model_module_version": "2.0.0",
      "model_name": "LayoutModel",
      "state": {}
     },
     "2f4c0fe9c1d54d7b811885b8dae919fb": {
      "model_module": "@jupyter-widgets/base",
      "model_module_version": "2.0.0",
      "model_name": "LayoutModel",
      "state": {}
     },
     "2f8f300a665a48ea964be2c847ec233c": {
      "model_module": "@jupyter-widgets/base",
      "model_module_version": "2.0.0",
      "model_name": "LayoutModel",
      "state": {}
     },
     "2fd6713d974646d8a7bfc2849d47d92f": {
      "model_module": "@jupyter-widgets/controls",
      "model_module_version": "2.0.0",
      "model_name": "HTMLModel",
      "state": {
       "layout": "IPY_MODEL_b6b3d782a444492e87692906f0c55e8e",
       "style": "IPY_MODEL_7c4c58047b0142a6988517c3ac5ebb44",
       "value": "Quantizing layers inside the block: 100%"
      }
     },
     "30cdb373864341708f621e22e6efc274": {
      "model_module": "@jupyter-widgets/controls",
      "model_module_version": "2.0.0",
      "model_name": "HTMLModel",
      "state": {
       "layout": "IPY_MODEL_19b5acb4d9b64586be5672b6110927fd",
       "style": "IPY_MODEL_544bc261c65e4fceb0e7a5056175ab9e",
       "value": " 6/6 [00:07&lt;00:00,  1.67s/it]"
      }
     },
     "30ef615391aa415e922fde0e2ca71c3f": {
      "model_module": "@jupyter-widgets/base",
      "model_module_version": "2.0.0",
      "model_name": "LayoutModel",
      "state": {}
     },
     "311ba0f16dcf419e930654abbc74a709": {
      "model_module": "@jupyter-widgets/controls",
      "model_module_version": "2.0.0",
      "model_name": "HTMLModel",
      "state": {
       "layout": "IPY_MODEL_826041b4e9ff47918f44d05f66feb288",
       "style": "IPY_MODEL_9b95d0ecc382465cbf9fd9d20124fc81",
       "value": " 6/6 [00:07&lt;00:00,  1.66s/it]"
      }
     },
     "311dd0b17a0542f087546e1faf269640": {
      "model_module": "@jupyter-widgets/base",
      "model_module_version": "2.0.0",
      "model_name": "LayoutModel",
      "state": {}
     },
     "3123601dead94067956712cfe7925f70": {
      "model_module": "@jupyter-widgets/base",
      "model_module_version": "2.0.0",
      "model_name": "LayoutModel",
      "state": {}
     },
     "31557f8807c148d28baa32e91c869461": {
      "model_module": "@jupyter-widgets/controls",
      "model_module_version": "2.0.0",
      "model_name": "HTMLStyleModel",
      "state": {
       "description_width": "",
       "font_size": null,
       "text_color": null
      }
     },
     "319607a213ba425c9243cc48239e0687": {
      "model_module": "@jupyter-widgets/controls",
      "model_module_version": "2.0.0",
      "model_name": "HTMLStyleModel",
      "state": {
       "description_width": "",
       "font_size": null,
       "text_color": null
      }
     },
     "31ce7b050edc44a893ccb60c25e3f99f": {
      "model_module": "@jupyter-widgets/controls",
      "model_module_version": "2.0.0",
      "model_name": "HTMLStyleModel",
      "state": {
       "description_width": "",
       "font_size": null,
       "text_color": null
      }
     },
     "31f077b449484ad59922c08688408962": {
      "model_module": "@jupyter-widgets/base",
      "model_module_version": "2.0.0",
      "model_name": "LayoutModel",
      "state": {}
     },
     "324557ba961645e0955e98ba3d9b4fd5": {
      "model_module": "@jupyter-widgets/controls",
      "model_module_version": "2.0.0",
      "model_name": "HTMLModel",
      "state": {
       "layout": "IPY_MODEL_2163c69d5d26436194224ee7d450af5d",
       "style": "IPY_MODEL_1b3747169c474814a7be566e2426197e",
       "value": " 6/6 [02:18&lt;00:00, 29.26s/it]"
      }
     },
     "32cd71e7026c4b0dba8aafedbfd8d447": {
      "model_module": "@jupyter-widgets/base",
      "model_module_version": "2.0.0",
      "model_name": "LayoutModel",
      "state": {}
     },
     "33693f022fc943838553a01a0d95283d": {
      "model_module": "@jupyter-widgets/controls",
      "model_module_version": "2.0.0",
      "model_name": "ProgressStyleModel",
      "state": {
       "description_width": ""
      }
     },
     "33adbb0542c64aed9dc59977623f4f0e": {
      "model_module": "@jupyter-widgets/controls",
      "model_module_version": "2.0.0",
      "model_name": "HTMLModel",
      "state": {
       "layout": "IPY_MODEL_a54b74ec5848466793c14a089d2501b1",
       "style": "IPY_MODEL_2c2e1d720a4a4255bd3b45ec27b5abd2",
       "value": "Quantizing layers inside the block: 100%"
      }
     },
     "3436b88342724c6eba5b4e7dedc1d0e1": {
      "model_module": "@jupyter-widgets/controls",
      "model_module_version": "2.0.0",
      "model_name": "FloatProgressModel",
      "state": {
       "layout": "IPY_MODEL_78948118edc144ff9771c7debca18fae",
       "max": 6,
       "style": "IPY_MODEL_b3c3da4061a94392a7c91ff8514e716f",
       "value": 6
      }
     },
     "347ff74d6697435bbda9604dcaa12128": {
      "model_module": "@jupyter-widgets/controls",
      "model_module_version": "2.0.0",
      "model_name": "FloatProgressModel",
      "state": {
       "layout": "IPY_MODEL_8291cb39e3e847bdad318d40a280a27b",
       "max": 6,
       "style": "IPY_MODEL_59353f7cc219452d8fc63b669b0f2659",
       "value": 6
      }
     },
     "34b1175b5fc546448ac099f913291442": {
      "model_module": "@jupyter-widgets/base",
      "model_module_version": "2.0.0",
      "model_name": "LayoutModel",
      "state": {
       "visibility": "hidden"
      }
     },
     "358ce2b3ad4844f58a5357ad2dfd581c": {
      "model_module": "@jupyter-widgets/controls",
      "model_module_version": "2.0.0",
      "model_name": "HTMLStyleModel",
      "state": {
       "description_width": "",
       "font_size": null,
       "text_color": null
      }
     },
     "35a5c12c4eb0415597474101ecc32639": {
      "model_module": "@jupyter-widgets/controls",
      "model_module_version": "2.0.0",
      "model_name": "FloatProgressModel",
      "state": {
       "layout": "IPY_MODEL_21d3e3d7fb414311a124a5bfb28f544c",
       "max": 6,
       "style": "IPY_MODEL_62919c266aca4f20af7cc62d0580311d",
       "value": 6
      }
     },
     "35d4cec866704b7cb525e622bbdc17cd": {
      "model_module": "@jupyter-widgets/base",
      "model_module_version": "2.0.0",
      "model_name": "LayoutModel",
      "state": {}
     },
     "3618476915ec473c98cbe49510b81c35": {
      "model_module": "@jupyter-widgets/controls",
      "model_module_version": "2.0.0",
      "model_name": "FloatProgressModel",
      "state": {
       "layout": "IPY_MODEL_70b8159675d04fda8b756cdd113a8b4a",
       "max": 6,
       "style": "IPY_MODEL_981d3eada07b40fa8e6a6de2624e4369",
       "value": 6
      }
     },
     "3638b0546ed449739f8c475c44f26c9e": {
      "model_module": "@jupyter-widgets/base",
      "model_module_version": "2.0.0",
      "model_name": "LayoutModel",
      "state": {}
     },
     "37a69f99d26c44c5850b0b6e5b69b752": {
      "model_module": "@jupyter-widgets/controls",
      "model_module_version": "2.0.0",
      "model_name": "FloatProgressModel",
      "state": {
       "layout": "IPY_MODEL_86fb5527f4d54d92b8e696e8f7898ab6",
       "max": 6,
       "style": "IPY_MODEL_bcecd293b78047c18ef80cc8d46d3856",
       "value": 6
      }
     },
     "37f6796707e9498ab781932aba04c26b": {
      "model_module": "@jupyter-widgets/controls",
      "model_module_version": "2.0.0",
      "model_name": "FloatProgressModel",
      "state": {
       "layout": "IPY_MODEL_4522b7fe8c194c46a56f2f4e98d219ff",
       "max": 6,
       "style": "IPY_MODEL_995cfb17c5164c66bb9161086b5423c0",
       "value": 6
      }
     },
     "38922daccdec4e688538777e39685430": {
      "model_module": "@jupyter-widgets/base",
      "model_module_version": "2.0.0",
      "model_name": "LayoutModel",
      "state": {}
     },
     "390d65d66d134065b939788e7408737f": {
      "model_module": "@jupyter-widgets/base",
      "model_module_version": "2.0.0",
      "model_name": "LayoutModel",
      "state": {}
     },
     "39b6c2873971449a86bc3976e024cb53": {
      "model_module": "@jupyter-widgets/controls",
      "model_module_version": "2.0.0",
      "model_name": "HTMLModel",
      "state": {
       "layout": "IPY_MODEL_3638b0546ed449739f8c475c44f26c9e",
       "style": "IPY_MODEL_ed3253ff98b14b7883d4f25b6c9adcbb",
       "value": " 6/6 [00:07&lt;00:00,  1.66s/it]"
      }
     },
     "39df697dbe44480e935b59675a07859f": {
      "model_module": "@jupyter-widgets/controls",
      "model_module_version": "2.0.0",
      "model_name": "HTMLStyleModel",
      "state": {
       "description_width": "",
       "font_size": null,
       "text_color": null
      }
     },
     "3a1b8550fb304513813d5b78a6ac371e": {
      "model_module": "@jupyter-widgets/controls",
      "model_module_version": "2.0.0",
      "model_name": "HTMLStyleModel",
      "state": {
       "description_width": "",
       "font_size": null,
       "text_color": null
      }
     },
     "3aeb254887464783879a9a2fdbf6783a": {
      "model_module": "@jupyter-widgets/controls",
      "model_module_version": "2.0.0",
      "model_name": "HTMLStyleModel",
      "state": {
       "description_width": "",
       "font_size": null,
       "text_color": null
      }
     },
     "3b447503e89048d68a88380f45a48f59": {
      "model_module": "@jupyter-widgets/controls",
      "model_module_version": "2.0.0",
      "model_name": "FloatProgressModel",
      "state": {
       "layout": "IPY_MODEL_06dac5a0cac945b589ec5ed01c56a253",
       "max": 6,
       "style": "IPY_MODEL_cf338769280a4148bbaa5b30cc09496e",
       "value": 6
      }
     },
     "3b6e3e1245954e5099b216812d44c0d5": {
      "model_module": "@jupyter-widgets/controls",
      "model_module_version": "2.0.0",
      "model_name": "HTMLModel",
      "state": {
       "layout": "IPY_MODEL_a7c29f2094364f009021283051a6e016",
       "style": "IPY_MODEL_e57dd19f8948414ca37286ec9b8995b1",
       "value": "Quantizing layers inside the block: 100%"
      }
     },
     "3bdbcfe7f05c4328b65ab1527cf0e7ae": {
      "model_module": "@jupyter-widgets/base",
      "model_module_version": "2.0.0",
      "model_name": "LayoutModel",
      "state": {}
     },
     "3c1b4b87dc1543568b1caa5bda9cdf79": {
      "model_module": "@jupyter-widgets/base",
      "model_module_version": "2.0.0",
      "model_name": "LayoutModel",
      "state": {}
     },
     "3c754ac1e8ba4bb39d1744a184ffde49": {
      "model_module": "@jupyter-widgets/controls",
      "model_module_version": "2.0.0",
      "model_name": "ProgressStyleModel",
      "state": {
       "description_width": ""
      }
     },
     "3ca8a2bdc9324b2a8e04c55ebed9342c": {
      "model_module": "@jupyter-widgets/base",
      "model_module_version": "2.0.0",
      "model_name": "LayoutModel",
      "state": {}
     },
     "3ce559cb36a844dc92aca5ceb9908ac8": {
      "model_module": "@jupyter-widgets/controls",
      "model_module_version": "2.0.0",
      "model_name": "FloatProgressModel",
      "state": {
       "layout": "IPY_MODEL_fcef56c779da4e1ba1acca206b7bf70b",
       "max": 6,
       "style": "IPY_MODEL_ae5b0e1ccb854d8da5374ecc5ba8a765",
       "value": 6
      }
     },
     "3d8f1298a11c4392aaa4a63d2ab2e067": {
      "model_module": "@jupyter-widgets/base",
      "model_module_version": "2.0.0",
      "model_name": "LayoutModel",
      "state": {}
     },
     "3da18d99388a4110bd8a4bc52d11ecff": {
      "model_module": "@jupyter-widgets/controls",
      "model_module_version": "2.0.0",
      "model_name": "HTMLModel",
      "state": {
       "layout": "IPY_MODEL_42b2066ad6a54fb2a96b0920592a300c",
       "style": "IPY_MODEL_a58b660eb8bf414592d245f698c10f32",
       "value": "Quantizing layers inside the block: 100%"
      }
     },
     "3e317c520ecd484b8af4871cfec13d7c": {
      "model_module": "@jupyter-widgets/base",
      "model_module_version": "2.0.0",
      "model_name": "LayoutModel",
      "state": {}
     },
     "3e8f711e2f7b4f00800fae46acd0cdf1": {
      "model_module": "@jupyter-widgets/controls",
      "model_module_version": "2.0.0",
      "model_name": "HTMLStyleModel",
      "state": {
       "description_width": "",
       "font_size": null,
       "text_color": null
      }
     },
     "3eaba3e08c9b4b828f43fa4187d42a75": {
      "model_module": "@jupyter-widgets/controls",
      "model_module_version": "2.0.0",
      "model_name": "HTMLStyleModel",
      "state": {
       "description_width": "",
       "font_size": null,
       "text_color": null
      }
     },
     "3f3137eaf88242a185c8cda6fce467ed": {
      "model_module": "@jupyter-widgets/base",
      "model_module_version": "2.0.0",
      "model_name": "LayoutModel",
      "state": {}
     },
     "3f323ba1236c42109c39b82828328980": {
      "model_module": "@jupyter-widgets/controls",
      "model_module_version": "2.0.0",
      "model_name": "FloatProgressModel",
      "state": {
       "layout": "IPY_MODEL_0d041966672542af8888b71eff16c320",
       "max": 6,
       "style": "IPY_MODEL_89a0880840e64f6ea47d916f18a31ca6",
       "value": 6
      }
     },
     "40483a3d76874bba9ead4e688a5e2f0a": {
      "model_module": "@jupyter-widgets/base",
      "model_module_version": "2.0.0",
      "model_name": "LayoutModel",
      "state": {}
     },
     "40e79d027c87428891a04f22feac1476": {
      "model_module": "@jupyter-widgets/controls",
      "model_module_version": "2.0.0",
      "model_name": "HTMLStyleModel",
      "state": {
       "description_width": "",
       "font_size": null,
       "text_color": null
      }
     },
     "412da4df14e241ba8a5e7e058282d611": {
      "model_module": "@jupyter-widgets/controls",
      "model_module_version": "2.0.0",
      "model_name": "HTMLStyleModel",
      "state": {
       "description_width": "",
       "font_size": null,
       "text_color": null
      }
     },
     "420acf8cb0414acd952caffc56bf1a82": {
      "model_module": "@jupyter-widgets/base",
      "model_module_version": "2.0.0",
      "model_name": "LayoutModel",
      "state": {}
     },
     "4255e479ae0e49e6b2a701e3b1295317": {
      "model_module": "@jupyter-widgets/base",
      "model_module_version": "2.0.0",
      "model_name": "LayoutModel",
      "state": {}
     },
     "42a7d8d5c9574199ac945eb26b0a25d1": {
      "model_module": "@jupyter-widgets/base",
      "model_module_version": "2.0.0",
      "model_name": "LayoutModel",
      "state": {}
     },
     "42b2066ad6a54fb2a96b0920592a300c": {
      "model_module": "@jupyter-widgets/base",
      "model_module_version": "2.0.0",
      "model_name": "LayoutModel",
      "state": {}
     },
     "449384be4eda449d8da18f997c889a4c": {
      "model_module": "@jupyter-widgets/controls",
      "model_module_version": "2.0.0",
      "model_name": "FloatProgressModel",
      "state": {
       "layout": "IPY_MODEL_e30086d93b6945bb957e276a2f8635e4",
       "max": 6,
       "style": "IPY_MODEL_1c67abf00c3242dc84c88059d3223851",
       "value": 6
      }
     },
     "4522b7fe8c194c46a56f2f4e98d219ff": {
      "model_module": "@jupyter-widgets/base",
      "model_module_version": "2.0.0",
      "model_name": "LayoutModel",
      "state": {}
     },
     "461f027dbfe04cc6b432a3343fa2c849": {
      "model_module": "@jupyter-widgets/base",
      "model_module_version": "2.0.0",
      "model_name": "LayoutModel",
      "state": {}
     },
     "46dd071d411a4292bc1a4508b88bedfb": {
      "model_module": "@jupyter-widgets/controls",
      "model_module_version": "2.0.0",
      "model_name": "ProgressStyleModel",
      "state": {
       "description_width": ""
      }
     },
     "46fc79a8e3b14e22b436816f63c554e6": {
      "model_module": "@jupyter-widgets/controls",
      "model_module_version": "2.0.0",
      "model_name": "HTMLStyleModel",
      "state": {
       "description_width": "",
       "font_size": null,
       "text_color": null
      }
     },
     "47a761d0123e4e1697dc6e71e9c04633": {
      "model_module": "@jupyter-widgets/base",
      "model_module_version": "2.0.0",
      "model_name": "LayoutModel",
      "state": {}
     },
     "47db862ed25543de938ae7ccfe5cef65": {
      "model_module": "@jupyter-widgets/controls",
      "model_module_version": "2.0.0",
      "model_name": "HTMLStyleModel",
      "state": {
       "description_width": "",
       "font_size": null,
       "text_color": null
      }
     },
     "4849da260cbd4c68ae01325b9a24bd2b": {
      "model_module": "@jupyter-widgets/controls",
      "model_module_version": "2.0.0",
      "model_name": "HTMLStyleModel",
      "state": {
       "description_width": "",
       "font_size": null,
       "text_color": null
      }
     },
     "499a23a8ef044f9ea4b8e5c78be27a93": {
      "model_module": "@jupyter-widgets/base",
      "model_module_version": "2.0.0",
      "model_name": "LayoutModel",
      "state": {}
     },
     "49c3dd597b8e45ae9369329a7fe9f5da": {
      "model_module": "@jupyter-widgets/controls",
      "model_module_version": "2.0.0",
      "model_name": "HTMLStyleModel",
      "state": {
       "description_width": "",
       "font_size": null,
       "text_color": null
      }
     },
     "4b301193d9b94e289dc74bfebc6166fd": {
      "model_module": "@jupyter-widgets/controls",
      "model_module_version": "2.0.0",
      "model_name": "HTMLModel",
      "state": {
       "layout": "IPY_MODEL_95b091fbf6b64ae79262e5b92744213b",
       "style": "IPY_MODEL_f3e60e11f21b42698fb8caea6534298a",
       "value": "Quantizing model.decoder.layers blocks : 100%"
      }
     },
     "4b7b79d6b80248c2bf8c05feae7b1d28": {
      "model_module": "@jupyter-widgets/controls",
      "model_module_version": "2.0.0",
      "model_name": "ProgressStyleModel",
      "state": {
       "description_width": ""
      }
     },
     "4bb5d717740548d08873df9053e397e8": {
      "model_module": "@jupyter-widgets/controls",
      "model_module_version": "2.0.0",
      "model_name": "HTMLModel",
      "state": {
       "layout": "IPY_MODEL_9af7fc2ffac34a908b9af50fe31afe8e",
       "style": "IPY_MODEL_c4982ba3fa8e4e53b2bf5642bda6b349",
       "value": "Quantizing layers inside the block: 100%"
      }
     },
     "4c12efbf7b5944538bb0a9a3288d2481": {
      "model_module": "@jupyter-widgets/controls",
      "model_module_version": "2.0.0",
      "model_name": "HTMLStyleModel",
      "state": {
       "description_width": "",
       "font_size": null,
       "text_color": null
      }
     },
     "4ca0d55e54f44696a985416fa65c80f9": {
      "model_module": "@jupyter-widgets/controls",
      "model_module_version": "2.0.0",
      "model_name": "HBoxModel",
      "state": {
       "children": [
        "IPY_MODEL_4b301193d9b94e289dc74bfebc6166fd",
        "IPY_MODEL_2b240033e1394569a8a2479afd89952d",
        "IPY_MODEL_2cd4942d04e448e38a6100947ef4d89e"
       ],
       "layout": "IPY_MODEL_8d1196d7f40743739ce9a180ed033fcb"
      }
     },
     "4ca71acaddde44b2b2e2e5c6062a878c": {
      "model_module": "@jupyter-widgets/base",
      "model_module_version": "2.0.0",
      "model_name": "LayoutModel",
      "state": {
       "visibility": "hidden"
      }
     },
     "4cbcd2381c7745b8bc04122583d9ef13": {
      "model_module": "@jupyter-widgets/controls",
      "model_module_version": "2.0.0",
      "model_name": "HTMLModel",
      "state": {
       "layout": "IPY_MODEL_dad8e8ec1d4f4cf4bf08a8db186d7b06",
       "style": "IPY_MODEL_3a1b8550fb304513813d5b78a6ac371e",
       "value": "Quantizing layers inside the block: 100%"
      }
     },
     "4cd6e643e05a41268e8ef69eee45e87d": {
      "model_module": "@jupyter-widgets/controls",
      "model_module_version": "2.0.0",
      "model_name": "HTMLModel",
      "state": {
       "layout": "IPY_MODEL_1e0560db2b9841f4b1278f1f017f9477",
       "style": "IPY_MODEL_d5e8512ff513404f92f30119a257546c",
       "value": " 6/6 [00:07&lt;00:00,  1.67s/it]"
      }
     },
     "4cf1b7bdf1f54e8bab53d324dff053da": {
      "model_module": "@jupyter-widgets/controls",
      "model_module_version": "2.0.0",
      "model_name": "HTMLStyleModel",
      "state": {
       "description_width": "",
       "font_size": null,
       "text_color": null
      }
     },
     "4d06a6b9d3ca4a10962c8b7ff9a234e3": {
      "model_module": "@jupyter-widgets/base",
      "model_module_version": "2.0.0",
      "model_name": "LayoutModel",
      "state": {}
     },
     "4d6664b14aab48db94d2640e78da1d01": {
      "model_module": "@jupyter-widgets/base",
      "model_module_version": "2.0.0",
      "model_name": "LayoutModel",
      "state": {
       "visibility": "hidden"
      }
     },
     "4defdbf5c6ca4bda87079aa9ffdc3d72": {
      "model_module": "@jupyter-widgets/controls",
      "model_module_version": "2.0.0",
      "model_name": "HTMLStyleModel",
      "state": {
       "description_width": "",
       "font_size": null,
       "text_color": null
      }
     },
     "4e5c5a5573bb469f933549bf94dc7ed0": {
      "model_module": "@jupyter-widgets/base",
      "model_module_version": "2.0.0",
      "model_name": "LayoutModel",
      "state": {}
     },
     "4ec3573bd4844327b4e79a6c220ba53d": {
      "model_module": "@jupyter-widgets/base",
      "model_module_version": "2.0.0",
      "model_name": "LayoutModel",
      "state": {
       "visibility": "hidden"
      }
     },
     "4ed06fafe3c043718c48fd96237b8f8c": {
      "model_module": "@jupyter-widgets/base",
      "model_module_version": "2.0.0",
      "model_name": "LayoutModel",
      "state": {}
     },
     "4eeda08a1f19402490f0523925c3a410": {
      "model_module": "@jupyter-widgets/controls",
      "model_module_version": "2.0.0",
      "model_name": "HTMLModel",
      "state": {
       "layout": "IPY_MODEL_d9e6e15fc50b46e781fda1c9ef936e52",
       "style": "IPY_MODEL_40e79d027c87428891a04f22feac1476",
       "value": "Quantizing layers inside the block: 100%"
      }
     },
     "4efb978da9e34564aaabb6514c40a797": {
      "model_module": "@jupyter-widgets/base",
      "model_module_version": "2.0.0",
      "model_name": "LayoutModel",
      "state": {
       "visibility": "hidden"
      }
     },
     "4f03973d318441e4a6298b8e4b780538": {
      "model_module": "@jupyter-widgets/controls",
      "model_module_version": "2.0.0",
      "model_name": "HTMLModel",
      "state": {
       "layout": "IPY_MODEL_556ed0aa5535479cb9787b4b9c3410ce",
       "style": "IPY_MODEL_1635f33fa0b342c299a42321ab0fb51e",
       "value": " 6/6 [02:19&lt;00:00, 29.33s/it]"
      }
     },
     "4f1ee00e66ef44b19c0c7ba8d4ec834a": {
      "model_module": "@jupyter-widgets/controls",
      "model_module_version": "2.0.0",
      "model_name": "HTMLStyleModel",
      "state": {
       "description_width": "",
       "font_size": null,
       "text_color": null
      }
     },
     "4f76784d696541e389f04719adc88769": {
      "model_module": "@jupyter-widgets/base",
      "model_module_version": "2.0.0",
      "model_name": "LayoutModel",
      "state": {}
     },
     "508ca66c64624c66a222b7a2129f782f": {
      "model_module": "@jupyter-widgets/controls",
      "model_module_version": "2.0.0",
      "model_name": "HTMLStyleModel",
      "state": {
       "description_width": "",
       "font_size": null,
       "text_color": null
      }
     },
     "50dacf0ebccb40bbac17ea17bb44186d": {
      "model_module": "@jupyter-widgets/controls",
      "model_module_version": "2.0.0",
      "model_name": "FloatProgressModel",
      "state": {
       "layout": "IPY_MODEL_b3511bc7b9a74a998894399d1b06eee4",
       "max": 6,
       "style": "IPY_MODEL_75efef982dda45b6a647389b80e94094",
       "value": 6
      }
     },
     "513c5806bebb46a09e5e48de2b0b6d3d": {
      "model_module": "@jupyter-widgets/base",
      "model_module_version": "2.0.0",
      "model_name": "LayoutModel",
      "state": {}
     },
     "53792e29b9c14936b3dd1beaab93193f": {
      "model_module": "@jupyter-widgets/controls",
      "model_module_version": "2.0.0",
      "model_name": "HTMLModel",
      "state": {
       "layout": "IPY_MODEL_840250c354624574b34d78c544e55057",
       "style": "IPY_MODEL_5b4fe12e042c4e4a9bcddbaee63c8d39",
       "value": "Quantizing layers inside the block: 100%"
      }
     },
     "544bc261c65e4fceb0e7a5056175ab9e": {
      "model_module": "@jupyter-widgets/controls",
      "model_module_version": "2.0.0",
      "model_name": "HTMLStyleModel",
      "state": {
       "description_width": "",
       "font_size": null,
       "text_color": null
      }
     },
     "54fa1cf738ea42bc85d385a5816bd200": {
      "model_module": "@jupyter-widgets/controls",
      "model_module_version": "2.0.0",
      "model_name": "HTMLModel",
      "state": {
       "layout": "IPY_MODEL_60f58de4515f4ff582a10299c7f656ec",
       "style": "IPY_MODEL_31ce7b050edc44a893ccb60c25e3f99f",
       "value": " 6/6 [02:18&lt;00:00, 29.26s/it]"
      }
     },
     "55084e1c367a47248a506e8e253988eb": {
      "model_module": "@jupyter-widgets/base",
      "model_module_version": "2.0.0",
      "model_name": "LayoutModel",
      "state": {}
     },
     "556ed0aa5535479cb9787b4b9c3410ce": {
      "model_module": "@jupyter-widgets/base",
      "model_module_version": "2.0.0",
      "model_name": "LayoutModel",
      "state": {}
     },
     "55899e059b93495080f05d42ff9277d2": {
      "model_module": "@jupyter-widgets/base",
      "model_module_version": "2.0.0",
      "model_name": "LayoutModel",
      "state": {}
     },
     "56414838ea1d4a279fbfa5b04d0a970d": {
      "model_module": "@jupyter-widgets/base",
      "model_module_version": "2.0.0",
      "model_name": "LayoutModel",
      "state": {
       "visibility": "hidden"
      }
     },
     "56f6f0b5d3464986bc6985b9afc42ea6": {
      "model_module": "@jupyter-widgets/controls",
      "model_module_version": "2.0.0",
      "model_name": "HTMLModel",
      "state": {
       "layout": "IPY_MODEL_f45b64a03a894c5f9e98179036ee03e0",
       "style": "IPY_MODEL_4c12efbf7b5944538bb0a9a3288d2481",
       "value": " 6/6 [02:18&lt;00:00, 29.29s/it]"
      }
     },
     "571c8cbc8c8c42778537b95e098d3dcf": {
      "model_module": "@jupyter-widgets/controls",
      "model_module_version": "2.0.0",
      "model_name": "FloatProgressModel",
      "state": {
       "layout": "IPY_MODEL_c85717828fee4a16a981161040cbfdb0",
       "max": 6,
       "style": "IPY_MODEL_e4412d63c652429484508da47294474a",
       "value": 6
      }
     },
     "57c6fe67132a4e01a034f3b4f3d78a0f": {
      "model_module": "@jupyter-widgets/base",
      "model_module_version": "2.0.0",
      "model_name": "LayoutModel",
      "state": {}
     },
     "584d4085888443b19d54f0726d23737d": {
      "model_module": "@jupyter-widgets/controls",
      "model_module_version": "2.0.0",
      "model_name": "ProgressStyleModel",
      "state": {
       "description_width": ""
      }
     },
     "58adfc5934894df1a8ddbdbb5393c09b": {
      "model_module": "@jupyter-widgets/controls",
      "model_module_version": "2.0.0",
      "model_name": "ProgressStyleModel",
      "state": {
       "description_width": ""
      }
     },
     "58b353b328ba40099a9e28f8f34fab2a": {
      "model_module": "@jupyter-widgets/controls",
      "model_module_version": "2.0.0",
      "model_name": "FloatProgressModel",
      "state": {
       "layout": "IPY_MODEL_ce346b6c3cc84398a1e4a2a46a7fffe8",
       "max": 6,
       "style": "IPY_MODEL_b37dc05a345b4d5a8b73ea54173ec48c",
       "value": 6
      }
     },
     "58b7cb8cc0af4423ae324dcf7c6dcc04": {
      "model_module": "@jupyter-widgets/base",
      "model_module_version": "2.0.0",
      "model_name": "LayoutModel",
      "state": {}
     },
     "59353f7cc219452d8fc63b669b0f2659": {
      "model_module": "@jupyter-widgets/controls",
      "model_module_version": "2.0.0",
      "model_name": "ProgressStyleModel",
      "state": {
       "description_width": ""
      }
     },
     "595ae37c6c7c461c8fe593a08de5ac4f": {
      "model_module": "@jupyter-widgets/controls",
      "model_module_version": "2.0.0",
      "model_name": "HTMLModel",
      "state": {
       "layout": "IPY_MODEL_8fa9fcffbbd442df8e128657f2f3e0bf",
       "style": "IPY_MODEL_d0750a98fe3d49379e4943008152930c",
       "value": " 6/6 [00:07&lt;00:00,  1.66s/it]"
      }
     },
     "5964373df1e7464a95e661a004f8b6fc": {
      "model_module": "@jupyter-widgets/controls",
      "model_module_version": "2.0.0",
      "model_name": "ProgressStyleModel",
      "state": {
       "description_width": ""
      }
     },
     "59c3883742f341faae492f367c6d46fd": {
      "model_module": "@jupyter-widgets/controls",
      "model_module_version": "2.0.0",
      "model_name": "HTMLModel",
      "state": {
       "layout": "IPY_MODEL_cebad5df68d14f9b90d78fe23650b86c",
       "style": "IPY_MODEL_801a3d3e93e6475da4c266750f15baf6",
       "value": "Quantizing layers inside the block: 100%"
      }
     },
     "5a4b311566384768a3ace851ad6f4693": {
      "model_module": "@jupyter-widgets/controls",
      "model_module_version": "2.0.0",
      "model_name": "FloatProgressModel",
      "state": {
       "layout": "IPY_MODEL_70e7b1165f8d4e188ee74a673b138334",
       "max": 6,
       "style": "IPY_MODEL_3c754ac1e8ba4bb39d1744a184ffde49",
       "value": 6
      }
     },
     "5a639baf5e754078bbcfd51e95a47276": {
      "model_module": "@jupyter-widgets/controls",
      "model_module_version": "2.0.0",
      "model_name": "HTMLModel",
      "state": {
       "layout": "IPY_MODEL_7b523905048249b0aa6fedd930c5123c",
       "style": "IPY_MODEL_4cf1b7bdf1f54e8bab53d324dff053da",
       "value": "Quantizing layers inside the block: 100%"
      }
     },
     "5a851537dbe647dcbeab3c1c44e290fb": {
      "model_module": "@jupyter-widgets/base",
      "model_module_version": "2.0.0",
      "model_name": "LayoutModel",
      "state": {}
     },
     "5b4fe12e042c4e4a9bcddbaee63c8d39": {
      "model_module": "@jupyter-widgets/controls",
      "model_module_version": "2.0.0",
      "model_name": "HTMLStyleModel",
      "state": {
       "description_width": "",
       "font_size": null,
       "text_color": null
      }
     },
     "5c2e16a36ffa476e9ba9b42ae0887ed1": {
      "model_module": "@jupyter-widgets/controls",
      "model_module_version": "2.0.0",
      "model_name": "FloatProgressModel",
      "state": {
       "layout": "IPY_MODEL_d7d227fb069b4858856eb97ee6eb1a40",
       "max": 6,
       "style": "IPY_MODEL_9eb10de4a5e0411f909cff62ab57be42",
       "value": 6
      }
     },
     "5c53632da26e4f9c967b8e96fc72320b": {
      "model_module": "@jupyter-widgets/controls",
      "model_module_version": "2.0.0",
      "model_name": "HTMLStyleModel",
      "state": {
       "description_width": "",
       "font_size": null,
       "text_color": null
      }
     },
     "5cd3fc270fb245ba84ddbf1fbb9ca932": {
      "model_module": "@jupyter-widgets/controls",
      "model_module_version": "2.0.0",
      "model_name": "HTMLModel",
      "state": {
       "layout": "IPY_MODEL_b02ff3a9c86f451595b813c48464aad4",
       "style": "IPY_MODEL_74ef04753b7843fc99ad7af6f1bebf1e",
       "value": "Quantizing layers inside the block: 100%"
      }
     },
     "5cf2d816293b4e0b81553a38cf886ce4": {
      "model_module": "@jupyter-widgets/controls",
      "model_module_version": "2.0.0",
      "model_name": "HTMLModel",
      "state": {
       "layout": "IPY_MODEL_7d0a70b90c024c5a9d3b1b270b047ed9",
       "style": "IPY_MODEL_fad40817fcc148a2bbc1f00a4c4156aa",
       "value": " 6/6 [00:07&lt;00:00,  1.66s/it]"
      }
     },
     "5cf814dccae74fb6814a3fb94f07a48c": {
      "model_module": "@jupyter-widgets/controls",
      "model_module_version": "2.0.0",
      "model_name": "FloatProgressModel",
      "state": {
       "bar_style": "success",
       "layout": "IPY_MODEL_7b7a2a53eeea48af8ab04a6f63e32947",
       "max": 32,
       "style": "IPY_MODEL_d1a18884c75941e380e78c90c1a65ea6",
       "value": 32
      }
     },
     "5d30f15202e4430ba3927b27dfc869c3": {
      "model_module": "@jupyter-widgets/controls",
      "model_module_version": "2.0.0",
      "model_name": "FloatProgressModel",
      "state": {
       "layout": "IPY_MODEL_5f4e66c8684443e698e5e2894c93b636",
       "max": 6,
       "style": "IPY_MODEL_16754c904cfc43659ac1660cb23e1bfb",
       "value": 6
      }
     },
     "5e9c778923cb480c86cc73f47318d775": {
      "model_module": "@jupyter-widgets/controls",
      "model_module_version": "2.0.0",
      "model_name": "HTMLModel",
      "state": {
       "layout": "IPY_MODEL_f325a1379edc476d9dc77d5b4895f8b2",
       "style": "IPY_MODEL_3eaba3e08c9b4b828f43fa4187d42a75",
       "value": " 6/6 [02:18&lt;00:00, 29.28s/it]"
      }
     },
     "5e9f1be1be1e4cbbba977eafeeac72ef": {
      "model_module": "@jupyter-widgets/controls",
      "model_module_version": "2.0.0",
      "model_name": "HBoxModel",
      "state": {
       "children": [
        "IPY_MODEL_fbcac1c8ee77412ab9f916b3a08b7a33",
        "IPY_MODEL_5cf814dccae74fb6814a3fb94f07a48c",
        "IPY_MODEL_e8c5737a925d46a9b5332865639cae99"
       ],
       "layout": "IPY_MODEL_58b7cb8cc0af4423ae324dcf7c6dcc04"
      }
     },
     "5eb11973a8344fa3af4565803e2492a7": {
      "model_module": "@jupyter-widgets/base",
      "model_module_version": "2.0.0",
      "model_name": "LayoutModel",
      "state": {}
     },
     "5efa2f1b24e44f4bb6c95416cbc8198b": {
      "model_module": "@jupyter-widgets/controls",
      "model_module_version": "2.0.0",
      "model_name": "HTMLModel",
      "state": {
       "layout": "IPY_MODEL_5a851537dbe647dcbeab3c1c44e290fb",
       "style": "IPY_MODEL_f53b0f78d3754554aab6edcece4f5871",
       "value": "Quantizing layers inside the block: 100%"
      }
     },
     "5f4e66c8684443e698e5e2894c93b636": {
      "model_module": "@jupyter-widgets/base",
      "model_module_version": "2.0.0",
      "model_name": "LayoutModel",
      "state": {}
     },
     "5f6c010ecb8a4b9d819ef7136e4f998f": {
      "model_module": "@jupyter-widgets/controls",
      "model_module_version": "2.0.0",
      "model_name": "ProgressStyleModel",
      "state": {
       "description_width": ""
      }
     },
     "5ff4cacb181c426192bb86840e39f93f": {
      "model_module": "@jupyter-widgets/controls",
      "model_module_version": "2.0.0",
      "model_name": "FloatProgressModel",
      "state": {
       "layout": "IPY_MODEL_b2535eb84bd94d9eb5bce23ff00ad25d",
       "max": 6,
       "style": "IPY_MODEL_f07b3203a47646fca5164ca72e13978d",
       "value": 6
      }
     },
     "60493d05b6cb4997bcd0f80b87ee6551": {
      "model_module": "@jupyter-widgets/base",
      "model_module_version": "2.0.0",
      "model_name": "LayoutModel",
      "state": {
       "visibility": "hidden"
      }
     },
     "6058dfd16fab4a8eaeeb910fcf6a7edd": {
      "model_module": "@jupyter-widgets/controls",
      "model_module_version": "2.0.0",
      "model_name": "FloatProgressModel",
      "state": {
       "layout": "IPY_MODEL_3f3137eaf88242a185c8cda6fce467ed",
       "max": 6,
       "style": "IPY_MODEL_61ef7741fcdf4dca85fa88c3134cd521",
       "value": 6
      }
     },
     "60b1f7f0210047f481b28fa619e2e777": {
      "model_module": "@jupyter-widgets/base",
      "model_module_version": "2.0.0",
      "model_name": "LayoutModel",
      "state": {}
     },
     "60f58de4515f4ff582a10299c7f656ec": {
      "model_module": "@jupyter-widgets/base",
      "model_module_version": "2.0.0",
      "model_name": "LayoutModel",
      "state": {}
     },
     "610ba731434d45f59d7c28599a882020": {
      "model_module": "@jupyter-widgets/controls",
      "model_module_version": "2.0.0",
      "model_name": "FloatProgressModel",
      "state": {
       "layout": "IPY_MODEL_3bdbcfe7f05c4328b65ab1527cf0e7ae",
       "max": 6,
       "style": "IPY_MODEL_29292f63f9e14b60a2893e7cd2f04de3",
       "value": 6
      }
     },
     "6179be365f6a4d8588515258f3665572": {
      "model_module": "@jupyter-widgets/controls",
      "model_module_version": "2.0.0",
      "model_name": "HTMLModel",
      "state": {
       "layout": "IPY_MODEL_7c8ce6deaf2744c5aff28da78b1862c4",
       "style": "IPY_MODEL_b7c9a16e9b1c44c9b1ea8d5f9d0bfcad",
       "value": "Quantizing layers inside the block: 100%"
      }
     },
     "61e5bc0fa0414e7195c9788f096c9622": {
      "model_module": "@jupyter-widgets/controls",
      "model_module_version": "2.0.0",
      "model_name": "HTMLStyleModel",
      "state": {
       "description_width": "",
       "font_size": null,
       "text_color": null
      }
     },
     "61e9cc22cb1441158467fd057a7ff2f9": {
      "model_module": "@jupyter-widgets/controls",
      "model_module_version": "2.0.0",
      "model_name": "HTMLModel",
      "state": {
       "layout": "IPY_MODEL_289eb4739e484c1ea9cb3f2693cf5a5f",
       "style": "IPY_MODEL_0331f7df6b6c430393289dc361fa0bd6",
       "value": " 6/6 [02:18&lt;00:00, 29.24s/it]"
      }
     },
     "61ef7741fcdf4dca85fa88c3134cd521": {
      "model_module": "@jupyter-widgets/controls",
      "model_module_version": "2.0.0",
      "model_name": "ProgressStyleModel",
      "state": {
       "description_width": ""
      }
     },
     "623fbd3e3b1a47e48a8db6e44d865c1c": {
      "model_module": "@jupyter-widgets/base",
      "model_module_version": "2.0.0",
      "model_name": "LayoutModel",
      "state": {}
     },
     "6240c1cac3554d948f44e09e4487b7ea": {
      "model_module": "@jupyter-widgets/base",
      "model_module_version": "2.0.0",
      "model_name": "LayoutModel",
      "state": {}
     },
     "62919c266aca4f20af7cc62d0580311d": {
      "model_module": "@jupyter-widgets/controls",
      "model_module_version": "2.0.0",
      "model_name": "ProgressStyleModel",
      "state": {
       "description_width": ""
      }
     },
     "62d6385e02304c138612cfa44b83c6fe": {
      "model_module": "@jupyter-widgets/controls",
      "model_module_version": "2.0.0",
      "model_name": "HTMLModel",
      "state": {
       "layout": "IPY_MODEL_c5fb5ed0b20241428468943a42f79ab6",
       "style": "IPY_MODEL_127b3d3ce8434011b8a4de3f19bbaac4",
       "value": " 6/6 [02:18&lt;00:00, 29.26s/it]"
      }
     },
     "62da471205e343278e9dd39bb4a6f83f": {
      "model_module": "@jupyter-widgets/controls",
      "model_module_version": "2.0.0",
      "model_name": "FloatProgressModel",
      "state": {
       "layout": "IPY_MODEL_03dd963fc4b144b0916d688752e0d569",
       "max": 6,
       "style": "IPY_MODEL_1b5459245a984205a4a7b0236ce3cbb9",
       "value": 6
      }
     },
     "63145dceef7c44169d8b56d837a11865": {
      "model_module": "@jupyter-widgets/base",
      "model_module_version": "2.0.0",
      "model_name": "LayoutModel",
      "state": {}
     },
     "64aad449e0f74d17b3ae59c85f829535": {
      "model_module": "@jupyter-widgets/base",
      "model_module_version": "2.0.0",
      "model_name": "LayoutModel",
      "state": {}
     },
     "651f443949a74ff9b3d1d4eaeedcf660": {
      "model_module": "@jupyter-widgets/controls",
      "model_module_version": "2.0.0",
      "model_name": "HTMLModel",
      "state": {
       "layout": "IPY_MODEL_cbb86a35c1c940729486aa3c601c60f1",
       "style": "IPY_MODEL_08bde5a18e1e4b59b76d7aa8dce9be72",
       "value": "Quantizing layers inside the block: 100%"
      }
     },
     "65361e8512414d06b4eba72bbbb277e5": {
      "model_module": "@jupyter-widgets/controls",
      "model_module_version": "2.0.0",
      "model_name": "HTMLModel",
      "state": {
       "layout": "IPY_MODEL_7d967399111541e69664ee257bf18204",
       "style": "IPY_MODEL_d82d951aadf6449e8caed6324d5501a0",
       "value": "Quantizing layers inside the block: 100%"
      }
     },
     "6588feed629444b580a0a18d5ebf0e44": {
      "model_module": "@jupyter-widgets/controls",
      "model_module_version": "2.0.0",
      "model_name": "HTMLModel",
      "state": {
       "layout": "IPY_MODEL_5eb11973a8344fa3af4565803e2492a7",
       "style": "IPY_MODEL_02ae00cfaf624417856b89f0b2146d5e",
       "value": "Quantizing layers inside the block: 100%"
      }
     },
     "65b32bf89274469ba627b5ad262fb863": {
      "model_module": "@jupyter-widgets/base",
      "model_module_version": "2.0.0",
      "model_name": "LayoutModel",
      "state": {
       "visibility": "hidden"
      }
     },
     "65b99c5afbaf4d9fa739fe29fffe7422": {
      "model_module": "@jupyter-widgets/base",
      "model_module_version": "2.0.0",
      "model_name": "LayoutModel",
      "state": {}
     },
     "65d3e0fdf8e44135831617fa00ebde88": {
      "model_module": "@jupyter-widgets/base",
      "model_module_version": "2.0.0",
      "model_name": "LayoutModel",
      "state": {}
     },
     "66693ba477c6416eb939647ea4341da6": {
      "model_module": "@jupyter-widgets/base",
      "model_module_version": "2.0.0",
      "model_name": "LayoutModel",
      "state": {
       "visibility": "hidden"
      }
     },
     "66877ab3d3374efba9635493a186b32e": {
      "model_module": "@jupyter-widgets/controls",
      "model_module_version": "2.0.0",
      "model_name": "HTMLStyleModel",
      "state": {
       "description_width": "",
       "font_size": null,
       "text_color": null
      }
     },
     "67c2e3787e124197a4bf0afa063998c1": {
      "model_module": "@jupyter-widgets/controls",
      "model_module_version": "2.0.0",
      "model_name": "HTMLModel",
      "state": {
       "layout": "IPY_MODEL_2f8f300a665a48ea964be2c847ec233c",
       "style": "IPY_MODEL_caa64c0b288948238dc7715ec91df129",
       "value": " 6/6 [02:18&lt;00:00, 29.29s/it]"
      }
     },
     "67eb945544ff41d5a88a4d44fed0fe68": {
      "model_module": "@jupyter-widgets/base",
      "model_module_version": "2.0.0",
      "model_name": "LayoutModel",
      "state": {
       "visibility": "hidden"
      }
     },
     "6873d06442454a619752e242cef70654": {
      "model_module": "@jupyter-widgets/controls",
      "model_module_version": "2.0.0",
      "model_name": "FloatProgressModel",
      "state": {
       "layout": "IPY_MODEL_d5d5e46b63bc424fb4dba8b73792bc06",
       "max": 6,
       "style": "IPY_MODEL_9bc3ca9aaf56487cac62cf2b13938ec3",
       "value": 6
      }
     },
     "687e17bb830247649e4dccdd7c2a24bc": {
      "model_module": "@jupyter-widgets/controls",
      "model_module_version": "2.0.0",
      "model_name": "HTMLModel",
      "state": {
       "layout": "IPY_MODEL_2b91ec6407ec4ad581520f18a62b68cc",
       "style": "IPY_MODEL_8c0fa591e4924e5095ebdfbd49eea1ba",
       "value": "Quantizing layers inside the block: 100%"
      }
     },
     "687f422ab9a546b4aaa1a7629544c4ba": {
      "model_module": "@jupyter-widgets/base",
      "model_module_version": "2.0.0",
      "model_name": "LayoutModel",
      "state": {
       "visibility": "hidden"
      }
     },
     "6893a01c954540cd809e68b0f0303c1f": {
      "model_module": "@jupyter-widgets/base",
      "model_module_version": "2.0.0",
      "model_name": "LayoutModel",
      "state": {}
     },
     "68d083b9c6ee40d4b83d6f0208dca369": {
      "model_module": "@jupyter-widgets/controls",
      "model_module_version": "2.0.0",
      "model_name": "HTMLModel",
      "state": {
       "layout": "IPY_MODEL_d0369075a5a14bd282c192e4c7a86199",
       "style": "IPY_MODEL_bc7021f054fb4d82884cec3f5be43f77",
       "value": " 6/6 [00:07&lt;00:00,  1.67s/it]"
      }
     },
     "68d0e5d93d144193bf1cc67d8ea482ce": {
      "model_module": "@jupyter-widgets/controls",
      "model_module_version": "2.0.0",
      "model_name": "ProgressStyleModel",
      "state": {
       "description_width": ""
      }
     },
     "698edce205df4d34b0ae45eeb1b4ef1d": {
      "model_module": "@jupyter-widgets/controls",
      "model_module_version": "2.0.0",
      "model_name": "ProgressStyleModel",
      "state": {
       "description_width": ""
      }
     },
     "6aa048ab67ba4be1af240a716b3e98b2": {
      "model_module": "@jupyter-widgets/base",
      "model_module_version": "2.0.0",
      "model_name": "LayoutModel",
      "state": {}
     },
     "6af63d3ebe274ac4af8c1cd74a0ccd6a": {
      "model_module": "@jupyter-widgets/controls",
      "model_module_version": "2.0.0",
      "model_name": "FloatProgressModel",
      "state": {
       "layout": "IPY_MODEL_35d4cec866704b7cb525e622bbdc17cd",
       "max": 6,
       "style": "IPY_MODEL_58adfc5934894df1a8ddbdbb5393c09b",
       "value": 6
      }
     },
     "6b1d58cc84f8473ca8dd72a22ebf94ff": {
      "model_module": "@jupyter-widgets/base",
      "model_module_version": "2.0.0",
      "model_name": "LayoutModel",
      "state": {}
     },
     "6b3e4617250242cba5346ccf21487c63": {
      "model_module": "@jupyter-widgets/base",
      "model_module_version": "2.0.0",
      "model_name": "LayoutModel",
      "state": {}
     },
     "6b8178d6ace044aaaefad752d24bdde3": {
      "model_module": "@jupyter-widgets/controls",
      "model_module_version": "2.0.0",
      "model_name": "ProgressStyleModel",
      "state": {
       "description_width": ""
      }
     },
     "6bce47da84684f02b093515707191278": {
      "model_module": "@jupyter-widgets/controls",
      "model_module_version": "2.0.0",
      "model_name": "HTMLStyleModel",
      "state": {
       "description_width": "",
       "font_size": null,
       "text_color": null
      }
     },
     "6cacc111bc274a7abb0d70257a29d4d9": {
      "model_module": "@jupyter-widgets/base",
      "model_module_version": "2.0.0",
      "model_name": "LayoutModel",
      "state": {}
     },
     "6cc4226335e74f31b2de70e09542e45c": {
      "model_module": "@jupyter-widgets/controls",
      "model_module_version": "2.0.0",
      "model_name": "HTMLStyleModel",
      "state": {
       "description_width": "",
       "font_size": null,
       "text_color": null
      }
     },
     "6cf4a60569634b699ae37fe44ee26749": {
      "model_module": "@jupyter-widgets/controls",
      "model_module_version": "2.0.0",
      "model_name": "HTMLStyleModel",
      "state": {
       "description_width": "",
       "font_size": null,
       "text_color": null
      }
     },
     "6d81c8f2459a43249113aaccf94a13db": {
      "model_module": "@jupyter-widgets/controls",
      "model_module_version": "2.0.0",
      "model_name": "HTMLModel",
      "state": {
       "layout": "IPY_MODEL_c276510caae94258b8e1beb270ecd0d7",
       "style": "IPY_MODEL_fef7bf9317834f239085496280e05e3f",
       "value": "Quantizing layers inside the block: 100%"
      }
     },
     "6e4cccb0e87448fab2a11e47bef239eb": {
      "model_module": "@jupyter-widgets/controls",
      "model_module_version": "2.0.0",
      "model_name": "HTMLStyleModel",
      "state": {
       "description_width": "",
       "font_size": null,
       "text_color": null
      }
     },
     "6ea13793dc554d93aaedb37fa7ff7e36": {
      "model_module": "@jupyter-widgets/base",
      "model_module_version": "2.0.0",
      "model_name": "LayoutModel",
      "state": {}
     },
     "6ecb290428474d8286cd08575aeca662": {
      "model_module": "@jupyter-widgets/controls",
      "model_module_version": "2.0.0",
      "model_name": "FloatProgressModel",
      "state": {
       "layout": "IPY_MODEL_a9c685fb3ad549c89c271bcb05716d44",
       "max": 6,
       "style": "IPY_MODEL_d536048c042a408088f1ad1db1775c7b",
       "value": 6
      }
     },
     "70591ce4e06045429b0997a8144f22d5": {
      "model_module": "@jupyter-widgets/controls",
      "model_module_version": "2.0.0",
      "model_name": "HTMLStyleModel",
      "state": {
       "description_width": "",
       "font_size": null,
       "text_color": null
      }
     },
     "709da663dedb4ef6bf7f522fdbde926f": {
      "model_module": "@jupyter-widgets/base",
      "model_module_version": "2.0.0",
      "model_name": "LayoutModel",
      "state": {}
     },
     "70b8159675d04fda8b756cdd113a8b4a": {
      "model_module": "@jupyter-widgets/base",
      "model_module_version": "2.0.0",
      "model_name": "LayoutModel",
      "state": {}
     },
     "70e7b1165f8d4e188ee74a673b138334": {
      "model_module": "@jupyter-widgets/base",
      "model_module_version": "2.0.0",
      "model_name": "LayoutModel",
      "state": {}
     },
     "7139b3ba48d44effa18e1d7413f2a7cf": {
      "model_module": "@jupyter-widgets/controls",
      "model_module_version": "2.0.0",
      "model_name": "HTMLStyleModel",
      "state": {
       "description_width": "",
       "font_size": null,
       "text_color": null
      }
     },
     "716f550e14d04f07b2c21c8c59b56b10": {
      "model_module": "@jupyter-widgets/base",
      "model_module_version": "2.0.0",
      "model_name": "LayoutModel",
      "state": {}
     },
     "71efc91f420d4d00975f8f519e3d20ab": {
      "model_module": "@jupyter-widgets/controls",
      "model_module_version": "2.0.0",
      "model_name": "HTMLModel",
      "state": {
       "layout": "IPY_MODEL_31f077b449484ad59922c08688408962",
       "style": "IPY_MODEL_13a0d8de89f54763a908345fe86b04e4",
       "value": "Quantizing layers inside the block: 100%"
      }
     },
     "725538799a534de3af1b8bc4db153b2b": {
      "model_module": "@jupyter-widgets/controls",
      "model_module_version": "2.0.0",
      "model_name": "ProgressStyleModel",
      "state": {
       "description_width": ""
      }
     },
     "727ade7985da42539040c0c4767f2312": {
      "model_module": "@jupyter-widgets/base",
      "model_module_version": "2.0.0",
      "model_name": "LayoutModel",
      "state": {
       "visibility": "hidden"
      }
     },
     "728eddd8ec044df6896bf7bdb24de84a": {
      "model_module": "@jupyter-widgets/controls",
      "model_module_version": "2.0.0",
      "model_name": "HTMLStyleModel",
      "state": {
       "description_width": "",
       "font_size": null,
       "text_color": null
      }
     },
     "7295c7d26e354f6cb2e0d40b97bb5663": {
      "model_module": "@jupyter-widgets/base",
      "model_module_version": "2.0.0",
      "model_name": "LayoutModel",
      "state": {
       "visibility": "hidden"
      }
     },
     "72a1d996c6ed49eda7c90d0aea605040": {
      "model_module": "@jupyter-widgets/controls",
      "model_module_version": "2.0.0",
      "model_name": "HTMLStyleModel",
      "state": {
       "description_width": "",
       "font_size": null,
       "text_color": null
      }
     },
     "72b2de1a0e554544a3d4e3a3f72be668": {
      "model_module": "@jupyter-widgets/base",
      "model_module_version": "2.0.0",
      "model_name": "LayoutModel",
      "state": {}
     },
     "72b344ae8836404ea3100e43aff29f86": {
      "model_module": "@jupyter-widgets/controls",
      "model_module_version": "2.0.0",
      "model_name": "FloatProgressModel",
      "state": {
       "layout": "IPY_MODEL_d303ce5c0f3b4b268a78769248bcbdd6",
       "max": 6,
       "style": "IPY_MODEL_9814ed54966a4a11a94f248c863db8dd",
       "value": 6
      }
     },
     "72f60e4e7cf540e79cf3a5de9a85b6e3": {
      "model_module": "@jupyter-widgets/controls",
      "model_module_version": "2.0.0",
      "model_name": "HTMLModel",
      "state": {
       "layout": "IPY_MODEL_c191e304f64f4437a62695c16792278a",
       "style": "IPY_MODEL_7b09c4cf3116438789e139bd456cf751",
       "value": "Quantizing layers inside the block: 100%"
      }
     },
     "73c3ea5af701481083a73aa6d0a288af": {
      "model_module": "@jupyter-widgets/controls",
      "model_module_version": "2.0.0",
      "model_name": "FloatProgressModel",
      "state": {
       "layout": "IPY_MODEL_1325ab70c0eb4a0c8478b2db753df018",
       "max": 6,
       "style": "IPY_MODEL_698edce205df4d34b0ae45eeb1b4ef1d",
       "value": 6
      }
     },
     "74734c91092d4edba1d750dde5ac9636": {
      "model_module": "@jupyter-widgets/controls",
      "model_module_version": "2.0.0",
      "model_name": "HTMLModel",
      "state": {
       "layout": "IPY_MODEL_ca463c94c53b494082b2814a4d3d4746",
       "style": "IPY_MODEL_39df697dbe44480e935b59675a07859f",
       "value": " 6/6 [00:07&lt;00:00,  1.67s/it]"
      }
     },
     "74d719fd040a47c68266ad7cab6c5bb4": {
      "model_module": "@jupyter-widgets/base",
      "model_module_version": "2.0.0",
      "model_name": "LayoutModel",
      "state": {}
     },
     "74ef04753b7843fc99ad7af6f1bebf1e": {
      "model_module": "@jupyter-widgets/controls",
      "model_module_version": "2.0.0",
      "model_name": "HTMLStyleModel",
      "state": {
       "description_width": "",
       "font_size": null,
       "text_color": null
      }
     },
     "75930a89f22b4e3682dcbe75a0bad0e2": {
      "model_module": "@jupyter-widgets/controls",
      "model_module_version": "2.0.0",
      "model_name": "ProgressStyleModel",
      "state": {
       "description_width": ""
      }
     },
     "75efef982dda45b6a647389b80e94094": {
      "model_module": "@jupyter-widgets/controls",
      "model_module_version": "2.0.0",
      "model_name": "ProgressStyleModel",
      "state": {
       "description_width": ""
      }
     },
     "76130d7fe9b94226b25eb85a114f34ec": {
      "model_module": "@jupyter-widgets/base",
      "model_module_version": "2.0.0",
      "model_name": "LayoutModel",
      "state": {
       "visibility": "hidden"
      }
     },
     "76331098444249cea5d4bfcccdf15efd": {
      "model_module": "@jupyter-widgets/controls",
      "model_module_version": "2.0.0",
      "model_name": "ProgressStyleModel",
      "state": {
       "description_width": ""
      }
     },
     "76ba8cec7c46468e87a13fd1a2d6a35a": {
      "model_module": "@jupyter-widgets/base",
      "model_module_version": "2.0.0",
      "model_name": "LayoutModel",
      "state": {}
     },
     "76c405e4c8cd49eb90f7a4850ea23fba": {
      "model_module": "@jupyter-widgets/controls",
      "model_module_version": "2.0.0",
      "model_name": "HTMLModel",
      "state": {
       "layout": "IPY_MODEL_c45512543fc14afe8b04e846cb308ac8",
       "style": "IPY_MODEL_508ca66c64624c66a222b7a2129f782f",
       "value": "Quantizing layers inside the block: 100%"
      }
     },
     "77dc8b4072f7433083e7728770522965": {
      "model_module": "@jupyter-widgets/base",
      "model_module_version": "2.0.0",
      "model_name": "LayoutModel",
      "state": {}
     },
     "77e8dcfc5fa643dba2ee1f6aa4f30cab": {
      "model_module": "@jupyter-widgets/controls",
      "model_module_version": "2.0.0",
      "model_name": "HTMLModel",
      "state": {
       "layout": "IPY_MODEL_7bf7f88a6c354603b3e922415d5a0184",
       "style": "IPY_MODEL_bb8707bd613e461285a554b713b5c8cf",
       "value": " 6/6 [02:18&lt;00:00, 29.29s/it]"
      }
     },
     "780b47bd1302423eabca4ba40c2623ea": {
      "model_module": "@jupyter-widgets/controls",
      "model_module_version": "2.0.0",
      "model_name": "HTMLModel",
      "state": {
       "layout": "IPY_MODEL_029445a6680745b8b7b7a2262aa86a49",
       "style": "IPY_MODEL_0742e505a0394ad8bd4ad2160f604143",
       "value": "Quantizing layers inside the block: 100%"
      }
     },
     "7813d1056dc04f84be4641ed1d034ffd": {
      "model_module": "@jupyter-widgets/base",
      "model_module_version": "2.0.0",
      "model_name": "LayoutModel",
      "state": {}
     },
     "78948118edc144ff9771c7debca18fae": {
      "model_module": "@jupyter-widgets/base",
      "model_module_version": "2.0.0",
      "model_name": "LayoutModel",
      "state": {}
     },
     "78a525d3282b48c8944288fed82b49ce": {
      "model_module": "@jupyter-widgets/base",
      "model_module_version": "2.0.0",
      "model_name": "LayoutModel",
      "state": {}
     },
     "78b44d99c4b24025bd8717ceb72e2da1": {
      "model_module": "@jupyter-widgets/controls",
      "model_module_version": "2.0.0",
      "model_name": "HTMLStyleModel",
      "state": {
       "description_width": "",
       "font_size": null,
       "text_color": null
      }
     },
     "791b06e03020491b9ceebc29d1f2cde1": {
      "model_module": "@jupyter-widgets/base",
      "model_module_version": "2.0.0",
      "model_name": "LayoutModel",
      "state": {
       "visibility": "hidden"
      }
     },
     "79b3a93c524a4476bd89b321fc27647f": {
      "model_module": "@jupyter-widgets/controls",
      "model_module_version": "2.0.0",
      "model_name": "HTMLModel",
      "state": {
       "layout": "IPY_MODEL_0f7075b7629e4385ae640ae308d6a6b3",
       "style": "IPY_MODEL_b48ae660bf364f5883c496373601f341",
       "value": "Quantizing layers inside the block: 100%"
      }
     },
     "7b09c4cf3116438789e139bd456cf751": {
      "model_module": "@jupyter-widgets/controls",
      "model_module_version": "2.0.0",
      "model_name": "HTMLStyleModel",
      "state": {
       "description_width": "",
       "font_size": null,
       "text_color": null
      }
     },
     "7b1b126bfe7f4d539f7615f2b7db3bdc": {
      "model_module": "@jupyter-widgets/controls",
      "model_module_version": "2.0.0",
      "model_name": "HTMLStyleModel",
      "state": {
       "description_width": "",
       "font_size": null,
       "text_color": null
      }
     },
     "7b523905048249b0aa6fedd930c5123c": {
      "model_module": "@jupyter-widgets/base",
      "model_module_version": "2.0.0",
      "model_name": "LayoutModel",
      "state": {}
     },
     "7b7a2a53eeea48af8ab04a6f63e32947": {
      "model_module": "@jupyter-widgets/base",
      "model_module_version": "2.0.0",
      "model_name": "LayoutModel",
      "state": {}
     },
     "7bf7f88a6c354603b3e922415d5a0184": {
      "model_module": "@jupyter-widgets/base",
      "model_module_version": "2.0.0",
      "model_name": "LayoutModel",
      "state": {}
     },
     "7c4c58047b0142a6988517c3ac5ebb44": {
      "model_module": "@jupyter-widgets/controls",
      "model_module_version": "2.0.0",
      "model_name": "HTMLStyleModel",
      "state": {
       "description_width": "",
       "font_size": null,
       "text_color": null
      }
     },
     "7c8ce6deaf2744c5aff28da78b1862c4": {
      "model_module": "@jupyter-widgets/base",
      "model_module_version": "2.0.0",
      "model_name": "LayoutModel",
      "state": {}
     },
     "7cb2825b61a84ac08b11c99dab9dae64": {
      "model_module": "@jupyter-widgets/controls",
      "model_module_version": "2.0.0",
      "model_name": "HTMLModel",
      "state": {
       "layout": "IPY_MODEL_499a23a8ef044f9ea4b8e5c78be27a93",
       "style": "IPY_MODEL_a33239c4ceaa4137ab938b2a1bce2e03",
       "value": "Quantizing layers inside the block: 100%"
      }
     },
     "7d0a70b90c024c5a9d3b1b270b047ed9": {
      "model_module": "@jupyter-widgets/base",
      "model_module_version": "2.0.0",
      "model_name": "LayoutModel",
      "state": {}
     },
     "7d55bc8ae8644b41b1afee32f1c22b79": {
      "model_module": "@jupyter-widgets/base",
      "model_module_version": "2.0.0",
      "model_name": "LayoutModel",
      "state": {}
     },
     "7d967399111541e69664ee257bf18204": {
      "model_module": "@jupyter-widgets/base",
      "model_module_version": "2.0.0",
      "model_name": "LayoutModel",
      "state": {}
     },
     "7e607d3e302b4f4385b5b1f92cc81798": {
      "model_module": "@jupyter-widgets/base",
      "model_module_version": "2.0.0",
      "model_name": "LayoutModel",
      "state": {
       "visibility": "hidden"
      }
     },
     "7e9cd20880db4fdd943234693403308b": {
      "model_module": "@jupyter-widgets/base",
      "model_module_version": "2.0.0",
      "model_name": "LayoutModel",
      "state": {}
     },
     "7eb04a1605944af0b0382dc15e557557": {
      "model_module": "@jupyter-widgets/base",
      "model_module_version": "2.0.0",
      "model_name": "LayoutModel",
      "state": {
       "visibility": "hidden"
      }
     },
     "7ed45abb0a384d0aba552687c4d577a2": {
      "model_module": "@jupyter-widgets/base",
      "model_module_version": "2.0.0",
      "model_name": "LayoutModel",
      "state": {
       "visibility": "hidden"
      }
     },
     "7ed49656d1af42dd9692a64c428e7aef": {
      "model_module": "@jupyter-widgets/base",
      "model_module_version": "2.0.0",
      "model_name": "LayoutModel",
      "state": {}
     },
     "7ed5ea95d72c4be883ffa5e9935d0017": {
      "model_module": "@jupyter-widgets/base",
      "model_module_version": "2.0.0",
      "model_name": "LayoutModel",
      "state": {}
     },
     "7ee81e6258c046daac9c8b65a610fd55": {
      "model_module": "@jupyter-widgets/controls",
      "model_module_version": "2.0.0",
      "model_name": "HTMLStyleModel",
      "state": {
       "description_width": "",
       "font_size": null,
       "text_color": null
      }
     },
     "7f250c32187f4f33a6beb4e2c4134e15": {
      "model_module": "@jupyter-widgets/base",
      "model_module_version": "2.0.0",
      "model_name": "LayoutModel",
      "state": {
       "visibility": "hidden"
      }
     },
     "7f3e6167c8d94cf6849c9e0f890a44d2": {
      "model_module": "@jupyter-widgets/controls",
      "model_module_version": "2.0.0",
      "model_name": "HTMLModel",
      "state": {
       "layout": "IPY_MODEL_7ed49656d1af42dd9692a64c428e7aef",
       "style": "IPY_MODEL_98c363e005ab4ec8901bda2d630b62b6",
       "value": "Quantizing layers inside the block: 100%"
      }
     },
     "7f6147965b344c8b96e33c698e25b032": {
      "model_module": "@jupyter-widgets/controls",
      "model_module_version": "2.0.0",
      "model_name": "HTMLModel",
      "state": {
       "layout": "IPY_MODEL_4d06a6b9d3ca4a10962c8b7ff9a234e3",
       "style": "IPY_MODEL_0de7d37c67e44862b4c7e8bda9f3b321",
       "value": "Quantizing layers inside the block: 100%"
      }
     },
     "7ffca0e0d0514703b705d0f149ac7535": {
      "model_module": "@jupyter-widgets/base",
      "model_module_version": "2.0.0",
      "model_name": "LayoutModel",
      "state": {}
     },
     "801a3d3e93e6475da4c266750f15baf6": {
      "model_module": "@jupyter-widgets/controls",
      "model_module_version": "2.0.0",
      "model_name": "HTMLStyleModel",
      "state": {
       "description_width": "",
       "font_size": null,
       "text_color": null
      }
     },
     "8040a75e9cc94dfcbe2f6f96a308ac18": {
      "model_module": "@jupyter-widgets/controls",
      "model_module_version": "2.0.0",
      "model_name": "HTMLStyleModel",
      "state": {
       "description_width": "",
       "font_size": null,
       "text_color": null
      }
     },
     "8064fbbebe93489887b53e9bec8303a3": {
      "model_module": "@jupyter-widgets/controls",
      "model_module_version": "2.0.0",
      "model_name": "HTMLModel",
      "state": {
       "layout": "IPY_MODEL_e64b1b54571e4bfe8bbbbcd20c0d1f1f",
       "style": "IPY_MODEL_0286d0cb8091429f9e9294d820ed69a1",
       "value": "Quantizing layers inside the block: 100%"
      }
     },
     "80c4479b60d440129c68b0fd827e2134": {
      "model_module": "@jupyter-widgets/controls",
      "model_module_version": "2.0.0",
      "model_name": "HTMLModel",
      "state": {
       "layout": "IPY_MODEL_d944a6c3f4964266a2afe5ca331e0deb",
       "style": "IPY_MODEL_86118ac28a334f2c9c6cd6189a75d193",
       "value": " 6/6 [00:07&lt;00:00,  1.67s/it]"
      }
     },
     "816dd2c34790451583dcf59dad021585": {
      "model_module": "@jupyter-widgets/base",
      "model_module_version": "2.0.0",
      "model_name": "LayoutModel",
      "state": {}
     },
     "8227d58fb57649359e2b40d4e7349d0f": {
      "model_module": "@jupyter-widgets/base",
      "model_module_version": "2.0.0",
      "model_name": "LayoutModel",
      "state": {}
     },
     "826041b4e9ff47918f44d05f66feb288": {
      "model_module": "@jupyter-widgets/base",
      "model_module_version": "2.0.0",
      "model_name": "LayoutModel",
      "state": {}
     },
     "8291cb39e3e847bdad318d40a280a27b": {
      "model_module": "@jupyter-widgets/base",
      "model_module_version": "2.0.0",
      "model_name": "LayoutModel",
      "state": {}
     },
     "8301f3a32cb540bfa61c63ee77bd0333": {
      "model_module": "@jupyter-widgets/base",
      "model_module_version": "2.0.0",
      "model_name": "LayoutModel",
      "state": {
       "visibility": "hidden"
      }
     },
     "833ae3b159cd4a76977fa4457db0e400": {
      "model_module": "@jupyter-widgets/controls",
      "model_module_version": "2.0.0",
      "model_name": "HTMLStyleModel",
      "state": {
       "description_width": "",
       "font_size": null,
       "text_color": null
      }
     },
     "83818d8ec4944dc4a49fea3d20e22d40": {
      "model_module": "@jupyter-widgets/base",
      "model_module_version": "2.0.0",
      "model_name": "LayoutModel",
      "state": {
       "visibility": "hidden"
      }
     },
     "838e5fecb5c24b3782247f865fb32659": {
      "model_module": "@jupyter-widgets/controls",
      "model_module_version": "2.0.0",
      "model_name": "HTMLModel",
      "state": {
       "layout": "IPY_MODEL_709da663dedb4ef6bf7f522fdbde926f",
       "style": "IPY_MODEL_ca3017b640584fdaae38df8d67ca2460",
       "value": "Quantizing layers inside the block: 100%"
      }
     },
     "83c47894abfe41ac908bd49021f0beae": {
      "model_module": "@jupyter-widgets/base",
      "model_module_version": "2.0.0",
      "model_name": "LayoutModel",
      "state": {}
     },
     "840250c354624574b34d78c544e55057": {
      "model_module": "@jupyter-widgets/base",
      "model_module_version": "2.0.0",
      "model_name": "LayoutModel",
      "state": {}
     },
     "8471e76f59304a68b2f7c8c9e8381c86": {
      "model_module": "@jupyter-widgets/controls",
      "model_module_version": "2.0.0",
      "model_name": "HTMLModel",
      "state": {
       "layout": "IPY_MODEL_390d65d66d134065b939788e7408737f",
       "style": "IPY_MODEL_be8bb06d2f8c401fa9fbfffc7c7a15da",
       "value": " 6/6 [02:18&lt;00:00, 29.28s/it]"
      }
     },
     "8490be970ff9470c84823c5258b8526b": {
      "model_module": "@jupyter-widgets/controls",
      "model_module_version": "2.0.0",
      "model_name": "FloatProgressModel",
      "state": {
       "layout": "IPY_MODEL_4255e479ae0e49e6b2a701e3b1295317",
       "max": 6,
       "style": "IPY_MODEL_76331098444249cea5d4bfcccdf15efd",
       "value": 6
      }
     },
     "84d0bb91a9f6461298c663ee87d26d7c": {
      "model_module": "@jupyter-widgets/base",
      "model_module_version": "2.0.0",
      "model_name": "LayoutModel",
      "state": {
       "visibility": "hidden"
      }
     },
     "84d46c78550b43f49b752c831d703419": {
      "model_module": "@jupyter-widgets/controls",
      "model_module_version": "2.0.0",
      "model_name": "HTMLModel",
      "state": {
       "layout": "IPY_MODEL_4ed06fafe3c043718c48fd96237b8f8c",
       "style": "IPY_MODEL_1f8b9aff28c14de1b0454185fc73e0d0",
       "value": " 6/6 [00:07&lt;00:00,  1.69s/it]"
      }
     },
     "854aab657332438d8a67615397c7f446": {
      "model_module": "@jupyter-widgets/controls",
      "model_module_version": "2.0.0",
      "model_name": "HTMLModel",
      "state": {
       "layout": "IPY_MODEL_111a105d9cb2420f99b190a46827fe2e",
       "style": "IPY_MODEL_91e8841160294bfab75b8e8a95e52b27",
       "value": " 6/6 [02:18&lt;00:00, 29.25s/it]"
      }
     },
     "85d27f640b9f44eca0231d16441fe41b": {
      "model_module": "@jupyter-widgets/controls",
      "model_module_version": "2.0.0",
      "model_name": "HTMLModel",
      "state": {
       "layout": "IPY_MODEL_47a761d0123e4e1697dc6e71e9c04633",
       "style": "IPY_MODEL_ee7ba4ae564a42cb8d8cbb7d57105fe0",
       "value": " 6/6 [00:07&lt;00:00,  1.66s/it]"
      }
     },
     "86118ac28a334f2c9c6cd6189a75d193": {
      "model_module": "@jupyter-widgets/controls",
      "model_module_version": "2.0.0",
      "model_name": "HTMLStyleModel",
      "state": {
       "description_width": "",
       "font_size": null,
       "text_color": null
      }
     },
     "86f952bd9b79409a92c8f061bfff9034": {
      "model_module": "@jupyter-widgets/controls",
      "model_module_version": "2.0.0",
      "model_name": "HTMLModel",
      "state": {
       "layout": "IPY_MODEL_1093f0a068644ee1842875906e65bf4f",
       "style": "IPY_MODEL_61e5bc0fa0414e7195c9788f096c9622",
       "value": "Quantizing layers inside the block: 100%"
      }
     },
     "86fb5527f4d54d92b8e696e8f7898ab6": {
      "model_module": "@jupyter-widgets/base",
      "model_module_version": "2.0.0",
      "model_name": "LayoutModel",
      "state": {}
     },
     "8793fd6779994d08b28c41ec2dbe48e2": {
      "model_module": "@jupyter-widgets/controls",
      "model_module_version": "2.0.0",
      "model_name": "HTMLModel",
      "state": {
       "layout": "IPY_MODEL_57c6fe67132a4e01a034f3b4f3d78a0f",
       "style": "IPY_MODEL_6e4cccb0e87448fab2a11e47bef239eb",
       "value": "Quantizing layers inside the block: 100%"
      }
     },
     "87a8d659dc8e4cb0bf7c8676e71b0112": {
      "model_module": "@jupyter-widgets/controls",
      "model_module_version": "2.0.0",
      "model_name": "HTMLStyleModel",
      "state": {
       "description_width": "",
       "font_size": null,
       "text_color": null
      }
     },
     "8835b75085fa4d9d97684d398de74b39": {
      "model_module": "@jupyter-widgets/controls",
      "model_module_version": "2.0.0",
      "model_name": "FloatProgressModel",
      "state": {
       "layout": "IPY_MODEL_42a7d8d5c9574199ac945eb26b0a25d1",
       "max": 6,
       "style": "IPY_MODEL_4b7b79d6b80248c2bf8c05feae7b1d28",
       "value": 6
      }
     },
     "88bde7867f0c438e928b335681a61b9b": {
      "model_module": "@jupyter-widgets/controls",
      "model_module_version": "2.0.0",
      "model_name": "HTMLStyleModel",
      "state": {
       "description_width": "",
       "font_size": null,
       "text_color": null
      }
     },
     "88f6357b929f4b15a39f07d12f280bad": {
      "model_module": "@jupyter-widgets/controls",
      "model_module_version": "2.0.0",
      "model_name": "FloatProgressModel",
      "state": {
       "layout": "IPY_MODEL_246ab26cde41460996769ba2d46c3f72",
       "max": 6,
       "style": "IPY_MODEL_97e558b2997b4778bfc31baa5b3c52d0",
       "value": 6
      }
     },
     "8913c77eea3c4ac180dd93667ae9d6cf": {
      "model_module": "@jupyter-widgets/base",
      "model_module_version": "2.0.0",
      "model_name": "LayoutModel",
      "state": {
       "visibility": "hidden"
      }
     },
     "895773438c574b1da96412cd265aae03": {
      "model_module": "@jupyter-widgets/controls",
      "model_module_version": "2.0.0",
      "model_name": "HTMLModel",
      "state": {
       "layout": "IPY_MODEL_40483a3d76874bba9ead4e688a5e2f0a",
       "style": "IPY_MODEL_0508fb05d82740da8bc1b56d36ad14a7",
       "value": " 6/6 [02:18&lt;00:00, 29.30s/it]"
      }
     },
     "89a0880840e64f6ea47d916f18a31ca6": {
      "model_module": "@jupyter-widgets/controls",
      "model_module_version": "2.0.0",
      "model_name": "ProgressStyleModel",
      "state": {
       "description_width": ""
      }
     },
     "89b4258b16d14a859eba4df0b849c3eb": {
      "model_module": "@jupyter-widgets/controls",
      "model_module_version": "2.0.0",
      "model_name": "ProgressStyleModel",
      "state": {
       "description_width": ""
      }
     },
     "8ad83caaa16342158e4e81e09be5ca69": {
      "model_module": "@jupyter-widgets/controls",
      "model_module_version": "2.0.0",
      "model_name": "HTMLModel",
      "state": {
       "layout": "IPY_MODEL_d6c365c765794edd97e512fab092dd3e",
       "style": "IPY_MODEL_9dd08fed5bd84050b8c4d1245dd398b1",
       "value": " 6/6 [00:07&lt;00:00,  1.68s/it]"
      }
     },
     "8b457534927f4c17909c89c94e5c32ae": {
      "model_module": "@jupyter-widgets/base",
      "model_module_version": "2.0.0",
      "model_name": "LayoutModel",
      "state": {
       "visibility": "hidden"
      }
     },
     "8b7683b20d784c1bb1b8591512160de3": {
      "model_module": "@jupyter-widgets/base",
      "model_module_version": "2.0.0",
      "model_name": "LayoutModel",
      "state": {
       "visibility": "hidden"
      }
     },
     "8ba508bbbe1940debc79e1fb1afc8dd6": {
      "model_module": "@jupyter-widgets/base",
      "model_module_version": "2.0.0",
      "model_name": "LayoutModel",
      "state": {}
     },
     "8bbcf0d1d312463eb0a96461d99366e0": {
      "model_module": "@jupyter-widgets/base",
      "model_module_version": "2.0.0",
      "model_name": "LayoutModel",
      "state": {}
     },
     "8c0fa591e4924e5095ebdfbd49eea1ba": {
      "model_module": "@jupyter-widgets/controls",
      "model_module_version": "2.0.0",
      "model_name": "HTMLStyleModel",
      "state": {
       "description_width": "",
       "font_size": null,
       "text_color": null
      }
     },
     "8c32cfc5cacf4c00902ea794c31e5072": {
      "model_module": "@jupyter-widgets/controls",
      "model_module_version": "2.0.0",
      "model_name": "HTMLStyleModel",
      "state": {
       "description_width": "",
       "font_size": null,
       "text_color": null
      }
     },
     "8c463d063589417a94ae52dc62c6b281": {
      "model_module": "@jupyter-widgets/controls",
      "model_module_version": "2.0.0",
      "model_name": "ProgressStyleModel",
      "state": {
       "description_width": ""
      }
     },
     "8c4937256f4e433488cfa371dd359bd3": {
      "model_module": "@jupyter-widgets/base",
      "model_module_version": "2.0.0",
      "model_name": "LayoutModel",
      "state": {}
     },
     "8ca8b333d6d0481a9ea050943fe75ffc": {
      "model_module": "@jupyter-widgets/controls",
      "model_module_version": "2.0.0",
      "model_name": "HTMLModel",
      "state": {
       "layout": "IPY_MODEL_91d0ca66d33c447a89df5b9d117384b1",
       "style": "IPY_MODEL_66877ab3d3374efba9635493a186b32e",
       "value": "Quantizing layers inside the block: 100%"
      }
     },
     "8d1196d7f40743739ce9a180ed033fcb": {
      "model_module": "@jupyter-widgets/base",
      "model_module_version": "2.0.0",
      "model_name": "LayoutModel",
      "state": {}
     },
     "8d160c24d1964a5bbe2930ab0a0ee222": {
      "model_module": "@jupyter-widgets/controls",
      "model_module_version": "2.0.0",
      "model_name": "HTMLModel",
      "state": {
       "layout": "IPY_MODEL_ff898a06723b4cb9897ed265a0ae80f5",
       "style": "IPY_MODEL_9d991ed1f783488482a54d97cd9c5b7a",
       "value": " 6/6 [02:19&lt;00:00, 29.31s/it]"
      }
     },
     "8e41247ec08a48d8b66b631bbd693973": {
      "model_module": "@jupyter-widgets/base",
      "model_module_version": "2.0.0",
      "model_name": "LayoutModel",
      "state": {
       "visibility": "hidden"
      }
     },
     "8f5d65fa62394adaaa72998d52fbeb59": {
      "model_module": "@jupyter-widgets/base",
      "model_module_version": "2.0.0",
      "model_name": "LayoutModel",
      "state": {
       "visibility": "hidden"
      }
     },
     "8f64b58d433a4aeb8c6485fe88d0f9ae": {
      "model_module": "@jupyter-widgets/controls",
      "model_module_version": "2.0.0",
      "model_name": "HTMLStyleModel",
      "state": {
       "description_width": "",
       "font_size": null,
       "text_color": null
      }
     },
     "8f99346fb80144bead2ac186e23a78f8": {
      "model_module": "@jupyter-widgets/controls",
      "model_module_version": "2.0.0",
      "model_name": "HTMLModel",
      "state": {
       "layout": "IPY_MODEL_054b09fe9c074494b6c78dcb6934a429",
       "style": "IPY_MODEL_70591ce4e06045429b0997a8144f22d5",
       "value": "Quantizing layers inside the block: 100%"
      }
     },
     "8f9f596b5627419ea20cb48481f31e0b": {
      "model_module": "@jupyter-widgets/base",
      "model_module_version": "2.0.0",
      "model_name": "LayoutModel",
      "state": {}
     },
     "8fa9fcffbbd442df8e128657f2f3e0bf": {
      "model_module": "@jupyter-widgets/base",
      "model_module_version": "2.0.0",
      "model_name": "LayoutModel",
      "state": {}
     },
     "9030c9a59fa043e2939bf1820a32874a": {
      "model_module": "@jupyter-widgets/base",
      "model_module_version": "2.0.0",
      "model_name": "LayoutModel",
      "state": {}
     },
     "91d0ca66d33c447a89df5b9d117384b1": {
      "model_module": "@jupyter-widgets/base",
      "model_module_version": "2.0.0",
      "model_name": "LayoutModel",
      "state": {}
     },
     "91e8841160294bfab75b8e8a95e52b27": {
      "model_module": "@jupyter-widgets/controls",
      "model_module_version": "2.0.0",
      "model_name": "HTMLStyleModel",
      "state": {
       "description_width": "",
       "font_size": null,
       "text_color": null
      }
     },
     "91ed4f2feb104103b6a4405028564990": {
      "model_module": "@jupyter-widgets/base",
      "model_module_version": "2.0.0",
      "model_name": "LayoutModel",
      "state": {}
     },
     "92b0003a16c2475798758bb7e98c1b5f": {
      "model_module": "@jupyter-widgets/controls",
      "model_module_version": "2.0.0",
      "model_name": "HTMLModel",
      "state": {
       "layout": "IPY_MODEL_7d55bc8ae8644b41b1afee32f1c22b79",
       "style": "IPY_MODEL_87a8d659dc8e4cb0bf7c8676e71b0112",
       "value": "Quantizing layers inside the block: 100%"
      }
     },
     "93567f7bd4e84770b65a8da4e39dd872": {
      "model_module": "@jupyter-widgets/base",
      "model_module_version": "2.0.0",
      "model_name": "LayoutModel",
      "state": {}
     },
     "93856069d61f45148eb0f97b51cc0f18": {
      "model_module": "@jupyter-widgets/controls",
      "model_module_version": "2.0.0",
      "model_name": "HTMLStyleModel",
      "state": {
       "description_width": "",
       "font_size": null,
       "text_color": null
      }
     },
     "93fd281b59ae47afae2ad6000ae22244": {
      "model_module": "@jupyter-widgets/controls",
      "model_module_version": "2.0.0",
      "model_name": "HTMLStyleModel",
      "state": {
       "description_width": "",
       "font_size": null,
       "text_color": null
      }
     },
     "9427307254fb4c08a9687f5d1ee2bfba": {
      "model_module": "@jupyter-widgets/controls",
      "model_module_version": "2.0.0",
      "model_name": "ProgressStyleModel",
      "state": {
       "description_width": ""
      }
     },
     "9447923c0be4415d89c7e983ef4b20a7": {
      "model_module": "@jupyter-widgets/controls",
      "model_module_version": "2.0.0",
      "model_name": "ProgressStyleModel",
      "state": {
       "description_width": ""
      }
     },
     "948dde6aac454ae9a56e763e1bf2221f": {
      "model_module": "@jupyter-widgets/controls",
      "model_module_version": "2.0.0",
      "model_name": "FloatProgressModel",
      "state": {
       "layout": "IPY_MODEL_c5422161007544bead054bb508c1ad88",
       "max": 6,
       "style": "IPY_MODEL_ec02a2f8b8b140259c4e594e276d9460",
       "value": 6
      }
     },
     "948eae24a3da4815a45787ce4f60b85f": {
      "model_module": "@jupyter-widgets/controls",
      "model_module_version": "2.0.0",
      "model_name": "HTMLModel",
      "state": {
       "layout": "IPY_MODEL_6b3e4617250242cba5346ccf21487c63",
       "style": "IPY_MODEL_9861d6f88642469eb15720db0b3211fe",
       "value": " 6/6 [00:07&lt;00:00,  1.66s/it]"
      }
     },
     "94acfaea2b7d4219a4db4adff069b138": {
      "model_module": "@jupyter-widgets/base",
      "model_module_version": "2.0.0",
      "model_name": "LayoutModel",
      "state": {
       "visibility": "hidden"
      }
     },
     "95b091fbf6b64ae79262e5b92744213b": {
      "model_module": "@jupyter-widgets/base",
      "model_module_version": "2.0.0",
      "model_name": "LayoutModel",
      "state": {}
     },
     "96032f66ce874b53b3862faaf2a41bd3": {
      "model_module": "@jupyter-widgets/base",
      "model_module_version": "2.0.0",
      "model_name": "LayoutModel",
      "state": {}
     },
     "96f825caabef44af934edd57f9817ad4": {
      "model_module": "@jupyter-widgets/controls",
      "model_module_version": "2.0.0",
      "model_name": "ProgressStyleModel",
      "state": {
       "description_width": ""
      }
     },
     "9760c70c7daa4876914afa01c58f9da6": {
      "model_module": "@jupyter-widgets/controls",
      "model_module_version": "2.0.0",
      "model_name": "FloatProgressModel",
      "state": {
       "layout": "IPY_MODEL_e876c638d38e4d0da9eaac829896d85c",
       "max": 6,
       "style": "IPY_MODEL_d2c3f6eefdf949d897f2d9a3988b4ea3",
       "value": 6
      }
     },
     "97a697dc74b9485eb23180e09352d3bd": {
      "model_module": "@jupyter-widgets/controls",
      "model_module_version": "2.0.0",
      "model_name": "ProgressStyleModel",
      "state": {
       "description_width": ""
      }
     },
     "97b04bd17ead455ba1e98f9ef2b1457e": {
      "model_module": "@jupyter-widgets/controls",
      "model_module_version": "2.0.0",
      "model_name": "ProgressStyleModel",
      "state": {
       "description_width": ""
      }
     },
     "97e558b2997b4778bfc31baa5b3c52d0": {
      "model_module": "@jupyter-widgets/controls",
      "model_module_version": "2.0.0",
      "model_name": "ProgressStyleModel",
      "state": {
       "description_width": ""
      }
     },
     "9814ed54966a4a11a94f248c863db8dd": {
      "model_module": "@jupyter-widgets/controls",
      "model_module_version": "2.0.0",
      "model_name": "ProgressStyleModel",
      "state": {
       "description_width": ""
      }
     },
     "981d3eada07b40fa8e6a6de2624e4369": {
      "model_module": "@jupyter-widgets/controls",
      "model_module_version": "2.0.0",
      "model_name": "ProgressStyleModel",
      "state": {
       "description_width": ""
      }
     },
     "9861d6f88642469eb15720db0b3211fe": {
      "model_module": "@jupyter-widgets/controls",
      "model_module_version": "2.0.0",
      "model_name": "HTMLStyleModel",
      "state": {
       "description_width": "",
       "font_size": null,
       "text_color": null
      }
     },
     "98c363e005ab4ec8901bda2d630b62b6": {
      "model_module": "@jupyter-widgets/controls",
      "model_module_version": "2.0.0",
      "model_name": "HTMLStyleModel",
      "state": {
       "description_width": "",
       "font_size": null,
       "text_color": null
      }
     },
     "995cfb17c5164c66bb9161086b5423c0": {
      "model_module": "@jupyter-widgets/controls",
      "model_module_version": "2.0.0",
      "model_name": "ProgressStyleModel",
      "state": {
       "description_width": ""
      }
     },
     "996d5b8d3bb343bfb834fd7d4ef9eb33": {
      "model_module": "@jupyter-widgets/base",
      "model_module_version": "2.0.0",
      "model_name": "LayoutModel",
      "state": {}
     },
     "99fb90b042b24a0e9cd01a49cb700a72": {
      "model_module": "@jupyter-widgets/controls",
      "model_module_version": "2.0.0",
      "model_name": "HTMLStyleModel",
      "state": {
       "description_width": "",
       "font_size": null,
       "text_color": null
      }
     },
     "9a5ba7e740974497a16f819d0336dd30": {
      "model_module": "@jupyter-widgets/controls",
      "model_module_version": "2.0.0",
      "model_name": "HTMLStyleModel",
      "state": {
       "description_width": "",
       "font_size": null,
       "text_color": null
      }
     },
     "9af7fc2ffac34a908b9af50fe31afe8e": {
      "model_module": "@jupyter-widgets/base",
      "model_module_version": "2.0.0",
      "model_name": "LayoutModel",
      "state": {}
     },
     "9b34ef32f74e477f93c575bb88d2d635": {
      "model_module": "@jupyter-widgets/base",
      "model_module_version": "2.0.0",
      "model_name": "LayoutModel",
      "state": {
       "visibility": "hidden"
      }
     },
     "9b95d0ecc382465cbf9fd9d20124fc81": {
      "model_module": "@jupyter-widgets/controls",
      "model_module_version": "2.0.0",
      "model_name": "HTMLStyleModel",
      "state": {
       "description_width": "",
       "font_size": null,
       "text_color": null
      }
     },
     "9bc3ca9aaf56487cac62cf2b13938ec3": {
      "model_module": "@jupyter-widgets/controls",
      "model_module_version": "2.0.0",
      "model_name": "ProgressStyleModel",
      "state": {
       "description_width": ""
      }
     },
     "9c450600e1b1459db265ab850d8e5d19": {
      "model_module": "@jupyter-widgets/controls",
      "model_module_version": "2.0.0",
      "model_name": "ProgressStyleModel",
      "state": {
       "description_width": ""
      }
     },
     "9ca7e1a4eb47480fa2c0c4ce9961e006": {
      "model_module": "@jupyter-widgets/base",
      "model_module_version": "2.0.0",
      "model_name": "LayoutModel",
      "state": {
       "visibility": "hidden"
      }
     },
     "9cb95a59c3b34139b1339c2b0f167965": {
      "model_module": "@jupyter-widgets/base",
      "model_module_version": "2.0.0",
      "model_name": "LayoutModel",
      "state": {}
     },
     "9d693d545bef4a02a00c7aeadbe34cf7": {
      "model_module": "@jupyter-widgets/controls",
      "model_module_version": "2.0.0",
      "model_name": "HTMLModel",
      "state": {
       "layout": "IPY_MODEL_bbb6474fe5724acebd25d1e9f686172c",
       "style": "IPY_MODEL_88bde7867f0c438e928b335681a61b9b",
       "value": " 6/6 [02:19&lt;00:00, 29.30s/it]"
      }
     },
     "9d6f7f9873d94401b984ab9c4ffeb9f3": {
      "model_module": "@jupyter-widgets/base",
      "model_module_version": "2.0.0",
      "model_name": "LayoutModel",
      "state": {
       "visibility": "hidden"
      }
     },
     "9d991ed1f783488482a54d97cd9c5b7a": {
      "model_module": "@jupyter-widgets/controls",
      "model_module_version": "2.0.0",
      "model_name": "HTMLStyleModel",
      "state": {
       "description_width": "",
       "font_size": null,
       "text_color": null
      }
     },
     "9dd08fed5bd84050b8c4d1245dd398b1": {
      "model_module": "@jupyter-widgets/controls",
      "model_module_version": "2.0.0",
      "model_name": "HTMLStyleModel",
      "state": {
       "description_width": "",
       "font_size": null,
       "text_color": null
      }
     },
     "9e135816023b447f9b9f030e476629e2": {
      "model_module": "@jupyter-widgets/base",
      "model_module_version": "2.0.0",
      "model_name": "LayoutModel",
      "state": {}
     },
     "9eb10de4a5e0411f909cff62ab57be42": {
      "model_module": "@jupyter-widgets/controls",
      "model_module_version": "2.0.0",
      "model_name": "ProgressStyleModel",
      "state": {
       "description_width": ""
      }
     },
     "9f151548f7d84cdf80be3d0789d87c87": {
      "model_module": "@jupyter-widgets/controls",
      "model_module_version": "2.0.0",
      "model_name": "HTMLStyleModel",
      "state": {
       "description_width": "",
       "font_size": null,
       "text_color": null
      }
     },
     "9f1b113f992d400697ca7ae95a83c8ca": {
      "model_module": "@jupyter-widgets/controls",
      "model_module_version": "2.0.0",
      "model_name": "HTMLModel",
      "state": {
       "layout": "IPY_MODEL_7813d1056dc04f84be4641ed1d034ffd",
       "style": "IPY_MODEL_0711f848bb2c4635a69fe91c8f8c1f21",
       "value": "Quantizing layers inside the block: 100%"
      }
     },
     "9f2fcc20be294a7d9c5460bc29c188b0": {
      "model_module": "@jupyter-widgets/controls",
      "model_module_version": "2.0.0",
      "model_name": "HTMLStyleModel",
      "state": {
       "description_width": "",
       "font_size": null,
       "text_color": null
      }
     },
     "9f39f935f9bf4491b6eb19e05b026368": {
      "model_module": "@jupyter-widgets/base",
      "model_module_version": "2.0.0",
      "model_name": "LayoutModel",
      "state": {
       "visibility": "hidden"
      }
     },
     "9fd410ec3c7c4fb68570a774876e5a39": {
      "model_module": "@jupyter-widgets/controls",
      "model_module_version": "2.0.0",
      "model_name": "HTMLStyleModel",
      "state": {
       "description_width": "",
       "font_size": null,
       "text_color": null
      }
     },
     "a0063a78255f43f3867a99c799c153ac": {
      "model_module": "@jupyter-widgets/base",
      "model_module_version": "2.0.0",
      "model_name": "LayoutModel",
      "state": {}
     },
     "a0151ae96ee0474a9d2b573f1fdd4315": {
      "model_module": "@jupyter-widgets/controls",
      "model_module_version": "2.0.0",
      "model_name": "HTMLModel",
      "state": {
       "layout": "IPY_MODEL_3d8f1298a11c4392aaa4a63d2ab2e067",
       "style": "IPY_MODEL_cf22490ab8bc478a9430a6072d266e5a",
       "value": " 6/6 [00:07&lt;00:00,  1.67s/it]"
      }
     },
     "a04899c171274a1dbebe69a4363c7339": {
      "model_module": "@jupyter-widgets/controls",
      "model_module_version": "2.0.0",
      "model_name": "HTMLStyleModel",
      "state": {
       "description_width": "",
       "font_size": null,
       "text_color": null
      }
     },
     "a06c9a376f8240469db84fddcc4996c0": {
      "model_module": "@jupyter-widgets/controls",
      "model_module_version": "2.0.0",
      "model_name": "HTMLStyleModel",
      "state": {
       "description_width": "",
       "font_size": null,
       "text_color": null
      }
     },
     "a0e43f98ac7443239af9b8ea04c611a8": {
      "model_module": "@jupyter-widgets/controls",
      "model_module_version": "2.0.0",
      "model_name": "HTMLModel",
      "state": {
       "layout": "IPY_MODEL_2ea6ebcca08640079240c7c464e009d9",
       "style": "IPY_MODEL_3aeb254887464783879a9a2fdbf6783a",
       "value": " 6/6 [00:07&lt;00:00,  1.67s/it]"
      }
     },
     "a33239c4ceaa4137ab938b2a1bce2e03": {
      "model_module": "@jupyter-widgets/controls",
      "model_module_version": "2.0.0",
      "model_name": "HTMLStyleModel",
      "state": {
       "description_width": "",
       "font_size": null,
       "text_color": null
      }
     },
     "a3a8f8f1fd6f49bc997353e2a7d4dafd": {
      "model_module": "@jupyter-widgets/base",
      "model_module_version": "2.0.0",
      "model_name": "LayoutModel",
      "state": {}
     },
     "a3acef61b77c48a09cb0aefefb4f5529": {
      "model_module": "@jupyter-widgets/controls",
      "model_module_version": "2.0.0",
      "model_name": "FloatProgressModel",
      "state": {
       "layout": "IPY_MODEL_8f9f596b5627419ea20cb48481f31e0b",
       "max": 6,
       "style": "IPY_MODEL_96f825caabef44af934edd57f9817ad4",
       "value": 6
      }
     },
     "a46604526a994ed68e81f6bfd3e7336a": {
      "model_module": "@jupyter-widgets/controls",
      "model_module_version": "2.0.0",
      "model_name": "ProgressStyleModel",
      "state": {
       "description_width": ""
      }
     },
     "a4e413a0fb8144589c586021c892d8bc": {
      "model_module": "@jupyter-widgets/controls",
      "model_module_version": "2.0.0",
      "model_name": "HTMLModel",
      "state": {
       "layout": "IPY_MODEL_f8acb1744ec548599b37e500cdb55600",
       "style": "IPY_MODEL_f18f7fa2e7eb4c2290a1f1148495ae0a",
       "value": "Quantizing layers inside the block: 100%"
      }
     },
     "a54b74ec5848466793c14a089d2501b1": {
      "model_module": "@jupyter-widgets/base",
      "model_module_version": "2.0.0",
      "model_name": "LayoutModel",
      "state": {}
     },
     "a58b660eb8bf414592d245f698c10f32": {
      "model_module": "@jupyter-widgets/controls",
      "model_module_version": "2.0.0",
      "model_name": "HTMLStyleModel",
      "state": {
       "description_width": "",
       "font_size": null,
       "text_color": null
      }
     },
     "a5dd2e9f6a5549b2b916b44ac77985ce": {
      "model_module": "@jupyter-widgets/base",
      "model_module_version": "2.0.0",
      "model_name": "LayoutModel",
      "state": {
       "visibility": "hidden"
      }
     },
     "a60d4bd544e0477cb712a2d7c94597ba": {
      "model_module": "@jupyter-widgets/base",
      "model_module_version": "2.0.0",
      "model_name": "LayoutModel",
      "state": {}
     },
     "a64110aa26d84ed9bc6e25dee0906ace": {
      "model_module": "@jupyter-widgets/controls",
      "model_module_version": "2.0.0",
      "model_name": "FloatProgressModel",
      "state": {
       "layout": "IPY_MODEL_ba29345eb16648e086a772b21a88c3e4",
       "max": 6,
       "style": "IPY_MODEL_d6f3c8b9115f4de4b285366d603077d9",
       "value": 6
      }
     },
     "a6df825a568a4dde95e69923194de7c5": {
      "model_module": "@jupyter-widgets/base",
      "model_module_version": "2.0.0",
      "model_name": "LayoutModel",
      "state": {}
     },
     "a711c6c35ad54e2880063d0f263a3179": {
      "model_module": "@jupyter-widgets/base",
      "model_module_version": "2.0.0",
      "model_name": "LayoutModel",
      "state": {
       "visibility": "hidden"
      }
     },
     "a7380a94baee4636b5aff00c50bf4c76": {
      "model_module": "@jupyter-widgets/base",
      "model_module_version": "2.0.0",
      "model_name": "LayoutModel",
      "state": {
       "visibility": "hidden"
      }
     },
     "a7c29f2094364f009021283051a6e016": {
      "model_module": "@jupyter-widgets/base",
      "model_module_version": "2.0.0",
      "model_name": "LayoutModel",
      "state": {}
     },
     "a9b4d4569fb74b878e75f6f3bd242bac": {
      "model_module": "@jupyter-widgets/base",
      "model_module_version": "2.0.0",
      "model_name": "LayoutModel",
      "state": {}
     },
     "a9c685fb3ad549c89c271bcb05716d44": {
      "model_module": "@jupyter-widgets/base",
      "model_module_version": "2.0.0",
      "model_name": "LayoutModel",
      "state": {}
     },
     "aa0e04bb20a24d3eaa7009d163e22aa4": {
      "model_module": "@jupyter-widgets/controls",
      "model_module_version": "2.0.0",
      "model_name": "FloatProgressModel",
      "state": {
       "layout": "IPY_MODEL_f00fce35b6a1412fb37105bd1de3a2a5",
       "max": 6,
       "style": "IPY_MODEL_8c463d063589417a94ae52dc62c6b281",
       "value": 6
      }
     },
     "aa2f7f88161e4e6582ffff7aad70a104": {
      "model_module": "@jupyter-widgets/base",
      "model_module_version": "2.0.0",
      "model_name": "LayoutModel",
      "state": {
       "visibility": "hidden"
      }
     },
     "aad5cdbb020d4a5594cf9b9b62e6c003": {
      "model_module": "@jupyter-widgets/controls",
      "model_module_version": "2.0.0",
      "model_name": "HTMLModel",
      "state": {
       "layout": "IPY_MODEL_b97fb6cd26674d2f8eaab8f90b6fc198",
       "style": "IPY_MODEL_7139b3ba48d44effa18e1d7413f2a7cf",
       "value": " 6/6 [02:18&lt;00:00, 29.27s/it]"
      }
     },
     "ab4483ec5b6e48bc96374039610f3076": {
      "model_module": "@jupyter-widgets/controls",
      "model_module_version": "2.0.0",
      "model_name": "HTMLModel",
      "state": {
       "layout": "IPY_MODEL_2f4c0fe9c1d54d7b811885b8dae919fb",
       "style": "IPY_MODEL_fc19935ea5814b70ad2210a4e3eca98c",
       "value": "Quantizing layers inside the block: 100%"
      }
     },
     "ab6eb767f0aa44548824672738061a83": {
      "model_module": "@jupyter-widgets/controls",
      "model_module_version": "2.0.0",
      "model_name": "HTMLStyleModel",
      "state": {
       "description_width": "",
       "font_size": null,
       "text_color": null
      }
     },
     "abee74d5de1547b8bc44bb475e861f8e": {
      "model_module": "@jupyter-widgets/base",
      "model_module_version": "2.0.0",
      "model_name": "LayoutModel",
      "state": {}
     },
     "ac6a9a81f57f468a998d4be6ff88b4ea": {
      "model_module": "@jupyter-widgets/controls",
      "model_module_version": "2.0.0",
      "model_name": "HTMLModel",
      "state": {
       "layout": "IPY_MODEL_2bac3120eafc4129962cea9996dd14d4",
       "style": "IPY_MODEL_5c53632da26e4f9c967b8e96fc72320b",
       "value": "Quantizing layers inside the block: 100%"
      }
     },
     "ac741b9c9a764a57be176443ab93b604": {
      "model_module": "@jupyter-widgets/base",
      "model_module_version": "2.0.0",
      "model_name": "LayoutModel",
      "state": {}
     },
     "ac771581f5114d8ca5f1a086fa07621f": {
      "model_module": "@jupyter-widgets/base",
      "model_module_version": "2.0.0",
      "model_name": "LayoutModel",
      "state": {
       "visibility": "hidden"
      }
     },
     "acf9b6f99de340ef9c838a45c32686e9": {
      "model_module": "@jupyter-widgets/controls",
      "model_module_version": "2.0.0",
      "model_name": "HTMLStyleModel",
      "state": {
       "description_width": "",
       "font_size": null,
       "text_color": null
      }
     },
     "ad39f4050ca944ae9c2ce3e60fbdbfce": {
      "model_module": "@jupyter-widgets/controls",
      "model_module_version": "2.0.0",
      "model_name": "HTMLStyleModel",
      "state": {
       "description_width": "",
       "font_size": null,
       "text_color": null
      }
     },
     "ae5b0e1ccb854d8da5374ecc5ba8a765": {
      "model_module": "@jupyter-widgets/controls",
      "model_module_version": "2.0.0",
      "model_name": "ProgressStyleModel",
      "state": {
       "description_width": ""
      }
     },
     "af01bd3d6021484fb1be4392b0398cfc": {
      "model_module": "@jupyter-widgets/controls",
      "model_module_version": "2.0.0",
      "model_name": "HTMLModel",
      "state": {
       "layout": "IPY_MODEL_32cd71e7026c4b0dba8aafedbfd8d447",
       "style": "IPY_MODEL_833ae3b159cd4a76977fa4457db0e400",
       "value": "Quantizing layers inside the block: 100%"
      }
     },
     "afaf44ee8f094ec78fee32c56e77e03c": {
      "model_module": "@jupyter-widgets/controls",
      "model_module_version": "2.0.0",
      "model_name": "HTMLModel",
      "state": {
       "layout": "IPY_MODEL_83c47894abfe41ac908bd49021f0beae",
       "style": "IPY_MODEL_acf9b6f99de340ef9c838a45c32686e9",
       "value": "Quantizing layers inside the block: 100%"
      }
     },
     "b02ff3a9c86f451595b813c48464aad4": {
      "model_module": "@jupyter-widgets/base",
      "model_module_version": "2.0.0",
      "model_name": "LayoutModel",
      "state": {}
     },
     "b033d3a1e830495092e4fe13c37a2f2a": {
      "model_module": "@jupyter-widgets/controls",
      "model_module_version": "2.0.0",
      "model_name": "HTMLModel",
      "state": {
       "layout": "IPY_MODEL_4e5c5a5573bb469f933549bf94dc7ed0",
       "style": "IPY_MODEL_0d221f19043c40a08dae8a20ca849ebf",
       "value": " 6/6 [00:07&lt;00:00,  1.67s/it]"
      }
     },
     "b107906917bb4d1998bfca0fe95650e8": {
      "model_module": "@jupyter-widgets/controls",
      "model_module_version": "2.0.0",
      "model_name": "HTMLModel",
      "state": {
       "layout": "IPY_MODEL_e97a2cd8ab334c12a900d15b5397c247",
       "style": "IPY_MODEL_2a10348713784e4dbab8e1e371130e14",
       "value": " 6/6 [02:19&lt;00:00, 29.33s/it]"
      }
     },
     "b2535eb84bd94d9eb5bce23ff00ad25d": {
      "model_module": "@jupyter-widgets/base",
      "model_module_version": "2.0.0",
      "model_name": "LayoutModel",
      "state": {}
     },
     "b3511bc7b9a74a998894399d1b06eee4": {
      "model_module": "@jupyter-widgets/base",
      "model_module_version": "2.0.0",
      "model_name": "LayoutModel",
      "state": {}
     },
     "b37dc05a345b4d5a8b73ea54173ec48c": {
      "model_module": "@jupyter-widgets/controls",
      "model_module_version": "2.0.0",
      "model_name": "ProgressStyleModel",
      "state": {
       "description_width": ""
      }
     },
     "b3c3da4061a94392a7c91ff8514e716f": {
      "model_module": "@jupyter-widgets/controls",
      "model_module_version": "2.0.0",
      "model_name": "ProgressStyleModel",
      "state": {
       "description_width": ""
      }
     },
     "b3e7d417c0c544d08eb4f7e4c22a23ca": {
      "model_module": "@jupyter-widgets/base",
      "model_module_version": "2.0.0",
      "model_name": "LayoutModel",
      "state": {
       "visibility": "hidden"
      }
     },
     "b48ae660bf364f5883c496373601f341": {
      "model_module": "@jupyter-widgets/controls",
      "model_module_version": "2.0.0",
      "model_name": "HTMLStyleModel",
      "state": {
       "description_width": "",
       "font_size": null,
       "text_color": null
      }
     },
     "b4d0e3f1ab634d069d0bea6bc07a4f4e": {
      "model_module": "@jupyter-widgets/controls",
      "model_module_version": "2.0.0",
      "model_name": "FloatProgressModel",
      "state": {
       "layout": "IPY_MODEL_2903f6ac0333493eb627703674a37e10",
       "max": 6,
       "style": "IPY_MODEL_ccb01f7d49474da69d0a44f92f20a2f2",
       "value": 6
      }
     },
     "b564a1f6c4cc40e1907861c77caa534b": {
      "model_module": "@jupyter-widgets/controls",
      "model_module_version": "2.0.0",
      "model_name": "HTMLStyleModel",
      "state": {
       "description_width": "",
       "font_size": null,
       "text_color": null
      }
     },
     "b67b2a96f59a42458fa5409cc638c3c2": {
      "model_module": "@jupyter-widgets/controls",
      "model_module_version": "2.0.0",
      "model_name": "HTMLModel",
      "state": {
       "layout": "IPY_MODEL_72b2de1a0e554544a3d4e3a3f72be668",
       "style": "IPY_MODEL_319607a213ba425c9243cc48239e0687",
       "value": "Quantizing layers inside the block: 100%"
      }
     },
     "b6983dcf5b7d487ba15f03e82fb82a2b": {
      "model_module": "@jupyter-widgets/base",
      "model_module_version": "2.0.0",
      "model_name": "LayoutModel",
      "state": {}
     },
     "b6b3d782a444492e87692906f0c55e8e": {
      "model_module": "@jupyter-widgets/base",
      "model_module_version": "2.0.0",
      "model_name": "LayoutModel",
      "state": {}
     },
     "b75152edd62e449a9812f7c4ea567060": {
      "model_module": "@jupyter-widgets/controls",
      "model_module_version": "2.0.0",
      "model_name": "HTMLStyleModel",
      "state": {
       "description_width": "",
       "font_size": null,
       "text_color": null
      }
     },
     "b7c9a16e9b1c44c9b1ea8d5f9d0bfcad": {
      "model_module": "@jupyter-widgets/controls",
      "model_module_version": "2.0.0",
      "model_name": "HTMLStyleModel",
      "state": {
       "description_width": "",
       "font_size": null,
       "text_color": null
      }
     },
     "b865c4b088414f64b857e4668366826b": {
      "model_module": "@jupyter-widgets/controls",
      "model_module_version": "2.0.0",
      "model_name": "HTMLStyleModel",
      "state": {
       "description_width": "",
       "font_size": null,
       "text_color": null
      }
     },
     "b8b56493cf8748669985566f68ed4f57": {
      "model_module": "@jupyter-widgets/controls",
      "model_module_version": "2.0.0",
      "model_name": "FloatProgressModel",
      "state": {
       "layout": "IPY_MODEL_4f76784d696541e389f04719adc88769",
       "max": 6,
       "style": "IPY_MODEL_68d0e5d93d144193bf1cc67d8ea482ce",
       "value": 6
      }
     },
     "b97fb6cd26674d2f8eaab8f90b6fc198": {
      "model_module": "@jupyter-widgets/base",
      "model_module_version": "2.0.0",
      "model_name": "LayoutModel",
      "state": {}
     },
     "b9fa6228d2b24d209f29d1ff454a981f": {
      "model_module": "@jupyter-widgets/controls",
      "model_module_version": "2.0.0",
      "model_name": "FloatProgressModel",
      "state": {
       "layout": "IPY_MODEL_3c1b4b87dc1543568b1caa5bda9cdf79",
       "max": 6,
       "style": "IPY_MODEL_e727a1bc82a64976afab4543f754bf0e",
       "value": 6
      }
     },
     "ba29345eb16648e086a772b21a88c3e4": {
      "model_module": "@jupyter-widgets/base",
      "model_module_version": "2.0.0",
      "model_name": "LayoutModel",
      "state": {}
     },
     "ba4ff66f79c443b6a6ae558399f49df2": {
      "model_module": "@jupyter-widgets/base",
      "model_module_version": "2.0.0",
      "model_name": "LayoutModel",
      "state": {}
     },
     "ba9aa1c196824092b8d0cca0fafece08": {
      "model_module": "@jupyter-widgets/controls",
      "model_module_version": "2.0.0",
      "model_name": "HTMLModel",
      "state": {
       "layout": "IPY_MODEL_193d37cc727f45ed8fb0de2aa3ec0d07",
       "style": "IPY_MODEL_9f2fcc20be294a7d9c5460bc29c188b0",
       "value": "Quantizing layers inside the block: 100%"
      }
     },
     "baf54a29e6b6489d90efe80a2dedfc31": {
      "model_module": "@jupyter-widgets/base",
      "model_module_version": "2.0.0",
      "model_name": "LayoutModel",
      "state": {}
     },
     "bafd3073105c4e71b2ba33ffaeb91a8b": {
      "model_module": "@jupyter-widgets/controls",
      "model_module_version": "2.0.0",
      "model_name": "HTMLModel",
      "state": {
       "layout": "IPY_MODEL_a3a8f8f1fd6f49bc997353e2a7d4dafd",
       "style": "IPY_MODEL_25a5aaf6f97043a198c16f300e44cb36",
       "value": " 6/6 [00:07&lt;00:00,  1.66s/it]"
      }
     },
     "bb376293bc754de5aa7c345cdb9bdec5": {
      "model_module": "@jupyter-widgets/controls",
      "model_module_version": "2.0.0",
      "model_name": "FloatProgressModel",
      "state": {
       "layout": "IPY_MODEL_6240c1cac3554d948f44e09e4487b7ea",
       "max": 6,
       "style": "IPY_MODEL_46dd071d411a4292bc1a4508b88bedfb",
       "value": 6
      }
     },
     "bb8707bd613e461285a554b713b5c8cf": {
      "model_module": "@jupyter-widgets/controls",
      "model_module_version": "2.0.0",
      "model_name": "HTMLStyleModel",
      "state": {
       "description_width": "",
       "font_size": null,
       "text_color": null
      }
     },
     "bb8ce618289148f48f659e28ad604126": {
      "model_module": "@jupyter-widgets/controls",
      "model_module_version": "2.0.0",
      "model_name": "ProgressStyleModel",
      "state": {
       "description_width": ""
      }
     },
     "bbb6474fe5724acebd25d1e9f686172c": {
      "model_module": "@jupyter-widgets/base",
      "model_module_version": "2.0.0",
      "model_name": "LayoutModel",
      "state": {}
     },
     "bbb837d24e214cdda4a920835f7efd73": {
      "model_module": "@jupyter-widgets/controls",
      "model_module_version": "2.0.0",
      "model_name": "HTMLModel",
      "state": {
       "layout": "IPY_MODEL_024ab3dbff444e35a4378959e4e866a0",
       "style": "IPY_MODEL_f9de8a9724d1456daf69399777549734",
       "value": " 6/6 [00:07&lt;00:00,  1.66s/it]"
      }
     },
     "bc7021f054fb4d82884cec3f5be43f77": {
      "model_module": "@jupyter-widgets/controls",
      "model_module_version": "2.0.0",
      "model_name": "HTMLStyleModel",
      "state": {
       "description_width": "",
       "font_size": null,
       "text_color": null
      }
     },
     "bcecd293b78047c18ef80cc8d46d3856": {
      "model_module": "@jupyter-widgets/controls",
      "model_module_version": "2.0.0",
      "model_name": "ProgressStyleModel",
      "state": {
       "description_width": ""
      }
     },
     "be8bb06d2f8c401fa9fbfffc7c7a15da": {
      "model_module": "@jupyter-widgets/controls",
      "model_module_version": "2.0.0",
      "model_name": "HTMLStyleModel",
      "state": {
       "description_width": "",
       "font_size": null,
       "text_color": null
      }
     },
     "bee0ecffafb1435fb006a1586108f715": {
      "model_module": "@jupyter-widgets/base",
      "model_module_version": "2.0.0",
      "model_name": "LayoutModel",
      "state": {}
     },
     "bf3bcd5ad1e749ec91dcb81319a84dbb": {
      "model_module": "@jupyter-widgets/base",
      "model_module_version": "2.0.0",
      "model_name": "LayoutModel",
      "state": {
       "visibility": "hidden"
      }
     },
     "c00bbe375f984bc88aaf6963d245ce90": {
      "model_module": "@jupyter-widgets/base",
      "model_module_version": "2.0.0",
      "model_name": "LayoutModel",
      "state": {}
     },
     "c0ed9cdb4af54cebab01caceb59b6a3a": {
      "model_module": "@jupyter-widgets/controls",
      "model_module_version": "2.0.0",
      "model_name": "HTMLStyleModel",
      "state": {
       "description_width": "",
       "font_size": null,
       "text_color": null
      }
     },
     "c109b043ec9940f1882e564c999b93b9": {
      "model_module": "@jupyter-widgets/controls",
      "model_module_version": "2.0.0",
      "model_name": "HTMLModel",
      "state": {
       "layout": "IPY_MODEL_ee12444f049d4b4e9745a97f6bede3ee",
       "style": "IPY_MODEL_6cf4a60569634b699ae37fe44ee26749",
       "value": " 6/6 [00:07&lt;00:00,  1.66s/it]"
      }
     },
     "c10abc102c6242519b2789ede9fd6032": {
      "model_module": "@jupyter-widgets/base",
      "model_module_version": "2.0.0",
      "model_name": "LayoutModel",
      "state": {
       "visibility": "hidden"
      }
     },
     "c191e304f64f4437a62695c16792278a": {
      "model_module": "@jupyter-widgets/base",
      "model_module_version": "2.0.0",
      "model_name": "LayoutModel",
      "state": {}
     },
     "c22caa7f47974e47b22e93365ed3c349": {
      "model_module": "@jupyter-widgets/base",
      "model_module_version": "2.0.0",
      "model_name": "LayoutModel",
      "state": {}
     },
     "c276510caae94258b8e1beb270ecd0d7": {
      "model_module": "@jupyter-widgets/base",
      "model_module_version": "2.0.0",
      "model_name": "LayoutModel",
      "state": {}
     },
     "c2bd8c9d2be6451f8fc5322354d68712": {
      "model_module": "@jupyter-widgets/controls",
      "model_module_version": "2.0.0",
      "model_name": "HTMLStyleModel",
      "state": {
       "description_width": "",
       "font_size": null,
       "text_color": null
      }
     },
     "c320862877c143d5a2a43a91fdef3621": {
      "model_module": "@jupyter-widgets/base",
      "model_module_version": "2.0.0",
      "model_name": "LayoutModel",
      "state": {
       "visibility": "hidden"
      }
     },
     "c40e74a76bb34be6bf7c20aabd321941": {
      "model_module": "@jupyter-widgets/base",
      "model_module_version": "2.0.0",
      "model_name": "LayoutModel",
      "state": {}
     },
     "c45512543fc14afe8b04e846cb308ac8": {
      "model_module": "@jupyter-widgets/base",
      "model_module_version": "2.0.0",
      "model_name": "LayoutModel",
      "state": {}
     },
     "c4982ba3fa8e4e53b2bf5642bda6b349": {
      "model_module": "@jupyter-widgets/controls",
      "model_module_version": "2.0.0",
      "model_name": "HTMLStyleModel",
      "state": {
       "description_width": "",
       "font_size": null,
       "text_color": null
      }
     },
     "c4f8040473864f969243525493c7a269": {
      "model_module": "@jupyter-widgets/controls",
      "model_module_version": "2.0.0",
      "model_name": "HTMLModel",
      "state": {
       "layout": "IPY_MODEL_abee74d5de1547b8bc44bb475e861f8e",
       "style": "IPY_MODEL_c59a53d9013a44cc9d816efde25c0394",
       "value": " 6/6 [00:07&lt;00:00,  1.66s/it]"
      }
     },
     "c5422161007544bead054bb508c1ad88": {
      "model_module": "@jupyter-widgets/base",
      "model_module_version": "2.0.0",
      "model_name": "LayoutModel",
      "state": {}
     },
     "c57e3cfc40a0447c8628bc40f399002a": {
      "model_module": "@jupyter-widgets/controls",
      "model_module_version": "2.0.0",
      "model_name": "HTMLModel",
      "state": {
       "layout": "IPY_MODEL_420acf8cb0414acd952caffc56bf1a82",
       "style": "IPY_MODEL_05511bd37d744bc6a2b26e51aedd287f",
       "value": "Quantizing layers inside the block: 100%"
      }
     },
     "c59a53d9013a44cc9d816efde25c0394": {
      "model_module": "@jupyter-widgets/controls",
      "model_module_version": "2.0.0",
      "model_name": "HTMLStyleModel",
      "state": {
       "description_width": "",
       "font_size": null,
       "text_color": null
      }
     },
     "c5fb5ed0b20241428468943a42f79ab6": {
      "model_module": "@jupyter-widgets/base",
      "model_module_version": "2.0.0",
      "model_name": "LayoutModel",
      "state": {}
     },
     "c638d0a654a04f2282f4d034e9399f42": {
      "model_module": "@jupyter-widgets/controls",
      "model_module_version": "2.0.0",
      "model_name": "HTMLModel",
      "state": {
       "layout": "IPY_MODEL_461f027dbfe04cc6b432a3343fa2c849",
       "style": "IPY_MODEL_6bce47da84684f02b093515707191278",
       "value": "Quantizing layers inside the block: 100%"
      }
     },
     "c701af7159e84406b4d06f939766816d": {
      "model_module": "@jupyter-widgets/controls",
      "model_module_version": "2.0.0",
      "model_name": "FloatProgressModel",
      "state": {
       "layout": "IPY_MODEL_6cacc111bc274a7abb0d70257a29d4d9",
       "max": 6,
       "style": "IPY_MODEL_5964373df1e7464a95e661a004f8b6fc",
       "value": 6
      }
     },
     "c784a3b6d7e24721ae4587969b0b6994": {
      "model_module": "@jupyter-widgets/base",
      "model_module_version": "2.0.0",
      "model_name": "LayoutModel",
      "state": {
       "visibility": "hidden"
      }
     },
     "c831316d369544ca9eede72b4537be23": {
      "model_module": "@jupyter-widgets/controls",
      "model_module_version": "2.0.0",
      "model_name": "HTMLStyleModel",
      "state": {
       "description_width": "",
       "font_size": null,
       "text_color": null
      }
     },
     "c83951f639fe43189caefa6eccc28cc4": {
      "model_module": "@jupyter-widgets/controls",
      "model_module_version": "2.0.0",
      "model_name": "HTMLModel",
      "state": {
       "layout": "IPY_MODEL_e8d476be96a94f1ea527b38da9c73b1a",
       "style": "IPY_MODEL_4849da260cbd4c68ae01325b9a24bd2b",
       "value": "Quantizing layers inside the block: 100%"
      }
     },
     "c85717828fee4a16a981161040cbfdb0": {
      "model_module": "@jupyter-widgets/base",
      "model_module_version": "2.0.0",
      "model_name": "LayoutModel",
      "state": {}
     },
     "c88c489417be4e0aaed3f16d3f4b171e": {
      "model_module": "@jupyter-widgets/controls",
      "model_module_version": "2.0.0",
      "model_name": "HTMLModel",
      "state": {
       "layout": "IPY_MODEL_f373f941b54d4f0ab92795bd4cad93b1",
       "style": "IPY_MODEL_358ce2b3ad4844f58a5357ad2dfd581c",
       "value": " 6/6 [00:07&lt;00:00,  1.66s/it]"
      }
     },
     "c97c8d47dd534b50bc11b12a90e6ba3b": {
      "model_module": "@jupyter-widgets/controls",
      "model_module_version": "2.0.0",
      "model_name": "HTMLModel",
      "state": {
       "layout": "IPY_MODEL_7ffca0e0d0514703b705d0f149ac7535",
       "style": "IPY_MODEL_8040a75e9cc94dfcbe2f6f96a308ac18",
       "value": "Quantizing layers inside the block: 100%"
      }
     },
     "ca19dacd474444b1a9c50f6b80329a68": {
      "model_module": "@jupyter-widgets/controls",
      "model_module_version": "2.0.0",
      "model_name": "ProgressStyleModel",
      "state": {
       "description_width": ""
      }
     },
     "ca3017b640584fdaae38df8d67ca2460": {
      "model_module": "@jupyter-widgets/controls",
      "model_module_version": "2.0.0",
      "model_name": "HTMLStyleModel",
      "state": {
       "description_width": "",
       "font_size": null,
       "text_color": null
      }
     },
     "ca463c94c53b494082b2814a4d3d4746": {
      "model_module": "@jupyter-widgets/base",
      "model_module_version": "2.0.0",
      "model_name": "LayoutModel",
      "state": {}
     },
     "ca9a276492c945759ba00a57b55fc410": {
      "model_module": "@jupyter-widgets/controls",
      "model_module_version": "2.0.0",
      "model_name": "FloatProgressModel",
      "state": {
       "layout": "IPY_MODEL_996d5b8d3bb343bfb834fd7d4ef9eb33",
       "max": 6,
       "style": "IPY_MODEL_5f6c010ecb8a4b9d819ef7136e4f998f",
       "value": 6
      }
     },
     "caa64c0b288948238dc7715ec91df129": {
      "model_module": "@jupyter-widgets/controls",
      "model_module_version": "2.0.0",
      "model_name": "HTMLStyleModel",
      "state": {
       "description_width": "",
       "font_size": null,
       "text_color": null
      }
     },
     "cbb86a35c1c940729486aa3c601c60f1": {
      "model_module": "@jupyter-widgets/base",
      "model_module_version": "2.0.0",
      "model_name": "LayoutModel",
      "state": {}
     },
     "cbfb5cdc39234cdab46d757b53d8de12": {
      "model_module": "@jupyter-widgets/base",
      "model_module_version": "2.0.0",
      "model_name": "LayoutModel",
      "state": {
       "visibility": "hidden"
      }
     },
     "cc35bb0bbf0647c982742f617e9f62ad": {
      "model_module": "@jupyter-widgets/controls",
      "model_module_version": "2.0.0",
      "model_name": "HTMLModel",
      "state": {
       "layout": "IPY_MODEL_daeee77dd8a84ebab2b4d96ff04bcc10",
       "style": "IPY_MODEL_0268c715ffb9461f9619ffd0c306a615",
       "value": " 6/6 [00:07&lt;00:00,  1.66s/it]"
      }
     },
     "cc7812f5d22447709be5ee7a8a906ab3": {
      "model_module": "@jupyter-widgets/controls",
      "model_module_version": "2.0.0",
      "model_name": "HTMLModel",
      "state": {
       "layout": "IPY_MODEL_64aad449e0f74d17b3ae59c85f829535",
       "style": "IPY_MODEL_ad39f4050ca944ae9c2ce3e60fbdbfce",
       "value": "Quantizing layers inside the block: 100%"
      }
     },
     "ccb01f7d49474da69d0a44f92f20a2f2": {
      "model_module": "@jupyter-widgets/controls",
      "model_module_version": "2.0.0",
      "model_name": "ProgressStyleModel",
      "state": {
       "description_width": ""
      }
     },
     "ccf159d8524f452ca21a551e2d9c1616": {
      "model_module": "@jupyter-widgets/base",
      "model_module_version": "2.0.0",
      "model_name": "LayoutModel",
      "state": {}
     },
     "cdf059bd6534404e91358b45e4043f49": {
      "model_module": "@jupyter-widgets/controls",
      "model_module_version": "2.0.0",
      "model_name": "HTMLModel",
      "state": {
       "layout": "IPY_MODEL_74d719fd040a47c68266ad7cab6c5bb4",
       "style": "IPY_MODEL_72a1d996c6ed49eda7c90d0aea605040",
       "value": " 6/6 [02:19&lt;00:00, 29.36s/it]"
      }
     },
     "ce346b6c3cc84398a1e4a2a46a7fffe8": {
      "model_module": "@jupyter-widgets/base",
      "model_module_version": "2.0.0",
      "model_name": "LayoutModel",
      "state": {}
     },
     "ce6e6993b4a14ee09cf9d3f8020dc178": {
      "model_module": "@jupyter-widgets/base",
      "model_module_version": "2.0.0",
      "model_name": "LayoutModel",
      "state": {
       "visibility": "hidden"
      }
     },
     "cebad5df68d14f9b90d78fe23650b86c": {
      "model_module": "@jupyter-widgets/base",
      "model_module_version": "2.0.0",
      "model_name": "LayoutModel",
      "state": {}
     },
     "cf22490ab8bc478a9430a6072d266e5a": {
      "model_module": "@jupyter-widgets/controls",
      "model_module_version": "2.0.0",
      "model_name": "HTMLStyleModel",
      "state": {
       "description_width": "",
       "font_size": null,
       "text_color": null
      }
     },
     "cf338769280a4148bbaa5b30cc09496e": {
      "model_module": "@jupyter-widgets/controls",
      "model_module_version": "2.0.0",
      "model_name": "ProgressStyleModel",
      "state": {
       "description_width": ""
      }
     },
     "cf9012d2dbb6424dbeb5e98a06737c11": {
      "model_module": "@jupyter-widgets/base",
      "model_module_version": "2.0.0",
      "model_name": "LayoutModel",
      "state": {
       "visibility": "hidden"
      }
     },
     "cf9ec01db2e94084870e3e86352e535a": {
      "model_module": "@jupyter-widgets/controls",
      "model_module_version": "2.0.0",
      "model_name": "HTMLStyleModel",
      "state": {
       "description_width": "",
       "font_size": null,
       "text_color": null
      }
     },
     "cfb77bfc4ddc47b4958623c478d277e8": {
      "model_module": "@jupyter-widgets/base",
      "model_module_version": "2.0.0",
      "model_name": "LayoutModel",
      "state": {
       "visibility": "hidden"
      }
     },
     "cfe99e974441429c8f0e3fa369ac0e5c": {
      "model_module": "@jupyter-widgets/controls",
      "model_module_version": "2.0.0",
      "model_name": "HTMLModel",
      "state": {
       "layout": "IPY_MODEL_2681f83c7502492cb3054fbbb5177671",
       "style": "IPY_MODEL_7b1b126bfe7f4d539f7615f2b7db3bdc",
       "value": " 6/6 [00:07&lt;00:00,  1.66s/it]"
      }
     },
     "d0369075a5a14bd282c192e4c7a86199": {
      "model_module": "@jupyter-widgets/base",
      "model_module_version": "2.0.0",
      "model_name": "LayoutModel",
      "state": {}
     },
     "d0372301c4c047958b8cc671a0d8e9cb": {
      "model_module": "@jupyter-widgets/controls",
      "model_module_version": "2.0.0",
      "model_name": "HTMLStyleModel",
      "state": {
       "description_width": "",
       "font_size": null,
       "text_color": null
      }
     },
     "d06148bcf11a47548b04b2aa070930f0": {
      "model_module": "@jupyter-widgets/controls",
      "model_module_version": "2.0.0",
      "model_name": "HTMLModel",
      "state": {
       "layout": "IPY_MODEL_ac741b9c9a764a57be176443ab93b604",
       "style": "IPY_MODEL_49c3dd597b8e45ae9369329a7fe9f5da",
       "value": " 6/6 [02:19&lt;00:00, 29.34s/it]"
      }
     },
     "d0750a98fe3d49379e4943008152930c": {
      "model_module": "@jupyter-widgets/controls",
      "model_module_version": "2.0.0",
      "model_name": "HTMLStyleModel",
      "state": {
       "description_width": "",
       "font_size": null,
       "text_color": null
      }
     },
     "d1a18884c75941e380e78c90c1a65ea6": {
      "model_module": "@jupyter-widgets/controls",
      "model_module_version": "2.0.0",
      "model_name": "ProgressStyleModel",
      "state": {
       "description_width": ""
      }
     },
     "d2c3f6eefdf949d897f2d9a3988b4ea3": {
      "model_module": "@jupyter-widgets/controls",
      "model_module_version": "2.0.0",
      "model_name": "ProgressStyleModel",
      "state": {
       "description_width": ""
      }
     },
     "d303ce5c0f3b4b268a78769248bcbdd6": {
      "model_module": "@jupyter-widgets/base",
      "model_module_version": "2.0.0",
      "model_name": "LayoutModel",
      "state": {}
     },
     "d3ae9b73f41440449fd24d900dd8f7ee": {
      "model_module": "@jupyter-widgets/controls",
      "model_module_version": "2.0.0",
      "model_name": "ProgressStyleModel",
      "state": {
       "description_width": ""
      }
     },
     "d40fa1dc436742bb8dbf0525c7fcd369": {
      "model_module": "@jupyter-widgets/controls",
      "model_module_version": "2.0.0",
      "model_name": "HTMLStyleModel",
      "state": {
       "description_width": "",
       "font_size": null,
       "text_color": null
      }
     },
     "d44559718e2c4b3ba2f2afe9d9d5cbf3": {
      "model_module": "@jupyter-widgets/base",
      "model_module_version": "2.0.0",
      "model_name": "LayoutModel",
      "state": {}
     },
     "d536048c042a408088f1ad1db1775c7b": {
      "model_module": "@jupyter-widgets/controls",
      "model_module_version": "2.0.0",
      "model_name": "ProgressStyleModel",
      "state": {
       "description_width": ""
      }
     },
     "d5c04ba4882b4fa491730dba2a4fe70d": {
      "model_module": "@jupyter-widgets/controls",
      "model_module_version": "2.0.0",
      "model_name": "HTMLModel",
      "state": {
       "layout": "IPY_MODEL_91ed4f2feb104103b6a4405028564990",
       "style": "IPY_MODEL_a06c9a376f8240469db84fddcc4996c0",
       "value": "Quantizing layers inside the block: 100%"
      }
     },
     "d5d5e46b63bc424fb4dba8b73792bc06": {
      "model_module": "@jupyter-widgets/base",
      "model_module_version": "2.0.0",
      "model_name": "LayoutModel",
      "state": {}
     },
     "d5e8512ff513404f92f30119a257546c": {
      "model_module": "@jupyter-widgets/controls",
      "model_module_version": "2.0.0",
      "model_name": "HTMLStyleModel",
      "state": {
       "description_width": "",
       "font_size": null,
       "text_color": null
      }
     },
     "d60162122e3545e6a688633346a1f6a0": {
      "model_module": "@jupyter-widgets/controls",
      "model_module_version": "2.0.0",
      "model_name": "FloatProgressModel",
      "state": {
       "layout": "IPY_MODEL_0bc4c7db027d4be9b45659314545cfc1",
       "max": 6,
       "style": "IPY_MODEL_75930a89f22b4e3682dcbe75a0bad0e2",
       "value": 6
      }
     },
     "d6c365c765794edd97e512fab092dd3e": {
      "model_module": "@jupyter-widgets/base",
      "model_module_version": "2.0.0",
      "model_name": "LayoutModel",
      "state": {}
     },
     "d6c7b0d7906b48099d7f7f975118a3fe": {
      "model_module": "@jupyter-widgets/controls",
      "model_module_version": "2.0.0",
      "model_name": "HTMLModel",
      "state": {
       "layout": "IPY_MODEL_9cb95a59c3b34139b1339c2b0f167965",
       "style": "IPY_MODEL_c2bd8c9d2be6451f8fc5322354d68712",
       "value": " 6/6 [02:19&lt;00:00, 29.32s/it]"
      }
     },
     "d6f11914afdc4b2ea0af63984bfbb2fb": {
      "model_module": "@jupyter-widgets/base",
      "model_module_version": "2.0.0",
      "model_name": "LayoutModel",
      "state": {
       "visibility": "hidden"
      }
     },
     "d6f3c8b9115f4de4b285366d603077d9": {
      "model_module": "@jupyter-widgets/controls",
      "model_module_version": "2.0.0",
      "model_name": "ProgressStyleModel",
      "state": {
       "description_width": ""
      }
     },
     "d6f45a82285749bfa55ead3b9ef2ea68": {
      "model_module": "@jupyter-widgets/controls",
      "model_module_version": "2.0.0",
      "model_name": "FloatProgressModel",
      "state": {
       "layout": "IPY_MODEL_6ea13793dc554d93aaedb37fa7ff7e36",
       "max": 6,
       "style": "IPY_MODEL_2a482b2287304b1a9f9c52d3f82277ec",
       "value": 6
      }
     },
     "d7d227fb069b4858856eb97ee6eb1a40": {
      "model_module": "@jupyter-widgets/base",
      "model_module_version": "2.0.0",
      "model_name": "LayoutModel",
      "state": {}
     },
     "d82d951aadf6449e8caed6324d5501a0": {
      "model_module": "@jupyter-widgets/controls",
      "model_module_version": "2.0.0",
      "model_name": "HTMLStyleModel",
      "state": {
       "description_width": "",
       "font_size": null,
       "text_color": null
      }
     },
     "d8a74a295acb4a35b028ffe61e7ea89c": {
      "model_module": "@jupyter-widgets/controls",
      "model_module_version": "2.0.0",
      "model_name": "ProgressStyleModel",
      "state": {
       "description_width": ""
      }
     },
     "d944a6c3f4964266a2afe5ca331e0deb": {
      "model_module": "@jupyter-widgets/base",
      "model_module_version": "2.0.0",
      "model_name": "LayoutModel",
      "state": {}
     },
     "d99140e8d7f84bbab8639a9b74916752": {
      "model_module": "@jupyter-widgets/controls",
      "model_module_version": "2.0.0",
      "model_name": "HTMLModel",
      "state": {
       "layout": "IPY_MODEL_ba4ff66f79c443b6a6ae558399f49df2",
       "style": "IPY_MODEL_7ee81e6258c046daac9c8b65a610fd55",
       "value": " 6/6 [02:18&lt;00:00, 29.23s/it]"
      }
     },
     "d9e6e15fc50b46e781fda1c9ef936e52": {
      "model_module": "@jupyter-widgets/base",
      "model_module_version": "2.0.0",
      "model_name": "LayoutModel",
      "state": {}
     },
     "dabdc171a4a84d8e9485110ac3d63f1c": {
      "model_module": "@jupyter-widgets/controls",
      "model_module_version": "2.0.0",
      "model_name": "HTMLModel",
      "state": {
       "layout": "IPY_MODEL_2ba17585dcbd4940a79721deaab963b9",
       "style": "IPY_MODEL_8c32cfc5cacf4c00902ea794c31e5072",
       "value": "Quantizing layers inside the block: 100%"
      }
     },
     "dad8e8ec1d4f4cf4bf08a8db186d7b06": {
      "model_module": "@jupyter-widgets/base",
      "model_module_version": "2.0.0",
      "model_name": "LayoutModel",
      "state": {}
     },
     "dae5657de4304bd8a31cbc2bef5ec132": {
      "model_module": "@jupyter-widgets/base",
      "model_module_version": "2.0.0",
      "model_name": "LayoutModel",
      "state": {}
     },
     "daeee77dd8a84ebab2b4d96ff04bcc10": {
      "model_module": "@jupyter-widgets/base",
      "model_module_version": "2.0.0",
      "model_name": "LayoutModel",
      "state": {}
     },
     "db8f8299990e4a15b7ed1e792708e7e6": {
      "model_module": "@jupyter-widgets/controls",
      "model_module_version": "2.0.0",
      "model_name": "HTMLModel",
      "state": {
       "layout": "IPY_MODEL_3123601dead94067956712cfe7925f70",
       "style": "IPY_MODEL_e7a5c3b0a1b04f95884758a294c61fa0",
       "value": "Quantizing layers inside the block: 100%"
      }
     },
     "dc0f4db47c0b4b2098435cf680c59c4a": {
      "model_module": "@jupyter-widgets/base",
      "model_module_version": "2.0.0",
      "model_name": "LayoutModel",
      "state": {}
     },
     "dc34bb02b00642c5990174c6c9684cee": {
      "model_module": "@jupyter-widgets/controls",
      "model_module_version": "2.0.0",
      "model_name": "HTMLModel",
      "state": {
       "layout": "IPY_MODEL_a6df825a568a4dde95e69923194de7c5",
       "style": "IPY_MODEL_9f151548f7d84cdf80be3d0789d87c87",
       "value": " 6/6 [00:07&lt;00:00,  1.66s/it]"
      }
     },
     "dcb9db54805a450eaabe525bf043022f": {
      "model_module": "@jupyter-widgets/controls",
      "model_module_version": "2.0.0",
      "model_name": "HTMLStyleModel",
      "state": {
       "description_width": "",
       "font_size": null,
       "text_color": null
      }
     },
     "dcec9a346bb748aeabb6d18137c30fbe": {
      "model_module": "@jupyter-widgets/controls",
      "model_module_version": "2.0.0",
      "model_name": "HTMLModel",
      "state": {
       "layout": "IPY_MODEL_dc0f4db47c0b4b2098435cf680c59c4a",
       "style": "IPY_MODEL_f9c68048fba04345b45840692bbc8508",
       "value": " 6/6 [02:18&lt;00:00, 29.19s/it]"
      }
     },
     "dd93a9e86e2a47f6b5f1d549318c0af8": {
      "model_module": "@jupyter-widgets/base",
      "model_module_version": "2.0.0",
      "model_name": "LayoutModel",
      "state": {}
     },
     "de0bc36288344dc8ab08b07ba8c23f64": {
      "model_module": "@jupyter-widgets/controls",
      "model_module_version": "2.0.0",
      "model_name": "HTMLModel",
      "state": {
       "layout": "IPY_MODEL_93567f7bd4e84770b65a8da4e39dd872",
       "style": "IPY_MODEL_c831316d369544ca9eede72b4537be23",
       "value": " 6/6 [02:18&lt;00:00, 29.27s/it]"
      }
     },
     "e1637c067ba3451780b0910c383fcfac": {
      "model_module": "@jupyter-widgets/controls",
      "model_module_version": "2.0.0",
      "model_name": "FloatProgressModel",
      "state": {
       "layout": "IPY_MODEL_9030c9a59fa043e2939bf1820a32874a",
       "max": 6,
       "style": "IPY_MODEL_01c43455661a4b3a89dc2b5e71d87539",
       "value": 6
      }
     },
     "e1c924aab9cf4b369cd534915213188f": {
      "model_module": "@jupyter-widgets/controls",
      "model_module_version": "2.0.0",
      "model_name": "ProgressStyleModel",
      "state": {
       "description_width": ""
      }
     },
     "e2917cb9f882427e9d785425f566811a": {
      "model_module": "@jupyter-widgets/controls",
      "model_module_version": "2.0.0",
      "model_name": "FloatProgressModel",
      "state": {
       "layout": "IPY_MODEL_65b99c5afbaf4d9fa739fe29fffe7422",
       "max": 6,
       "style": "IPY_MODEL_9427307254fb4c08a9687f5d1ee2bfba",
       "value": 6
      }
     },
     "e30086d93b6945bb957e276a2f8635e4": {
      "model_module": "@jupyter-widgets/base",
      "model_module_version": "2.0.0",
      "model_name": "LayoutModel",
      "state": {}
     },
     "e3f2b6c7d9a749eeaf1b0852d5e64ae1": {
      "model_module": "@jupyter-widgets/base",
      "model_module_version": "2.0.0",
      "model_name": "LayoutModel",
      "state": {
       "visibility": "hidden"
      }
     },
     "e4412d63c652429484508da47294474a": {
      "model_module": "@jupyter-widgets/controls",
      "model_module_version": "2.0.0",
      "model_name": "ProgressStyleModel",
      "state": {
       "description_width": ""
      }
     },
     "e57dd19f8948414ca37286ec9b8995b1": {
      "model_module": "@jupyter-widgets/controls",
      "model_module_version": "2.0.0",
      "model_name": "HTMLStyleModel",
      "state": {
       "description_width": "",
       "font_size": null,
       "text_color": null
      }
     },
     "e64b1b54571e4bfe8bbbbcd20c0d1f1f": {
      "model_module": "@jupyter-widgets/base",
      "model_module_version": "2.0.0",
      "model_name": "LayoutModel",
      "state": {}
     },
     "e6e6be65eeec4e629fb574ba36b058f0": {
      "model_module": "@jupyter-widgets/controls",
      "model_module_version": "2.0.0",
      "model_name": "HTMLModel",
      "state": {
       "layout": "IPY_MODEL_a0063a78255f43f3867a99c799c153ac",
       "style": "IPY_MODEL_3e8f711e2f7b4f00800fae46acd0cdf1",
       "value": " 6/6 [00:07&lt;00:00,  1.66s/it]"
      }
     },
     "e727a1bc82a64976afab4543f754bf0e": {
      "model_module": "@jupyter-widgets/controls",
      "model_module_version": "2.0.0",
      "model_name": "ProgressStyleModel",
      "state": {
       "description_width": ""
      }
     },
     "e7a5c3b0a1b04f95884758a294c61fa0": {
      "model_module": "@jupyter-widgets/controls",
      "model_module_version": "2.0.0",
      "model_name": "HTMLStyleModel",
      "state": {
       "description_width": "",
       "font_size": null,
       "text_color": null
      }
     },
     "e7cefabef7414575b3b5f817e5f5603c": {
      "model_module": "@jupyter-widgets/controls",
      "model_module_version": "2.0.0",
      "model_name": "FloatProgressModel",
      "state": {
       "layout": "IPY_MODEL_dd93a9e86e2a47f6b5f1d549318c0af8",
       "max": 6,
       "style": "IPY_MODEL_ca19dacd474444b1a9c50f6b80329a68",
       "value": 6
      }
     },
     "e8440423b2384c6c92eda7a13b1dada3": {
      "model_module": "@jupyter-widgets/base",
      "model_module_version": "2.0.0",
      "model_name": "LayoutModel",
      "state": {
       "visibility": "hidden"
      }
     },
     "e84d595c7ead40729998e7ca01ec8d6b": {
      "model_module": "@jupyter-widgets/base",
      "model_module_version": "2.0.0",
      "model_name": "LayoutModel",
      "state": {
       "visibility": "hidden"
      }
     },
     "e876c638d38e4d0da9eaac829896d85c": {
      "model_module": "@jupyter-widgets/base",
      "model_module_version": "2.0.0",
      "model_name": "LayoutModel",
      "state": {}
     },
     "e8b1797be2c24c87a2e19861337c1feb": {
      "model_module": "@jupyter-widgets/controls",
      "model_module_version": "2.0.0",
      "model_name": "ProgressStyleModel",
      "state": {
       "description_width": ""
      }
     },
     "e8c5737a925d46a9b5332865639cae99": {
      "model_module": "@jupyter-widgets/controls",
      "model_module_version": "2.0.0",
      "model_name": "HTMLModel",
      "state": {
       "layout": "IPY_MODEL_7ed5ea95d72c4be883ffa5e9935d0017",
       "style": "IPY_MODEL_1c7de530541a4677b2fa8917f5f1f785",
       "value": " 32/32 [03:52&lt;00:00,  7.32s/it]"
      }
     },
     "e8ca8bdab86044d2aff9cbeec9cd434c": {
      "model_module": "@jupyter-widgets/base",
      "model_module_version": "2.0.0",
      "model_name": "LayoutModel",
      "state": {}
     },
     "e8d476be96a94f1ea527b38da9c73b1a": {
      "model_module": "@jupyter-widgets/base",
      "model_module_version": "2.0.0",
      "model_name": "LayoutModel",
      "state": {}
     },
     "e97a2cd8ab334c12a900d15b5397c247": {
      "model_module": "@jupyter-widgets/base",
      "model_module_version": "2.0.0",
      "model_name": "LayoutModel",
      "state": {}
     },
     "e9d0c3f66f8d4a6693603d2ee70b7ddd": {
      "model_module": "@jupyter-widgets/controls",
      "model_module_version": "2.0.0",
      "model_name": "HTMLStyleModel",
      "state": {
       "description_width": "",
       "font_size": null,
       "text_color": null
      }
     },
     "e9e393a3e02446d3b480103958fc69e5": {
      "model_module": "@jupyter-widgets/controls",
      "model_module_version": "2.0.0",
      "model_name": "FloatProgressModel",
      "state": {
       "layout": "IPY_MODEL_c40e74a76bb34be6bf7c20aabd321941",
       "max": 6,
       "style": "IPY_MODEL_33693f022fc943838553a01a0d95283d",
       "value": 6
      }
     },
     "ec02a2f8b8b140259c4e594e276d9460": {
      "model_module": "@jupyter-widgets/controls",
      "model_module_version": "2.0.0",
      "model_name": "ProgressStyleModel",
      "state": {
       "description_width": ""
      }
     },
     "ec848b0d7b964703b86d0c1aaaf74496": {
      "model_module": "@jupyter-widgets/controls",
      "model_module_version": "2.0.0",
      "model_name": "HTMLModel",
      "state": {
       "layout": "IPY_MODEL_d44559718e2c4b3ba2f2afe9d9d5cbf3",
       "style": "IPY_MODEL_e9d0c3f66f8d4a6693603d2ee70b7ddd",
       "value": " 6/6 [02:18&lt;00:00, 29.25s/it]"
      }
     },
     "ec96fb0ab8f84d92bc28bd1b62de960e": {
      "model_module": "@jupyter-widgets/controls",
      "model_module_version": "2.0.0",
      "model_name": "HTMLModel",
      "state": {
       "layout": "IPY_MODEL_0458f33da19f4c1893ef0d41415de3a9",
       "style": "IPY_MODEL_9fd410ec3c7c4fb68570a774876e5a39",
       "value": "Quantizing layers inside the block: 100%"
      }
     },
     "ed0c365896a94e749402499fdfad8e1f": {
      "model_module": "@jupyter-widgets/controls",
      "model_module_version": "2.0.0",
      "model_name": "HTMLModel",
      "state": {
       "layout": "IPY_MODEL_ed5e60c9a8944d019bd93a14c0741800",
       "style": "IPY_MODEL_b865c4b088414f64b857e4668366826b",
       "value": "Quantizing layers inside the block: 100%"
      }
     },
     "ed3253ff98b14b7883d4f25b6c9adcbb": {
      "model_module": "@jupyter-widgets/controls",
      "model_module_version": "2.0.0",
      "model_name": "HTMLStyleModel",
      "state": {
       "description_width": "",
       "font_size": null,
       "text_color": null
      }
     },
     "ed5e60c9a8944d019bd93a14c0741800": {
      "model_module": "@jupyter-widgets/base",
      "model_module_version": "2.0.0",
      "model_name": "LayoutModel",
      "state": {}
     },
     "edb5a65d44d242ce910530d70224daf8": {
      "model_module": "@jupyter-widgets/base",
      "model_module_version": "2.0.0",
      "model_name": "LayoutModel",
      "state": {}
     },
     "ee05f277ed944e7db9cebc3f8659e2ba": {
      "model_module": "@jupyter-widgets/controls",
      "model_module_version": "2.0.0",
      "model_name": "FloatProgressModel",
      "state": {
       "layout": "IPY_MODEL_140bd9bee10e4f09a684d85ba8ac0ae0",
       "max": 6,
       "style": "IPY_MODEL_bb8ce618289148f48f659e28ad604126",
       "value": 6
      }
     },
     "ee12444f049d4b4e9745a97f6bede3ee": {
      "model_module": "@jupyter-widgets/base",
      "model_module_version": "2.0.0",
      "model_name": "LayoutModel",
      "state": {}
     },
     "ee51b87aa5204c3a99858f93777e139b": {
      "model_module": "@jupyter-widgets/controls",
      "model_module_version": "2.0.0",
      "model_name": "HTMLModel",
      "state": {
       "layout": "IPY_MODEL_b6983dcf5b7d487ba15f03e82fb82a2b",
       "style": "IPY_MODEL_6cc4226335e74f31b2de70e09542e45c",
       "value": "Quantizing layers inside the block: 100%"
      }
     },
     "ee7ba4ae564a42cb8d8cbb7d57105fe0": {
      "model_module": "@jupyter-widgets/controls",
      "model_module_version": "2.0.0",
      "model_name": "HTMLStyleModel",
      "state": {
       "description_width": "",
       "font_size": null,
       "text_color": null
      }
     },
     "ef7115b6642444528f201ef6df4ecf0c": {
      "model_module": "@jupyter-widgets/controls",
      "model_module_version": "2.0.0",
      "model_name": "HTMLModel",
      "state": {
       "layout": "IPY_MODEL_bee0ecffafb1435fb006a1586108f715",
       "style": "IPY_MODEL_b75152edd62e449a9812f7c4ea567060",
       "value": " 6/6 [02:18&lt;00:00, 29.29s/it]"
      }
     },
     "f00fce35b6a1412fb37105bd1de3a2a5": {
      "model_module": "@jupyter-widgets/base",
      "model_module_version": "2.0.0",
      "model_name": "LayoutModel",
      "state": {}
     },
     "f07b3203a47646fca5164ca72e13978d": {
      "model_module": "@jupyter-widgets/controls",
      "model_module_version": "2.0.0",
      "model_name": "ProgressStyleModel",
      "state": {
       "description_width": ""
      }
     },
     "f0aa83453c0d42a2afa0bb2631731c8e": {
      "model_module": "@jupyter-widgets/controls",
      "model_module_version": "2.0.0",
      "model_name": "HTMLModel",
      "state": {
       "layout": "IPY_MODEL_f6fd9dc98dd84bd0a2a22532f5433b03",
       "style": "IPY_MODEL_d0372301c4c047958b8cc671a0d8e9cb",
       "value": "Quantizing layers inside the block: 100%"
      }
     },
     "f18f7fa2e7eb4c2290a1f1148495ae0a": {
      "model_module": "@jupyter-widgets/controls",
      "model_module_version": "2.0.0",
      "model_name": "HTMLStyleModel",
      "state": {
       "description_width": "",
       "font_size": null,
       "text_color": null
      }
     },
     "f289143b10c24ad8953b0ac0367570a0": {
      "model_module": "@jupyter-widgets/controls",
      "model_module_version": "2.0.0",
      "model_name": "FloatProgressModel",
      "state": {
       "layout": "IPY_MODEL_07f72bb4b9094610ad13f85e957b9bbf",
       "max": 6,
       "style": "IPY_MODEL_97a697dc74b9485eb23180e09352d3bd",
       "value": 6
      }
     },
     "f29c8ffff87e49968af893cf9402627e": {
      "model_module": "@jupyter-widgets/base",
      "model_module_version": "2.0.0",
      "model_name": "LayoutModel",
      "state": {
       "visibility": "hidden"
      }
     },
     "f325a1379edc476d9dc77d5b4895f8b2": {
      "model_module": "@jupyter-widgets/base",
      "model_module_version": "2.0.0",
      "model_name": "LayoutModel",
      "state": {}
     },
     "f373f941b54d4f0ab92795bd4cad93b1": {
      "model_module": "@jupyter-widgets/base",
      "model_module_version": "2.0.0",
      "model_name": "LayoutModel",
      "state": {}
     },
     "f3c787ae3c33466b8ddf7156a36b5c8c": {
      "model_module": "@jupyter-widgets/base",
      "model_module_version": "2.0.0",
      "model_name": "LayoutModel",
      "state": {
       "visibility": "hidden"
      }
     },
     "f3e60e11f21b42698fb8caea6534298a": {
      "model_module": "@jupyter-widgets/controls",
      "model_module_version": "2.0.0",
      "model_name": "HTMLStyleModel",
      "state": {
       "description_width": "",
       "font_size": null,
       "text_color": null
      }
     },
     "f45b64a03a894c5f9e98179036ee03e0": {
      "model_module": "@jupyter-widgets/base",
      "model_module_version": "2.0.0",
      "model_name": "LayoutModel",
      "state": {}
     },
     "f53b0f78d3754554aab6edcece4f5871": {
      "model_module": "@jupyter-widgets/controls",
      "model_module_version": "2.0.0",
      "model_name": "HTMLStyleModel",
      "state": {
       "description_width": "",
       "font_size": null,
       "text_color": null
      }
     },
     "f5649d1825e84911bfb737ed7c45d7da": {
      "model_module": "@jupyter-widgets/controls",
      "model_module_version": "2.0.0",
      "model_name": "HTMLModel",
      "state": {
       "layout": "IPY_MODEL_8ba508bbbe1940debc79e1fb1afc8dd6",
       "style": "IPY_MODEL_93856069d61f45148eb0f97b51cc0f18",
       "value": " 6/6 [02:19&lt;00:00, 29.30s/it]"
      }
     },
     "f652eafa33d84db982383fe151a47885": {
      "model_module": "@jupyter-widgets/controls",
      "model_module_version": "2.0.0",
      "model_name": "HTMLModel",
      "state": {
       "layout": "IPY_MODEL_716f550e14d04f07b2c21c8c59b56b10",
       "style": "IPY_MODEL_cf9ec01db2e94084870e3e86352e535a",
       "value": " 6/6 [02:18&lt;00:00, 29.27s/it]"
      }
     },
     "f6c1759dcb774de0adb1e5bec0940750": {
      "model_module": "@jupyter-widgets/controls",
      "model_module_version": "2.0.0",
      "model_name": "HTMLModel",
      "state": {
       "layout": "IPY_MODEL_30ef615391aa415e922fde0e2ca71c3f",
       "style": "IPY_MODEL_0af33b293f3e4d218723592172906896",
       "value": " 6/6 [00:07&lt;00:00,  1.66s/it]"
      }
     },
     "f6fd9dc98dd84bd0a2a22532f5433b03": {
      "model_module": "@jupyter-widgets/base",
      "model_module_version": "2.0.0",
      "model_name": "LayoutModel",
      "state": {}
     },
     "f8acb1744ec548599b37e500cdb55600": {
      "model_module": "@jupyter-widgets/base",
      "model_module_version": "2.0.0",
      "model_name": "LayoutModel",
      "state": {}
     },
     "f8fdffe59fbc485abde80ef422261689": {
      "model_module": "@jupyter-widgets/controls",
      "model_module_version": "2.0.0",
      "model_name": "HTMLStyleModel",
      "state": {
       "description_width": "",
       "font_size": null,
       "text_color": null
      }
     },
     "f91e8d26c20f4a58a336d538d0b0ade2": {
      "model_module": "@jupyter-widgets/controls",
      "model_module_version": "2.0.0",
      "model_name": "ProgressStyleModel",
      "state": {
       "description_width": ""
      }
     },
     "f93bc7358e2947049d6b2f4b6e0d10a6": {
      "model_module": "@jupyter-widgets/controls",
      "model_module_version": "2.0.0",
      "model_name": "HTMLStyleModel",
      "state": {
       "description_width": "",
       "font_size": null,
       "text_color": null
      }
     },
     "f947f739101b480dad568146a7e8e562": {
      "model_module": "@jupyter-widgets/controls",
      "model_module_version": "2.0.0",
      "model_name": "FloatProgressModel",
      "state": {
       "layout": "IPY_MODEL_a60d4bd544e0477cb712a2d7c94597ba",
       "max": 6,
       "style": "IPY_MODEL_d3ae9b73f41440449fd24d900dd8f7ee",
       "value": 6
      }
     },
     "f9529cc14367451080a479a0b67fdfd3": {
      "model_module": "@jupyter-widgets/controls",
      "model_module_version": "2.0.0",
      "model_name": "HTMLModel",
      "state": {
       "layout": "IPY_MODEL_c22caa7f47974e47b22e93365ed3c349",
       "style": "IPY_MODEL_8f64b58d433a4aeb8c6485fe88d0f9ae",
       "value": " 6/6 [00:07&lt;00:00,  1.66s/it]"
      }
     },
     "f9c68048fba04345b45840692bbc8508": {
      "model_module": "@jupyter-widgets/controls",
      "model_module_version": "2.0.0",
      "model_name": "HTMLStyleModel",
      "state": {
       "description_width": "",
       "font_size": null,
       "text_color": null
      }
     },
     "f9de8a9724d1456daf69399777549734": {
      "model_module": "@jupyter-widgets/controls",
      "model_module_version": "2.0.0",
      "model_name": "HTMLStyleModel",
      "state": {
       "description_width": "",
       "font_size": null,
       "text_color": null
      }
     },
     "f9e40abddea143f1ab3bb62404740ce2": {
      "model_module": "@jupyter-widgets/controls",
      "model_module_version": "2.0.0",
      "model_name": "ProgressStyleModel",
      "state": {
       "description_width": ""
      }
     },
     "fa288d5c11ad4b71b74c122963f5f25e": {
      "model_module": "@jupyter-widgets/controls",
      "model_module_version": "2.0.0",
      "model_name": "HTMLModel",
      "state": {
       "layout": "IPY_MODEL_9e135816023b447f9b9f030e476629e2",
       "style": "IPY_MODEL_9a5ba7e740974497a16f819d0336dd30",
       "value": " 6/6 [02:18&lt;00:00, 29.28s/it]"
      }
     },
     "fad40817fcc148a2bbc1f00a4c4156aa": {
      "model_module": "@jupyter-widgets/controls",
      "model_module_version": "2.0.0",
      "model_name": "HTMLStyleModel",
      "state": {
       "description_width": "",
       "font_size": null,
       "text_color": null
      }
     },
     "fbb33e1e76dd454ba2c939ae6a59d894": {
      "model_module": "@jupyter-widgets/base",
      "model_module_version": "2.0.0",
      "model_name": "LayoutModel",
      "state": {
       "visibility": "hidden"
      }
     },
     "fbcac1c8ee77412ab9f916b3a08b7a33": {
      "model_module": "@jupyter-widgets/controls",
      "model_module_version": "2.0.0",
      "model_name": "HTMLModel",
      "state": {
       "layout": "IPY_MODEL_e8ca8bdab86044d2aff9cbeec9cd434c",
       "style": "IPY_MODEL_728eddd8ec044df6896bf7bdb24de84a",
       "value": "Quantizing model.decoder.layers blocks : 100%"
      }
     },
     "fc19935ea5814b70ad2210a4e3eca98c": {
      "model_module": "@jupyter-widgets/controls",
      "model_module_version": "2.0.0",
      "model_name": "HTMLStyleModel",
      "state": {
       "description_width": "",
       "font_size": null,
       "text_color": null
      }
     },
     "fcca2d5730b34aab9935d61944d37e20": {
      "model_module": "@jupyter-widgets/controls",
      "model_module_version": "2.0.0",
      "model_name": "HTMLModel",
      "state": {
       "layout": "IPY_MODEL_7e9cd20880db4fdd943234693403308b",
       "style": "IPY_MODEL_fd1866ee5caa4d2b92f85ba1f5144ab7",
       "value": " 6/6 [02:18&lt;00:00, 29.25s/it]"
      }
     },
     "fcef56c779da4e1ba1acca206b7bf70b": {
      "model_module": "@jupyter-widgets/base",
      "model_module_version": "2.0.0",
      "model_name": "LayoutModel",
      "state": {}
     },
     "fcfc0d74078249faa6b6f58a5702e48d": {
      "model_module": "@jupyter-widgets/controls",
      "model_module_version": "2.0.0",
      "model_name": "FloatProgressModel",
      "state": {
       "layout": "IPY_MODEL_edb5a65d44d242ce910530d70224daf8",
       "max": 6,
       "style": "IPY_MODEL_f9e40abddea143f1ab3bb62404740ce2",
       "value": 6
      }
     },
     "fd1866ee5caa4d2b92f85ba1f5144ab7": {
      "model_module": "@jupyter-widgets/controls",
      "model_module_version": "2.0.0",
      "model_name": "HTMLStyleModel",
      "state": {
       "description_width": "",
       "font_size": null,
       "text_color": null
      }
     },
     "fef7bf9317834f239085496280e05e3f": {
      "model_module": "@jupyter-widgets/controls",
      "model_module_version": "2.0.0",
      "model_name": "HTMLStyleModel",
      "state": {
       "description_width": "",
       "font_size": null,
       "text_color": null
      }
     },
     "ff727dd91a334fc6bf69c93259dac5c3": {
      "model_module": "@jupyter-widgets/controls",
      "model_module_version": "2.0.0",
      "model_name": "HTMLModel",
      "state": {
       "layout": "IPY_MODEL_55899e059b93495080f05d42ff9277d2",
       "style": "IPY_MODEL_2d30cf769fe344e083fe5a922f99a4f8",
       "value": "Quantizing layers inside the block: 100%"
      }
     },
     "ff898a06723b4cb9897ed265a0ae80f5": {
      "model_module": "@jupyter-widgets/base",
      "model_module_version": "2.0.0",
      "model_name": "LayoutModel",
      "state": {}
     }
    },
    "version_major": 2,
    "version_minor": 0
   }
  }
 },
 "nbformat": 4,
 "nbformat_minor": 4
}
