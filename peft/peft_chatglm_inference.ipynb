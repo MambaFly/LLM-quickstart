{
 "cells": [
  {
   "cell_type": "markdown",
   "id": "fc5bde60-1899-461d-8083-3ee04ac7c099",
   "metadata": {},
   "source": [
    "# 模型推理 - 使用 QLoRA 微调后的 ChatGLM3-6B"
   ]
  },
  {
   "cell_type": "code",
   "execution_count": 2,
   "id": "3292b88c-91f0-48d2-91a5-06b0830c7e70",
   "metadata": {
    "execution": {
     "iopub.execute_input": "2024-07-08T06:26:27.887959Z",
     "iopub.status.busy": "2024-07-08T06:26:27.887166Z",
     "iopub.status.idle": "2024-07-08T06:26:27.896477Z",
     "shell.execute_reply": "2024-07-08T06:26:27.894628Z",
     "shell.execute_reply.started": "2024-07-08T06:26:27.887899Z"
    }
   },
   "outputs": [],
   "source": [
    "import torch\n",
    "from transformers import AutoModel, AutoTokenizer, BitsAndBytesConfig\n",
    "from peft import PeftModel, PeftConfig\n",
    "\n",
    "# 定义全局变量和参数\n",
    "# model_name_or_path = 'THUDM/chatglm3-6b'  # 模型ID或本地路径\n",
    "out_model_path = 'chatglm3-6b_QLoRA/'\n",
    "peft_model_path = f\"models/{out_model_path}\"\n"
   ]
  },
  {
   "cell_type": "code",
   "execution_count": 3,
   "id": "9f81454c-24b2-4072-ab05-b25f9b120ae6",
   "metadata": {
    "execution": {
     "iopub.execute_input": "2024-07-08T06:26:29.008666Z",
     "iopub.status.busy": "2024-07-08T06:26:29.008043Z",
     "iopub.status.idle": "2024-07-08T06:26:38.251308Z",
     "shell.execute_reply": "2024-07-08T06:26:38.250707Z",
     "shell.execute_reply.started": "2024-07-08T06:26:29.008612Z"
    }
   },
   "outputs": [
    {
     "data": {
      "application/vnd.jupyter.widget-view+json": {
       "model_id": "40527112758d4766996fa8debe4c52e0",
       "version_major": 2,
       "version_minor": 0
      },
      "text/plain": [
       "Loading checkpoint shards:   0%|          | 0/7 [00:00<?, ?it/s]"
      ]
     },
     "metadata": {},
     "output_type": "display_data"
    },
    {
     "data": {
      "text/plain": [
       "ChatGLMForConditionalGeneration(\n",
       "  (transformer): ChatGLMModel(\n",
       "    (embedding): Embedding(\n",
       "      (word_embeddings): Embedding(65024, 4096)\n",
       "    )\n",
       "    (rotary_pos_emb): RotaryEmbedding()\n",
       "    (encoder): GLMTransformer(\n",
       "      (layers): ModuleList(\n",
       "        (0-27): 28 x GLMBlock(\n",
       "          (input_layernorm): RMSNorm()\n",
       "          (self_attention): SelfAttention(\n",
       "            (query_key_value): Linear4bit(in_features=4096, out_features=4608, bias=True)\n",
       "            (core_attention): CoreAttention(\n",
       "              (attention_dropout): Dropout(p=0.0, inplace=False)\n",
       "            )\n",
       "            (dense): Linear4bit(in_features=4096, out_features=4096, bias=False)\n",
       "          )\n",
       "          (post_attention_layernorm): RMSNorm()\n",
       "          (mlp): MLP(\n",
       "            (dense_h_to_4h): Linear4bit(in_features=4096, out_features=27392, bias=False)\n",
       "            (dense_4h_to_h): Linear4bit(in_features=13696, out_features=4096, bias=False)\n",
       "          )\n",
       "        )\n",
       "      )\n",
       "      (final_layernorm): RMSNorm()\n",
       "    )\n",
       "    (output_layer): Linear(in_features=4096, out_features=65024, bias=False)\n",
       "  )\n",
       ")"
      ]
     },
     "execution_count": 3,
     "metadata": {},
     "output_type": "execute_result"
    }
   ],
   "source": [
    "config = PeftConfig.from_pretrained(peft_model_path)\n",
    "\n",
    "q_config = BitsAndBytesConfig(load_in_4bit=True,\n",
    "                              bnb_4bit_quant_type='nf4',\n",
    "                              bnb_4bit_use_double_quant=True,\n",
    "                              bnb_4bit_compute_dtype=torch.float32)\n",
    "\n",
    "base_model = AutoModel.from_pretrained(config.base_model_name_or_path,\n",
    "                                       quantization_config=q_config,\n",
    "                                       trust_remote_code=True,\n",
    "                                       device_map='auto')\n",
    "base_model.requires_grad_(False)\n",
    "base_model.eval()"
   ]
  },
  {
   "cell_type": "code",
   "execution_count": null,
   "id": "342b3659-d644-4232-8af1-f092e733bf40",
   "metadata": {},
   "outputs": [],
   "source": []
  },
  {
   "cell_type": "markdown",
   "id": "6d23e720-dee1-4b43-a298-0cbe1d8ad11d",
   "metadata": {},
   "source": [
    "## 微调前后效果对比\n",
    "\n",
    "### ChatGLM-6B\n",
    "\n",
    "```\n",
    "输入：\n",
    "\n",
    "类型#裙*版型#显瘦*风格#文艺*风格#简约*图案#印花*图案#撞色*裙下摆#压褶*裙长#连衣裙*裙领型#圆领\n",
    "\n",
    "ChatGLM-6B 微调前输出：\n",
    "\n",
    "* 版型：修身\n",
    "* 显瘦：True\n",
    "* 风格：文艺\n",
    "* 简约：True\n",
    "* 图案：印花\n",
    "* 撞色：True\n",
    "* 裙下摆：直筒或微喇\n",
    "* 裙长：中长裙\n",
    "* 连衣裙：True\n",
    "\n",
    "ChatGLM-6B 微调后输出：\n",
    "\n",
    "一款简约而不简单的连衣裙，采用撞色的印花点缀，打造文艺气息，简约的圆领，修饰脸型。衣袖和裙摆的压褶，增添设计感，修身的版型，勾勒出窈窕的身材曲线。\n",
    "```\n",
    "\n",
    "### ChatGLM2-6B\n",
    "\n",
    "```\n",
    "输入：\n",
    "类型#裙*版型#显瘦*风格#文艺*风格#简约*图案#印花*图案#撞色*裙下摆#压褶*裙长#连衣裙*裙领型#圆领\n",
    "\n",
    "微调前：\n",
    "这款裙子,版型显瘦,采用简约文艺风格,图案为印花和撞色设计,裙下摆为压褶裙摆,裙长为连衣裙,适合各种场合穿着,让你舒适自在。圆领设计,优雅清新,让你在任何场合都充满自信。如果你正在寻找一款舒适、时尚、优雅的裙子,不妨 考虑这款吧!\n",
    "\n",
    "微调后: \n",
    "这款连衣裙简约的设计，撞色印花点缀，丰富了视觉，上身更显时尚。修身的版型，贴合身形，穿着舒适不束缚。圆领的设计，露出精致锁骨，尽显女性优雅气质。下摆压褶的设计，增添立体感，行走间更显飘逸。前短后长的设计，显 得身材比例更加完美。文艺的碎花设计，更显精致。\n",
    "```\n",
    "\n",
    "### ChatGLM3-6B"
   ]
  },
  {
   "cell_type": "code",
   "execution_count": 4,
   "id": "9d7757a4-7d1f-488f-8d80-b73dfa4863d4",
   "metadata": {
    "execution": {
     "iopub.execute_input": "2024-07-08T06:26:48.006480Z",
     "iopub.status.busy": "2024-07-08T06:26:48.005760Z",
     "iopub.status.idle": "2024-07-08T06:26:48.180516Z",
     "shell.execute_reply": "2024-07-08T06:26:48.179914Z",
     "shell.execute_reply.started": "2024-07-08T06:26:48.006419Z"
    }
   },
   "outputs": [
    {
     "name": "stderr",
     "output_type": "stream",
     "text": [
      "Setting eos_token is not supported, use the default one.\n",
      "Setting pad_token is not supported, use the default one.\n",
      "Setting unk_token is not supported, use the default one.\n"
     ]
    },
    {
     "name": "stdout",
     "output_type": "stream",
     "text": [
      "输入：\n",
      "类型#裙*版型#显瘦*风格#文艺*风格#简约*图案#印花*图案#撞色*裙下摆#压褶*裙长#连衣裙*裙领型#圆领\n"
     ]
    }
   ],
   "source": [
    "input_text = '类型#裙*版型#显瘦*风格#文艺*风格#简约*图案#印花*图案#撞色*裙下摆#压褶*裙长#连衣裙*裙领型#圆领'\n",
    "print(f'输入：\\n{input_text}')\n",
    "tokenizer = AutoTokenizer.from_pretrained(config.base_model_name_or_path, trust_remote_code=True)"
   ]
  },
  {
   "cell_type": "markdown",
   "id": "9ab69799-fad9-43a4-8960-42ae4b6a8faa",
   "metadata": {},
   "source": [
    "### 使用0.4个epoch(~40k条样本数据)微调前后对比"
   ]
  },
  {
   "cell_type": "code",
   "execution_count": 5,
   "id": "2d30fce1-e01f-4303-aa55-ed004eaa22a8",
   "metadata": {
    "execution": {
     "iopub.execute_input": "2024-07-08T06:26:50.175747Z",
     "iopub.status.busy": "2024-07-08T06:26:50.175117Z",
     "iopub.status.idle": "2024-07-08T06:27:01.334903Z",
     "shell.execute_reply": "2024-07-08T06:27:01.334145Z",
     "shell.execute_reply.started": "2024-07-08T06:26:50.175696Z"
    }
   },
   "outputs": [
    {
     "name": "stderr",
     "output_type": "stream",
     "text": [
      "/data/zlhu/miniconda3/envs/peft/lib/python3.10/site-packages/bitsandbytes/nn/modules.py:226: UserWarning: Input type into Linear4bit is torch.float16, but bnb_4bit_compute_dtype=torch.float32 (default). This will lead to slow inference or training speed.\n",
      "  warnings.warn(f'Input type into Linear4bit is torch.float16, but bnb_4bit_compute_dtype=torch.float32 (default). This will lead to slow inference or training speed.')\n"
     ]
    },
    {
     "name": "stdout",
     "output_type": "stream",
     "text": [
      "ChatGLM3-6B 微调前：\n",
      "这款连衣裙以其文艺风格和简约设计吸引了我的注意。它采用了印花图案和撞色设计，让整个裙子显得非常有活力。压褶的裙下摆增加了裙子的层次感和飘逸感，而裙长则恰如其分地展现了女性的优雅。圆领的设计使得连衣裙的领口更加精致，展现出一种高贵优雅的气质。\n",
      "\n",
      "这款连衣裙的版型设计非常显瘦，无论是穿着在身上还是站在那里，都能展现出女性身材的优美曲线。它不仅适合各种场合，还能搭配出各种不同的风格。无论是去上班还是约会，这款连衣裙都能为你增添自信和美丽。\n",
      "\n",
      "总的来说，这款连衣裙不仅具有文艺和简约的风格，还采用了印花图案和撞色设计，增加了整体的时尚感。而压褶的裙下摆和圆领的设计则提升了裙子的品质感，使得整款连衣裙更加优雅精致。无论是从哪个角度看，这款连衣裙都能展现出女性的高贵优雅的气质。\n"
     ]
    }
   ],
   "source": [
    "response, history = base_model.chat(tokenizer=tokenizer, query=input_text)\n",
    "print(f'ChatGLM3-6B 微调前：\\n{response}')"
   ]
  },
  {
   "cell_type": "code",
   "execution_count": 6,
   "id": "38b5a770-baef-4697-bb71-6088e3a43d59",
   "metadata": {
    "execution": {
     "iopub.execute_input": "2024-07-08T06:27:04.887411Z",
     "iopub.status.busy": "2024-07-08T06:27:04.886804Z",
     "iopub.status.idle": "2024-07-08T06:27:09.255500Z",
     "shell.execute_reply": "2024-07-08T06:27:09.254779Z",
     "shell.execute_reply.started": "2024-07-08T06:27:04.887360Z"
    }
   },
   "outputs": [
    {
     "name": "stdout",
     "output_type": "stream",
     "text": [
      "ChatGLM3-6B 微调后: \n",
      "连衣裙是很多女性日常出门搭配的单品，简约而时尚的圆领设计，修饰出迷人的脖颈曲线，轻松凸显出优雅的气质。撞色的印花图案，丰富了整体的视觉效果，尽显文艺气质。简约而时尚的压褶裙摆，轻松展现出女性曼妙的身材曲线，尽显柔美气质。修身而合体的版型，上身效果更加出众，尽显女性迷人的身姿。\n"
     ]
    }
   ],
   "source": [
    "model = PeftModel.from_pretrained(base_model, peft_model_path)\n",
    "response, history = model.chat(tokenizer=tokenizer, query=input_text)\n",
    "print(f'ChatGLM3-6B 微调后: \\n{response}')"
   ]
  },
  {
   "attachments": {},
   "cell_type": "markdown",
   "id": "ee2902b1-e81f-4ee8-b36a-e52132652f0d",
   "metadata": {},
   "source": []
  },
  {
   "cell_type": "markdown",
   "id": "f2bc67d6-d1bd-462c-b6b2-b2cd9cce2666",
   "metadata": {
    "execution": {
     "iopub.execute_input": "2024-07-08T06:32:48.491547Z",
     "iopub.status.busy": "2024-07-08T06:32:48.490920Z",
     "iopub.status.idle": "2024-07-08T06:32:49.026558Z",
     "shell.execute_reply": "2024-07-08T06:32:49.024720Z",
     "shell.execute_reply.started": "2024-07-08T06:32:48.491491Z"
    }
   },
   "source": [
    "### 使用0.1个epoch微调前后对比，明显数据量不够导致效果不尽如人意"
   ]
  },
  {
   "attachments": {
    "9fce63d2-57f9-4599-89c6-05b22c760810.png": {
     "image/png": "[encoded data removed]"
    }
   },
   "cell_type": "markdown",
   "id": "f061dc6a-99ad-49e8-be69-57199638fb7d",
   "metadata": {},
   "source": [
    "![7c1d7a86a78394be036a30eeda3f80b.png](attachment:9fce63d2-57f9-4599-89c6-05b22c760810.png)"
   ]
  }
 ],
 "metadata": {
  "kernelspec": {
   "display_name": "peft",
   "language": "python",
   "name": "peft"
  },
  "language_info": {
   "codemirror_mode": {
    "name": "ipython",
    "version": 3
   },
   "file_extension": ".py",
   "mimetype": "text/x-python",
   "name": "python",
   "nbconvert_exporter": "python",
   "pygments_lexer": "ipython3",
   "version": "3.10.14"
  },
  "widgets": {
   "application/vnd.jupyter.widget-state+json": {
    "state": {
     "0698cc31e1d0470ba336bd6e1f86a7a1": {
      "model_module": "@jupyter-widgets/controls",
      "model_module_version": "2.0.0",
      "model_name": "HTMLModel",
      "state": {
       "layout": "IPY_MODEL_b51e39ed17cb4d1380ca7e08b45680cd",
       "style": "IPY_MODEL_3877b4d6ee12484eb9a04051dd876f3f",
       "value": "Loading checkpoint shards: 100%"
      }
     },
     "08c370e439354d958d188be74ff74771": {
      "model_module": "@jupyter-widgets/controls",
      "model_module_version": "2.0.0",
      "model_name": "ProgressStyleModel",
      "state": {
       "description_width": ""
      }
     },
     "28401d586e274c979ada01b544dcebcf": {
      "model_module": "@jupyter-widgets/controls",
      "model_module_version": "2.0.0",
      "model_name": "FloatProgressModel",
      "state": {
       "bar_style": "success",
       "layout": "IPY_MODEL_c0bd83cd7eed4b2f81f29680dbb1d86e",
       "max": 7,
       "style": "IPY_MODEL_08c370e439354d958d188be74ff74771",
       "value": 7
      }
     },
     "3877b4d6ee12484eb9a04051dd876f3f": {
      "model_module": "@jupyter-widgets/controls",
      "model_module_version": "2.0.0",
      "model_name": "HTMLStyleModel",
      "state": {
       "description_width": "",
       "font_size": null,
       "text_color": null
      }
     },
     "40527112758d4766996fa8debe4c52e0": {
      "model_module": "@jupyter-widgets/controls",
      "model_module_version": "2.0.0",
      "model_name": "HBoxModel",
      "state": {
       "children": [
        "IPY_MODEL_0698cc31e1d0470ba336bd6e1f86a7a1",
        "IPY_MODEL_28401d586e274c979ada01b544dcebcf",
        "IPY_MODEL_a899d9321427407995ae42bab1493180"
       ],
       "layout": "IPY_MODEL_9e3158038f5a48efb7eac58dd673c589"
      }
     },
     "9e3158038f5a48efb7eac58dd673c589": {
      "model_module": "@jupyter-widgets/base",
      "model_module_version": "2.0.0",
      "model_name": "LayoutModel",
      "state": {}
     },
     "a899d9321427407995ae42bab1493180": {
      "model_module": "@jupyter-widgets/controls",
      "model_module_version": "2.0.0",
      "model_name": "HTMLModel",
      "state": {
       "layout": "IPY_MODEL_f7f8e0eb365f4461a672470df8217aae",
       "style": "IPY_MODEL_aca9b0ba75584ea5b0473b75b1f7cc88",
       "value": " 7/7 [00:06&lt;00:00,  1.24it/s]"
      }
     },
     "aca9b0ba75584ea5b0473b75b1f7cc88": {
      "model_module": "@jupyter-widgets/controls",
      "model_module_version": "2.0.0",
      "model_name": "HTMLStyleModel",
      "state": {
       "description_width": "",
       "font_size": null,
       "text_color": null
      }
     },
     "b51e39ed17cb4d1380ca7e08b45680cd": {
      "model_module": "@jupyter-widgets/base",
      "model_module_version": "2.0.0",
      "model_name": "LayoutModel",
      "state": {}
     },
     "c0bd83cd7eed4b2f81f29680dbb1d86e": {
      "model_module": "@jupyter-widgets/base",
      "model_module_version": "2.0.0",
      "model_name": "LayoutModel",
      "state": {}
     },
     "f7f8e0eb365f4461a672470df8217aae": {
      "model_module": "@jupyter-widgets/base",
      "model_module_version": "2.0.0",
      "model_name": "LayoutModel",
      "state": {}
     }
    },
    "version_major": 2,
    "version_minor": 0
   }
  }
 },
 "nbformat": 4,
 "nbformat_minor": 5
}
